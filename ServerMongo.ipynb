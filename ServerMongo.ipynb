{
 "cells": [
  {
   "cell_type": "code",
   "execution_count": null,
   "id": "initial_id",
   "metadata": {
    "collapsed": true
   },
   "outputs": [],
   "source": []
  },
  {
   "cell_type": "code",
   "execution_count": 1,
   "id": "677760d8e5996cf7",
   "metadata": {
    "ExecuteTime": {
     "end_time": "2025-06-23T11:00:03.906162Z",
     "start_time": "2025-06-23T11:00:01.736452Z"
    }
   },
   "outputs": [
    {
     "name": "stdout",
     "output_type": "stream",
     "text": [
      "✅ مجلد قاعدة البيانات موجود: C:\\data\\db\n",
      "🚀 بدء تشغيل MongoDB ...\n",
      "⏳ في انتظار تشغيل MongoDB ...\n",
      "✅ MongoDB شغّال الآن على localhost:27017\n",
      "✨ يمكنك الآن استخدام MongoDB في مشروعك.\n"
     ]
    }
   ],
   "source": [
    "import os\n",
    "import subprocess\n",
    "import time\n",
    "import socket\n",
    "\n",
    "# المسار الكامل للـ mongod.exe\n",
    "MONGOD_PATH = r\"C:\\Program Files\\MongoDB\\Server\\8.0\\bin\\mongod.exe\"\n",
    "\n",
    "# المسار الذي سيخزن فيه MongoDB بياناته\n",
    "DB_PATH = r\"C:\\data\\db\"\n",
    "\n",
    "# المنفذ الذي يستخدمه MongoDB\n",
    "MONGO_PORT = 27017\n",
    "\n",
    "\n",
    "def is_mongodb_running(host=\"localhost\", port=27017, timeout=2):\n",
    "    try:\n",
    "        with socket.create_connection((host, port), timeout=timeout):\n",
    "            return True\n",
    "    except (socket.timeout, ConnectionRefusedError):\n",
    "        return False\n",
    "\n",
    "\n",
    "def ensure_db_path():\n",
    "    if not os.path.exists(DB_PATH):\n",
    "        print(f\"📁 إنشاء مجلد قاعدة البيانات: {DB_PATH}\")\n",
    "        os.makedirs(DB_PATH)\n",
    "    else:\n",
    "        print(f\"✅ مجلد قاعدة البيانات موجود: {DB_PATH}\")\n",
    "\n",
    "\n",
    "def start_mongodb():\n",
    "    print(\"🚀 بدء تشغيل MongoDB ...\")\n",
    "    process = subprocess.Popen(\n",
    "        [MONGOD_PATH, f\"--dbpath={DB_PATH}\"],\n",
    "        stdout=subprocess.DEVNULL,\n",
    "        stderr=subprocess.DEVNULL\n",
    "    )\n",
    "    return process\n",
    "\n",
    "\n",
    "def wait_for_mongodb(timeout=10):\n",
    "    print(\"⏳ في انتظار تشغيل MongoDB ...\")\n",
    "    for _ in range(timeout * 2):\n",
    "        if is_mongodb_running(port=MONGO_PORT):\n",
    "            print(\"✅ MongoDB شغّال الآن على localhost:27017\")\n",
    "            return True\n",
    "        time.sleep(0.5)\n",
    "    print(\"❌ تعذر تشغيل MongoDB. تحقق يدويًا من التشغيل.\")\n",
    "    return False\n",
    "\n",
    "\n",
    "def main():\n",
    "    ensure_db_path()\n",
    "    mongo_process = start_mongodb()\n",
    "    success = wait_for_mongodb()\n",
    "\n",
    "    if success:\n",
    "        print(\"✨ يمكنك الآن استخدام MongoDB في مشروعك.\")\n",
    "    else:\n",
    "        mongo_process.terminate()\n",
    "        print(\"🛑 تم إيقاف المحاولة. راجع الإعدادات أو تحقق من المسارات.\")\n",
    "\n",
    "if __name__ == \"__main__\":\n",
    "    main()\n"
   ]
  }
 ],
 "metadata": {
  "kernelspec": {
   "display_name": "venv",
   "language": "python",
   "name": "python3"
  },
  "language_info": {
   "codemirror_mode": {
    "name": "ipython",
    "version": 3
   },
   "file_extension": ".py",
   "mimetype": "text/x-python",
   "name": "python",
   "nbconvert_exporter": "python",
   "pygments_lexer": "ipython3",
   "version": "3.12.1"
  }
 },
 "nbformat": 4,
 "nbformat_minor": 5
}
