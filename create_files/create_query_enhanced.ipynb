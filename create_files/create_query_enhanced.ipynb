{
 "cells": [
  {
   "cell_type": "code",
   "execution_count": 4,
   "id": "dc21d115",
   "metadata": {},
   "outputs": [
    {
     "name": "stdout",
     "output_type": "stream",
     "text": [
      "Loaded first 1000 queries from: data\\beir\\queries_beir.csv\n"
     ]
    },
    {
     "name": "stderr",
     "output_type": "stream",
     "text": [
      "معالجة الاستعلامات:   0%|          | 1/1000 [00:04<1:16:08,  4.57s/استعلام]"
     ]
    },
    {
     "name": "stdout",
     "output_type": "stream",
     "text": [
      "Total documents in doc_data: 522931\n",
      "Sample doc_ids: ['1', '2', '3', '4', '5']\n",
      "Top indices: [263218  61789 182493  51977  18681]\n",
      "Additional words from top 5 documents: write\n",
      "🔍 Enhanced Query: Which question should I ask on Quora? write\n"
     ]
    },
    {
     "name": "stderr",
     "output_type": "stream",
     "text": [
      "معالجة الاستعلامات:   0%|          | 2/1000 [00:08<1:13:24,  4.41s/استعلام]"
     ]
    },
    {
     "name": "stdout",
     "output_type": "stream",
     "text": [
      "Total documents in doc_data: 522931\n",
      "Sample doc_ids: ['1', '2', '3', '4', '5']\n",
      "Top indices: [ 66647 311735 250612 250613 422455]\n",
      "Additional words from top 5 documents: nightmares dream avoid\n",
      "🔍 Enhanced Query: What causes a nightmare? nightmares dream avoid\n"
     ]
    },
    {
     "name": "stderr",
     "output_type": "stream",
     "text": [
      "معالجة الاستعلامات:   0%|          | 3/1000 [00:13<1:11:29,  4.30s/استعلام]"
     ]
    },
    {
     "name": "stdout",
     "output_type": "stream",
     "text": [
      "Total documents in doc_data: 522931\n",
      "Sample doc_ids: ['1', '2', '3', '4', '5']\n",
      "Top indices: [347850 259349 259350 396129 396128]\n",
      "Additional words from top 5 documents: greed good bad\n",
      "🔍 Enhanced Query: Does it matter whether humans are selfish or evil? greed good bad\n"
     ]
    },
    {
     "name": "stderr",
     "output_type": "stream",
     "text": [
      "معالجة الاستعلامات:   0%|          | 4/1000 [00:17<1:10:56,  4.27s/استعلام]"
     ]
    },
    {
     "name": "stdout",
     "output_type": "stream",
     "text": [
      "Total documents in doc_data: 522931\n",
      "Sample doc_ids: ['1', '2', '3', '4', '5']\n",
      "Top indices: [238740  69472  69043 357402 374538]\n",
      "Additional words from top 5 documents: know video avoid claim\n",
      "🔍 Enhanced Query: If I do not monetize YouTube videos & upload copyright content, then are there chances that Google may block my account? know video avoid claim\n"
     ]
    },
    {
     "name": "stderr",
     "output_type": "stream",
     "text": [
      "معالجة الاستعلامات:   0%|          | 5/1000 [00:21<1:10:26,  4.25s/استعلام]"
     ]
    },
    {
     "name": "stdout",
     "output_type": "stream",
     "text": [
      "Total documents in doc_data: 522931\n",
      "Sample doc_ids: ['1', '2', '3', '4', '5']\n",
      "Top indices: [331435 331212  24961 436626 123330]\n",
      "Additional words from top 5 documents: passionate love\n",
      "🔍 Enhanced Query: Do animals kiss? passionate love\n"
     ]
    },
    {
     "name": "stderr",
     "output_type": "stream",
     "text": [
      "معالجة الاستعلامات:   1%|          | 6/1000 [00:25<1:09:53,  4.22s/استعلام]"
     ]
    },
    {
     "name": "stdout",
     "output_type": "stream",
     "text": [
      "Total documents in doc_data: 522931\n",
      "Sample doc_ids: ['1', '2', '3', '4', '5']\n",
      "Top indices: [   482 278550 345611  31233 163798]\n",
      "Additional words from top 5 documents: bloombergs competitors sell data\n",
      "🔍 Enhanced Query: Who is disrupting Bloomberg? bloombergs competitors sell data\n"
     ]
    },
    {
     "name": "stderr",
     "output_type": "stream",
     "text": [
      "معالجة الاستعلامات:   1%|          | 7/1000 [00:29<1:07:57,  4.11s/استعلام]"
     ]
    },
    {
     "name": "stdout",
     "output_type": "stream",
     "text": [
      "Total documents in doc_data: 522931\n",
      "Sample doc_ids: ['1', '2', '3', '4', '5']\n",
      "Top indices: [518988 234926 435395 272360 290742]\n",
      "Additional words from top 5 documents: supporters media\n",
      "🔍 Enhanced Query: What do you people think of Mr. Arvind Kejriwal and his AAP? supporters media\n"
     ]
    },
    {
     "name": "stderr",
     "output_type": "stream",
     "text": [
      "معالجة الاستعلامات:   1%|          | 8/1000 [00:33<1:05:14,  3.95s/استعلام]"
     ]
    },
    {
     "name": "stdout",
     "output_type": "stream",
     "text": [
      "Total documents in doc_data: 522931\n",
      "Sample doc_ids: ['1', '2', '3', '4', '5']\n",
      "Top indices: [301309 312543  31632  31631    591]\n",
      "Additional words from top 5 documents: \n",
      "No new words to add to query for beir\n"
     ]
    },
    {
     "name": "stderr",
     "output_type": "stream",
     "text": [
      "معالجة الاستعلامات:   1%|          | 9/1000 [00:36<1:03:36,  3.85s/استعلام]"
     ]
    },
    {
     "name": "stdout",
     "output_type": "stream",
     "text": [
      "Total documents in doc_data: 522931\n",
      "Sample doc_ids: ['1', '2', '3', '4', '5']\n",
      "Top indices: [  1381 284727 210367 211316 132696]\n",
      "Additional words from top 5 documents: qualifications fbi cia agent\n",
      "🔍 Enhanced Query: What jobs are available with a bachelor’s degree in Homeland Security? qualifications fbi cia agent\n"
     ]
    },
    {
     "name": "stderr",
     "output_type": "stream",
     "text": [
      "معالجة الاستعلامات:   1%|          | 10/1000 [00:40<1:01:39,  3.74s/استعلام]"
     ]
    },
    {
     "name": "stdout",
     "output_type": "stream",
     "text": [
      "Total documents in doc_data: 522931\n",
      "Sample doc_ids: ['1', '2', '3', '4', '5']\n",
      "Top indices: [290110 515245 160752 371496 329017]\n",
      "Additional words from top 5 documents: differential online free course\n",
      "🔍 Enhanced Query: Which are the best books to understand calculus? differential online free course\n"
     ]
    },
    {
     "name": "stderr",
     "output_type": "stream",
     "text": [
      "معالجة الاستعلامات:   1%|          | 11/1000 [00:43<1:00:17,  3.66s/استعلام]"
     ]
    },
    {
     "name": "stdout",
     "output_type": "stream",
     "text": [
      "Total documents in doc_data: 522931\n",
      "Sample doc_ids: ['1', '2', '3', '4', '5']\n",
      "Top indices: [30542 81250   619  5357 11462]\n",
      "Additional words from top 5 documents: online development\n",
      "🔍 Enhanced Query: How can I learn about web design? online development\n"
     ]
    },
    {
     "name": "stderr",
     "output_type": "stream",
     "text": [
      "معالجة الاستعلامات:   1%|          | 12/1000 [00:47<59:00,  3.58s/استعلام]  "
     ]
    },
    {
     "name": "stdout",
     "output_type": "stream",
     "text": [
      "Total documents in doc_data: 522931\n",
      "Sample doc_ids: ['1', '2', '3', '4', '5']\n",
      "Top indices: [   661 414035 100057 414036 283170]\n",
      "Additional words from top 5 documents: home prepare myths earthquakes\n",
      "🔍 Enhanced Query: How do earthquake resistant buildings work? home prepare myths earthquakes\n"
     ]
    },
    {
     "name": "stderr",
     "output_type": "stream",
     "text": [
      "معالجة الاستعلامات:   1%|▏         | 13/1000 [00:50<57:55,  3.52s/استعلام]"
     ]
    },
    {
     "name": "stdout",
     "output_type": "stream",
     "text": [
      "Total documents in doc_data: 522931\n",
      "Sample doc_ids: ['1', '2', '3', '4', '5']\n",
      "Top indices: [134549 257933 331368 182795 342690]\n",
      "Additional words from top 5 documents: best speakers presenter system\n",
      "🔍 Enhanced Query: What should I do to be a good Speaker? best speakers presenter system\n"
     ]
    },
    {
     "name": "stderr",
     "output_type": "stream",
     "text": [
      "معالجة الاستعلامات:   1%|▏         | 14/1000 [00:53<57:35,  3.50s/استعلام]"
     ]
    },
    {
     "name": "stdout",
     "output_type": "stream",
     "text": [
      "Total documents in doc_data: 522931\n",
      "Sample doc_ids: ['1', '2', '3', '4', '5']\n",
      "Top indices: [244298  39752 402986   7508  28997]\n",
      "Additional words from top 5 documents: mindfulness\n",
      "🔍 Enhanced Query: How can I maintain my peace of mind? mindfulness\n"
     ]
    },
    {
     "name": "stderr",
     "output_type": "stream",
     "text": [
      "معالجة الاستعلامات:   2%|▏         | 15/1000 [00:57<56:58,  3.47s/استعلام]"
     ]
    },
    {
     "name": "stdout",
     "output_type": "stream",
     "text": [
      "Total documents in doc_data: 522931\n",
      "Sample doc_ids: ['1', '2', '3', '4', '5']\n",
      "Top indices: [152708 123246 192498 123247 224696]\n",
      "Additional words from top 5 documents: \n",
      "No new words to add to query for beir\n"
     ]
    },
    {
     "name": "stderr",
     "output_type": "stream",
     "text": [
      "معالجة الاستعلامات:   2%|▏         | 16/1000 [01:00<56:31,  3.45s/استعلام]"
     ]
    },
    {
     "name": "stdout",
     "output_type": "stream",
     "text": [
      "Total documents in doc_data: 522931\n",
      "Sample doc_ids: ['1', '2', '3', '4', '5']\n",
      "Top indices: [346113 282107 522020 135288 380179]\n",
      "Additional words from top 5 documents: bad coke true amphetamines\n",
      "🔍 Enhanced Query: Are there any strong indications that Donald Trump does cocaine? bad coke true amphetamines\n"
     ]
    },
    {
     "name": "stderr",
     "output_type": "stream",
     "text": [
      "معالجة الاستعلامات:   2%|▏         | 17/1000 [01:04<55:52,  3.41s/استعلام]"
     ]
    },
    {
     "name": "stdout",
     "output_type": "stream",
     "text": [
      "Total documents in doc_data: 522931\n",
      "Sample doc_ids: ['1', '2', '3', '4', '5']\n",
      "Top indices: [   813 384211 438044 387028 392960]\n",
      "Additional words from top 5 documents: things\n",
      "🔍 Enhanced Query: What's your bucket list? things\n"
     ]
    },
    {
     "name": "stderr",
     "output_type": "stream",
     "text": [
      "معالجة الاستعلامات:   2%|▏         | 18/1000 [01:07<55:21,  3.38s/استعلام]"
     ]
    },
    {
     "name": "stdout",
     "output_type": "stream",
     "text": [
      "Total documents in doc_data: 522931\n",
      "Sample doc_ids: ['1', '2', '3', '4', '5']\n",
      "Top indices: [429799  16150 254255  59698 254256]\n",
      "Additional words from top 5 documents: apply scholarships graduate school\n",
      "🔍 Enhanced Query: How can I join MIT? apply scholarships graduate school\n"
     ]
    },
    {
     "name": "stderr",
     "output_type": "stream",
     "text": [
      "معالجة الاستعلامات:   2%|▏         | 19/1000 [01:10<55:07,  3.37s/استعلام]"
     ]
    },
    {
     "name": "stdout",
     "output_type": "stream",
     "text": [
      "Total documents in doc_data: 522931\n",
      "Sample doc_ids: ['1', '2', '3', '4', '5']\n",
      "Top indices: [   934 325718  38610 444842 243336]\n",
      "Additional words from top 5 documents: license plate legal uniform\n",
      "🔍 Enhanced Query: Why are police lights red and/or blue? license plate legal uniform\n"
     ]
    },
    {
     "name": "stderr",
     "output_type": "stream",
     "text": [
      "معالجة الاستعلامات:   2%|▏         | 20/1000 [01:14<54:40,  3.35s/استعلام]"
     ]
    },
    {
     "name": "stdout",
     "output_type": "stream",
     "text": [
      "Total documents in doc_data: 522931\n",
      "Sample doc_ids: ['1', '2', '3', '4', '5']\n",
      "Top indices: [195861 354493 250203 246999 250204]\n",
      "Additional words from top 5 documents: device already bootloaders samsung\n",
      "🔍 Enhanced Query: Is it necessary to unlock bootloader before rooting Android phones? device already bootloaders samsung\n"
     ]
    },
    {
     "name": "stderr",
     "output_type": "stream",
     "text": [
      "معالجة الاستعلامات:   2%|▏         | 21/1000 [01:17<54:29,  3.34s/استعلام]"
     ]
    },
    {
     "name": "stdout",
     "output_type": "stream",
     "text": [
      "Total documents in doc_data: 522931\n",
      "Sample doc_ids: ['1', '2', '3', '4', '5']\n",
      "Top indices: [465295  96007  62095   2146  96008]\n",
      "Additional words from top 5 documents: iphone\n",
      "🔍 Enhanced Query: How can I hack another WhatsApp account? iphone\n"
     ]
    },
    {
     "name": "stderr",
     "output_type": "stream",
     "text": [
      "معالجة الاستعلامات:   2%|▏         | 22/1000 [01:20<54:07,  3.32s/استعلام]"
     ]
    },
    {
     "name": "stdout",
     "output_type": "stream",
     "text": [
      "Total documents in doc_data: 522931\n",
      "Sample doc_ids: ['1', '2', '3', '4', '5']\n",
      "Top indices: [368627   5778 227163 244649 244650]\n",
      "Additional words from top 5 documents: diet 5lbs weeks lbs\n",
      "🔍 Enhanced Query: How much weight will I lose by not eating for a week? diet 5lbs weeks lbs\n"
     ]
    },
    {
     "name": "stderr",
     "output_type": "stream",
     "text": [
      "معالجة الاستعلامات:   2%|▏         | 23/1000 [01:23<53:43,  3.30s/استعلام]"
     ]
    },
    {
     "name": "stdout",
     "output_type": "stream",
     "text": [
      "Total documents in doc_data: 522931\n",
      "Sample doc_ids: ['1', '2', '3', '4', '5']\n",
      "Top indices: [  1107 409153 323335 348243 474863]\n",
      "Additional words from top 5 documents: orgasm ejaculation male females\n",
      "🔍 Enhanced Query: What is the difference between sex and masturbation when it comes to pleasure? orgasm ejaculation male females\n"
     ]
    },
    {
     "name": "stderr",
     "output_type": "stream",
     "text": [
      "معالجة الاستعلامات:   2%|▏         | 24/1000 [01:27<53:43,  3.30s/استعلام]"
     ]
    },
    {
     "name": "stdout",
     "output_type": "stream",
     "text": [
      "Total documents in doc_data: 522931\n",
      "Sample doc_ids: ['1', '2', '3', '4', '5']\n",
      "Top indices: [518088  80686 201343 438285 320342]\n",
      "Additional words from top 5 documents: model panel company manufacture\n",
      "🔍 Enhanced Query: How do I start solar energy business? model panel company manufacture\n"
     ]
    },
    {
     "name": "stderr",
     "output_type": "stream",
     "text": [
      "معالجة الاستعلامات:   2%|▎         | 25/1000 [01:30<54:27,  3.35s/استعلام]"
     ]
    },
    {
     "name": "stdout",
     "output_type": "stream",
     "text": [
      "Total documents in doc_data: 522931\n",
      "Sample doc_ids: ['1', '2', '3', '4', '5']\n",
      "Top indices: [ 81315 212113 175403 482719 175404]\n",
      "Additional words from top 5 documents: help terrorists really many\n",
      "🔍 Enhanced Query: What is the reason Pakistan supports terrorism? help terrorists really many\n"
     ]
    },
    {
     "name": "stderr",
     "output_type": "stream",
     "text": [
      "معالجة الاستعلامات:   3%|▎         | 26/1000 [01:34<55:06,  3.40s/استعلام]"
     ]
    },
    {
     "name": "stdout",
     "output_type": "stream",
     "text": [
      "Total documents in doc_data: 522931\n",
      "Sample doc_ids: ['1', '2', '3', '4', '5']\n",
      "Top indices: [176999 338443 179398 477561 471680]\n",
      "Additional words from top 5 documents: favorite beethoven symphony men\n",
      "🔍 Enhanced Query: In your opinion, what is the best classical song of all time? favorite beethoven symphony men\n"
     ]
    },
    {
     "name": "stderr",
     "output_type": "stream",
     "text": [
      "معالجة الاستعلامات:   3%|▎         | 27/1000 [01:37<54:35,  3.37s/استعلام]"
     ]
    },
    {
     "name": "stdout",
     "output_type": "stream",
     "text": [
      "Total documents in doc_data: 522931\n",
      "Sample doc_ids: ['1', '2', '3', '4', '5']\n",
      "Top indices: [  1206 490534 495326 208433 208432]\n",
      "Additional words from top 5 documents: senegal host dakar like\n",
      "🔍 Enhanced Query: How are the conditions inside European Refugee Camps? senegal host dakar like\n"
     ]
    },
    {
     "name": "stderr",
     "output_type": "stream",
     "text": [
      "معالجة الاستعلامات:   3%|▎         | 28/1000 [01:40<54:28,  3.36s/استعلام]"
     ]
    },
    {
     "name": "stdout",
     "output_type": "stream",
     "text": [
      "Total documents in doc_data: 522931\n",
      "Sample doc_ids: ['1', '2', '3', '4', '5']\n",
      "Top indices: [  1258 367273 113845 277960 349427]\n",
      "Additional words from top 5 documents: allow compulsory hindus think\n",
      "🔍 Enhanced Query: Is (male) circumcision required in Islam? allow compulsory hindus think\n"
     ]
    },
    {
     "name": "stderr",
     "output_type": "stream",
     "text": [
      "معالجة الاستعلامات:   3%|▎         | 29/1000 [01:44<54:55,  3.39s/استعلام]"
     ]
    },
    {
     "name": "stdout",
     "output_type": "stream",
     "text": [
      "Total documents in doc_data: 522931\n",
      "Sample doc_ids: ['1', '2', '3', '4', '5']\n",
      "Top indices: [205056  25080 366334 325249 328093]\n",
      "Additional words from top 5 documents: best booths provide hire\n",
      "🔍 Enhanced Query: Where can I get super high quality photos for any photo booth services in Sydney? best booths provide hire\n"
     ]
    },
    {
     "name": "stderr",
     "output_type": "stream",
     "text": [
      "معالجة الاستعلامات:   3%|▎         | 30/1000 [01:47<55:41,  3.44s/استعلام]"
     ]
    },
    {
     "name": "stdout",
     "output_type": "stream",
     "text": [
      "Total documents in doc_data: 522931\n",
      "Sample doc_ids: ['1', '2', '3', '4', '5']\n",
      "Top indices: [265083   1284 265084  70850 185722]\n",
      "Additional words from top 5 documents: examples ferment byproducts make\n",
      "🔍 Enhanced Query: What is fermentation? What are some products of fermentation? examples ferment byproducts make\n"
     ]
    },
    {
     "name": "stderr",
     "output_type": "stream",
     "text": [
      "معالجة الاستعلامات:   3%|▎         | 31/1000 [01:51<56:10,  3.48s/استعلام]"
     ]
    },
    {
     "name": "stdout",
     "output_type": "stream",
     "text": [
      "Total documents in doc_data: 522931\n",
      "Sample doc_ids: ['1', '2', '3', '4', '5']\n",
      "Top indices: [379697 234703  31617 262987 270715]\n",
      "Additional words from top 5 documents: importance\n",
      "🔍 Enhanced Query: What is most important in life - money or values? importance\n"
     ]
    },
    {
     "name": "stderr",
     "output_type": "stream",
     "text": [
      "معالجة الاستعلامات:   3%|▎         | 32/1000 [01:54<56:25,  3.50s/استعلام]"
     ]
    },
    {
     "name": "stdout",
     "output_type": "stream",
     "text": [
      "Total documents in doc_data: 522931\n",
      "Sample doc_ids: ['1', '2', '3', '4', '5']\n",
      "Top indices: [  1412  95715 424868 327944  95714]\n",
      "Additional words from top 5 documents: hackers india programmer 1337\n",
      "🔍 Enhanced Query: Who is best Indian hacker? hackers india programmer 1337\n"
     ]
    },
    {
     "name": "stderr",
     "output_type": "stream",
     "text": [
      "معالجة الاستعلامات:   3%|▎         | 33/1000 [01:58<56:03,  3.48s/استعلام]"
     ]
    },
    {
     "name": "stdout",
     "output_type": "stream",
     "text": [
      "Total documents in doc_data: 522931\n",
      "Sample doc_ids: ['1', '2', '3', '4', '5']\n",
      "Top indices: [129474  63611 188036 140248  68568]\n",
      "Additional words from top 5 documents: \n",
      "No new words to add to query for beir\n"
     ]
    },
    {
     "name": "stderr",
     "output_type": "stream",
     "text": [
      "معالجة الاستعلامات:   3%|▎         | 34/1000 [02:01<55:34,  3.45s/استعلام]"
     ]
    },
    {
     "name": "stdout",
     "output_type": "stream",
     "text": [
      "Total documents in doc_data: 522931\n",
      "Sample doc_ids: ['1', '2', '3', '4', '5']\n",
      "Top indices: [157009   1512 261135 397391 104543]\n",
      "Additional words from top 5 documents: elections presidency could donald\n",
      "🔍 Enhanced Query: Is there a big chance that Trump will win the election? elections presidency could donald\n"
     ]
    },
    {
     "name": "stderr",
     "output_type": "stream",
     "text": [
      "معالجة الاستعلامات:   4%|▎         | 35/1000 [02:05<55:15,  3.44s/استعلام]"
     ]
    },
    {
     "name": "stdout",
     "output_type": "stream",
     "text": [
      "Total documents in doc_data: 522931\n",
      "Sample doc_ids: ['1', '2', '3', '4', '5']\n",
      "Top indices: [  1515 321857 348377 204210 305110]\n",
      "Additional words from top 5 documents: alia bhatt famous aishwarya\n",
      "🔍 Enhanced Query: How can I meet Suresh Raina? alia bhatt famous aishwarya\n"
     ]
    },
    {
     "name": "stderr",
     "output_type": "stream",
     "text": [
      "معالجة الاستعلامات:   4%|▎         | 36/1000 [02:08<54:52,  3.42s/استعلام]"
     ]
    },
    {
     "name": "stdout",
     "output_type": "stream",
     "text": [
      "Total documents in doc_data: 522931\n",
      "Sample doc_ids: ['1', '2', '3', '4', '5']\n",
      "Top indices: [431601  39099  39098 304082 232810]\n",
      "Additional words from top 5 documents: find get search chatmate\n",
      "🔍 Enhanced Query: How do I know if my online girlfriend truly loves me? find get search chatmate\n"
     ]
    },
    {
     "name": "stderr",
     "output_type": "stream",
     "text": [
      "معالجة الاستعلامات:   4%|▎         | 37/1000 [02:11<54:58,  3.43s/استعلام]"
     ]
    },
    {
     "name": "stdout",
     "output_type": "stream",
     "text": [
      "Total documents in doc_data: 522931\n",
      "Sample doc_ids: ['1', '2', '3', '4', '5']\n",
      "Top indices: [  1572  25462 410921  12836 425790]\n",
      "Additional words from top 5 documents: become\n",
      "🔍 Enhanced Query: Why is the soul immortal? become\n"
     ]
    },
    {
     "name": "stderr",
     "output_type": "stream",
     "text": [
      "معالجة الاستعلامات:   4%|▍         | 38/1000 [02:15<55:01,  3.43s/استعلام]"
     ]
    },
    {
     "name": "stdout",
     "output_type": "stream",
     "text": [
      "Total documents in doc_data: 522931\n",
      "Sample doc_ids: ['1', '2', '3', '4', '5']\n",
      "Top indices: [ 41977 295881 499431 393359  65905]\n",
      "Additional words from top 5 documents: examples regulate\n",
      "🔍 Enhanced Query: Will Google's virtual monopoly in web search ever end? When? examples regulate\n"
     ]
    },
    {
     "name": "stderr",
     "output_type": "stream",
     "text": [
      "معالجة الاستعلامات:   4%|▍         | 39/1000 [02:18<54:48,  3.42s/استعلام]"
     ]
    },
    {
     "name": "stdout",
     "output_type": "stream",
     "text": [
      "Total documents in doc_data: 522931\n",
      "Sample doc_ids: ['1', '2', '3', '4', '5']\n",
      "Top indices: [  1606 350815 286167 460848  85057]\n",
      "Additional words from top 5 documents: center institute exam train\n",
      "🔍 Enhanced Query: Which is the best PMP Certification course provider in Bangalore? center institute exam train\n"
     ]
    },
    {
     "name": "stderr",
     "output_type": "stream",
     "text": [
      "معالجة الاستعلامات:   4%|▍         | 40/1000 [02:22<54:43,  3.42s/استعلام]"
     ]
    },
    {
     "name": "stdout",
     "output_type": "stream",
     "text": [
      "Total documents in doc_data: 522931\n",
      "Sample doc_ids: ['1', '2', '3', '4', '5']\n",
      "Top indices: [404887 115832 115833 507840 429558]\n",
      "Additional words from top 5 documents: bsc associate software engineer\n",
      "🔍 Enhanced Query: How is the job situation in New Zealand for computer science graduates diploma? bsc associate software engineer\n"
     ]
    },
    {
     "name": "stderr",
     "output_type": "stream",
     "text": [
      "معالجة الاستعلامات:   4%|▍         | 41/1000 [02:25<54:05,  3.38s/استعلام]"
     ]
    },
    {
     "name": "stdout",
     "output_type": "stream",
     "text": [
      "Total documents in doc_data: 522931\n",
      "Sample doc_ids: ['1', '2', '3', '4', '5']\n",
      "Top indices: [439082  71231 464471   1682 199950]\n",
      "Additional words from top 5 documents: pumpkins tradition things costume\n",
      "🔍 Enhanced Query: What do we need to have the best Halloween? pumpkins tradition things costume\n"
     ]
    },
    {
     "name": "stderr",
     "output_type": "stream",
     "text": [
      "معالجة الاستعلامات:   4%|▍         | 42/1000 [02:28<53:36,  3.36s/استعلام]"
     ]
    },
    {
     "name": "stdout",
     "output_type": "stream",
     "text": [
      "Total documents in doc_data: 522931\n",
      "Sample doc_ids: ['1', '2', '3', '4', '5']\n",
      "Top indices: [455747 162521 246235 361034 408743]\n",
      "Additional words from top 5 documents: friends important family think\n",
      "🔍 Enhanced Query: What is the very first thing you remember in your life? friends important family think\n"
     ]
    },
    {
     "name": "stderr",
     "output_type": "stream",
     "text": [
      "معالجة الاستعلامات:   4%|▍         | 43/1000 [02:32<53:08,  3.33s/استعلام]"
     ]
    },
    {
     "name": "stdout",
     "output_type": "stream",
     "text": [
      "Total documents in doc_data: 522931\n",
      "Sample doc_ids: ['1', '2', '3', '4', '5']\n",
      "Top indices: [  1823 171133 171132 382330 329420]\n",
      "Additional words from top 5 documents: work capacitant\n",
      "🔍 Enhanced Query: What is the reason behind the reactance of a capacitor? work capacitant\n"
     ]
    },
    {
     "name": "stderr",
     "output_type": "stream",
     "text": [
      "معالجة الاستعلامات:   4%|▍         | 44/1000 [02:35<52:33,  3.30s/استعلام]"
     ]
    },
    {
     "name": "stdout",
     "output_type": "stream",
     "text": [
      "Total documents in doc_data: 522931\n",
      "Sample doc_ids: ['1', '2', '3', '4', '5']\n",
      "Top indices: [260840 415030  12418 285302 448766]\n",
      "Additional words from top 5 documents: worth valuable\n",
      "🔍 Enhanced Query: What is value of 0? worth valuable\n"
     ]
    },
    {
     "name": "stderr",
     "output_type": "stream",
     "text": [
      "معالجة الاستعلامات:   4%|▍         | 45/1000 [02:38<53:08,  3.34s/استعلام]"
     ]
    },
    {
     "name": "stdout",
     "output_type": "stream",
     "text": [
      "Total documents in doc_data: 522931\n",
      "Sample doc_ids: ['1', '2', '3', '4', '5']\n",
      "Top indices: [311302 385767 317134 113516   7094]\n",
      "Additional words from top 5 documents: things know troll kind\n",
      "🔍 Enhanced Query: How should I be a people person? things know troll kind\n"
     ]
    },
    {
     "name": "stderr",
     "output_type": "stream",
     "text": [
      "معالجة الاستعلامات:   5%|▍         | 46/1000 [02:42<53:54,  3.39s/استعلام]"
     ]
    },
    {
     "name": "stdout",
     "output_type": "stream",
     "text": [
      "Total documents in doc_data: 522931\n",
      "Sample doc_ids: ['1', '2', '3', '4', '5']\n",
      "Top indices: [206016 399650 297186  62458 297185]\n",
      "Additional words from top 5 documents: songs friend\n",
      "🔍 Enhanced Query: What is a good song for lyric prank? songs friend\n"
     ]
    },
    {
     "name": "stderr",
     "output_type": "stream",
     "text": [
      "معالجة الاستعلامات:   5%|▍         | 47/1000 [02:45<54:21,  3.42s/استعلام]"
     ]
    },
    {
     "name": "stdout",
     "output_type": "stream",
     "text": [
      "Total documents in doc_data: 522931\n",
      "Sample doc_ids: ['1', '2', '3', '4', '5']\n",
      "Top indices: [  1950 475160 350542 232715 331682]\n",
      "Additional words from top 5 documents: math artwork work mathematician\n",
      "🔍 Enhanced Query: Do you think of mathematics as art or science? math artwork work mathematician\n"
     ]
    },
    {
     "name": "stderr",
     "output_type": "stream",
     "text": [
      "معالجة الاستعلامات:   5%|▍         | 48/1000 [02:49<54:43,  3.45s/استعلام]"
     ]
    },
    {
     "name": "stdout",
     "output_type": "stream",
     "text": [
      "Total documents in doc_data: 522931\n",
      "Sample doc_ids: ['1', '2', '3', '4', '5']\n",
      "Top indices: [383360  83009 104380 268867 267351]\n",
      "Additional words from top 5 documents: \n",
      "No new words to add to query for beir\n"
     ]
    },
    {
     "name": "stderr",
     "output_type": "stream",
     "text": [
      "معالجة الاستعلامات:   5%|▍         | 49/1000 [02:53<56:29,  3.56s/استعلام]"
     ]
    },
    {
     "name": "stdout",
     "output_type": "stream",
     "text": [
      "Total documents in doc_data: 522931\n",
      "Sample doc_ids: ['1', '2', '3', '4', '5']\n",
      "Top indices: [511205 285949 285950   2027  20338]\n",
      "Additional words from top 5 documents: characteristics psychopath many\n",
      "🔍 Enhanced Query: Can you be a sociopath with more psychopathic traits? characteristics psychopath many\n"
     ]
    },
    {
     "name": "stderr",
     "output_type": "stream",
     "text": [
      "معالجة الاستعلامات:   5%|▌         | 50/1000 [02:56<57:40,  3.64s/استعلام]"
     ]
    },
    {
     "name": "stdout",
     "output_type": "stream",
     "text": [
      "Total documents in doc_data: 522931\n",
      "Sample doc_ids: ['1', '2', '3', '4', '5']\n",
      "Top indices: [ 6972 11408 55553 15132 83224]\n",
      "Additional words from top 5 documents: narendra\n",
      "🔍 Enhanced Query: How can I meet Modi? narendra\n"
     ]
    },
    {
     "name": "stderr",
     "output_type": "stream",
     "text": [
      "معالجة الاستعلامات:   5%|▌         | 51/1000 [03:00<58:05,  3.67s/استعلام]"
     ]
    },
    {
     "name": "stdout",
     "output_type": "stream",
     "text": [
      "Total documents in doc_data: 522931\n",
      "Sample doc_ids: ['1', '2', '3', '4', '5']\n",
      "Top indices: [ 28963  59249  37353 239620 309339]\n",
      "Additional words from top 5 documents: believe gods\n",
      "🔍 Enhanced Query: Why do people belive in god? believe gods\n"
     ]
    },
    {
     "name": "stderr",
     "output_type": "stream",
     "text": [
      "معالجة الاستعلامات:   5%|▌         | 52/1000 [03:04<58:27,  3.70s/استعلام]"
     ]
    },
    {
     "name": "stdout",
     "output_type": "stream",
     "text": [
      "Total documents in doc_data: 522931\n",
      "Sample doc_ids: ['1', '2', '3', '4', '5']\n",
      "Top indices: [510837 151370   2230  67915 488182]\n",
      "Additional words from top 5 documents: best book read first\n",
      "🔍 Enhanced Query: What is your favourite story by Isaac Asimov? best book read first\n"
     ]
    },
    {
     "name": "stderr",
     "output_type": "stream",
     "text": [
      "معالجة الاستعلامات:   5%|▌         | 53/1000 [03:08<59:47,  3.79s/استعلام]"
     ]
    },
    {
     "name": "stdout",
     "output_type": "stream",
     "text": [
      "Total documents in doc_data: 522931\n",
      "Sample doc_ids: ['1', '2', '3', '4', '5']\n",
      "Top indices: [  2331 342886  49434  13159 437306]\n",
      "Additional words from top 5 documents: apply prerequisites uga sit\n",
      "🔍 Enhanced Query: What are the minimum GPA and GRE requirements of Florida State University? apply prerequisites uga sit\n"
     ]
    },
    {
     "name": "stderr",
     "output_type": "stream",
     "text": [
      "معالجة الاستعلامات:   5%|▌         | 54/1000 [03:12<1:00:15,  3.82s/استعلام]"
     ]
    },
    {
     "name": "stdout",
     "output_type": "stream",
     "text": [
      "Total documents in doc_data: 522931\n",
      "Sample doc_ids: ['1', '2', '3', '4', '5']\n",
      "Top indices: [  2481 118135  20997  77813 160292]\n",
      "Additional words from top 5 documents: etiquettes culture table manners\n",
      "🔍 Enhanced Query: What are the differences between Chinese and western etiquette? etiquettes culture table manners\n"
     ]
    },
    {
     "name": "stderr",
     "output_type": "stream",
     "text": [
      "معالجة الاستعلامات:   6%|▌         | 55/1000 [03:16<1:00:22,  3.83s/استعلام]"
     ]
    },
    {
     "name": "stdout",
     "output_type": "stream",
     "text": [
      "Total documents in doc_data: 522931\n",
      "Sample doc_ids: ['1', '2', '3', '4', '5']\n",
      "Top indices: [117223 364960 150899 117222 262797]\n",
      "Additional words from top 5 documents: bad india wrong indias\n",
      "🔍 Enhanced Query: Why does the Indian education system suck? bad india wrong indias\n"
     ]
    },
    {
     "name": "stderr",
     "output_type": "stream",
     "text": [
      "معالجة الاستعلامات:   6%|▌         | 56/1000 [03:20<1:01:19,  3.90s/استعلام]"
     ]
    },
    {
     "name": "stdout",
     "output_type": "stream",
     "text": [
      "Total documents in doc_data: 522931\n",
      "Sample doc_ids: ['1', '2', '3', '4', '5']\n",
      "Top indices: [465295  96007  62095   2146  96008]\n",
      "Additional words from top 5 documents: iphone\n",
      "🔍 Enhanced Query: How do I hack anyone's WhatsApp account by my mobile? iphone\n"
     ]
    },
    {
     "name": "stderr",
     "output_type": "stream",
     "text": [
      "معالجة الاستعلامات:   6%|▌         | 57/1000 [03:24<1:02:48,  4.00s/استعلام]"
     ]
    },
    {
     "name": "stdout",
     "output_type": "stream",
     "text": [
      "Total documents in doc_data: 522931\n",
      "Sample doc_ids: ['1', '2', '3', '4', '5']\n",
      "Top indices: [  2687 270230 270231  63600 133968]\n",
      "Additional words from top 5 documents: start originate show instead\n",
      "🔍 Enhanced Query: Who invented the middle finger bad gesture? start originate show instead\n"
     ]
    },
    {
     "name": "stderr",
     "output_type": "stream",
     "text": [
      "معالجة الاستعلامات:   6%|▌         | 58/1000 [03:28<1:03:24,  4.04s/استعلام]"
     ]
    },
    {
     "name": "stdout",
     "output_type": "stream",
     "text": [
      "Total documents in doc_data: 522931\n",
      "Sample doc_ids: ['1', '2', '3', '4', '5']\n",
      "Top indices: [517194 111521 435854 205701  77559]\n",
      "Additional words from top 5 documents: cheggcom rackonscom\n",
      "🔍 Enhanced Query: How can you register a Maltipoo at the AKC? cheggcom rackonscom\n"
     ]
    },
    {
     "name": "stderr",
     "output_type": "stream",
     "text": [
      "معالجة الاستعلامات:   6%|▌         | 59/1000 [03:32<1:03:48,  4.07s/استعلام]"
     ]
    },
    {
     "name": "stdout",
     "output_type": "stream",
     "text": [
      "Total documents in doc_data: 522931\n",
      "Sample doc_ids: ['1', '2', '3', '4', '5']\n",
      "Top indices: [452976 343246 372792 362421 362420]\n",
      "Additional words from top 5 documents: \n",
      "No new words to add to query for beir\n"
     ]
    },
    {
     "name": "stderr",
     "output_type": "stream",
     "text": [
      "معالجة الاستعلامات:   6%|▌         | 60/1000 [03:36<1:04:24,  4.11s/استعلام]"
     ]
    },
    {
     "name": "stdout",
     "output_type": "stream",
     "text": [
      "Total documents in doc_data: 522931\n",
      "Sample doc_ids: ['1', '2', '3', '4', '5']\n",
      "Top indices: [250195 250194  61995 108931 196260]\n",
      "Additional words from top 5 documents: tetanus shoot soreness paramedics\n",
      "🔍 Enhanced Query: How do you treat gunshot wounds? tetanus shoot soreness paramedics\n"
     ]
    },
    {
     "name": "stderr",
     "output_type": "stream",
     "text": [
      "معالجة الاستعلامات:   6%|▌         | 61/1000 [03:40<1:03:36,  4.06s/استعلام]"
     ]
    },
    {
     "name": "stdout",
     "output_type": "stream",
     "text": [
      "Total documents in doc_data: 522931\n",
      "Sample doc_ids: ['1', '2', '3', '4', '5']\n",
      "Top indices: [509844 509843 430275 248992 434479]\n",
      "Additional words from top 5 documents: \n",
      "No new words to add to query for beir\n"
     ]
    },
    {
     "name": "stderr",
     "output_type": "stream",
     "text": [
      "معالجة الاستعلامات:   6%|▌         | 62/1000 [03:45<1:03:55,  4.09s/استعلام]"
     ]
    },
    {
     "name": "stdout",
     "output_type": "stream",
     "text": [
      "Total documents in doc_data: 522931\n",
      "Sample doc_ids: ['1', '2', '3', '4', '5']\n",
      "Top indices: [  3134 185885 507294 258085 234302]\n",
      "Additional words from top 5 documents: get run agriculture container\n",
      "🔍 Enhanced Query: How do I start a plant nursery? get run agriculture container\n"
     ]
    },
    {
     "name": "stderr",
     "output_type": "stream",
     "text": [
      "معالجة الاستعلامات:   6%|▋         | 63/1000 [03:49<1:04:03,  4.10s/استعلام]"
     ]
    },
    {
     "name": "stdout",
     "output_type": "stream",
     "text": [
      "Total documents in doc_data: 522931\n",
      "Sample doc_ids: ['1', '2', '3', '4', '5']\n",
      "Top indices: [149525 522461   1845   1846 363122]\n",
      "Additional words from top 5 documents: reasonably manhattan 110k salary\n",
      "🔍 Enhanced Query: How much money per month is enough to live as a graduate student in Birmingham, UK? reasonably manhattan 110k salary\n"
     ]
    },
    {
     "name": "stderr",
     "output_type": "stream",
     "text": [
      "معالجة الاستعلامات:   6%|▋         | 64/1000 [03:53<1:04:36,  4.14s/استعلام]"
     ]
    },
    {
     "name": "stdout",
     "output_type": "stream",
     "text": [
      "Total documents in doc_data: 522931\n",
      "Sample doc_ids: ['1', '2', '3', '4', '5']\n",
      "Top indices: [  3286  86584 505805 423634  45126]\n",
      "Additional words from top 5 documents: bollywood dawood ibrahims connections\n",
      "🔍 Enhanced Query: Why are there so many Muslims in Hindi film industry? bollywood dawood ibrahims connections\n"
     ]
    },
    {
     "name": "stderr",
     "output_type": "stream",
     "text": [
      "معالجة الاستعلامات:   6%|▋         | 65/1000 [03:57<1:05:26,  4.20s/استعلام]"
     ]
    },
    {
     "name": "stdout",
     "output_type": "stream",
     "text": [
      "Total documents in doc_data: 522931\n",
      "Sample doc_ids: ['1', '2', '3', '4', '5']\n",
      "Top indices: [438666 322097 347767 317556  35193]\n",
      "Additional words from top 5 documents: tie electoral college likely\n",
      "🔍 Enhanced Query: What would happen if one of the two candidates of the presidential election died on the morning of the election day? tie electoral college likely\n"
     ]
    },
    {
     "name": "stderr",
     "output_type": "stream",
     "text": [
      "معالجة الاستعلامات:   7%|▋         | 66/1000 [04:01<1:04:33,  4.15s/استعلام]"
     ]
    },
    {
     "name": "stdout",
     "output_type": "stream",
     "text": [
      "Total documents in doc_data: 522931\n",
      "Sample doc_ids: ['1', '2', '3', '4', '5']\n",
      "Top indices: [169044 221082   3433 272563 462396]\n",
      "Additional words from top 5 documents: situation one civilians quickly\n",
      "🔍 Enhanced Query: What can I do right now to help the people of Aleppo? situation one civilians quickly\n"
     ]
    },
    {
     "name": "stderr",
     "output_type": "stream",
     "text": [
      "معالجة الاستعلامات:   7%|▋         | 67/1000 [04:05<1:03:04,  4.06s/استعلام]"
     ]
    },
    {
     "name": "stdout",
     "output_type": "stream",
     "text": [
      "Total documents in doc_data: 522931\n",
      "Sample doc_ids: ['1', '2', '3', '4', '5']\n",
      "Top indices: [117208 237695  87906  87905   9646]\n",
      "Additional words from top 5 documents: \n",
      "No new words to add to query for beir\n"
     ]
    },
    {
     "name": "stderr",
     "output_type": "stream",
     "text": [
      "معالجة الاستعلامات:   7%|▋         | 68/1000 [04:09<1:02:09,  4.00s/استعلام]"
     ]
    },
    {
     "name": "stdout",
     "output_type": "stream",
     "text": [
      "Total documents in doc_data: 522931\n",
      "Sample doc_ids: ['1', '2', '3', '4', '5']\n",
      "Top indices: [  3464  22002  66715 273649 325797]\n",
      "Additional words from top 5 documents: tea caffeine herbal decaf\n",
      "🔍 Enhanced Query: How often do you drink coffee (-based) drinks? tea caffeine herbal decaf\n"
     ]
    },
    {
     "name": "stderr",
     "output_type": "stream",
     "text": [
      "معالجة الاستعلامات:   7%|▋         | 69/1000 [04:13<1:01:57,  3.99s/استعلام]"
     ]
    },
    {
     "name": "stdout",
     "output_type": "stream",
     "text": [
      "Total documents in doc_data: 522931\n",
      "Sample doc_ids: ['1', '2', '3', '4', '5']\n",
      "Top indices: [372803 254016  56471  24383 109149]\n",
      "No similar documents found for beir with sufficient similarity\n"
     ]
    },
    {
     "name": "stderr",
     "output_type": "stream",
     "text": [
      "معالجة الاستعلامات:   7%|▋         | 70/1000 [04:17<1:01:36,  3.97s/استعلام]"
     ]
    },
    {
     "name": "stdout",
     "output_type": "stream",
     "text": [
      "Total documents in doc_data: 522931\n",
      "Sample doc_ids: ['1', '2', '3', '4', '5']\n",
      "Top indices: [  3649 167524  35958  35959 481755]\n",
      "Additional words from top 5 documents: syrian\n",
      "🔍 Enhanced Query: What is the Syria civil war? syrian\n"
     ]
    },
    {
     "name": "stderr",
     "output_type": "stream",
     "text": [
      "معالجة الاستعلامات:   7%|▋         | 71/1000 [04:21<1:00:08,  3.88s/استعلام]"
     ]
    },
    {
     "name": "stdout",
     "output_type": "stream",
     "text": [
      "Total documents in doc_data: 522931\n",
      "Sample doc_ids: ['1', '2', '3', '4', '5']\n",
      "Top indices: [122261   3650  63619  71758  21312]\n",
      "Additional words from top 5 documents: biological facts learn\n",
      "🔍 Enhanced Query: What is psychology? biological facts learn\n"
     ]
    },
    {
     "name": "stderr",
     "output_type": "stream",
     "text": [
      "معالجة الاستعلامات:   7%|▋         | 72/1000 [04:24<59:26,  3.84s/استعلام]  "
     ]
    },
    {
     "name": "stdout",
     "output_type": "stream",
     "text": [
      "Total documents in doc_data: 522931\n",
      "Sample doc_ids: ['1', '2', '3', '4', '5']\n",
      "Top indices: [  3653 192372  91067 286038 173850]\n",
      "Additional words from top 5 documents: recipes prepare white without\n",
      "🔍 Enhanced Query: How are the 6 mother sauces used in cooking? recipes prepare white without\n"
     ]
    },
    {
     "name": "stderr",
     "output_type": "stream",
     "text": [
      "معالجة الاستعلامات:   7%|▋         | 73/1000 [04:28<59:00,  3.82s/استعلام]"
     ]
    },
    {
     "name": "stdout",
     "output_type": "stream",
     "text": [
      "Total documents in doc_data: 522931\n",
      "Sample doc_ids: ['1', '2', '3', '4', '5']\n",
      "Top indices: [451847 173943 277025 237020 436587]\n",
      "Additional words from top 5 documents: privatization good bad railway\n",
      "🔍 Enhanced Query: Should Indian Railways be privatized? privatization good bad railway\n"
     ]
    },
    {
     "name": "stderr",
     "output_type": "stream",
     "text": [
      "معالجة الاستعلامات:   7%|▋         | 74/1000 [04:32<59:10,  3.83s/استعلام]"
     ]
    },
    {
     "name": "stdout",
     "output_type": "stream",
     "text": [
      "Total documents in doc_data: 522931\n",
      "Sample doc_ids: ['1', '2', '3', '4', '5']\n",
      "Top indices: [ 19403 399723 468305 403153   2045]\n",
      "Additional words from top 5 documents: techniques simple trick microblogging\n",
      "🔍 Enhanced Query: Is creating satellite blogs and posting SEO-friendly posts considered black-hat SEO technique? techniques simple trick microblogging\n"
     ]
    },
    {
     "name": "stderr",
     "output_type": "stream",
     "text": [
      "معالجة الاستعلامات:   8%|▊         | 75/1000 [04:36<58:53,  3.82s/استعلام]"
     ]
    },
    {
     "name": "stdout",
     "output_type": "stream",
     "text": [
      "Total documents in doc_data: 522931\n",
      "Sample doc_ids: ['1', '2', '3', '4', '5']\n",
      "Top indices: [237275  83531 236062 133118 140630]\n",
      "Additional words from top 5 documents: ethernet faster wifi increase\n",
      "🔍 Enhanced Query: How can I speed up my Internet connection? ethernet faster wifi increase\n"
     ]
    },
    {
     "name": "stderr",
     "output_type": "stream",
     "text": [
      "معالجة الاستعلامات:   8%|▊         | 76/1000 [04:40<58:58,  3.83s/استعلام]"
     ]
    },
    {
     "name": "stdout",
     "output_type": "stream",
     "text": [
      "Total documents in doc_data: 522931\n",
      "Sample doc_ids: ['1', '2', '3', '4', '5']\n",
      "Top indices: [486552 263411 167294 246224 196119]\n",
      "Additional words from top 5 documents: websites safe mp3juicecc bittorrent\n",
      "🔍 Enhanced Query: What are the best free and legal music download sites? websites safe mp3juicecc bittorrent\n"
     ]
    },
    {
     "name": "stderr",
     "output_type": "stream",
     "text": [
      "معالجة الاستعلامات:   8%|▊         | 77/1000 [04:43<59:04,  3.84s/استعلام]"
     ]
    },
    {
     "name": "stdout",
     "output_type": "stream",
     "text": [
      "Total documents in doc_data: 522931\n",
      "Sample doc_ids: ['1', '2', '3', '4', '5']\n",
      "Top indices: [  3827 298093 156911 444575 486009]\n",
      "Additional words from top 5 documents: sexual intercourse kiss\n",
      "🔍 Enhanced Query: Have you ever had sex with a teacher? sexual intercourse kiss\n"
     ]
    },
    {
     "name": "stderr",
     "output_type": "stream",
     "text": [
      "معالجة الاستعلامات:   8%|▊         | 78/1000 [04:47<58:43,  3.82s/استعلام]"
     ]
    },
    {
     "name": "stdout",
     "output_type": "stream",
     "text": [
      "Total documents in doc_data: 522931\n",
      "Sample doc_ids: ['1', '2', '3', '4', '5']\n",
      "Top indices: [383312 498645   3834 104319  40809]\n",
      "Additional words from top 5 documents: service drivers cab delhi\n",
      "🔍 Enhanced Query: How much does Uber driver earn in India? service drivers cab delhi\n"
     ]
    },
    {
     "name": "stderr",
     "output_type": "stream",
     "text": [
      "معالجة الاستعلامات:   8%|▊         | 79/1000 [04:52<1:00:39,  3.95s/استعلام]"
     ]
    },
    {
     "name": "stdout",
     "output_type": "stream",
     "text": [
      "Total documents in doc_data: 522931\n",
      "Sample doc_ids: ['1', '2', '3', '4', '5']\n",
      "Top indices: [  3864 306771 165130 165131 343122]\n",
      "Additional words from top 5 documents: course\n",
      "🔍 Enhanced Query: Why do people go for mba after masters in engineering course\n"
     ]
    },
    {
     "name": "stderr",
     "output_type": "stream",
     "text": [
      "معالجة الاستعلامات:   8%|▊         | 80/1000 [04:56<1:01:06,  3.99s/استعلام]"
     ]
    },
    {
     "name": "stdout",
     "output_type": "stream",
     "text": [
      "Total documents in doc_data: 522931\n",
      "Sample doc_ids: ['1', '2', '3', '4', '5']\n",
      "Top indices: [184177 474046 143961 470632 103704]\n",
      "Additional words from top 5 documents: mainadvanced2017 physics study iit\n",
      "🔍 Enhanced Query: Is it necessary to take a coaching class to prepare for the JEE Advanced? mainadvanced2017 physics study iit\n"
     ]
    },
    {
     "name": "stderr",
     "output_type": "stream",
     "text": [
      "معالجة الاستعلامات:   8%|▊         | 81/1000 [05:00<1:00:59,  3.98s/استعلام]"
     ]
    },
    {
     "name": "stdout",
     "output_type": "stream",
     "text": [
      "Total documents in doc_data: 522931\n",
      "Sample doc_ids: ['1', '2', '3', '4', '5']\n",
      "Top indices: [123548 303450 467456 305790 114824]\n",
      "Additional words from top 5 documents: best method remove water\n",
      "🔍 Enhanced Query: How do I unpop a clogged ear? best method remove water\n"
     ]
    },
    {
     "name": "stderr",
     "output_type": "stream",
     "text": [
      "معالجة الاستعلامات:   8%|▊         | 82/1000 [05:03<59:43,  3.90s/استعلام]  "
     ]
    },
    {
     "name": "stdout",
     "output_type": "stream",
     "text": [
      "Total documents in doc_data: 522931\n",
      "Sample doc_ids: ['1', '2', '3', '4', '5']\n",
      "Top indices: [276778 217729  33393 404906 123141]\n",
      "Additional words from top 5 documents: death demisexual\n",
      "🔍 Enhanced Query: Would you rather know when you will die or how you will die? death demisexual\n"
     ]
    },
    {
     "name": "stderr",
     "output_type": "stream",
     "text": [
      "معالجة الاستعلامات:   8%|▊         | 83/1000 [05:07<1:00:11,  3.94s/استعلام]"
     ]
    },
    {
     "name": "stdout",
     "output_type": "stream",
     "text": [
      "Total documents in doc_data: 522931\n",
      "Sample doc_ids: ['1', '2', '3', '4', '5']\n",
      "Top indices: [189941  40834 349438 320535 235364]\n",
      "Additional words from top 5 documents: dont cope excessive underarm\n",
      "🔍 Enhanced Query: Why do some people sweat excessively in their armpits? dont cope excessive underarm\n"
     ]
    },
    {
     "name": "stderr",
     "output_type": "stream",
     "text": [
      "معالجة الاستعلامات:   8%|▊         | 84/1000 [05:11<58:40,  3.84s/استعلام]  "
     ]
    },
    {
     "name": "stdout",
     "output_type": "stream",
     "text": [
      "Total documents in doc_data: 522931\n",
      "Sample doc_ids: ['1', '2', '3', '4', '5']\n",
      "Top indices: [199862 393215 302285 438346 243179]\n",
      "Additional words from top 5 documents: sell carmax get dealership\n",
      "🔍 Enhanced Query: How can I make money from my car? sell carmax get dealership\n"
     ]
    },
    {
     "name": "stderr",
     "output_type": "stream",
     "text": [
      "معالجة الاستعلامات:   8%|▊         | 85/1000 [05:15<1:00:09,  3.94s/استعلام]"
     ]
    },
    {
     "name": "stdout",
     "output_type": "stream",
     "text": [
      "Total documents in doc_data: 522931\n",
      "Sample doc_ids: ['1', '2', '3', '4', '5']\n",
      "Top indices: [322972 322971 372569  37491 460911]\n",
      "Additional words from top 5 documents: reactions attack india reaction\n",
      "🔍 Enhanced Query: What will be repercussion of India's surgical strike to Pakistan? reactions attack india reaction\n"
     ]
    },
    {
     "name": "stderr",
     "output_type": "stream",
     "text": [
      "معالجة الاستعلامات:   9%|▊         | 86/1000 [05:19<1:01:16,  4.02s/استعلام]"
     ]
    },
    {
     "name": "stdout",
     "output_type": "stream",
     "text": [
      "Total documents in doc_data: 522931\n",
      "Sample doc_ids: ['1', '2', '3', '4', '5']\n",
      "Top indices: [  4159 505732 382030   1298 408924]\n",
      "Additional words from top 5 documents: biggest pakistan india indias\n",
      "🔍 Enhanced Query: What are the best strengths of Indian Army? biggest pakistan india indias\n"
     ]
    },
    {
     "name": "stderr",
     "output_type": "stream",
     "text": [
      "معالجة الاستعلامات:   9%|▊         | 87/1000 [05:23<1:00:49,  4.00s/استعلام]"
     ]
    },
    {
     "name": "stdout",
     "output_type": "stream",
     "text": [
      "Total documents in doc_data: 522931\n",
      "Sample doc_ids: ['1', '2', '3', '4', '5']\n",
      "Top indices: [285446  42441   3228 434259 434258]\n",
      "Additional words from top 5 documents: climate hoax change things\n",
      "🔍 Enhanced Query: Why do some people still think Global warming a myth? climate hoax change things\n"
     ]
    },
    {
     "name": "stderr",
     "output_type": "stream",
     "text": [
      "معالجة الاستعلامات:   9%|▉         | 88/1000 [05:27<1:00:32,  3.98s/استعلام]"
     ]
    },
    {
     "name": "stdout",
     "output_type": "stream",
     "text": [
      "Total documents in doc_data: 522931\n",
      "Sample doc_ids: ['1', '2', '3', '4', '5']\n",
      "Top indices: [  4276 481932 178250 359415 178251]\n",
      "Additional words from top 5 documents: think consider one greatest\n",
      "🔍 Enhanced Query: What was it like to meet Richard Feynman? think consider one greatest\n"
     ]
    },
    {
     "name": "stderr",
     "output_type": "stream",
     "text": [
      "معالجة الاستعلامات:   9%|▉         | 89/1000 [05:31<58:49,  3.87s/استعلام]  "
     ]
    },
    {
     "name": "stdout",
     "output_type": "stream",
     "text": [
      "Total documents in doc_data: 522931\n",
      "Sample doc_ids: ['1', '2', '3', '4', '5']\n",
      "Top indices: [ 75640   4216 177282 282520 219774]\n",
      "Additional words from top 5 documents: earn site trade 5000\n",
      "🔍 Enhanced Query: What should I do to make money online in India? earn site trade 5000\n"
     ]
    },
    {
     "name": "stderr",
     "output_type": "stream",
     "text": [
      "معالجة الاستعلامات:   9%|▉         | 90/1000 [05:35<58:01,  3.83s/استعلام]"
     ]
    },
    {
     "name": "stdout",
     "output_type": "stream",
     "text": [
      "Total documents in doc_data: 522931\n",
      "Sample doc_ids: ['1', '2', '3', '4', '5']\n",
      "Top indices: [  3014 118015  10713 192796 192795]\n",
      "Additional words from top 5 documents: one must get better\n",
      "🔍 Enhanced Query: How I can be good at handwriting? one must get better\n"
     ]
    },
    {
     "name": "stderr",
     "output_type": "stream",
     "text": [
      "معالجة الاستعلامات:   9%|▉         | 91/1000 [05:38<58:23,  3.85s/استعلام]"
     ]
    },
    {
     "name": "stdout",
     "output_type": "stream",
     "text": [
      "Total documents in doc_data: 522931\n",
      "Sample doc_ids: ['1', '2', '3', '4', '5']\n",
      "Top indices: [512400 463862 498751 302673 131279]\n",
      "Additional words from top 5 documents: politics narendra modi government\n",
      "🔍 Enhanced Query: What is the current political scenario in India? politics narendra modi government\n"
     ]
    },
    {
     "name": "stderr",
     "output_type": "stream",
     "text": [
      "معالجة الاستعلامات:   9%|▉         | 92/1000 [05:42<57:04,  3.77s/استعلام]"
     ]
    },
    {
     "name": "stdout",
     "output_type": "stream",
     "text": [
      "Total documents in doc_data: 522931\n",
      "Sample doc_ids: ['1', '2', '3', '4', '5']\n",
      "Top indices: [ 37353 132006 177006  93984 246925]\n",
      "Additional words from top 5 documents: gods proof existence someone\n",
      "🔍 Enhanced Query: Why do people believe in God and how can they say he/she exists? gods proof existence someone\n"
     ]
    },
    {
     "name": "stderr",
     "output_type": "stream",
     "text": [
      "معالجة الاستعلامات:   9%|▉         | 93/1000 [05:46<56:13,  3.72s/استعلام]"
     ]
    },
    {
     "name": "stdout",
     "output_type": "stream",
     "text": [
      "Total documents in doc_data: 522931\n",
      "Sample doc_ids: ['1', '2', '3', '4', '5']\n",
      "Top indices: [260859 260860   4376  22850 112104]\n",
      "Additional words from top 5 documents: bca\n",
      "🔍 Enhanced Query: What should I do after completing my bcom? bca\n"
     ]
    },
    {
     "name": "stderr",
     "output_type": "stream",
     "text": [
      "معالجة الاستعلامات:   9%|▉         | 94/1000 [05:49<56:24,  3.74s/استعلام]"
     ]
    },
    {
     "name": "stdout",
     "output_type": "stream",
     "text": [
      "Total documents in doc_data: 522931\n",
      "Sample doc_ids: ['1', '2', '3', '4', '5']\n",
      "Top indices: [406082   4387 148287 254932 170725]\n",
      "Additional words from top 5 documents: datastage institute agile pmp\n",
      "🔍 Enhanced Query: Which is the best Teradata online training? datastage institute agile pmp\n"
     ]
    },
    {
     "name": "stderr",
     "output_type": "stream",
     "text": [
      "معالجة الاستعلامات:  10%|▉         | 95/1000 [05:53<56:07,  3.72s/استعلام]"
     ]
    },
    {
     "name": "stdout",
     "output_type": "stream",
     "text": [
      "Total documents in doc_data: 522931\n",
      "Sample doc_ids: ['1', '2', '3', '4', '5']\n",
      "Top indices: [  4496 373175 254881 218578 366450]\n",
      "Additional words from top 5 documents: mat pass c4090456 good\n",
      "🔍 Enhanced Query: What is normalized score in gate exam? mat pass c4090456 good\n"
     ]
    },
    {
     "name": "stderr",
     "output_type": "stream",
     "text": [
      "معالجة الاستعلامات:  10%|▉         | 96/1000 [05:57<55:18,  3.67s/استعلام]"
     ]
    },
    {
     "name": "stdout",
     "output_type": "stream",
     "text": [
      "Total documents in doc_data: 522931\n",
      "Sample doc_ids: ['1', '2', '3', '4', '5']\n",
      "Top indices: [209044 144783 180482 139849 203740]\n",
      "Additional words from top 5 documents: eat hotel fast food\n",
      "🔍 Enhanced Query: What is the worst restaurant experience you ever had? eat hotel fast food\n"
     ]
    },
    {
     "name": "stderr",
     "output_type": "stream",
     "text": [
      "معالجة الاستعلامات:  10%|▉         | 97/1000 [06:00<55:06,  3.66s/استعلام]"
     ]
    },
    {
     "name": "stdout",
     "output_type": "stream",
     "text": [
      "Total documents in doc_data: 522931\n",
      "Sample doc_ids: ['1', '2', '3', '4', '5']\n",
      "Top indices: [350158 308489  32661 348161 348160]\n",
      "Additional words from top 5 documents: much professional liar always\n",
      "🔍 Enhanced Query: What is the lie you tell most often? much professional liar always\n"
     ]
    },
    {
     "name": "stderr",
     "output_type": "stream",
     "text": [
      "معالجة الاستعلامات:  10%|▉         | 98/1000 [06:04<55:32,  3.69s/استعلام]"
     ]
    },
    {
     "name": "stdout",
     "output_type": "stream",
     "text": [
      "Total documents in doc_data: 522931\n",
      "Sample doc_ids: ['1', '2', '3', '4', '5']\n",
      "Top indices: [267593 288959 287871 405342 311287]\n",
      "Additional words from top 5 documents: 32inch 33inch india 50k60k\n",
      "🔍 Enhanced Query: Which is best 32 inch led tv to buy below 20,000 INR? 32inch 33inch india 50k60k\n"
     ]
    },
    {
     "name": "stderr",
     "output_type": "stream",
     "text": [
      "معالجة الاستعلامات:  10%|▉         | 99/1000 [06:08<56:01,  3.73s/استعلام]"
     ]
    },
    {
     "name": "stdout",
     "output_type": "stream",
     "text": [
      "Total documents in doc_data: 522931\n",
      "Sample doc_ids: ['1', '2', '3', '4', '5']\n",
      "Top indices: [  4606 498505 243178 227750 210119]\n",
      "Additional words from top 5 documents: carrer msc biomedicine abroad\n",
      "🔍 Enhanced Query: How can medical doctors move into biotech or molecular biology? carrer msc biomedicine abroad\n"
     ]
    },
    {
     "name": "stderr",
     "output_type": "stream",
     "text": [
      "معالجة الاستعلامات:  10%|█         | 100/1000 [06:11<55:11,  3.68s/استعلام]"
     ]
    },
    {
     "name": "stdout",
     "output_type": "stream",
     "text": [
      "Total documents in doc_data: 522931\n",
      "Sample doc_ids: ['1', '2', '3', '4', '5']\n",
      "Top indices: [319467 341891   4687 344043 381610]\n",
      "Additional words from top 5 documents: integrity strong set differ\n",
      "🔍 Enhanced Query: What is a weak entity in DBMS? Why is it called weak? integrity strong set differ\n"
     ]
    },
    {
     "name": "stderr",
     "output_type": "stream",
     "text": [
      "معالجة الاستعلامات:  10%|█         | 101/1000 [06:15<54:21,  3.63s/استعلام]"
     ]
    },
    {
     "name": "stdout",
     "output_type": "stream",
     "text": [
      "Total documents in doc_data: 522931\n",
      "Sample doc_ids: ['1', '2', '3', '4', '5']\n",
      "Top indices: [ 14296 330159 200748 299095 387991]\n",
      "Additional words from top 5 documents: often masturbate frequently couple\n",
      "🔍 Enhanced Query: How many times should one have sex a day? often masturbate frequently couple\n"
     ]
    },
    {
     "name": "stderr",
     "output_type": "stream",
     "text": [
      "معالجة الاستعلامات:  10%|█         | 102/1000 [06:19<54:17,  3.63s/استعلام]"
     ]
    },
    {
     "name": "stdout",
     "output_type": "stream",
     "text": [
      "Total documents in doc_data: 522931\n",
      "Sample doc_ids: ['1', '2', '3', '4', '5']\n",
      "Top indices: [256356  58358 256355  84437 127856]\n",
      "Additional words from top 5 documents: \n",
      "No new words to add to query for beir\n"
     ]
    },
    {
     "name": "stderr",
     "output_type": "stream",
     "text": [
      "معالجة الاستعلامات:  10%|█         | 103/1000 [06:22<53:50,  3.60s/استعلام]"
     ]
    },
    {
     "name": "stdout",
     "output_type": "stream",
     "text": [
      "Total documents in doc_data: 522931\n",
      "Sample doc_ids: ['1', '2', '3', '4', '5']\n",
      "Top indices: [  4770 317177 148787  88986 317176]\n",
      "Additional words from top 5 documents: capitol own year\n",
      "🔍 Enhanced Query: Was the White House entirely built by slaves? capitol own year\n"
     ]
    },
    {
     "name": "stderr",
     "output_type": "stream",
     "text": [
      "معالجة الاستعلامات:  10%|█         | 104/1000 [06:26<53:30,  3.58s/استعلام]"
     ]
    },
    {
     "name": "stdout",
     "output_type": "stream",
     "text": [
      "Total documents in doc_data: 522931\n",
      "Sample doc_ids: ['1', '2', '3', '4', '5']\n",
      "Top indices: [  4773 160020  70609 295215 300852]\n",
      "Additional words from top 5 documents: better difference coder\n",
      "🔍 Enhanced Query: What is the definition of \"real programmer\"? better difference coder\n"
     ]
    },
    {
     "name": "stderr",
     "output_type": "stream",
     "text": [
      "معالجة الاستعلامات:  10%|█         | 105/1000 [06:29<53:08,  3.56s/استعلام]"
     ]
    },
    {
     "name": "stdout",
     "output_type": "stream",
     "text": [
      "Total documents in doc_data: 522931\n",
      "Sample doc_ids: ['1', '2', '3', '4', '5']\n",
      "Top indices: [  4907 464679 464680 370786 370785]\n",
      "Additional words from top 5 documents: claim spouse dependent tax\n",
      "🔍 Enhanced Query: What are the benefits of a joint family? claim spouse dependent tax\n"
     ]
    },
    {
     "name": "stderr",
     "output_type": "stream",
     "text": [
      "معالجة الاستعلامات:  11%|█         | 106/1000 [06:33<52:53,  3.55s/استعلام]"
     ]
    },
    {
     "name": "stdout",
     "output_type": "stream",
     "text": [
      "Total documents in doc_data: 522931\n",
      "Sample doc_ids: ['1', '2', '3', '4', '5']\n",
      "Top indices: [  4937   7958 176231 223978  50377]\n",
      "Additional words from top 5 documents: find quality dj clean\n",
      "🔍 Enhanced Query: Where can I get best festival DJ services in Sydney? find quality dj clean\n"
     ]
    },
    {
     "name": "stderr",
     "output_type": "stream",
     "text": [
      "معالجة الاستعلامات:  11%|█         | 107/1000 [06:36<53:01,  3.56s/استعلام]"
     ]
    },
    {
     "name": "stdout",
     "output_type": "stream",
     "text": [
      "Total documents in doc_data: 522931\n",
      "Sample doc_ids: ['1', '2', '3', '4', '5']\n",
      "Top indices: [ 26740   1673  66256 361258  56747]\n",
      "Additional words from top 5 documents: pros con ever oppose\n",
      "🔍 Enhanced Query: Is Hillary Clinton Pro-War? pros con ever oppose\n"
     ]
    },
    {
     "name": "stderr",
     "output_type": "stream",
     "text": [
      "معالجة الاستعلامات:  11%|█         | 108/1000 [06:40<52:55,  3.56s/استعلام]"
     ]
    },
    {
     "name": "stdout",
     "output_type": "stream",
     "text": [
      "Total documents in doc_data: 522931\n",
      "Sample doc_ids: ['1', '2', '3', '4', '5']\n",
      "Top indices: [  8511 249665 249666  80552 271722]\n",
      "Additional words from top 5 documents: gre pte months\n",
      "🔍 Enhanced Query: How can I crack JEE? gre pte months\n"
     ]
    },
    {
     "name": "stderr",
     "output_type": "stream",
     "text": [
      "معالجة الاستعلامات:  11%|█         | 109/1000 [06:43<52:59,  3.57s/استعلام]"
     ]
    },
    {
     "name": "stdout",
     "output_type": "stream",
     "text": [
      "Total documents in doc_data: 522931\n",
      "Sample doc_ids: ['1', '2', '3', '4', '5']\n",
      "Top indices: [ 20483  62415   7144 198370  20482]\n",
      "Additional words from top 5 documents: help belly weight loss\n",
      "🔍 Enhanced Query: How Green tea is useful for reducing fat? help belly weight loss\n"
     ]
    },
    {
     "name": "stderr",
     "output_type": "stream",
     "text": [
      "معالجة الاستعلامات:  11%|█         | 110/1000 [06:47<53:40,  3.62s/استعلام]"
     ]
    },
    {
     "name": "stdout",
     "output_type": "stream",
     "text": [
      "Total documents in doc_data: 522931\n",
      "Sample doc_ids: ['1', '2', '3', '4', '5']\n",
      "Top indices: [ 53489 224508 284321 514348 328895]\n",
      "Additional words from top 5 documents: excessive decrease quit disadvantage\n",
      "🔍 Enhanced Query: How can I reverse the effects of masturbation? excessive decrease quit disadvantage\n"
     ]
    },
    {
     "name": "stderr",
     "output_type": "stream",
     "text": [
      "معالجة الاستعلامات:  11%|█         | 111/1000 [06:51<54:13,  3.66s/استعلام]"
     ]
    },
    {
     "name": "stdout",
     "output_type": "stream",
     "text": [
      "Total documents in doc_data: 522931\n",
      "Sample doc_ids: ['1', '2', '3', '4', '5']\n",
      "Top indices: [146637   5207 379524  42848  47334]\n",
      "Additional words from top 5 documents: become porn star sex\n",
      "🔍 Enhanced Query: What's it like to be married to a pornstar? become porn star sex\n"
     ]
    },
    {
     "name": "stderr",
     "output_type": "stream",
     "text": [
      "معالجة الاستعلامات:  11%|█         | 112/1000 [06:55<54:03,  3.65s/استعلام]"
     ]
    },
    {
     "name": "stdout",
     "output_type": "stream",
     "text": [
      "Total documents in doc_data: 522931\n",
      "Sample doc_ids: ['1', '2', '3', '4', '5']\n",
      "Top indices: [191273  56967  84674 347599 146016]\n",
      "Additional words from top 5 documents: months 2017\n",
      "🔍 Enhanced Query: How do I prepare IBPS PO exam in one month? months 2017\n"
     ]
    },
    {
     "name": "stderr",
     "output_type": "stream",
     "text": [
      "معالجة الاستعلامات:  11%|█▏        | 113/1000 [06:58<53:51,  3.64s/استعلام]"
     ]
    },
    {
     "name": "stdout",
     "output_type": "stream",
     "text": [
      "Total documents in doc_data: 522931\n",
      "Sample doc_ids: ['1', '2', '3', '4', '5']\n",
      "Top indices: [506721   5291 506720 428870 121108]\n",
      "No similar documents found for beir with sufficient similarity\n"
     ]
    },
    {
     "name": "stderr",
     "output_type": "stream",
     "text": [
      "معالجة الاستعلامات:  11%|█▏        | 114/1000 [07:02<54:17,  3.68s/استعلام]"
     ]
    },
    {
     "name": "stdout",
     "output_type": "stream",
     "text": [
      "Total documents in doc_data: 522931\n",
      "Sample doc_ids: ['1', '2', '3', '4', '5']\n",
      "Top indices: [ 28963  59249  37353 309339  48757]\n",
      "Additional words from top 5 documents: gods\n",
      "🔍 Enhanced Query: Why do people believe in God? gods\n"
     ]
    },
    {
     "name": "stderr",
     "output_type": "stream",
     "text": [
      "معالجة الاستعلامات:  12%|█▏        | 115/1000 [07:06<54:03,  3.67s/استعلام]"
     ]
    },
    {
     "name": "stdout",
     "output_type": "stream",
     "text": [
      "Total documents in doc_data: 522931\n",
      "Sample doc_ids: ['1', '2', '3', '4', '5']\n",
      "Top indices: [  5526 264290  99757 405157 350043]\n",
      "Additional words from top 5 documents: governor taxation high opinion\n",
      "🔍 Enhanced Query: What was the poll tax? Why was it unpopular? governor taxation high opinion\n"
     ]
    },
    {
     "name": "stderr",
     "output_type": "stream",
     "text": [
      "معالجة الاستعلامات:  12%|█▏        | 116/1000 [07:09<54:45,  3.72s/استعلام]"
     ]
    },
    {
     "name": "stdout",
     "output_type": "stream",
     "text": [
      "Total documents in doc_data: 522931\n",
      "Sample doc_ids: ['1', '2', '3', '4', '5']\n",
      "Top indices: [  5533 379839 379840 207875 261973]\n",
      "Additional words from top 5 documents: much life\n",
      "🔍 Enhanced Query: Why is there suffering in the world? much life\n"
     ]
    },
    {
     "name": "stderr",
     "output_type": "stream",
     "text": [
      "معالجة الاستعلامات:  12%|█▏        | 117/1000 [07:13<55:31,  3.77s/استعلام]"
     ]
    },
    {
     "name": "stdout",
     "output_type": "stream",
     "text": [
      "Total documents in doc_data: 522931\n",
      "Sample doc_ids: ['1', '2', '3', '4', '5']\n",
      "Top indices: [234913  62541 197158  37873   5534]\n",
      "Additional words from top 5 documents: learn techniques\n",
      "🔍 Enhanced Query: How can I improve my drawing skills? learn techniques\n"
     ]
    },
    {
     "name": "stderr",
     "output_type": "stream",
     "text": [
      "معالجة الاستعلامات:  12%|█▏        | 118/1000 [07:17<54:46,  3.73s/استعلام]"
     ]
    },
    {
     "name": "stdout",
     "output_type": "stream",
     "text": [
      "Total documents in doc_data: 522931\n",
      "Sample doc_ids: ['1', '2', '3', '4', '5']\n",
      "Top indices: [  5789 408924 282999   1298 380507]\n",
      "Additional words from top 5 documents: yadav regiment role information\n",
      "🔍 Enhanced Query: What is the secrets of indian army? yadav regiment role information\n"
     ]
    },
    {
     "name": "stderr",
     "output_type": "stream",
     "text": [
      "معالجة الاستعلامات:  12%|█▏        | 119/1000 [07:20<54:03,  3.68s/استعلام]"
     ]
    },
    {
     "name": "stdout",
     "output_type": "stream",
     "text": [
      "Total documents in doc_data: 522931\n",
      "Sample doc_ids: ['1', '2', '3', '4', '5']\n",
      "Top indices: [  5832 375758 375757 173381 187317]\n",
      "Additional words from top 5 documents: examples guy identify\n",
      "🔍 Enhanced Query: What is an inanimate object? examples guy identify\n"
     ]
    },
    {
     "name": "stderr",
     "output_type": "stream",
     "text": [
      "معالجة الاستعلامات:  12%|█▏        | 120/1000 [07:24<53:26,  3.64s/استعلام]"
     ]
    },
    {
     "name": "stdout",
     "output_type": "stream",
     "text": [
      "Total documents in doc_data: 522931\n",
      "Sample doc_ids: ['1', '2', '3', '4', '5']\n",
      "Top indices: [335598 383803 384197 144508 445092]\n",
      "Additional words from top 5 documents: \n",
      "No new words to add to query for beir\n"
     ]
    },
    {
     "name": "stderr",
     "output_type": "stream",
     "text": [
      "معالجة الاستعلامات:  12%|█▏        | 121/1000 [07:28<54:31,  3.72s/استعلام]"
     ]
    },
    {
     "name": "stdout",
     "output_type": "stream",
     "text": [
      "Total documents in doc_data: 522931\n",
      "Sample doc_ids: ['1', '2', '3', '4', '5']\n",
      "Top indices: [419273 419272   5558 122120  49117]\n",
      "Additional words from top 5 documents: take creatine monohydrate boost\n",
      "🔍 Enhanced Query: What supplements can help me build muscle and burn fat? take creatine monohydrate boost\n"
     ]
    },
    {
     "name": "stderr",
     "output_type": "stream",
     "text": [
      "معالجة الاستعلامات:  12%|█▏        | 122/1000 [07:32<55:16,  3.78s/استعلام]"
     ]
    },
    {
     "name": "stdout",
     "output_type": "stream",
     "text": [
      "Total documents in doc_data: 522931\n",
      "Sample doc_ids: ['1', '2', '3', '4', '5']\n",
      "Top indices: [166587 238276 290922 200389 200390]\n",
      "No similar documents found for beir with sufficient similarity\n"
     ]
    },
    {
     "name": "stderr",
     "output_type": "stream",
     "text": [
      "معالجة الاستعلامات:  12%|█▏        | 123/1000 [07:36<55:36,  3.80s/استعلام]"
     ]
    },
    {
     "name": "stdout",
     "output_type": "stream",
     "text": [
      "Total documents in doc_data: 522931\n",
      "Sample doc_ids: ['1', '2', '3', '4', '5']\n",
      "Top indices: [  5951  80302  80301  35446 473733]\n",
      "Additional words from top 5 documents: system idea major humanities\n",
      "🔍 Enhanced Query: Why is liberal arts education considered to be bad? system idea major humanities\n"
     ]
    },
    {
     "name": "stderr",
     "output_type": "stream",
     "text": [
      "معالجة الاستعلامات:  12%|█▏        | 124/1000 [07:40<56:49,  3.89s/استعلام]"
     ]
    },
    {
     "name": "stdout",
     "output_type": "stream",
     "text": [
      "Total documents in doc_data: 522931\n",
      "Sample doc_ids: ['1', '2', '3', '4', '5']\n",
      "Top indices: [ 94188  94187 100556 109172 282266]\n",
      "Additional words from top 5 documents: entrepreneurs entrepreneurship\n",
      "🔍 Enhanced Query: Can anyone be an entrepreneur? What does it take? entrepreneurs entrepreneurship\n"
     ]
    },
    {
     "name": "stderr",
     "output_type": "stream",
     "text": [
      "معالجة الاستعلامات:  12%|█▎        | 125/1000 [07:44<56:37,  3.88s/استعلام]"
     ]
    },
    {
     "name": "stdout",
     "output_type": "stream",
     "text": [
      "Total documents in doc_data: 522931\n",
      "Sample doc_ids: ['1', '2', '3', '4', '5']\n",
      "Top indices: [ 76269  87803 108642    575  21705]\n",
      "Additional words from top 5 documents: consequences rupee 100 economic\n",
      "🔍 Enhanced Query: What will be the effect on share market after the banning of 500 and 1000 notes? consequences rupee 100 economic\n"
     ]
    },
    {
     "name": "stderr",
     "output_type": "stream",
     "text": [
      "معالجة الاستعلامات:  13%|█▎        | 126/1000 [07:48<56:33,  3.88s/استعلام]"
     ]
    },
    {
     "name": "stdout",
     "output_type": "stream",
     "text": [
      "Total documents in doc_data: 522931\n",
      "Sample doc_ids: ['1', '2', '3', '4', '5']\n",
      "Top indices: [441560   6238 105249 121597 124290]\n",
      "Additional words from top 5 documents: editor editcrop mp4 imovie\n",
      "🔍 Enhanced Query: What is the best app for photo and video editing? editor editcrop mp4 imovie\n"
     ]
    },
    {
     "name": "stderr",
     "output_type": "stream",
     "text": [
      "معالجة الاستعلامات:  13%|█▎        | 127/1000 [07:51<56:40,  3.90s/استعلام]"
     ]
    },
    {
     "name": "stdout",
     "output_type": "stream",
     "text": [
      "Total documents in doc_data: 522931\n",
      "Sample doc_ids: ['1', '2', '3', '4', '5']\n",
      "Top indices: [456404 265918 237685 113464 481517]\n",
      "Additional words from top 5 documents: tinder app better matchmaking\n",
      "🔍 Enhanced Query: Do dating apps and sites really work? tinder app better matchmaking\n"
     ]
    },
    {
     "name": "stderr",
     "output_type": "stream",
     "text": [
      "معالجة الاستعلامات:  13%|█▎        | 128/1000 [07:55<55:57,  3.85s/استعلام]"
     ]
    },
    {
     "name": "stdout",
     "output_type": "stream",
     "text": [
      "Total documents in doc_data: 522931\n",
      "Sample doc_ids: ['1', '2', '3', '4', '5']\n",
      "Top indices: [ 51448  69356 400969  82607 425449]\n",
      "Additional words from top 5 documents: ipl2016 2015\n",
      "🔍 Enhanced Query: Who will win IPL 2013? ipl2016 2015\n"
     ]
    },
    {
     "name": "stderr",
     "output_type": "stream",
     "text": [
      "معالجة الاستعلامات:  13%|█▎        | 129/1000 [07:59<55:36,  3.83s/استعلام]"
     ]
    },
    {
     "name": "stdout",
     "output_type": "stream",
     "text": [
      "Total documents in doc_data: 522931\n",
      "Sample doc_ids: ['1', '2', '3', '4', '5']\n",
      "Top indices: [  6287 421839 386521 176100 211394]\n",
      "Additional words from top 5 documents: improve pattern play role\n",
      "🔍 Enhanced Query: How do I learn strumming on a guitar? improve pattern play role\n"
     ]
    },
    {
     "name": "stderr",
     "output_type": "stream",
     "text": [
      "معالجة الاستعلامات:  13%|█▎        | 130/1000 [08:03<56:11,  3.88s/استعلام]"
     ]
    },
    {
     "name": "stdout",
     "output_type": "stream",
     "text": [
      "Total documents in doc_data: 522931\n",
      "Sample doc_ids: ['1', '2', '3', '4', '5']\n",
      "Top indices: [369869   5907 299851 280124 493552]\n",
      "Additional words from top 5 documents: exercise jog skinny diet\n",
      "🔍 Enhanced Query: What are some ways to get leaner? exercise jog skinny diet\n"
     ]
    },
    {
     "name": "stderr",
     "output_type": "stream",
     "text": [
      "معالجة الاستعلامات:  13%|█▎        | 131/1000 [08:07<56:28,  3.90s/استعلام]"
     ]
    },
    {
     "name": "stdout",
     "output_type": "stream",
     "text": [
      "Total documents in doc_data: 522931\n",
      "Sample doc_ids: ['1', '2', '3', '4', '5']\n",
      "Top indices: [ 19020 298790 233438 146485  58340]\n",
      "Additional words from top 5 documents: pros con\n",
      "🔍 Enhanced Query: How do GST bill will benefit local people? pros con\n"
     ]
    },
    {
     "name": "stderr",
     "output_type": "stream",
     "text": [
      "معالجة الاستعلامات:  13%|█▎        | 132/1000 [08:11<56:15,  3.89s/استعلام]"
     ]
    },
    {
     "name": "stdout",
     "output_type": "stream",
     "text": [
      "Total documents in doc_data: 522931\n",
      "Sample doc_ids: ['1', '2', '3', '4', '5']\n",
      "Top indices: [298900  43454  61465  61464 384445]\n",
      "Additional words from top 5 documents: efficiently start online\n",
      "🔍 Enhanced Query: How long did it take you to learn JavaScript? efficiently start online\n"
     ]
    },
    {
     "name": "stderr",
     "output_type": "stream",
     "text": [
      "معالجة الاستعلامات:  13%|█▎        | 133/1000 [08:15<56:48,  3.93s/استعلام]"
     ]
    },
    {
     "name": "stdout",
     "output_type": "stream",
     "text": [
      "Total documents in doc_data: 522931\n",
      "Sample doc_ids: ['1', '2', '3', '4', '5']\n",
      "Top indices: [ 23938 154694  80963  76308 181082]\n",
      "Additional words from top 5 documents: trace mobiles location mobile\n",
      "🔍 Enhanced Query: How do you track someone with their cell phone? trace mobiles location mobile\n"
     ]
    },
    {
     "name": "stderr",
     "output_type": "stream",
     "text": [
      "معالجة الاستعلامات:  13%|█▎        | 134/1000 [08:19<57:38,  3.99s/استعلام]"
     ]
    },
    {
     "name": "stdout",
     "output_type": "stream",
     "text": [
      "Total documents in doc_data: 522931\n",
      "Sample doc_ids: ['1', '2', '3', '4', '5']\n",
      "Top indices: [169718 477760 135254 135253 262138]\n",
      "Additional words from top 5 documents: online outliner write project\n",
      "🔍 Enhanced Query: What is the best way to outline your novel? online outliner write project\n"
     ]
    },
    {
     "name": "stderr",
     "output_type": "stream",
     "text": [
      "معالجة الاستعلامات:  14%|█▎        | 135/1000 [08:23<58:28,  4.06s/استعلام]"
     ]
    },
    {
     "name": "stdout",
     "output_type": "stream",
     "text": [
      "Total documents in doc_data: 522931\n",
      "Sample doc_ids: ['1', '2', '3', '4', '5']\n",
      "Top indices: [286130  50600 476479   6405 382074]\n",
      "Additional words from top 5 documents: robert frost poet world\n",
      "🔍 Enhanced Query: Who is the most famous poets? robert frost poet world\n"
     ]
    },
    {
     "name": "stderr",
     "output_type": "stream",
     "text": [
      "معالجة الاستعلامات:  14%|█▎        | 136/1000 [08:27<57:37,  4.00s/استعلام]"
     ]
    },
    {
     "name": "stdout",
     "output_type": "stream",
     "text": [
      "Total documents in doc_data: 522931\n",
      "Sample doc_ids: ['1', '2', '3', '4', '5']\n",
      "Top indices: [338208 104273 221190  28561 443457]\n",
      "Additional words from top 5 documents: suitable installation provider puente\n",
      "🔍 Enhanced Query: Why Tesla is not installing solar panels on cars? suitable installation provider puente\n"
     ]
    },
    {
     "name": "stderr",
     "output_type": "stream",
     "text": [
      "معالجة الاستعلامات:  14%|█▎        | 137/1000 [08:31<56:48,  3.95s/استعلام]"
     ]
    },
    {
     "name": "stdout",
     "output_type": "stream",
     "text": [
      "Total documents in doc_data: 522931\n",
      "Sample doc_ids: ['1', '2', '3', '4', '5']\n",
      "Top indices: [129387 233743 129386 258435  99217]\n",
      "Additional words from top 5 documents: increase weigh add gain\n",
      "🔍 Enhanced Query: How can I increse my weight? increase weigh add gain\n"
     ]
    },
    {
     "name": "stderr",
     "output_type": "stream",
     "text": [
      "معالجة الاستعلامات:  14%|█▍        | 138/1000 [08:35<56:13,  3.91s/استعلام]"
     ]
    },
    {
     "name": "stdout",
     "output_type": "stream",
     "text": [
      "Total documents in doc_data: 522931\n",
      "Sample doc_ids: ['1', '2', '3', '4', '5']\n",
      "Top indices: [ 24122  18705  67968  83421 180726]\n",
      "Additional words from top 5 documents: protons attract valence dont\n",
      "🔍 Enhanced Query: Why do electrons repel each other? protons attract valence dont\n"
     ]
    },
    {
     "name": "stderr",
     "output_type": "stream",
     "text": [
      "معالجة الاستعلامات:  14%|█▍        | 139/1000 [08:39<56:01,  3.90s/استعلام]"
     ]
    },
    {
     "name": "stdout",
     "output_type": "stream",
     "text": [
      "Total documents in doc_data: 522931\n",
      "Sample doc_ids: ['1', '2', '3', '4', '5']\n",
      "Top indices: [ 76782 285240  48384  45829 271390]\n",
      "Additional words from top 5 documents: stories god\n",
      "🔍 Enhanced Query: What experience has most restored your faith in humanity? stories god\n"
     ]
    },
    {
     "name": "stderr",
     "output_type": "stream",
     "text": [
      "معالجة الاستعلامات:  14%|█▍        | 140/1000 [08:42<55:26,  3.87s/استعلام]"
     ]
    },
    {
     "name": "stdout",
     "output_type": "stream",
     "text": [
      "Total documents in doc_data: 522931\n",
      "Sample doc_ids: ['1', '2', '3', '4', '5']\n",
      "Top indices: [171065 292058  86921 106906 188410]\n",
      "No similar documents found for beir with sufficient similarity\n"
     ]
    },
    {
     "name": "stderr",
     "output_type": "stream",
     "text": [
      "معالجة الاستعلامات:  14%|█▍        | 141/1000 [08:46<54:45,  3.82s/استعلام]"
     ]
    },
    {
     "name": "stdout",
     "output_type": "stream",
     "text": [
      "Total documents in doc_data: 522931\n",
      "Sample doc_ids: ['1', '2', '3', '4', '5']\n",
      "Top indices: [ 73804 344056  41556 274611  69345]\n",
      "Additional words from top 5 documents: showtime hbo watch supernatural\n",
      "🔍 Enhanced Query: Why are books better than television? showtime hbo watch supernatural\n"
     ]
    },
    {
     "name": "stderr",
     "output_type": "stream",
     "text": [
      "معالجة الاستعلامات:  14%|█▍        | 142/1000 [08:50<53:36,  3.75s/استعلام]"
     ]
    },
    {
     "name": "stdout",
     "output_type": "stream",
     "text": [
      "Total documents in doc_data: 522931\n",
      "Sample doc_ids: ['1', '2', '3', '4', '5']\n",
      "Top indices: [107446   3160 427535 130841 198811]\n",
      "Additional words from top 5 documents: blogger\n",
      "🔍 Enhanced Query: What is the best way to increase traffic for a new blog? blogger\n"
     ]
    },
    {
     "name": "stderr",
     "output_type": "stream",
     "text": [
      "معالجة الاستعلامات:  14%|█▍        | 143/1000 [08:53<52:56,  3.71s/استعلام]"
     ]
    },
    {
     "name": "stdout",
     "output_type": "stream",
     "text": [
      "Total documents in doc_data: 522931\n",
      "Sample doc_ids: ['1', '2', '3', '4', '5']\n",
      "Top indices: [176204 230063 327234 117186 295059]\n",
      "Additional words from top 5 documents: better educate intelligent improve\n",
      "🔍 Enhanced Query: What makes me smarter than other people? better educate intelligent improve\n"
     ]
    },
    {
     "name": "stderr",
     "output_type": "stream",
     "text": [
      "معالجة الاستعلامات:  14%|█▍        | 144/1000 [08:57<53:28,  3.75s/استعلام]"
     ]
    },
    {
     "name": "stdout",
     "output_type": "stream",
     "text": [
      "Total documents in doc_data: 522931\n",
      "Sample doc_ids: ['1', '2', '3', '4', '5']\n",
      "Top indices: [357613   7199 145217 404368  72046]\n",
      "Additional words from top 5 documents: use call sim card\n",
      "🔍 Enhanced Query: How do you activate a Verizon phone over the phone? use call sim card\n"
     ]
    },
    {
     "name": "stderr",
     "output_type": "stream",
     "text": [
      "معالجة الاستعلامات:  14%|█▍        | 145/1000 [09:01<53:37,  3.76s/استعلام]"
     ]
    },
    {
     "name": "stdout",
     "output_type": "stream",
     "text": [
      "Total documents in doc_data: 522931\n",
      "Sample doc_ids: ['1', '2', '3', '4', '5']\n",
      "Top indices: [241562 168812  74277 103144  63693]\n",
      "Additional words from top 5 documents: favorite study\n",
      "🔍 Enhanced Query: What are some interesting things about animals? favorite study\n"
     ]
    },
    {
     "name": "stderr",
     "output_type": "stream",
     "text": [
      "معالجة الاستعلامات:  15%|█▍        | 146/1000 [09:05<53:14,  3.74s/استعلام]"
     ]
    },
    {
     "name": "stdout",
     "output_type": "stream",
     "text": [
      "Total documents in doc_data: 522931\n",
      "Sample doc_ids: ['1', '2', '3', '4', '5']\n",
      "Top indices: [120642   7282  28513  12637 403557]\n",
      "Additional words from top 5 documents: opensource project software github\n",
      "🔍 Enhanced Query: What does contributing to open source actually mean? opensource project software github\n"
     ]
    },
    {
     "name": "stderr",
     "output_type": "stream",
     "text": [
      "معالجة الاستعلامات:  15%|█▍        | 147/1000 [09:08<53:48,  3.78s/استعلام]"
     ]
    },
    {
     "name": "stdout",
     "output_type": "stream",
     "text": [
      "Total documents in doc_data: 522931\n",
      "Sample doc_ids: ['1', '2', '3', '4', '5']\n",
      "Top indices: [ 96127 236532 297534 465677  89750]\n",
      "Additional words from top 5 documents: \n",
      "No new words to add to query for beir\n"
     ]
    },
    {
     "name": "stderr",
     "output_type": "stream",
     "text": [
      "معالجة الاستعلامات:  15%|█▍        | 148/1000 [09:12<53:31,  3.77s/استعلام]"
     ]
    },
    {
     "name": "stdout",
     "output_type": "stream",
     "text": [
      "Total documents in doc_data: 522931\n",
      "Sample doc_ids: ['1', '2', '3', '4', '5']\n",
      "Top indices: [103174 509252  15769 509253 494557]\n",
      "Additional words from top 5 documents: stop good someone\n",
      "🔍 Enhanced Query: Why do we say god bless you when we sneeze? stop good someone\n"
     ]
    },
    {
     "name": "stderr",
     "output_type": "stream",
     "text": [
      "معالجة الاستعلامات:  15%|█▍        | 149/1000 [09:16<54:22,  3.83s/استعلام]"
     ]
    },
    {
     "name": "stdout",
     "output_type": "stream",
     "text": [
      "Total documents in doc_data: 522931\n",
      "Sample doc_ids: ['1', '2', '3', '4', '5']\n",
      "Top indices: [ 14728 195290 208053  67862  33084]\n",
      "Additional words from top 5 documents: apply university join unversity\n",
      "🔍 Enhanced Query: How do I get into Harvard? apply university join unversity\n"
     ]
    },
    {
     "name": "stderr",
     "output_type": "stream",
     "text": [
      "معالجة الاستعلامات:  15%|█▌        | 150/1000 [09:20<54:36,  3.85s/استعلام]"
     ]
    },
    {
     "name": "stdout",
     "output_type": "stream",
     "text": [
      "Total documents in doc_data: 522931\n",
      "Sample doc_ids: ['1', '2', '3', '4', '5']\n",
      "Top indices: [  7462 129919 384273 352136 352135]\n",
      "Additional words from top 5 documents: learn beginner player tutorials\n",
      "🔍 Enhanced Query: Which is the best chess book? learn beginner player tutorials\n"
     ]
    },
    {
     "name": "stderr",
     "output_type": "stream",
     "text": [
      "معالجة الاستعلامات:  15%|█▌        | 151/1000 [09:24<53:03,  3.75s/استعلام]"
     ]
    },
    {
     "name": "stdout",
     "output_type": "stream",
     "text": [
      "Total documents in doc_data: 522931\n",
      "Sample doc_ids: ['1', '2', '3', '4', '5']\n",
      "Top indices: [ 28513  37343  90866  12637 229343]\n",
      "Additional words from top 5 documents: opensource software development participate\n",
      "🔍 Enhanced Query: How may I contribute to the world of open source? opensource software development participate\n"
     ]
    },
    {
     "name": "stderr",
     "output_type": "stream",
     "text": [
      "معالجة الاستعلامات:  15%|█▌        | 152/1000 [09:27<51:54,  3.67s/استعلام]"
     ]
    },
    {
     "name": "stdout",
     "output_type": "stream",
     "text": [
      "Total documents in doc_data: 522931\n",
      "Sample doc_ids: ['1', '2', '3', '4', '5']\n",
      "Top indices: [460749 345748   7508  28997 131420]\n",
      "Additional words from top 5 documents: war achieve attainable\n",
      "🔍 Enhanced Query: How do I reach destination peace? war achieve attainable\n"
     ]
    },
    {
     "name": "stderr",
     "output_type": "stream",
     "text": [
      "معالجة الاستعلامات:  15%|█▌        | 153/1000 [09:31<53:16,  3.77s/استعلام]"
     ]
    },
    {
     "name": "stdout",
     "output_type": "stream",
     "text": [
      "Total documents in doc_data: 522931\n",
      "Sample doc_ids: ['1', '2', '3', '4', '5']\n",
      "Top indices: [ 36380 114198   7537 101939 415062]\n",
      "Additional words from top 5 documents: criticisms paint overhyped paintings\n",
      "🔍 Enhanced Query: Leonardo da Vinci: Is Mona Lisa overrated? criticisms paint overhyped paintings\n"
     ]
    },
    {
     "name": "stderr",
     "output_type": "stream",
     "text": [
      "معالجة الاستعلامات:  15%|█▌        | 154/1000 [09:35<52:41,  3.74s/استعلام]"
     ]
    },
    {
     "name": "stdout",
     "output_type": "stream",
     "text": [
      "Total documents in doc_data: 522931\n",
      "Sample doc_ids: ['1', '2', '3', '4', '5']\n",
      "Top indices: [135179 268386 318616 318615  10554]\n",
      "Additional words from top 5 documents: become improve height\n",
      "🔍 Enhanced Query: Can I grow shorter? become improve height\n"
     ]
    },
    {
     "name": "stderr",
     "output_type": "stream",
     "text": [
      "معالجة الاستعلامات:  16%|█▌        | 155/1000 [09:38<52:21,  3.72s/استعلام]"
     ]
    },
    {
     "name": "stdout",
     "output_type": "stream",
     "text": [
      "Total documents in doc_data: 522931\n",
      "Sample doc_ids: ['1', '2', '3', '4', '5']\n",
      "Top indices: [406030 426495  52620 441175 252433]\n",
      "Additional words from top 5 documents: inertial reference laws newton\n",
      "🔍 Enhanced Query: Is the Newton’s third law valid in non-inertial frame? Justify. inertial reference laws newton\n"
     ]
    },
    {
     "name": "stderr",
     "output_type": "stream",
     "text": [
      "معالجة الاستعلامات:  16%|█▌        | 156/1000 [09:42<52:20,  3.72s/استعلام]"
     ]
    },
    {
     "name": "stdout",
     "output_type": "stream",
     "text": [
      "Total documents in doc_data: 522931\n",
      "Sample doc_ids: ['1', '2', '3', '4', '5']\n",
      "Top indices: [316022 107997  80292 497891 443922]\n",
      "Additional words from top 5 documents: people manipulate psychopath narcissists\n",
      "🔍 Enhanced Query: How do you recognise a manipulative person? people manipulate psychopath narcissists\n"
     ]
    },
    {
     "name": "stderr",
     "output_type": "stream",
     "text": [
      "معالجة الاستعلامات:  16%|█▌        | 157/1000 [09:46<53:09,  3.78s/استعلام]"
     ]
    },
    {
     "name": "stdout",
     "output_type": "stream",
     "text": [
      "Total documents in doc_data: 522931\n",
      "Sample doc_ids: ['1', '2', '3', '4', '5']\n",
      "Top indices: [184027 169026 184028 436343 144735]\n",
      "Additional words from top 5 documents: photoediting photos synchronize good\n",
      "🔍 Enhanced Query: Which are the best photo editing apps for Android? photoediting photos synchronize good\n"
     ]
    },
    {
     "name": "stderr",
     "output_type": "stream",
     "text": [
      "معالجة الاستعلامات:  16%|█▌        | 158/1000 [09:50<53:23,  3.80s/استعلام]"
     ]
    },
    {
     "name": "stdout",
     "output_type": "stream",
     "text": [
      "Total documents in doc_data: 522931\n",
      "Sample doc_ids: ['1', '2', '3', '4', '5']\n",
      "Top indices: [  7818 315811 315812  64684 480603]\n",
      "Additional words from top 5 documents: sector location bhk flat\n",
      "🔍 Enhanced Query: In what sectors is it best to live in Gurgaon (Gurugram)? sector location bhk flat\n"
     ]
    },
    {
     "name": "stderr",
     "output_type": "stream",
     "text": [
      "معالجة الاستعلامات:  16%|█▌        | 159/1000 [09:54<53:39,  3.83s/استعلام]"
     ]
    },
    {
     "name": "stdout",
     "output_type": "stream",
     "text": [
      "Total documents in doc_data: 522931\n",
      "Sample doc_ids: ['1', '2', '3', '4', '5']\n",
      "Top indices: [  7823 459132 459131 255555 236113]\n",
      "Additional words from top 5 documents: pilotuav operator use join\n",
      "🔍 Enhanced Query: How do you become a military drone pilot? pilotuav operator use join\n"
     ]
    },
    {
     "name": "stderr",
     "output_type": "stream",
     "text": [
      "معالجة الاستعلامات:  16%|█▌        | 160/1000 [09:57<52:18,  3.74s/استعلام]"
     ]
    },
    {
     "name": "stdout",
     "output_type": "stream",
     "text": [
      "Total documents in doc_data: 522931\n",
      "Sample doc_ids: ['1', '2', '3', '4', '5']\n",
      "Top indices: [  7878 351755 328033  25000 374358]\n",
      "Additional words from top 5 documents: ban peta tamilnadu panda\n",
      "🔍 Enhanced Query: What are legal pets in India? ban peta tamilnadu panda\n"
     ]
    },
    {
     "name": "stderr",
     "output_type": "stream",
     "text": [
      "معالجة الاستعلامات:  16%|█▌        | 161/1000 [10:01<51:38,  3.69s/استعلام]"
     ]
    },
    {
     "name": "stdout",
     "output_type": "stream",
     "text": [
      "Total documents in doc_data: 522931\n",
      "Sample doc_ids: ['1', '2', '3', '4', '5']\n",
      "Top indices: [315470  10293 437739 393586 130456]\n",
      "Additional words from top 5 documents: hire professional paint contractors\n",
      "🔍 Enhanced Query: Where can I find experience Painters in Brisbane? hire professional paint contractors\n"
     ]
    },
    {
     "name": "stderr",
     "output_type": "stream",
     "text": [
      "معالجة الاستعلامات:  16%|█▌        | 162/1000 [10:05<51:11,  3.66s/استعلام]"
     ]
    },
    {
     "name": "stdout",
     "output_type": "stream",
     "text": [
      "Total documents in doc_data: 522931\n",
      "Sample doc_ids: ['1', '2', '3', '4', '5']\n",
      "Top indices: [336883 336884 197771 474507 148132]\n",
      "Additional words from top 5 documents: fix error 500 404\n",
      "🔍 Enhanced Query: Why is YouTube not working on my iPhone? fix error 500 404\n"
     ]
    },
    {
     "name": "stderr",
     "output_type": "stream",
     "text": [
      "معالجة الاستعلامات:  16%|█▋        | 163/1000 [10:08<50:16,  3.60s/استعلام]"
     ]
    },
    {
     "name": "stdout",
     "output_type": "stream",
     "text": [
      "Total documents in doc_data: 522931\n",
      "Sample doc_ids: ['1', '2', '3', '4', '5']\n",
      "Top indices: [289953 209516 350969 268514  37383]\n",
      "Additional words from top 5 documents: launch soon pro version\n",
      "🔍 Enhanced Query: Xiaomi Redmi note 4 release date in India? launch soon pro version\n"
     ]
    },
    {
     "name": "stderr",
     "output_type": "stream",
     "text": [
      "معالجة الاستعلامات:  16%|█▋        | 164/1000 [10:12<50:10,  3.60s/استعلام]"
     ]
    },
    {
     "name": "stdout",
     "output_type": "stream",
     "text": [
      "Total documents in doc_data: 522931\n",
      "Sample doc_ids: ['1', '2', '3', '4', '5']\n",
      "Top indices: [436573 420685 313642  80804  80805]\n",
      "Additional words from top 5 documents: apply internship sector see\n",
      "🔍 Enhanced Query: What is the scope of automobile engineering in India? apply internship sector see\n"
     ]
    },
    {
     "name": "stderr",
     "output_type": "stream",
     "text": [
      "معالجة الاستعلامات:  16%|█▋        | 165/1000 [10:15<50:03,  3.60s/استعلام]"
     ]
    },
    {
     "name": "stdout",
     "output_type": "stream",
     "text": [
      "Total documents in doc_data: 522931\n",
      "Sample doc_ids: ['1', '2', '3', '4', '5']\n",
      "Top indices: [  6207 219707 430843 267826 500007]\n",
      "Additional words from top 5 documents: psychiatry legitimate schizophrenia cure\n",
      "🔍 Enhanced Query: Is mental illness is a choice? psychiatry legitimate schizophrenia cure\n"
     ]
    },
    {
     "name": "stderr",
     "output_type": "stream",
     "text": [
      "معالجة الاستعلامات:  17%|█▋        | 166/1000 [10:19<50:24,  3.63s/استعلام]"
     ]
    },
    {
     "name": "stdout",
     "output_type": "stream",
     "text": [
      "Total documents in doc_data: 522931\n",
      "Sample doc_ids: ['1', '2', '3', '4', '5']\n",
      "Top indices: [  8000 382696  96513 386574 494732]\n",
      "Additional words from top 5 documents: corrupt recover data ask\n",
      "🔍 Enhanced Query: How do I repair a damaged memory card? corrupt recover data ask\n"
     ]
    },
    {
     "name": "stderr",
     "output_type": "stream",
     "text": [
      "معالجة الاستعلامات:  17%|█▋        | 167/1000 [10:23<50:32,  3.64s/استعلام]"
     ]
    },
    {
     "name": "stdout",
     "output_type": "stream",
     "text": [
      "Total documents in doc_data: 522931\n",
      "Sample doc_ids: ['1', '2', '3', '4', '5']\n",
      "Top indices: [219963 325390 117917  62102 139910]\n",
      "No similar documents found for beir with sufficient similarity\n"
     ]
    },
    {
     "name": "stderr",
     "output_type": "stream",
     "text": [
      "معالجة الاستعلامات:  17%|█▋        | 168/1000 [10:26<50:16,  3.63s/استعلام]"
     ]
    },
    {
     "name": "stdout",
     "output_type": "stream",
     "text": [
      "Total documents in doc_data: 522931\n",
      "Sample doc_ids: ['1', '2', '3', '4', '5']\n",
      "Top indices: [  8015 340852 317688 340851  64599]\n",
      "Additional words from top 5 documents: favorite sitcoms favourite house\n",
      "🔍 Enhanced Query: What are the best drama tv show? favorite sitcoms favourite house\n"
     ]
    },
    {
     "name": "stderr",
     "output_type": "stream",
     "text": [
      "معالجة الاستعلامات:  17%|█▋        | 169/1000 [10:30<49:26,  3.57s/استعلام]"
     ]
    },
    {
     "name": "stdout",
     "output_type": "stream",
     "text": [
      "Total documents in doc_data: 522931\n",
      "Sample doc_ids: ['1', '2', '3', '4', '5']\n",
      "Top indices: [ 19764 388397 388398 363459   8078]\n",
      "Additional words from top 5 documents: future degree must\n",
      "🔍 Enhanced Query: What is the scope for hardware and networking? future degree must\n"
     ]
    },
    {
     "name": "stderr",
     "output_type": "stream",
     "text": [
      "معالجة الاستعلامات:  17%|█▋        | 170/1000 [10:33<49:43,  3.60s/استعلام]"
     ]
    },
    {
     "name": "stdout",
     "output_type": "stream",
     "text": [
      "Total documents in doc_data: 522931\n",
      "Sample doc_ids: ['1', '2', '3', '4', '5']\n",
      "Top indices: [ 35345  88183 100626 100627  14761]\n",
      "Additional words from top 5 documents: \n",
      "No new words to add to query for beir\n"
     ]
    },
    {
     "name": "stderr",
     "output_type": "stream",
     "text": [
      "معالجة الاستعلامات:  17%|█▋        | 171/1000 [10:37<50:51,  3.68s/استعلام]"
     ]
    },
    {
     "name": "stdout",
     "output_type": "stream",
     "text": [
      "Total documents in doc_data: 522931\n",
      "Sample doc_ids: ['1', '2', '3', '4', '5']\n",
      "Top indices: [499433   8098 284482 492264  86015]\n",
      "Additional words from top 5 documents: install use microphone special\n",
      "🔍 Enhanced Query: What are the features of ARRI Alexa Mini? install use microphone special\n"
     ]
    },
    {
     "name": "stderr",
     "output_type": "stream",
     "text": [
      "معالجة الاستعلامات:  17%|█▋        | 172/1000 [10:41<51:10,  3.71s/استعلام]"
     ]
    },
    {
     "name": "stdout",
     "output_type": "stream",
     "text": [
      "Total documents in doc_data: 522931\n",
      "Sample doc_ids: ['1', '2', '3', '4', '5']\n",
      "Top indices: [162322 227492 162321 452395 246495]\n",
      "Additional words from top 5 documents: reinstall service error rh01\n",
      "🔍 Enhanced Query: What can cause the Google Play store to not open? How are such probelms fixed? reinstall service error rh01\n"
     ]
    },
    {
     "name": "stderr",
     "output_type": "stream",
     "text": [
      "معالجة الاستعلامات:  17%|█▋        | 173/1000 [10:44<50:31,  3.67s/استعلام]"
     ]
    },
    {
     "name": "stdout",
     "output_type": "stream",
     "text": [
      "Total documents in doc_data: 522931\n",
      "Sample doc_ids: ['1', '2', '3', '4', '5']\n",
      "Top indices: [  8256 208554 151795 489110 489111]\n",
      "Additional words from top 5 documents: member powerful\n",
      "🔍 Enhanced Query: Why isn't Israel in NATO? member powerful\n"
     ]
    },
    {
     "name": "stderr",
     "output_type": "stream",
     "text": [
      "معالجة الاستعلامات:  17%|█▋        | 174/1000 [10:48<49:56,  3.63s/استعلام]"
     ]
    },
    {
     "name": "stdout",
     "output_type": "stream",
     "text": [
      "Total documents in doc_data: 522931\n",
      "Sample doc_ids: ['1', '2', '3', '4', '5']\n",
      "Top indices: [253049 328087 420383 305298 374386]\n",
      "Additional words from top 5 documents: \n",
      "No new words to add to query for beir\n"
     ]
    },
    {
     "name": "stderr",
     "output_type": "stream",
     "text": [
      "معالجة الاستعلامات:  18%|█▊        | 175/1000 [10:52<50:13,  3.65s/استعلام]"
     ]
    },
    {
     "name": "stdout",
     "output_type": "stream",
     "text": [
      "Total documents in doc_data: 522931\n",
      "Sample doc_ids: ['1', '2', '3', '4', '5']\n",
      "Top indices: [409997 466180 492304 297204 297205]\n",
      "Additional words from top 5 documents: choose topic point post\n",
      "🔍 Enhanced Query: How can I make an Opinion Blog on Quora? choose topic point post\n"
     ]
    },
    {
     "name": "stderr",
     "output_type": "stream",
     "text": [
      "معالجة الاستعلامات:  18%|█▊        | 176/1000 [10:55<50:25,  3.67s/استعلام]"
     ]
    },
    {
     "name": "stdout",
     "output_type": "stream",
     "text": [
      "Total documents in doc_data: 522931\n",
      "Sample doc_ids: ['1', '2', '3', '4', '5']\n",
      "Top indices: [508917  42180  81226  81225 368916]\n",
      "Additional words from top 5 documents: 2017 prophecies accurate nostradamuss\n",
      "🔍 Enhanced Query: How far is Nostradamus predictions true? 2017 prophecies accurate nostradamuss\n"
     ]
    },
    {
     "name": "stderr",
     "output_type": "stream",
     "text": [
      "معالجة الاستعلامات:  18%|█▊        | 177/1000 [10:59<50:23,  3.67s/استعلام]"
     ]
    },
    {
     "name": "stdout",
     "output_type": "stream",
     "text": [
      "Total documents in doc_data: 522931\n",
      "Sample doc_ids: ['1', '2', '3', '4', '5']\n",
      "Top indices: [513237   8457 216267 184407 224862]\n",
      "Additional words from top 5 documents: think people obsess quorans\n",
      "🔍 Enhanced Query: Why are INTJs and INTPs so popular on Quora? think people obsess quorans\n"
     ]
    },
    {
     "name": "stderr",
     "output_type": "stream",
     "text": [
      "معالجة الاستعلامات:  18%|█▊        | 178/1000 [11:03<50:35,  3.69s/استعلام]"
     ]
    },
    {
     "name": "stdout",
     "output_type": "stream",
     "text": [
      "Total documents in doc_data: 522931\n",
      "Sample doc_ids: ['1', '2', '3', '4', '5']\n",
      "Top indices: [ 81255 228754 228753  81256 507969]\n",
      "Additional words from top 5 documents: graphics interior designers\n",
      "🔍 Enhanced Query: I am interested in a fashion designing programme. Which are the best institutes in Pune? graphics interior designers\n"
     ]
    },
    {
     "name": "stderr",
     "output_type": "stream",
     "text": [
      "معالجة الاستعلامات:  18%|█▊        | 179/1000 [11:07<50:27,  3.69s/استعلام]"
     ]
    },
    {
     "name": "stdout",
     "output_type": "stream",
     "text": [
      "Total documents in doc_data: 522931\n",
      "Sample doc_ids: ['1', '2', '3', '4', '5']\n",
      "Top indices: [  8560  28832 312103 312102 209553]\n",
      "Additional words from top 5 documents: 20s do adolescence every\n",
      "🔍 Enhanced Query: If you could relive your teenage years what would you do? 20s do adolescence every\n"
     ]
    },
    {
     "name": "stderr",
     "output_type": "stream",
     "text": [
      "معالجة الاستعلامات:  18%|█▊        | 180/1000 [11:10<50:21,  3.68s/استعلام]"
     ]
    },
    {
     "name": "stdout",
     "output_type": "stream",
     "text": [
      "Total documents in doc_data: 522931\n",
      "Sample doc_ids: ['1', '2', '3', '4', '5']\n",
      "Top indices: [  8585 234986 306444 143450 143451]\n",
      "Additional words from top 5 documents: white pregnancy watery normal\n",
      "🔍 Enhanced Query: What can cause a yellow jelly discharge? white pregnancy watery normal\n"
     ]
    },
    {
     "name": "stderr",
     "output_type": "stream",
     "text": [
      "معالجة الاستعلامات:  18%|█▊        | 181/1000 [11:14<50:31,  3.70s/استعلام]"
     ]
    },
    {
     "name": "stdout",
     "output_type": "stream",
     "text": [
      "Total documents in doc_data: 522931\n",
      "Sample doc_ids: ['1', '2', '3', '4', '5']\n",
      "Top indices: [332473  55510  64473  26552  24411]\n",
      "Additional words from top 5 documents: texas florida idaho pennsylvania\n",
      "🔍 Enhanced Query: What are the safety precautions on handling shotguns proposed by the NRA in the entire U.S. including it’s territories and possessions? 1 texas florida idaho pennsylvania\n"
     ]
    },
    {
     "name": "stderr",
     "output_type": "stream",
     "text": [
      "معالجة الاستعلامات:  18%|█▊        | 182/1000 [11:18<50:22,  3.69s/استعلام]"
     ]
    },
    {
     "name": "stdout",
     "output_type": "stream",
     "text": [
      "Total documents in doc_data: 522931\n",
      "Sample doc_ids: ['1', '2', '3', '4', '5']\n",
      "Top indices: [ 82563   5852 456209  25065 269892]\n",
      "Additional words from top 5 documents: must listen carnatic best\n",
      "🔍 Enhanced Query: What are some lesser known must-listen songs? must listen carnatic best\n"
     ]
    },
    {
     "name": "stderr",
     "output_type": "stream",
     "text": [
      "معالجة الاستعلامات:  18%|█▊        | 183/1000 [11:21<50:11,  3.69s/استعلام]"
     ]
    },
    {
     "name": "stdout",
     "output_type": "stream",
     "text": [
      "Total documents in doc_data: 522931\n",
      "Sample doc_ids: ['1', '2', '3', '4', '5']\n",
      "Top indices: [391340 359006 269596 360935 313630]\n",
      "Additional words from top 5 documents: ideas name mobile apple\n",
      "🔍 Enhanced Query: Can I patent an app idea? ideas name mobile apple\n"
     ]
    },
    {
     "name": "stderr",
     "output_type": "stream",
     "text": [
      "معالجة الاستعلامات:  18%|█▊        | 184/1000 [11:25<49:56,  3.67s/استعلام]"
     ]
    },
    {
     "name": "stdout",
     "output_type": "stream",
     "text": [
      "Total documents in doc_data: 522931\n",
      "Sample doc_ids: ['1', '2', '3', '4', '5']\n",
      "Top indices: [  8660 211516 470915 470914 484078]\n",
      "Additional words from top 5 documents: \n",
      "No new words to add to query for beir\n"
     ]
    },
    {
     "name": "stderr",
     "output_type": "stream",
     "text": [
      "معالجة الاستعلامات:  18%|█▊        | 185/1000 [11:29<49:32,  3.65s/استعلام]"
     ]
    },
    {
     "name": "stdout",
     "output_type": "stream",
     "text": [
      "Total documents in doc_data: 522931\n",
      "Sample doc_ids: ['1', '2', '3', '4', '5']\n",
      "Top indices: [326280 299678 448546  58326 299677]\n",
      "Additional words from top 5 documents: university btech placement siib\n",
      "🔍 Enhanced Query: How is the PES Bangalore for a B Tech in Civil Engineering? university btech placement siib\n"
     ]
    },
    {
     "name": "stderr",
     "output_type": "stream",
     "text": [
      "معالجة الاستعلامات:  19%|█▊        | 186/1000 [11:32<49:08,  3.62s/استعلام]"
     ]
    },
    {
     "name": "stdout",
     "output_type": "stream",
     "text": [
      "Total documents in doc_data: 522931\n",
      "Sample doc_ids: ['1', '2', '3', '4', '5']\n",
      "Top indices: [315971 285253 426248 261230 256431]\n",
      "Additional words from top 5 documents: online tutorials beginners ansys\n",
      "🔍 Enhanced Query: What are the best sources to learn programming? online tutorials beginners ansys\n"
     ]
    },
    {
     "name": "stderr",
     "output_type": "stream",
     "text": [
      "معالجة الاستعلامات:  19%|█▊        | 187/1000 [11:36<49:22,  3.64s/استعلام]"
     ]
    },
    {
     "name": "stdout",
     "output_type": "stream",
     "text": [
      "Total documents in doc_data: 522931\n",
      "Sample doc_ids: ['1', '2', '3', '4', '5']\n",
      "Top indices: [497607  27743  58099 196701  27742]\n",
      "Additional words from top 5 documents: moments experience\n",
      "🔍 Enhanced Query: Which one is the most embarrassing moment of your lift? moments experience\n"
     ]
    },
    {
     "name": "stderr",
     "output_type": "stream",
     "text": [
      "معالجة الاستعلامات:  19%|█▉        | 188/1000 [11:40<49:54,  3.69s/استعلام]"
     ]
    },
    {
     "name": "stdout",
     "output_type": "stream",
     "text": [
      "Total documents in doc_data: 522931\n",
      "Sample doc_ids: ['1', '2', '3', '4', '5']\n",
      "Top indices: [  8730 243398 432116 315145 495246]\n",
      "Additional words from top 5 documents: pentagonshaped object\n",
      "🔍 Enhanced Query: How were the Pentagon Papers reveal? How did it impact the U.S.? pentagonshaped object\n"
     ]
    },
    {
     "name": "stderr",
     "output_type": "stream",
     "text": [
      "معالجة الاستعلامات:  19%|█▉        | 189/1000 [11:44<51:23,  3.80s/استعلام]"
     ]
    },
    {
     "name": "stdout",
     "output_type": "stream",
     "text": [
      "Total documents in doc_data: 522931\n",
      "Sample doc_ids: ['1', '2', '3', '4', '5']\n",
      "Top indices: [204798  48327   8781 451228 481753]\n",
      "Additional words from top 5 documents: core pgp programme better\n",
      "🔍 Enhanced Query: What is the difference between any PGPs (PGDM, PGDBM etc.) and an MBA? core pgp programme better\n"
     ]
    },
    {
     "name": "stderr",
     "output_type": "stream",
     "text": [
      "معالجة الاستعلامات:  19%|█▉        | 190/1000 [11:47<50:35,  3.75s/استعلام]"
     ]
    },
    {
     "name": "stdout",
     "output_type": "stream",
     "text": [
      "Total documents in doc_data: 522931\n",
      "Sample doc_ids: ['1', '2', '3', '4', '5']\n",
      "Top indices: [230382 244080 383684 104582 104583]\n",
      "Additional words from top 5 documents: upload create\n",
      "🔍 Enhanced Query: How can I add photos or video on Quora when I want to answer? upload create\n"
     ]
    },
    {
     "name": "stderr",
     "output_type": "stream",
     "text": [
      "معالجة الاستعلامات:  19%|█▉        | 191/1000 [11:51<49:48,  3.69s/استعلام]"
     ]
    },
    {
     "name": "stdout",
     "output_type": "stream",
     "text": [
      "Total documents in doc_data: 522931\n",
      "Sample doc_ids: ['1', '2', '3', '4', '5']\n",
      "Top indices: [  8823 223186 223185 191468 173473]\n",
      "Additional words from top 5 documents: audio book get english\n",
      "🔍 Enhanced Query: Where do I find audiobooks for free? audio book get english\n"
     ]
    },
    {
     "name": "stderr",
     "output_type": "stream",
     "text": [
      "معالجة الاستعلامات:  19%|█▉        | 192/1000 [11:54<49:33,  3.68s/استعلام]"
     ]
    },
    {
     "name": "stdout",
     "output_type": "stream",
     "text": [
      "Total documents in doc_data: 522931\n",
      "Sample doc_ids: ['1', '2', '3', '4', '5']\n",
      "Top indices: [ 71802  84951 332991   8877 161890]\n",
      "Additional words from top 5 documents: delhi delhinoida area reliable\n",
      "🔍 Enhanced Query: What are some of the best coaching institutes for GMAT in Delhi/NCR? delhi delhinoida area reliable\n"
     ]
    },
    {
     "name": "stderr",
     "output_type": "stream",
     "text": [
      "معالجة الاستعلامات:  19%|█▉        | 193/1000 [11:58<49:26,  3.68s/استعلام]"
     ]
    },
    {
     "name": "stdout",
     "output_type": "stream",
     "text": [
      "Total documents in doc_data: 522931\n",
      "Sample doc_ids: ['1', '2', '3', '4', '5']\n",
      "Top indices: [468420   9089 507908 486355 177221]\n",
      "Additional words from top 5 documents: learn screenwriting screenwriter write\n",
      "🔍 Enhanced Query: How become a scriptwriter? How explai my story? learn screenwriting screenwriter write\n"
     ]
    },
    {
     "name": "stderr",
     "output_type": "stream",
     "text": [
      "معالجة الاستعلامات:  19%|█▉        | 194/1000 [12:02<49:06,  3.66s/استعلام]"
     ]
    },
    {
     "name": "stdout",
     "output_type": "stream",
     "text": [
      "Total documents in doc_data: 522931\n",
      "Sample doc_ids: ['1', '2', '3', '4', '5']\n",
      "Top indices: [231854 473274 231853 194682  66170]\n",
      "Additional words from top 5 documents: stories experience story situation\n",
      "🔍 Enhanced Query: What was the scariest incident of your life? stories experience story situation\n"
     ]
    },
    {
     "name": "stderr",
     "output_type": "stream",
     "text": [
      "معالجة الاستعلامات:  20%|█▉        | 195/1000 [12:05<48:27,  3.61s/استعلام]"
     ]
    },
    {
     "name": "stdout",
     "output_type": "stream",
     "text": [
      "Total documents in doc_data: 522931\n",
      "Sample doc_ids: ['1', '2', '3', '4', '5']\n",
      "Top indices: [135478   5778 515831   7856 114791]\n",
      "Additional words from top 5 documents: 5kgs workout 5lbs reduce\n",
      "🔍 Enhanced Query: How can I lose 20 pounds in 3 weeks without feeling inconvenienced or jeopardizing my health? 5kgs workout 5lbs reduce\n"
     ]
    },
    {
     "name": "stderr",
     "output_type": "stream",
     "text": [
      "معالجة الاستعلامات:  20%|█▉        | 196/1000 [12:09<47:56,  3.58s/استعلام]"
     ]
    },
    {
     "name": "stdout",
     "output_type": "stream",
     "text": [
      "Total documents in doc_data: 522931\n",
      "Sample doc_ids: ['1', '2', '3', '4', '5']\n",
      "Top indices: [373884 373883   9139   9200 385581]\n",
      "Additional words from top 5 documents: fight ally attack support\n",
      "🔍 Enhanced Query: Is Israel funding ISIS? fight ally attack support\n"
     ]
    },
    {
     "name": "stderr",
     "output_type": "stream",
     "text": [
      "معالجة الاستعلامات:  20%|█▉        | 197/1000 [12:12<47:31,  3.55s/استعلام]"
     ]
    },
    {
     "name": "stdout",
     "output_type": "stream",
     "text": [
      "Total documents in doc_data: 522931\n",
      "Sample doc_ids: ['1', '2', '3', '4', '5']\n",
      "Top indices: [ 82564  63971 196450 284830 206353]\n",
      "Additional words from top 5 documents: good workout beat song\n",
      "🔍 Enhanced Query: What are the best songs to listen to while running/working out? good workout beat song\n"
     ]
    },
    {
     "name": "stderr",
     "output_type": "stream",
     "text": [
      "معالجة الاستعلامات:  20%|█▉        | 198/1000 [12:16<46:50,  3.50s/استعلام]"
     ]
    },
    {
     "name": "stdout",
     "output_type": "stream",
     "text": [
      "Total documents in doc_data: 522931\n",
      "Sample doc_ids: ['1', '2', '3', '4', '5']\n",
      "Top indices: [410434 410435 436784 225903 184741]\n",
      "Additional words from top 5 documents: motivate give someone get\n",
      "🔍 Enhanced Query: How can I make people want to be with me? motivate give someone get\n"
     ]
    },
    {
     "name": "stderr",
     "output_type": "stream",
     "text": [
      "معالجة الاستعلامات:  20%|█▉        | 199/1000 [12:19<46:38,  3.49s/استعلام]"
     ]
    },
    {
     "name": "stdout",
     "output_type": "stream",
     "text": [
      "Total documents in doc_data: 522931\n",
      "Sample doc_ids: ['1', '2', '3', '4', '5']\n",
      "Top indices: [494490 161781 330259 330258 407612]\n",
      "Additional words from top 5 documents: chandigarh university scope mumbai\n",
      "🔍 Enhanced Query: Will an MS from NUS in electrical engineering provide good job opportunities in India? chandigarh university scope mumbai\n"
     ]
    },
    {
     "name": "stderr",
     "output_type": "stream",
     "text": [
      "معالجة الاستعلامات:  20%|██        | 200/1000 [12:23<46:11,  3.46s/استعلام]"
     ]
    },
    {
     "name": "stdout",
     "output_type": "stream",
     "text": [
      "Total documents in doc_data: 522931\n",
      "Sample doc_ids: ['1', '2', '3', '4', '5']\n",
      "Top indices: [130677 247102   9268 439537 432488]\n",
      "Additional words from top 5 documents: situations teenagers sex gender\n",
      "🔍 Enhanced Query: How does teenage pregnancy affect education and society? situations teenagers sex gender\n"
     ]
    },
    {
     "name": "stderr",
     "output_type": "stream",
     "text": [
      "معالجة الاستعلامات:  20%|██        | 201/1000 [12:26<45:47,  3.44s/استعلام]"
     ]
    },
    {
     "name": "stdout",
     "output_type": "stream",
     "text": [
      "Total documents in doc_data: 522931\n",
      "Sample doc_ids: ['1', '2', '3', '4', '5']\n",
      "Top indices: [118200 374642 412301 283868  51091]\n",
      "Additional words from top 5 documents: fundamentals prepare telecommunication industry\n",
      "🔍 Enhanced Query: Is career launcher's study materials good for CLAT? fundamentals prepare telecommunication industry\n"
     ]
    },
    {
     "name": "stderr",
     "output_type": "stream",
     "text": [
      "معالجة الاستعلامات:  20%|██        | 202/1000 [12:29<45:25,  3.42s/استعلام]"
     ]
    },
    {
     "name": "stdout",
     "output_type": "stream",
     "text": [
      "Total documents in doc_data: 522931\n",
      "Sample doc_ids: ['1', '2', '3', '4', '5']\n",
      "Top indices: [518011 517485 517484 101401 101402]\n",
      "Additional words from top 5 documents: softwares\n",
      "🔍 Enhanced Query: What are the best hacks that we can use it in our daily life? softwares\n"
     ]
    },
    {
     "name": "stderr",
     "output_type": "stream",
     "text": [
      "معالجة الاستعلامات:  20%|██        | 203/1000 [12:33<45:14,  3.41s/استعلام]"
     ]
    },
    {
     "name": "stdout",
     "output_type": "stream",
     "text": [
      "Total documents in doc_data: 522931\n",
      "Sample doc_ids: ['1', '2', '3', '4', '5']\n",
      "Top indices: [186724  32411  35491 504629 334361]\n",
      "Additional words from top 5 documents: iron decals clean headlights\n",
      "🔍 Enhanced Query: How do I remove light scratches from car? iron decals clean headlights\n"
     ]
    },
    {
     "name": "stderr",
     "output_type": "stream",
     "text": [
      "معالجة الاستعلامات:  20%|██        | 204/1000 [12:36<45:07,  3.40s/استعلام]"
     ]
    },
    {
     "name": "stdout",
     "output_type": "stream",
     "text": [
      "Total documents in doc_data: 522931\n",
      "Sample doc_ids: ['1', '2', '3', '4', '5']\n",
      "Top indices: [503085 199165   4067 277752 277753]\n",
      "Additional words from top 5 documents: blackholes not wormholes difference\n",
      "🔍 Enhanced Query: Is black hole a gateway to another universe with different laws of physics? blackholes not wormholes difference\n"
     ]
    },
    {
     "name": "stderr",
     "output_type": "stream",
     "text": [
      "معالجة الاستعلامات:  20%|██        | 205/1000 [12:39<45:16,  3.42s/استعلام]"
     ]
    },
    {
     "name": "stdout",
     "output_type": "stream",
     "text": [
      "Total documents in doc_data: 522931\n",
      "Sample doc_ids: ['1', '2', '3', '4', '5']\n",
      "Top indices: [  9415    322 234533 175492 473810]\n",
      "Additional words from top 5 documents: use follow successful increase\n",
      "🔍 Enhanced Query: How can I promote my business in Twitter? use follow successful increase\n"
     ]
    },
    {
     "name": "stderr",
     "output_type": "stream",
     "text": [
      "معالجة الاستعلامات:  21%|██        | 206/1000 [12:43<45:16,  3.42s/استعلام]"
     ]
    },
    {
     "name": "stdout",
     "output_type": "stream",
     "text": [
      "Total documents in doc_data: 522931\n",
      "Sample doc_ids: ['1', '2', '3', '4', '5']\n",
      "Top indices: [164689  37275 414816 190045 454378]\n",
      "Additional words from top 5 documents: organs artery aorta heart\n",
      "🔍 Enhanced Query: What are main parts of the circulatory system and their functions? organs artery aorta heart\n"
     ]
    },
    {
     "name": "stderr",
     "output_type": "stream",
     "text": [
      "معالجة الاستعلامات:  21%|██        | 207/1000 [12:47<46:17,  3.50s/استعلام]"
     ]
    },
    {
     "name": "stdout",
     "output_type": "stream",
     "text": [
      "Total documents in doc_data: 522931\n",
      "Sample doc_ids: ['1', '2', '3', '4', '5']\n",
      "Top indices: [331742   9465 408270 383620  17692]\n",
      "Additional words from top 5 documents: accentures criteria apply join\n",
      "🔍 Enhanced Query: What is the recruitment process of Accenture? accentures criteria apply join\n"
     ]
    },
    {
     "name": "stderr",
     "output_type": "stream",
     "text": [
      "معالجة الاستعلامات:  21%|██        | 208/1000 [12:50<46:36,  3.53s/استعلام]"
     ]
    },
    {
     "name": "stdout",
     "output_type": "stream",
     "text": [
      "Total documents in doc_data: 522931\n",
      "Sample doc_ids: ['1', '2', '3', '4', '5']\n",
      "Top indices: [283223 150062 255171 218230 374852]\n",
      "Additional words from top 5 documents: become\n",
      "🔍 Enhanced Query: What is it like being an animator? become\n"
     ]
    },
    {
     "name": "stderr",
     "output_type": "stream",
     "text": [
      "معالجة الاستعلامات:  21%|██        | 209/1000 [12:54<46:48,  3.55s/استعلام]"
     ]
    },
    {
     "name": "stdout",
     "output_type": "stream",
     "text": [
      "Total documents in doc_data: 522931\n",
      "Sample doc_ids: ['1', '2', '3', '4', '5']\n",
      "Top indices: [ 64510 140504  47893 239526 478635]\n",
      "Additional words from top 5 documents: free tool plugin advertise\n",
      "🔍 Enhanced Query: What are the best Wordpress SEO plugins? free tool plugin advertise\n"
     ]
    },
    {
     "name": "stderr",
     "output_type": "stream",
     "text": [
      "معالجة الاستعلامات:  21%|██        | 210/1000 [12:57<46:52,  3.56s/استعلام]"
     ]
    },
    {
     "name": "stdout",
     "output_type": "stream",
     "text": [
      "Total documents in doc_data: 522931\n",
      "Sample doc_ids: ['1', '2', '3', '4', '5']\n",
      "Top indices: [518430 518429 340671 165327 446630]\n",
      "Additional words from top 5 documents: friendzoned come friendzone get\n",
      "🔍 Enhanced Query: Is it possible to escape the friend zone? If so, how? friendzoned come friendzone get\n"
     ]
    },
    {
     "name": "stderr",
     "output_type": "stream",
     "text": [
      "معالجة الاستعلامات:  21%|██        | 211/1000 [13:01<46:28,  3.53s/استعلام]"
     ]
    },
    {
     "name": "stdout",
     "output_type": "stream",
     "text": [
      "Total documents in doc_data: 522931\n",
      "Sample doc_ids: ['1', '2', '3', '4', '5']\n",
      "Top indices: [ 10011 409463 428552 326304  77593]\n",
      "Additional words from top 5 documents: niether see temples festival\n",
      "🔍 Enhanced Query: Why don't people worship Bramha? niether see temples festival\n"
     ]
    },
    {
     "name": "stderr",
     "output_type": "stream",
     "text": [
      "معالجة الاستعلامات:  21%|██        | 212/1000 [13:04<46:09,  3.51s/استعلام]"
     ]
    },
    {
     "name": "stdout",
     "output_type": "stream",
     "text": [
      "Total documents in doc_data: 522931\n",
      "Sample doc_ids: ['1', '2', '3', '4', '5']\n",
      "Top indices: [120264 106803 191373  95638 506969]\n",
      "Additional words from top 5 documents: think reliancetreecom jio reliance\n",
      "🔍 Enhanced Query: Is REC (Rural Electrification Corporation) a good stock to invest in at the current market price of 135-138? think reliancetreecom jio reliance\n"
     ]
    },
    {
     "name": "stderr",
     "output_type": "stream",
     "text": [
      "معالجة الاستعلامات:  21%|██▏       | 213/1000 [13:08<46:12,  3.52s/استعلام]"
     ]
    },
    {
     "name": "stdout",
     "output_type": "stream",
     "text": [
      "Total documents in doc_data: 522931\n",
      "Sample doc_ids: ['1', '2', '3', '4', '5']\n",
      "Top indices: [468713 249215 294580 294579 310073]\n",
      "Additional words from top 5 documents: religion really little\n",
      "🔍 Enhanced Query: What are the things that the people around you do that annoy you the most? religion really little\n"
     ]
    },
    {
     "name": "stderr",
     "output_type": "stream",
     "text": [
      "معالجة الاستعلامات:  21%|██▏       | 214/1000 [13:11<45:56,  3.51s/استعلام]"
     ]
    },
    {
     "name": "stdout",
     "output_type": "stream",
     "text": [
      "Total documents in doc_data: 522931\n",
      "Sample doc_ids: ['1', '2', '3', '4', '5']\n",
      "Top indices: [321054 244013  10248 469429  55819]\n",
      "Additional words from top 5 documents: dangers take melatonin paxil\n",
      "🔍 Enhanced Query: How do I avoid sleep so much? dangers take melatonin paxil\n"
     ]
    },
    {
     "name": "stderr",
     "output_type": "stream",
     "text": [
      "معالجة الاستعلامات:  22%|██▏       | 215/1000 [13:15<45:37,  3.49s/استعلام]"
     ]
    },
    {
     "name": "stdout",
     "output_type": "stream",
     "text": [
      "Total documents in doc_data: 522931\n",
      "Sample doc_ids: ['1', '2', '3', '4', '5']\n",
      "Top indices: [107446 217414   3160 130841   5548]\n",
      "Additional words from top 5 documents: visitors job blog\n",
      "🔍 Enhanced Query: How can I increase traffic on blogspot blogger? visitors job blog\n"
     ]
    },
    {
     "name": "stderr",
     "output_type": "stream",
     "text": [
      "معالجة الاستعلامات:  22%|██▏       | 216/1000 [13:18<45:22,  3.47s/استعلام]"
     ]
    },
    {
     "name": "stdout",
     "output_type": "stream",
     "text": [
      "Total documents in doc_data: 522931\n",
      "Sample doc_ids: ['1', '2', '3', '4', '5']\n",
      "Top indices: [509195  23570  12466 152951  20008]\n",
      "Additional words from top 5 documents: \n",
      "No new words to add to query for beir\n"
     ]
    },
    {
     "name": "stderr",
     "output_type": "stream",
     "text": [
      "معالجة الاستعلامات:  22%|██▏       | 217/1000 [13:22<46:43,  3.58s/استعلام]"
     ]
    },
    {
     "name": "stdout",
     "output_type": "stream",
     "text": [
      "Total documents in doc_data: 522931\n",
      "Sample doc_ids: ['1', '2', '3', '4', '5']\n",
      "Top indices: [ 18006  18007 217542 217541 120179]\n",
      "Additional words from top 5 documents: \n",
      "No new words to add to query for beir\n"
     ]
    },
    {
     "name": "stderr",
     "output_type": "stream",
     "text": [
      "معالجة الاستعلامات:  22%|██▏       | 218/1000 [13:26<48:38,  3.73s/استعلام]"
     ]
    },
    {
     "name": "stdout",
     "output_type": "stream",
     "text": [
      "Total documents in doc_data: 522931\n",
      "Sample doc_ids: ['1', '2', '3', '4', '5']\n",
      "Top indices: [235848 334144 334145 474679 164060]\n",
      "Additional words from top 5 documents: safe tourists best free\n",
      "🔍 Enhanced Query: What are some unknown or underrated spots in Istanbul that one must visit? safe tourists best free\n"
     ]
    },
    {
     "name": "stderr",
     "output_type": "stream",
     "text": [
      "معالجة الاستعلامات:  22%|██▏       | 219/1000 [13:30<49:20,  3.79s/استعلام]"
     ]
    },
    {
     "name": "stdout",
     "output_type": "stream",
     "text": [
      "Total documents in doc_data: 522931\n",
      "Sample doc_ids: ['1', '2', '3', '4', '5']\n",
      "Top indices: [421474 204422 430402 465908 157429]\n",
      "Additional words from top 5 documents: mix ethnics white race\n",
      "🔍 Enhanced Query: Some people say the world will become homogeneous racially, is this true? mix ethnics white race\n"
     ]
    },
    {
     "name": "stderr",
     "output_type": "stream",
     "text": [
      "معالجة الاستعلامات:  22%|██▏       | 220/1000 [13:34<49:59,  3.85s/استعلام]"
     ]
    },
    {
     "name": "stdout",
     "output_type": "stream",
     "text": [
      "Total documents in doc_data: 522931\n",
      "Sample doc_ids: ['1', '2', '3', '4', '5']\n",
      "Top indices: [368890 427131  10460 406364 252312]\n",
      "Additional words from top 5 documents: d5300 d3400 700d dslr\n",
      "🔍 Enhanced Query: Which one is better Nikon D5500 or Canon 70D? d5300 d3400 700d dslr\n"
     ]
    },
    {
     "name": "stderr",
     "output_type": "stream",
     "text": [
      "معالجة الاستعلامات:  22%|██▏       | 221/1000 [13:38<50:37,  3.90s/استعلام]"
     ]
    },
    {
     "name": "stdout",
     "output_type": "stream",
     "text": [
      "Total documents in doc_data: 522931\n",
      "Sample doc_ids: ['1', '2', '3', '4', '5']\n",
      "Top indices: [263494 317619 157940 485217 266234]\n",
      "Additional words from top 5 documents: thank\n",
      "🔍 Enhanced Query: What does a good answer on Quora look like? What does it mean to \"be helpful\"? thank\n"
     ]
    },
    {
     "name": "stderr",
     "output_type": "stream",
     "text": [
      "معالجة الاستعلامات:  22%|██▏       | 222/1000 [13:42<49:44,  3.84s/استعلام]"
     ]
    },
    {
     "name": "stdout",
     "output_type": "stream",
     "text": [
      "Total documents in doc_data: 522931\n",
      "Sample doc_ids: ['1', '2', '3', '4', '5']\n",
      "Top indices: [271914 307067 362248 468160 147938]\n",
      "Additional words from top 5 documents: frauds fraudsters america riches\n",
      "🔍 Enhanced Query: What is the greatest theft of wealth in history? frauds fraudsters america riches\n"
     ]
    },
    {
     "name": "stderr",
     "output_type": "stream",
     "text": [
      "معالجة الاستعلامات:  22%|██▏       | 223/1000 [13:46<49:32,  3.83s/استعلام]"
     ]
    },
    {
     "name": "stdout",
     "output_type": "stream",
     "text": [
      "Total documents in doc_data: 522931\n",
      "Sample doc_ids: ['1', '2', '3', '4', '5']\n",
      "Top indices: [ 10652  70266  70267 501049 116127]\n",
      "Additional words from top 5 documents: would lord vishnu fight\n",
      "🔍 Enhanced Query: Should a TV series on the Shiva Trilogy be made? would lord vishnu fight\n"
     ]
    },
    {
     "name": "stderr",
     "output_type": "stream",
     "text": [
      "معالجة الاستعلامات:  22%|██▏       | 224/1000 [13:49<49:08,  3.80s/استعلام]"
     ]
    },
    {
     "name": "stdout",
     "output_type": "stream",
     "text": [
      "Total documents in doc_data: 522931\n",
      "Sample doc_ids: ['1', '2', '3', '4', '5']\n",
      "Top indices: [492331 451615 153978 192159 216258]\n",
      "Additional words from top 5 documents: write quora day ask\n",
      "🔍 Enhanced Query: How do I raise funds? write quora day ask\n"
     ]
    },
    {
     "name": "stderr",
     "output_type": "stream",
     "text": [
      "معالجة الاستعلامات:  22%|██▎       | 225/1000 [13:53<49:31,  3.83s/استعلام]"
     ]
    },
    {
     "name": "stdout",
     "output_type": "stream",
     "text": [
      "Total documents in doc_data: 522931\n",
      "Sample doc_ids: ['1', '2', '3', '4', '5']\n",
      "Top indices: [114400 249863 345956   7174 332414]\n",
      "Additional words from top 5 documents: top universities mit best\n",
      "🔍 Enhanced Query: Which country is better for an MS in computer science, the USA or Canada? top universities mit best\n"
     ]
    },
    {
     "name": "stderr",
     "output_type": "stream",
     "text": [
      "معالجة الاستعلامات:  23%|██▎       | 226/1000 [13:57<49:56,  3.87s/استعلام]"
     ]
    },
    {
     "name": "stdout",
     "output_type": "stream",
     "text": [
      "Total documents in doc_data: 522931\n",
      "Sample doc_ids: ['1', '2', '3', '4', '5']\n",
      "Top indices: [214971 388906 323355  13491 101923]\n",
      "Additional words from top 5 documents: help lose yoplait healthiest\n",
      "🔍 Enhanced Query: How can Activia yogurt aid with weight loss? help lose yoplait healthiest\n"
     ]
    },
    {
     "name": "stderr",
     "output_type": "stream",
     "text": [
      "معالجة الاستعلامات:  23%|██▎       | 227/1000 [14:01<49:06,  3.81s/استعلام]"
     ]
    },
    {
     "name": "stdout",
     "output_type": "stream",
     "text": [
      "Total documents in doc_data: 522931\n",
      "Sample doc_ids: ['1', '2', '3', '4', '5']\n",
      "Top indices: [288324 288325 251821  10765 407635]\n",
      "Additional words from top 5 documents: centre panasonic whirlpool\n",
      "🔍 Enhanced Query: Where is the best LG refrigerator repair center in Hyderabad? centre panasonic whirlpool\n"
     ]
    },
    {
     "name": "stderr",
     "output_type": "stream",
     "text": [
      "معالجة الاستعلامات:  23%|██▎       | 228/1000 [14:04<48:30,  3.77s/استعلام]"
     ]
    },
    {
     "name": "stdout",
     "output_type": "stream",
     "text": [
      "Total documents in doc_data: 522931\n",
      "Sample doc_ids: ['1', '2', '3', '4', '5']\n",
      "Top indices: [313225 207254  77759 274587 144322]\n",
      "Additional words from top 5 documents: \n",
      "No new words to add to query for beir\n"
     ]
    },
    {
     "name": "stderr",
     "output_type": "stream",
     "text": [
      "معالجة الاستعلامات:  23%|██▎       | 229/1000 [14:08<48:03,  3.74s/استعلام]"
     ]
    },
    {
     "name": "stdout",
     "output_type": "stream",
     "text": [
      "Total documents in doc_data: 522931\n",
      "Sample doc_ids: ['1', '2', '3', '4', '5']\n",
      "Top indices: [231934  82347  82346  10882 363831]\n",
      "Additional words from top 5 documents: obtain register india require\n",
      "🔍 Enhanced Query: What happens if we submit a fake marriage certificate to multinational company? obtain register india require\n"
     ]
    },
    {
     "name": "stderr",
     "output_type": "stream",
     "text": [
      "معالجة الاستعلامات:  23%|██▎       | 230/1000 [14:12<47:31,  3.70s/استعلام]"
     ]
    },
    {
     "name": "stdout",
     "output_type": "stream",
     "text": [
      "Total documents in doc_data: 522931\n",
      "Sample doc_ids: ['1', '2', '3', '4', '5']\n",
      "Top indices: [484919  10886 459020 484918 306400]\n",
      "Additional words from top 5 documents: civilizations develop civilisation characteristics\n",
      "🔍 Enhanced Query: Can the level of economic development represent the level of civilization? Assuming your answer is no, explain why? civilizations develop civilisation characteristics\n"
     ]
    },
    {
     "name": "stderr",
     "output_type": "stream",
     "text": [
      "معالجة الاستعلامات:  23%|██▎       | 231/1000 [14:15<47:17,  3.69s/استعلام]"
     ]
    },
    {
     "name": "stdout",
     "output_type": "stream",
     "text": [
      "Total documents in doc_data: 522931\n",
      "Sample doc_ids: ['1', '2', '3', '4', '5']\n",
      "Top indices: [   556  31378 119223  86184 518403]\n",
      "Additional words from top 5 documents: best quality customize cupcakes\n",
      "🔍 Enhanced Query: Where can I buy special flavor cupcake at Gold Coast? best quality customize cupcakes\n"
     ]
    },
    {
     "name": "stderr",
     "output_type": "stream",
     "text": [
      "معالجة الاستعلامات:  23%|██▎       | 232/1000 [14:19<46:51,  3.66s/استعلام]"
     ]
    },
    {
     "name": "stdout",
     "output_type": "stream",
     "text": [
      "Total documents in doc_data: 522931\n",
      "Sample doc_ids: ['1', '2', '3', '4', '5']\n",
      "Top indices: [ 11169 452165 303558  21838  93295]\n",
      "Additional words from top 5 documents: sudafed generic psuedaphedrine good\n",
      "🔍 Enhanced Query: How helpful is Pseudoephedrine when you have a runny nose? sudafed generic psuedaphedrine good\n"
     ]
    },
    {
     "name": "stderr",
     "output_type": "stream",
     "text": [
      "معالجة الاستعلامات:  23%|██▎       | 233/1000 [14:23<46:51,  3.67s/استعلام]"
     ]
    },
    {
     "name": "stdout",
     "output_type": "stream",
     "text": [
      "Total documents in doc_data: 522931\n",
      "Sample doc_ids: ['1', '2', '3', '4', '5']\n",
      "Top indices: [121602     98 285176   9337 149686]\n",
      "Additional words from top 5 documents: \n",
      "No new words to add to query for beir\n"
     ]
    },
    {
     "name": "stderr",
     "output_type": "stream",
     "text": [
      "معالجة الاستعلامات:  23%|██▎       | 234/1000 [14:26<46:46,  3.66s/استعلام]"
     ]
    },
    {
     "name": "stdout",
     "output_type": "stream",
     "text": [
      "Total documents in doc_data: 522931\n",
      "Sample doc_ids: ['1', '2', '3', '4', '5']\n",
      "Top indices: [255208 228328 393478  77619 118020]\n",
      "Additional words from top 5 documents: infinite plus\n",
      "🔍 Enhanced Query: Is infinity a number? infinite plus\n"
     ]
    },
    {
     "name": "stderr",
     "output_type": "stream",
     "text": [
      "معالجة الاستعلامات:  24%|██▎       | 235/1000 [14:30<45:53,  3.60s/استعلام]"
     ]
    },
    {
     "name": "stdout",
     "output_type": "stream",
     "text": [
      "Total documents in doc_data: 522931\n",
      "Sample doc_ids: ['1', '2', '3', '4', '5']\n",
      "Top indices: [249519 249520 416747 337951  28053]\n",
      "Additional words from top 5 documents: live much cost visit\n",
      "🔍 Enhanced Query: How expensive is to travel to Japan? live much cost visit\n"
     ]
    },
    {
     "name": "stderr",
     "output_type": "stream",
     "text": [
      "معالجة الاستعلامات:  24%|██▎       | 236/1000 [14:33<45:12,  3.55s/استعلام]"
     ]
    },
    {
     "name": "stdout",
     "output_type": "stream",
     "text": [
      "Total documents in doc_data: 522931\n",
      "Sample doc_ids: ['1', '2', '3', '4', '5']\n",
      "Top indices: [187831 123140   1412 424868 269387]\n",
      "Additional words from top 5 documents: hacker worlds india\n",
      "🔍 Enhanced Query: Who are the best hackers in the world? hacker worlds india\n"
     ]
    },
    {
     "name": "stderr",
     "output_type": "stream",
     "text": [
      "معالجة الاستعلامات:  24%|██▎       | 237/1000 [14:37<44:45,  3.52s/استعلام]"
     ]
    },
    {
     "name": "stdout",
     "output_type": "stream",
     "text": [
      "Total documents in doc_data: 522931\n",
      "Sample doc_ids: ['1', '2', '3', '4', '5']\n",
      "Top indices: [429688 164686 176465 357660  73068]\n",
      "Additional words from top 5 documents: study\n",
      "🔍 Enhanced Query: How do I tackle physics in NEET or AIIMS? study\n"
     ]
    },
    {
     "name": "stderr",
     "output_type": "stream",
     "text": [
      "معالجة الاستعلامات:  24%|██▍       | 238/1000 [14:40<44:30,  3.50s/استعلام]"
     ]
    },
    {
     "name": "stdout",
     "output_type": "stream",
     "text": [
      "Total documents in doc_data: 522931\n",
      "Sample doc_ids: ['1', '2', '3', '4', '5']\n",
      "Top indices: [318623 249776  60958  11785 479387]\n",
      "Additional words from top 5 documents: good degree difference bsc\n",
      "🔍 Enhanced Query: Is a double major in math and economics worth it? good degree difference bsc\n"
     ]
    },
    {
     "name": "stderr",
     "output_type": "stream",
     "text": [
      "معالجة الاستعلامات:  24%|██▍       | 239/1000 [14:44<44:11,  3.48s/استعلام]"
     ]
    },
    {
     "name": "stdout",
     "output_type": "stream",
     "text": [
      "Total documents in doc_data: 522931\n",
      "Sample doc_ids: ['1', '2', '3', '4', '5']\n",
      "Top indices: [372197 165452   2347 115364 288815]\n",
      "Additional words from top 5 documents: unbelievable goals footballsoccer soccer\n",
      "🔍 Enhanced Query: What is the most beautiful goal scored in football history? unbelievable goals footballsoccer soccer\n"
     ]
    },
    {
     "name": "stderr",
     "output_type": "stream",
     "text": [
      "معالجة الاستعلامات:  24%|██▍       | 240/1000 [14:47<43:51,  3.46s/استعلام]"
     ]
    },
    {
     "name": "stdout",
     "output_type": "stream",
     "text": [
      "Total documents in doc_data: 522931\n",
      "Sample doc_ids: ['1', '2', '3', '4', '5']\n",
      "Top indices: [260148 260147  11916 406588 406587]\n",
      "Additional words from top 5 documents: converse attach ways tie\n",
      "🔍 Enhanced Query: How do I lace open laced shoes? converse attach ways tie\n"
     ]
    },
    {
     "name": "stderr",
     "output_type": "stream",
     "text": [
      "معالجة الاستعلامات:  24%|██▍       | 241/1000 [14:51<43:57,  3.47s/استعلام]"
     ]
    },
    {
     "name": "stdout",
     "output_type": "stream",
     "text": [
      "Total documents in doc_data: 522931\n",
      "Sample doc_ids: ['1', '2', '3', '4', '5']\n",
      "Top indices: [ 11927 200708  62686  43178 170019]\n",
      "Additional words from top 5 documents: hurricanes india female type\n",
      "🔍 Enhanced Query: Who names the cyclones and how it's done? hurricanes india female type\n"
     ]
    },
    {
     "name": "stderr",
     "output_type": "stream",
     "text": [
      "معالجة الاستعلامات:  24%|██▍       | 242/1000 [14:54<44:18,  3.51s/استعلام]"
     ]
    },
    {
     "name": "stdout",
     "output_type": "stream",
     "text": [
      "Total documents in doc_data: 522931\n",
      "Sample doc_ids: ['1', '2', '3', '4', '5']\n",
      "Top indices: [ 20072  68275 445224 452248 222050]\n",
      "Additional words from top 5 documents: usa entire world\n",
      "🔍 Enhanced Query: What would happen if America or the UK disbanded all police forces? usa entire world\n"
     ]
    },
    {
     "name": "stderr",
     "output_type": "stream",
     "text": [
      "معالجة الاستعلامات:  24%|██▍       | 243/1000 [14:58<44:53,  3.56s/استعلام]"
     ]
    },
    {
     "name": "stdout",
     "output_type": "stream",
     "text": [
      "Total documents in doc_data: 522931\n",
      "Sample doc_ids: ['1', '2', '3', '4', '5']\n",
      "Top indices: [ 35316 316986 316985 495740 112294]\n",
      "Additional words from top 5 documents: protest end start political\n",
      "🔍 Enhanced Query: Is the demand to Shut Down JNU justified? protest end start political\n"
     ]
    },
    {
     "name": "stderr",
     "output_type": "stream",
     "text": [
      "معالجة الاستعلامات:  24%|██▍       | 244/1000 [15:02<46:56,  3.73s/استعلام]"
     ]
    },
    {
     "name": "stdout",
     "output_type": "stream",
     "text": [
      "Total documents in doc_data: 522931\n",
      "Sample doc_ids: ['1', '2', '3', '4', '5']\n",
      "Top indices: [ 34109  11998 461174 461173 273629]\n",
      "Additional words from top 5 documents: appear mean form phenomena\n",
      "🔍 Enhanced Query: When does Aurora Borealis occur? What causes it? appear mean form phenomena\n"
     ]
    },
    {
     "name": "stderr",
     "output_type": "stream",
     "text": [
      "معالجة الاستعلامات:  24%|██▍       | 245/1000 [15:05<46:10,  3.67s/استعلام]"
     ]
    },
    {
     "name": "stdout",
     "output_type": "stream",
     "text": [
      "Total documents in doc_data: 522931\n",
      "Sample doc_ids: ['1', '2', '3', '4', '5']\n",
      "Top indices: [427132  53813 427131 252312 406364]\n",
      "No similar documents found for beir with sufficient similarity\n"
     ]
    },
    {
     "name": "stderr",
     "output_type": "stream",
     "text": [
      "معالجة الاستعلامات:  25%|██▍       | 246/1000 [15:09<45:23,  3.61s/استعلام]"
     ]
    },
    {
     "name": "stdout",
     "output_type": "stream",
     "text": [
      "Total documents in doc_data: 522931\n",
      "Sample doc_ids: ['1', '2', '3', '4', '5']\n",
      "Top indices: [165408 413172 208079 106698 509483]\n",
      "Additional words from top 5 documents: good bad sin marry\n",
      "🔍 Enhanced Query: I am a gay Muslim. What should I do? good bad sin marry\n"
     ]
    },
    {
     "name": "stderr",
     "output_type": "stream",
     "text": [
      "معالجة الاستعلامات:  25%|██▍       | 247/1000 [15:13<45:21,  3.61s/استعلام]"
     ]
    },
    {
     "name": "stdout",
     "output_type": "stream",
     "text": [
      "Total documents in doc_data: 522931\n",
      "Sample doc_ids: ['1', '2', '3', '4', '5']\n",
      "Top indices: [ 12235 121677 456970 121676 288047]\n",
      "Additional words from top 5 documents: tell buyer marijuana italy\n",
      "🔍 Enhanced Query: Is it illegal to sell oregano saying that it is weed? tell buyer marijuana italy\n"
     ]
    },
    {
     "name": "stderr",
     "output_type": "stream",
     "text": [
      "معالجة الاستعلامات:  25%|██▍       | 248/1000 [15:16<45:36,  3.64s/استعلام]"
     ]
    },
    {
     "name": "stdout",
     "output_type": "stream",
     "text": [
      "Total documents in doc_data: 522931\n",
      "Sample doc_ids: ['1', '2', '3', '4', '5']\n",
      "Top indices: [ 38130 349218 137269 128653  61954]\n",
      "Additional words from top 5 documents: timetravel possible\n",
      "🔍 Enhanced Query: Will mankind ever travel back and forth through time? timetravel possible\n"
     ]
    },
    {
     "name": "stderr",
     "output_type": "stream",
     "text": [
      "معالجة الاستعلامات:  25%|██▍       | 249/1000 [15:20<45:29,  3.63s/استعلام]"
     ]
    },
    {
     "name": "stdout",
     "output_type": "stream",
     "text": [
      "Total documents in doc_data: 522931\n",
      "Sample doc_ids: ['1', '2', '3', '4', '5']\n",
      "Top indices: [458928 181853  10580 459539 232622]\n",
      "Additional words from top 5 documents: hillary not already\n",
      "🔍 Enhanced Query: Is Clinton likely to win the election? hillary not already\n"
     ]
    },
    {
     "name": "stderr",
     "output_type": "stream",
     "text": [
      "معالجة الاستعلامات:  25%|██▌       | 250/1000 [15:24<45:41,  3.65s/استعلام]"
     ]
    },
    {
     "name": "stdout",
     "output_type": "stream",
     "text": [
      "Total documents in doc_data: 522931\n",
      "Sample doc_ids: ['1', '2', '3', '4', '5']\n",
      "Top indices: [ 12393 213855 486681 512601 225251]\n",
      "Additional words from top 5 documents: ccna preparation websites learn\n",
      "🔍 Enhanced Query: What are the tips and best books for preparing NTSE? ccna preparation websites learn\n"
     ]
    },
    {
     "name": "stderr",
     "output_type": "stream",
     "text": [
      "معالجة الاستعلامات:  25%|██▌       | 251/1000 [15:28<47:10,  3.78s/استعلام]"
     ]
    },
    {
     "name": "stdout",
     "output_type": "stream",
     "text": [
      "Total documents in doc_data: 522931\n",
      "Sample doc_ids: ['1', '2', '3', '4', '5']\n",
      "Top indices: [ 12430 509815  45472 202821 486410]\n",
      "Additional words from top 5 documents: best genuine consultant consultancy\n",
      "🔍 Enhanced Query: What are good and credible immigration consultants in Bangalore? best genuine consultant consultancy\n"
     ]
    },
    {
     "name": "stderr",
     "output_type": "stream",
     "text": [
      "معالجة الاستعلامات:  25%|██▌       | 252/1000 [15:32<48:16,  3.87s/استعلام]"
     ]
    },
    {
     "name": "stdout",
     "output_type": "stream",
     "text": [
      "Total documents in doc_data: 522931\n",
      "Sample doc_ids: ['1', '2', '3', '4', '5']\n",
      "Top indices: [140517  19129 502044  84486 333818]\n",
      "Additional words from top 5 documents: someone unblock delete contact\n",
      "🔍 Enhanced Query: If I block a person on WhatsApp and if the person happens to be in WhatsApp groups of which I am also a part of, will I still be able to see his/her messages in the group? someone unblock delete contact\n"
     ]
    },
    {
     "name": "stderr",
     "output_type": "stream",
     "text": [
      "معالجة الاستعلامات:  25%|██▌       | 253/1000 [15:36<49:02,  3.94s/استعلام]"
     ]
    },
    {
     "name": "stdout",
     "output_type": "stream",
     "text": [
      "Total documents in doc_data: 522931\n",
      "Sample doc_ids: ['1', '2', '3', '4', '5']\n",
      "Top indices: [102445 107819 103143  48298 483639]\n",
      "Additional words from top 5 documents: dog animal human\n",
      "🔍 Enhanced Query: What is your favorite pet? Why? dog animal human\n"
     ]
    },
    {
     "name": "stderr",
     "output_type": "stream",
     "text": [
      "معالجة الاستعلامات:  25%|██▌       | 254/1000 [15:40<49:07,  3.95s/استعلام]"
     ]
    },
    {
     "name": "stdout",
     "output_type": "stream",
     "text": [
      "Total documents in doc_data: 522931\n",
      "Sample doc_ids: ['1', '2', '3', '4', '5']\n",
      "Top indices: [ 12523 115699  79243 209320 286928]\n",
      "Additional words from top 5 documents: america americans dont like\n",
      "🔍 Enhanced Query: What are some of the things you dislike about American brands and products? america americans dont like\n"
     ]
    },
    {
     "name": "stderr",
     "output_type": "stream",
     "text": [
      "معالجة الاستعلامات:  26%|██▌       | 255/1000 [15:44<48:49,  3.93s/استعلام]"
     ]
    },
    {
     "name": "stdout",
     "output_type": "stream",
     "text": [
      "Total documents in doc_data: 522931\n",
      "Sample doc_ids: ['1', '2', '3', '4', '5']\n",
      "Top indices: [171216 261602 152837 152838 113702]\n",
      "Additional words from top 5 documents: africa country india vietnam\n",
      "🔍 Enhanced Query: Should develop countries help poor countries? africa country india vietnam\n"
     ]
    },
    {
     "name": "stderr",
     "output_type": "stream",
     "text": [
      "معالجة الاستعلامات:  26%|██▌       | 256/1000 [15:47<47:38,  3.84s/استعلام]"
     ]
    },
    {
     "name": "stdout",
     "output_type": "stream",
     "text": [
      "Total documents in doc_data: 522931\n",
      "Sample doc_ids: ['1', '2', '3', '4', '5']\n",
      "Top indices: [402524 373930 328330 286971 102942]\n",
      "Additional words from top 5 documents: options sexuality choice homosexuality\n",
      "🔍 Enhanced Query: Why did he chose me to have sex with? options sexuality choice homosexuality\n"
     ]
    },
    {
     "name": "stderr",
     "output_type": "stream",
     "text": [
      "معالجة الاستعلامات:  26%|██▌       | 257/1000 [15:51<46:50,  3.78s/استعلام]"
     ]
    },
    {
     "name": "stdout",
     "output_type": "stream",
     "text": [
      "Total documents in doc_data: 522931\n",
      "Sample doc_ids: ['1', '2', '3', '4', '5']\n",
      "Top indices: [123026 184891 100255 155253 458309]\n",
      "Additional words from top 5 documents: retaliate china start ally\n",
      "🔍 Enhanced Query: If a nuclear war happens between India and Pakistan. Will Russia support India or it will act as a neutral state? retaliate china start ally\n"
     ]
    },
    {
     "name": "stderr",
     "output_type": "stream",
     "text": [
      "معالجة الاستعلامات:  26%|██▌       | 258/1000 [15:54<45:44,  3.70s/استعلام]"
     ]
    },
    {
     "name": "stdout",
     "output_type": "stream",
     "text": [
      "Total documents in doc_data: 522931\n",
      "Sample doc_ids: ['1', '2', '3', '4', '5']\n",
      "Top indices: [  5574 448705 500316 416730  14619]\n",
      "Additional words from top 5 documents: best site get coupons\n",
      "🔍 Enhanced Query: How can I find cheap discount coupon online? best site get coupons\n"
     ]
    },
    {
     "name": "stderr",
     "output_type": "stream",
     "text": [
      "معالجة الاستعلامات:  26%|██▌       | 259/1000 [15:58<44:59,  3.64s/استعلام]"
     ]
    },
    {
     "name": "stdout",
     "output_type": "stream",
     "text": [
      "Total documents in doc_data: 522931\n",
      "Sample doc_ids: ['1', '2', '3', '4', '5']\n",
      "Top indices: [  6468 437167  12602 308245 350380]\n",
      "Additional words from top 5 documents: students learn\n",
      "🔍 Enhanced Query: How do I teach myself? students learn\n"
     ]
    },
    {
     "name": "stderr",
     "output_type": "stream",
     "text": [
      "معالجة الاستعلامات:  26%|██▌       | 260/1000 [16:02<44:39,  3.62s/استعلام]"
     ]
    },
    {
     "name": "stdout",
     "output_type": "stream",
     "text": [
      "Total documents in doc_data: 522931\n",
      "Sample doc_ids: ['1', '2', '3', '4', '5']\n",
      "Top indices: [345851 294072 310323 495719 403438]\n",
      "Additional words from top 5 documents: become life practice increase\n",
      "🔍 Enhanced Query: How do I develop discipline? become life practice increase\n"
     ]
    },
    {
     "name": "stderr",
     "output_type": "stream",
     "text": [
      "معالجة الاستعلامات:  26%|██▌       | 261/1000 [16:05<44:34,  3.62s/استعلام]"
     ]
    },
    {
     "name": "stdout",
     "output_type": "stream",
     "text": [
      "Total documents in doc_data: 522931\n",
      "Sample doc_ids: ['1', '2', '3', '4', '5']\n",
      "Top indices: [189263 126673 399613 143158 271660]\n",
      "Additional words from top 5 documents: strangers feel\n",
      "🔍 Enhanced Query: How is it like to have sex with a stranger? strangers feel\n"
     ]
    },
    {
     "name": "stderr",
     "output_type": "stream",
     "text": [
      "معالجة الاستعلامات:  26%|██▌       | 262/1000 [16:09<44:31,  3.62s/استعلام]"
     ]
    },
    {
     "name": "stdout",
     "output_type": "stream",
     "text": [
      "Total documents in doc_data: 522931\n",
      "Sample doc_ids: ['1', '2', '3', '4', '5']\n",
      "Top indices: [239358 408104  83661 242494 135164]\n",
      "Additional words from top 5 documents: \n",
      "No new words to add to query for beir\n"
     ]
    },
    {
     "name": "stderr",
     "output_type": "stream",
     "text": [
      "معالجة الاستعلامات:  26%|██▋       | 263/1000 [16:12<44:04,  3.59s/استعلام]"
     ]
    },
    {
     "name": "stdout",
     "output_type": "stream",
     "text": [
      "Total documents in doc_data: 522931\n",
      "Sample doc_ids: ['1', '2', '3', '4', '5']\n",
      "Top indices: [496388  73713 288048 221836 123826]\n",
      "Additional words from top 5 documents: nucleus function cell plasma\n",
      "🔍 Enhanced Query: What does the nuclear membrane do? nucleus function cell plasma\n"
     ]
    },
    {
     "name": "stderr",
     "output_type": "stream",
     "text": [
      "معالجة الاستعلامات:  26%|██▋       | 264/1000 [16:16<43:44,  3.57s/استعلام]"
     ]
    },
    {
     "name": "stdout",
     "output_type": "stream",
     "text": [
      "Total documents in doc_data: 522931\n",
      "Sample doc_ids: ['1', '2', '3', '4', '5']\n",
      "Top indices: [402169 213731  12754 177137 181812]\n",
      "Additional words from top 5 documents: quantico hgtv script scenes\n",
      "🔍 Enhanced Query: How 'real' is a show like Made in Chelsea? quantico hgtv script scenes\n"
     ]
    },
    {
     "name": "stderr",
     "output_type": "stream",
     "text": [
      "معالجة الاستعلامات:  26%|██▋       | 265/1000 [16:19<43:51,  3.58s/استعلام]"
     ]
    },
    {
     "name": "stdout",
     "output_type": "stream",
     "text": [
      "Total documents in doc_data: 522931\n",
      "Sample doc_ids: ['1', '2', '3', '4', '5']\n",
      "Top indices: [ 67876 409526  21917 417729  12778]\n",
      "Additional words from top 5 documents: evidence really exist possible\n",
      "🔍 Enhanced Query: What is the multiverse? Which are some of the most convincing theories given in support of its existence? evidence really exist possible\n"
     ]
    },
    {
     "name": "stderr",
     "output_type": "stream",
     "text": [
      "معالجة الاستعلامات:  27%|██▋       | 266/1000 [16:23<43:38,  3.57s/استعلام]"
     ]
    },
    {
     "name": "stdout",
     "output_type": "stream",
     "text": [
      "Total documents in doc_data: 522931\n",
      "Sample doc_ids: ['1', '2', '3', '4', '5']\n",
      "Top indices: [285216  57897  12821  85634  85635]\n",
      "Additional words from top 5 documents: mathematics maths\n",
      "🔍 Enhanced Query: How do I improve on my math skills? mathematics maths\n"
     ]
    },
    {
     "name": "stderr",
     "output_type": "stream",
     "text": [
      "معالجة الاستعلامات:  27%|██▋       | 267/1000 [16:27<43:39,  3.57s/استعلام]"
     ]
    },
    {
     "name": "stdout",
     "output_type": "stream",
     "text": [
      "Total documents in doc_data: 522931\n",
      "Sample doc_ids: ['1', '2', '3', '4', '5']\n",
      "Top indices: [161276  42011 236692 236338 112703]\n",
      "Additional words from top 5 documents: get application good websitetutorial\n",
      "🔍 Enhanced Query: How should I start with the basics of web penetration testing? get application good websitetutorial\n"
     ]
    },
    {
     "name": "stderr",
     "output_type": "stream",
     "text": [
      "معالجة الاستعلامات:  27%|██▋       | 268/1000 [16:30<43:21,  3.55s/استعلام]"
     ]
    },
    {
     "name": "stdout",
     "output_type": "stream",
     "text": [
      "Total documents in doc_data: 522931\n",
      "Sample doc_ids: ['1', '2', '3', '4', '5']\n",
      "Top indices: [ 62415 367880 283280  20482 122120]\n",
      "Additional words from top 5 documents: help weight loss drink\n",
      "🔍 Enhanced Query: Does green tea boost your metabolism? help weight loss drink\n"
     ]
    },
    {
     "name": "stderr",
     "output_type": "stream",
     "text": [
      "معالجة الاستعلامات:  27%|██▋       | 269/1000 [16:34<43:01,  3.53s/استعلام]"
     ]
    },
    {
     "name": "stdout",
     "output_type": "stream",
     "text": [
      "Total documents in doc_data: 522931\n",
      "Sample doc_ids: ['1', '2', '3', '4', '5']\n",
      "Top indices: [297275 180374 156882  69404 103594]\n",
      "Additional words from top 5 documents: marriage live others improve\n",
      "🔍 Enhanced Query: How can I be a better person in life? marriage live others improve\n"
     ]
    },
    {
     "name": "stderr",
     "output_type": "stream",
     "text": [
      "معالجة الاستعلامات:  27%|██▋       | 270/1000 [16:37<43:09,  3.55s/استعلام]"
     ]
    },
    {
     "name": "stdout",
     "output_type": "stream",
     "text": [
      "Total documents in doc_data: 522931\n",
      "Sample doc_ids: ['1', '2', '3', '4', '5']\n",
      "Top indices: [ 12974 465273 399018  25614  17672]\n",
      "Additional words from top 5 documents: \n",
      "No new words to add to query for beir\n"
     ]
    },
    {
     "name": "stderr",
     "output_type": "stream",
     "text": [
      "معالجة الاستعلامات:  27%|██▋       | 271/1000 [16:41<43:14,  3.56s/استعلام]"
     ]
    },
    {
     "name": "stdout",
     "output_type": "stream",
     "text": [
      "Total documents in doc_data: 522931\n",
      "Sample doc_ids: ['1', '2', '3', '4', '5']\n",
      "Top indices: [391974 443594 325518 325519  64135]\n",
      "Additional words from top 5 documents: hit earth fact niburu\n",
      "🔍 Enhanced Query: Is planet 9 real or a hype/joke like Nibiru? hit earth fact niburu\n"
     ]
    },
    {
     "name": "stderr",
     "output_type": "stream",
     "text": [
      "معالجة الاستعلامات:  27%|██▋       | 272/1000 [16:44<42:54,  3.54s/استعلام]"
     ]
    },
    {
     "name": "stdout",
     "output_type": "stream",
     "text": [
      "Total documents in doc_data: 522931\n",
      "Sample doc_ids: ['1', '2', '3', '4', '5']\n",
      "Top indices: [ 65477  47807 293426 157143 184091]\n",
      "Additional words from top 5 documents: alien exist extra terrestrial\n",
      "🔍 Enhanced Query: Is there any extraterrestrial intelligent life? alien exist extra terrestrial\n"
     ]
    },
    {
     "name": "stderr",
     "output_type": "stream",
     "text": [
      "معالجة الاستعلامات:  27%|██▋       | 273/1000 [16:48<43:07,  3.56s/استعلام]"
     ]
    },
    {
     "name": "stdout",
     "output_type": "stream",
     "text": [
      "Total documents in doc_data: 522931\n",
      "Sample doc_ids: ['1', '2', '3', '4', '5']\n",
      "Top indices: [185571 167706 261826 277976 315950]\n",
      "Additional words from top 5 documents: motivate work hard concentrate\n",
      "🔍 Enhanced Query: How did you become passionate about studying what you're passionate about studying? motivate work hard concentrate\n"
     ]
    },
    {
     "name": "stderr",
     "output_type": "stream",
     "text": [
      "معالجة الاستعلامات:  27%|██▋       | 274/1000 [16:52<43:41,  3.61s/استعلام]"
     ]
    },
    {
     "name": "stdout",
     "output_type": "stream",
     "text": [
      "Total documents in doc_data: 522931\n",
      "Sample doc_ids: ['1', '2', '3', '4', '5']\n",
      "Top indices: [237801  13223 508818 237800 109009]\n",
      "Additional words from top 5 documents: spar boxers wear bag\n",
      "🔍 Enhanced Query: What is the difference between training and fighting gloves? spar boxers wear bag\n"
     ]
    },
    {
     "name": "stderr",
     "output_type": "stream",
     "text": [
      "معالجة الاستعلامات:  28%|██▊       | 275/1000 [16:55<44:00,  3.64s/استعلام]"
     ]
    },
    {
     "name": "stdout",
     "output_type": "stream",
     "text": [
      "Total documents in doc_data: 522931\n",
      "Sample doc_ids: ['1', '2', '3', '4', '5']\n",
      "Top indices: [ 61391 475927  70014 286734 264107]\n",
      "Additional words from top 5 documents: growpromote increase fast natural\n",
      "🔍 Enhanced Query: How can I make my hair grow faster in a month? growpromote increase fast natural\n"
     ]
    },
    {
     "name": "stderr",
     "output_type": "stream",
     "text": [
      "معالجة الاستعلامات:  28%|██▊       | 276/1000 [16:59<44:15,  3.67s/استعلام]"
     ]
    },
    {
     "name": "stdout",
     "output_type": "stream",
     "text": [
      "Total documents in doc_data: 522931\n",
      "Sample doc_ids: ['1', '2', '3', '4', '5']\n",
      "Top indices: [484393 155225  40657 350930 376640]\n",
      "Additional words from top 5 documents: best universities study medicine\n",
      "🔍 Enhanced Query: How can I succeed in medical school? best universities study medicine\n"
     ]
    },
    {
     "name": "stderr",
     "output_type": "stream",
     "text": [
      "معالجة الاستعلامات:  28%|██▊       | 277/1000 [17:03<44:46,  3.72s/استعلام]"
     ]
    },
    {
     "name": "stdout",
     "output_type": "stream",
     "text": [
      "Total documents in doc_data: 522931\n",
      "Sample doc_ids: ['1', '2', '3', '4', '5']\n",
      "Top indices: [170552 265444 260643 163628 391241]\n",
      "Additional words from top 5 documents: format experience candidate year\n",
      "🔍 Enhanced Query: What should I do in my resume to get interviews in the field of data analytics? format experience candidate year\n"
     ]
    },
    {
     "name": "stderr",
     "output_type": "stream",
     "text": [
      "معالجة الاستعلامات:  28%|██▊       | 278/1000 [17:07<44:47,  3.72s/استعلام]"
     ]
    },
    {
     "name": "stdout",
     "output_type": "stream",
     "text": [
      "Total documents in doc_data: 522931\n",
      "Sample doc_ids: ['1', '2', '3', '4', '5']\n",
      "Top indices: [ 71804  13502  31849 486184 139911]\n",
      "Additional words from top 5 documents: first stop teenager mastrubation\n",
      "🔍 Enhanced Query: At what age did you start masturbating? first stop teenager mastrubation\n"
     ]
    },
    {
     "name": "stderr",
     "output_type": "stream",
     "text": [
      "معالجة الاستعلامات:  28%|██▊       | 279/1000 [17:10<45:05,  3.75s/استعلام]"
     ]
    },
    {
     "name": "stdout",
     "output_type": "stream",
     "text": [
      "Total documents in doc_data: 522931\n",
      "Sample doc_ids: ['1', '2', '3', '4', '5']\n",
      "Top indices: [445449 337393 437645 458381 357768]\n",
      "Additional words from top 5 documents: cost learn language study\n",
      "🔍 Enhanced Query: Harvard College Courses: What is general shopping advice for German classes? cost learn language study\n"
     ]
    },
    {
     "name": "stderr",
     "output_type": "stream",
     "text": [
      "معالجة الاستعلامات:  28%|██▊       | 280/1000 [17:14<45:27,  3.79s/استعلام]"
     ]
    },
    {
     "name": "stdout",
     "output_type": "stream",
     "text": [
      "Total documents in doc_data: 522931\n",
      "Sample doc_ids: ['1', '2', '3', '4', '5']\n",
      "Top indices: [196906 303013 207220 221766 196907]\n",
      "Additional words from top 5 documents: transfer songs ipod put\n",
      "🔍 Enhanced Query: How can I copy music from iTunes to my computer? transfer songs ipod put\n"
     ]
    },
    {
     "name": "stderr",
     "output_type": "stream",
     "text": [
      "معالجة الاستعلامات:  28%|██▊       | 281/1000 [17:18<45:47,  3.82s/استعلام]"
     ]
    },
    {
     "name": "stdout",
     "output_type": "stream",
     "text": [
      "Total documents in doc_data: 522931\n",
      "Sample doc_ids: ['1', '2', '3', '4', '5']\n",
      "Top indices: [ 13523 337480 303001 318765  84413]\n",
      "Additional words from top 5 documents: hematoma hurt neoplasms bleed\n",
      "🔍 Enhanced Query: Why are hematomas caused when drawing blood? hematoma hurt neoplasms bleed\n"
     ]
    },
    {
     "name": "stderr",
     "output_type": "stream",
     "text": [
      "معالجة الاستعلامات:  28%|██▊       | 282/1000 [17:22<46:35,  3.89s/استعلام]"
     ]
    },
    {
     "name": "stdout",
     "output_type": "stream",
     "text": [
      "Total documents in doc_data: 522931\n",
      "Sample doc_ids: ['1', '2', '3', '4', '5']\n",
      "Top indices: [202913 520545  13556 389295 413869]\n",
      "Additional words from top 5 documents: nicotine bad lungs carcinogen\n",
      "🔍 Enhanced Query: Is smoking unfiltered cigarettes significantly worse for your health than smoking filtered cigarettes? nicotine bad lungs carcinogen\n"
     ]
    },
    {
     "name": "stderr",
     "output_type": "stream",
     "text": [
      "معالجة الاستعلامات:  28%|██▊       | 283/1000 [17:26<46:12,  3.87s/استعلام]"
     ]
    },
    {
     "name": "stdout",
     "output_type": "stream",
     "text": [
      "Total documents in doc_data: 522931\n",
      "Sample doc_ids: ['1', '2', '3', '4', '5']\n",
      "Top indices: [ 35874  35875 131527  76718  11395]\n",
      "Additional words from top 5 documents: vehicle cars compressor communicate\n",
      "🔍 Enhanced Query: What are some mind-blowing vehicles tools that exist that most people don't know about? vehicle cars compressor communicate\n"
     ]
    },
    {
     "name": "stderr",
     "output_type": "stream",
     "text": [
      "معالجة الاستعلامات:  28%|██▊       | 284/1000 [17:30<46:04,  3.86s/استعلام]"
     ]
    },
    {
     "name": "stdout",
     "output_type": "stream",
     "text": [
      "Total documents in doc_data: 522931\n",
      "Sample doc_ids: ['1', '2', '3', '4', '5']\n",
      "Top indices: [ 13605  75229 318751 445475 318752]\n",
      "Additional words from top 5 documents: photoshop desktop use illustrator\n",
      "🔍 Enhanced Query: What is an easy way to learn Adobe Lightroom? photoshop desktop use illustrator\n"
     ]
    },
    {
     "name": "stderr",
     "output_type": "stream",
     "text": [
      "معالجة الاستعلامات:  28%|██▊       | 285/1000 [17:34<45:20,  3.81s/استعلام]"
     ]
    },
    {
     "name": "stdout",
     "output_type": "stream",
     "text": [
      "Total documents in doc_data: 522931\n",
      "Sample doc_ids: ['1', '2', '3', '4', '5']\n",
      "Top indices: [ 13642 380024 308340 264029 426383]\n",
      "Additional words from top 5 documents: exist number decibel scale\n",
      "🔍 Enhanced Query: How can there be negative decibels? exist number decibel scale\n"
     ]
    },
    {
     "name": "stderr",
     "output_type": "stream",
     "text": [
      "معالجة الاستعلامات:  29%|██▊       | 286/1000 [17:37<45:02,  3.78s/استعلام]"
     ]
    },
    {
     "name": "stdout",
     "output_type": "stream",
     "text": [
      "Total documents in doc_data: 522931\n",
      "Sample doc_ids: ['1', '2', '3', '4', '5']\n",
      "Top indices: [ 13649 274480 358954 274481 175112]\n",
      "Additional words from top 5 documents: bheem bhim applocks android\n",
      "🔍 Enhanced Query: How does an app works? bheem bhim applocks android\n"
     ]
    },
    {
     "name": "stderr",
     "output_type": "stream",
     "text": [
      "معالجة الاستعلامات:  29%|██▊       | 287/1000 [17:41<44:22,  3.73s/استعلام]"
     ]
    },
    {
     "name": "stdout",
     "output_type": "stream",
     "text": [
      "Total documents in doc_data: 522931\n",
      "Sample doc_ids: ['1', '2', '3', '4', '5']\n",
      "Top indices: [ 13659  42583 273385  26919 270529]\n",
      "Additional words from top 5 documents: know reverse tell function\n",
      "🔍 Enhanced Query: What is cavity? know reverse tell function\n"
     ]
    },
    {
     "name": "stderr",
     "output_type": "stream",
     "text": [
      "معالجة الاستعلامات:  29%|██▉       | 288/1000 [17:44<43:46,  3.69s/استعلام]"
     ]
    },
    {
     "name": "stdout",
     "output_type": "stream",
     "text": [
      "Total documents in doc_data: 522931\n",
      "Sample doc_ids: ['1', '2', '3', '4', '5']\n",
      "Top indices: [ 13660 263632 461151 276790 336142]\n",
      "Additional words from top 5 documents: indian etiquette workplace mannerism\n",
      "🔍 Enhanced Query: What are examples of good manners? indian etiquette workplace mannerism\n"
     ]
    },
    {
     "name": "stderr",
     "output_type": "stream",
     "text": [
      "معالجة الاستعلامات:  29%|██▉       | 289/1000 [17:48<43:20,  3.66s/استعلام]"
     ]
    },
    {
     "name": "stdout",
     "output_type": "stream",
     "text": [
      "Total documents in doc_data: 522931\n",
      "Sample doc_ids: ['1', '2', '3', '4', '5']\n",
      "Top indices: [ 13669 348301 485001 108739 443669]\n",
      "Additional words from top 5 documents: apps similar get read\n",
      "🔍 Enhanced Query: Who are the Quorans on Wattpad? apps similar get read\n"
     ]
    },
    {
     "name": "stderr",
     "output_type": "stream",
     "text": [
      "معالجة الاستعلامات:  29%|██▉       | 290/1000 [17:52<43:36,  3.69s/استعلام]"
     ]
    },
    {
     "name": "stdout",
     "output_type": "stream",
     "text": [
      "Total documents in doc_data: 522931\n",
      "Sample doc_ids: ['1', '2', '3', '4', '5']\n",
      "Top indices: [334315 328675 328676  88359  88358]\n",
      "Additional words from top 5 documents: presidents celebrities politicians world\n",
      "🔍 Enhanced Query: Who are some of the most influential people that have ever lived? presidents celebrities politicians world\n"
     ]
    },
    {
     "name": "stderr",
     "output_type": "stream",
     "text": [
      "معالجة الاستعلامات:  29%|██▉       | 291/1000 [17:56<44:42,  3.78s/استعلام]"
     ]
    },
    {
     "name": "stdout",
     "output_type": "stream",
     "text": [
      "Total documents in doc_data: 522931\n",
      "Sample doc_ids: ['1', '2', '3', '4', '5']\n",
      "Top indices: [ 13852 373227 104373 207686 400289]\n",
      "Additional words from top 5 documents: organization asymptotic mean happen\n",
      "🔍 Enhanced Query: What is e (exponential)? organization asymptotic mean happen\n"
     ]
    },
    {
     "name": "stderr",
     "output_type": "stream",
     "text": [
      "معالجة الاستعلامات:  29%|██▉       | 292/1000 [18:00<45:39,  3.87s/استعلام]"
     ]
    },
    {
     "name": "stdout",
     "output_type": "stream",
     "text": [
      "Total documents in doc_data: 522931\n",
      "Sample doc_ids: ['1', '2', '3', '4', '5']\n",
      "Top indices: [ 59924 178227 241017 488626 163821]\n",
      "Additional words from top 5 documents: fit innovative products pros\n",
      "🔍 Enhanced Query: How can I assess potential market for a product? fit innovative products pros\n"
     ]
    },
    {
     "name": "stderr",
     "output_type": "stream",
     "text": [
      "معالجة الاستعلامات:  29%|██▉       | 293/1000 [18:04<45:52,  3.89s/استعلام]"
     ]
    },
    {
     "name": "stdout",
     "output_type": "stream",
     "text": [
      "Total documents in doc_data: 522931\n",
      "Sample doc_ids: ['1', '2', '3', '4', '5']\n",
      "Top indices: [ 13916 321775 159437  91868 123893]\n",
      "Additional words from top 5 documents: track find address sender\n",
      "🔍 Enhanced Query: How do you determine whether an email was opened by a recipient? track find address sender\n"
     ]
    },
    {
     "name": "stderr",
     "output_type": "stream",
     "text": [
      "معالجة الاستعلامات:  29%|██▉       | 294/1000 [18:08<45:24,  3.86s/استعلام]"
     ]
    },
    {
     "name": "stdout",
     "output_type": "stream",
     "text": [
      "Total documents in doc_data: 522931\n",
      "Sample doc_ids: ['1', '2', '3', '4', '5']\n",
      "Top indices: [380978 380979 240692  13925 129327]\n",
      "Additional words from top 5 documents: movie posthumous release go\n",
      "🔍 Enhanced Query: Who is the next Michael Jackson? movie posthumous release go\n"
     ]
    },
    {
     "name": "stderr",
     "output_type": "stream",
     "text": [
      "معالجة الاستعلامات:  30%|██▉       | 295/1000 [18:12<46:19,  3.94s/استعلام]"
     ]
    },
    {
     "name": "stdout",
     "output_type": "stream",
     "text": [
      "Total documents in doc_data: 522931\n",
      "Sample doc_ids: ['1', '2', '3', '4', '5']\n",
      "Top indices: [200566 483215 208337 108022 438251]\n",
      "No similar documents found for beir with sufficient similarity\n"
     ]
    },
    {
     "name": "stderr",
     "output_type": "stream",
     "text": [
      "معالجة الاستعلامات:  30%|██▉       | 296/1000 [18:15<45:29,  3.88s/استعلام]"
     ]
    },
    {
     "name": "stdout",
     "output_type": "stream",
     "text": [
      "Total documents in doc_data: 522931\n",
      "Sample doc_ids: ['1', '2', '3', '4', '5']\n",
      "Top indices: [ 89345 155231 475010  89652 316278]\n",
      "Additional words from top 5 documents: clientside languages better aspnet\n",
      "🔍 Enhanced Query: Which server-side scripting language should we use in web development today? clientside languages better aspnet\n"
     ]
    },
    {
     "name": "stderr",
     "output_type": "stream",
     "text": [
      "معالجة الاستعلامات:  30%|██▉       | 297/1000 [18:19<45:41,  3.90s/استعلام]"
     ]
    },
    {
     "name": "stdout",
     "output_type": "stream",
     "text": [
      "Total documents in doc_data: 522931\n",
      "Sample doc_ids: ['1', '2', '3', '4', '5']\n",
      "Top indices: [ 88287  88286  13972 289292 154526]\n",
      "Additional words from top 5 documents: implode decade china lifetime\n",
      "🔍 Enhanced Query: Will North Korea collapse? implode decade china lifetime\n"
     ]
    },
    {
     "name": "stderr",
     "output_type": "stream",
     "text": [
      "معالجة الاستعلامات:  30%|██▉       | 298/1000 [18:23<45:17,  3.87s/استعلام]"
     ]
    },
    {
     "name": "stdout",
     "output_type": "stream",
     "text": [
      "Total documents in doc_data: 522931\n",
      "Sample doc_ids: ['1', '2', '3', '4', '5']\n",
      "Top indices: [330761 244564 337042 365643  13999]\n",
      "Additional words from top 5 documents: kerala people men\n",
      "🔍 Enhanced Query: Which state in India can boast of having the most beautiful women? kerala people men\n"
     ]
    },
    {
     "name": "stderr",
     "output_type": "stream",
     "text": [
      "معالجة الاستعلامات:  30%|██▉       | 299/1000 [18:27<45:16,  3.88s/استعلام]"
     ]
    },
    {
     "name": "stdout",
     "output_type": "stream",
     "text": [
      "Total documents in doc_data: 522931\n",
      "Sample doc_ids: ['1', '2', '3', '4', '5']\n",
      "Top indices: [446461  69273  58208 313337 179428]\n",
      "Additional words from top 5 documents: help animals hunt lions\n",
      "🔍 Enhanced Query: When wild humans are found in the wild, why are people using the word \"rescue\" from their animal famillies when they're actually kidnapping him/her? help animals hunt lions\n"
     ]
    },
    {
     "name": "stderr",
     "output_type": "stream",
     "text": [
      "معالجة الاستعلامات:  30%|███       | 300/1000 [18:31<44:33,  3.82s/استعلام]"
     ]
    },
    {
     "name": "stdout",
     "output_type": "stream",
     "text": [
      "Total documents in doc_data: 522931\n",
      "Sample doc_ids: ['1', '2', '3', '4', '5']\n",
      "Top indices: [ 14017  20579 105673 444665  27577]\n",
      "Additional words from top 5 documents: think good appoint become\n",
      "🔍 Enhanced Query: What is your review of Tim Cook (Apple CEO)? think good appoint become\n"
     ]
    },
    {
     "name": "stderr",
     "output_type": "stream",
     "text": [
      "معالجة الاستعلامات:  30%|███       | 301/1000 [18:35<44:25,  3.81s/استعلام]"
     ]
    },
    {
     "name": "stdout",
     "output_type": "stream",
     "text": [
      "Total documents in doc_data: 522931\n",
      "Sample doc_ids: ['1', '2', '3', '4', '5']\n",
      "Top indices: [414252  36196 355426 283640  89990]\n",
      "Additional words from top 5 documents: prefer ridley scott steven\n",
      "🔍 Enhanced Query: Who is your favorite movie director and why? prefer ridley scott steven\n"
     ]
    },
    {
     "name": "stderr",
     "output_type": "stream",
     "text": [
      "معالجة الاستعلامات:  30%|███       | 302/1000 [18:39<44:51,  3.86s/استعلام]"
     ]
    },
    {
     "name": "stdout",
     "output_type": "stream",
     "text": [
      "Total documents in doc_data: 522931\n",
      "Sample doc_ids: ['1', '2', '3', '4', '5']\n",
      "Top indices: [193035 313227 313226 193036 198629]\n",
      "Additional words from top 5 documents: cure classify retrovirus not\n",
      "🔍 Enhanced Query: Can we kill herpes virus once it is out of nerves cell? cure classify retrovirus not\n"
     ]
    },
    {
     "name": "stderr",
     "output_type": "stream",
     "text": [
      "معالجة الاستعلامات:  30%|███       | 303/1000 [18:42<44:27,  3.83s/استعلام]"
     ]
    },
    {
     "name": "stdout",
     "output_type": "stream",
     "text": [
      "Total documents in doc_data: 522931\n",
      "Sample doc_ids: ['1', '2', '3', '4', '5']\n",
      "Top indices: [ 15408 199813  14109  89972  89971]\n",
      "Additional words from top 5 documents: acknowledge veterans celebrate recognize\n",
      "🔍 Enhanced Query: Why do we commemorate Remembrance Day? acknowledge veterans celebrate recognize\n"
     ]
    },
    {
     "name": "stderr",
     "output_type": "stream",
     "text": [
      "معالجة الاستعلامات:  30%|███       | 304/1000 [18:46<43:59,  3.79s/استعلام]"
     ]
    },
    {
     "name": "stdout",
     "output_type": "stream",
     "text": [
      "Total documents in doc_data: 522931\n",
      "Sample doc_ids: ['1', '2', '3', '4', '5']\n",
      "Top indices: [ 69114 338044 193861 193862 347034]\n",
      "Additional words from top 5 documents: girl\n",
      "🔍 Enhanced Query: How do I convince my girlfriend to have sex? girl\n"
     ]
    },
    {
     "name": "stderr",
     "output_type": "stream",
     "text": [
      "معالجة الاستعلامات:  30%|███       | 305/1000 [18:50<45:12,  3.90s/استعلام]"
     ]
    },
    {
     "name": "stdout",
     "output_type": "stream",
     "text": [
      "Total documents in doc_data: 522931\n",
      "Sample doc_ids: ['1', '2', '3', '4', '5']\n",
      "Top indices: [ 58026 335424  93750 286229 286230]\n",
      "Additional words from top 5 documents: torque consider acceleration product\n",
      "🔍 Enhanced Query: Why work is scalar quantity when both displacement and force are vector quantities? torque consider acceleration product\n"
     ]
    },
    {
     "name": "stderr",
     "output_type": "stream",
     "text": [
      "معالجة الاستعلامات:  31%|███       | 306/1000 [18:54<45:36,  3.94s/استعلام]"
     ]
    },
    {
     "name": "stdout",
     "output_type": "stream",
     "text": [
      "Total documents in doc_data: 522931\n",
      "Sample doc_ids: ['1', '2', '3', '4', '5']\n",
      "Top indices: [438107 438108 205493 112156 184019]\n",
      "Additional words from top 5 documents: \n",
      "No new words to add to query for beir\n"
     ]
    },
    {
     "name": "stderr",
     "output_type": "stream",
     "text": [
      "معالجة الاستعلامات:  31%|███       | 307/1000 [18:58<46:09,  4.00s/استعلام]"
     ]
    },
    {
     "name": "stdout",
     "output_type": "stream",
     "text": [
      "Total documents in doc_data: 522931\n",
      "Sample doc_ids: ['1', '2', '3', '4', '5']\n",
      "Top indices: [134355 193709 120819 176367 309936]\n",
      "Additional words from top 5 documents: prepare certification cpt book\n",
      "🔍 Enhanced Query: What is the best way to study for the PMP in one month? prepare certification cpt book\n"
     ]
    },
    {
     "name": "stderr",
     "output_type": "stream",
     "text": [
      "معالجة الاستعلامات:  31%|███       | 308/1000 [19:02<45:59,  3.99s/استعلام]"
     ]
    },
    {
     "name": "stdout",
     "output_type": "stream",
     "text": [
      "Total documents in doc_data: 522931\n",
      "Sample doc_ids: ['1', '2', '3', '4', '5']\n",
      "Top indices: [138705  77343 230199 155495  58606]\n",
      "Additional words from top 5 documents: whats xxyearold accept\n",
      "🔍 Enhanced Query: How much average answers a question get on Quora? whats xxyearold accept\n"
     ]
    },
    {
     "name": "stderr",
     "output_type": "stream",
     "text": [
      "معالجة الاستعلامات:  31%|███       | 309/1000 [19:06<46:35,  4.05s/استعلام]"
     ]
    },
    {
     "name": "stdout",
     "output_type": "stream",
     "text": [
      "Total documents in doc_data: 522931\n",
      "Sample doc_ids: ['1', '2', '3', '4', '5']\n",
      "Top indices: [ 78998 216380  66712 186798  68740]\n",
      "Additional words from top 5 documents: cry underrate pokémon angsty\n",
      "🔍 Enhanced Query: Why is Manaphy annoying in Pokemon Ranger and The Temple of The Sea? cry underrate pokémon angsty\n"
     ]
    },
    {
     "name": "stderr",
     "output_type": "stream",
     "text": [
      "معالجة الاستعلامات:  31%|███       | 310/1000 [19:10<45:13,  3.93s/استعلام]"
     ]
    },
    {
     "name": "stdout",
     "output_type": "stream",
     "text": [
      "Total documents in doc_data: 522931\n",
      "Sample doc_ids: ['1', '2', '3', '4', '5']\n",
      "Top indices: [ 97584 319001 172522 100350 508547]\n",
      "Additional words from top 5 documents: out day today\n",
      "🔍 Enhanced Query: What is a test plan? out day today\n"
     ]
    },
    {
     "name": "stderr",
     "output_type": "stream",
     "text": [
      "معالجة الاستعلامات:  31%|███       | 311/1000 [19:14<44:33,  3.88s/استعلام]"
     ]
    },
    {
     "name": "stdout",
     "output_type": "stream",
     "text": [
      "Total documents in doc_data: 522931\n",
      "Sample doc_ids: ['1', '2', '3', '4', '5']\n",
      "Top indices: [453106 437473 399069  71363  71364]\n",
      "Additional words from top 5 documents: \n",
      "No new words to add to query for beir\n"
     ]
    },
    {
     "name": "stderr",
     "output_type": "stream",
     "text": [
      "معالجة الاستعلامات:  31%|███       | 312/1000 [19:18<43:30,  3.79s/استعلام]"
     ]
    },
    {
     "name": "stdout",
     "output_type": "stream",
     "text": [
      "Total documents in doc_data: 522931\n",
      "Sample doc_ids: ['1', '2', '3', '4', '5']\n",
      "Top indices: [ 87414  10703 252496 197477 197478]\n",
      "Additional words from top 5 documents: best learn csprogramming introduction\n",
      "🔍 Enhanced Query: What is a good introductory computer science book? best learn csprogramming introduction\n"
     ]
    },
    {
     "name": "stderr",
     "output_type": "stream",
     "text": [
      "معالجة الاستعلامات:  31%|███▏      | 313/1000 [19:21<43:29,  3.80s/استعلام]"
     ]
    },
    {
     "name": "stdout",
     "output_type": "stream",
     "text": [
      "Total documents in doc_data: 522931\n",
      "Sample doc_ids: ['1', '2', '3', '4', '5']\n",
      "Top indices: [ 14492  33514 287559  33515 509096]\n",
      "Additional words from top 5 documents: freezer refrigerator cold not\n",
      "🔍 Enhanced Query: How do fridges and freezers differ? freezer refrigerator cold not\n"
     ]
    },
    {
     "name": "stderr",
     "output_type": "stream",
     "text": [
      "معالجة الاستعلامات:  31%|███▏      | 314/1000 [19:25<43:02,  3.76s/استعلام]"
     ]
    },
    {
     "name": "stdout",
     "output_type": "stream",
     "text": [
      "Total documents in doc_data: 522931\n",
      "Sample doc_ids: ['1', '2', '3', '4', '5']\n",
      "Top indices: [274872 330271  12793 266160 307061]\n",
      "Additional words from top 5 documents: recover account lose username\n",
      "🔍 Enhanced Query: What would happen if the Google database was hacked? recover account lose username\n"
     ]
    },
    {
     "name": "stderr",
     "output_type": "stream",
     "text": [
      "معالجة الاستعلامات:  32%|███▏      | 315/1000 [19:29<42:26,  3.72s/استعلام]"
     ]
    },
    {
     "name": "stdout",
     "output_type": "stream",
     "text": [
      "Total documents in doc_data: 522931\n",
      "Sample doc_ids: ['1', '2', '3', '4', '5']\n",
      "Top indices: [211432 229830 414260 383007 340664]\n",
      "Additional words from top 5 documents: gay bisexual curious straight\n",
      "🔍 Enhanced Query: If a person was born blind how would they know their sexual orientation? gay bisexual curious straight\n"
     ]
    },
    {
     "name": "stderr",
     "output_type": "stream",
     "text": [
      "معالجة الاستعلامات:  32%|███▏      | 316/1000 [19:32<42:02,  3.69s/استعلام]"
     ]
    },
    {
     "name": "stdout",
     "output_type": "stream",
     "text": [
      "Total documents in doc_data: 522931\n",
      "Sample doc_ids: ['1', '2', '3', '4', '5']\n",
      "Top indices: [ 79032  14733 319401 515110 515109]\n",
      "Additional words from top 5 documents: adult caribbean ship royal\n",
      "🔍 Enhanced Query: What are the best cruises for young adults? adult caribbean ship royal\n"
     ]
    },
    {
     "name": "stderr",
     "output_type": "stream",
     "text": [
      "معالجة الاستعلامات:  32%|███▏      | 317/1000 [19:36<41:50,  3.68s/استعلام]"
     ]
    },
    {
     "name": "stdout",
     "output_type": "stream",
     "text": [
      "Total documents in doc_data: 522931\n",
      "Sample doc_ids: ['1', '2', '3', '4', '5']\n",
      "Top indices: [484276 148949 217498 112777 227952]\n",
      "Additional words from top 5 documents: \n",
      "No new words to add to query for beir\n"
     ]
    },
    {
     "name": "stderr",
     "output_type": "stream",
     "text": [
      "معالجة الاستعلامات:  32%|███▏      | 318/1000 [19:40<41:46,  3.67s/استعلام]"
     ]
    },
    {
     "name": "stdout",
     "output_type": "stream",
     "text": [
      "Total documents in doc_data: 522931\n",
      "Sample doc_ids: ['1', '2', '3', '4', '5']\n",
      "Top indices: [329645  12726 384295  39178 425012]\n",
      "Additional words from top 5 documents: postcollege introduce write email\n",
      "🔍 Enhanced Query: What is the best way to make new friends in college? postcollege introduce write email\n"
     ]
    },
    {
     "name": "stderr",
     "output_type": "stream",
     "text": [
      "معالجة الاستعلامات:  32%|███▏      | 319/1000 [19:43<41:22,  3.64s/استعلام]"
     ]
    },
    {
     "name": "stdout",
     "output_type": "stream",
     "text": [
      "Total documents in doc_data: 522931\n",
      "Sample doc_ids: ['1', '2', '3', '4', '5']\n",
      "Top indices: [101287 437558 391972  46189  53768]\n",
      "Additional words from top 5 documents: factory reset upgrade\n",
      "🔍 Enhanced Query: Should I buy a new iPhone or wait for the new one? factory reset upgrade\n"
     ]
    },
    {
     "name": "stderr",
     "output_type": "stream",
     "text": [
      "معالجة الاستعلامات:  32%|███▏      | 320/1000 [19:47<41:07,  3.63s/استعلام]"
     ]
    },
    {
     "name": "stdout",
     "output_type": "stream",
     "text": [
      "Total documents in doc_data: 522931\n",
      "Sample doc_ids: ['1', '2', '3', '4', '5']\n",
      "Top indices: [257800 480910 273764 213546 503827]\n",
      "No similar documents found for beir with sufficient similarity\n"
     ]
    },
    {
     "name": "stderr",
     "output_type": "stream",
     "text": [
      "معالجة الاستعلامات:  32%|███▏      | 321/1000 [19:50<41:06,  3.63s/استعلام]"
     ]
    },
    {
     "name": "stdout",
     "output_type": "stream",
     "text": [
      "Total documents in doc_data: 522931\n",
      "Sample doc_ids: ['1', '2', '3', '4', '5']\n",
      "Top indices: [521499 297275 103594  69404  30325]\n",
      "Additional words from top 5 documents: improve years old\n",
      "🔍 Enhanced Query: Does life get better as you age? improve years old\n"
     ]
    },
    {
     "name": "stderr",
     "output_type": "stream",
     "text": [
      "معالجة الاستعلامات:  32%|███▏      | 322/1000 [19:54<41:02,  3.63s/استعلام]"
     ]
    },
    {
     "name": "stdout",
     "output_type": "stream",
     "text": [
      "Total documents in doc_data: 522931\n",
      "Sample doc_ids: ['1', '2', '3', '4', '5']\n",
      "Top indices: [171354 115014 111871  49905 148447]\n",
      "Additional words from top 5 documents: car engine could happen\n",
      "🔍 Enhanced Query: Why don't we have cars that run on water? car engine could happen\n"
     ]
    },
    {
     "name": "stderr",
     "output_type": "stream",
     "text": [
      "معالجة الاستعلامات:  32%|███▏      | 323/1000 [19:58<40:49,  3.62s/استعلام]"
     ]
    },
    {
     "name": "stdout",
     "output_type": "stream",
     "text": [
      "Total documents in doc_data: 522931\n",
      "Sample doc_ids: ['1', '2', '3', '4', '5']\n",
      "Top indices: [ 14962 238742 238741 233706 138390]\n",
      "Additional words from top 5 documents: 19th celebrate 21st\n",
      "🔍 Enhanced Query: What should I do for my 16th birthday as a male? 19th celebrate 21st\n"
     ]
    },
    {
     "name": "stderr",
     "output_type": "stream",
     "text": [
      "معالجة الاستعلامات:  32%|███▏      | 324/1000 [20:01<40:38,  3.61s/استعلام]"
     ]
    },
    {
     "name": "stdout",
     "output_type": "stream",
     "text": [
      "Total documents in doc_data: 522931\n",
      "Sample doc_ids: ['1', '2', '3', '4', '5']\n",
      "Top indices: [152750 384239 161601  81244 288145]\n",
      "Additional words from top 5 documents: write best format title\n",
      "🔍 Enhanced Query: How do I make a resume? write best format title\n"
     ]
    },
    {
     "name": "stderr",
     "output_type": "stream",
     "text": [
      "معالجة الاستعلامات:  32%|███▎      | 325/1000 [20:05<40:44,  3.62s/استعلام]"
     ]
    },
    {
     "name": "stdout",
     "output_type": "stream",
     "text": [
      "Total documents in doc_data: 522931\n",
      "Sample doc_ids: ['1', '2', '3', '4', '5']\n",
      "Top indices: [308057  30796 278902   8016  15016]\n",
      "Additional words from top 5 documents: tor browser use download\n",
      "🔍 Enhanced Query: Is the dark web safe to browse? tor browser use download\n"
     ]
    },
    {
     "name": "stderr",
     "output_type": "stream",
     "text": [
      "معالجة الاستعلامات:  33%|███▎      | 326/1000 [20:08<40:38,  3.62s/استعلام]"
     ]
    },
    {
     "name": "stdout",
     "output_type": "stream",
     "text": [
      "Total documents in doc_data: 522931\n",
      "Sample doc_ids: ['1', '2', '3', '4', '5']\n",
      "Top indices: [343352  15017 425454 487109  27348]\n",
      "Additional words from top 5 documents: \n",
      "No new words to add to query for beir\n"
     ]
    },
    {
     "name": "stderr",
     "output_type": "stream",
     "text": [
      "معالجة الاستعلامات:  33%|███▎      | 327/1000 [20:12<40:41,  3.63s/استعلام]"
     ]
    },
    {
     "name": "stdout",
     "output_type": "stream",
     "text": [
      "Total documents in doc_data: 522931\n",
      "Sample doc_ids: ['1', '2', '3', '4', '5']\n",
      "Top indices: [ 29831  70184 153124 322705 208737]\n",
      "Additional words from top 5 documents: usa visit visa process\n",
      "🔍 Enhanced Query: Which citizenship will a child get if it gets delivered mid air during an international flight? usa visit visa process\n"
     ]
    },
    {
     "name": "stderr",
     "output_type": "stream",
     "text": [
      "معالجة الاستعلامات:  33%|███▎      | 328/1000 [20:16<40:32,  3.62s/استعلام]"
     ]
    },
    {
     "name": "stdout",
     "output_type": "stream",
     "text": [
      "Total documents in doc_data: 522931\n",
      "Sample doc_ids: ['1', '2', '3', '4', '5']\n",
      "Top indices: [188792 120255 130530 345353 250132]\n",
      "Additional words from top 5 documents: aerospace chandigarh top colleges\n",
      "🔍 Enhanced Query: How is aeronautical engineer in Hindustan University, Chennai? aerospace chandigarh top colleges\n"
     ]
    },
    {
     "name": "stderr",
     "output_type": "stream",
     "text": [
      "معالجة الاستعلامات:  33%|███▎      | 329/1000 [20:19<40:37,  3.63s/استعلام]"
     ]
    },
    {
     "name": "stdout",
     "output_type": "stream",
     "text": [
      "Total documents in doc_data: 522931\n",
      "Sample doc_ids: ['1', '2', '3', '4', '5']\n",
      "Top indices: [ 48670 223684 298644  48671 254700]\n",
      "Additional words from top 5 documents: help loss exercise lot\n",
      "🔍 Enhanced Query: Will I lose weight by only drinking water? help loss exercise lot\n"
     ]
    },
    {
     "name": "stderr",
     "output_type": "stream",
     "text": [
      "معالجة الاستعلامات:  33%|███▎      | 330/1000 [20:23<40:41,  3.64s/استعلام]"
     ]
    },
    {
     "name": "stdout",
     "output_type": "stream",
     "text": [
      "Total documents in doc_data: 522931\n",
      "Sample doc_ids: ['1', '2', '3', '4', '5']\n",
      "Top indices: [ 15182 366806 493051  54195 498081]\n",
      "Additional words from top 5 documents: wineries hawaii people buy\n",
      "🔍 Enhanced Query: What is the most expensive wine in the world? wineries hawaii people buy\n"
     ]
    },
    {
     "name": "stderr",
     "output_type": "stream",
     "text": [
      "معالجة الاستعلامات:  33%|███▎      | 331/1000 [20:27<40:55,  3.67s/استعلام]"
     ]
    },
    {
     "name": "stdout",
     "output_type": "stream",
     "text": [
      "Total documents in doc_data: 522931\n",
      "Sample doc_ids: ['1', '2', '3', '4', '5']\n",
      "Top indices: [ 15300   1169 182117 370638 277232]\n",
      "Additional words from top 5 documents: quality wire wireless headset\n",
      "🔍 Enhanced Query: What's the difference between monitors and reference headphones? quality wire wireless headset\n"
     ]
    },
    {
     "name": "stderr",
     "output_type": "stream",
     "text": [
      "معالجة الاستعلامات:  33%|███▎      | 332/1000 [20:30<41:04,  3.69s/استعلام]"
     ]
    },
    {
     "name": "stdout",
     "output_type": "stream",
     "text": [
      "Total documents in doc_data: 522931\n",
      "Sample doc_ids: ['1', '2', '3', '4', '5']\n",
      "Top indices: [ 80569  31222 497102 497103 192575]\n",
      "Additional words from top 5 documents: work ece salary\n",
      "🔍 Enhanced Query: What is the job of an IES? work ece salary\n"
     ]
    },
    {
     "name": "stderr",
     "output_type": "stream",
     "text": [
      "معالجة الاستعلامات:  33%|███▎      | 333/1000 [20:34<40:55,  3.68s/استعلام]"
     ]
    },
    {
     "name": "stdout",
     "output_type": "stream",
     "text": [
      "Total documents in doc_data: 522931\n",
      "Sample doc_ids: ['1', '2', '3', '4', '5']\n",
      "Top indices: [ 11462 303865 406046 393122 335301]\n",
      "Additional words from top 5 documents: skills become webdeveloper\n",
      "🔍 Enhanced Query: What are good ways to learn how to improve web development? skills become webdeveloper\n"
     ]
    },
    {
     "name": "stderr",
     "output_type": "stream",
     "text": [
      "معالجة الاستعلامات:  33%|███▎      | 334/1000 [20:38<40:35,  3.66s/استعلام]"
     ]
    },
    {
     "name": "stdout",
     "output_type": "stream",
     "text": [
      "Total documents in doc_data: 522931\n",
      "Sample doc_ids: ['1', '2', '3', '4', '5']\n",
      "Top indices: [378048  94201  19497 322985 457683]\n",
      "Additional words from top 5 documents: god ramanujans krishna urmila\n",
      "🔍 Enhanced Query: How did rama die? god ramanujans krishna urmila\n"
     ]
    },
    {
     "name": "stderr",
     "output_type": "stream",
     "text": [
      "معالجة الاستعلامات:  34%|███▎      | 335/1000 [20:41<40:37,  3.66s/استعلام]"
     ]
    },
    {
     "name": "stdout",
     "output_type": "stream",
     "text": [
      "Total documents in doc_data: 522931\n",
      "Sample doc_ids: ['1', '2', '3', '4', '5']\n",
      "Top indices: [456930 336654 332366  77976   1656]\n",
      "Additional words from top 5 documents: correct grammatical errors improve\n",
      "🔍 Enhanced Query: Why is it that every time I ask Quora a question, it tells me to edit it, proofread it, or check its grammar? correct grammatical errors improve\n"
     ]
    },
    {
     "name": "stderr",
     "output_type": "stream",
     "text": [
      "معالجة الاستعلامات:  34%|███▎      | 336/1000 [20:45<40:29,  3.66s/استعلام]"
     ]
    },
    {
     "name": "stdout",
     "output_type": "stream",
     "text": [
      "Total documents in doc_data: 522931\n",
      "Sample doc_ids: ['1', '2', '3', '4', '5']\n",
      "Top indices: [101465 228794  34036  75256  43486]\n",
      "Additional words from top 5 documents: hotels\n",
      "🔍 Enhanced Query: Which are best places to visit in GOA during vacations? hotels\n"
     ]
    },
    {
     "name": "stderr",
     "output_type": "stream",
     "text": [
      "معالجة الاستعلامات:  34%|███▎      | 337/1000 [20:49<40:10,  3.64s/استعلام]"
     ]
    },
    {
     "name": "stdout",
     "output_type": "stream",
     "text": [
      "Total documents in doc_data: 522931\n",
      "Sample doc_ids: ['1', '2', '3', '4', '5']\n",
      "Top indices: [ 15545 380114 238397 522589 175095]\n",
      "Additional words from top 5 documents: profitable subway california invest\n",
      "🔍 Enhanced Query: Which is the best franchise business? profitable subway california invest\n"
     ]
    },
    {
     "name": "stderr",
     "output_type": "stream",
     "text": [
      "معالجة الاستعلامات:  34%|███▍      | 338/1000 [20:52<40:15,  3.65s/استعلام]"
     ]
    },
    {
     "name": "stdout",
     "output_type": "stream",
     "text": [
      "Total documents in doc_data: 522931\n",
      "Sample doc_ids: ['1', '2', '3', '4', '5']\n",
      "Top indices: [329359 113337    228  36937 332790]\n",
      "Additional words from top 5 documents: emotions movie cry happy\n",
      "🔍 Enhanced Query: What is the most emotional picture you've ever seen? emotions movie cry happy\n"
     ]
    },
    {
     "name": "stderr",
     "output_type": "stream",
     "text": [
      "معالجة الاستعلامات:  34%|███▍      | 339/1000 [20:56<40:00,  3.63s/استعلام]"
     ]
    },
    {
     "name": "stdout",
     "output_type": "stream",
     "text": [
      "Total documents in doc_data: 522931\n",
      "Sample doc_ids: ['1', '2', '3', '4', '5']\n",
      "Top indices: [ 72817 161486  48279 246323  87069]\n",
      "Additional words from top 5 documents: novels nonfiction\n",
      "🔍 Enhanced Query: Which is the best book by John green and why? novels nonfiction\n"
     ]
    },
    {
     "name": "stderr",
     "output_type": "stream",
     "text": [
      "معالجة الاستعلامات:  34%|███▍      | 340/1000 [21:00<40:05,  3.64s/استعلام]"
     ]
    },
    {
     "name": "stdout",
     "output_type": "stream",
     "text": [
      "Total documents in doc_data: 522931\n",
      "Sample doc_ids: ['1', '2', '3', '4', '5']\n",
      "Top indices: [ 12549 309286  68088 509195 458482]\n",
      "Additional words from top 5 documents: earn site good\n",
      "🔍 Enhanced Query: What are the best websites for making money online? earn site good\n"
     ]
    },
    {
     "name": "stderr",
     "output_type": "stream",
     "text": [
      "معالجة الاستعلامات:  34%|███▍      | 341/1000 [21:03<39:50,  3.63s/استعلام]"
     ]
    },
    {
     "name": "stdout",
     "output_type": "stream",
     "text": [
      "Total documents in doc_data: 522931\n",
      "Sample doc_ids: ['1', '2', '3', '4', '5']\n",
      "Top indices: [463268 463267 140346  98144 140347]\n",
      "Additional words from top 5 documents: help weight loss physically\n",
      "🔍 Enhanced Query: Is yoga really beneficial for everyone? help weight loss physically\n"
     ]
    },
    {
     "name": "stderr",
     "output_type": "stream",
     "text": [
      "معالجة الاستعلامات:  34%|███▍      | 342/1000 [21:07<39:47,  3.63s/استعلام]"
     ]
    },
    {
     "name": "stdout",
     "output_type": "stream",
     "text": [
      "Total documents in doc_data: 522931\n",
      "Sample doc_ids: ['1', '2', '3', '4', '5']\n",
      "Top indices: [ 45041  15874  45040 500626 341332]\n",
      "Additional words from top 5 documents: jayalalithaa alive mystery\n",
      "🔍 Enhanced Query: When did Jayalalitha actually die? jayalalithaa alive mystery\n"
     ]
    },
    {
     "name": "stderr",
     "output_type": "stream",
     "text": [
      "معالجة الاستعلامات:  34%|███▍      | 343/1000 [21:10<39:56,  3.65s/استعلام]"
     ]
    },
    {
     "name": "stdout",
     "output_type": "stream",
     "text": [
      "Total documents in doc_data: 522931\n",
      "Sample doc_ids: ['1', '2', '3', '4', '5']\n",
      "Top indices: [ 62677  52450  74236  15945 290742]\n",
      "Additional words from top 5 documents: ias ssc mts vacancies\n",
      "🔍 Enhanced Query: What makes The Hindu so special that it is the only newspaper which is recommended for UPSC aspirants? ias ssc mts vacancies\n"
     ]
    },
    {
     "name": "stderr",
     "output_type": "stream",
     "text": [
      "معالجة الاستعلامات:  34%|███▍      | 344/1000 [21:14<39:42,  3.63s/استعلام]"
     ]
    },
    {
     "name": "stdout",
     "output_type": "stream",
     "text": [
      "Total documents in doc_data: 522931\n",
      "Sample doc_ids: ['1', '2', '3', '4', '5']\n",
      "Top indices: [137505   6062   6061  11564 483452]\n",
      "Additional words from top 5 documents: view ads\n",
      "🔍 Enhanced Query: Does Facebook pay for videos like YouTube? view ads\n"
     ]
    },
    {
     "name": "stderr",
     "output_type": "stream",
     "text": [
      "معالجة الاستعلامات:  34%|███▍      | 345/1000 [21:18<39:51,  3.65s/استعلام]"
     ]
    },
    {
     "name": "stdout",
     "output_type": "stream",
     "text": [
      "Total documents in doc_data: 522931\n",
      "Sample doc_ids: ['1', '2', '3', '4', '5']\n",
      "Top indices: [ 16029 232054 258935 402076  41349]\n",
      "Additional words from top 5 documents: stand criticisms good bad\n",
      "🔍 Enhanced Query: What is NAFTA and why was it created? stand criticisms good bad\n"
     ]
    },
    {
     "name": "stderr",
     "output_type": "stream",
     "text": [
      "معالجة الاستعلامات:  35%|███▍      | 346/1000 [21:21<39:55,  3.66s/استعلام]"
     ]
    },
    {
     "name": "stdout",
     "output_type": "stream",
     "text": [
      "Total documents in doc_data: 522931\n",
      "Sample doc_ids: ['1', '2', '3', '4', '5']\n",
      "Top indices: [ 16732  44678 182049 502601  22137]\n",
      "Additional words from top 5 documents: upgrade iphone7\n",
      "🔍 Enhanced Query: What are your views on the new released iPhone 7 and iPhone 7 plus? upgrade iphone7\n"
     ]
    },
    {
     "name": "stderr",
     "output_type": "stream",
     "text": [
      "معالجة الاستعلامات:  35%|███▍      | 347/1000 [21:25<39:43,  3.65s/استعلام]"
     ]
    },
    {
     "name": "stdout",
     "output_type": "stream",
     "text": [
      "Total documents in doc_data: 522931\n",
      "Sample doc_ids: ['1', '2', '3', '4', '5']\n",
      "Top indices: [366029 416088 263969 431386  16075]\n",
      "Additional words from top 5 documents: get sick sweat solarization\n",
      "🔍 Enhanced Query: What do astronauts aboard ISS do during a solar storm? get sick sweat solarization\n"
     ]
    },
    {
     "name": "stderr",
     "output_type": "stream",
     "text": [
      "معالجة الاستعلامات:  35%|███▍      | 348/1000 [21:29<40:06,  3.69s/استعلام]"
     ]
    },
    {
     "name": "stdout",
     "output_type": "stream",
     "text": [
      "Total documents in doc_data: 522931\n",
      "Sample doc_ids: ['1', '2', '3', '4', '5']\n",
      "Top indices: [483255 195182 433741 177837 269195]\n",
      "Additional words from top 5 documents: asperger symptoms treatments\n",
      "🔍 Enhanced Query: Is Asperger's Syndrome Autism? asperger symptoms treatments\n"
     ]
    },
    {
     "name": "stderr",
     "output_type": "stream",
     "text": [
      "معالجة الاستعلامات:  35%|███▍      | 349/1000 [21:33<40:28,  3.73s/استعلام]"
     ]
    },
    {
     "name": "stdout",
     "output_type": "stream",
     "text": [
      "Total documents in doc_data: 522931\n",
      "Sample doc_ids: ['1', '2', '3', '4', '5']\n",
      "Top indices: [301441 147105 222362 283673  12474]\n",
      "Additional words from top 5 documents: framework best basic language\n",
      "🔍 Enhanced Query: With what programming languages or frameworks are most of the current startups built upon? framework best basic language\n"
     ]
    },
    {
     "name": "stderr",
     "output_type": "stream",
     "text": [
      "معالجة الاستعلامات:  35%|███▌      | 350/1000 [21:37<41:05,  3.79s/استعلام]"
     ]
    },
    {
     "name": "stdout",
     "output_type": "stream",
     "text": [
      "Total documents in doc_data: 522931\n",
      "Sample doc_ids: ['1', '2', '3', '4', '5']\n",
      "Top indices: [ 16191 449763 504645 522340 512899]\n",
      "Additional words from top 5 documents: major societal traditions spanish\n",
      "🔍 Enhanced Query: What are some cultural differences between Spain and Portugal? major societal traditions spanish\n"
     ]
    },
    {
     "name": "stderr",
     "output_type": "stream",
     "text": [
      "معالجة الاستعلامات:  35%|███▌      | 351/1000 [21:40<41:09,  3.80s/استعلام]"
     ]
    },
    {
     "name": "stdout",
     "output_type": "stream",
     "text": [
      "Total documents in doc_data: 522931\n",
      "Sample doc_ids: ['1', '2', '3', '4', '5']\n",
      "Top indices: [ 53042 223405 115690 115689 177349]\n",
      "Additional words from top 5 documents: rapists get rape view\n",
      "🔍 Enhanced Query: Should rapist be given death penalty? rapists get rape view\n"
     ]
    },
    {
     "name": "stderr",
     "output_type": "stream",
     "text": [
      "معالجة الاستعلامات:  35%|███▌      | 352/1000 [21:44<40:42,  3.77s/استعلام]"
     ]
    },
    {
     "name": "stdout",
     "output_type": "stream",
     "text": [
      "Total documents in doc_data: 522931\n",
      "Sample doc_ids: ['1', '2', '3', '4', '5']\n",
      "Top indices: [ 16391 322815 260812 333597 404577]\n",
      "Additional words from top 5 documents: make heat sweet corn\n",
      "🔍 Enhanced Query: How do popcorn kernels pop? make heat sweet corn\n"
     ]
    },
    {
     "name": "stderr",
     "output_type": "stream",
     "text": [
      "معالجة الاستعلامات:  35%|███▌      | 353/1000 [21:48<40:15,  3.73s/استعلام]"
     ]
    },
    {
     "name": "stdout",
     "output_type": "stream",
     "text": [
      "Total documents in doc_data: 522931\n",
      "Sample doc_ids: ['1', '2', '3', '4', '5']\n",
      "Top indices: [141078 188418 268361 327289 497254]\n",
      "Additional words from top 5 documents: find club newyork goa\n",
      "🔍 Enhanced Query: Where can I get best DJs for School Discos in Sydney? find club newyork goa\n"
     ]
    },
    {
     "name": "stderr",
     "output_type": "stream",
     "text": [
      "معالجة الاستعلامات:  35%|███▌      | 354/1000 [21:51<39:43,  3.69s/استعلام]"
     ]
    },
    {
     "name": "stdout",
     "output_type": "stream",
     "text": [
      "Total documents in doc_data: 522931\n",
      "Sample doc_ids: ['1', '2', '3', '4', '5']\n",
      "Top indices: [ 16732  81847 215707  22137 268967]\n",
      "Additional words from top 5 documents: upgrade\n",
      "🔍 Enhanced Query: Should I switch to iPhone 7 Plus from iPhone 6S Plus? upgrade\n"
     ]
    },
    {
     "name": "stderr",
     "output_type": "stream",
     "text": [
      "معالجة الاستعلامات:  36%|███▌      | 355/1000 [21:55<39:58,  3.72s/استعلام]"
     ]
    },
    {
     "name": "stdout",
     "output_type": "stream",
     "text": [
      "Total documents in doc_data: 522931\n",
      "Sample doc_ids: ['1', '2', '3', '4', '5']\n",
      "Top indices: [384007   1043 147716   1042  16752]\n",
      "Additional words from top 5 documents: windows work proper go\n",
      "🔍 Enhanced Query: Where can I find a legitimate Nintendo 3DS emulator? windows work proper go\n"
     ]
    },
    {
     "name": "stderr",
     "output_type": "stream",
     "text": [
      "معالجة الاستعلامات:  36%|███▌      | 356/1000 [21:59<40:16,  3.75s/استعلام]"
     ]
    },
    {
     "name": "stdout",
     "output_type": "stream",
     "text": [
      "Total documents in doc_data: 522931\n",
      "Sample doc_ids: ['1', '2', '3', '4', '5']\n",
      "Top indices: [304151 388462 511850  16766 211434]\n",
      "Additional words from top 5 documents: company employ analytics mean\n",
      "🔍 Enhanced Query: What is lean manufacturing? company employ analytics mean\n"
     ]
    },
    {
     "name": "stderr",
     "output_type": "stream",
     "text": [
      "معالجة الاستعلامات:  36%|███▌      | 357/1000 [22:03<40:26,  3.77s/استعلام]"
     ]
    },
    {
     "name": "stdout",
     "output_type": "stream",
     "text": [
      "Total documents in doc_data: 522931\n",
      "Sample doc_ids: ['1', '2', '3', '4', '5']\n",
      "Top indices: [275643  16823 180448  15594  15595]\n",
      "Additional words from top 5 documents: america havent round south\n",
      "🔍 Enhanced Query: What are the places yet to be discovered on Earth? america havent round south\n"
     ]
    },
    {
     "name": "stderr",
     "output_type": "stream",
     "text": [
      "معالجة الاستعلامات:  36%|███▌      | 358/1000 [22:07<40:19,  3.77s/استعلام]"
     ]
    },
    {
     "name": "stdout",
     "output_type": "stream",
     "text": [
      "Total documents in doc_data: 522931\n",
      "Sample doc_ids: ['1', '2', '3', '4', '5']\n",
      "Top indices: [430859 516703 180613 455164 216615]\n",
      "Additional words from top 5 documents: summarize conversation respond hmm\n",
      "🔍 Enhanced Query: What are the most amazing conversations with Google Assistant? summarize conversation respond hmm\n"
     ]
    },
    {
     "name": "stderr",
     "output_type": "stream",
     "text": [
      "معالجة الاستعلامات:  36%|███▌      | 359/1000 [22:10<39:39,  3.71s/استعلام]"
     ]
    },
    {
     "name": "stdout",
     "output_type": "stream",
     "text": [
      "Total documents in doc_data: 522931\n",
      "Sample doc_ids: ['1', '2', '3', '4', '5']\n",
      "Top indices: [102909  16952 341597 321510 138220]\n",
      "Additional words from top 5 documents: loneliness\n",
      "🔍 Enhanced Query: Why do Good People always suffer? loneliness\n"
     ]
    },
    {
     "name": "stderr",
     "output_type": "stream",
     "text": [
      "معالجة الاستعلامات:  36%|███▌      | 360/1000 [22:14<39:20,  3.69s/استعلام]"
     ]
    },
    {
     "name": "stdout",
     "output_type": "stream",
     "text": [
      "Total documents in doc_data: 522931\n",
      "Sample doc_ids: ['1', '2', '3', '4', '5']\n",
      "Top indices: [257138 361750 491593 192508 457111]\n",
      "Additional words from top 5 documents: instagram\n",
      "🔍 Enhanced Query: How would I know if a guy has a crush on me? instagram\n"
     ]
    },
    {
     "name": "stderr",
     "output_type": "stream",
     "text": [
      "معالجة الاستعلامات:  36%|███▌      | 361/1000 [22:18<39:57,  3.75s/استعلام]"
     ]
    },
    {
     "name": "stdout",
     "output_type": "stream",
     "text": [
      "Total documents in doc_data: 522931\n",
      "Sample doc_ids: ['1', '2', '3', '4', '5']\n",
      "Top indices: [131437 361609  17686 361610  17004]\n",
      "Additional words from top 5 documents: bullet thunderbird 350 silencers\n",
      "🔍 Enhanced Query: Which is best for a Royal Enfield Electra, a short bottle silencer with glass wool or without? What is glasswool? bullet thunderbird 350 silencers\n"
     ]
    },
    {
     "name": "stderr",
     "output_type": "stream",
     "text": [
      "معالجة الاستعلامات:  36%|███▌      | 362/1000 [22:21<39:54,  3.75s/استعلام]"
     ]
    },
    {
     "name": "stdout",
     "output_type": "stream",
     "text": [
      "Total documents in doc_data: 522931\n",
      "Sample doc_ids: ['1', '2', '3', '4', '5']\n",
      "Top indices: [ 17069  88103  48787 482221 153978]\n",
      "Additional words from top 5 documents: study make website like\n",
      "🔍 Enhanced Query: How can webstudy csr funding online? study make website like\n"
     ]
    },
    {
     "name": "stderr",
     "output_type": "stream",
     "text": [
      "معالجة الاستعلامات:  36%|███▋      | 363/1000 [22:25<39:17,  3.70s/استعلام]"
     ]
    },
    {
     "name": "stdout",
     "output_type": "stream",
     "text": [
      "Total documents in doc_data: 522931\n",
      "Sample doc_ids: ['1', '2', '3', '4', '5']\n",
      "Top indices: [114031  17129 354733 354734  30353]\n",
      "Additional words from top 5 documents: stories friend\n",
      "🔍 Enhanced Query: Which is the best short story on friendship? stories friend\n"
     ]
    },
    {
     "name": "stderr",
     "output_type": "stream",
     "text": [
      "معالجة الاستعلامات:  36%|███▋      | 364/1000 [22:29<38:50,  3.66s/استعلام]"
     ]
    },
    {
     "name": "stdout",
     "output_type": "stream",
     "text": [
      "Total documents in doc_data: 522931\n",
      "Sample doc_ids: ['1', '2', '3', '4', '5']\n",
      "Top indices: [ 62986 399061 264025 381689 330383]\n",
      "Additional words from top 5 documents: girlfriend girl\n",
      "🔍 Enhanced Query: What are the funniest and most creative ways to propose for marriage? girlfriend girl\n"
     ]
    },
    {
     "name": "stderr",
     "output_type": "stream",
     "text": [
      "معالجة الاستعلامات:  36%|███▋      | 365/1000 [22:32<38:52,  3.67s/استعلام]"
     ]
    },
    {
     "name": "stdout",
     "output_type": "stream",
     "text": [
      "Total documents in doc_data: 522931\n",
      "Sample doc_ids: ['1', '2', '3', '4', '5']\n",
      "Top indices: [ 33431 137183 466787 321493 353330]\n",
      "Additional words from top 5 documents: glock m1911 good gun\n",
      "🔍 Enhanced Query: What would be the best firearm and caliber for concealed carry? glock m1911 good gun\n"
     ]
    },
    {
     "name": "stderr",
     "output_type": "stream",
     "text": [
      "معالجة الاستعلامات:  37%|███▋      | 366/1000 [22:36<38:54,  3.68s/استعلام]"
     ]
    },
    {
     "name": "stdout",
     "output_type": "stream",
     "text": [
      "Total documents in doc_data: 522931\n",
      "Sample doc_ids: ['1', '2', '3', '4', '5']\n",
      "Top indices: [216615 184330 184331 393359  65905]\n",
      "Additional words from top 5 documents: voice\n",
      "🔍 Enhanced Query: Why do so many people ask questions on Quora that can be easily answered by any number of legitimate sources on the Web? Have they not heard of Google or Bing? voice\n"
     ]
    },
    {
     "name": "stderr",
     "output_type": "stream",
     "text": [
      "معالجة الاستعلامات:  37%|███▋      | 367/1000 [22:40<39:08,  3.71s/استعلام]"
     ]
    },
    {
     "name": "stdout",
     "output_type": "stream",
     "text": [
      "Total documents in doc_data: 522931\n",
      "Sample doc_ids: ['1', '2', '3', '4', '5']\n",
      "Top indices: [215123 395663 182046 164712 344685]\n",
      "Additional words from top 5 documents: cheap wait oneplus redmi\n",
      "🔍 Enhanced Query: Is Xiaomi Mi5 32 Gb worth buying ? cheap wait oneplus redmi\n"
     ]
    },
    {
     "name": "stderr",
     "output_type": "stream",
     "text": [
      "معالجة الاستعلامات:  37%|███▋      | 368/1000 [22:44<39:19,  3.73s/استعلام]"
     ]
    },
    {
     "name": "stdout",
     "output_type": "stream",
     "text": [
      "Total documents in doc_data: 522931\n",
      "Sample doc_ids: ['1', '2', '3', '4', '5']\n",
      "Top indices: [485802 291265  17287 225866  55638]\n",
      "Additional words from top 5 documents: simple life satisfaction ultimate\n",
      "🔍 Enhanced Query: What is one of life's simplest pleasures? simple life satisfaction ultimate\n"
     ]
    },
    {
     "name": "stderr",
     "output_type": "stream",
     "text": [
      "معالجة الاستعلامات:  37%|███▋      | 369/1000 [22:47<39:21,  3.74s/استعلام]"
     ]
    },
    {
     "name": "stdout",
     "output_type": "stream",
     "text": [
      "Total documents in doc_data: 522931\n",
      "Sample doc_ids: ['1', '2', '3', '4', '5']\n",
      "Top indices: [293891  40654 423679  86052  17336]\n",
      "Additional words from top 5 documents: might\n",
      "🔍 Enhanced Query: Could I still be pregnant? might\n"
     ]
    },
    {
     "name": "stderr",
     "output_type": "stream",
     "text": [
      "معالجة الاستعلامات:  37%|███▋      | 370/1000 [22:51<39:01,  3.72s/استعلام]"
     ]
    },
    {
     "name": "stdout",
     "output_type": "stream",
     "text": [
      "Total documents in doc_data: 522931\n",
      "Sample doc_ids: ['1', '2', '3', '4', '5']\n",
      "Top indices: [ 42950 108338 163351 119168 160509]\n",
      "Additional words from top 5 documents: pornstar best\n",
      "🔍 Enhanced Query: Who are the most beautiful porn stars? pornstar best\n"
     ]
    },
    {
     "name": "stderr",
     "output_type": "stream",
     "text": [
      "معالجة الاستعلامات:  37%|███▋      | 371/1000 [22:55<38:28,  3.67s/استعلام]"
     ]
    },
    {
     "name": "stdout",
     "output_type": "stream",
     "text": [
      "Total documents in doc_data: 522931\n",
      "Sample doc_ids: ['1', '2', '3', '4', '5']\n",
      "Top indices: [176906 176905 200144 192288 414489]\n",
      "Additional words from top 5 documents: friends friendlist\n",
      "🔍 Enhanced Query: How do I hide my friend list on Facebook? friends friendlist\n"
     ]
    },
    {
     "name": "stderr",
     "output_type": "stream",
     "text": [
      "معالجة الاستعلامات:  37%|███▋      | 372/1000 [22:58<37:59,  3.63s/استعلام]"
     ]
    },
    {
     "name": "stdout",
     "output_type": "stream",
     "text": [
      "Total documents in doc_data: 522931\n",
      "Sample doc_ids: ['1', '2', '3', '4', '5']\n",
      "Top indices: [415324 191552 174783 103246 479875]\n",
      "Additional words from top 5 documents: visit vacation country\n",
      "🔍 Enhanced Query: What are the best places to travel to in Europe? visit vacation country\n"
     ]
    },
    {
     "name": "stderr",
     "output_type": "stream",
     "text": [
      "معالجة الاستعلامات:  37%|███▋      | 373/1000 [23:02<38:04,  3.64s/استعلام]"
     ]
    },
    {
     "name": "stdout",
     "output_type": "stream",
     "text": [
      "Total documents in doc_data: 522931\n",
      "Sample doc_ids: ['1', '2', '3', '4', '5']\n",
      "Top indices: [476642 413673 438773 438772  17432]\n",
      "Additional words from top 5 documents: file complaint consumer forum\n",
      "🔍 Enhanced Query: Is there a website dedicated to customer complaints? file complaint consumer forum\n"
     ]
    },
    {
     "name": "stderr",
     "output_type": "stream",
     "text": [
      "معالجة الاستعلامات:  37%|███▋      | 374/1000 [23:05<38:15,  3.67s/استعلام]"
     ]
    },
    {
     "name": "stdout",
     "output_type": "stream",
     "text": [
      "Total documents in doc_data: 522931\n",
      "Sample doc_ids: ['1', '2', '3', '4', '5']\n",
      "Top indices: [454474 454475 254296 254297 450764]\n",
      "Additional words from top 5 documents: many canal form stop\n",
      "🔍 Enhanced Query: Why was Venice (Venizia) built on a swamp? many canal form stop\n"
     ]
    },
    {
     "name": "stderr",
     "output_type": "stream",
     "text": [
      "معالجة الاستعلامات:  38%|███▊      | 375/1000 [23:09<37:51,  3.63s/استعلام]"
     ]
    },
    {
     "name": "stdout",
     "output_type": "stream",
     "text": [
      "Total documents in doc_data: 522931\n",
      "Sample doc_ids: ['1', '2', '3', '4', '5']\n",
      "Top indices: [ 77336  77335  17585 361016 365025]\n",
      "Additional words from top 5 documents: hardwork really pay degree\n",
      "🔍 Enhanced Query: Which one is the best to choose: smart work or hard work? hardwork really pay degree\n"
     ]
    },
    {
     "name": "stderr",
     "output_type": "stream",
     "text": [
      "معالجة الاستعلامات:  38%|███▊      | 376/1000 [23:13<37:32,  3.61s/استعلام]"
     ]
    },
    {
     "name": "stdout",
     "output_type": "stream",
     "text": [
      "Total documents in doc_data: 522931\n",
      "Sample doc_ids: ['1', '2', '3', '4', '5']\n",
      "Top indices: [320345 408247   6379 264732 401259]\n",
      "Additional words from top 5 documents: \n",
      "No new words to add to query for beir\n"
     ]
    },
    {
     "name": "stderr",
     "output_type": "stream",
     "text": [
      "معالجة الاستعلامات:  38%|███▊      | 377/1000 [23:16<37:42,  3.63s/استعلام]"
     ]
    },
    {
     "name": "stdout",
     "output_type": "stream",
     "text": [
      "Total documents in doc_data: 522931\n",
      "Sample doc_ids: ['1', '2', '3', '4', '5']\n",
      "Top indices: [353716 353717  77162  17860 169940]\n",
      "Additional words from top 5 documents: facts\n",
      "🔍 Enhanced Query: What are some very interesting Wikipedia articles? facts\n"
     ]
    },
    {
     "name": "stderr",
     "output_type": "stream",
     "text": [
      "معالجة الاستعلامات:  38%|███▊      | 378/1000 [23:20<37:52,  3.65s/استعلام]"
     ]
    },
    {
     "name": "stdout",
     "output_type": "stream",
     "text": [
      "Total documents in doc_data: 522931\n",
      "Sample doc_ids: ['1', '2', '3', '4', '5']\n",
      "Top indices: [211003  55439  62129  62128 129727]\n",
      "Additional words from top 5 documents: sperm drink energy contain\n",
      "🔍 Enhanced Query: Is there bull sperms in red bull? sperm drink energy contain\n"
     ]
    },
    {
     "name": "stderr",
     "output_type": "stream",
     "text": [
      "معالجة الاستعلامات:  38%|███▊      | 379/1000 [23:24<37:37,  3.64s/استعلام]"
     ]
    },
    {
     "name": "stdout",
     "output_type": "stream",
     "text": [
      "Total documents in doc_data: 522931\n",
      "Sample doc_ids: ['1', '2', '3', '4', '5']\n",
      "Top indices: [ 57675  17417 188083  76819 465168]\n",
      "Additional words from top 5 documents: membranes purpose\n",
      "🔍 Enhanced Query: What's the function of cell membrane? membranes purpose\n"
     ]
    },
    {
     "name": "stderr",
     "output_type": "stream",
     "text": [
      "معالجة الاستعلامات:  38%|███▊      | 380/1000 [23:27<37:43,  3.65s/استعلام]"
     ]
    },
    {
     "name": "stdout",
     "output_type": "stream",
     "text": [
      "Total documents in doc_data: 522931\n",
      "Sample doc_ids: ['1', '2', '3', '4', '5']\n",
      "Top indices: [274311 303776 252113 373188 184131]\n",
      "Additional words from top 5 documents: account espings delete mute\n",
      "🔍 Enhanced Query: Will Quora Moderation explain why a particular user was banned? account espings delete mute\n"
     ]
    },
    {
     "name": "stderr",
     "output_type": "stream",
     "text": [
      "معالجة الاستعلامات:  38%|███▊      | 381/1000 [23:31<37:24,  3.63s/استعلام]"
     ]
    },
    {
     "name": "stdout",
     "output_type": "stream",
     "text": [
      "Total documents in doc_data: 522931\n",
      "Sample doc_ids: ['1', '2', '3', '4', '5']\n",
      "Top indices: [330345 330346 422645 299778 203663]\n",
      "Additional words from top 5 documents: get rid stretchmarks remove\n",
      "🔍 Enhanced Query: How can you make stretch marks go away? get rid stretchmarks remove\n"
     ]
    },
    {
     "name": "stderr",
     "output_type": "stream",
     "text": [
      "معالجة الاستعلامات:  38%|███▊      | 382/1000 [23:34<37:11,  3.61s/استعلام]"
     ]
    },
    {
     "name": "stdout",
     "output_type": "stream",
     "text": [
      "Total documents in doc_data: 522931\n",
      "Sample doc_ids: ['1', '2', '3', '4', '5']\n",
      "Top indices: [178789 136961 133877  17898 136962]\n",
      "Additional words from top 5 documents: far current native speaker\n",
      "🔍 Enhanced Query: If you traveled back in time, at what point would you no longer be able to understand English speakers? far current native speaker\n"
     ]
    },
    {
     "name": "stderr",
     "output_type": "stream",
     "text": [
      "معالجة الاستعلامات:  38%|███▊      | 383/1000 [23:38<37:16,  3.62s/استعلام]"
     ]
    },
    {
     "name": "stdout",
     "output_type": "stream",
     "text": [
      "Total documents in doc_data: 522931\n",
      "Sample doc_ids: ['1', '2', '3', '4', '5']\n",
      "Top indices: [ 17927 117222 231016  35446  41111]\n",
      "Additional words from top 5 documents: students education bad situation\n",
      "🔍 Enhanced Query: Impacts of poor study skills to studence performance? students education bad situation\n"
     ]
    },
    {
     "name": "stderr",
     "output_type": "stream",
     "text": [
      "معالجة الاستعلامات:  38%|███▊      | 384/1000 [23:42<37:07,  3.62s/استعلام]"
     ]
    },
    {
     "name": "stdout",
     "output_type": "stream",
     "text": [
      "Total documents in doc_data: 522931\n",
      "Sample doc_ids: ['1', '2', '3', '4', '5']\n",
      "Top indices: [144986 155658 222712  35530  17988]\n",
      "Additional words from top 5 documents: puppy safely work safe\n",
      "🔍 Enhanced Query: How do shock collars hurt dogs if not used properly? puppy safely work safe\n"
     ]
    },
    {
     "name": "stderr",
     "output_type": "stream",
     "text": [
      "معالجة الاستعلامات:  38%|███▊      | 385/1000 [23:45<37:11,  3.63s/استعلام]"
     ]
    },
    {
     "name": "stdout",
     "output_type": "stream",
     "text": [
      "Total documents in doc_data: 522931\n",
      "Sample doc_ids: ['1', '2', '3', '4', '5']\n",
      "Top indices: [346692 346691  85120  85119 112725]\n",
      "Additional words from top 5 documents: humans\n",
      "🔍 Enhanced Query: What is human body made up of? humans\n"
     ]
    },
    {
     "name": "stderr",
     "output_type": "stream",
     "text": [
      "معالجة الاستعلامات:  39%|███▊      | 386/1000 [23:49<36:57,  3.61s/استعلام]"
     ]
    },
    {
     "name": "stdout",
     "output_type": "stream",
     "text": [
      "Total documents in doc_data: 522931\n",
      "Sample doc_ids: ['1', '2', '3', '4', '5']\n",
      "Top indices: [223049 312344 223050  18168 242428]\n",
      "Additional words from top 5 documents: online site group website\n",
      "🔍 Enhanced Query: What are the best chatting websites? online site group website\n"
     ]
    },
    {
     "name": "stderr",
     "output_type": "stream",
     "text": [
      "معالجة الاستعلامات:  39%|███▊      | 387/1000 [23:53<37:29,  3.67s/استعلام]"
     ]
    },
    {
     "name": "stdout",
     "output_type": "stream",
     "text": [
      "Total documents in doc_data: 522931\n",
      "Sample doc_ids: ['1', '2', '3', '4', '5']\n",
      "Top indices: [201391  18262 201390 250715 259375]\n",
      "Additional words from top 5 documents: new york city skyscrapers\n",
      "🔍 Enhanced Query: How tall is the Empire State Building? new york city skyscrapers\n"
     ]
    },
    {
     "name": "stderr",
     "output_type": "stream",
     "text": [
      "معالجة الاستعلامات:  39%|███▉      | 388/1000 [23:56<37:16,  3.65s/استعلام]"
     ]
    },
    {
     "name": "stdout",
     "output_type": "stream",
     "text": [
      "Total documents in doc_data: 522931\n",
      "Sample doc_ids: ['1', '2', '3', '4', '5']\n",
      "Top indices: [145378 175707  94269 156738 338653]\n",
      "Additional words from top 5 documents: get show years old\n",
      "🔍 Enhanced Query: I’m 15. Is it too late to start gymnastics? get show years old\n"
     ]
    },
    {
     "name": "stderr",
     "output_type": "stream",
     "text": [
      "معالجة الاستعلامات:  39%|███▉      | 389/1000 [24:00<36:53,  3.62s/استعلام]"
     ]
    },
    {
     "name": "stdout",
     "output_type": "stream",
     "text": [
      "Total documents in doc_data: 522931\n",
      "Sample doc_ids: ['1', '2', '3', '4', '5']\n",
      "Top indices: [175707  94269 472075 158911 326106]\n",
      "Additional words from top 5 documents: get show self learn\n",
      "🔍 Enhanced Query: How do I start gymnastics? get show self learn\n"
     ]
    },
    {
     "name": "stderr",
     "output_type": "stream",
     "text": [
      "معالجة الاستعلامات:  39%|███▉      | 390/1000 [24:03<36:38,  3.60s/استعلام]"
     ]
    },
    {
     "name": "stdout",
     "output_type": "stream",
     "text": [
      "Total documents in doc_data: 522931\n",
      "Sample doc_ids: ['1', '2', '3', '4', '5']\n",
      "Top indices: [333883  18443 140913  25782 200031]\n",
      "Additional words from top 5 documents: american think witten christian\n",
      "🔍 Enhanced Query: Why is Richard Muller so famous? american think witten christian\n"
     ]
    },
    {
     "name": "stderr",
     "output_type": "stream",
     "text": [
      "معالجة الاستعلامات:  39%|███▉      | 391/1000 [24:07<36:49,  3.63s/استعلام]"
     ]
    },
    {
     "name": "stdout",
     "output_type": "stream",
     "text": [
      "Total documents in doc_data: 522931\n",
      "Sample doc_ids: ['1', '2', '3', '4', '5']\n",
      "Top indices: [409736 252912 143079 119605 122676]\n",
      "Additional words from top 5 documents: practice pronunciation language\n",
      "🔍 Enhanced Query: How do I improve on my public speaking skills? practice pronunciation language\n"
     ]
    },
    {
     "name": "stderr",
     "output_type": "stream",
     "text": [
      "معالجة الاستعلامات:  39%|███▉      | 392/1000 [24:11<36:29,  3.60s/استعلام]"
     ]
    },
    {
     "name": "stdout",
     "output_type": "stream",
     "text": [
      "Total documents in doc_data: 522931\n",
      "Sample doc_ids: ['1', '2', '3', '4', '5']\n",
      "Top indices: [ 18694  57351 460544 172678 337802]\n",
      "Additional words from top 5 documents: true enfields handpainted oil\n",
      "🔍 Enhanced Query: Are Royal Enfield Tanks hand painted? true enfields handpainted oil\n"
     ]
    },
    {
     "name": "stderr",
     "output_type": "stream",
     "text": [
      "معالجة الاستعلامات:  39%|███▉      | 393/1000 [24:14<36:36,  3.62s/استعلام]"
     ]
    },
    {
     "name": "stdout",
     "output_type": "stream",
     "text": [
      "Total documents in doc_data: 522931\n",
      "Sample doc_ids: ['1', '2', '3', '4', '5']\n",
      "Top indices: [394943  18713 143082 199970 401767]\n",
      "Additional words from top 5 documents: calculate subtract percent pecentile\n",
      "🔍 Enhanced Query: What is the difference between a basis point and a pip (percentage in point)? calculate subtract percent pecentile\n"
     ]
    },
    {
     "name": "stderr",
     "output_type": "stream",
     "text": [
      "معالجة الاستعلامات:  39%|███▉      | 394/1000 [24:18<36:37,  3.63s/استعلام]"
     ]
    },
    {
     "name": "stdout",
     "output_type": "stream",
     "text": [
      "Total documents in doc_data: 522931\n",
      "Sample doc_ids: ['1', '2', '3', '4', '5']\n",
      "Top indices: [403341 516284 403342 393662   6972]\n",
      "Additional words from top 5 documents: narendra rhetorical infront modi\n",
      "🔍 Enhanced Query: Who writes Modi's speeches? narendra rhetorical infront modi\n"
     ]
    },
    {
     "name": "stderr",
     "output_type": "stream",
     "text": [
      "معالجة الاستعلامات:  40%|███▉      | 395/1000 [24:22<36:27,  3.62s/استعلام]"
     ]
    },
    {
     "name": "stdout",
     "output_type": "stream",
     "text": [
      "Total documents in doc_data: 522931\n",
      "Sample doc_ids: ['1', '2', '3', '4', '5']\n",
      "Top indices: [222520 260070  18764 222521 299516]\n",
      "Additional words from top 5 documents: online difficult french\n",
      "🔍 Enhanced Query: Which language should I learn by myself first: Russian or Spanish? online difficult french\n"
     ]
    },
    {
     "name": "stderr",
     "output_type": "stream",
     "text": [
      "معالجة الاستعلامات:  40%|███▉      | 396/1000 [24:25<36:36,  3.64s/استعلام]"
     ]
    },
    {
     "name": "stdout",
     "output_type": "stream",
     "text": [
      "Total documents in doc_data: 522931\n",
      "Sample doc_ids: ['1', '2', '3', '4', '5']\n",
      "Top indices: [401784 290334 290333 401731 196563]\n",
      "Additional words from top 5 documents: differ\n",
      "🔍 Enhanced Query: What is the difference between an ideal gas and a real gas? differ\n"
     ]
    },
    {
     "name": "stderr",
     "output_type": "stream",
     "text": [
      "معالجة الاستعلامات:  40%|███▉      | 397/1000 [24:29<36:32,  3.64s/استعلام]"
     ]
    },
    {
     "name": "stdout",
     "output_type": "stream",
     "text": [
      "Total documents in doc_data: 522931\n",
      "Sample doc_ids: ['1', '2', '3', '4', '5']\n",
      "Top indices: [ 18788 123554  71277  18757 478853]\n",
      "Additional words from top 5 documents: whats hard learn harp\n",
      "🔍 Enhanced Query: What is the hardest musical instrument to play? whats hard learn harp\n"
     ]
    },
    {
     "name": "stderr",
     "output_type": "stream",
     "text": [
      "معالجة الاستعلامات:  40%|███▉      | 398/1000 [24:33<36:43,  3.66s/استعلام]"
     ]
    },
    {
     "name": "stdout",
     "output_type": "stream",
     "text": [
      "Total documents in doc_data: 522931\n",
      "Sample doc_ids: ['1', '2', '3', '4', '5']\n",
      "Top indices: [150780 384390 106455 202468  85438]\n",
      "Additional words from top 5 documents: smokers often get headaches\n",
      "🔍 Enhanced Query: I am an undergraduate. All my friends smoke, but I don't. Am I missing something? smokers often get headaches\n"
     ]
    },
    {
     "name": "stderr",
     "output_type": "stream",
     "text": [
      "معالجة الاستعلامات:  40%|███▉      | 399/1000 [24:36<36:38,  3.66s/استعلام]"
     ]
    },
    {
     "name": "stdout",
     "output_type": "stream",
     "text": [
      "Total documents in doc_data: 522931\n",
      "Sample doc_ids: ['1', '2', '3', '4', '5']\n",
      "Top indices: [ 18908 181207 181208  98310 361851]\n",
      "Additional words from top 5 documents: ways forest conserve\n",
      "🔍 Enhanced Query: How do I preserve driftwood? ways forest conserve\n"
     ]
    },
    {
     "name": "stderr",
     "output_type": "stream",
     "text": [
      "معالجة الاستعلامات:  40%|████      | 400/1000 [24:40<36:20,  3.63s/استعلام]"
     ]
    },
    {
     "name": "stdout",
     "output_type": "stream",
     "text": [
      "Total documents in doc_data: 522931\n",
      "Sample doc_ids: ['1', '2', '3', '4', '5']\n",
      "Top indices: [106971 340081  72644 370461 359219]\n",
      "Additional words from top 5 documents: curriculum igcse btech mtech\n",
      "🔍 Enhanced Query: What is the difference between IT and COE courses at NSIT or DTU? curriculum igcse btech mtech\n"
     ]
    },
    {
     "name": "stderr",
     "output_type": "stream",
     "text": [
      "معالجة الاستعلامات:  40%|████      | 401/1000 [24:43<36:24,  3.65s/استعلام]"
     ]
    },
    {
     "name": "stdout",
     "output_type": "stream",
     "text": [
      "Total documents in doc_data: 522931\n",
      "Sample doc_ids: ['1', '2', '3', '4', '5']\n",
      "Top indices: [408189 395212 395211  19165 511828]\n",
      "Additional words from top 5 documents: popular develop empire people\n",
      "🔍 Enhanced Query: Why the greatest empires in Indian history are centered around Bihar? popular develop empire people\n"
     ]
    },
    {
     "name": "stderr",
     "output_type": "stream",
     "text": [
      "معالجة الاستعلامات:  40%|████      | 402/1000 [24:47<36:02,  3.62s/استعلام]"
     ]
    },
    {
     "name": "stdout",
     "output_type": "stream",
     "text": [
      "Total documents in doc_data: 522931\n",
      "Sample doc_ids: ['1', '2', '3', '4', '5']\n",
      "Top indices: [279437 376322 353773 233507 479277]\n",
      "Additional words from top 5 documents: difference scientist big process\n",
      "🔍 Enhanced Query: What are the differences between data analytics and data science? difference scientist big process\n"
     ]
    },
    {
     "name": "stderr",
     "output_type": "stream",
     "text": [
      "معالجة الاستعلامات:  40%|████      | 403/1000 [24:51<36:10,  3.64s/استعلام]"
     ]
    },
    {
     "name": "stdout",
     "output_type": "stream",
     "text": [
      "Total documents in doc_data: 522931\n",
      "Sample doc_ids: ['1', '2', '3', '4', '5']\n",
      "Top indices: [327436 513636 471233  58835 275034]\n",
      "Additional words from top 5 documents: india ereading buy 15000\n",
      "🔍 Enhanced Query: Which is the best kids tablet available in the Indian market? india ereading buy 15000\n"
     ]
    },
    {
     "name": "stderr",
     "output_type": "stream",
     "text": [
      "معالجة الاستعلامات:  40%|████      | 404/1000 [24:54<36:16,  3.65s/استعلام]"
     ]
    },
    {
     "name": "stdout",
     "output_type": "stream",
     "text": [
      "Total documents in doc_data: 522931\n",
      "Sample doc_ids: ['1', '2', '3', '4', '5']\n",
      "Top indices: [ 19261 272257 505135  96053 304336]\n",
      "Additional words from top 5 documents: coconut vinegar cayenne pepper\n",
      "🔍 Enhanced Query: What can be used as a substitute for cumin? coconut vinegar cayenne pepper\n"
     ]
    },
    {
     "name": "stderr",
     "output_type": "stream",
     "text": [
      "معالجة الاستعلامات:  40%|████      | 405/1000 [24:58<36:55,  3.72s/استعلام]"
     ]
    },
    {
     "name": "stdout",
     "output_type": "stream",
     "text": [
      "Total documents in doc_data: 522931\n",
      "Sample doc_ids: ['1', '2', '3', '4', '5']\n",
      "Top indices: [ 19277  51019  42287 461279 170912]\n",
      "Additional words from top 5 documents: benson cfbc supercritical\n",
      "🔍 Enhanced Query: What is a boiler? benson cfbc supercritical\n"
     ]
    },
    {
     "name": "stderr",
     "output_type": "stream",
     "text": [
      "معالجة الاستعلامات:  41%|████      | 406/1000 [25:02<36:27,  3.68s/استعلام]"
     ]
    },
    {
     "name": "stdout",
     "output_type": "stream",
     "text": [
      "Total documents in doc_data: 522931\n",
      "Sample doc_ids: ['1', '2', '3', '4', '5']\n",
      "Top indices: [141095  80775 414758 204854 141094]\n",
      "Additional words from top 5 documents: internships\n",
      "🔍 Enhanced Query: What is an internship and the types of internship? internships\n"
     ]
    },
    {
     "name": "stderr",
     "output_type": "stream",
     "text": [
      "معالجة الاستعلامات:  41%|████      | 407/1000 [25:06<36:26,  3.69s/استعلام]"
     ]
    },
    {
     "name": "stdout",
     "output_type": "stream",
     "text": [
      "Total documents in doc_data: 522931\n",
      "Sample doc_ids: ['1', '2', '3', '4', '5']\n",
      "Top indices: [ 19403   2045 117560 294507 131903]\n",
      "Additional words from top 5 documents: blackhat whitehat tool consider\n",
      "🔍 Enhanced Query: What are the Black Hat SEO techniques? blackhat whitehat tool consider\n"
     ]
    },
    {
     "name": "stderr",
     "output_type": "stream",
     "text": [
      "معالجة الاستعلامات:  41%|████      | 408/1000 [25:09<36:21,  3.68s/استعلام]"
     ]
    },
    {
     "name": "stdout",
     "output_type": "stream",
     "text": [
      "Total documents in doc_data: 522931\n",
      "Sample doc_ids: ['1', '2', '3', '4', '5']\n",
      "Top indices: [187425  19452 349505 272825 136472]\n",
      "Additional words from top 5 documents: citizens india constitution reservation\n",
      "🔍 Enhanced Query: What are the fundamental rights and duties of an Indian citizen? citizens india constitution reservation\n"
     ]
    },
    {
     "name": "stderr",
     "output_type": "stream",
     "text": [
      "معالجة الاستعلامات:  41%|████      | 409/1000 [25:13<36:06,  3.67s/استعلام]"
     ]
    },
    {
     "name": "stdout",
     "output_type": "stream",
     "text": [
      "Total documents in doc_data: 522931\n",
      "Sample doc_ids: ['1', '2', '3', '4', '5']\n",
      "Top indices: [236021 236022 436562 436561  16639]\n",
      "Additional words from top 5 documents: tonight guy ask girl\n",
      "🔍 Enhanced Query: Who pays for dinner on a date? tonight guy ask girl\n"
     ]
    },
    {
     "name": "stderr",
     "output_type": "stream",
     "text": [
      "معالجة الاستعلامات:  41%|████      | 410/1000 [25:17<35:57,  3.66s/استعلام]"
     ]
    },
    {
     "name": "stdout",
     "output_type": "stream",
     "text": [
      "Total documents in doc_data: 522931\n",
      "Sample doc_ids: ['1', '2', '3', '4', '5']\n",
      "Top indices: [436895 298524 198277 191138 191139]\n",
      "Additional words from top 5 documents: differences difference\n",
      "🔍 Enhanced Query: What is the historical reason the British navy, air force and marines \"Royal,\" but not the army? When did the navy become \"royal\" or the army stop? differences difference\n"
     ]
    },
    {
     "name": "stderr",
     "output_type": "stream",
     "text": [
      "معالجة الاستعلامات:  41%|████      | 411/1000 [25:20<35:36,  3.63s/استعلام]"
     ]
    },
    {
     "name": "stdout",
     "output_type": "stream",
     "text": [
      "Total documents in doc_data: 522931\n",
      "Sample doc_ids: ['1', '2', '3', '4', '5']\n",
      "Top indices: [  6468 437167  12602 308245 350380]\n",
      "Additional words from top 5 documents: students learn\n",
      "🔍 Enhanced Query: What can you teach me? students learn\n"
     ]
    },
    {
     "name": "stderr",
     "output_type": "stream",
     "text": [
      "معالجة الاستعلامات:  41%|████      | 412/1000 [25:24<35:57,  3.67s/استعلام]"
     ]
    },
    {
     "name": "stdout",
     "output_type": "stream",
     "text": [
      "Total documents in doc_data: 522931\n",
      "Sample doc_ids: ['1', '2', '3', '4', '5']\n",
      "Top indices: [389844 362075 212604   7667 389845]\n",
      "Additional words from top 5 documents: social perceptiveness correlation intelligence\n",
      "🔍 Enhanced Query: What are some examples of common sense or presence of mind? social perceptiveness correlation intelligence\n"
     ]
    },
    {
     "name": "stderr",
     "output_type": "stream",
     "text": [
      "معالجة الاستعلامات:  41%|████▏     | 413/1000 [25:27<35:38,  3.64s/استعلام]"
     ]
    },
    {
     "name": "stdout",
     "output_type": "stream",
     "text": [
      "Total documents in doc_data: 522931\n",
      "Sample doc_ids: ['1', '2', '3', '4', '5']\n",
      "Top indices: [258410  19844 474985 439400 473637]\n",
      "Additional words from top 5 documents: profession passionate entrepreneurial balance\n",
      "🔍 Enhanced Query: How can I find my passion career? profession passionate entrepreneurial balance\n"
     ]
    },
    {
     "name": "stderr",
     "output_type": "stream",
     "text": [
      "معالجة الاستعلامات:  41%|████▏     | 414/1000 [25:31<35:34,  3.64s/استعلام]"
     ]
    },
    {
     "name": "stdout",
     "output_type": "stream",
     "text": [
      "Total documents in doc_data: 522931\n",
      "Sample doc_ids: ['1', '2', '3', '4', '5']\n",
      "Top indices: [ 30853 419516 186890 316149  92026]\n",
      "Additional words from top 5 documents: router tech 8002514919 18002514919\n",
      "🔍 Enhanced Query: What is the technical support phone number for Linksys routers? router tech 8002514919 18002514919\n"
     ]
    },
    {
     "name": "stderr",
     "output_type": "stream",
     "text": [
      "معالجة الاستعلامات:  42%|████▏     | 415/1000 [25:35<35:23,  3.63s/استعلام]"
     ]
    },
    {
     "name": "stdout",
     "output_type": "stream",
     "text": [
      "Total documents in doc_data: 522931\n",
      "Sample doc_ids: ['1', '2', '3', '4', '5']\n",
      "Top indices: [ 19893 517433 409618 101939 351481]\n",
      "Additional words from top 5 documents: true jewish pentachromat paintings\n",
      "🔍 Enhanced Query: Was Leonardo da Vinci a German? true jewish pentachromat paintings\n"
     ]
    },
    {
     "name": "stderr",
     "output_type": "stream",
     "text": [
      "معالجة الاستعلامات:  42%|████▏     | 416/1000 [25:38<35:29,  3.65s/استعلام]"
     ]
    },
    {
     "name": "stdout",
     "output_type": "stream",
     "text": [
      "Total documents in doc_data: 522931\n",
      "Sample doc_ids: ['1', '2', '3', '4', '5']\n",
      "Top indices: [138502 477682 490210 123486 126125]\n",
      "Additional words from top 5 documents: demonetization impact business india\n",
      "🔍 Enhanced Query: How GST will affect Indian economy after it is enacted? demonetization impact business india\n"
     ]
    },
    {
     "name": "stderr",
     "output_type": "stream",
     "text": [
      "معالجة الاستعلامات:  42%|████▏     | 417/1000 [25:42<35:17,  3.63s/استعلام]"
     ]
    },
    {
     "name": "stdout",
     "output_type": "stream",
     "text": [
      "Total documents in doc_data: 522931\n",
      "Sample doc_ids: ['1', '2', '3', '4', '5']\n",
      "Top indices: [278017  19934 302188 278018 154832]\n",
      "Additional words from top 5 documents: best firewalls protect\n",
      "🔍 Enhanced Query: Why does a computer need Windows Firewall? best firewalls protect\n"
     ]
    },
    {
     "name": "stderr",
     "output_type": "stream",
     "text": [
      "معالجة الاستعلامات:  42%|████▏     | 418/1000 [25:46<35:23,  3.65s/استعلام]"
     ]
    },
    {
     "name": "stdout",
     "output_type": "stream",
     "text": [
      "Total documents in doc_data: 522931\n",
      "Sample doc_ids: ['1', '2', '3', '4', '5']\n",
      "Top indices: [ 90424 353139 396634  19957 306073]\n",
      "Additional words from top 5 documents: 246898100 234100 246582 infinity\n",
      "🔍 Enhanced Query: How can the sum of all natural numbers be -1/12? 246898100 234100 246582 infinity\n"
     ]
    },
    {
     "name": "stderr",
     "output_type": "stream",
     "text": [
      "معالجة الاستعلامات:  42%|████▏     | 419/1000 [25:49<35:36,  3.68s/استعلام]"
     ]
    },
    {
     "name": "stdout",
     "output_type": "stream",
     "text": [
      "Total documents in doc_data: 522931\n",
      "Sample doc_ids: ['1', '2', '3', '4', '5']\n",
      "Top indices: [170524  19989 170967 170966 271521]\n",
      "Additional words from top 5 documents: locate\n",
      "🔍 Enhanced Query: What are peripheral pulses and how do they work? locate\n"
     ]
    },
    {
     "name": "stderr",
     "output_type": "stream",
     "text": [
      "معالجة الاستعلامات:  42%|████▏     | 420/1000 [25:53<35:20,  3.66s/استعلام]"
     ]
    },
    {
     "name": "stdout",
     "output_type": "stream",
     "text": [
      "Total documents in doc_data: 522931\n",
      "Sample doc_ids: ['1', '2', '3', '4', '5']\n",
      "Top indices: [472717 484931  62707 189368  62708]\n",
      "Additional words from top 5 documents: college textbooks book\n",
      "🔍 Enhanced Query: What is the best high school physics textbook? college textbooks book\n"
     ]
    },
    {
     "name": "stderr",
     "output_type": "stream",
     "text": [
      "معالجة الاستعلامات:  42%|████▏     | 421/1000 [25:57<35:37,  3.69s/استعلام]"
     ]
    },
    {
     "name": "stdout",
     "output_type": "stream",
     "text": [
      "Total documents in doc_data: 522931\n",
      "Sample doc_ids: ['1', '2', '3', '4', '5']\n",
      "Top indices: [395252 446398 330115 499014  20032]\n",
      "Additional words from top 5 documents: inner planets rocky large\n",
      "🔍 Enhanced Query: What will happen to the outer gas giants when our sun is in its red giant phase? inner planets rocky large\n"
     ]
    },
    {
     "name": "stderr",
     "output_type": "stream",
     "text": [
      "معالجة الاستعلامات:  42%|████▏     | 422/1000 [26:01<35:46,  3.71s/استعلام]"
     ]
    },
    {
     "name": "stdout",
     "output_type": "stream",
     "text": [
      "Total documents in doc_data: 522931\n",
      "Sample doc_ids: ['1', '2', '3', '4', '5']\n",
      "Top indices: [ 20038 370695 155238 155237  86598]\n",
      "Additional words from top 5 documents: speakers inspirational videos speeches\n",
      "🔍 Enhanced Query: How do I become motivational speaker? speakers inspirational videos speeches\n"
     ]
    },
    {
     "name": "stderr",
     "output_type": "stream",
     "text": [
      "معالجة الاستعلامات:  42%|████▏     | 423/1000 [26:04<35:50,  3.73s/استعلام]"
     ]
    },
    {
     "name": "stdout",
     "output_type": "stream",
     "text": [
      "Total documents in doc_data: 522931\n",
      "Sample doc_ids: ['1', '2', '3', '4', '5']\n",
      "Top indices: [455884 335859 444166  69273 226838]\n",
      "Additional words from top 5 documents: people animals pleasure chimpanzees\n",
      "🔍 Enhanced Query: Other than humans, is there any other animal or plant species that kills or hunts for the fun of it? people animals pleasure chimpanzees\n"
     ]
    },
    {
     "name": "stderr",
     "output_type": "stream",
     "text": [
      "معالجة الاستعلامات:  42%|████▏     | 424/1000 [26:08<35:23,  3.69s/استعلام]"
     ]
    },
    {
     "name": "stdout",
     "output_type": "stream",
     "text": [
      "Total documents in doc_data: 522931\n",
      "Sample doc_ids: ['1', '2', '3', '4', '5']\n",
      "Top indices: [338331   3909 221581 221580  20607]\n",
      "Additional words from top 5 documents: \n",
      "No new words to add to query for beir\n"
     ]
    },
    {
     "name": "stderr",
     "output_type": "stream",
     "text": [
      "معالجة الاستعلامات:  42%|████▎     | 425/1000 [26:12<35:14,  3.68s/استعلام]"
     ]
    },
    {
     "name": "stdout",
     "output_type": "stream",
     "text": [
      "Total documents in doc_data: 522931\n",
      "Sample doc_ids: ['1', '2', '3', '4', '5']\n",
      "Top indices: [ 18056 334103 166060  53825 415966]\n",
      "Additional words from top 5 documents: comparison yx2 histogram bar\n",
      "🔍 Enhanced Query: What is the difference between graphs and charts? comparison yx2 histogram bar\n"
     ]
    },
    {
     "name": "stderr",
     "output_type": "stream",
     "text": [
      "معالجة الاستعلامات:  43%|████▎     | 426/1000 [26:15<35:09,  3.67s/استعلام]"
     ]
    },
    {
     "name": "stdout",
     "output_type": "stream",
     "text": [
      "Total documents in doc_data: 522931\n",
      "Sample doc_ids: ['1', '2', '3', '4', '5']\n",
      "Top indices: [ 20250 436244 220260 351186 179181]\n",
      "Additional words from top 5 documents: protein synthesis whey function\n",
      "🔍 Enhanced Query: How are proteins produced? protein synthesis whey function\n"
     ]
    },
    {
     "name": "stderr",
     "output_type": "stream",
     "text": [
      "معالجة الاستعلامات:  43%|████▎     | 427/1000 [26:19<35:11,  3.68s/استعلام]"
     ]
    },
    {
     "name": "stdout",
     "output_type": "stream",
     "text": [
      "Total documents in doc_data: 522931\n",
      "Sample doc_ids: ['1', '2', '3', '4', '5']\n",
      "Top indices: [506542 409284 473060 205641 502748]\n",
      "Additional words from top 5 documents: delhiites regret vote kejriwal\n",
      "🔍 Enhanced Query: How did Duryodhan react when he came to know that Karna was Pandava's brother? delhiites regret vote kejriwal\n"
     ]
    },
    {
     "name": "stderr",
     "output_type": "stream",
     "text": [
      "معالجة الاستعلامات:  43%|████▎     | 428/1000 [26:23<36:11,  3.80s/استعلام]"
     ]
    },
    {
     "name": "stdout",
     "output_type": "stream",
     "text": [
      "Total documents in doc_data: 522931\n",
      "Sample doc_ids: ['1', '2', '3', '4', '5']\n",
      "Top indices: [184407 382331 216267 224862 216266]\n",
      "Additional words from top 5 documents: quorans unpopular quoran\n",
      "🔍 Enhanced Query: What are the most popular Q&A on Quora? quorans unpopular quoran\n"
     ]
    },
    {
     "name": "stderr",
     "output_type": "stream",
     "text": [
      "معالجة الاستعلامات:  43%|████▎     | 429/1000 [26:27<35:59,  3.78s/استعلام]"
     ]
    },
    {
     "name": "stdout",
     "output_type": "stream",
     "text": [
      "Total documents in doc_data: 522931\n",
      "Sample doc_ids: ['1', '2', '3', '4', '5']\n",
      "Top indices: [337827 112981 466288 113158 506142]\n",
      "Additional words from top 5 documents: guy materialistic prissy mean\n",
      "🔍 Enhanced Query: What's classy if you’re rich, but trashy if you're poor? guy materialistic prissy mean\n"
     ]
    },
    {
     "name": "stderr",
     "output_type": "stream",
     "text": [
      "معالجة الاستعلامات:  43%|████▎     | 430/1000 [26:30<35:44,  3.76s/استعلام]"
     ]
    },
    {
     "name": "stdout",
     "output_type": "stream",
     "text": [
      "Total documents in doc_data: 522931\n",
      "Sample doc_ids: ['1', '2', '3', '4', '5']\n",
      "Top indices: [ 20463 123420 123419 423896   2044]\n",
      "Additional words from top 5 documents: hacker people seo\n",
      "🔍 Enhanced Query: What is the difference between white hat ASO and black hat ASO? hacker people seo\n"
     ]
    },
    {
     "name": "stderr",
     "output_type": "stream",
     "text": [
      "معالجة الاستعلامات:  43%|████▎     | 431/1000 [26:34<35:32,  3.75s/استعلام]"
     ]
    },
    {
     "name": "stdout",
     "output_type": "stream",
     "text": [
      "Total documents in doc_data: 522931\n",
      "Sample doc_ids: ['1', '2', '3', '4', '5']\n",
      "Top indices: [278826  88246 447281 341464  20765]\n",
      "Additional words from top 5 documents: better bose soundtrue audiotechnica\n",
      "🔍 Enhanced Query: What is the best amplifier for a home theater? better bose soundtrue audiotechnica\n"
     ]
    },
    {
     "name": "stderr",
     "output_type": "stream",
     "text": [
      "معالجة الاستعلامات:  43%|████▎     | 432/1000 [26:38<35:11,  3.72s/استعلام]"
     ]
    },
    {
     "name": "stdout",
     "output_type": "stream",
     "text": [
      "Total documents in doc_data: 522931\n",
      "Sample doc_ids: ['1', '2', '3', '4', '5']\n",
      "Top indices: [436813  10598  10597    737 459014]\n",
      "Additional words from top 5 documents: friend bestfriend texts\n",
      "🔍 Enhanced Query: Why do my friends ignore me? friend bestfriend texts\n"
     ]
    },
    {
     "name": "stderr",
     "output_type": "stream",
     "text": [
      "معالجة الاستعلامات:  43%|████▎     | 433/1000 [26:41<34:46,  3.68s/استعلام]"
     ]
    },
    {
     "name": "stdout",
     "output_type": "stream",
     "text": [
      "Total documents in doc_data: 522931\n",
      "Sample doc_ids: ['1', '2', '3', '4', '5']\n",
      "Top indices: [456298  50430 362896 517217 196129]\n",
      "Additional words from top 5 documents: verbally mother handle father\n",
      "🔍 Enhanced Query: How do I deal with emotionally abusive parents? verbally mother handle father\n"
     ]
    },
    {
     "name": "stderr",
     "output_type": "stream",
     "text": [
      "معالجة الاستعلامات:  43%|████▎     | 434/1000 [26:45<34:43,  3.68s/استعلام]"
     ]
    },
    {
     "name": "stdout",
     "output_type": "stream",
     "text": [
      "Total documents in doc_data: 522931\n",
      "Sample doc_ids: ['1', '2', '3', '4', '5']\n",
      "Top indices: [378440 469344 215820 179239 220340]\n",
      "Additional words from top 5 documents: bill celebrities lie sometimes\n",
      "🔍 Enhanced Query: How is Hillary Clinton in real life? bill celebrities lie sometimes\n"
     ]
    },
    {
     "name": "stderr",
     "output_type": "stream",
     "text": [
      "معالجة الاستعلامات:  44%|████▎     | 435/1000 [26:49<34:54,  3.71s/استعلام]"
     ]
    },
    {
     "name": "stdout",
     "output_type": "stream",
     "text": [
      "Total documents in doc_data: 522931\n",
      "Sample doc_ids: ['1', '2', '3', '4', '5']\n",
      "Top indices: [218382 401144 401143 202071 498507]\n",
      "Additional words from top 5 documents: whats scope business available\n",
      "🔍 Enhanced Query: What information (vaguely described of course) have you kept from your partner? whats scope business available\n"
     ]
    },
    {
     "name": "stderr",
     "output_type": "stream",
     "text": [
      "معالجة الاستعلامات:  44%|████▎     | 436/1000 [26:53<35:13,  3.75s/استعلام]"
     ]
    },
    {
     "name": "stdout",
     "output_type": "stream",
     "text": [
      "Total documents in doc_data: 522931\n",
      "Sample doc_ids: ['1', '2', '3', '4', '5']\n",
      "Top indices: [ 21098 364632 136773 422310 136772]\n",
      "Additional words from top 5 documents: import eclipse project without\n",
      "🔍 Enhanced Query: How do I copy NetBeans' software from one system to another including the icon? import eclipse project without\n"
     ]
    },
    {
     "name": "stderr",
     "output_type": "stream",
     "text": [
      "معالجة الاستعلامات:  44%|████▎     | 437/1000 [26:56<34:39,  3.69s/استعلام]"
     ]
    },
    {
     "name": "stdout",
     "output_type": "stream",
     "text": [
      "Total documents in doc_data: 522931\n",
      "Sample doc_ids: ['1', '2', '3', '4', '5']\n",
      "Top indices: [105102 306664 105810  88720  48770]\n",
      "Additional words from top 5 documents: something\n",
      "🔍 Enhanced Query: What is that one thing you regret buying? something\n"
     ]
    },
    {
     "name": "stderr",
     "output_type": "stream",
     "text": [
      "معالجة الاستعلامات:  44%|████▍     | 438/1000 [27:00<34:12,  3.65s/استعلام]"
     ]
    },
    {
     "name": "stdout",
     "output_type": "stream",
     "text": [
      "Total documents in doc_data: 522931\n",
      "Sample doc_ids: ['1', '2', '3', '4', '5']\n",
      "Top indices: [ 21172 519897 496652 436783 519933]\n",
      "Additional words from top 5 documents: option major fell\n",
      "🔍 Enhanced Query: How do I pick my self back up after failure? option major fell\n"
     ]
    },
    {
     "name": "stderr",
     "output_type": "stream",
     "text": [
      "معالجة الاستعلامات:  44%|████▍     | 439/1000 [27:04<34:29,  3.69s/استعلام]"
     ]
    },
    {
     "name": "stdout",
     "output_type": "stream",
     "text": [
      "Total documents in doc_data: 522931\n",
      "Sample doc_ids: ['1', '2', '3', '4', '5']\n",
      "Top indices: [ 21287 344305 452425 452424 440081]\n",
      "Additional words from top 5 documents: institute gateies ece stream\n",
      "🔍 Enhanced Query: What are some best online coachings for SSC CGL? institute gateies ece stream\n"
     ]
    },
    {
     "name": "stderr",
     "output_type": "stream",
     "text": [
      "معالجة الاستعلامات:  44%|████▍     | 440/1000 [27:07<34:53,  3.74s/استعلام]"
     ]
    },
    {
     "name": "stdout",
     "output_type": "stream",
     "text": [
      "Total documents in doc_data: 522931\n",
      "Sample doc_ids: ['1', '2', '3', '4', '5']\n",
      "Top indices: [ 21390 410555  73153  73154  93497]\n",
      "Additional words from top 5 documents: pokémon release philippines available\n",
      "🔍 Enhanced Query: Why is Hoopa from Pokemon popular in Thailand? pokémon release philippines available\n"
     ]
    },
    {
     "name": "stderr",
     "output_type": "stream",
     "text": [
      "معالجة الاستعلامات:  44%|████▍     | 441/1000 [27:11<35:37,  3.82s/استعلام]"
     ]
    },
    {
     "name": "stdout",
     "output_type": "stream",
     "text": [
      "Total documents in doc_data: 522931\n",
      "Sample doc_ids: ['1', '2', '3', '4', '5']\n",
      "Top indices: [ 21516   7225 355249 338009 175043]\n",
      "Additional words from top 5 documents: future project\n",
      "🔍 Enhanced Query: How does iot work? future project\n"
     ]
    },
    {
     "name": "stderr",
     "output_type": "stream",
     "text": [
      "معالجة الاستعلامات:  44%|████▍     | 442/1000 [27:15<35:17,  3.80s/استعلام]"
     ]
    },
    {
     "name": "stdout",
     "output_type": "stream",
     "text": [
      "Total documents in doc_data: 522931\n",
      "Sample doc_ids: ['1', '2', '3', '4', '5']\n",
      "Top indices: [ 21517 172257 522650 522649 331097]\n",
      "Additional words from top 5 documents: father role pharmacist job\n",
      "🔍 Enhanced Query: Why is pharmacognosy the mother of pharmacy? father role pharmacist job\n"
     ]
    },
    {
     "name": "stderr",
     "output_type": "stream",
     "text": [
      "معالجة الاستعلامات:  44%|████▍     | 443/1000 [27:19<35:04,  3.78s/استعلام]"
     ]
    },
    {
     "name": "stdout",
     "output_type": "stream",
     "text": [
      "Total documents in doc_data: 522931\n",
      "Sample doc_ids: ['1', '2', '3', '4', '5']\n",
      "Top indices: [466938 145988 502231 197686 318418]\n",
      "Additional words from top 5 documents: pointer program language computers\n",
      "🔍 Enhanced Query: What are the advantages of binary code? pointer program language computers\n"
     ]
    },
    {
     "name": "stderr",
     "output_type": "stream",
     "text": [
      "معالجة الاستعلامات:  44%|████▍     | 444/1000 [27:23<35:15,  3.81s/استعلام]"
     ]
    },
    {
     "name": "stdout",
     "output_type": "stream",
     "text": [
      "Total documents in doc_data: 522931\n",
      "Sample doc_ids: ['1', '2', '3', '4', '5']\n",
      "Top indices: [245346 488630  31418 290221  21596]\n",
      "Additional words from top 5 documents: best tourists not countries\n",
      "🔍 Enhanced Query: As a tourist, which city or country will you never go back to visit again? best tourists not countries\n"
     ]
    },
    {
     "name": "stderr",
     "output_type": "stream",
     "text": [
      "معالجة الاستعلامات:  44%|████▍     | 445/1000 [27:27<35:44,  3.86s/استعلام]"
     ]
    },
    {
     "name": "stdout",
     "output_type": "stream",
     "text": [
      "Total documents in doc_data: 522931\n",
      "Sample doc_ids: ['1', '2', '3', '4', '5']\n",
      "Top indices: [307215 307214  25611  30645 184022]\n",
      "Additional words from top 5 documents: salary technology analyst infosys\n",
      "🔍 Enhanced Query: \"Why choose a non technical job when you are from a technical background?\" how shall I answer these type of question in an interview. salary technology analyst infosys\n"
     ]
    },
    {
     "name": "stderr",
     "output_type": "stream",
     "text": [
      "معالجة الاستعلامات:  45%|████▍     | 446/1000 [27:31<36:10,  3.92s/استعلام]"
     ]
    },
    {
     "name": "stdout",
     "output_type": "stream",
     "text": [
      "Total documents in doc_data: 522931\n",
      "Sample doc_ids: ['1', '2', '3', '4', '5']\n",
      "Top indices: [ 65283  57527 159762 159761 382195]\n",
      "Additional words from top 5 documents: php theme scratch code\n",
      "🔍 Enhanced Query: How do I learn Wordpress Development as a Frontend Developer? php theme scratch code\n"
     ]
    },
    {
     "name": "stderr",
     "output_type": "stream",
     "text": [
      "معالجة الاستعلامات:  45%|████▍     | 447/1000 [27:35<36:33,  3.97s/استعلام]"
     ]
    },
    {
     "name": "stdout",
     "output_type": "stream",
     "text": [
      "Total documents in doc_data: 522931\n",
      "Sample doc_ids: ['1', '2', '3', '4', '5']\n",
      "Top indices: [125663 188020 117060  82886  82887]\n",
      "Additional words from top 5 documents: aap win elections bjp\n",
      "🔍 Enhanced Query: Which party has the best chance of victory in Punjab Assembly Election 2017? aap win elections bjp\n"
     ]
    },
    {
     "name": "stderr",
     "output_type": "stream",
     "text": [
      "معالجة الاستعلامات:  45%|████▍     | 448/1000 [27:39<36:07,  3.93s/استعلام]"
     ]
    },
    {
     "name": "stdout",
     "output_type": "stream",
     "text": [
      "Total documents in doc_data: 522931\n",
      "Sample doc_ids: ['1', '2', '3', '4', '5']\n",
      "Top indices: [156370  77469 260288 468420 313383]\n",
      "Additional words from top 5 documents: learn screenwriting write short\n",
      "🔍 Enhanced Query: What's the best way to become a good writer? learn screenwriting write short\n"
     ]
    },
    {
     "name": "stderr",
     "output_type": "stream",
     "text": [
      "معالجة الاستعلامات:  45%|████▍     | 449/1000 [27:43<35:58,  3.92s/استعلام]"
     ]
    },
    {
     "name": "stdout",
     "output_type": "stream",
     "text": [
      "Total documents in doc_data: 522931\n",
      "Sample doc_ids: ['1', '2', '3', '4', '5']\n",
      "Top indices: [265628  21900 265627 199191  47894]\n",
      "Additional words from top 5 documents: substitute cornmeal great alternative\n",
      "🔍 Enhanced Query: How is corn meal the same as corn flour? substitute cornmeal great alternative\n"
     ]
    },
    {
     "name": "stderr",
     "output_type": "stream",
     "text": [
      "معالجة الاستعلامات:  45%|████▌     | 450/1000 [27:47<36:27,  3.98s/استعلام]"
     ]
    },
    {
     "name": "stdout",
     "output_type": "stream",
     "text": [
      "Total documents in doc_data: 522931\n",
      "Sample doc_ids: ['1', '2', '3', '4', '5']\n",
      "Top indices: [229965 222252 229964 363226  21912]\n",
      "Additional words from top 5 documents: girl nice personality\n",
      "🔍 Enhanced Query: What kind of girls do boys really like? girl nice personality\n"
     ]
    },
    {
     "name": "stderr",
     "output_type": "stream",
     "text": [
      "معالجة الاستعلامات:  45%|████▌     | 451/1000 [27:51<36:09,  3.95s/استعلام]"
     ]
    },
    {
     "name": "stdout",
     "output_type": "stream",
     "text": [
      "Total documents in doc_data: 522931\n",
      "Sample doc_ids: ['1', '2', '3', '4', '5']\n",
      "Top indices: [380487 350006 165154 147917 138081]\n",
      "Additional words from top 5 documents: brazil think mexico war\n",
      "🔍 Enhanced Query: Which team will win the 2018 World Cup? brazil think mexico war\n"
     ]
    },
    {
     "name": "stderr",
     "output_type": "stream",
     "text": [
      "معالجة الاستعلامات:  45%|████▌     | 452/1000 [27:55<36:21,  3.98s/استعلام]"
     ]
    },
    {
     "name": "stdout",
     "output_type": "stream",
     "text": [
      "Total documents in doc_data: 522931\n",
      "Sample doc_ids: ['1', '2', '3', '4', '5']\n",
      "Top indices: [442885 442884 456434  78684  53541]\n",
      "Additional words from top 5 documents: learn movies online\n",
      "🔍 Enhanced Query: Why is reading a book considered by some to be better than watching a movie? learn movies online\n"
     ]
    },
    {
     "name": "stderr",
     "output_type": "stream",
     "text": [
      "معالجة الاستعلامات:  45%|████▌     | 453/1000 [27:59<36:01,  3.95s/استعلام]"
     ]
    },
    {
     "name": "stdout",
     "output_type": "stream",
     "text": [
      "Total documents in doc_data: 522931\n",
      "Sample doc_ids: ['1', '2', '3', '4', '5']\n",
      "Top indices: [ 22083 415551  81079  81078 455658]\n",
      "Additional words from top 5 documents: life\n",
      "🔍 Enhanced Query: What is the biggest transformation you have witnessed? life\n"
     ]
    },
    {
     "name": "stderr",
     "output_type": "stream",
     "text": [
      "معالجة الاستعلامات:  45%|████▌     | 454/1000 [28:03<35:54,  3.95s/استعلام]"
     ]
    },
    {
     "name": "stdout",
     "output_type": "stream",
     "text": [
      "Total documents in doc_data: 522931\n",
      "Sample doc_ids: ['1', '2', '3', '4', '5']\n",
      "Top indices: [275518 104516 278626 316337 440893]\n",
      "Additional words from top 5 documents: 1010 number choose 432101234\n",
      "🔍 Enhanced Query: What are 10-20 random things about yourself? 1010 number choose 432101234\n"
     ]
    },
    {
     "name": "stderr",
     "output_type": "stream",
     "text": [
      "معالجة الاستعلامات:  46%|████▌     | 455/1000 [28:06<35:45,  3.94s/استعلام]"
     ]
    },
    {
     "name": "stdout",
     "output_type": "stream",
     "text": [
      "Total documents in doc_data: 522931\n",
      "Sample doc_ids: ['1', '2', '3', '4', '5']\n",
      "Top indices: [467739  22127 380976 106971 477292]\n",
      "Additional words from top 5 documents: course primary college education\n",
      "🔍 Enhanced Query: What is the difference between middle school and high school curriculum? course primary college education\n"
     ]
    },
    {
     "name": "stderr",
     "output_type": "stream",
     "text": [
      "معالجة الاستعلامات:  46%|████▌     | 456/1000 [28:10<35:43,  3.94s/استعلام]"
     ]
    },
    {
     "name": "stdout",
     "output_type": "stream",
     "text": [
      "Total documents in doc_data: 522931\n",
      "Sample doc_ids: ['1', '2', '3', '4', '5']\n",
      "Top indices: [ 65985 260502  65986 136054 320315]\n",
      "Additional words from top 5 documents: depress wrong depression not\n",
      "🔍 Enhanced Query: How do I make my girlfriend happy when she is upset? depress wrong depression not\n"
     ]
    },
    {
     "name": "stderr",
     "output_type": "stream",
     "text": [
      "معالجة الاستعلامات:  46%|████▌     | 457/1000 [28:14<36:05,  3.99s/استعلام]"
     ]
    },
    {
     "name": "stdout",
     "output_type": "stream",
     "text": [
      "Total documents in doc_data: 522931\n",
      "Sample doc_ids: ['1', '2', '3', '4', '5']\n",
      "Top indices: [ 22170  89720  68660 423157 250559]\n",
      "Additional words from top 5 documents: areas occur tornado alley\n",
      "🔍 Enhanced Query: Are there any cities in Texas that has a low level chance of tornadoes? areas occur tornado alley\n"
     ]
    },
    {
     "name": "stderr",
     "output_type": "stream",
     "text": [
      "معالجة الاستعلامات:  46%|████▌     | 458/1000 [28:18<36:00,  3.99s/استعلام]"
     ]
    },
    {
     "name": "stdout",
     "output_type": "stream",
     "text": [
      "Total documents in doc_data: 522931\n",
      "Sample doc_ids: ['1', '2', '3', '4', '5']\n",
      "Top indices: [123749 189524 317909  32300  29304]\n",
      "Additional words from top 5 documents: good showsfilms similar die\n",
      "🔍 Enhanced Query: What anime would you suggest I watch after watching death note? good showsfilms similar die\n"
     ]
    },
    {
     "name": "stderr",
     "output_type": "stream",
     "text": [
      "معالجة الاستعلامات:  46%|████▌     | 459/1000 [28:22<35:46,  3.97s/استعلام]"
     ]
    },
    {
     "name": "stdout",
     "output_type": "stream",
     "text": [
      "Total documents in doc_data: 522931\n",
      "Sample doc_ids: ['1', '2', '3', '4', '5']\n",
      "Top indices: [298523  22297 298524  11840  18404]\n",
      "Additional words from top 5 documents: differences marines corps swcc\n",
      "🔍 Enhanced Query: What is the difference between a Marine and a Navy SEAL? differences marines corps swcc\n"
     ]
    },
    {
     "name": "stderr",
     "output_type": "stream",
     "text": [
      "معالجة الاستعلامات:  46%|████▌     | 460/1000 [28:26<35:43,  3.97s/استعلام]"
     ]
    },
    {
     "name": "stdout",
     "output_type": "stream",
     "text": [
      "Total documents in doc_data: 522931\n",
      "Sample doc_ids: ['1', '2', '3', '4', '5']\n",
      "Top indices: [359752  88387 509952 211893 102553]\n",
      "Additional words from top 5 documents: cotton polyester wool best\n",
      "🔍 Enhanced Query: What's the difference between piece dyed and yarn dyed fabric? Is one better than the other? cotton polyester wool best\n"
     ]
    },
    {
     "name": "stderr",
     "output_type": "stream",
     "text": [
      "معالجة الاستعلامات:  46%|████▌     | 461/1000 [28:30<35:27,  3.95s/استعلام]"
     ]
    },
    {
     "name": "stdout",
     "output_type": "stream",
     "text": [
      "Total documents in doc_data: 522931\n",
      "Sample doc_ids: ['1', '2', '3', '4', '5']\n",
      "Top indices: [118695  22312 445948 118694 257697]\n",
      "Additional words from top 5 documents: atomic atoms observable determine\n",
      "🔍 Enhanced Query: What is actually the quantum mechanical model of an atom? atomic atoms observable determine\n"
     ]
    },
    {
     "name": "stderr",
     "output_type": "stream",
     "text": [
      "معالجة الاستعلامات:  46%|████▌     | 462/1000 [28:34<35:26,  3.95s/استعلام]"
     ]
    },
    {
     "name": "stdout",
     "output_type": "stream",
     "text": [
      "Total documents in doc_data: 522931\n",
      "Sample doc_ids: ['1', '2', '3', '4', '5']\n",
      "Top indices: [ 59465  83098 107267  59968 460911]\n",
      "Additional words from top 5 documents: consequences\n",
      "🔍 Enhanced Query: What are the chances of war between India and Pakistan and its effects on India's economy? consequences\n"
     ]
    },
    {
     "name": "stderr",
     "output_type": "stream",
     "text": [
      "معالجة الاستعلامات:  46%|████▋     | 463/1000 [28:38<35:03,  3.92s/استعلام]"
     ]
    },
    {
     "name": "stdout",
     "output_type": "stream",
     "text": [
      "Total documents in doc_data: 522931\n",
      "Sample doc_ids: ['1', '2', '3', '4', '5']\n",
      "Top indices: [189866 440561  88187 187764 464962]\n",
      "Additional words from top 5 documents: salary 55000month one afford\n",
      "🔍 Enhanced Query: How much is the average monthly income required to live a reasonably comfortable life with a family of 4 in Mumbai? salary 55000month one afford\n"
     ]
    },
    {
     "name": "stderr",
     "output_type": "stream",
     "text": [
      "معالجة الاستعلامات:  46%|████▋     | 464/1000 [28:42<34:42,  3.88s/استعلام]"
     ]
    },
    {
     "name": "stdout",
     "output_type": "stream",
     "text": [
      "Total documents in doc_data: 522931\n",
      "Sample doc_ids: ['1', '2', '3', '4', '5']\n",
      "Top indices: [ 92651 366675  41650 213006  54748]\n",
      "Additional words from top 5 documents: online language fast\n",
      "🔍 Enhanced Query: What's the easiest way to learn chinese? online language fast\n"
     ]
    },
    {
     "name": "stderr",
     "output_type": "stream",
     "text": [
      "معالجة الاستعلامات:  46%|████▋     | 465/1000 [28:46<34:51,  3.91s/استعلام]"
     ]
    },
    {
     "name": "stdout",
     "output_type": "stream",
     "text": [
      "Total documents in doc_data: 522931\n",
      "Sample doc_ids: ['1', '2', '3', '4', '5']\n",
      "Top indices: [283508 410708 246983  22529 296555]\n",
      "Additional words from top 5 documents: tell market uber\n",
      "🔍 Enhanced Query: How does one know when a stock is overvalued or undervalued? tell market uber\n"
     ]
    },
    {
     "name": "stderr",
     "output_type": "stream",
     "text": [
      "معالجة الاستعلامات:  47%|████▋     | 466/1000 [28:50<35:11,  3.95s/استعلام]"
     ]
    },
    {
     "name": "stdout",
     "output_type": "stream",
     "text": [
      "Total documents in doc_data: 522931\n",
      "Sample doc_ids: ['1', '2', '3', '4', '5']\n",
      "Top indices: [ 69443 260854 380514  22557 260853]\n",
      "Additional words from top 5 documents: direct ibizas airlines travel\n",
      "🔍 Enhanced Query: Are there any non-stop flights between Leeds and Ibiza, and what are Leeds main tourist attractions? direct ibizas airlines travel\n"
     ]
    },
    {
     "name": "stderr",
     "output_type": "stream",
     "text": [
      "معالجة الاستعلامات:  47%|████▋     | 467/1000 [28:54<35:00,  3.94s/استعلام]"
     ]
    },
    {
     "name": "stdout",
     "output_type": "stream",
     "text": [
      "Total documents in doc_data: 522931\n",
      "Sample doc_ids: ['1', '2', '3', '4', '5']\n",
      "Top indices: [  7184 302846 471827  61074 502244]\n",
      "Additional words from top 5 documents: remove indian constitution reservations\n",
      "🔍 Enhanced Query: What can be done to end caste based reservation system in India? remove indian constitution reservations\n"
     ]
    },
    {
     "name": "stderr",
     "output_type": "stream",
     "text": [
      "معالجة الاستعلامات:  47%|████▋     | 468/1000 [28:58<34:38,  3.91s/استعلام]"
     ]
    },
    {
     "name": "stdout",
     "output_type": "stream",
     "text": [
      "Total documents in doc_data: 522931\n",
      "Sample doc_ids: ['1', '2', '3', '4', '5']\n",
      "Top indices: [211988 269739 410450 514413 502614]\n",
      "Additional words from top 5 documents: 35000 40000 250000 25000\n",
      "🔍 Enhanced Query: How should I invest $40K? 35000 40000 250000 25000\n"
     ]
    },
    {
     "name": "stderr",
     "output_type": "stream",
     "text": [
      "معالجة الاستعلامات:  47%|████▋     | 469/1000 [29:02<34:47,  3.93s/استعلام]"
     ]
    },
    {
     "name": "stdout",
     "output_type": "stream",
     "text": [
      "Total documents in doc_data: 522931\n",
      "Sample doc_ids: ['1', '2', '3', '4', '5']\n",
      "Top indices: [103277 355524  22769 283116 300149]\n",
      "Additional words from top 5 documents: online account sbi pnb\n",
      "🔍 Enhanced Query: How do I transfer ola money to Bank? online account sbi pnb\n"
     ]
    },
    {
     "name": "stderr",
     "output_type": "stream",
     "text": [
      "معالجة الاستعلامات:  47%|████▋     | 470/1000 [29:05<34:28,  3.90s/استعلام]"
     ]
    },
    {
     "name": "stdout",
     "output_type": "stream",
     "text": [
      "Total documents in doc_data: 522931\n",
      "Sample doc_ids: ['1', '2', '3', '4', '5']\n",
      "Top indices: [ 99286 338572 218575 463262 168188]\n",
      "Additional words from top 5 documents: learn smartphone increase productivity\n",
      "🔍 Enhanced Query: How do we use technology on a daily basis? learn smartphone increase productivity\n"
     ]
    },
    {
     "name": "stderr",
     "output_type": "stream",
     "text": [
      "معالجة الاستعلامات:  47%|████▋     | 471/1000 [29:09<34:39,  3.93s/استعلام]"
     ]
    },
    {
     "name": "stdout",
     "output_type": "stream",
     "text": [
      "Total documents in doc_data: 522931\n",
      "Sample doc_ids: ['1', '2', '3', '4', '5']\n",
      "Top indices: [ 43750  78414 356961 366293 346828]\n",
      "Additional words from top 5 documents: girls stare dont approach\n",
      "🔍 Enhanced Query: A girl in my class stares at me, but when I look into her eyes she gets startled and removes her gaze and we do not talk. What should I do? girls stare dont approach\n"
     ]
    },
    {
     "name": "stderr",
     "output_type": "stream",
     "text": [
      "معالجة الاستعلامات:  47%|████▋     | 472/1000 [29:13<34:17,  3.90s/استعلام]"
     ]
    },
    {
     "name": "stdout",
     "output_type": "stream",
     "text": [
      "Total documents in doc_data: 522931\n",
      "Sample doc_ids: ['1', '2', '3', '4', '5']\n",
      "Top indices: [ 22909  63698 483602  11385 377604]\n",
      "Additional words from top 5 documents: month two 2017 august\n",
      "🔍 Enhanced Query: How can I prepare for the CAT in 3 months? month two 2017 august\n"
     ]
    },
    {
     "name": "stderr",
     "output_type": "stream",
     "text": [
      "معالجة الاستعلامات:  47%|████▋     | 473/1000 [29:17<34:21,  3.91s/استعلام]"
     ]
    },
    {
     "name": "stdout",
     "output_type": "stream",
     "text": [
      "Total documents in doc_data: 522931\n",
      "Sample doc_ids: ['1', '2', '3', '4', '5']\n",
      "Top indices: [  2220   2221 355225 355224 318434]\n",
      "Additional words from top 5 documents: define achieve find\n",
      "🔍 Enhanced Query: I help others to make them happy so that my mind will experience happiness as well, is it a selfish act? define achieve find\n"
     ]
    },
    {
     "name": "stderr",
     "output_type": "stream",
     "text": [
      "معالجة الاستعلامات:  47%|████▋     | 474/1000 [29:21<34:30,  3.94s/استعلام]"
     ]
    },
    {
     "name": "stdout",
     "output_type": "stream",
     "text": [
      "Total documents in doc_data: 522931\n",
      "Sample doc_ids: ['1', '2', '3', '4', '5']\n",
      "Top indices: [ 22975  11515 371873 182517 273468]\n",
      "Additional words from top 5 documents: pluto bigger jupiter\n",
      "🔍 Enhanced Query: What's the best planet? pluto bigger jupiter\n"
     ]
    },
    {
     "name": "stderr",
     "output_type": "stream",
     "text": [
      "معالجة الاستعلامات:  48%|████▊     | 475/1000 [29:25<34:10,  3.91s/استعلام]"
     ]
    },
    {
     "name": "stdout",
     "output_type": "stream",
     "text": [
      "Total documents in doc_data: 522931\n",
      "Sample doc_ids: ['1', '2', '3', '4', '5']\n",
      "Top indices: [254338 506122 387512 362243 179201]\n",
      "Additional words from top 5 documents: movies sin kiss scenes\n",
      "🔍 Enhanced Query: What are the best anime hentai sites? movies sin kiss scenes\n"
     ]
    },
    {
     "name": "stderr",
     "output_type": "stream",
     "text": [
      "معالجة الاستعلامات:  48%|████▊     | 476/1000 [29:29<34:03,  3.90s/استعلام]"
     ]
    },
    {
     "name": "stdout",
     "output_type": "stream",
     "text": [
      "Total documents in doc_data: 522931\n",
      "Sample doc_ids: ['1', '2', '3', '4', '5']\n",
      "Top indices: [ 23025 364351 282388 166764  23492]\n",
      "Additional words from top 5 documents: inequality equality wage gap\n",
      "🔍 Enhanced Query: Why do gender inequalities exist? inequality equality wage gap\n"
     ]
    },
    {
     "name": "stderr",
     "output_type": "stream",
     "text": [
      "معالجة الاستعلامات:  48%|████▊     | 477/1000 [29:33<34:02,  3.90s/استعلام]"
     ]
    },
    {
     "name": "stdout",
     "output_type": "stream",
     "text": [
      "Total documents in doc_data: 522931\n",
      "Sample doc_ids: ['1', '2', '3', '4', '5']\n",
      "Top indices: [ 23071 212848 124357  95226  95227]\n",
      "Additional words from top 5 documents: mean release enjoy\n",
      "🔍 Enhanced Query: When is the Winds of Winter coming out? mean release enjoy\n"
     ]
    },
    {
     "name": "stderr",
     "output_type": "stream",
     "text": [
      "معالجة الاستعلامات:  48%|████▊     | 478/1000 [29:37<33:37,  3.86s/استعلام]"
     ]
    },
    {
     "name": "stdout",
     "output_type": "stream",
     "text": [
      "Total documents in doc_data: 522931\n",
      "Sample doc_ids: ['1', '2', '3', '4', '5']\n",
      "Top indices: [201656  31476 126011 387123 402568]\n",
      "Additional words from top 5 documents: dont could\n",
      "🔍 Enhanced Query: When will the moon won't be longer a satellite of the earth? dont could\n"
     ]
    },
    {
     "name": "stderr",
     "output_type": "stream",
     "text": [
      "معالجة الاستعلامات:  48%|████▊     | 479/1000 [29:40<33:18,  3.83s/استعلام]"
     ]
    },
    {
     "name": "stdout",
     "output_type": "stream",
     "text": [
      "Total documents in doc_data: 522931\n",
      "Sample doc_ids: ['1', '2', '3', '4', '5']\n",
      "Top indices: [ 83466  83467 399623 497803 446945]\n",
      "Additional words from top 5 documents: meet people personable someone\n",
      "🔍 Enhanced Query: How do I become an all around smart person? meet people personable someone\n"
     ]
    },
    {
     "name": "stderr",
     "output_type": "stream",
     "text": [
      "معالجة الاستعلامات:  48%|████▊     | 480/1000 [29:44<33:20,  3.85s/استعلام]"
     ]
    },
    {
     "name": "stdout",
     "output_type": "stream",
     "text": [
      "Total documents in doc_data: 522931\n",
      "Sample doc_ids: ['1', '2', '3', '4', '5']\n",
      "Top indices: [ 23219 201750 378591 386819  29531]\n",
      "Additional words from top 5 documents: particle\n",
      "🔍 Enhanced Query: What is faster the speed of light or the speed of sight? particle\n"
     ]
    },
    {
     "name": "stderr",
     "output_type": "stream",
     "text": [
      "معالجة الاستعلامات:  48%|████▊     | 481/1000 [29:48<33:22,  3.86s/استعلام]"
     ]
    },
    {
     "name": "stdout",
     "output_type": "stream",
     "text": [
      "Total documents in doc_data: 522931\n",
      "Sample doc_ids: ['1', '2', '3', '4', '5']\n",
      "Top indices: [407424  23224  21873 437705 398706]\n",
      "Additional words from top 5 documents: like sweat poo hard\n",
      "🔍 Enhanced Query: Why am I able to stand the smell of my own feces but not others? like sweat poo hard\n"
     ]
    },
    {
     "name": "stderr",
     "output_type": "stream",
     "text": [
      "معالجة الاستعلامات:  48%|████▊     | 482/1000 [29:52<33:05,  3.83s/استعلام]"
     ]
    },
    {
     "name": "stdout",
     "output_type": "stream",
     "text": [
      "Total documents in doc_data: 522931\n",
      "Sample doc_ids: ['1', '2', '3', '4', '5']\n",
      "Top indices: [448820 229723 467875 467874 112880]\n",
      "Additional words from top 5 documents: mastubate daily\n",
      "🔍 Enhanced Query: How many times we can we masturbate in a week? mastubate daily\n"
     ]
    },
    {
     "name": "stderr",
     "output_type": "stream",
     "text": [
      "معالجة الاستعلامات:  48%|████▊     | 483/1000 [29:56<32:51,  3.81s/استعلام]"
     ]
    },
    {
     "name": "stdout",
     "output_type": "stream",
     "text": [
      "Total documents in doc_data: 522931\n",
      "Sample doc_ids: ['1', '2', '3', '4', '5']\n",
      "Top indices: [428735 115467 121437 398455  23332]\n",
      "Additional words from top 5 documents: stronger advantage transmit torque\n",
      "🔍 Enhanced Query: Which one is better to adopt - solid or hollow shaft? stronger advantage transmit torque\n"
     ]
    },
    {
     "name": "stderr",
     "output_type": "stream",
     "text": [
      "معالجة الاستعلامات:  48%|████▊     | 484/1000 [29:59<32:42,  3.80s/استعلام]"
     ]
    },
    {
     "name": "stdout",
     "output_type": "stream",
     "text": [
      "Total documents in doc_data: 522931\n",
      "Sample doc_ids: ['1', '2', '3', '4', '5']\n",
      "Top indices: [ 62541 234913  37873 197158 485490]\n",
      "Additional words from top 5 documents: start\n",
      "🔍 Enhanced Query: How can anyone learn how to draw? start\n"
     ]
    },
    {
     "name": "stderr",
     "output_type": "stream",
     "text": [
      "معالجة الاستعلامات:  48%|████▊     | 485/1000 [30:03<32:42,  3.81s/استعلام]"
     ]
    },
    {
     "name": "stdout",
     "output_type": "stream",
     "text": [
      "Total documents in doc_data: 522931\n",
      "Sample doc_ids: ['1', '2', '3', '4', '5']\n",
      "Top indices: [ 23429  25793 227721 227722 283856]\n",
      "Additional words from top 5 documents: define personality\n",
      "🔍 Enhanced Query: What does it take to have charisma? define personality\n"
     ]
    },
    {
     "name": "stderr",
     "output_type": "stream",
     "text": [
      "معالجة الاستعلامات:  49%|████▊     | 486/1000 [30:07<32:45,  3.82s/استعلام]"
     ]
    },
    {
     "name": "stdout",
     "output_type": "stream",
     "text": [
      "Total documents in doc_data: 522931\n",
      "Sample doc_ids: ['1', '2', '3', '4', '5']\n",
      "Top indices: [ 43862 103271 341863  30817 515634]\n",
      "Additional words from top 5 documents: military canadian army branch\n",
      "🔍 Enhanced Query: What should I know before joining the National Guard? military canadian army branch\n"
     ]
    },
    {
     "name": "stderr",
     "output_type": "stream",
     "text": [
      "معالجة الاستعلامات:  49%|████▊     | 487/1000 [30:11<32:33,  3.81s/استعلام]"
     ]
    },
    {
     "name": "stdout",
     "output_type": "stream",
     "text": [
      "Total documents in doc_data: 522931\n",
      "Sample doc_ids: ['1', '2', '3', '4', '5']\n",
      "Top indices: [209229 134890  23555  66696 114950]\n",
      "Additional words from top 5 documents: \n",
      "No new words to add to query for beir\n"
     ]
    },
    {
     "name": "stderr",
     "output_type": "stream",
     "text": [
      "معالجة الاستعلامات:  49%|████▉     | 488/1000 [30:15<32:27,  3.80s/استعلام]"
     ]
    },
    {
     "name": "stdout",
     "output_type": "stream",
     "text": [
      "Total documents in doc_data: 522931\n",
      "Sample doc_ids: ['1', '2', '3', '4', '5']\n",
      "Top indices: [398268  74755 288885 340217 336350]\n",
      "Additional words from top 5 documents: universe neither energy combine\n",
      "🔍 Enhanced Query: Why can’t matter be created or destroyed? universe neither energy combine\n"
     ]
    },
    {
     "name": "stderr",
     "output_type": "stream",
     "text": [
      "معالجة الاستعلامات:  49%|████▉     | 489/1000 [30:19<32:26,  3.81s/استعلام]"
     ]
    },
    {
     "name": "stdout",
     "output_type": "stream",
     "text": [
      "Total documents in doc_data: 522931\n",
      "Sample doc_ids: ['1', '2', '3', '4', '5']\n",
      "Top indices: [333669 505921 256844 333670 341028]\n",
      "Additional words from top 5 documents: disneyland hotels longest time\n",
      "🔍 Enhanced Query: What's the best ride at Universal Studios Hollywood? disneyland hotels longest time\n"
     ]
    },
    {
     "name": "stderr",
     "output_type": "stream",
     "text": [
      "معالجة الاستعلامات:  49%|████▉     | 490/1000 [30:22<32:33,  3.83s/استعلام]"
     ]
    },
    {
     "name": "stdout",
     "output_type": "stream",
     "text": [
      "Total documents in doc_data: 522931\n",
      "Sample doc_ids: ['1', '2', '3', '4', '5']\n",
      "Top indices: [491161 102535  23808 102045 102536]\n",
      "Additional words from top 5 documents: good alternatives pornhub free\n",
      "🔍 Enhanced Query: Which porn site is the best? good alternatives pornhub free\n"
     ]
    },
    {
     "name": "stderr",
     "output_type": "stream",
     "text": [
      "معالجة الاستعلامات:  49%|████▉     | 491/1000 [30:27<33:36,  3.96s/استعلام]"
     ]
    },
    {
     "name": "stdout",
     "output_type": "stream",
     "text": [
      "Total documents in doc_data: 522931\n",
      "Sample doc_ids: ['1', '2', '3', '4', '5']\n",
      "Top indices: [ 23827 373950 218295 152235 356419]\n",
      "Additional words from top 5 documents: proton electrons make quantization\n",
      "🔍 Enhanced Query: If an electron has a charge of -1 and some quarks have fractional charge, what is charge? proton electrons make quantization\n"
     ]
    },
    {
     "name": "stderr",
     "output_type": "stream",
     "text": [
      "معالجة الاستعلامات:  49%|████▉     | 492/1000 [30:31<33:24,  3.95s/استعلام]"
     ]
    },
    {
     "name": "stdout",
     "output_type": "stream",
     "text": [
      "Total documents in doc_data: 522931\n",
      "Sample doc_ids: ['1', '2', '3', '4', '5']\n",
      "Top indices: [ 23855  11132 206286 206285  71972]\n",
      "Additional words from top 5 documents: subconscious mind control lucid\n",
      "🔍 Enhanced Query: Will computers be able to have dreams or have any level of subconsciousness in the future? subconscious mind control lucid\n"
     ]
    },
    {
     "name": "stderr",
     "output_type": "stream",
     "text": [
      "معالجة الاستعلامات:  49%|████▉     | 493/1000 [30:34<32:59,  3.90s/استعلام]"
     ]
    },
    {
     "name": "stdout",
     "output_type": "stream",
     "text": [
      "Total documents in doc_data: 522931\n",
      "Sample doc_ids: ['1', '2', '3', '4', '5']\n",
      "Top indices: [ 20212 301413 172846 468931 153781]\n",
      "Additional words from top 5 documents: \n",
      "No new words to add to query for beir\n"
     ]
    },
    {
     "name": "stderr",
     "output_type": "stream",
     "text": [
      "معالجة الاستعلامات:  49%|████▉     | 494/1000 [30:38<32:35,  3.87s/استعلام]"
     ]
    },
    {
     "name": "stdout",
     "output_type": "stream",
     "text": [
      "Total documents in doc_data: 522931\n",
      "Sample doc_ids: ['1', '2', '3', '4', '5']\n",
      "Top indices: [506108  78720 383136 214878 172475]\n",
      "Additional words from top 5 documents: difference sales strategic strategy\n",
      "🔍 Enhanced Query: What are the differences between marketing and management? difference sales strategic strategy\n"
     ]
    },
    {
     "name": "stderr",
     "output_type": "stream",
     "text": [
      "معالجة الاستعلامات:  50%|████▉     | 495/1000 [30:42<31:53,  3.79s/استعلام]"
     ]
    },
    {
     "name": "stdout",
     "output_type": "stream",
     "text": [
      "Total documents in doc_data: 522931\n",
      "Sample doc_ids: ['1', '2', '3', '4', '5']\n",
      "Top indices: [359987 175414 512878 512879   3793]\n",
      "Additional words from top 5 documents: examples microbes use\n",
      "🔍 Enhanced Query: In what ways microorganisms are useful? examples microbes use\n"
     ]
    },
    {
     "name": "stderr",
     "output_type": "stream",
     "text": [
      "معالجة الاستعلامات:  50%|████▉     | 496/1000 [30:45<31:15,  3.72s/استعلام]"
     ]
    },
    {
     "name": "stdout",
     "output_type": "stream",
     "text": [
      "Total documents in doc_data: 522931\n",
      "Sample doc_ids: ['1', '2', '3', '4', '5']\n",
      "Top indices: [185797 206179  23948  82560 224720]\n",
      "Additional words from top 5 documents: also rotate around doesnt\n",
      "🔍 Enhanced Query: The Moon orbits the Earth, and the Earth orbits the Sun. What does the Sun orbit? also rotate around doesnt\n"
     ]
    },
    {
     "name": "stderr",
     "output_type": "stream",
     "text": [
      "معالجة الاستعلامات:  50%|████▉     | 497/1000 [30:49<30:52,  3.68s/استعلام]"
     ]
    },
    {
     "name": "stdout",
     "output_type": "stream",
     "text": [
      "Total documents in doc_data: 522931\n",
      "Sample doc_ids: ['1', '2', '3', '4', '5']\n",
      "Top indices: [ 80552 313884 249665 249666 402743]\n",
      "Additional words from top 5 documents: pte exam gre microsoft\n",
      "🔍 Enhanced Query: How hard is it to crack IES? pte exam gre microsoft\n"
     ]
    },
    {
     "name": "stderr",
     "output_type": "stream",
     "text": [
      "معالجة الاستعلامات:  50%|████▉     | 498/1000 [30:53<30:37,  3.66s/استعلام]"
     ]
    },
    {
     "name": "stdout",
     "output_type": "stream",
     "text": [
      "Total documents in doc_data: 522931\n",
      "Sample doc_ids: ['1', '2', '3', '4', '5']\n",
      "Top indices: [481854 481855  92985 374386 237445]\n",
      "Additional words from top 5 documents: everyday\n",
      "🔍 Enhanced Query: What made you happy today? everyday\n"
     ]
    },
    {
     "name": "stderr",
     "output_type": "stream",
     "text": [
      "معالجة الاستعلامات:  50%|████▉     | 499/1000 [30:56<30:41,  3.68s/استعلام]"
     ]
    },
    {
     "name": "stdout",
     "output_type": "stream",
     "text": [
      "Total documents in doc_data: 522931\n",
      "Sample doc_ids: ['1', '2', '3', '4', '5']\n",
      "Top indices: [263728 219841  61391 183437 514678]\n",
      "Additional words from top 5 documents: regrow growpromote helpful growth\n",
      "🔍 Enhanced Query: Can onion juice help for regrowth of hair? regrow growpromote helpful growth\n"
     ]
    },
    {
     "name": "stderr",
     "output_type": "stream",
     "text": [
      "معالجة الاستعلامات:  50%|█████     | 500/1000 [31:00<30:32,  3.67s/استعلام]"
     ]
    },
    {
     "name": "stdout",
     "output_type": "stream",
     "text": [
      "Total documents in doc_data: 522931\n",
      "Sample doc_ids: ['1', '2', '3', '4', '5']\n",
      "Top indices: [124214 261183 179572 209192 285215]\n",
      "Additional words from top 5 documents: online sit study 10th\n",
      "🔍 Enhanced Query: Does taking more AP classes give you a better chance of getting into a top school? online sit study 10th\n"
     ]
    },
    {
     "name": "stderr",
     "output_type": "stream",
     "text": [
      "معالجة الاستعلامات:  50%|█████     | 501/1000 [31:03<30:09,  3.63s/استعلام]"
     ]
    },
    {
     "name": "stdout",
     "output_type": "stream",
     "text": [
      "Total documents in doc_data: 522931\n",
      "Sample doc_ids: ['1', '2', '3', '4', '5']\n",
      "Top indices: [156053  21723 128566 513076 308295]\n",
      "Additional words from top 5 documents: jesus usa buddha greatest\n",
      "🔍 Enhanced Query: Will there ever be a Buddhist president? jesus usa buddha greatest\n"
     ]
    },
    {
     "name": "stderr",
     "output_type": "stream",
     "text": [
      "معالجة الاستعلامات:  50%|█████     | 502/1000 [31:07<30:05,  3.62s/استعلام]"
     ]
    },
    {
     "name": "stdout",
     "output_type": "stream",
     "text": [
      "Total documents in doc_data: 522931\n",
      "Sample doc_ids: ['1', '2', '3', '4', '5']\n",
      "Top indices: [ 24210 423726 271260 271259 350542]\n",
      "Additional words from top 5 documents: think artwork\n",
      "🔍 Enhanced Query: How can art be a form of communication? think artwork\n"
     ]
    },
    {
     "name": "stderr",
     "output_type": "stream",
     "text": [
      "معالجة الاستعلامات:  50%|█████     | 503/1000 [31:11<30:03,  3.63s/استعلام]"
     ]
    },
    {
     "name": "stdout",
     "output_type": "stream",
     "text": [
      "Total documents in doc_data: 522931\n",
      "Sample doc_ids: ['1', '2', '3', '4', '5']\n",
      "Top indices: [ 24240 489509  29744  29743  48505]\n",
      "Additional words from top 5 documents: resource nonrenewable\n",
      "🔍 Enhanced Query: What are renewable resources? What are some examples? resource nonrenewable\n"
     ]
    },
    {
     "name": "stderr",
     "output_type": "stream",
     "text": [
      "معالجة الاستعلامات:  50%|█████     | 504/1000 [31:14<30:03,  3.64s/استعلام]"
     ]
    },
    {
     "name": "stdout",
     "output_type": "stream",
     "text": [
      "Total documents in doc_data: 522931\n",
      "Sample doc_ids: ['1', '2', '3', '4', '5']\n",
      "Top indices: [143667 375712 384495 490508 108251]\n",
      "Additional words from top 5 documents: create equation solution expert\n",
      "🔍 Enhanced Query: Should I take differential equations or linear algebra? create equation solution expert\n"
     ]
    },
    {
     "name": "stderr",
     "output_type": "stream",
     "text": [
      "معالجة الاستعلامات:  50%|█████     | 505/1000 [31:18<30:10,  3.66s/استعلام]"
     ]
    },
    {
     "name": "stdout",
     "output_type": "stream",
     "text": [
      "Total documents in doc_data: 522931\n",
      "Sample doc_ids: ['1', '2', '3', '4', '5']\n",
      "Top indices: [470907 177187 470908 458147 458148]\n",
      "Additional words from top 5 documents: surgery ankylose spondylitis treatment\n",
      "🔍 Enhanced Query: My doctor misdiagnosed a broken rib as costochondritis for 2 years. Can I sue him for the 2 years of pain, and possibly causing more damage? surgery ankylose spondylitis treatment\n"
     ]
    },
    {
     "name": "stderr",
     "output_type": "stream",
     "text": [
      "معالجة الاستعلامات:  51%|█████     | 506/1000 [31:22<30:18,  3.68s/استعلام]"
     ]
    },
    {
     "name": "stdout",
     "output_type": "stream",
     "text": [
      "Total documents in doc_data: 522931\n",
      "Sample doc_ids: ['1', '2', '3', '4', '5']\n",
      "Top indices: [ 35142 146295 211957 431232 142798]\n",
      "Additional words from top 5 documents: donald obama start riot\n",
      "🔍 Enhanced Query: Did Hillary knowingly pay people to incite violence at Trump rallies and blame it on Trump supporters? donald obama start riot\n"
     ]
    },
    {
     "name": "stderr",
     "output_type": "stream",
     "text": [
      "معالجة الاستعلامات:  51%|█████     | 507/1000 [31:25<30:04,  3.66s/استعلام]"
     ]
    },
    {
     "name": "stdout",
     "output_type": "stream",
     "text": [
      "Total documents in doc_data: 522931\n",
      "Sample doc_ids: ['1', '2', '3', '4', '5']\n",
      "Top indices: [ 24418 103208 219337 508402  51758]\n",
      "Additional words from top 5 documents: best song farewell enter\n",
      "🔍 Enhanced Query: What are the some of the good Hollywood songs? best song farewell enter\n"
     ]
    },
    {
     "name": "stderr",
     "output_type": "stream",
     "text": [
      "معالجة الاستعلامات:  51%|█████     | 508/1000 [31:29<30:08,  3.68s/استعلام]"
     ]
    },
    {
     "name": "stdout",
     "output_type": "stream",
     "text": [
      "Total documents in doc_data: 522931\n",
      "Sample doc_ids: ['1', '2', '3', '4', '5']\n",
      "Top indices: [ 24424 151907 418823 418822  78652]\n",
      "Additional words from top 5 documents: anal\n",
      "🔍 Enhanced Query: Do you like sex? anal\n"
     ]
    },
    {
     "name": "stderr",
     "output_type": "stream",
     "text": [
      "معالجة الاستعلامات:  51%|█████     | 509/1000 [31:33<30:24,  3.72s/استعلام]"
     ]
    },
    {
     "name": "stdout",
     "output_type": "stream",
     "text": [
      "Total documents in doc_data: 522931\n",
      "Sample doc_ids: ['1', '2', '3', '4', '5']\n",
      "Top indices: [ 24507  63438  63439 377237 350268]\n",
      "Additional words from top 5 documents: one internet providers provider\n",
      "🔍 Enhanced Query: Which is the best Carrier Service Center in Hyderabad? one internet providers provider\n"
     ]
    },
    {
     "name": "stderr",
     "output_type": "stream",
     "text": [
      "معالجة الاستعلامات:  51%|█████     | 510/1000 [31:37<30:28,  3.73s/استعلام]"
     ]
    },
    {
     "name": "stdout",
     "output_type": "stream",
     "text": [
      "Total documents in doc_data: 522931\n",
      "Sample doc_ids: ['1', '2', '3', '4', '5']\n",
      "Top indices: [401783 401784 401731 401732 290333]\n",
      "Additional words from top 5 documents: \n",
      "No new words to add to query for beir\n"
     ]
    },
    {
     "name": "stderr",
     "output_type": "stream",
     "text": [
      "معالجة الاستعلامات:  51%|█████     | 511/1000 [31:40<30:17,  3.72s/استعلام]"
     ]
    },
    {
     "name": "stdout",
     "output_type": "stream",
     "text": [
      "Total documents in doc_data: 522931\n",
      "Sample doc_ids: ['1', '2', '3', '4', '5']\n",
      "Top indices: [ 24591 209875  35469  77362  77361]\n",
      "Additional words from top 5 documents: 800m 1600m usain bolt\n",
      "🔍 Enhanced Query: How do I run a 800 metre race as fast as possible? 800m 1600m usain bolt\n"
     ]
    },
    {
     "name": "stderr",
     "output_type": "stream",
     "text": [
      "معالجة الاستعلامات:  51%|█████     | 512/1000 [31:44<29:59,  3.69s/استعلام]"
     ]
    },
    {
     "name": "stdout",
     "output_type": "stream",
     "text": [
      "Total documents in doc_data: 522931\n",
      "Sample doc_ids: ['1', '2', '3', '4', '5']\n",
      "Top indices: [482237 145083 429956 429957 378610]\n",
      "Additional words from top 5 documents: get\n",
      "🔍 Enhanced Query: How do you live life without money? get\n"
     ]
    },
    {
     "name": "stderr",
     "output_type": "stream",
     "text": [
      "معالجة الاستعلامات:  51%|█████▏    | 513/1000 [31:48<29:46,  3.67s/استعلام]"
     ]
    },
    {
     "name": "stdout",
     "output_type": "stream",
     "text": [
      "Total documents in doc_data: 522931\n",
      "Sample doc_ids: ['1', '2', '3', '4', '5']\n",
      "Top indices: [241144 241145 264015 223254 388787]\n",
      "Additional words from top 5 documents: rule\n",
      "🔍 Enhanced Query: What is the #1rule of success? rule\n"
     ]
    },
    {
     "name": "stderr",
     "output_type": "stream",
     "text": [
      "معالجة الاستعلامات:  51%|█████▏    | 514/1000 [31:51<29:47,  3.68s/استعلام]"
     ]
    },
    {
     "name": "stdout",
     "output_type": "stream",
     "text": [
      "Total documents in doc_data: 522931\n",
      "Sample doc_ids: ['1', '2', '3', '4', '5']\n",
      "Top indices: [ 24665 433175 178899 222701  73820]\n",
      "Additional words from top 5 documents: cofounders usually fullstack fix\n",
      "🔍 Enhanced Query: Are technical founders/co-founders often full stack developers? cofounders usually fullstack fix\n"
     ]
    },
    {
     "name": "stderr",
     "output_type": "stream",
     "text": [
      "معالجة الاستعلامات:  52%|█████▏    | 515/1000 [31:55<29:53,  3.70s/استعلام]"
     ]
    },
    {
     "name": "stdout",
     "output_type": "stream",
     "text": [
      "Total documents in doc_data: 522931\n",
      "Sample doc_ids: ['1', '2', '3', '4', '5']\n",
      "Top indices: [ 24666 126526 405608 230546 230547]\n",
      "Additional words from top 5 documents: think go mercedes chance\n",
      "🔍 Enhanced Query: Who will replace Nico Rosberg for F1 2017 season? think go mercedes chance\n"
     ]
    },
    {
     "name": "stderr",
     "output_type": "stream",
     "text": [
      "معالجة الاستعلامات:  52%|█████▏    | 516/1000 [31:59<29:48,  3.69s/استعلام]"
     ]
    },
    {
     "name": "stdout",
     "output_type": "stream",
     "text": [
      "Total documents in doc_data: 522931\n",
      "Sample doc_ids: ['1', '2', '3', '4', '5']\n",
      "Top indices: [ 24667 158032 379393 316370 288676]\n",
      "Additional words from top 5 documents: prepare slowcooked cook smoke\n",
      "🔍 Enhanced Query: What are some recipes to slow-cook a brisket in the oven? prepare slowcooked cook smoke\n"
     ]
    },
    {
     "name": "stderr",
     "output_type": "stream",
     "text": [
      "معالجة الاستعلامات:  52%|█████▏    | 517/1000 [32:02<29:43,  3.69s/استعلام]"
     ]
    },
    {
     "name": "stdout",
     "output_type": "stream",
     "text": [
      "Total documents in doc_data: 522931\n",
      "Sample doc_ids: ['1', '2', '3', '4', '5']\n",
      "Top indices: [409828 446964 308487 422453 140347]\n",
      "Additional words from top 5 documents: minimize avoid masturbate weight\n",
      "🔍 Enhanced Query: What are ways to reduce tension? minimize avoid masturbate weight\n"
     ]
    },
    {
     "name": "stderr",
     "output_type": "stream",
     "text": [
      "معالجة الاستعلامات:  52%|█████▏    | 518/1000 [32:06<29:33,  3.68s/استعلام]"
     ]
    },
    {
     "name": "stdout",
     "output_type": "stream",
     "text": [
      "Total documents in doc_data: 522931\n",
      "Sample doc_ids: ['1', '2', '3', '4', '5']\n",
      "Top indices: [445548   7020 445549 382563 172341]\n",
      "Additional words from top 5 documents: realize stop overanalyzing things\n",
      "🔍 Enhanced Query: How can I get rid of overthinking? realize stop overanalyzing things\n"
     ]
    },
    {
     "name": "stderr",
     "output_type": "stream",
     "text": [
      "معالجة الاستعلامات:  52%|█████▏    | 519/1000 [32:10<29:30,  3.68s/استعلام]"
     ]
    },
    {
     "name": "stdout",
     "output_type": "stream",
     "text": [
      "Total documents in doc_data: 522931\n",
      "Sample doc_ids: ['1', '2', '3', '4', '5']\n",
      "Top indices: [161468 161467  25003 235141 154591]\n",
      "Additional words from top 5 documents: good whats funny tinder\n",
      "🔍 Enhanced Query: What are the best pick-up lines? good whats funny tinder\n"
     ]
    },
    {
     "name": "stderr",
     "output_type": "stream",
     "text": [
      "معالجة الاستعلامات:  52%|█████▏    | 520/1000 [32:14<29:37,  3.70s/استعلام]"
     ]
    },
    {
     "name": "stdout",
     "output_type": "stream",
     "text": [
      "Total documents in doc_data: 522931\n",
      "Sample doc_ids: ['1', '2', '3', '4', '5']\n",
      "Top indices: [361088 320064 448217 197296 284434]\n",
      "Additional words from top 5 documents: obsess productivity selfconscious others\n",
      "🔍 Enhanced Query: How do I stop caring about everything? obsess productivity selfconscious others\n"
     ]
    },
    {
     "name": "stderr",
     "output_type": "stream",
     "text": [
      "معالجة الاستعلامات:  52%|█████▏    | 521/1000 [32:17<29:18,  3.67s/استعلام]"
     ]
    },
    {
     "name": "stdout",
     "output_type": "stream",
     "text": [
      "Total documents in doc_data: 522931\n",
      "Sample doc_ids: ['1', '2', '3', '4', '5']\n",
      "Top indices: [453331 332135 478330 107163  29430]\n",
      "Additional words from top 5 documents: god want\n",
      "🔍 Enhanced Query: Do you desire to become great? god want\n"
     ]
    },
    {
     "name": "stderr",
     "output_type": "stream",
     "text": [
      "معالجة الاستعلامات:  52%|█████▏    | 522/1000 [32:21<28:57,  3.63s/استعلام]"
     ]
    },
    {
     "name": "stdout",
     "output_type": "stream",
     "text": [
      "Total documents in doc_data: 522931\n",
      "Sample doc_ids: ['1', '2', '3', '4', '5']\n",
      "Top indices: [422284 139088 373445 293401 143213]\n",
      "Additional words from top 5 documents: become linkedin multibillionaire billionaire\n",
      "🔍 Enhanced Query: What is it like to grow up with famous parents? become linkedin multibillionaire billionaire\n"
     ]
    },
    {
     "name": "stderr",
     "output_type": "stream",
     "text": [
      "معالجة الاستعلامات:  52%|█████▏    | 523/1000 [32:24<28:45,  3.62s/استعلام]"
     ]
    },
    {
     "name": "stdout",
     "output_type": "stream",
     "text": [
      "Total documents in doc_data: 522931\n",
      "Sample doc_ids: ['1', '2', '3', '4', '5']\n",
      "Top indices: [206098 207500 193717 492816 473127]\n",
      "Additional words from top 5 documents: child favourite sibling choose\n",
      "🔍 Enhanced Query: Do parents have a favorite kid? child favourite sibling choose\n"
     ]
    },
    {
     "name": "stderr",
     "output_type": "stream",
     "text": [
      "معالجة الاستعلامات:  52%|█████▏    | 524/1000 [32:28<28:50,  3.64s/استعلام]"
     ]
    },
    {
     "name": "stdout",
     "output_type": "stream",
     "text": [
      "Total documents in doc_data: 522931\n",
      "Sample doc_ids: ['1', '2', '3', '4', '5']\n",
      "Top indices: [462337 287381 108790 460547  62822]\n",
      "Additional words from top 5 documents: citibank icici hsbc buy\n",
      "🔍 Enhanced Query: What bank has the best credit cards? citibank icici hsbc buy\n"
     ]
    },
    {
     "name": "stderr",
     "output_type": "stream",
     "text": [
      "معالجة الاستعلامات:  52%|█████▎    | 525/1000 [32:32<28:46,  3.64s/استعلام]"
     ]
    },
    {
     "name": "stdout",
     "output_type": "stream",
     "text": [
      "Total documents in doc_data: 522931\n",
      "Sample doc_ids: ['1', '2', '3', '4', '5']\n",
      "Top indices: [320506 422716  25234 422715 320505]\n",
      "Additional words from top 5 documents: always one another\n",
      "🔍 Enhanced Query: Why am I misunderstood by some people? always one another\n"
     ]
    },
    {
     "name": "stderr",
     "output_type": "stream",
     "text": [
      "معالجة الاستعلامات:  53%|█████▎    | 526/1000 [32:35<28:40,  3.63s/استعلام]"
     ]
    },
    {
     "name": "stdout",
     "output_type": "stream",
     "text": [
      "Total documents in doc_data: 522931\n",
      "Sample doc_ids: ['1', '2', '3', '4', '5']\n",
      "Top indices: [482210  29273 236405  46561 206826]\n",
      "Additional words from top 5 documents: trader\n",
      "🔍 Enhanced Query: How much money one can make by trading stock? trader\n"
     ]
    },
    {
     "name": "stderr",
     "output_type": "stream",
     "text": [
      "معالجة الاستعلامات:  53%|█████▎    | 527/1000 [32:39<28:58,  3.68s/استعلام]"
     ]
    },
    {
     "name": "stdout",
     "output_type": "stream",
     "text": [
      "Total documents in doc_data: 522931\n",
      "Sample doc_ids: ['1', '2', '3', '4', '5']\n",
      "Top indices: [487203 172475 180873  25286 470993]\n",
      "Additional words from top 5 documents: best nonmarket investment\n",
      "🔍 Enhanced Query: What is marketing strategy? best nonmarket investment\n"
     ]
    },
    {
     "name": "stderr",
     "output_type": "stream",
     "text": [
      "معالجة الاستعلامات:  53%|█████▎    | 528/1000 [32:43<28:55,  3.68s/استعلام]"
     ]
    },
    {
     "name": "stdout",
     "output_type": "stream",
     "text": [
      "Total documents in doc_data: 522931\n",
      "Sample doc_ids: ['1', '2', '3', '4', '5']\n",
      "Top indices: [273118 124779 186690 500275 429470]\n",
      "Additional words from top 5 documents: cause boredom school motivate\n",
      "🔍 Enhanced Query: What are some of the most interesting excuses students give for missing class, or not completing an assignment? cause boredom school motivate\n"
     ]
    },
    {
     "name": "stderr",
     "output_type": "stream",
     "text": [
      "معالجة الاستعلامات:  53%|█████▎    | 529/1000 [32:46<28:45,  3.66s/استعلام]"
     ]
    },
    {
     "name": "stdout",
     "output_type": "stream",
     "text": [
      "Total documents in doc_data: 522931\n",
      "Sample doc_ids: ['1', '2', '3', '4', '5']\n",
      "Top indices: [214870 444875 487913 447236 214871]\n",
      "Additional words from top 5 documents: responsible demolition masjid react\n",
      "🔍 Enhanced Query: Why did the Hindus of India destroy the Babri Mosque? responsible demolition masjid react\n"
     ]
    },
    {
     "name": "stderr",
     "output_type": "stream",
     "text": [
      "معالجة الاستعلامات:  53%|█████▎    | 530/1000 [32:50<28:33,  3.65s/استعلام]"
     ]
    },
    {
     "name": "stdout",
     "output_type": "stream",
     "text": [
      "Total documents in doc_data: 522931\n",
      "Sample doc_ids: ['1', '2', '3', '4', '5']\n",
      "Top indices: [55510  5724  5265 64473 45854]\n",
      "Additional words from top 5 documents: illinois minnesota florida kentucky\n",
      "🔍 Enhanced Query: What are the safety precautions on handling shotguns proposed by the NRA in Wisconsin? illinois minnesota florida kentucky\n"
     ]
    },
    {
     "name": "stderr",
     "output_type": "stream",
     "text": [
      "معالجة الاستعلامات:  53%|█████▎    | 531/1000 [32:54<28:47,  3.68s/استعلام]"
     ]
    },
    {
     "name": "stdout",
     "output_type": "stream",
     "text": [
      "Total documents in doc_data: 522931\n",
      "Sample doc_ids: ['1', '2', '3', '4', '5']\n",
      "Top indices: [ 13870  25410  72945 386234 310391]\n",
      "Additional words from top 5 documents: online issuance india free\n",
      "🔍 Enhanced Query: How do I apply and receive pan card in 48 hours with new facilities? online issuance india free\n"
     ]
    },
    {
     "name": "stderr",
     "output_type": "stream",
     "text": [
      "معالجة الاستعلامات:  53%|█████▎    | 532/1000 [32:57<28:29,  3.65s/استعلام]"
     ]
    },
    {
     "name": "stdout",
     "output_type": "stream",
     "text": [
      "Total documents in doc_data: 522931\n",
      "Sample doc_ids: ['1', '2', '3', '4', '5']\n",
      "Top indices: [239111  20219  15543 262123 103629]\n",
      "Additional words from top 5 documents: girlwomen give blowjob casual\n",
      "🔍 Enhanced Query: Do Indian girls like rough sex? girlwomen give blowjob casual\n"
     ]
    },
    {
     "name": "stderr",
     "output_type": "stream",
     "text": [
      "معالجة الاستعلامات:  53%|█████▎    | 533/1000 [33:01<28:13,  3.63s/استعلام]"
     ]
    },
    {
     "name": "stdout",
     "output_type": "stream",
     "text": [
      "Total documents in doc_data: 522931\n",
      "Sample doc_ids: ['1', '2', '3', '4', '5']\n",
      "Top indices: [ 25555 334751 327813 328355 445586]\n",
      "Additional words from top 5 documents: musthave leader investors look\n",
      "🔍 Enhanced Query: What qualities and qualifications are required to be a future CEO? musthave leader investors look\n"
     ]
    },
    {
     "name": "stderr",
     "output_type": "stream",
     "text": [
      "معالجة الاستعلامات:  53%|█████▎    | 534/1000 [33:04<27:59,  3.60s/استعلام]"
     ]
    },
    {
     "name": "stdout",
     "output_type": "stream",
     "text": [
      "Total documents in doc_data: 522931\n",
      "Sample doc_ids: ['1', '2', '3', '4', '5']\n",
      "Top indices: [467839 485625 452747  47253 346545]\n",
      "Additional words from top 5 documents: show character world kid\n",
      "🔍 Enhanced Query: What is the best cartoon ever and why? show character world kid\n"
     ]
    },
    {
     "name": "stderr",
     "output_type": "stream",
     "text": [
      "معالجة الاستعلامات:  54%|█████▎    | 535/1000 [33:08<27:53,  3.60s/استعلام]"
     ]
    },
    {
     "name": "stdout",
     "output_type": "stream",
     "text": [
      "Total documents in doc_data: 522931\n",
      "Sample doc_ids: ['1', '2', '3', '4', '5']\n",
      "Top indices: [ 32495 436384 440061 481635  54853]\n",
      "Additional words from top 5 documents: create iphone get name\n",
      "🔍 Enhanced Query: Why is Siri not working? create iphone get name\n"
     ]
    },
    {
     "name": "stderr",
     "output_type": "stream",
     "text": [
      "معالجة الاستعلامات:  54%|█████▎    | 536/1000 [33:11<27:43,  3.58s/استعلام]"
     ]
    },
    {
     "name": "stdout",
     "output_type": "stream",
     "text": [
      "Total documents in doc_data: 522931\n",
      "Sample doc_ids: ['1', '2', '3', '4', '5']\n",
      "Top indices: [144796  56291  25763  56290 190089]\n",
      "Additional words from top 5 documents: plane example geometry help\n",
      "🔍 Enhanced Query: What are some examples of inclined planes? plane example geometry help\n"
     ]
    },
    {
     "name": "stderr",
     "output_type": "stream",
     "text": [
      "معالجة الاستعلامات:  54%|█████▎    | 537/1000 [33:15<27:49,  3.61s/استعلام]"
     ]
    },
    {
     "name": "stdout",
     "output_type": "stream",
     "text": [
      "Total documents in doc_data: 522931\n",
      "Sample doc_ids: ['1', '2', '3', '4', '5']\n",
      "Top indices: [227800 429497 105461  25845 158698]\n",
      "Additional words from top 5 documents: south worse america japan\n",
      "🔍 Enhanced Query: Why does North Korea hate The United States? south worse america japan\n"
     ]
    },
    {
     "name": "stderr",
     "output_type": "stream",
     "text": [
      "معالجة الاستعلامات:  54%|█████▍    | 538/1000 [33:19<28:02,  3.64s/استعلام]"
     ]
    },
    {
     "name": "stdout",
     "output_type": "stream",
     "text": [
      "Total documents in doc_data: 522931\n",
      "Sample doc_ids: ['1', '2', '3', '4', '5']\n",
      "Top indices: [512930 512931  25881 423331 456368]\n",
      "Additional words from top 5 documents: atom diameter size\n",
      "🔍 Enhanced Query: How can the atomic radius of niobium be determined? atom diameter size\n"
     ]
    },
    {
     "name": "stderr",
     "output_type": "stream",
     "text": [
      "معالجة الاستعلامات:  54%|█████▍    | 539/1000 [33:23<28:11,  3.67s/استعلام]"
     ]
    },
    {
     "name": "stdout",
     "output_type": "stream",
     "text": [
      "Total documents in doc_data: 522931\n",
      "Sample doc_ids: ['1', '2', '3', '4', '5']\n",
      "Top indices: [114607 399036 399037 509594 194724]\n",
      "Additional words from top 5 documents: industry downsides entrepreneur challenge\n",
      "🔍 Enhanced Query: What kind of problems industries are facing? industry downsides entrepreneur challenge\n"
     ]
    },
    {
     "name": "stderr",
     "output_type": "stream",
     "text": [
      "معالجة الاستعلامات:  54%|█████▍    | 540/1000 [33:26<28:23,  3.70s/استعلام]"
     ]
    },
    {
     "name": "stdout",
     "output_type": "stream",
     "text": [
      "Total documents in doc_data: 522931\n",
      "Sample doc_ids: ['1', '2', '3', '4', '5']\n",
      "Top indices: [ 35371  27574 467858  25963 516722]\n",
      "Additional words from top 5 documents: 500 rupee demonetize demonetization\n",
      "🔍 Enhanced Query: Why government bans 1000 rupees note and instead of they made 2000 rupees note? Will not make problems of change(khulle)in country? 500 rupee demonetize demonetization\n"
     ]
    },
    {
     "name": "stderr",
     "output_type": "stream",
     "text": [
      "معالجة الاستعلامات:  54%|█████▍    | 541/1000 [33:30<27:58,  3.66s/استعلام]"
     ]
    },
    {
     "name": "stdout",
     "output_type": "stream",
     "text": [
      "Total documents in doc_data: 522931\n",
      "Sample doc_ids: ['1', '2', '3', '4', '5']\n",
      "Top indices: [ 81411  81412  12801  70435 437485]\n",
      "Additional words from top 5 documents: actually faster phone difference\n",
      "🔍 Enhanced Query: What is 4g LTE? actually faster phone difference\n"
     ]
    },
    {
     "name": "stderr",
     "output_type": "stream",
     "text": [
      "معالجة الاستعلامات:  54%|█████▍    | 542/1000 [33:34<27:42,  3.63s/استعلام]"
     ]
    },
    {
     "name": "stdout",
     "output_type": "stream",
     "text": [
      "Total documents in doc_data: 522931\n",
      "Sample doc_ids: ['1', '2', '3', '4', '5']\n",
      "Top indices: [ 25996 141693 429502 141694 178371]\n",
      "Additional words from top 5 documents: find movie like watch\n",
      "🔍 Enhanced Query: What do you think about Fantastic Beasts? find movie like watch\n"
     ]
    },
    {
     "name": "stderr",
     "output_type": "stream",
     "text": [
      "معالجة الاستعلامات:  54%|█████▍    | 543/1000 [33:37<27:37,  3.63s/استعلام]"
     ]
    },
    {
     "name": "stdout",
     "output_type": "stream",
     "text": [
      "Total documents in doc_data: 522931\n",
      "Sample doc_ids: ['1', '2', '3', '4', '5']\n",
      "Top indices: [294118    617 143213 293401 362339]\n",
      "Additional words from top 5 documents: become trillionaire multibillionaire better\n",
      "🔍 Enhanced Query: How to be a billionaire in one day? become trillionaire multibillionaire better\n"
     ]
    },
    {
     "name": "stderr",
     "output_type": "stream",
     "text": [
      "معالجة الاستعلامات:  54%|█████▍    | 544/1000 [33:41<27:50,  3.66s/استعلام]"
     ]
    },
    {
     "name": "stdout",
     "output_type": "stream",
     "text": [
      "Total documents in doc_data: 522931\n",
      "Sample doc_ids: ['1', '2', '3', '4', '5']\n",
      "Top indices: [395377 176029  26007 395376 243920]\n",
      "Additional words from top 5 documents: \n",
      "No new words to add to query for beir\n"
     ]
    },
    {
     "name": "stderr",
     "output_type": "stream",
     "text": [
      "معالجة الاستعلامات:  55%|█████▍    | 545/1000 [33:45<28:03,  3.70s/استعلام]"
     ]
    },
    {
     "name": "stdout",
     "output_type": "stream",
     "text": [
      "Total documents in doc_data: 522931\n",
      "Sample doc_ids: ['1', '2', '3', '4', '5']\n",
      "Top indices: [346444 169967 169968  58204 404882]\n",
      "Additional words from top 5 documents: 45000 350000\n",
      "🔍 Enhanced Query: Which is the best laptop to buy under 40000? 45000 350000\n"
     ]
    },
    {
     "name": "stderr",
     "output_type": "stream",
     "text": [
      "معالجة الاستعلامات:  55%|█████▍    | 546/1000 [33:48<27:57,  3.69s/استعلام]"
     ]
    },
    {
     "name": "stdout",
     "output_type": "stream",
     "text": [
      "Total documents in doc_data: 522931\n",
      "Sample doc_ids: ['1', '2', '3', '4', '5']\n",
      "Top indices: [453582 219995 157717 470722 109687]\n",
      "Additional words from top 5 documents: friends celebrate\n",
      "🔍 Enhanced Query: What was the best gift I should give to my gf on her birthday? friends celebrate\n"
     ]
    },
    {
     "name": "stderr",
     "output_type": "stream",
     "text": [
      "معالجة الاستعلامات:  55%|█████▍    | 547/1000 [33:52<27:55,  3.70s/استعلام]"
     ]
    },
    {
     "name": "stdout",
     "output_type": "stream",
     "text": [
      "Total documents in doc_data: 522931\n",
      "Sample doc_ids: ['1', '2', '3', '4', '5']\n",
      "Top indices: [395404 408794 295569 340070 141650]\n",
      "Additional words from top 5 documents: best movie review actor\n",
      "🔍 Enhanced Query: What can we learn from Deepika Padukone (Bollywood actress)? best movie review actor\n"
     ]
    },
    {
     "name": "stderr",
     "output_type": "stream",
     "text": [
      "معالجة الاستعلامات:  55%|█████▍    | 548/1000 [33:56<27:46,  3.69s/استعلام]"
     ]
    },
    {
     "name": "stdout",
     "output_type": "stream",
     "text": [
      "Total documents in doc_data: 522931\n",
      "Sample doc_ids: ['1', '2', '3', '4', '5']\n",
      "Top indices: [ 26327 228433 492290 234626 324064]\n",
      "Additional words from top 5 documents: follow data int_min int_max\n",
      "🔍 Enhanced Query: What is the interquartile range? follow data int_min int_max\n"
     ]
    },
    {
     "name": "stderr",
     "output_type": "stream",
     "text": [
      "معالجة الاستعلامات:  55%|█████▍    | 549/1000 [33:59<27:26,  3.65s/استعلام]"
     ]
    },
    {
     "name": "stdout",
     "output_type": "stream",
     "text": [
      "Total documents in doc_data: 522931\n",
      "Sample doc_ids: ['1', '2', '3', '4', '5']\n",
      "Top indices: [ 26335 156899 294952 131250 131251]\n",
      "Additional words from top 5 documents: term marijuana affect smoke\n",
      "🔍 Enhanced Query: For how long can the effects of weed last? term marijuana affect smoke\n"
     ]
    },
    {
     "name": "stderr",
     "output_type": "stream",
     "text": [
      "معالجة الاستعلامات:  55%|█████▌    | 550/1000 [34:03<27:07,  3.62s/استعلام]"
     ]
    },
    {
     "name": "stdout",
     "output_type": "stream",
     "text": [
      "Total documents in doc_data: 522931\n",
      "Sample doc_ids: ['1', '2', '3', '4', '5']\n",
      "Top indices: [323477 373347 398584 120255 494512]\n",
      "Additional words from top 5 documents: iim indore campus mumbai\n",
      "🔍 Enhanced Query: What are the top marine engineering colleges in India? iim indore campus mumbai\n"
     ]
    },
    {
     "name": "stderr",
     "output_type": "stream",
     "text": [
      "معالجة الاستعلامات:  55%|█████▌    | 551/1000 [34:06<27:08,  3.63s/استعلام]"
     ]
    },
    {
     "name": "stdout",
     "output_type": "stream",
     "text": [
      "Total documents in doc_data: 522931\n",
      "Sample doc_ids: ['1', '2', '3', '4', '5']\n",
      "Top indices: [403202 128908   9401 244945 244946]\n",
      "Additional words from top 5 documents: mystery novels\n",
      "🔍 Enhanced Query: Which is the best book for SSB? mystery novels\n"
     ]
    },
    {
     "name": "stderr",
     "output_type": "stream",
     "text": [
      "معالجة الاستعلامات:  55%|█████▌    | 552/1000 [34:10<26:54,  3.60s/استعلام]"
     ]
    },
    {
     "name": "stdout",
     "output_type": "stream",
     "text": [
      "Total documents in doc_data: 522931\n",
      "Sample doc_ids: ['1', '2', '3', '4', '5']\n",
      "Top indices: [184175  26418 195818 246127 457923]\n",
      "Additional words from top 5 documents: definition freedom world say\n",
      "🔍 Enhanced Query: What does \"home country\" mean? definition freedom world say\n"
     ]
    },
    {
     "name": "stderr",
     "output_type": "stream",
     "text": [
      "معالجة الاستعلامات:  55%|█████▌    | 553/1000 [34:14<26:53,  3.61s/استعلام]"
     ]
    },
    {
     "name": "stdout",
     "output_type": "stream",
     "text": [
      "Total documents in doc_data: 522931\n",
      "Sample doc_ids: ['1', '2', '3', '4', '5']\n",
      "Top indices: [366816 397276 397277 302292 453120]\n",
      "Additional words from top 5 documents: market products ebay store\n",
      "🔍 Enhanced Query: How do I promote my product on Amazon? market products ebay store\n"
     ]
    },
    {
     "name": "stderr",
     "output_type": "stream",
     "text": [
      "معالجة الاستعلامات:  55%|█████▌    | 554/1000 [34:17<26:56,  3.62s/استعلام]"
     ]
    },
    {
     "name": "stdout",
     "output_type": "stream",
     "text": [
      "Total documents in doc_data: 522931\n",
      "Sample doc_ids: ['1', '2', '3', '4', '5']\n",
      "Top indices: [166168 145405 391430  50746  50747]\n",
      "Additional words from top 5 documents: circuit theory electrodynamics analog\n",
      "🔍 Enhanced Query: What are the best Books for Signals And Systems? circuit theory electrodynamics analog\n"
     ]
    },
    {
     "name": "stderr",
     "output_type": "stream",
     "text": [
      "معالجة الاستعلامات:  56%|█████▌    | 555/1000 [34:21<26:57,  3.64s/استعلام]"
     ]
    },
    {
     "name": "stdout",
     "output_type": "stream",
     "text": [
      "Total documents in doc_data: 522931\n",
      "Sample doc_ids: ['1', '2', '3', '4', '5']\n",
      "Top indices: [457384 504748 327083 457383 504747]\n",
      "Additional words from top 5 documents: consequences change political effect\n",
      "🔍 Enhanced Query: How did the Catholic Church respond to the Protestant Reformation? consequences change political effect\n"
     ]
    },
    {
     "name": "stderr",
     "output_type": "stream",
     "text": [
      "معالجة الاستعلامات:  56%|█████▌    | 556/1000 [34:25<26:42,  3.61s/استعلام]"
     ]
    },
    {
     "name": "stdout",
     "output_type": "stream",
     "text": [
      "Total documents in doc_data: 522931\n",
      "Sample doc_ids: ['1', '2', '3', '4', '5']\n",
      "Top indices: [176741 349446  26472 349445  38484]\n",
      "Additional words from top 5 documents: websites traffic\n",
      "🔍 Enhanced Query: How can I increase our website conversion rate? websites traffic\n"
     ]
    },
    {
     "name": "stderr",
     "output_type": "stream",
     "text": [
      "معالجة الاستعلامات:  56%|█████▌    | 557/1000 [34:28<26:43,  3.62s/استعلام]"
     ]
    },
    {
     "name": "stdout",
     "output_type": "stream",
     "text": [
      "Total documents in doc_data: 522931\n",
      "Sample doc_ids: ['1', '2', '3', '4', '5']\n",
      "Top indices: [ 26573 475094 424579  22269 126409]\n",
      "Additional words from top 5 documents: pros con marriage economic\n",
      "🔍 Enhanced Query: What are some of the advantages and disadvantages of arranged marriages? pros con marriage economic\n"
     ]
    },
    {
     "name": "stderr",
     "output_type": "stream",
     "text": [
      "معالجة الاستعلامات:  56%|█████▌    | 558/1000 [34:32<26:30,  3.60s/استعلام]"
     ]
    },
    {
     "name": "stdout",
     "output_type": "stream",
     "text": [
      "Total documents in doc_data: 522931\n",
      "Sample doc_ids: ['1', '2', '3', '4', '5']\n",
      "Top indices: [341944  26584 134691 319483 499810]\n",
      "Additional words from top 5 documents: loop improve gain stability\n",
      "🔍 Enhanced Query: What are examples of positive and negative feedback? loop improve gain stability\n"
     ]
    },
    {
     "name": "stderr",
     "output_type": "stream",
     "text": [
      "معالجة الاستعلامات:  56%|█████▌    | 559/1000 [34:35<26:36,  3.62s/استعلام]"
     ]
    },
    {
     "name": "stdout",
     "output_type": "stream",
     "text": [
      "Total documents in doc_data: 522931\n",
      "Sample doc_ids: ['1', '2', '3', '4', '5']\n",
      "Top indices: [ 26661 449860 104668 337904  47371]\n",
      "Additional words from top 5 documents: apply criteria ntse international\n",
      "🔍 Enhanced Query: Can I get a scholarship for MS in Australian universities with CGPA 3.65, IELTS 8.0 and no research publication? apply criteria ntse international\n"
     ]
    },
    {
     "name": "stderr",
     "output_type": "stream",
     "text": [
      "معالجة الاستعلامات:  56%|█████▌    | 560/1000 [34:39<26:26,  3.61s/استعلام]"
     ]
    },
    {
     "name": "stdout",
     "output_type": "stream",
     "text": [
      "Total documents in doc_data: 522931\n",
      "Sample doc_ids: ['1', '2', '3', '4', '5']\n",
      "Top indices: [ 62677 148327  17252 301527 434296]\n",
      "Additional words from top 5 documents: aspirants qualification higher study\n",
      "🔍 Enhanced Query: IAS: is there any IAS officer whose graduation percentage is less than 60 %? aspirants qualification higher study\n"
     ]
    },
    {
     "name": "stderr",
     "output_type": "stream",
     "text": [
      "معالجة الاستعلامات:  56%|█████▌    | 561/1000 [34:43<26:20,  3.60s/استعلام]"
     ]
    },
    {
     "name": "stdout",
     "output_type": "stream",
     "text": [
      "Total documents in doc_data: 522931\n",
      "Sample doc_ids: ['1', '2', '3', '4', '5']\n",
      "Top indices: [412546 322055 492347 322054 170411]\n",
      "Additional words from top 5 documents: languages\n",
      "🔍 Enhanced Query: Computer Science: What is a programming language? languages\n"
     ]
    },
    {
     "name": "stderr",
     "output_type": "stream",
     "text": [
      "معالجة الاستعلامات:  56%|█████▌    | 562/1000 [34:46<26:28,  3.63s/استعلام]"
     ]
    },
    {
     "name": "stdout",
     "output_type": "stream",
     "text": [
      "Total documents in doc_data: 522931\n",
      "Sample doc_ids: ['1', '2', '3', '4', '5']\n",
      "Top indices: [ 26789 147281 429554 455569 130165]\n",
      "Additional words from top 5 documents: difference aluminum rutherfords gold\n",
      "🔍 Enhanced Query: Why was tin foil invented? difference aluminum rutherfords gold\n"
     ]
    },
    {
     "name": "stderr",
     "output_type": "stream",
     "text": [
      "معالجة الاستعلامات:  56%|█████▋    | 563/1000 [34:50<26:40,  3.66s/استعلام]"
     ]
    },
    {
     "name": "stdout",
     "output_type": "stream",
     "text": [
      "Total documents in doc_data: 522931\n",
      "Sample doc_ids: ['1', '2', '3', '4', '5']\n",
      "Top indices: [415293 407181 166122 109312 507262]\n",
      "Additional words from top 5 documents: know transgender\n",
      "🔍 Enhanced Query: Why do trans men often look more \"convincing\" than trans women? know transgender\n"
     ]
    },
    {
     "name": "stderr",
     "output_type": "stream",
     "text": [
      "معالجة الاستعلامات:  56%|█████▋    | 564/1000 [34:54<26:42,  3.68s/استعلام]"
     ]
    },
    {
     "name": "stdout",
     "output_type": "stream",
     "text": [
      "Total documents in doc_data: 522931\n",
      "Sample doc_ids: ['1', '2', '3', '4', '5']\n",
      "Top indices: [397493 252072 252071 322441 126181]\n",
      "Additional words from top 5 documents: innovations\n",
      "🔍 Enhanced Query: Can India beat Japan in technology in future? innovations\n"
     ]
    },
    {
     "name": "stderr",
     "output_type": "stream",
     "text": [
      "معالجة الاستعلامات:  56%|█████▋    | 565/1000 [34:57<26:34,  3.66s/استعلام]"
     ]
    },
    {
     "name": "stdout",
     "output_type": "stream",
     "text": [
      "Total documents in doc_data: 522931\n",
      "Sample doc_ids: ['1', '2', '3', '4', '5']\n",
      "Top indices: [306232 385109 131509 382725 520374]\n",
      "Additional words from top 5 documents: college mumbai pursue bangalore\n",
      "🔍 Enhanced Query: Career Advice: I have studied law in india. Can I get a job in the USA? college mumbai pursue bangalore\n"
     ]
    },
    {
     "name": "stderr",
     "output_type": "stream",
     "text": [
      "معالجة الاستعلامات:  57%|█████▋    | 566/1000 [35:01<26:17,  3.63s/استعلام]"
     ]
    },
    {
     "name": "stdout",
     "output_type": "stream",
     "text": [
      "Total documents in doc_data: 522931\n",
      "Sample doc_ids: ['1', '2', '3', '4', '5']\n",
      "Top indices: [ 69280  69279 294474 232499 271733]\n",
      "Additional words from top 5 documents: improve performance slow\n",
      "🔍 Enhanced Query: How do I speed up my laptop? improve performance slow\n"
     ]
    },
    {
     "name": "stderr",
     "output_type": "stream",
     "text": [
      "معالجة الاستعلامات:  57%|█████▋    | 567/1000 [35:04<26:03,  3.61s/استعلام]"
     ]
    },
    {
     "name": "stdout",
     "output_type": "stream",
     "text": [
      "Total documents in doc_data: 522931\n",
      "Sample doc_ids: ['1', '2', '3', '4', '5']\n",
      "Top indices: [236726 138118 376852  19452 197356]\n",
      "Additional words from top 5 documents: customary law india indian\n",
      "🔍 Enhanced Query: What are the basic laws that Indians are not aware of? customary law india indian\n"
     ]
    },
    {
     "name": "stderr",
     "output_type": "stream",
     "text": [
      "معالجة الاستعلامات:  57%|█████▋    | 568/1000 [35:08<26:01,  3.61s/استعلام]"
     ]
    },
    {
     "name": "stdout",
     "output_type": "stream",
     "text": [
      "Total documents in doc_data: 522931\n",
      "Sample doc_ids: ['1', '2', '3', '4', '5']\n",
      "Top indices: [132474 364713 131196 313021 180908]\n",
      "Additional words from top 5 documents: balsamic vinegar recipes great\n",
      "🔍 Enhanced Query: Using common household ingredients, how can I substitute for red wine in cooking? balsamic vinegar recipes great\n"
     ]
    },
    {
     "name": "stderr",
     "output_type": "stream",
     "text": [
      "معالجة الاستعلامات:  57%|█████▋    | 569/1000 [35:12<25:58,  3.62s/استعلام]"
     ]
    },
    {
     "name": "stdout",
     "output_type": "stream",
     "text": [
      "Total documents in doc_data: 522931\n",
      "Sample doc_ids: ['1', '2', '3', '4', '5']\n",
      "Top indices: [ 82658  81656 434077 510106  82650]\n",
      "Additional words from top 5 documents: ucc finance statement interest\n",
      "🔍 Enhanced Query: Was the ISC Accounts 2016 paper tough? ucc finance statement interest\n"
     ]
    },
    {
     "name": "stderr",
     "output_type": "stream",
     "text": [
      "معالجة الاستعلامات:  57%|█████▋    | 570/1000 [35:15<26:04,  3.64s/استعلام]"
     ]
    },
    {
     "name": "stdout",
     "output_type": "stream",
     "text": [
      "Total documents in doc_data: 522931\n",
      "Sample doc_ids: ['1', '2', '3', '4', '5']\n",
      "Top indices: [ 46266   6494  48344  42035 225580]\n",
      "Additional words from top 5 documents: rottweilerpitbull shepherdhusky puppy dobermandachshund\n",
      "🔍 Enhanced Query: How do I stop my Pomeranian/Shih Tzu mix from humping my furniture? rottweilerpitbull shepherdhusky puppy dobermandachshund\n"
     ]
    },
    {
     "name": "stderr",
     "output_type": "stream",
     "text": [
      "معالجة الاستعلامات:  57%|█████▋    | 571/1000 [35:19<25:52,  3.62s/استعلام]"
     ]
    },
    {
     "name": "stdout",
     "output_type": "stream",
     "text": [
      "Total documents in doc_data: 522931\n",
      "Sample doc_ids: ['1', '2', '3', '4', '5']\n",
      "Top indices: [331597 240369 464427 464426 231177]\n",
      "No similar documents found for beir with sufficient similarity\n"
     ]
    },
    {
     "name": "stderr",
     "output_type": "stream",
     "text": [
      "معالجة الاستعلامات:  57%|█████▋    | 572/1000 [35:23<26:02,  3.65s/استعلام]"
     ]
    },
    {
     "name": "stdout",
     "output_type": "stream",
     "text": [
      "Total documents in doc_data: 522931\n",
      "Sample doc_ids: ['1', '2', '3', '4', '5']\n",
      "Top indices: [ 27496  64922  64921 317323 478578]\n",
      "Additional words from top 5 documents: cosmetologist pros con course\n",
      "🔍 Enhanced Query: What is the best platform for online cosmetology continuing education? cosmetologist pros con course\n"
     ]
    },
    {
     "name": "stderr",
     "output_type": "stream",
     "text": [
      "معالجة الاستعلامات:  57%|█████▋    | 573/1000 [35:26<25:50,  3.63s/استعلام]"
     ]
    },
    {
     "name": "stdout",
     "output_type": "stream",
     "text": [
      "Total documents in doc_data: 522931\n",
      "Sample doc_ids: ['1', '2', '3', '4', '5']\n",
      "Top indices: [346278 267355 360004 234955 435675]\n",
      "Additional words from top 5 documents: relationships friends around maintain\n",
      "🔍 Enhanced Query: How can I improve my social circle? relationships friends around maintain\n"
     ]
    },
    {
     "name": "stderr",
     "output_type": "stream",
     "text": [
      "معالجة الاستعلامات:  57%|█████▋    | 574/1000 [35:30<25:34,  3.60s/استعلام]"
     ]
    },
    {
     "name": "stdout",
     "output_type": "stream",
     "text": [
      "Total documents in doc_data: 522931\n",
      "Sample doc_ids: ['1', '2', '3', '4', '5']\n",
      "Top indices: [259656 352255 357423 129555 251885]\n",
      "Additional words from top 5 documents: sense reality life production\n",
      "🔍 Enhanced Query: What is perception? sense reality life production\n"
     ]
    },
    {
     "name": "stderr",
     "output_type": "stream",
     "text": [
      "معالجة الاستعلامات:  57%|█████▊    | 575/1000 [35:33<25:22,  3.58s/استعلام]"
     ]
    },
    {
     "name": "stdout",
     "output_type": "stream",
     "text": [
      "Total documents in doc_data: 522931\n",
      "Sample doc_ids: ['1', '2', '3', '4', '5']\n",
      "Top indices: [ 25963  37131 485870  21705 294330]\n",
      "Additional words from top 5 documents: 1000 replace secure currency\n",
      "🔍 Enhanced Query: What are the new security features in 2000 rupee notes? Do you think the security features are enough to make sure nobody is able to counterfeit it? 1000 replace secure currency\n"
     ]
    },
    {
     "name": "stderr",
     "output_type": "stream",
     "text": [
      "معالجة الاستعلامات:  58%|█████▊    | 576/1000 [35:37<25:17,  3.58s/استعلام]"
     ]
    },
    {
     "name": "stdout",
     "output_type": "stream",
     "text": [
      "Total documents in doc_data: 522931\n",
      "Sample doc_ids: ['1', '2', '3', '4', '5']\n",
      "Top indices: [395770 279212 502766 342697 401824]\n",
      "Additional words from top 5 documents: jesus believe\n",
      "🔍 Enhanced Query: Is god a psychopath? jesus believe\n"
     ]
    },
    {
     "name": "stderr",
     "output_type": "stream",
     "text": [
      "معالجة الاستعلامات:  58%|█████▊    | 577/1000 [35:40<25:12,  3.57s/استعلام]"
     ]
    },
    {
     "name": "stdout",
     "output_type": "stream",
     "text": [
      "Total documents in doc_data: 522931\n",
      "Sample doc_ids: ['1', '2', '3', '4', '5']\n",
      "Top indices: [ 37516  27815 261530 125804 289475]\n",
      "Additional words from top 5 documents: offer internships indian students\n",
      "🔍 Enhanced Query: Is it possible for an international student to work in NASA? offer internships indian students\n"
     ]
    },
    {
     "name": "stderr",
     "output_type": "stream",
     "text": [
      "معالجة الاستعلامات:  58%|█████▊    | 578/1000 [35:44<25:07,  3.57s/استعلام]"
     ]
    },
    {
     "name": "stdout",
     "output_type": "stream",
     "text": [
      "Total documents in doc_data: 522931\n",
      "Sample doc_ids: ['1', '2', '3', '4', '5']\n",
      "Top indices: [380841 453404   3794   3795 429350]\n",
      "Additional words from top 5 documents: forget remember life everything\n",
      "🔍 Enhanced Query: How can I stop thinking about my past? forget remember life everything\n"
     ]
    },
    {
     "name": "stderr",
     "output_type": "stream",
     "text": [
      "معالجة الاستعلامات:  58%|█████▊    | 579/1000 [35:48<25:09,  3.59s/استعلام]"
     ]
    },
    {
     "name": "stdout",
     "output_type": "stream",
     "text": [
      "Total documents in doc_data: 522931\n",
      "Sample doc_ids: ['1', '2', '3', '4', '5']\n",
      "Top indices: [183121 280993 292971 134343 342973]\n",
      "Additional words from top 5 documents: speak online site websites\n",
      "🔍 Enhanced Query: What is the best way to learn English via Quora? speak online site websites\n"
     ]
    },
    {
     "name": "stderr",
     "output_type": "stream",
     "text": [
      "معالجة الاستعلامات:  58%|█████▊    | 580/1000 [35:51<25:30,  3.64s/استعلام]"
     ]
    },
    {
     "name": "stdout",
     "output_type": "stream",
     "text": [
      "Total documents in doc_data: 522931\n",
      "Sample doc_ids: ['1', '2', '3', '4', '5']\n",
      "Top indices: [ 14300 194452 314230 324994 250317]\n",
      "Additional words from top 5 documents: treatment remedy homeopathy acnes\n",
      "🔍 Enhanced Query: Why haven't we found a cure to acne? treatment remedy homeopathy acnes\n"
     ]
    },
    {
     "name": "stderr",
     "output_type": "stream",
     "text": [
      "معالجة الاستعلامات:  58%|█████▊    | 581/1000 [35:55<25:34,  3.66s/استعلام]"
     ]
    },
    {
     "name": "stdout",
     "output_type": "stream",
     "text": [
      "Total documents in doc_data: 522931\n",
      "Sample doc_ids: ['1', '2', '3', '4', '5']\n",
      "Top indices: [ 28009 280302 139782  51692 134962]\n",
      "Additional words from top 5 documents: iranians pakistan india\n",
      "🔍 Enhanced Query: How do Iranian think of China? iranians pakistan india\n"
     ]
    },
    {
     "name": "stderr",
     "output_type": "stream",
     "text": [
      "معالجة الاستعلامات:  58%|█████▊    | 582/1000 [35:59<25:36,  3.68s/استعلام]"
     ]
    },
    {
     "name": "stdout",
     "output_type": "stream",
     "text": [
      "Total documents in doc_data: 522931\n",
      "Sample doc_ids: ['1', '2', '3', '4', '5']\n",
      "Top indices: [123033 153812 283516  28120  11273]\n",
      "Additional words from top 5 documents: placement consultants immigration startups\n",
      "🔍 Enhanced Query: Which is the best job consultant in pune for mechanical engineering job? placement consultants immigration startups\n"
     ]
    },
    {
     "name": "stderr",
     "output_type": "stream",
     "text": [
      "معالجة الاستعلامات:  58%|█████▊    | 583/1000 [36:03<25:38,  3.69s/استعلام]"
     ]
    },
    {
     "name": "stdout",
     "output_type": "stream",
     "text": [
      "Total documents in doc_data: 522931\n",
      "Sample doc_ids: ['1', '2', '3', '4', '5']\n",
      "Top indices: [261709 261708  54774 414385 503429]\n",
      "Additional words from top 5 documents: gravity\n",
      "🔍 Enhanced Query: Why doesn't the Moon fall down on Earth due to gravitational force? gravity\n"
     ]
    },
    {
     "name": "stderr",
     "output_type": "stream",
     "text": [
      "معالجة الاستعلامات:  58%|█████▊    | 584/1000 [36:06<25:17,  3.65s/استعلام]"
     ]
    },
    {
     "name": "stdout",
     "output_type": "stream",
     "text": [
      "Total documents in doc_data: 522931\n",
      "Sample doc_ids: ['1', '2', '3', '4', '5']\n",
      "Top indices: [503788 392430  10533 280662 325827]\n",
      "Additional words from top 5 documents: support friends\n",
      "🔍 Enhanced Query: Why China helping Pakistan? support friends\n"
     ]
    },
    {
     "name": "stderr",
     "output_type": "stream",
     "text": [
      "معالجة الاستعلامات:  58%|█████▊    | 585/1000 [36:10<25:04,  3.63s/استعلام]"
     ]
    },
    {
     "name": "stdout",
     "output_type": "stream",
     "text": [
      "Total documents in doc_data: 522931\n",
      "Sample doc_ids: ['1', '2', '3', '4', '5']\n",
      "Top indices: [101353  77258  56273 496128 408662]\n",
      "Additional words from top 5 documents: line electrical spark earth\n",
      "🔍 Enhanced Query: Why doesn't neutral wire give a shock? line electrical spark earth\n"
     ]
    },
    {
     "name": "stderr",
     "output_type": "stream",
     "text": [
      "معالجة الاستعلامات:  59%|█████▊    | 586/1000 [36:13<25:05,  3.64s/استعلام]"
     ]
    },
    {
     "name": "stdout",
     "output_type": "stream",
     "text": [
      "Total documents in doc_data: 522931\n",
      "Sample doc_ids: ['1', '2', '3', '4', '5']\n",
      "Top indices: [ 28222 451840 518643  81503 386038]\n",
      "Additional words from top 5 documents: case linode cheaper amazon\n",
      "🔍 Enhanced Query: What's the best cloud storage for you? case linode cheaper amazon\n"
     ]
    },
    {
     "name": "stderr",
     "output_type": "stream",
     "text": [
      "معالجة الاستعلامات:  59%|█████▊    | 587/1000 [36:17<25:14,  3.67s/استعلام]"
     ]
    },
    {
     "name": "stdout",
     "output_type": "stream",
     "text": [
      "Total documents in doc_data: 522931\n",
      "Sample doc_ids: ['1', '2', '3', '4', '5']\n",
      "Top indices: [338283  28227 358843 473817 201675]\n",
      "Additional words from top 5 documents: deal roommate annoy doesnt\n",
      "🔍 Enhanced Query: How do I get rid from the irritating roomate? deal roommate annoy doesnt\n"
     ]
    },
    {
     "name": "stderr",
     "output_type": "stream",
     "text": [
      "معالجة الاستعلامات:  59%|█████▉    | 588/1000 [36:21<25:24,  3.70s/استعلام]"
     ]
    },
    {
     "name": "stdout",
     "output_type": "stream",
     "text": [
      "Total documents in doc_data: 522931\n",
      "Sample doc_ids: ['1', '2', '3', '4', '5']\n",
      "Top indices: [ 35553 183521 441282 407975 497507]\n",
      "Additional words from top 5 documents: torrents ban anyone\n",
      "🔍 Enhanced Query: Can I be arrested for Downloading TV series from torrent in India? torrents ban anyone\n"
     ]
    },
    {
     "name": "stderr",
     "output_type": "stream",
     "text": [
      "معالجة الاستعلامات:  59%|█████▉    | 589/1000 [36:24<25:05,  3.66s/استعلام]"
     ]
    },
    {
     "name": "stdout",
     "output_type": "stream",
     "text": [
      "Total documents in doc_data: 522931\n",
      "Sample doc_ids: ['1', '2', '3', '4', '5']\n",
      "Top indices: [235567  28307  45472 250005 202821]\n",
      "Additional words from top 5 documents: immigration consultants bangalore consultancy\n",
      "🔍 Enhanced Query: Can anyone tell which is the best consultant for Canada in Hyderabad? immigration consultants bangalore consultancy\n"
     ]
    },
    {
     "name": "stderr",
     "output_type": "stream",
     "text": [
      "معالجة الاستعلامات:  59%|█████▉    | 590/1000 [36:28<25:01,  3.66s/استعلام]"
     ]
    },
    {
     "name": "stdout",
     "output_type": "stream",
     "text": [
      "Total documents in doc_data: 522931\n",
      "Sample doc_ids: ['1', '2', '3', '4', '5']\n",
      "Top indices: [391472 410017  32301 213099 391471]\n",
      "Additional words from top 5 documents: describe voice squeaky inhale\n",
      "🔍 Enhanced Query: How does helium make a person sound high pitched? describe voice squeaky inhale\n"
     ]
    },
    {
     "name": "stderr",
     "output_type": "stream",
     "text": [
      "معالجة الاستعلامات:  59%|█████▉    | 591/1000 [36:32<24:49,  3.64s/استعلام]"
     ]
    },
    {
     "name": "stdout",
     "output_type": "stream",
     "text": [
      "Total documents in doc_data: 522931\n",
      "Sample doc_ids: ['1', '2', '3', '4', '5']\n",
      "Top indices: [ 95429  28324 489908 101482 102746]\n",
      "Additional words from top 5 documents: shave remove hairs\n",
      "🔍 Enhanced Query: How do I trim my pubic hair? shave remove hairs\n"
     ]
    },
    {
     "name": "stderr",
     "output_type": "stream",
     "text": [
      "معالجة الاستعلامات:  59%|█████▉    | 592/1000 [36:35<24:39,  3.63s/استعلام]"
     ]
    },
    {
     "name": "stdout",
     "output_type": "stream",
     "text": [
      "Total documents in doc_data: 522931\n",
      "Sample doc_ids: ['1', '2', '3', '4', '5']\n",
      "Top indices: [339023 379307 379308  23999 178848]\n",
      "Additional words from top 5 documents: \n",
      "No new words to add to query for beir\n"
     ]
    },
    {
     "name": "stderr",
     "output_type": "stream",
     "text": [
      "معالجة الاستعلامات:  59%|█████▉    | 593/1000 [36:39<24:27,  3.60s/استعلام]"
     ]
    },
    {
     "name": "stdout",
     "output_type": "stream",
     "text": [
      "Total documents in doc_data: 522931\n",
      "Sample doc_ids: ['1', '2', '3', '4', '5']\n",
      "Top indices: [114604  28391 126419 126418  55796]\n",
      "Additional words from top 5 documents: best brainstorm innovative\n",
      "🔍 Enhanced Query: Where do great ideas come from? best brainstorm innovative\n"
     ]
    },
    {
     "name": "stderr",
     "output_type": "stream",
     "text": [
      "معالجة الاستعلامات:  59%|█████▉    | 594/1000 [36:42<24:21,  3.60s/استعلام]"
     ]
    },
    {
     "name": "stdout",
     "output_type": "stream",
     "text": [
      "Total documents in doc_data: 522931\n",
      "Sample doc_ids: ['1', '2', '3', '4', '5']\n",
      "Top indices: [312525  28399 401996 175046 172844]\n",
      "Additional words from top 5 documents: mahatma gandhi father pakistan\n",
      "🔍 Enhanced Query: Who were some great philosophers from India? mahatma gandhi father pakistan\n"
     ]
    },
    {
     "name": "stderr",
     "output_type": "stream",
     "text": [
      "معالجة الاستعلامات:  60%|█████▉    | 595/1000 [36:46<24:11,  3.58s/استعلام]"
     ]
    },
    {
     "name": "stdout",
     "output_type": "stream",
     "text": [
      "Total documents in doc_data: 522931\n",
      "Sample doc_ids: ['1', '2', '3', '4', '5']\n",
      "Top indices: [360172 202668 202667 335825 130522]\n",
      "Additional words from top 5 documents: lick diarrhea bad kissers\n",
      "🔍 Enhanced Query: Will kissing your dog make you sick? lick diarrhea bad kissers\n"
     ]
    },
    {
     "name": "stderr",
     "output_type": "stream",
     "text": [
      "معالجة الاستعلامات:  60%|█████▉    | 596/1000 [36:50<24:09,  3.59s/استعلام]"
     ]
    },
    {
     "name": "stdout",
     "output_type": "stream",
     "text": [
      "Total documents in doc_data: 522931\n",
      "Sample doc_ids: ['1', '2', '3', '4', '5']\n",
      "Top indices: [340272 322059 150390 382963 283845]\n",
      "Additional words from top 5 documents: beginner research\n",
      "🔍 Enhanced Query: How do I start a project? beginner research\n"
     ]
    },
    {
     "name": "stderr",
     "output_type": "stream",
     "text": [
      "معالجة الاستعلامات:  60%|█████▉    | 597/1000 [36:53<24:12,  3.61s/استعلام]"
     ]
    },
    {
     "name": "stdout",
     "output_type": "stream",
     "text": [
      "Total documents in doc_data: 522931\n",
      "Sample doc_ids: ['1', '2', '3', '4', '5']\n",
      "Top indices: [514044 162840 433973 514045 274930]\n",
      "Additional words from top 5 documents: become run consider\n",
      "🔍 Enhanced Query: Was it the right choice to make George Washington the first President of the United States? become run consider\n"
     ]
    },
    {
     "name": "stderr",
     "output_type": "stream",
     "text": [
      "معالجة الاستعلامات:  60%|█████▉    | 598/1000 [36:57<24:19,  3.63s/استعلام]"
     ]
    },
    {
     "name": "stdout",
     "output_type": "stream",
     "text": [
      "Total documents in doc_data: 522931\n",
      "Sample doc_ids: ['1', '2', '3', '4', '5']\n",
      "Top indices: [ 28554   9426 248910 160258  16317]\n",
      "Additional words from top 5 documents: cure\n",
      "🔍 Enhanced Query: Does Future the rapper have diabetes? cure\n"
     ]
    },
    {
     "name": "stderr",
     "output_type": "stream",
     "text": [
      "معالجة الاستعلامات:  60%|█████▉    | 599/1000 [37:00<24:11,  3.62s/استعلام]"
     ]
    },
    {
     "name": "stdout",
     "output_type": "stream",
     "text": [
      "Total documents in doc_data: 522931\n",
      "Sample doc_ids: ['1', '2', '3', '4', '5']\n",
      "Top indices: [330049 245214 245213 258296 210490]\n",
      "Additional words from top 5 documents: photo photos best selfies\n",
      "🔍 Enhanced Query: What’s the funniest picture ever taken? photo photos best selfies\n"
     ]
    },
    {
     "name": "stderr",
     "output_type": "stream",
     "text": [
      "معالجة الاستعلامات:  60%|██████    | 600/1000 [37:04<24:27,  3.67s/استعلام]"
     ]
    },
    {
     "name": "stdout",
     "output_type": "stream",
     "text": [
      "Total documents in doc_data: 522931\n",
      "Sample doc_ids: ['1', '2', '3', '4', '5']\n",
      "Top indices: [464258  95685 269951 221186 231032]\n",
      "Additional words from top 5 documents: promote best\n",
      "🔍 Enhanced Query: What are some ways to blog? promote best\n"
     ]
    },
    {
     "name": "stderr",
     "output_type": "stream",
     "text": [
      "معالجة الاستعلامات:  60%|██████    | 601/1000 [37:08<24:21,  3.66s/استعلام]"
     ]
    },
    {
     "name": "stdout",
     "output_type": "stream",
     "text": [
      "Total documents in doc_data: 522931\n",
      "Sample doc_ids: ['1', '2', '3', '4', '5']\n",
      "Top indices: [ 28689  16774  16775 462933 205484]\n",
      "Additional words from top 5 documents: learn sing online best\n",
      "🔍 Enhanced Query: Before making a telephone call, do you ever rehearse what you are going to say? Why? learn sing online best\n"
     ]
    },
    {
     "name": "stderr",
     "output_type": "stream",
     "text": [
      "معالجة الاستعلامات:  60%|██████    | 602/1000 [37:12<24:23,  3.68s/استعلام]"
     ]
    },
    {
     "name": "stdout",
     "output_type": "stream",
     "text": [
      "Total documents in doc_data: 522931\n",
      "Sample doc_ids: ['1', '2', '3', '4', '5']\n",
      "Top indices: [221828 489293 299592 127053 401989]\n",
      "No similar documents found for beir with sufficient similarity\n"
     ]
    },
    {
     "name": "stderr",
     "output_type": "stream",
     "text": [
      "معالجة الاستعلامات:  60%|██████    | 603/1000 [37:15<24:24,  3.69s/استعلام]"
     ]
    },
    {
     "name": "stdout",
     "output_type": "stream",
     "text": [
      "Total documents in doc_data: 522931\n",
      "Sample doc_ids: ['1', '2', '3', '4', '5']\n",
      "Top indices: [330601 175274 465272 452508 390263]\n",
      "Additional words from top 5 documents: cheapest removalist australia find\n",
      "🔍 Enhanced Query: Where can I get very affordable towing & recovery services in Sutherland shire? cheapest removalist australia find\n"
     ]
    },
    {
     "name": "stderr",
     "output_type": "stream",
     "text": [
      "معالجة الاستعلامات:  60%|██████    | 604/1000 [37:19<24:13,  3.67s/استعلام]"
     ]
    },
    {
     "name": "stdout",
     "output_type": "stream",
     "text": [
      "Total documents in doc_data: 522931\n",
      "Sample doc_ids: ['1', '2', '3', '4', '5']\n",
      "Top indices: [ 19492  28833  19491 351423 351424]\n",
      "Additional words from top 5 documents: gps best grow popularity\n",
      "🔍 Enhanced Query: Why is geocaching popular? gps best grow popularity\n"
     ]
    },
    {
     "name": "stderr",
     "output_type": "stream",
     "text": [
      "معالجة الاستعلامات:  60%|██████    | 605/1000 [37:23<24:03,  3.65s/استعلام]"
     ]
    },
    {
     "name": "stdout",
     "output_type": "stream",
     "text": [
      "Total documents in doc_data: 522931\n",
      "Sample doc_ids: ['1', '2', '3', '4', '5']\n",
      "Top indices: [180958 282889 285105 322147  96684]\n",
      "No similar documents found for beir with sufficient similarity\n"
     ]
    },
    {
     "name": "stderr",
     "output_type": "stream",
     "text": [
      "معالجة الاستعلامات:  61%|██████    | 606/1000 [37:26<24:07,  3.67s/استعلام]"
     ]
    },
    {
     "name": "stdout",
     "output_type": "stream",
     "text": [
      "Total documents in doc_data: 522931\n",
      "Sample doc_ids: ['1', '2', '3', '4', '5']\n",
      "Top indices: [  5790 432530  58528 262141  58328]\n",
      "Additional words from top 5 documents: define maturity know general\n",
      "🔍 Enhanced Query: What qualifies someone as mature? define maturity know general\n"
     ]
    },
    {
     "name": "stderr",
     "output_type": "stream",
     "text": [
      "معالجة الاستعلامات:  61%|██████    | 607/1000 [37:30<23:48,  3.63s/استعلام]"
     ]
    },
    {
     "name": "stdout",
     "output_type": "stream",
     "text": [
      "Total documents in doc_data: 522931\n",
      "Sample doc_ids: ['1', '2', '3', '4', '5']\n",
      "Top indices: [ 94283  18221 377247  28978 227635]\n",
      "Additional words from top 5 documents: advantage study pursue\n",
      "🔍 Enhanced Query: What are the benefits of having an MBA? advantage study pursue\n"
     ]
    },
    {
     "name": "stderr",
     "output_type": "stream",
     "text": [
      "معالجة الاستعلامات:  61%|██████    | 608/1000 [37:33<23:36,  3.61s/استعلام]"
     ]
    },
    {
     "name": "stdout",
     "output_type": "stream",
     "text": [
      "Total documents in doc_data: 522931\n",
      "Sample doc_ids: ['1', '2', '3', '4', '5']\n",
      "Top indices: [ 29011 348967  17208 300684 103536]\n",
      "Additional words from top 5 documents: die children murder parent\n",
      "🔍 Enhanced Query: How do you explain death to a young child? die children murder parent\n"
     ]
    },
    {
     "name": "stderr",
     "output_type": "stream",
     "text": [
      "معالجة الاستعلامات:  61%|██████    | 609/1000 [37:37<23:29,  3.60s/استعلام]"
     ]
    },
    {
     "name": "stdout",
     "output_type": "stream",
     "text": [
      "Total documents in doc_data: 522931\n",
      "Sample doc_ids: ['1', '2', '3', '4', '5']\n",
      "Top indices: [ 29047 513684  58968 100125 283731]\n",
      "Additional words from top 5 documents: object weight moon calculate\n",
      "🔍 Enhanced Query: How do they measure gravity in other planets and stars? object weight moon calculate\n"
     ]
    },
    {
     "name": "stderr",
     "output_type": "stream",
     "text": [
      "معالجة الاستعلامات:  61%|██████    | 610/1000 [37:41<23:20,  3.59s/استعلام]"
     ]
    },
    {
     "name": "stdout",
     "output_type": "stream",
     "text": [
      "Total documents in doc_data: 522931\n",
      "Sample doc_ids: ['1', '2', '3', '4', '5']\n",
      "Top indices: [267528  29076 175077 175078 281697]\n",
      "Additional words from top 5 documents: husband\n",
      "🔍 Enhanced Query: Have you ever cheated on someone and why? husband\n"
     ]
    },
    {
     "name": "stderr",
     "output_type": "stream",
     "text": [
      "معالجة الاستعلامات:  61%|██████    | 611/1000 [37:44<23:20,  3.60s/استعلام]"
     ]
    },
    {
     "name": "stdout",
     "output_type": "stream",
     "text": [
      "Total documents in doc_data: 522931\n",
      "Sample doc_ids: ['1', '2', '3', '4', '5']\n",
      "Top indices: [431591  46592 337478 316346  74580]\n",
      "Additional words from top 5 documents: java gui cource netbeans\n",
      "🔍 Enhanced Query: What would be the best programming language to DIY learn today? java gui cource netbeans\n"
     ]
    },
    {
     "name": "stderr",
     "output_type": "stream",
     "text": [
      "معالجة الاستعلامات:  61%|██████    | 612/1000 [37:48<23:20,  3.61s/استعلام]"
     ]
    },
    {
     "name": "stdout",
     "output_type": "stream",
     "text": [
      "Total documents in doc_data: 522931\n",
      "Sample doc_ids: ['1', '2', '3', '4', '5']\n",
      "Top indices: [  1015   1014 392614 318523 223958]\n",
      "Additional words from top 5 documents: everyone kill rabies\n",
      "🔍 Enhanced Query: Is it true that a dog who bites his owner should die? everyone kill rabies\n"
     ]
    },
    {
     "name": "stderr",
     "output_type": "stream",
     "text": [
      "معالجة الاستعلامات:  61%|██████▏   | 613/1000 [37:51<23:10,  3.59s/استعلام]"
     ]
    },
    {
     "name": "stdout",
     "output_type": "stream",
     "text": [
      "Total documents in doc_data: 522931\n",
      "Sample doc_ids: ['1', '2', '3', '4', '5']\n",
      "Top indices: [ 29257 507190 155996 234690  97999]\n",
      "Additional words from top 5 documents: cure therapist antidepressants really\n",
      "🔍 Enhanced Query: How do I overcome depression without psychiatric help? cure therapist antidepressants really\n"
     ]
    },
    {
     "name": "stderr",
     "output_type": "stream",
     "text": [
      "معالجة الاستعلامات:  61%|██████▏   | 614/1000 [37:55<23:04,  3.59s/استعلام]"
     ]
    },
    {
     "name": "stdout",
     "output_type": "stream",
     "text": [
      "Total documents in doc_data: 522931\n",
      "Sample doc_ids: ['1', '2', '3', '4', '5']\n",
      "Top indices: [246536  20782 212070  34682  34681]\n",
      "Additional words from top 5 documents: hate antimuslim narinder modi\n",
      "🔍 Enhanced Query: Why most of the Muslims in India do not support BJP? hate antimuslim narinder modi\n"
     ]
    },
    {
     "name": "stderr",
     "output_type": "stream",
     "text": [
      "معالجة الاستعلامات:  62%|██████▏   | 615/1000 [37:59<23:01,  3.59s/استعلام]"
     ]
    },
    {
     "name": "stdout",
     "output_type": "stream",
     "text": [
      "Total documents in doc_data: 522931\n",
      "Sample doc_ids: ['1', '2', '3', '4', '5']\n",
      "Top indices: [287381 462337  62822  79638 108790]\n",
      "Additional words from top 5 documents: hsbc buy citibank icici\n",
      "🔍 Enhanced Query: What is the best credit card? hsbc buy citibank icici\n"
     ]
    },
    {
     "name": "stderr",
     "output_type": "stream",
     "text": [
      "معالجة الاستعلامات:  62%|██████▏   | 616/1000 [38:02<23:05,  3.61s/استعلام]"
     ]
    },
    {
     "name": "stdout",
     "output_type": "stream",
     "text": [
      "Total documents in doc_data: 522931\n",
      "Sample doc_ids: ['1', '2', '3', '4', '5']\n",
      "Top indices: [346423 430637 411412 254620 348491]\n",
      "Additional words from top 5 documents: relationship muslim population terrorism\n",
      "🔍 Enhanced Query: What are the most important problems of the Islamic World today? relationship muslim population terrorism\n"
     ]
    },
    {
     "name": "stderr",
     "output_type": "stream",
     "text": [
      "معالجة الاستعلامات:  62%|██████▏   | 617/1000 [38:06<23:22,  3.66s/استعلام]"
     ]
    },
    {
     "name": "stdout",
     "output_type": "stream",
     "text": [
      "Total documents in doc_data: 522931\n",
      "Sample doc_ids: ['1', '2', '3', '4', '5']\n",
      "Top indices: [186830 511388 487675 308078 108618]\n",
      "Additional words from top 5 documents: opinion carsguideorg toyota camry\n",
      "🔍 Enhanced Query: What is your review about various car manufacturers? opinion carsguideorg toyota camry\n"
     ]
    },
    {
     "name": "stderr",
     "output_type": "stream",
     "text": [
      "معالجة الاستعلامات:  62%|██████▏   | 618/1000 [38:10<23:26,  3.68s/استعلام]"
     ]
    },
    {
     "name": "stdout",
     "output_type": "stream",
     "text": [
      "Total documents in doc_data: 522931\n",
      "Sample doc_ids: ['1', '2', '3', '4', '5']\n",
      "Top indices: [315604  29389 213926 269649 369020]\n",
      "Additional words from top 5 documents: like differences scotch jack\n",
      "🔍 Enhanced Query: How good is Jameson Irish whiskey? How does its taste differ from others? like differences scotch jack\n"
     ]
    },
    {
     "name": "stderr",
     "output_type": "stream",
     "text": [
      "معالجة الاستعلامات:  62%|██████▏   | 619/1000 [38:13<23:17,  3.67s/استعلام]"
     ]
    },
    {
     "name": "stdout",
     "output_type": "stream",
     "text": [
      "Total documents in doc_data: 522931\n",
      "Sample doc_ids: ['1', '2', '3', '4', '5']\n",
      "Top indices: [ 29440  73931  47576  25496 163778]\n",
      "Additional words from top 5 documents: nazis improve learn german\n",
      "🔍 Enhanced Query: How should I become Grammar Nazi? nazis improve learn german\n"
     ]
    },
    {
     "name": "stderr",
     "output_type": "stream",
     "text": [
      "معالجة الاستعلامات:  62%|██████▏   | 620/1000 [38:17<22:58,  3.63s/استعلام]"
     ]
    },
    {
     "name": "stdout",
     "output_type": "stream",
     "text": [
      "Total documents in doc_data: 522931\n",
      "Sample doc_ids: ['1', '2', '3', '4', '5']\n",
      "Top indices: [ 29453 478881    229 237088  51028]\n",
      "Additional words from top 5 documents: \n",
      "No new words to add to query for beir\n"
     ]
    },
    {
     "name": "stderr",
     "output_type": "stream",
     "text": [
      "معالجة الاستعلامات:  62%|██████▏   | 621/1000 [38:21<23:04,  3.65s/استعلام]"
     ]
    },
    {
     "name": "stdout",
     "output_type": "stream",
     "text": [
      "Total documents in doc_data: 522931\n",
      "Sample doc_ids: ['1', '2', '3', '4', '5']\n",
      "Top indices: [244451 334751    495    496 398112]\n",
      "Additional words from top 5 documents: qualities musthave good great\n",
      "🔍 Enhanced Query: What is one characteristic that you believe every leader should possess? qualities musthave good great\n"
     ]
    },
    {
     "name": "stderr",
     "output_type": "stream",
     "text": [
      "معالجة الاستعلامات:  62%|██████▏   | 622/1000 [38:24<22:57,  3.64s/استعلام]"
     ]
    },
    {
     "name": "stdout",
     "output_type": "stream",
     "text": [
      "Total documents in doc_data: 522931\n",
      "Sample doc_ids: ['1', '2', '3', '4', '5']\n",
      "Top indices: [ 29477 436260 436259 121728  84177]\n",
      "Additional words from top 5 documents: double structure triplet codons\n",
      "🔍 Enhanced Query: Does triple helix DNA exist? double structure triplet codons\n"
     ]
    },
    {
     "name": "stderr",
     "output_type": "stream",
     "text": [
      "معالجة الاستعلامات:  62%|██████▏   | 623/1000 [38:28<22:52,  3.64s/استعلام]"
     ]
    },
    {
     "name": "stdout",
     "output_type": "stream",
     "text": [
      "Total documents in doc_data: 522931\n",
      "Sample doc_ids: ['1', '2', '3', '4', '5']\n",
      "Top indices: [196125 138705  77343 230199 486397]\n",
      "Additional words from top 5 documents: bad sex life\n",
      "🔍 Enhanced Query: Is it better to be good at a few things OR an average in many things? bad sex life\n"
     ]
    },
    {
     "name": "stderr",
     "output_type": "stream",
     "text": [
      "معالجة الاستعلامات:  62%|██████▏   | 624/1000 [38:32<23:15,  3.71s/استعلام]"
     ]
    },
    {
     "name": "stdout",
     "output_type": "stream",
     "text": [
      "Total documents in doc_data: 522931\n",
      "Sample doc_ids: ['1', '2', '3', '4', '5']\n",
      "Top indices: [ 29653 174900 174901 451948  79397]\n",
      "Additional words from top 5 documents: testicular vasocongestion treat vitamin\n",
      "🔍 Enhanced Query: Why are testes placed in a sac outside of the inner body? testicular vasocongestion treat vitamin\n"
     ]
    },
    {
     "name": "stderr",
     "output_type": "stream",
     "text": [
      "معالجة الاستعلامات:  62%|██████▎   | 625/1000 [38:35<22:55,  3.67s/استعلام]"
     ]
    },
    {
     "name": "stdout",
     "output_type": "stream",
     "text": [
      "Total documents in doc_data: 522931\n",
      "Sample doc_ids: ['1', '2', '3', '4', '5']\n",
      "Top indices: [291557 128008  34842 159983 114764]\n",
      "Additional words from top 5 documents: pay online\n",
      "🔍 Enhanced Query: What are some ways by which a student can earn money in college? pay online\n"
     ]
    },
    {
     "name": "stderr",
     "output_type": "stream",
     "text": [
      "معالجة الاستعلامات:  63%|██████▎   | 626/1000 [38:39<22:39,  3.64s/استعلام]"
     ]
    },
    {
     "name": "stdout",
     "output_type": "stream",
     "text": [
      "Total documents in doc_data: 522931\n",
      "Sample doc_ids: ['1', '2', '3', '4', '5']\n",
      "Top indices: [491161  85148 102045 272464 378009]\n",
      "Additional words from top 5 documents: good alternatives pornhub pornography\n",
      "🔍 Enhanced Query: What is the best free porn website? good alternatives pornhub pornography\n"
     ]
    },
    {
     "name": "stderr",
     "output_type": "stream",
     "text": [
      "معالجة الاستعلامات:  63%|██████▎   | 627/1000 [38:42<22:26,  3.61s/استعلام]"
     ]
    },
    {
     "name": "stdout",
     "output_type": "stream",
     "text": [
      "Total documents in doc_data: 522931\n",
      "Sample doc_ids: ['1', '2', '3', '4', '5']\n",
      "Top indices: [367610 367609 495294  37288 294143]\n",
      "Additional words from top 5 documents: appearance appearanceoverall make prettier\n",
      "🔍 Enhanced Query: How can I improve my looks? appearance appearanceoverall make prettier\n"
     ]
    },
    {
     "name": "stderr",
     "output_type": "stream",
     "text": [
      "معالجة الاستعلامات:  63%|██████▎   | 628/1000 [38:46<22:20,  3.60s/استعلام]"
     ]
    },
    {
     "name": "stdout",
     "output_type": "stream",
     "text": [
      "Total documents in doc_data: 522931\n",
      "Sample doc_ids: ['1', '2', '3', '4', '5']\n",
      "Top indices: [145405 438849 166168 145406 441830]\n",
      "Additional words from top 5 documents: electrodynamics definition circuit theory\n",
      "🔍 Enhanced Query: What is best book for power electronics? electrodynamics definition circuit theory\n"
     ]
    },
    {
     "name": "stderr",
     "output_type": "stream",
     "text": [
      "معالجة الاستعلامات:  63%|██████▎   | 629/1000 [38:50<22:19,  3.61s/استعلام]"
     ]
    },
    {
     "name": "stdout",
     "output_type": "stream",
     "text": [
      "Total documents in doc_data: 522931\n",
      "Sample doc_ids: ['1', '2', '3', '4', '5']\n",
      "Top indices: [ 71342  68834 509709 374091  75379]\n",
      "Additional words from top 5 documents: best villain makaioshin super\n",
      "🔍 Enhanced Query: Who are the strongest Dragon Ball characters? best villain makaioshin super\n"
     ]
    },
    {
     "name": "stderr",
     "output_type": "stream",
     "text": [
      "معالجة الاستعلامات:  63%|██████▎   | 630/1000 [38:53<22:13,  3.60s/استعلام]"
     ]
    },
    {
     "name": "stdout",
     "output_type": "stream",
     "text": [
      "Total documents in doc_data: 522931\n",
      "Sample doc_ids: ['1', '2', '3', '4', '5']\n",
      "Top indices: [168554 438108 438107 205493  29894]\n",
      "Additional words from top 5 documents: men usually frequently women\n",
      "🔍 Enhanced Query: How often do woman masturbate? men usually frequently women\n"
     ]
    },
    {
     "name": "stderr",
     "output_type": "stream",
     "text": [
      "معالجة الاستعلامات:  63%|██████▎   | 631/1000 [38:57<22:04,  3.59s/استعلام]"
     ]
    },
    {
     "name": "stdout",
     "output_type": "stream",
     "text": [
      "Total documents in doc_data: 522931\n",
      "Sample doc_ids: ['1', '2', '3', '4', '5']\n",
      "Top indices: [210964  52046 491633   4093 220101]\n",
      "Additional words from top 5 documents: possibilities days periods\n",
      "🔍 Enhanced Query: Can i get pregnant the day after my period ends? possibilities days periods\n"
     ]
    },
    {
     "name": "stderr",
     "output_type": "stream",
     "text": [
      "معالجة الاستعلامات:  63%|██████▎   | 632/1000 [39:00<22:01,  3.59s/استعلام]"
     ]
    },
    {
     "name": "stdout",
     "output_type": "stream",
     "text": [
      "Total documents in doc_data: 522931\n",
      "Sample doc_ids: ['1', '2', '3', '4', '5']\n",
      "Top indices: [371043  24042 371042 123247 140678]\n",
      "Additional words from top 5 documents: \n",
      "No new words to add to query for beir\n"
     ]
    },
    {
     "name": "stderr",
     "output_type": "stream",
     "text": [
      "معالجة الاستعلامات:  63%|██████▎   | 633/1000 [39:04<21:57,  3.59s/استعلام]"
     ]
    },
    {
     "name": "stdout",
     "output_type": "stream",
     "text": [
      "Total documents in doc_data: 522931\n",
      "Sample doc_ids: ['1', '2', '3', '4', '5']\n",
      "Top indices: [ 89301 219483  72035 129161  29922]\n",
      "Additional words from top 5 documents: \n",
      "No new words to add to query for beir\n"
     ]
    },
    {
     "name": "stderr",
     "output_type": "stream",
     "text": [
      "معالجة الاستعلامات:  63%|██████▎   | 634/1000 [39:08<21:57,  3.60s/استعلام]"
     ]
    },
    {
     "name": "stdout",
     "output_type": "stream",
     "text": [
      "Total documents in doc_data: 522931\n",
      "Sample doc_ids: ['1', '2', '3', '4', '5']\n",
      "Top indices: [ 31992 152811 106809  15436 138038]\n",
      "Additional words from top 5 documents: \n",
      "No new words to add to query for beir\n"
     ]
    },
    {
     "name": "stderr",
     "output_type": "stream",
     "text": [
      "معالجة الاستعلامات:  64%|██████▎   | 635/1000 [39:12<22:35,  3.71s/استعلام]"
     ]
    },
    {
     "name": "stdout",
     "output_type": "stream",
     "text": [
      "Total documents in doc_data: 522931\n",
      "Sample doc_ids: ['1', '2', '3', '4', '5']\n",
      "Top indices: [380743 123084  28817 373189 133350]\n",
      "Additional words from top 5 documents: personalize hide user possible\n",
      "🔍 Enhanced Query: How do I optimize Quora feed perfectly? personalize hide user possible\n"
     ]
    },
    {
     "name": "stderr",
     "output_type": "stream",
     "text": [
      "معالجة الاستعلامات:  64%|██████▎   | 636/1000 [39:15<22:35,  3.72s/استعلام]"
     ]
    },
    {
     "name": "stdout",
     "output_type": "stream",
     "text": [
      "Total documents in doc_data: 522931\n",
      "Sample doc_ids: ['1', '2', '3', '4', '5']\n",
      "Top indices: [341453 404325 503656  88302 452955]\n",
      "Additional words from top 5 documents: sleepy dizzy work little\n",
      "🔍 Enhanced Query: What does it feel like to be on ecstasy? sleepy dizzy work little\n"
     ]
    },
    {
     "name": "stderr",
     "output_type": "stream",
     "text": [
      "معالجة الاستعلامات:  64%|██████▎   | 637/1000 [39:19<22:51,  3.78s/استعلام]"
     ]
    },
    {
     "name": "stdout",
     "output_type": "stream",
     "text": [
      "Total documents in doc_data: 522931\n",
      "Sample doc_ids: ['1', '2', '3', '4', '5']\n",
      "Top indices: [177612  30250  44251 254079  37168]\n",
      "Additional words from top 5 documents: superman better bale affleck\n",
      "🔍 Enhanced Query: Why does Ben Affleck’s Batman Kill people intentionally? superman better bale affleck\n"
     ]
    },
    {
     "name": "stderr",
     "output_type": "stream",
     "text": [
      "معالجة الاستعلامات:  64%|██████▍   | 638/1000 [39:23<23:02,  3.82s/استعلام]"
     ]
    },
    {
     "name": "stdout",
     "output_type": "stream",
     "text": [
      "Total documents in doc_data: 522931\n",
      "Sample doc_ids: ['1', '2', '3', '4', '5']\n",
      "Top indices: [ 30253 335096 136698 236266 441820]\n",
      "Additional words from top 5 documents: cure autism curable\n",
      "🔍 Enhanced Query: Why won't the FDA approve experimental treatment ALS sufferers, but the EPA has already approved GMO mosquitoes to be released to combat Zika? cure autism curable\n"
     ]
    },
    {
     "name": "stderr",
     "output_type": "stream",
     "text": [
      "معالجة الاستعلامات:  64%|██████▍   | 639/1000 [39:27<22:44,  3.78s/استعلام]"
     ]
    },
    {
     "name": "stdout",
     "output_type": "stream",
     "text": [
      "Total documents in doc_data: 522931\n",
      "Sample doc_ids: ['1', '2', '3', '4', '5']\n",
      "Top indices: [ 86003 316539   3488 362831 245755]\n",
      "Additional words from top 5 documents: sachs do get job\n",
      "🔍 Enhanced Query: What it is like working at goldman? sachs do get job\n"
     ]
    },
    {
     "name": "stderr",
     "output_type": "stream",
     "text": [
      "معالجة الاستعلامات:  64%|██████▍   | 640/1000 [39:30<22:16,  3.71s/استعلام]"
     ]
    },
    {
     "name": "stdout",
     "output_type": "stream",
     "text": [
      "Total documents in doc_data: 522931\n",
      "Sample doc_ids: ['1', '2', '3', '4', '5']\n",
      "Top indices: [ 24295 124836 450587 158596 377300]\n",
      "Additional words from top 5 documents: businesses easiest become entrepreneur\n",
      "🔍 Enhanced Query: What is the best idea to start a business? businesses easiest become entrepreneur\n"
     ]
    },
    {
     "name": "stderr",
     "output_type": "stream",
     "text": [
      "معالجة الاستعلامات:  64%|██████▍   | 641/1000 [39:34<22:01,  3.68s/استعلام]"
     ]
    },
    {
     "name": "stdout",
     "output_type": "stream",
     "text": [
      "Total documents in doc_data: 522931\n",
      "Sample doc_ids: ['1', '2', '3', '4', '5']\n",
      "Top indices: [234110 273128 360279 316705  66103]\n",
      "Additional words from top 5 documents: better fail use instead\n",
      "🔍 Enhanced Query: Is it bad to ask questions on Quora that could easily be answered via a Google search? better fail use instead\n"
     ]
    },
    {
     "name": "stderr",
     "output_type": "stream",
     "text": [
      "معالجة الاستعلامات:  64%|██████▍   | 642/1000 [39:38<21:52,  3.67s/استعلام]"
     ]
    },
    {
     "name": "stdout",
     "output_type": "stream",
     "text": [
      "Total documents in doc_data: 522931\n",
      "Sample doc_ids: ['1', '2', '3', '4', '5']\n",
      "Top indices: [186869  74774  22356  97871 226021]\n",
      "Additional words from top 5 documents: ever movies bollywoods dialogues\n",
      "🔍 Enhanced Query: Bollywood best movie? ever movies bollywoods dialogues\n"
     ]
    },
    {
     "name": "stderr",
     "output_type": "stream",
     "text": [
      "معالجة الاستعلامات:  64%|██████▍   | 643/1000 [39:41<21:38,  3.64s/استعلام]"
     ]
    },
    {
     "name": "stdout",
     "output_type": "stream",
     "text": [
      "Total documents in doc_data: 522931\n",
      "Sample doc_ids: ['1', '2', '3', '4', '5']\n",
      "Top indices: [392778 522373 522372 102942 383547]\n",
      "Additional words from top 5 documents: old exist\n",
      "🔍 Enhanced Query: Do you think sex will eventually become obsolete? old exist\n"
     ]
    },
    {
     "name": "stderr",
     "output_type": "stream",
     "text": [
      "معالجة الاستعلامات:  64%|██████▍   | 644/1000 [39:45<21:48,  3.68s/استعلام]"
     ]
    },
    {
     "name": "stdout",
     "output_type": "stream",
     "text": [
      "Total documents in doc_data: 522931\n",
      "Sample doc_ids: ['1', '2', '3', '4', '5']\n",
      "Top indices: [185319 201794 507001  38761  38762]\n",
      "Additional words from top 5 documents: know boyfriend interest\n",
      "🔍 Enhanced Query: How can I tell if a guy has a boner? know boyfriend interest\n"
     ]
    },
    {
     "name": "stderr",
     "output_type": "stream",
     "text": [
      "معالجة الاستعلامات:  64%|██████▍   | 645/1000 [39:49<21:55,  3.71s/استعلام]"
     ]
    },
    {
     "name": "stdout",
     "output_type": "stream",
     "text": [
      "Total documents in doc_data: 522931\n",
      "Sample doc_ids: ['1', '2', '3', '4', '5']\n",
      "Top indices: [254878  30418 256725 491041 227248]\n",
      "Additional words from top 5 documents: cunnilingus pornstars\n",
      "🔍 Enhanced Query: Do porn stars actually swallow the cum? If yes, then isn't it harmful? cunnilingus pornstars\n"
     ]
    },
    {
     "name": "stderr",
     "output_type": "stream",
     "text": [
      "معالجة الاستعلامات:  65%|██████▍   | 646/1000 [39:52<21:37,  3.67s/استعلام]"
     ]
    },
    {
     "name": "stdout",
     "output_type": "stream",
     "text": [
      "Total documents in doc_data: 522931\n",
      "Sample doc_ids: ['1', '2', '3', '4', '5']\n",
      "Top indices: [ 30509 178731  79667  79666 382889]\n",
      "Additional words from top 5 documents: old oldest find type\n",
      "🔍 Enhanced Query: What is the lowest common ancestor in binary search tree? old oldest find type\n"
     ]
    },
    {
     "name": "stderr",
     "output_type": "stream",
     "text": [
      "معالجة الاستعلامات:  65%|██████▍   | 647/1000 [39:56<21:24,  3.64s/استعلام]"
     ]
    },
    {
     "name": "stdout",
     "output_type": "stream",
     "text": [
      "Total documents in doc_data: 522931\n",
      "Sample doc_ids: ['1', '2', '3', '4', '5']\n",
      "Top indices: [  6837 402986 441681   1214  66252]\n",
      "Additional words from top 5 documents: mindfulness increase\n",
      "🔍 Enhanced Query: How can I improve my presence of mind and concentration? mindfulness increase\n"
     ]
    },
    {
     "name": "stderr",
     "output_type": "stream",
     "text": [
      "معالجة الاستعلامات:  65%|██████▍   | 648/1000 [39:59<21:09,  3.61s/استعلام]"
     ]
    },
    {
     "name": "stdout",
     "output_type": "stream",
     "text": [
      "Total documents in doc_data: 522931\n",
      "Sample doc_ids: ['1', '2', '3', '4', '5']\n",
      "Top indices: [120508  30535 191500  59170 268699]\n",
      "Additional words from top 5 documents: use dont not know\n",
      "🔍 Enhanced Query: How do we avoid Facebook? use dont not know\n"
     ]
    },
    {
     "name": "stderr",
     "output_type": "stream",
     "text": [
      "معالجة الاستعلامات:  65%|██████▍   | 649/1000 [40:03<21:09,  3.62s/استعلام]"
     ]
    },
    {
     "name": "stdout",
     "output_type": "stream",
     "text": [
      "Total documents in doc_data: 522931\n",
      "Sample doc_ids: ['1', '2', '3', '4', '5']\n",
      "Top indices: [392397  30647 266205 477950 100469]\n",
      "Additional words from top 5 documents: mba recognise total delhi\n",
      "🔍 Enhanced Query: Are the MEng degrees from the UK universities recognized in India and the US? mba recognise total delhi\n"
     ]
    },
    {
     "name": "stderr",
     "output_type": "stream",
     "text": [
      "معالجة الاستعلامات:  65%|██████▌   | 650/1000 [40:07<21:01,  3.60s/استعلام]"
     ]
    },
    {
     "name": "stdout",
     "output_type": "stream",
     "text": [
      "Total documents in doc_data: 522931\n",
      "Sample doc_ids: ['1', '2', '3', '4', '5']\n",
      "Top indices: [ 30689 252927  20067  49908  12610]\n",
      "Additional words from top 5 documents: preparation csit prepare\n",
      "🔍 Enhanced Query: What are the best books for GATE preparation(ME)? preparation csit prepare\n"
     ]
    },
    {
     "name": "stderr",
     "output_type": "stream",
     "text": [
      "معالجة الاستعلامات:  65%|██████▌   | 651/1000 [40:10<20:53,  3.59s/استعلام]"
     ]
    },
    {
     "name": "stdout",
     "output_type": "stream",
     "text": [
      "Total documents in doc_data: 522931\n",
      "Sample doc_ids: ['1', '2', '3', '4', '5']\n",
      "Top indices: [404730  25933  30696 215812 402207]\n",
      "Additional words from top 5 documents: bali hindu not islamic\n",
      "🔍 Enhanced Query: Why is Indonesia Muslim? bali hindu not islamic\n"
     ]
    },
    {
     "name": "stderr",
     "output_type": "stream",
     "text": [
      "معالجة الاستعلامات:  65%|██████▌   | 652/1000 [40:14<20:53,  3.60s/استعلام]"
     ]
    },
    {
     "name": "stdout",
     "output_type": "stream",
     "text": [
      "Total documents in doc_data: 522931\n",
      "Sample doc_ids: ['1', '2', '3', '4', '5']\n",
      "Top indices: [321256 321257 254588  30788 499030]\n",
      "Additional words from top 5 documents: favorite porn actresses best\n",
      "🔍 Enhanced Query: Being a woman, who is your favourite pornstar? favorite porn actresses best\n"
     ]
    },
    {
     "name": "stderr",
     "output_type": "stream",
     "text": [
      "معالجة الاستعلامات:  65%|██████▌   | 653/1000 [40:17<21:02,  3.64s/استعلام]"
     ]
    },
    {
     "name": "stdout",
     "output_type": "stream",
     "text": [
      "Total documents in doc_data: 522931\n",
      "Sample doc_ids: ['1', '2', '3', '4', '5']\n",
      "Top indices: [ 30814 254957 211793 137004 310652]\n",
      "Additional words from top 5 documents: energy mineral importance conserve\n",
      "🔍 Enhanced Query: Why are natural resources important for us? energy mineral importance conserve\n"
     ]
    },
    {
     "name": "stderr",
     "output_type": "stream",
     "text": [
      "معالجة الاستعلامات:  65%|██████▌   | 654/1000 [40:22<21:45,  3.77s/استعلام]"
     ]
    },
    {
     "name": "stdout",
     "output_type": "stream",
     "text": [
      "Total documents in doc_data: 522931\n",
      "Sample doc_ids: ['1', '2', '3', '4', '5']\n",
      "Top indices: [336877  30858  59280 107932 336876]\n",
      "Additional words from top 5 documents: use\n",
      "🔍 Enhanced Query: What is the reason why my amplifier keep blowing fuses? use\n"
     ]
    },
    {
     "name": "stderr",
     "output_type": "stream",
     "text": [
      "معالجة الاستعلامات:  66%|██████▌   | 655/1000 [40:25<21:32,  3.75s/استعلام]"
     ]
    },
    {
     "name": "stdout",
     "output_type": "stream",
     "text": [
      "Total documents in doc_data: 522931\n",
      "Sample doc_ids: ['1', '2', '3', '4', '5']\n",
      "Top indices: [ 82667  30866 156204 451760 106900]\n",
      "Additional words from top 5 documents: make foods yellow skin\n",
      "🔍 Enhanced Query: How many carrots can you eat before you turn orange? make foods yellow skin\n"
     ]
    },
    {
     "name": "stderr",
     "output_type": "stream",
     "text": [
      "معالجة الاستعلامات:  66%|██████▌   | 656/1000 [40:29<21:10,  3.69s/استعلام]"
     ]
    },
    {
     "name": "stdout",
     "output_type": "stream",
     "text": [
      "Total documents in doc_data: 522931\n",
      "Sample doc_ids: ['1', '2', '3', '4', '5']\n",
      "Top indices: [270569  30904 310851 451863 378516]\n",
      "Additional words from top 5 documents: ridiculous regulations countries murder\n",
      "🔍 Enhanced Query: What are some of the weirdest laws in your home country? ridiculous regulations countries murder\n"
     ]
    },
    {
     "name": "stderr",
     "output_type": "stream",
     "text": [
      "معالجة الاستعلامات:  66%|██████▌   | 657/1000 [40:32<20:57,  3.66s/استعلام]"
     ]
    },
    {
     "name": "stdout",
     "output_type": "stream",
     "text": [
      "Total documents in doc_data: 522931\n",
      "Sample doc_ids: ['1', '2', '3', '4', '5']\n",
      "Top indices: [ 87330   7860   7859 199427   6601]\n",
      "Additional words from top 5 documents: civil environmental\n",
      "🔍 Enhanced Query: In engineering, which field has more scope in India? civil environmental\n"
     ]
    },
    {
     "name": "stderr",
     "output_type": "stream",
     "text": [
      "معالجة الاستعلامات:  66%|██████▌   | 658/1000 [40:36<20:52,  3.66s/استعلام]"
     ]
    },
    {
     "name": "stdout",
     "output_type": "stream",
     "text": [
      "Total documents in doc_data: 522931\n",
      "Sample doc_ids: ['1', '2', '3', '4', '5']\n",
      "Top indices: [145734  63671  66056 138270 160916]\n",
      "Additional words from top 5 documents: clintons position h1b visa\n",
      "🔍 Enhanced Query: What does Hillary Clinton plan to do to prevent illegal immigrants from entering the country? clintons position h1b visa\n"
     ]
    },
    {
     "name": "stderr",
     "output_type": "stream",
     "text": [
      "معالجة الاستعلامات:  66%|██████▌   | 659/1000 [40:40<20:47,  3.66s/استعلام]"
     ]
    },
    {
     "name": "stdout",
     "output_type": "stream",
     "text": [
      "Total documents in doc_data: 522931\n",
      "Sample doc_ids: ['1', '2', '3', '4', '5']\n",
      "Top indices: [153404 153405 140169 247729 410158]\n",
      "Additional words from top 5 documents: free english apps best\n",
      "🔍 Enhanced Query: What is the most interesting or useful app for learning language? free english apps best\n"
     ]
    },
    {
     "name": "stderr",
     "output_type": "stream",
     "text": [
      "معالجة الاستعلامات:  66%|██████▌   | 660/1000 [40:43<20:33,  3.63s/استعلام]"
     ]
    },
    {
     "name": "stdout",
     "output_type": "stream",
     "text": [
      "Total documents in doc_data: 522931\n",
      "Sample doc_ids: ['1', '2', '3', '4', '5']\n",
      "Top indices: [501216 246230  42235 130053  31009]\n",
      "Additional words from top 5 documents: europe africa asia\n",
      "🔍 Enhanced Query: How does the structure of the education system in South America compare to the edcuation system in Central America? europe africa asia\n"
     ]
    },
    {
     "name": "stderr",
     "output_type": "stream",
     "text": [
      "معالجة الاستعلامات:  66%|██████▌   | 661/1000 [40:47<20:20,  3.60s/استعلام]"
     ]
    },
    {
     "name": "stdout",
     "output_type": "stream",
     "text": [
      "Total documents in doc_data: 522931\n",
      "Sample doc_ids: ['1', '2', '3', '4', '5']\n",
      "Top indices: [341216 288125  74928 216831 515321]\n",
      "Additional words from top 5 documents: 110 1022 001 224\n",
      "🔍 Enhanced Query: Can you prove that 1+1=2? 110 1022 001 224\n"
     ]
    },
    {
     "name": "stderr",
     "output_type": "stream",
     "text": [
      "معالجة الاستعلامات:  66%|██████▌   | 662/1000 [40:50<20:18,  3.61s/استعلام]"
     ]
    },
    {
     "name": "stdout",
     "output_type": "stream",
     "text": [
      "Total documents in doc_data: 522931\n",
      "Sample doc_ids: ['1', '2', '3', '4', '5']\n",
      "Top indices: [332260  31076 507838 484917 312786]\n",
      "Additional words from top 5 documents: cause depression food serotonin\n",
      "🔍 Enhanced Query: How much does diet affect mental health? cause depression food serotonin\n"
     ]
    },
    {
     "name": "stderr",
     "output_type": "stream",
     "text": [
      "معالجة الاستعلامات:  66%|██████▋   | 663/1000 [40:54<20:21,  3.62s/استعلام]"
     ]
    },
    {
     "name": "stdout",
     "output_type": "stream",
     "text": [
      "Total documents in doc_data: 522931\n",
      "Sample doc_ids: ['1', '2', '3', '4', '5']\n",
      "Top indices: [   237 454263 403231 322104 467272]\n",
      "Additional words from top 5 documents: cheapest toothpaste sunscreen calamine\n",
      "🔍 Enhanced Query: What is the best cheap tanning bed lotion? cheapest toothpaste sunscreen calamine\n"
     ]
    },
    {
     "name": "stderr",
     "output_type": "stream",
     "text": [
      "معالجة الاستعلامات:  66%|██████▋   | 664/1000 [40:58<20:22,  3.64s/استعلام]"
     ]
    },
    {
     "name": "stdout",
     "output_type": "stream",
     "text": [
      "Total documents in doc_data: 522931\n",
      "Sample doc_ids: ['1', '2', '3', '4', '5']\n",
      "Top indices: [ 31114 112199 487045  29052 336921]\n",
      "Additional words from top 5 documents: group christiancatholics terrorist want\n",
      "🔍 Enhanced Query: Were the IRA freedom fighters or terrorists? group christiancatholics terrorist want\n"
     ]
    },
    {
     "name": "stderr",
     "output_type": "stream",
     "text": [
      "معالجة الاستعلامات:  66%|██████▋   | 665/1000 [41:01<20:11,  3.62s/استعلام]"
     ]
    },
    {
     "name": "stdout",
     "output_type": "stream",
     "text": [
      "Total documents in doc_data: 522931\n",
      "Sample doc_ids: ['1', '2', '3', '4', '5']\n",
      "Top indices: [ 19633   8474  19634  90401 173423]\n",
      "Additional words from top 5 documents: documentaries best\n",
      "🔍 Enhanced Query: Which is your favorite documentary and why? documentaries best\n"
     ]
    },
    {
     "name": "stderr",
     "output_type": "stream",
     "text": [
      "معالجة الاستعلامات:  67%|██████▋   | 666/1000 [41:05<19:58,  3.59s/استعلام]"
     ]
    },
    {
     "name": "stdout",
     "output_type": "stream",
     "text": [
      "Total documents in doc_data: 522931\n",
      "Sample doc_ids: ['1', '2', '3', '4', '5']\n",
      "Top indices: [438362 421089 344505 421088  88874]\n",
      "No similar documents found for beir with sufficient similarity\n"
     ]
    },
    {
     "name": "stderr",
     "output_type": "stream",
     "text": [
      "معالجة الاستعلامات:  67%|██████▋   | 667/1000 [41:08<19:52,  3.58s/استعلام]"
     ]
    },
    {
     "name": "stdout",
     "output_type": "stream",
     "text": [
      "Total documents in doc_data: 522931\n",
      "Sample doc_ids: ['1', '2', '3', '4', '5']\n",
      "Top indices: [282288 182049 502601 197405  28149]\n",
      "Additional words from top 5 documents: get wait 2017 release\n",
      "🔍 Enhanced Query: What is the forecast as to when iPhone 8 will come out? get wait 2017 release\n"
     ]
    },
    {
     "name": "stderr",
     "output_type": "stream",
     "text": [
      "معالجة الاستعلامات:  67%|██████▋   | 668/1000 [41:12<19:52,  3.59s/استعلام]"
     ]
    },
    {
     "name": "stdout",
     "output_type": "stream",
     "text": [
      "Total documents in doc_data: 522931\n",
      "Sample doc_ids: ['1', '2', '3', '4', '5']\n",
      "Top indices: [ 76573  25811 169629 204781 476239]\n",
      "Additional words from top 5 documents: improve read\n",
      "🔍 Enhanced Query: How can I increase English vocabulary? improve read\n"
     ]
    },
    {
     "name": "stderr",
     "output_type": "stream",
     "text": [
      "معالجة الاستعلامات:  67%|██████▋   | 669/1000 [41:16<20:02,  3.63s/استعلام]"
     ]
    },
    {
     "name": "stdout",
     "output_type": "stream",
     "text": [
      "Total documents in doc_data: 522931\n",
      "Sample doc_ids: ['1', '2', '3', '4', '5']\n",
      "Top indices: [ 31331 517728 182659 380982 380983]\n",
      "Additional words from top 5 documents: mathematics difference principle\n",
      "🔍 Enhanced Query: What are the different branches of philosophy and how do they differ? mathematics difference principle\n"
     ]
    },
    {
     "name": "stderr",
     "output_type": "stream",
     "text": [
      "معالجة الاستعلامات:  67%|██████▋   | 670/1000 [41:19<20:01,  3.64s/استعلام]"
     ]
    },
    {
     "name": "stdout",
     "output_type": "stream",
     "text": [
      "Total documents in doc_data: 522931\n",
      "Sample doc_ids: ['1', '2', '3', '4', '5']\n",
      "Top indices: [504467 504468 158845 406124 406123]\n",
      "Additional words from top 5 documents: stop\n",
      "🔍 Enhanced Query: How do I get rid of bad habits? stop\n"
     ]
    },
    {
     "name": "stderr",
     "output_type": "stream",
     "text": [
      "معالجة الاستعلامات:  67%|██████▋   | 671/1000 [41:23<20:03,  3.66s/استعلام]"
     ]
    },
    {
     "name": "stdout",
     "output_type": "stream",
     "text": [
      "Total documents in doc_data: 522931\n",
      "Sample doc_ids: ['1', '2', '3', '4', '5']\n",
      "Top indices: [ 34009  50784 230199 138705  77343]\n",
      "Additional words from top 5 documents: quoras users age\n",
      "🔍 Enhanced Query: What is the average IQ on Quora? quoras users age\n"
     ]
    },
    {
     "name": "stderr",
     "output_type": "stream",
     "text": [
      "معالجة الاستعلامات:  67%|██████▋   | 672/1000 [41:27<20:21,  3.72s/استعلام]"
     ]
    },
    {
     "name": "stdout",
     "output_type": "stream",
     "text": [
      "Total documents in doc_data: 522931\n",
      "Sample doc_ids: ['1', '2', '3', '4', '5']\n",
      "Top indices: [ 31382 235078  12892 316598 515260]\n",
      "Additional words from top 5 documents: real jealous\n",
      "🔍 Enhanced Query: What does it feel like to have fake friends? real jealous\n"
     ]
    },
    {
     "name": "stderr",
     "output_type": "stream",
     "text": [
      "معالجة الاستعلامات:  67%|██████▋   | 673/1000 [41:31<20:09,  3.70s/استعلام]"
     ]
    },
    {
     "name": "stdout",
     "output_type": "stream",
     "text": [
      "Total documents in doc_data: 522931\n",
      "Sample doc_ids: ['1', '2', '3', '4', '5']\n",
      "Top indices: [232822 461787  45594  24183 165173]\n",
      "Additional words from top 5 documents: file bankruptcy free help\n",
      "🔍 Enhanced Query: how can I get financial freedom as soon as possible? file bankruptcy free help\n"
     ]
    },
    {
     "name": "stderr",
     "output_type": "stream",
     "text": [
      "معالجة الاستعلامات:  67%|██████▋   | 674/1000 [41:34<20:00,  3.68s/استعلام]"
     ]
    },
    {
     "name": "stdout",
     "output_type": "stream",
     "text": [
      "Total documents in doc_data: 522931\n",
      "Sample doc_ids: ['1', '2', '3', '4', '5']\n",
      "Top indices: [123486 490210  44862 123487  44861]\n",
      "Additional words from top 5 documents: effect inflation india economy\n",
      "🔍 Enhanced Query: What is the impact of US Fed rates hike on the Indian stock market? effect inflation india economy\n"
     ]
    },
    {
     "name": "stderr",
     "output_type": "stream",
     "text": [
      "معالجة الاستعلامات:  68%|██████▊   | 675/1000 [41:38<19:47,  3.65s/استعلام]"
     ]
    },
    {
     "name": "stdout",
     "output_type": "stream",
     "text": [
      "Total documents in doc_data: 522931\n",
      "Sample doc_ids: ['1', '2', '3', '4', '5']\n",
      "Top indices: [156020 169645 504187 258821 516999]\n",
      "Additional words from top 5 documents: help become introversion autism\n",
      "🔍 Enhanced Query: How can I tell if a child is introverted? help become introversion autism\n"
     ]
    },
    {
     "name": "stderr",
     "output_type": "stream",
     "text": [
      "معالجة الاستعلامات:  68%|██████▊   | 676/1000 [41:42<19:43,  3.65s/استعلام]"
     ]
    },
    {
     "name": "stdout",
     "output_type": "stream",
     "text": [
      "Total documents in doc_data: 522931\n",
      "Sample doc_ids: ['1', '2', '3', '4', '5']\n",
      "Top indices: [324906 345882 324905 500158 500159]\n",
      "Additional words from top 5 documents: mindblowing amaze usa\n",
      "🔍 Enhanced Query: What facts about the United States do foreigners not believe until they come to America? mindblowing amaze usa\n"
     ]
    },
    {
     "name": "stderr",
     "output_type": "stream",
     "text": [
      "معالجة الاستعلامات:  68%|██████▊   | 677/1000 [41:45<19:31,  3.63s/استعلام]"
     ]
    },
    {
     "name": "stdout",
     "output_type": "stream",
     "text": [
      "Total documents in doc_data: 522931\n",
      "Sample doc_ids: ['1', '2', '3', '4', '5']\n",
      "Top indices: [ 31565 153941 270865  81620 450532]\n",
      "Additional words from top 5 documents: prove assume gcd 1how\n",
      "🔍 Enhanced Query: What is the proof of Euclid's algorithm? prove assume gcd 1how\n"
     ]
    },
    {
     "name": "stderr",
     "output_type": "stream",
     "text": [
      "معالجة الاستعلامات:  68%|██████▊   | 678/1000 [41:49<19:26,  3.62s/استعلام]"
     ]
    },
    {
     "name": "stdout",
     "output_type": "stream",
     "text": [
      "Total documents in doc_data: 522931\n",
      "Sample doc_ids: ['1', '2', '3', '4', '5']\n",
      "Top indices: [ 31676 243038 100225 324680 100226]\n",
      "Additional words from top 5 documents: still periods days two\n",
      "🔍 Enhanced Query: Is it normal to bleed again after your period? Why or why not? still periods days two\n"
     ]
    },
    {
     "name": "stderr",
     "output_type": "stream",
     "text": [
      "معالجة الاستعلامات:  68%|██████▊   | 679/1000 [41:52<19:31,  3.65s/استعلام]"
     ]
    },
    {
     "name": "stdout",
     "output_type": "stream",
     "text": [
      "Total documents in doc_data: 522931\n",
      "Sample doc_ids: ['1', '2', '3', '4', '5']\n",
      "Top indices: [105595  31735 113322 322972 213288]\n",
      "Additional words from top 5 documents: drop consequences indias reactions\n",
      "🔍 Enhanced Query: Why did the sensex fall after the surgical strike by India? drop consequences indias reactions\n"
     ]
    },
    {
     "name": "stderr",
     "output_type": "stream",
     "text": [
      "معالجة الاستعلامات:  68%|██████▊   | 680/1000 [41:56<19:31,  3.66s/استعلام]"
     ]
    },
    {
     "name": "stdout",
     "output_type": "stream",
     "text": [
      "Total documents in doc_data: 522931\n",
      "Sample doc_ids: ['1', '2', '3', '4', '5']\n",
      "Top indices: [ 31775  74906  98936  98935 482682]\n",
      "Additional words from top 5 documents: make confident better foundation\n",
      "🔍 Enhanced Query: Does makeup increase your confidence? make confident better foundation\n"
     ]
    },
    {
     "name": "stderr",
     "output_type": "stream",
     "text": [
      "معالجة الاستعلامات:  68%|██████▊   | 681/1000 [42:00<19:25,  3.65s/استعلام]"
     ]
    },
    {
     "name": "stdout",
     "output_type": "stream",
     "text": [
      "Total documents in doc_data: 522931\n",
      "Sample doc_ids: ['1', '2', '3', '4', '5']\n",
      "Top indices: [ 31795 470591 117937 109764 455723]\n",
      "Additional words from top 5 documents: best notebook laptop dell\n",
      "🔍 Enhanced Query: What are some good notebooks for programmers? best notebook laptop dell\n"
     ]
    },
    {
     "name": "stderr",
     "output_type": "stream",
     "text": [
      "معالجة الاستعلامات:  68%|██████▊   | 682/1000 [42:03<19:12,  3.62s/استعلام]"
     ]
    },
    {
     "name": "stdout",
     "output_type": "stream",
     "text": [
      "Total documents in doc_data: 522931\n",
      "Sample doc_ids: ['1', '2', '3', '4', '5']\n",
      "Top indices: [196912 286116 279238 452705  31976]\n",
      "Additional words from top 5 documents: american people australians china\n",
      "🔍 Enhanced Query: How do Americans think about Chinese? american people australians china\n"
     ]
    },
    {
     "name": "stderr",
     "output_type": "stream",
     "text": [
      "معالجة الاستعلامات:  68%|██████▊   | 683/1000 [42:07<19:14,  3.64s/استعلام]"
     ]
    },
    {
     "name": "stdout",
     "output_type": "stream",
     "text": [
      "Total documents in doc_data: 522931\n",
      "Sample doc_ids: ['1', '2', '3', '4', '5']\n",
      "Top indices: [ 32025 352780 475708  28378  73094]\n",
      "Additional words from top 5 documents: view notifications stop unsubscribe\n",
      "🔍 Enhanced Query: How do I disable notification in Quora? view notifications stop unsubscribe\n"
     ]
    },
    {
     "name": "stderr",
     "output_type": "stream",
     "text": [
      "معالجة الاستعلامات:  68%|██████▊   | 684/1000 [42:11<19:06,  3.63s/استعلام]"
     ]
    },
    {
     "name": "stdout",
     "output_type": "stream",
     "text": [
      "Total documents in doc_data: 522931\n",
      "Sample doc_ids: ['1', '2', '3', '4', '5']\n",
      "Top indices: [ 32079  25782 510670 333883 136505]\n",
      "Additional words from top 5 documents: witten great better zidane\n",
      "🔍 Enhanced Query: What does Richard Muller think of Michio Kaku? witten great better zidane\n"
     ]
    },
    {
     "name": "stderr",
     "output_type": "stream",
     "text": [
      "معالجة الاستعلامات:  68%|██████▊   | 685/1000 [42:14<18:56,  3.61s/استعلام]"
     ]
    },
    {
     "name": "stdout",
     "output_type": "stream",
     "text": [
      "Total documents in doc_data: 522931\n",
      "Sample doc_ids: ['1', '2', '3', '4', '5']\n",
      "Top indices: [168132 168131  32206  62466 367154]\n",
      "Additional words from top 5 documents: antimatter\n",
      "🔍 Enhanced Query: What's the difference between dark matter and dark energy? antimatter\n"
     ]
    },
    {
     "name": "stderr",
     "output_type": "stream",
     "text": [
      "معالجة الاستعلامات:  69%|██████▊   | 686/1000 [42:18<19:03,  3.64s/استعلام]"
     ]
    },
    {
     "name": "stdout",
     "output_type": "stream",
     "text": [
      "Total documents in doc_data: 522931\n",
      "Sample doc_ids: ['1', '2', '3', '4', '5']\n",
      "Top indices: [ 73023 177928 333015  33463  85673]\n",
      "Additional words from top 5 documents: california best state place\n",
      "🔍 Enhanced Query: Where is it better to live, Los Angeles or the San Francisco Bay Area? california best state place\n"
     ]
    },
    {
     "name": "stderr",
     "output_type": "stream",
     "text": [
      "معالجة الاستعلامات:  69%|██████▊   | 687/1000 [42:21<18:52,  3.62s/استعلام]"
     ]
    },
    {
     "name": "stdout",
     "output_type": "stream",
     "text": [
      "Total documents in doc_data: 522931\n",
      "Sample doc_ids: ['1', '2', '3', '4', '5']\n",
      "Top indices: [ 70039 347554 148834  78103 151246]\n",
      "Additional words from top 5 documents: java difference objectoriented functionoriented\n",
      "🔍 Enhanced Query: What are the differences between object oriented approach and object based approach? java difference objectoriented functionoriented\n"
     ]
    },
    {
     "name": "stderr",
     "output_type": "stream",
     "text": [
      "معالجة الاستعلامات:  69%|██████▉   | 688/1000 [42:25<18:46,  3.61s/استعلام]"
     ]
    },
    {
     "name": "stdout",
     "output_type": "stream",
     "text": [
      "Total documents in doc_data: 522931\n",
      "Sample doc_ids: ['1', '2', '3', '4', '5']\n",
      "Top indices: [ 95839  32296 101859 105837 274049]\n",
      "Additional words from top 5 documents: good sadness angels always\n",
      "🔍 Enhanced Query: What songs make you cry? good sadness angels always\n"
     ]
    },
    {
     "name": "stderr",
     "output_type": "stream",
     "text": [
      "معالجة الاستعلامات:  69%|██████▉   | 689/1000 [42:29<18:48,  3.63s/استعلام]"
     ]
    },
    {
     "name": "stdout",
     "output_type": "stream",
     "text": [
      "Total documents in doc_data: 522931\n",
      "Sample doc_ids: ['1', '2', '3', '4', '5']\n",
      "Top indices: [455685 455686  32415 420425 262368]\n",
      "Additional words from top 5 documents: examples benefit bad not\n",
      "🔍 Enhanced Query: What is devolution? examples benefit bad not\n"
     ]
    },
    {
     "name": "stderr",
     "output_type": "stream",
     "text": [
      "معالجة الاستعلامات:  69%|██████▉   | 690/1000 [42:32<19:00,  3.68s/استعلام]"
     ]
    },
    {
     "name": "stdout",
     "output_type": "stream",
     "text": [
      "Total documents in doc_data: 522931\n",
      "Sample doc_ids: ['1', '2', '3', '4', '5']\n",
      "Top indices: [ 32463 489175 201340 278115 232835]\n",
      "Additional words from top 5 documents: propose accept proposals\n",
      "🔍 Enhanced Query: What is a proposal? propose accept proposals\n"
     ]
    },
    {
     "name": "stderr",
     "output_type": "stream",
     "text": [
      "معالجة الاستعلامات:  69%|██████▉   | 691/1000 [42:36<18:53,  3.67s/استعلام]"
     ]
    },
    {
     "name": "stdout",
     "output_type": "stream",
     "text": [
      "Total documents in doc_data: 522931\n",
      "Sample doc_ids: ['1', '2', '3', '4', '5']\n",
      "Top indices: [  4784 351884  80998 429912  80997]\n",
      "Additional words from top 5 documents: ebay customize create\n",
      "🔍 Enhanced Query: How do you sell your WordPress themes? ebay customize create\n"
     ]
    },
    {
     "name": "stderr",
     "output_type": "stream",
     "text": [
      "معالجة الاستعلامات:  69%|██████▉   | 692/1000 [42:40<18:51,  3.67s/استعلام]"
     ]
    },
    {
     "name": "stdout",
     "output_type": "stream",
     "text": [
      "Total documents in doc_data: 522931\n",
      "Sample doc_ids: ['1', '2', '3', '4', '5']\n",
      "Top indices: [ 32519 327610 271940 249340 181757]\n",
      "Additional words from top 5 documents: hand use rinse water\n",
      "🔍 Enhanced Query: How does a sanitizer work? hand use rinse water\n"
     ]
    },
    {
     "name": "stderr",
     "output_type": "stream",
     "text": [
      "معالجة الاستعلامات:  69%|██████▉   | 693/1000 [42:43<18:36,  3.64s/استعلام]"
     ]
    },
    {
     "name": "stdout",
     "output_type": "stream",
     "text": [
      "Total documents in doc_data: 522931\n",
      "Sample doc_ids: ['1', '2', '3', '4', '5']\n",
      "Top indices: [467758 436471  32558 248417 453743]\n",
      "Additional words from top 5 documents: movies inspire uplift\n",
      "🔍 Enhanced Query: Which is the movie that changed your life and why? movies inspire uplift\n"
     ]
    },
    {
     "name": "stderr",
     "output_type": "stream",
     "text": [
      "معالجة الاستعلامات:  69%|██████▉   | 694/1000 [42:47<18:29,  3.62s/استعلام]"
     ]
    },
    {
     "name": "stdout",
     "output_type": "stream",
     "text": [
      "Total documents in doc_data: 522931\n",
      "Sample doc_ids: ['1', '2', '3', '4', '5']\n",
      "Top indices: [154755  73460   5600 101071 510529]\n",
      "Additional words from top 5 documents: manage cope reduce disorder\n",
      "🔍 Enhanced Query: How do I get over anxiety? manage cope reduce disorder\n"
     ]
    },
    {
     "name": "stderr",
     "output_type": "stream",
     "text": [
      "معالجة الاستعلامات:  70%|██████▉   | 695/1000 [42:51<18:30,  3.64s/استعلام]"
     ]
    },
    {
     "name": "stdout",
     "output_type": "stream",
     "text": [
      "Total documents in doc_data: 522931\n",
      "Sample doc_ids: ['1', '2', '3', '4', '5']\n",
      "Top indices: [ 78150 221809 304594 461239 395029]\n",
      "Additional words from top 5 documents: mozilla nonprofit develop website\n",
      "🔍 Enhanced Query: Is Tim Berners-Lee solely responsible for the development of the World Wide Web, or did he receive help? mozilla nonprofit develop website\n"
     ]
    },
    {
     "name": "stderr",
     "output_type": "stream",
     "text": [
      "معالجة الاستعلامات:  70%|██████▉   | 696/1000 [42:54<18:20,  3.62s/استعلام]"
     ]
    },
    {
     "name": "stdout",
     "output_type": "stream",
     "text": [
      "Total documents in doc_data: 522931\n",
      "Sample doc_ids: ['1', '2', '3', '4', '5']\n",
      "Top indices: [377757 424107 273182   4004  43933]\n",
      "Additional words from top 5 documents: reduce size exercise increase\n",
      "🔍 Enhanced Query: How do you get a smaller waist? reduce size exercise increase\n"
     ]
    },
    {
     "name": "stderr",
     "output_type": "stream",
     "text": [
      "معالجة الاستعلامات:  70%|██████▉   | 697/1000 [42:58<18:12,  3.61s/استعلام]"
     ]
    },
    {
     "name": "stdout",
     "output_type": "stream",
     "text": [
      "Total documents in doc_data: 522931\n",
      "Sample doc_ids: ['1', '2', '3', '4', '5']\n",
      "Top indices: [301590  32670 332980 496165 483502]\n",
      "Additional words from top 5 documents: 你对中国的印象如何\n",
      "🔍 Enhanced Query: What is your first impression of China? 你对中国的印象如何\n"
     ]
    },
    {
     "name": "stderr",
     "output_type": "stream",
     "text": [
      "معالجة الاستعلامات:  70%|██████▉   | 698/1000 [43:01<18:03,  3.59s/استعلام]"
     ]
    },
    {
     "name": "stdout",
     "output_type": "stream",
     "text": [
      "Total documents in doc_data: 522931\n",
      "Sample doc_ids: ['1', '2', '3', '4', '5']\n",
      "Top indices: [ 43156  17354 437795 504274 231800]\n",
      "Additional words from top 5 documents: best safe country tourists\n",
      "🔍 Enhanced Query: What are some places to visit in Pakistan? best safe country tourists\n"
     ]
    },
    {
     "name": "stderr",
     "output_type": "stream",
     "text": [
      "معالجة الاستعلامات:  70%|██████▉   | 699/1000 [43:05<17:54,  3.57s/استعلام]"
     ]
    },
    {
     "name": "stdout",
     "output_type": "stream",
     "text": [
      "Total documents in doc_data: 522931\n",
      "Sample doc_ids: ['1', '2', '3', '4', '5']\n",
      "Top indices: [342991 369200 300281  32635   3056]\n",
      "Additional words from top 5 documents: prevent climate change\n",
      "🔍 Enhanced Query: Can we stop global warming? Yeo/No? Why? prevent climate change\n"
     ]
    },
    {
     "name": "stderr",
     "output_type": "stream",
     "text": [
      "معالجة الاستعلامات:  70%|███████   | 700/1000 [43:08<17:51,  3.57s/استعلام]"
     ]
    },
    {
     "name": "stdout",
     "output_type": "stream",
     "text": [
      "Total documents in doc_data: 522931\n",
      "Sample doc_ids: ['1', '2', '3', '4', '5']\n",
      "Top indices: [132342 182217 370420 481194  86905]\n",
      "Additional words from top 5 documents: good freelance websites freelancer\n",
      "🔍 Enhanced Query: What kind of small on demand business online could I start to earn an extra income? good freelance websites freelancer\n"
     ]
    },
    {
     "name": "stderr",
     "output_type": "stream",
     "text": [
      "معالجة الاستعلامات:  70%|███████   | 701/1000 [43:12<17:47,  3.57s/استعلام]"
     ]
    },
    {
     "name": "stdout",
     "output_type": "stream",
     "text": [
      "Total documents in doc_data: 522931\n",
      "Sample doc_ids: ['1', '2', '3', '4', '5']\n",
      "Top indices: [425112 181635  32839  76279 111404]\n",
      "Additional words from top 5 documents: acidfree safe body make\n",
      "🔍 Enhanced Query: Is acrylic paint toxic? acidfree safe body make\n"
     ]
    },
    {
     "name": "stderr",
     "output_type": "stream",
     "text": [
      "معالجة الاستعلامات:  70%|███████   | 702/1000 [43:16<17:49,  3.59s/استعلام]"
     ]
    },
    {
     "name": "stdout",
     "output_type": "stream",
     "text": [
      "Total documents in doc_data: 522931\n",
      "Sample doc_ids: ['1', '2', '3', '4', '5']\n",
      "Top indices: [ 32849 149276 163227  95562  32295]\n",
      "Additional words from top 5 documents: college institute gmat bhubaneswar\n",
      "🔍 Enhanced Query: What are the best MBA course colleges in Gwalior? college institute gmat bhubaneswar\n"
     ]
    },
    {
     "name": "stderr",
     "output_type": "stream",
     "text": [
      "معالجة الاستعلامات:  70%|███████   | 703/1000 [43:19<17:43,  3.58s/استعلام]"
     ]
    },
    {
     "name": "stdout",
     "output_type": "stream",
     "text": [
      "Total documents in doc_data: 522931\n",
      "Sample doc_ids: ['1', '2', '3', '4', '5']\n",
      "Top indices: [449084  75793   3993 140500 449400]\n",
      "Additional words from top 5 documents: leadership biggest controversy jayalalithas\n",
      "🔍 Enhanced Query: What do you think about the recent conviction of Jayalalitha? leadership biggest controversy jayalalithas\n"
     ]
    },
    {
     "name": "stderr",
     "output_type": "stream",
     "text": [
      "معالجة الاستعلامات:  70%|███████   | 704/1000 [43:23<17:49,  3.61s/استعلام]"
     ]
    },
    {
     "name": "stdout",
     "output_type": "stream",
     "text": [
      "Total documents in doc_data: 522931\n",
      "Sample doc_ids: ['1', '2', '3', '4', '5']\n",
      "Top indices: [ 32919  47163  33176  75504 467831]\n",
      "Additional words from top 5 documents: \n",
      "No new words to add to query for beir\n"
     ]
    },
    {
     "name": "stderr",
     "output_type": "stream",
     "text": [
      "معالجة الاستعلامات:  70%|███████   | 705/1000 [43:26<17:41,  3.60s/استعلام]"
     ]
    },
    {
     "name": "stdout",
     "output_type": "stream",
     "text": [
      "Total documents in doc_data: 522931\n",
      "Sample doc_ids: ['1', '2', '3', '4', '5']\n",
      "Top indices: [ 32998 188418   7958 188417 393586]\n",
      "Additional words from top 5 documents: club festival party job\n",
      "🔍 Enhanced Query: Where can I find DJs for a pub in Sydney? club festival party job\n"
     ]
    },
    {
     "name": "stderr",
     "output_type": "stream",
     "text": [
      "معالجة الاستعلامات:  71%|███████   | 706/1000 [43:30<17:46,  3.63s/استعلام]"
     ]
    },
    {
     "name": "stdout",
     "output_type": "stream",
     "text": [
      "Total documents in doc_data: 522931\n",
      "Sample doc_ids: ['1', '2', '3', '4', '5']\n",
      "Top indices: [349779 338381 401429  63896 136389]\n",
      "Additional words from top 5 documents: crack fifa use steroids\n",
      "🔍 Enhanced Query: Why do the athletes in Australia, UK and the U.S. legally take dopes in world sport games? crack fifa use steroids\n"
     ]
    },
    {
     "name": "stderr",
     "output_type": "stream",
     "text": [
      "معالجة الاستعلامات:  71%|███████   | 707/1000 [43:34<18:06,  3.71s/استعلام]"
     ]
    },
    {
     "name": "stdout",
     "output_type": "stream",
     "text": [
      "Total documents in doc_data: 522931\n",
      "Sample doc_ids: ['1', '2', '3', '4', '5']\n",
      "Top indices: [218177 373165 412597 412596 106738]\n",
      "Additional words from top 5 documents: study good programmer software\n",
      "🔍 Enhanced Query: How do I become a great computer scientist? What should I do? study good programmer software\n"
     ]
    },
    {
     "name": "stderr",
     "output_type": "stream",
     "text": [
      "معالجة الاستعلامات:  71%|███████   | 708/1000 [43:38<18:22,  3.78s/استعلام]"
     ]
    },
    {
     "name": "stdout",
     "output_type": "stream",
     "text": [
      "Total documents in doc_data: 522931\n",
      "Sample doc_ids: ['1', '2', '3', '4', '5']\n",
      "Top indices: [ 76551 175636  27963 212682  27964]\n",
      "Additional words from top 5 documents: apply job find\n",
      "🔍 Enhanced Query: What is the best way to work abroad? apply job find\n"
     ]
    },
    {
     "name": "stderr",
     "output_type": "stream",
     "text": [
      "معالجة الاستعلامات:  71%|███████   | 709/1000 [43:42<18:30,  3.82s/استعلام]"
     ]
    },
    {
     "name": "stdout",
     "output_type": "stream",
     "text": [
      "Total documents in doc_data: 522931\n",
      "Sample doc_ids: ['1', '2', '3', '4', '5']\n",
      "Top indices: [175056 435294 520469  60181  34749]\n",
      "No similar documents found for beir with sufficient similarity\n"
     ]
    },
    {
     "name": "stderr",
     "output_type": "stream",
     "text": [
      "معالجة الاستعلامات:  71%|███████   | 710/1000 [43:46<18:15,  3.78s/استعلام]"
     ]
    },
    {
     "name": "stdout",
     "output_type": "stream",
     "text": [
      "Total documents in doc_data: 522931\n",
      "Sample doc_ids: ['1', '2', '3', '4', '5']\n",
      "Top indices: [ 33516 402128 266980  54774  98076]\n",
      "Additional words from top 5 documents: gravity exactly constant earth\n",
      "🔍 Enhanced Query: What is gravity's effect on time? gravity exactly constant earth\n"
     ]
    },
    {
     "name": "stderr",
     "output_type": "stream",
     "text": [
      "معالجة الاستعلامات:  71%|███████   | 711/1000 [43:49<18:06,  3.76s/استعلام]"
     ]
    },
    {
     "name": "stdout",
     "output_type": "stream",
     "text": [
      "Total documents in doc_data: 522931\n",
      "Sample doc_ids: ['1', '2', '3', '4', '5']\n",
      "Top indices: [ 33593 447828 511321 302784 501359]\n",
      "Additional words from top 5 documents: today greek norse egyptian\n",
      "🔍 Enhanced Query: How many gods are currently worshipped on earth? today greek norse egyptian\n"
     ]
    },
    {
     "name": "stderr",
     "output_type": "stream",
     "text": [
      "معالجة الاستعلامات:  71%|███████   | 712/1000 [43:53<17:39,  3.68s/استعلام]"
     ]
    },
    {
     "name": "stdout",
     "output_type": "stream",
     "text": [
      "Total documents in doc_data: 522931\n",
      "Sample doc_ids: ['1', '2', '3', '4', '5']\n",
      "Top indices: [ 33643 472895 301201 452378 511646]\n",
      "Additional words from top 5 documents: good foods taste things\n",
      "🔍 Enhanced Query: What is the best food for the brain? good foods taste things\n"
     ]
    },
    {
     "name": "stderr",
     "output_type": "stream",
     "text": [
      "معالجة الاستعلامات:  71%|███████▏  | 713/1000 [43:56<17:23,  3.64s/استعلام]"
     ]
    },
    {
     "name": "stdout",
     "output_type": "stream",
     "text": [
      "Total documents in doc_data: 522931\n",
      "Sample doc_ids: ['1', '2', '3', '4', '5']\n",
      "Top indices: [238356 371411 371410 512328 195606]\n",
      "Additional words from top 5 documents: someone always people\n",
      "🔍 Enhanced Query: Who is the most inspiring person to you? someone always people\n"
     ]
    },
    {
     "name": "stderr",
     "output_type": "stream",
     "text": [
      "معالجة الاستعلامات:  71%|███████▏  | 714/1000 [44:00<17:23,  3.65s/استعلام]"
     ]
    },
    {
     "name": "stdout",
     "output_type": "stream",
     "text": [
      "Total documents in doc_data: 522931\n",
      "Sample doc_ids: ['1', '2', '3', '4', '5']\n",
      "Top indices: [491161  39376 102045 140474  41542]\n",
      "Additional words from top 5 documents: good alternatives pornhub websites\n",
      "🔍 Enhanced Query: What is the best amateur sex site? good alternatives pornhub websites\n"
     ]
    },
    {
     "name": "stderr",
     "output_type": "stream",
     "text": [
      "معالجة الاستعلامات:  72%|███████▏  | 715/1000 [44:04<17:31,  3.69s/استعلام]"
     ]
    },
    {
     "name": "stdout",
     "output_type": "stream",
     "text": [
      "Total documents in doc_data: 522931\n",
      "Sample doc_ids: ['1', '2', '3', '4', '5']\n",
      "Top indices: [400176 351119 500385 377212 156499]\n",
      "Additional words from top 5 documents: safe use expire\n",
      "🔍 Enhanced Query: How dangerous is it really to leave a tampon in overnight? safe use expire\n"
     ]
    },
    {
     "name": "stderr",
     "output_type": "stream",
     "text": [
      "معالجة الاستعلامات:  72%|███████▏  | 716/1000 [44:08<17:40,  3.73s/استعلام]"
     ]
    },
    {
     "name": "stdout",
     "output_type": "stream",
     "text": [
      "Total documents in doc_data: 522931\n",
      "Sample doc_ids: ['1', '2', '3', '4', '5']\n",
      "Top indices: [ 33775 116766  79867 272426 196292]\n",
      "Additional words from top 5 documents: rubbles job show come\n",
      "🔍 Enhanced Query: What did Barney Rubble do for a living? rubbles job show come\n"
     ]
    },
    {
     "name": "stderr",
     "output_type": "stream",
     "text": [
      "معالجة الاستعلامات:  72%|███████▏  | 717/1000 [44:11<17:43,  3.76s/استعلام]"
     ]
    },
    {
     "name": "stdout",
     "output_type": "stream",
     "text": [
      "Total documents in doc_data: 522931\n",
      "Sample doc_ids: ['1', '2', '3', '4', '5']\n",
      "Top indices: [  7641 499491 332727 199464 163916]\n",
      "Additional words from top 5 documents: countries support veto power\n",
      "🔍 Enhanced Query: What are the obstacles faced by India when becoming a permanent member of the UN Security Council? How can India tackle it? countries support veto power\n"
     ]
    },
    {
     "name": "stderr",
     "output_type": "stream",
     "text": [
      "معالجة الاستعلامات:  72%|███████▏  | 718/1000 [44:15<17:36,  3.75s/استعلام]"
     ]
    },
    {
     "name": "stdout",
     "output_type": "stream",
     "text": [
      "Total documents in doc_data: 522931\n",
      "Sample doc_ids: ['1', '2', '3', '4', '5']\n",
      "Top indices: [ 33944 125343 436994 157257 463725]\n",
      "Additional words from top 5 documents: weed get cannabis bangalore\n",
      "🔍 Enhanced Query: Where can I find marijuana in Nagpur? weed get cannabis bangalore\n"
     ]
    },
    {
     "name": "stderr",
     "output_type": "stream",
     "text": [
      "معالجة الاستعلامات:  72%|███████▏  | 719/1000 [44:19<17:34,  3.75s/استعلام]"
     ]
    },
    {
     "name": "stdout",
     "output_type": "stream",
     "text": [
      "Total documents in doc_data: 522931\n",
      "Sample doc_ids: ['1', '2', '3', '4', '5']\n",
      "Top indices: [305203 506401 481566 506400 305202]\n",
      "Additional words from top 5 documents: best hostel hotels safe\n",
      "🔍 Enhanced Query: Where is a good place to stay in London? best hostel hotels safe\n"
     ]
    },
    {
     "name": "stderr",
     "output_type": "stream",
     "text": [
      "معالجة الاستعلامات:  72%|███████▏  | 720/1000 [44:23<17:24,  3.73s/استعلام]"
     ]
    },
    {
     "name": "stdout",
     "output_type": "stream",
     "text": [
      "Total documents in doc_data: 522931\n",
      "Sample doc_ids: ['1', '2', '3', '4', '5']\n",
      "Top indices: [ 34057 502923 273083 319388 282689]\n",
      "Additional words from top 5 documents: knockoffs china import origin\n",
      "🔍 Enhanced Query: Chinese knock offs? knockoffs china import origin\n"
     ]
    },
    {
     "name": "stderr",
     "output_type": "stream",
     "text": [
      "معالجة الاستعلامات:  72%|███████▏  | 721/1000 [44:26<17:22,  3.74s/استعلام]"
     ]
    },
    {
     "name": "stdout",
     "output_type": "stream",
     "text": [
      "Total documents in doc_data: 522931\n",
      "Sample doc_ids: ['1', '2', '3', '4', '5']\n",
      "Top indices: [ 34141  40941  40940 290895 285417]\n",
      "Additional words from top 5 documents: computers computer electronicscompcom trustable\n",
      "🔍 Enhanced Query: Who is known as the father of electronics? computers computer electronicscompcom trustable\n"
     ]
    },
    {
     "name": "stderr",
     "output_type": "stream",
     "text": [
      "معالجة الاستعلامات:  72%|███████▏  | 722/1000 [44:30<17:06,  3.69s/استعلام]"
     ]
    },
    {
     "name": "stdout",
     "output_type": "stream",
     "text": [
      "Total documents in doc_data: 522931\n",
      "Sample doc_ids: ['1', '2', '3', '4', '5']\n",
      "Top indices: [ 34212 104658 104657 413825 427848]\n",
      "Additional words from top 5 documents: 1950s song 1970s 40s\n",
      "🔍 Enhanced Query: What are the best songs of the 60s? 1950s song 1970s 40s\n"
     ]
    },
    {
     "name": "stderr",
     "output_type": "stream",
     "text": [
      "معالجة الاستعلامات:  72%|███████▏  | 723/1000 [44:33<16:44,  3.63s/استعلام]"
     ]
    },
    {
     "name": "stdout",
     "output_type": "stream",
     "text": [
      "Total documents in doc_data: 522931\n",
      "Sample doc_ids: ['1', '2', '3', '4', '5']\n",
      "Top indices: [ 22356  22355 102136 209911 180114]\n",
      "Additional words from top 5 documents: bollywoods best akshay kumar\n",
      "🔍 Enhanced Query: What are some of the most popular / favourite / iconic dialogues from Bollywood movies ? bollywoods best akshay kumar\n"
     ]
    },
    {
     "name": "stderr",
     "output_type": "stream",
     "text": [
      "معالجة الاستعلامات:  72%|███████▏  | 724/1000 [44:37<16:33,  3.60s/استعلام]"
     ]
    },
    {
     "name": "stdout",
     "output_type": "stream",
     "text": [
      "Total documents in doc_data: 522931\n",
      "Sample doc_ids: ['1', '2', '3', '4', '5']\n",
      "Top indices: [286959 285378 326854  43519 344174]\n",
      "Additional words from top 5 documents: worst evil wisest misunderstand\n",
      "🔍 Enhanced Query: Who is the stupidest character in Game of Thrones? worst evil wisest misunderstand\n"
     ]
    },
    {
     "name": "stderr",
     "output_type": "stream",
     "text": [
      "معالجة الاستعلامات:  72%|███████▎  | 725/1000 [44:41<16:26,  3.59s/استعلام]"
     ]
    },
    {
     "name": "stdout",
     "output_type": "stream",
     "text": [
      "Total documents in doc_data: 522931\n",
      "Sample doc_ids: ['1', '2', '3', '4', '5']\n",
      "Top indices: [157470 312303  14452 116015  14451]\n",
      "Additional words from top 5 documents: bitcoin generator earn online\n",
      "🔍 Enhanced Query: How can I get free bitcoins? bitcoin generator earn online\n"
     ]
    },
    {
     "name": "stderr",
     "output_type": "stream",
     "text": [
      "معالجة الاستعلامات:  73%|███████▎  | 726/1000 [44:44<16:24,  3.59s/استعلام]"
     ]
    },
    {
     "name": "stdout",
     "output_type": "stream",
     "text": [
      "Total documents in doc_data: 522931\n",
      "Sample doc_ids: ['1', '2', '3', '4', '5']\n",
      "Top indices: [414671  30762 348468 178076  31618]\n",
      "Additional words from top 5 documents: money\n",
      "🔍 Enhanced Query: What is the most important in life? money\n"
     ]
    },
    {
     "name": "stderr",
     "output_type": "stream",
     "text": [
      "معالجة الاستعلامات:  73%|███████▎  | 727/1000 [44:48<16:32,  3.63s/استعلام]"
     ]
    },
    {
     "name": "stdout",
     "output_type": "stream",
     "text": [
      "Total documents in doc_data: 522931\n",
      "Sample doc_ids: ['1', '2', '3', '4', '5']\n",
      "Top indices: [440505 336883 336884 440504 197771]\n",
      "Additional words from top 5 documents: continuously fix error 500\n",
      "🔍 Enhanced Query: Why does YouTube keep crashing while using Google Chrome? continuously fix error 500\n"
     ]
    },
    {
     "name": "stderr",
     "output_type": "stream",
     "text": [
      "معالجة الاستعلامات:  73%|███████▎  | 728/1000 [44:52<16:31,  3.65s/استعلام]"
     ]
    },
    {
     "name": "stdout",
     "output_type": "stream",
     "text": [
      "Total documents in doc_data: 522931\n",
      "Sample doc_ids: ['1', '2', '3', '4', '5']\n",
      "Top indices: [304601 259289  75020 318616 318615]\n",
      "Additional words from top 5 documents: exercise gym increase take\n",
      "🔍 Enhanced Query: Does our height stops growing when we start gyming? exercise gym increase take\n"
     ]
    },
    {
     "name": "stderr",
     "output_type": "stream",
     "text": [
      "معالجة الاستعلامات:  73%|███████▎  | 729/1000 [44:55<16:20,  3.62s/استعلام]"
     ]
    },
    {
     "name": "stdout",
     "output_type": "stream",
     "text": [
      "Total documents in doc_data: 522931\n",
      "Sample doc_ids: ['1', '2', '3', '4', '5']\n",
      "Top indices: [458454 122584  28619 430558  55032]\n",
      "Additional words from top 5 documents: eliminate government reduce do\n",
      "🔍 Enhanced Query: Can you eradicate poverty? eliminate government reduce do\n"
     ]
    },
    {
     "name": "stderr",
     "output_type": "stream",
     "text": [
      "معالجة الاستعلامات:  73%|███████▎  | 730/1000 [44:59<16:15,  3.61s/استعلام]"
     ]
    },
    {
     "name": "stdout",
     "output_type": "stream",
     "text": [
      "Total documents in doc_data: 522931\n",
      "Sample doc_ids: ['1', '2', '3', '4', '5']\n",
      "Top indices: [427446 391671 232716 320914 173621]\n",
      "Additional words from top 5 documents: \n",
      "No new words to add to query for beir\n"
     ]
    },
    {
     "name": "stderr",
     "output_type": "stream",
     "text": [
      "معالجة الاستعلامات:  73%|███████▎  | 731/1000 [45:02<16:04,  3.59s/استعلام]"
     ]
    },
    {
     "name": "stdout",
     "output_type": "stream",
     "text": [
      "Total documents in doc_data: 522931\n",
      "Sample doc_ids: ['1', '2', '3', '4', '5']\n",
      "Top indices: [454124 432513 432512 454125 348437]\n",
      "Additional words from top 5 documents: improve ways contribute\n",
      "🔍 Enhanced Query: What will you change in our society? improve ways contribute\n"
     ]
    },
    {
     "name": "stderr",
     "output_type": "stream",
     "text": [
      "معالجة الاستعلامات:  73%|███████▎  | 732/1000 [45:06<15:52,  3.55s/استعلام]"
     ]
    },
    {
     "name": "stdout",
     "output_type": "stream",
     "text": [
      "Total documents in doc_data: 522931\n",
      "Sample doc_ids: ['1', '2', '3', '4', '5']\n",
      "Top indices: [238007 436213 337110 517587 100412]\n",
      "Additional words from top 5 documents: good freelance writer copywriter\n",
      "🔍 Enhanced Query: In what kind of jobs is creative writing highly valuable? good freelance writer copywriter\n"
     ]
    },
    {
     "name": "stderr",
     "output_type": "stream",
     "text": [
      "معالجة الاستعلامات:  73%|███████▎  | 733/1000 [45:09<15:44,  3.54s/استعلام]"
     ]
    },
    {
     "name": "stdout",
     "output_type": "stream",
     "text": [
      "Total documents in doc_data: 522931\n",
      "Sample doc_ids: ['1', '2', '3', '4', '5']\n",
      "Top indices: [103937  34488 318291  84471 219520]\n",
      "Additional words from top 5 documents: best sauce spinach marsala\n",
      "🔍 Enhanced Query: What are some great side dishes to be served with ravioli? What are the recipes? best sauce spinach marsala\n"
     ]
    },
    {
     "name": "stderr",
     "output_type": "stream",
     "text": [
      "معالجة الاستعلامات:  73%|███████▎  | 734/1000 [45:13<15:29,  3.49s/استعلام]"
     ]
    },
    {
     "name": "stdout",
     "output_type": "stream",
     "text": [
      "Total documents in doc_data: 522931\n",
      "Sample doc_ids: ['1', '2', '3', '4', '5']\n",
      "Top indices: [436820 499404 224637 463627  61897]\n",
      "Additional words from top 5 documents: profile account gmail\n",
      "🔍 Enhanced Query: How do I change picture on Yahoo! Mail? profile account gmail\n"
     ]
    },
    {
     "name": "stderr",
     "output_type": "stream",
     "text": [
      "معالجة الاستعلامات:  74%|███████▎  | 735/1000 [45:16<15:15,  3.45s/استعلام]"
     ]
    },
    {
     "name": "stdout",
     "output_type": "stream",
     "text": [
      "Total documents in doc_data: 522931\n",
      "Sample doc_ids: ['1', '2', '3', '4', '5']\n",
      "Top indices: [308283 175920 319515  30353 426820]\n",
      "Additional words from top 5 documents: define\n",
      "🔍 Enhanced Query: What's your definition of a friend? define\n"
     ]
    },
    {
     "name": "stderr",
     "output_type": "stream",
     "text": [
      "معالجة الاستعلامات:  74%|███████▎  | 736/1000 [45:20<15:29,  3.52s/استعلام]"
     ]
    },
    {
     "name": "stdout",
     "output_type": "stream",
     "text": [
      "Total documents in doc_data: 522931\n",
      "Sample doc_ids: ['1', '2', '3', '4', '5']\n",
      "Top indices: [147824 243747  68698 212529 212528]\n",
      "Additional words from top 5 documents: hotel heritage\n",
      "🔍 Enhanced Query: What are the best five star hotels in Jaipur? hotel heritage\n"
     ]
    },
    {
     "name": "stderr",
     "output_type": "stream",
     "text": [
      "معالجة الاستعلامات:  74%|███████▎  | 737/1000 [45:23<15:30,  3.54s/استعلام]"
     ]
    },
    {
     "name": "stdout",
     "output_type": "stream",
     "text": [
      "Total documents in doc_data: 522931\n",
      "Sample doc_ids: ['1', '2', '3', '4', '5']\n",
      "Top indices: [198079 332648 257970 409441 104126]\n",
      "Additional words from top 5 documents: hotels heritage luxury\n",
      "🔍 Enhanced Query: Which is the best five star hotel in Bhopal for holidays? hotels heritage luxury\n"
     ]
    },
    {
     "name": "stderr",
     "output_type": "stream",
     "text": [
      "معالجة الاستعلامات:  74%|███████▍  | 738/1000 [45:27<15:23,  3.52s/استعلام]"
     ]
    },
    {
     "name": "stdout",
     "output_type": "stream",
     "text": [
      "Total documents in doc_data: 522931\n",
      "Sample doc_ids: ['1', '2', '3', '4', '5']\n",
      "Top indices: [380520  34674 144510 207228 198530]\n",
      "No similar documents found for beir with sufficient similarity\n"
     ]
    },
    {
     "name": "stderr",
     "output_type": "stream",
     "text": [
      "معالجة الاستعلامات:  74%|███████▍  | 739/1000 [45:30<15:23,  3.54s/استعلام]"
     ]
    },
    {
     "name": "stdout",
     "output_type": "stream",
     "text": [
      "Total documents in doc_data: 522931\n",
      "Sample doc_ids: ['1', '2', '3', '4', '5']\n",
      "Top indices: [401822 313541  18236 132094  82474]\n",
      "Additional words from top 5 documents: economic cooperation nepal indias\n",
      "🔍 Enhanced Query: What are the areas in which India is ahead of other nations? economic cooperation nepal indias\n"
     ]
    },
    {
     "name": "stderr",
     "output_type": "stream",
     "text": [
      "معالجة الاستعلامات:  74%|███████▍  | 740/1000 [45:34<15:23,  3.55s/استعلام]"
     ]
    },
    {
     "name": "stdout",
     "output_type": "stream",
     "text": [
      "Total documents in doc_data: 522931\n",
      "Sample doc_ids: ['1', '2', '3', '4', '5']\n",
      "Top indices: [  6453 411209 505851 472638 248264]\n",
      "Additional words from top 5 documents: bottle better tap prefer\n",
      "🔍 Enhanced Query: What are the best water drinking tools? bottle better tap prefer\n"
     ]
    },
    {
     "name": "stderr",
     "output_type": "stream",
     "text": [
      "معالجة الاستعلامات:  74%|███████▍  | 741/1000 [45:37<15:10,  3.52s/استعلام]"
     ]
    },
    {
     "name": "stdout",
     "output_type": "stream",
     "text": [
      "Total documents in doc_data: 522931\n",
      "Sample doc_ids: ['1', '2', '3', '4', '5']\n",
      "Top indices: [477232 179490 179491 188606 204708]\n",
      "Additional words from top 5 documents: superpower win superman thor\n",
      "🔍 Enhanced Query: If you were given a chance to be one of the superheroes then who would it be and why? superpower win superman thor\n"
     ]
    },
    {
     "name": "stderr",
     "output_type": "stream",
     "text": [
      "معالجة الاستعلامات:  74%|███████▍  | 742/1000 [45:41<15:16,  3.55s/استعلام]"
     ]
    },
    {
     "name": "stdout",
     "output_type": "stream",
     "text": [
      "Total documents in doc_data: 522931\n",
      "Sample doc_ids: ['1', '2', '3', '4', '5']\n",
      "Top indices: [351335 132448 150629  78771 359468]\n",
      "Additional words from top 5 documents: buffet world diet tip\n",
      "🔍 Enhanced Query: What is the most expensive meal you have eaten? How good did it taste? buffet world diet tip\n"
     ]
    },
    {
     "name": "stderr",
     "output_type": "stream",
     "text": [
      "معالجة الاستعلامات:  74%|███████▍  | 743/1000 [45:45<15:18,  3.57s/استعلام]"
     ]
    },
    {
     "name": "stdout",
     "output_type": "stream",
     "text": [
      "Total documents in doc_data: 522931\n",
      "Sample doc_ids: ['1', '2', '3', '4', '5']\n",
      "Top indices: [ 34905 273962 426879 273963  18665]\n",
      "Additional words from top 5 documents: sea impact strait gibraltar\n",
      "🔍 Enhanced Query: What are countries bordering the Mediterranean? How do they benefit? sea impact strait gibraltar\n"
     ]
    },
    {
     "name": "stderr",
     "output_type": "stream",
     "text": [
      "معالجة الاستعلامات:  74%|███████▍  | 744/1000 [45:48<15:19,  3.59s/استعلام]"
     ]
    },
    {
     "name": "stdout",
     "output_type": "stream",
     "text": [
      "Total documents in doc_data: 522931\n",
      "Sample doc_ids: ['1', '2', '3', '4', '5']\n",
      "Top indices: [ 35141  30714  37372  98307 137762]\n",
      "Additional words from top 5 documents: \n",
      "No new words to add to query for beir\n"
     ]
    },
    {
     "name": "stderr",
     "output_type": "stream",
     "text": [
      "معالجة الاستعلامات:  74%|███████▍  | 745/1000 [45:52<15:34,  3.66s/استعلام]"
     ]
    },
    {
     "name": "stdout",
     "output_type": "stream",
     "text": [
      "Total documents in doc_data: 522931\n",
      "Sample doc_ids: ['1', '2', '3', '4', '5']\n",
      "Top indices: [ 35146 415041 415040 276879 284831]\n",
      "Additional words from top 5 documents: great song mean coldplays\n",
      "🔍 Enhanced Query: What are some good, slow blues songs? great song mean coldplays\n"
     ]
    },
    {
     "name": "stderr",
     "output_type": "stream",
     "text": [
      "معالجة الاستعلامات:  75%|███████▍  | 746/1000 [45:55<15:13,  3.60s/استعلام]"
     ]
    },
    {
     "name": "stdout",
     "output_type": "stream",
     "text": [
      "Total documents in doc_data: 522931\n",
      "Sample doc_ids: ['1', '2', '3', '4', '5']\n",
      "Top indices: [261757 372813 234528  21352 273531]\n",
      "Additional words from top 5 documents: sicario medellín mean murphys\n",
      "🔍 Enhanced Query: What are some of the best movie recommendation sites? sicario medellín mean murphys\n"
     ]
    },
    {
     "name": "stderr",
     "output_type": "stream",
     "text": [
      "معالجة الاستعلامات:  75%|███████▍  | 747/1000 [45:59<14:53,  3.53s/استعلام]"
     ]
    },
    {
     "name": "stdout",
     "output_type": "stream",
     "text": [
      "Total documents in doc_data: 522931\n",
      "Sample doc_ids: ['1', '2', '3', '4', '5']\n",
      "Top indices: [505490 505491 111138  62690 171398]\n",
      "Additional words from top 5 documents: world\n",
      "🔍 Enhanced Query: What was the happiest day of your life? And why was it? world\n"
     ]
    },
    {
     "name": "stderr",
     "output_type": "stream",
     "text": [
      "معالجة الاستعلامات:  75%|███████▍  | 748/1000 [46:02<14:45,  3.51s/استعلام]"
     ]
    },
    {
     "name": "stdout",
     "output_type": "stream",
     "text": [
      "Total documents in doc_data: 522931\n",
      "Sample doc_ids: ['1', '2', '3', '4', '5']\n",
      "Top indices: [ 55303  35336 276197  81589  55304]\n",
      "Additional words from top 5 documents: address antigay masturbation sin\n",
      "🔍 Enhanced Query: What does the Bible say about oral sex? address antigay masturbation sin\n"
     ]
    },
    {
     "name": "stderr",
     "output_type": "stream",
     "text": [
      "معالجة الاستعلامات:  75%|███████▍  | 749/1000 [46:06<14:37,  3.50s/استعلام]"
     ]
    },
    {
     "name": "stdout",
     "output_type": "stream",
     "text": [
      "Total documents in doc_data: 522931\n",
      "Sample doc_ids: ['1', '2', '3', '4', '5']\n",
      "Top indices: [ 35561 507294 188950 390367 390366]\n",
      "Additional words from top 5 documents: agriculture start\n",
      "🔍 Enhanced Query: How can I get into Israel to learn about agricultural practices? agriculture start\n"
     ]
    },
    {
     "name": "stderr",
     "output_type": "stream",
     "text": [
      "معالجة الاستعلامات:  75%|███████▌  | 750/1000 [46:09<14:33,  3.49s/استعلام]"
     ]
    },
    {
     "name": "stdout",
     "output_type": "stream",
     "text": [
      "Total documents in doc_data: 522931\n",
      "Sample doc_ids: ['1', '2', '3', '4', '5']\n",
      "Top indices: [  7464 443325 146491 146490 284442]\n",
      "Additional words from top 5 documents: decide choose\n",
      "🔍 Enhanced Query: What was the best career decision you took? decide choose\n"
     ]
    },
    {
     "name": "stderr",
     "output_type": "stream",
     "text": [
      "معالجة الاستعلامات:  75%|███████▌  | 751/1000 [46:13<14:20,  3.46s/استعلام]"
     ]
    },
    {
     "name": "stdout",
     "output_type": "stream",
     "text": [
      "Total documents in doc_data: 522931\n",
      "Sample doc_ids: ['1', '2', '3', '4', '5']\n",
      "Top indices: [ 84584 431058  35692 431057 333136]\n",
      "Additional words from top 5 documents: spiderman better doctor strange\n",
      "🔍 Enhanced Query: DC VS Marvel: which do you like more? spiderman better doctor strange\n"
     ]
    },
    {
     "name": "stderr",
     "output_type": "stream",
     "text": [
      "معالجة الاستعلامات:  75%|███████▌  | 752/1000 [46:16<14:10,  3.43s/استعلام]"
     ]
    },
    {
     "name": "stdout",
     "output_type": "stream",
     "text": [
      "Total documents in doc_data: 522931\n",
      "Sample doc_ids: ['1', '2', '3', '4', '5']\n",
      "Top indices: [ 35697 476067  83302  83301 284279]\n",
      "Additional words from top 5 documents: would french revolution fail\n",
      "🔍 Enhanced Query: Did Robespierre's reign in France inevitably lead to an overthrow of his leadership? If so, why? would french revolution fail\n"
     ]
    },
    {
     "name": "stderr",
     "output_type": "stream",
     "text": [
      "معالجة الاستعلامات:  75%|███████▌  | 753/1000 [46:19<13:57,  3.39s/استعلام]"
     ]
    },
    {
     "name": "stdout",
     "output_type": "stream",
     "text": [
      "Total documents in doc_data: 522931\n",
      "Sample doc_ids: ['1', '2', '3', '4', '5']\n",
      "Top indices: [ 62787  13540  35750 347394  22926]\n",
      "Additional words from top 5 documents: really\n",
      "🔍 Enhanced Query: Is milk actually good or bad for your health? really\n"
     ]
    },
    {
     "name": "stderr",
     "output_type": "stream",
     "text": [
      "معالجة الاستعلامات:  75%|███████▌  | 754/1000 [46:23<14:01,  3.42s/استعلام]"
     ]
    },
    {
     "name": "stdout",
     "output_type": "stream",
     "text": [
      "Total documents in doc_data: 522931\n",
      "Sample doc_ids: ['1', '2', '3', '4', '5']\n",
      "Top indices: [ 35787 320087 117339 285671 312130]\n",
      "Additional words from top 5 documents: program months start learn\n",
      "🔍 Enhanced Query: How can I master Java in one month? program months start learn\n"
     ]
    },
    {
     "name": "stderr",
     "output_type": "stream",
     "text": [
      "معالجة الاستعلامات:  76%|███████▌  | 755/1000 [46:26<14:05,  3.45s/استعلام]"
     ]
    },
    {
     "name": "stdout",
     "output_type": "stream",
     "text": [
      "Total documents in doc_data: 522931\n",
      "Sample doc_ids: ['1', '2', '3', '4', '5']\n",
      "Top indices: [130150 488464 492347 322054 322055]\n",
      "Additional words from top 5 documents: languages understand\n",
      "🔍 Enhanced Query: When can you say that you know a programming language? languages understand\n"
     ]
    },
    {
     "name": "stderr",
     "output_type": "stream",
     "text": [
      "معالجة الاستعلامات:  76%|███████▌  | 756/1000 [46:30<14:06,  3.47s/استعلام]"
     ]
    },
    {
     "name": "stdout",
     "output_type": "stream",
     "text": [
      "Total documents in doc_data: 522931\n",
      "Sample doc_ids: ['1', '2', '3', '4', '5']\n",
      "Top indices: [491660 100732 128356 266367 250747]\n",
      "Additional words from top 5 documents: decision 20072016 18072016 latest\n",
      "🔍 Enhanced Query: What is current status of gtbit court case? decision 20072016 18072016 latest\n"
     ]
    },
    {
     "name": "stderr",
     "output_type": "stream",
     "text": [
      "معالجة الاستعلامات:  76%|███████▌  | 757/1000 [46:33<13:59,  3.45s/استعلام]"
     ]
    },
    {
     "name": "stdout",
     "output_type": "stream",
     "text": [
      "Total documents in doc_data: 522931\n",
      "Sample doc_ids: ['1', '2', '3', '4', '5']\n",
      "Top indices: [  9132 220608 127205 260885  36020]\n",
      "Additional words from top 5 documents: \n",
      "No new words to add to query for beir\n"
     ]
    },
    {
     "name": "stderr",
     "output_type": "stream",
     "text": [
      "معالجة الاستعلامات:  76%|███████▌  | 758/1000 [46:37<13:48,  3.42s/استعلام]"
     ]
    },
    {
     "name": "stdout",
     "output_type": "stream",
     "text": [
      "Total documents in doc_data: 522931\n",
      "Sample doc_ids: ['1', '2', '3', '4', '5']\n",
      "Top indices: [ 36046 118154 361621  73828 352749]\n",
      "Additional words from top 5 documents: alone polyandry databases\n",
      "🔍 Enhanced Query: What are the advantages and disadvantages of being single? alone polyandry databases\n"
     ]
    },
    {
     "name": "stderr",
     "output_type": "stream",
     "text": [
      "معالجة الاستعلامات:  76%|███████▌  | 759/1000 [46:40<14:07,  3.52s/استعلام]"
     ]
    },
    {
     "name": "stdout",
     "output_type": "stream",
     "text": [
      "Total documents in doc_data: 522931\n",
      "Sample doc_ids: ['1', '2', '3', '4', '5']\n",
      "Top indices: [ 36140 462884 103251 432770 476927]\n",
      "Additional words from top 5 documents: series vegeta dbz ashita\n",
      "🔍 Enhanced Query: Who is the best character on Lost? series vegeta dbz ashita\n"
     ]
    },
    {
     "name": "stderr",
     "output_type": "stream",
     "text": [
      "معالجة الاستعلامات:  76%|███████▌  | 760/1000 [46:44<14:29,  3.62s/استعلام]"
     ]
    },
    {
     "name": "stdout",
     "output_type": "stream",
     "text": [
      "Total documents in doc_data: 522931\n",
      "Sample doc_ids: ['1', '2', '3', '4', '5']\n",
      "Top indices: [305172 164799 456418 392621 392620]\n",
      "Additional words from top 5 documents: country china gain independence\n",
      "🔍 Enhanced Query: Was Tibet a part of free India? country china gain independence\n"
     ]
    },
    {
     "name": "stderr",
     "output_type": "stream",
     "text": [
      "معالجة الاستعلامات:  76%|███████▌  | 761/1000 [46:48<14:31,  3.65s/استعلام]"
     ]
    },
    {
     "name": "stdout",
     "output_type": "stream",
     "text": [
      "Total documents in doc_data: 522931\n",
      "Sample doc_ids: ['1', '2', '3', '4', '5']\n",
      "Top indices: [351735  90413   2893 303886 365563]\n",
      "Additional words from top 5 documents: ways introduction book\n",
      "🔍 Enhanced Query: How does one start writing essays? ways introduction book\n"
     ]
    },
    {
     "name": "stderr",
     "output_type": "stream",
     "text": [
      "معالجة الاستعلامات:  76%|███████▌  | 762/1000 [46:52<14:40,  3.70s/استعلام]"
     ]
    },
    {
     "name": "stdout",
     "output_type": "stream",
     "text": [
      "Total documents in doc_data: 522931\n",
      "Sample doc_ids: ['1', '2', '3', '4', '5']\n",
      "Top indices: [305769 261220 145182 150513 150514]\n",
      "Additional words from top 5 documents: shear condition torsional\n",
      "🔍 Enhanced Query: What is difference between plane stress and plane strain? shear condition torsional\n"
     ]
    },
    {
     "name": "stderr",
     "output_type": "stream",
     "text": [
      "معالجة الاستعلامات:  76%|███████▋  | 763/1000 [46:56<14:45,  3.74s/استعلام]"
     ]
    },
    {
     "name": "stdout",
     "output_type": "stream",
     "text": [
      "Total documents in doc_data: 522931\n",
      "Sample doc_ids: ['1', '2', '3', '4', '5']\n",
      "Top indices: [229406 390658  14167  14166  75423]\n",
      "Additional words from top 5 documents: become electrician electrical think\n",
      "🔍 Enhanced Query: What does it feel like to be a power engineer? become electrician electrical think\n"
     ]
    },
    {
     "name": "stderr",
     "output_type": "stream",
     "text": [
      "معالجة الاستعلامات:  76%|███████▋  | 764/1000 [46:59<14:47,  3.76s/استعلام]"
     ]
    },
    {
     "name": "stdout",
     "output_type": "stream",
     "text": [
      "Total documents in doc_data: 522931\n",
      "Sample doc_ids: ['1', '2', '3', '4', '5']\n",
      "Top indices: [ 36309 477224 477223 260973 260974]\n",
      "Additional words from top 5 documents: spitfire submarine consider f22\n",
      "🔍 Enhanced Query: Why are Spitfires so important? spitfire submarine consider f22\n"
     ]
    },
    {
     "name": "stderr",
     "output_type": "stream",
     "text": [
      "معالجة الاستعلامات:  76%|███████▋  | 765/1000 [47:03<14:43,  3.76s/استعلام]"
     ]
    },
    {
     "name": "stdout",
     "output_type": "stream",
     "text": [
      "Total documents in doc_data: 522931\n",
      "Sample doc_ids: ['1', '2', '3', '4', '5']\n",
      "Top indices: [ 36322 456825 400069 341556 366798]\n",
      "Additional words from top 5 documents: mac reset security question\n",
      "🔍 Enhanced Query: How can I authorize a computer for my iTunes? mac reset security question\n"
     ]
    },
    {
     "name": "stderr",
     "output_type": "stream",
     "text": [
      "معالجة الاستعلامات:  77%|███████▋  | 766/1000 [47:07<14:41,  3.77s/استعلام]"
     ]
    },
    {
     "name": "stdout",
     "output_type": "stream",
     "text": [
      "Total documents in doc_data: 522931\n",
      "Sample doc_ids: ['1', '2', '3', '4', '5']\n",
      "Top indices: [232045 234933 284646 220912 284647]\n",
      "Additional words from top 5 documents: bean potatoes potato starch\n",
      "🔍 Enhanced Query: Is it possible to grow potatoes/other veg on Mars like in movie Martian. What will be the major challenges? bean potatoes potato starch\n"
     ]
    },
    {
     "name": "stderr",
     "output_type": "stream",
     "text": [
      "معالجة الاستعلامات:  77%|███████▋  | 767/1000 [47:11<14:32,  3.74s/استعلام]"
     ]
    },
    {
     "name": "stdout",
     "output_type": "stream",
     "text": [
      "Total documents in doc_data: 522931\n",
      "Sample doc_ids: ['1', '2', '3', '4', '5']\n",
      "Top indices: [ 69356 425449  82607 400969  23205]\n",
      "Additional words from top 5 documents: \n",
      "No new words to add to query for beir\n"
     ]
    },
    {
     "name": "stderr",
     "output_type": "stream",
     "text": [
      "معالجة الاستعلامات:  77%|███████▋  | 768/1000 [47:14<14:28,  3.74s/استعلام]"
     ]
    },
    {
     "name": "stdout",
     "output_type": "stream",
     "text": [
      "Total documents in doc_data: 522931\n",
      "Sample doc_ids: ['1', '2', '3', '4', '5']\n",
      "Top indices: [ 36372 458543 458544 167923 145709]\n",
      "Additional words from top 5 documents: oxycontin zoloft overdose effect\n",
      "🔍 Enhanced Query: What are the withdrawal symptoms of mirtazapine? How can I cope with these symptoms? oxycontin zoloft overdose effect\n"
     ]
    },
    {
     "name": "stderr",
     "output_type": "stream",
     "text": [
      "معالجة الاستعلامات:  77%|███████▋  | 769/1000 [47:18<14:19,  3.72s/استعلام]"
     ]
    },
    {
     "name": "stdout",
     "output_type": "stream",
     "text": [
      "Total documents in doc_data: 522931\n",
      "Sample doc_ids: ['1', '2', '3', '4', '5']\n",
      "Top indices: [ 36436 408653 161412 297075 222444]\n",
      "Additional words from top 5 documents: locate good hotels italy\n",
      "🔍 Enhanced Query: How can I find student housing in Milan? locate good hotels italy\n"
     ]
    },
    {
     "name": "stderr",
     "output_type": "stream",
     "text": [
      "معالجة الاستعلامات:  77%|███████▋  | 770/1000 [47:22<14:04,  3.67s/استعلام]"
     ]
    },
    {
     "name": "stdout",
     "output_type": "stream",
     "text": [
      "Total documents in doc_data: 522931\n",
      "Sample doc_ids: ['1', '2', '3', '4', '5']\n",
      "Top indices: [ 36466 395041 486140  66591 389167]\n",
      "Additional words from top 5 documents: mexico california chicago\n",
      "🔍 Enhanced Query: What is the capital of America? mexico california chicago\n"
     ]
    },
    {
     "name": "stderr",
     "output_type": "stream",
     "text": [
      "معالجة الاستعلامات:  77%|███████▋  | 771/1000 [47:25<13:54,  3.64s/استعلام]"
     ]
    },
    {
     "name": "stdout",
     "output_type": "stream",
     "text": [
      "Total documents in doc_data: 522931\n",
      "Sample doc_ids: ['1', '2', '3', '4', '5']\n",
      "Top indices: [173123  36492 227590 227591 391930]\n",
      "Additional words from top 5 documents: cause tongue cramp mouth\n",
      "🔍 Enhanced Query: How do your taste buds become swollen? cause tongue cramp mouth\n"
     ]
    },
    {
     "name": "stderr",
     "output_type": "stream",
     "text": [
      "معالجة الاستعلامات:  77%|███████▋  | 772/1000 [47:29<13:42,  3.61s/استعلام]"
     ]
    },
    {
     "name": "stdout",
     "output_type": "stream",
     "text": [
      "Total documents in doc_data: 522931\n",
      "Sample doc_ids: ['1', '2', '3', '4', '5']\n",
      "Top indices: [155485  44575 287154 134226 149489]\n",
      "Additional words from top 5 documents: president obama 2024 barack\n",
      "🔍 Enhanced Query: If all the previous U.S. presidents were alive and running for office in 2012, who would win? president obama 2024 barack\n"
     ]
    },
    {
     "name": "stderr",
     "output_type": "stream",
     "text": [
      "معالجة الاستعلامات:  77%|███████▋  | 773/1000 [47:32<13:36,  3.60s/استعلام]"
     ]
    },
    {
     "name": "stdout",
     "output_type": "stream",
     "text": [
      "Total documents in doc_data: 522931\n",
      "Sample doc_ids: ['1', '2', '3', '4', '5']\n",
      "Top indices: [285040 285041 122101 192989 406123]\n",
      "Additional words from top 5 documents: procrastination daily\n",
      "🔍 Enhanced Query: What are the some life changing habits? procrastination daily\n"
     ]
    },
    {
     "name": "stderr",
     "output_type": "stream",
     "text": [
      "معالجة الاستعلامات:  77%|███████▋  | 774/1000 [47:36<13:28,  3.58s/استعلام]"
     ]
    },
    {
     "name": "stdout",
     "output_type": "stream",
     "text": [
      "Total documents in doc_data: 522931\n",
      "Sample doc_ids: ['1', '2', '3', '4', '5']\n",
      "Top indices: [103689  19969 268640 441849  96981]\n",
      "Additional words from top 5 documents: solve\n",
      "🔍 Enhanced Query: How do I become a good problem solver? solve\n"
     ]
    },
    {
     "name": "stderr",
     "output_type": "stream",
     "text": [
      "معالجة الاستعلامات:  78%|███████▊  | 775/1000 [47:39<13:29,  3.60s/استعلام]"
     ]
    },
    {
     "name": "stdout",
     "output_type": "stream",
     "text": [
      "Total documents in doc_data: 522931\n",
      "Sample doc_ids: ['1', '2', '3', '4', '5']\n",
      "Top indices: [ 91711  29807 468810 371295 273709]\n",
      "Additional words from top 5 documents: café startups fail marijuana\n",
      "🔍 Enhanced Query: How do I start up a new cafe? café startups fail marijuana\n"
     ]
    },
    {
     "name": "stderr",
     "output_type": "stream",
     "text": [
      "معالجة الاستعلامات:  78%|███████▊  | 776/1000 [47:43<13:20,  3.57s/استعلام]"
     ]
    },
    {
     "name": "stdout",
     "output_type": "stream",
     "text": [
      "Total documents in doc_data: 522931\n",
      "Sample doc_ids: ['1', '2', '3', '4', '5']\n",
      "Top indices: [ 36581 256522  33213 370888 292481]\n",
      "Additional words from top 5 documents: many terrible person\n",
      "🔍 Enhanced Query: Why are men in their 20's so horrible? many terrible person\n"
     ]
    },
    {
     "name": "stderr",
     "output_type": "stream",
     "text": [
      "معالجة الاستعلامات:  78%|███████▊  | 777/1000 [47:46<13:12,  3.55s/استعلام]"
     ]
    },
    {
     "name": "stdout",
     "output_type": "stream",
     "text": [
      "Total documents in doc_data: 522931\n",
      "Sample doc_ids: ['1', '2', '3', '4', '5']\n",
      "Top indices: [ 36584 258433  53748  53749  97463]\n",
      "Additional words from top 5 documents: good bad advantage talkative\n",
      "🔍 Enhanced Query: What are pros & cons of being an introvert? good bad advantage talkative\n"
     ]
    },
    {
     "name": "stderr",
     "output_type": "stream",
     "text": [
      "معالجة الاستعلامات:  78%|███████▊  | 778/1000 [47:50<13:08,  3.55s/استعلام]"
     ]
    },
    {
     "name": "stdout",
     "output_type": "stream",
     "text": [
      "Total documents in doc_data: 522931\n",
      "Sample doc_ids: ['1', '2', '3', '4', '5']\n",
      "Top indices: [160489 160490 303336 341828 214501]\n",
      "Additional words from top 5 documents: countries indian comprise consider\n",
      "🔍 Enhanced Query: What classifications does India fit in order for it to be called a subcontinent? countries indian comprise consider\n"
     ]
    },
    {
     "name": "stderr",
     "output_type": "stream",
     "text": [
      "معالجة الاستعلامات:  78%|███████▊  | 779/1000 [47:53<13:00,  3.53s/استعلام]"
     ]
    },
    {
     "name": "stdout",
     "output_type": "stream",
     "text": [
      "Total documents in doc_data: 522931\n",
      "Sample doc_ids: ['1', '2', '3', '4', '5']\n",
      "Top indices: [ 36665 263564 467569 119178 162612]\n",
      "Additional words from top 5 documents: jordanowen42 great name\n",
      "🔍 Enhanced Query: What are youtube channels? jordanowen42 great name\n"
     ]
    },
    {
     "name": "stderr",
     "output_type": "stream",
     "text": [
      "معالجة الاستعلامات:  78%|███████▊  | 780/1000 [47:57<13:04,  3.56s/استعلام]"
     ]
    },
    {
     "name": "stdout",
     "output_type": "stream",
     "text": [
      "Total documents in doc_data: 522931\n",
      "Sample doc_ids: ['1', '2', '3', '4', '5']\n",
      "Top indices: [332638  35371 180958 372627 485870]\n",
      "Additional words from top 5 documents: demonetization currency rupee demonetize\n",
      "🔍 Enhanced Query: Does replacement of Rs. 500 and Rs. 1000 notes curb black money and corruption? demonetization currency rupee demonetize\n"
     ]
    },
    {
     "name": "stderr",
     "output_type": "stream",
     "text": [
      "معالجة الاستعلامات:  78%|███████▊  | 781/1000 [48:01<13:04,  3.58s/استعلام]"
     ]
    },
    {
     "name": "stdout",
     "output_type": "stream",
     "text": [
      "Total documents in doc_data: 522931\n",
      "Sample doc_ids: ['1', '2', '3', '4', '5']\n",
      "Top indices: [110075 325644 476917 314005 234975]\n",
      "Additional words from top 5 documents: favourite name almonds peach\n",
      "🔍 Enhanced Query: What's your favorite fruit? favourite name almonds peach\n"
     ]
    },
    {
     "name": "stderr",
     "output_type": "stream",
     "text": [
      "معالجة الاستعلامات:  78%|███████▊  | 782/1000 [48:05<13:18,  3.66s/استعلام]"
     ]
    },
    {
     "name": "stdout",
     "output_type": "stream",
     "text": [
      "Total documents in doc_data: 522931\n",
      "Sample doc_ids: ['1', '2', '3', '4', '5']\n",
      "Top indices: [501011 315571 520490 325504 502159]\n",
      "Additional words from top 5 documents: review\n",
      "🔍 Enhanced Query: In the end of Kabali movie, it is implied that Tiger killed Kabali. Why did he do it? review\n"
     ]
    },
    {
     "name": "stderr",
     "output_type": "stream",
     "text": [
      "معالجة الاستعلامات:  78%|███████▊  | 783/1000 [48:08<13:04,  3.61s/استعلام]"
     ]
    },
    {
     "name": "stdout",
     "output_type": "stream",
     "text": [
      "Total documents in doc_data: 522931\n",
      "Sample doc_ids: ['1', '2', '3', '4', '5']\n",
      "Top indices: [267840 501843 407299 353768  82934]\n",
      "Additional words from top 5 documents: first language\n",
      "🔍 Enhanced Query: Which are the best ways and languages to start learning programming? first language\n"
     ]
    },
    {
     "name": "stderr",
     "output_type": "stream",
     "text": [
      "معالجة الاستعلامات:  78%|███████▊  | 784/1000 [48:12<12:52,  3.57s/استعلام]"
     ]
    },
    {
     "name": "stdout",
     "output_type": "stream",
     "text": [
      "Total documents in doc_data: 522931\n",
      "Sample doc_ids: ['1', '2', '3', '4', '5']\n",
      "Top indices: [166675 166676 338969 134041 134040]\n",
      "Additional words from top 5 documents: south columbia famous like\n",
      "🔍 Enhanced Query: What is the best place to visit in Latin America? south columbia famous like\n"
     ]
    },
    {
     "name": "stderr",
     "output_type": "stream",
     "text": [
      "معالجة الاستعلامات:  78%|███████▊  | 785/1000 [48:15<12:44,  3.56s/استعلام]"
     ]
    },
    {
     "name": "stdout",
     "output_type": "stream",
     "text": [
      "Total documents in doc_data: 522931\n",
      "Sample doc_ids: ['1', '2', '3', '4', '5']\n",
      "Top indices: [ 36757 260218 126815 219753  87363]\n",
      "Additional words from top 5 documents: create application\n",
      "🔍 Enhanced Query: What is the best way to make an Android app for my website? create application\n"
     ]
    },
    {
     "name": "stderr",
     "output_type": "stream",
     "text": [
      "معالجة الاستعلامات:  79%|███████▊  | 786/1000 [48:19<12:43,  3.57s/استعلام]"
     ]
    },
    {
     "name": "stdout",
     "output_type": "stream",
     "text": [
      "Total documents in doc_data: 522931\n",
      "Sample doc_ids: ['1', '2', '3', '4', '5']\n",
      "Top indices: [500043 448094 112923 112924  51868]\n",
      "Additional words from top 5 documents: photon lose create photonelectron\n",
      "🔍 Enhanced Query: When two photons of EM waves destructively reinforce each other (cancel out), is energy not conserved since they are destroying each other? photon lose create photonelectron\n"
     ]
    },
    {
     "name": "stderr",
     "output_type": "stream",
     "text": [
      "معالجة الاستعلامات:  79%|███████▊  | 787/1000 [48:22<12:44,  3.59s/استعلام]"
     ]
    },
    {
     "name": "stdout",
     "output_type": "stream",
     "text": [
      "Total documents in doc_data: 522931\n",
      "Sample doc_ids: ['1', '2', '3', '4', '5']\n",
      "Top indices: [ 73763 435608  36850 500251 500250]\n",
      "Additional words from top 5 documents: close get one use\n",
      "🔍 Enhanced Query: How can I transfer a board to another Pinterest account then delete it from the first account? close get one use\n"
     ]
    },
    {
     "name": "stderr",
     "output_type": "stream",
     "text": [
      "معالجة الاستعلامات:  79%|███████▉  | 788/1000 [48:26<12:44,  3.60s/استعلام]"
     ]
    },
    {
     "name": "stdout",
     "output_type": "stream",
     "text": [
      "Total documents in doc_data: 522931\n",
      "Sample doc_ids: ['1', '2', '3', '4', '5']\n",
      "Top indices: [256209 353840  70155 494171 475824]\n",
      "Additional words from top 5 documents: reason make months february\n",
      "🔍 Enhanced Query: What are some good project (time period 1 month) for deep learning purposes only in C/C++ and data structure? reason make months february\n"
     ]
    },
    {
     "name": "stderr",
     "output_type": "stream",
     "text": [
      "معالجة الاستعلامات:  79%|███████▉  | 789/1000 [48:30<12:40,  3.61s/استعلام]"
     ]
    },
    {
     "name": "stdout",
     "output_type": "stream",
     "text": [
      "Total documents in doc_data: 522931\n",
      "Sample doc_ids: ['1', '2', '3', '4', '5']\n",
      "Top indices: [379749 411660 256356 215881 379748]\n",
      "Additional words from top 5 documents: offensive sensitive stop question\n",
      "🔍 Enhanced Query: Why do all my answers just get collapsed on Quora even when they are politically correct? offensive sensitive stop question\n"
     ]
    },
    {
     "name": "stderr",
     "output_type": "stream",
     "text": [
      "معالجة الاستعلامات:  79%|███████▉  | 790/1000 [48:33<12:31,  3.58s/استعلام]"
     ]
    },
    {
     "name": "stdout",
     "output_type": "stream",
     "text": [
      "Total documents in doc_data: 522931\n",
      "Sample doc_ids: ['1', '2', '3', '4', '5']\n",
      "Top indices: [105156 175315 268399  37301 175314]\n",
      "Additional words from top 5 documents: not antitrump use\n",
      "🔍 Enhanced Query: Why is Quora against Donald Trump? not antitrump use\n"
     ]
    },
    {
     "name": "stderr",
     "output_type": "stream",
     "text": [
      "معالجة الاستعلامات:  79%|███████▉  | 791/1000 [48:37<12:38,  3.63s/استعلام]"
     ]
    },
    {
     "name": "stdout",
     "output_type": "stream",
     "text": [
      "Total documents in doc_data: 522931\n",
      "Sample doc_ids: ['1', '2', '3', '4', '5']\n",
      "Top indices: [101855 101854 503779 138308 272273]\n",
      "Additional words from top 5 documents: kill history meme dicks\n",
      "🔍 Enhanced Query: Why are people still talking about this gorialla named harambe billionaires must be laughing their ass off at our priorties as a human race? kill history meme dicks\n"
     ]
    },
    {
     "name": "stderr",
     "output_type": "stream",
     "text": [
      "معالجة الاستعلامات:  79%|███████▉  | 792/1000 [48:40<12:27,  3.59s/استعلام]"
     ]
    },
    {
     "name": "stdout",
     "output_type": "stream",
     "text": [
      "Total documents in doc_data: 522931\n",
      "Sample doc_ids: ['1', '2', '3', '4', '5']\n",
      "Top indices: [182476  63146  63145  98793 140286]\n",
      "Additional words from top 5 documents: slower look years younger\n",
      "🔍 Enhanced Query: Why does time seem to go faster as we age? slower look years younger\n"
     ]
    },
    {
     "name": "stderr",
     "output_type": "stream",
     "text": [
      "معالجة الاستعلامات:  79%|███████▉  | 793/1000 [48:44<12:18,  3.57s/استعلام]"
     ]
    },
    {
     "name": "stdout",
     "output_type": "stream",
     "text": [
      "Total documents in doc_data: 522931\n",
      "Sample doc_ids: ['1', '2', '3', '4', '5']\n",
      "Top indices: [ 37090 408858 355332 404361 465907]\n",
      "Additional words from top 5 documents: difference different greekspeaking people\n",
      "🔍 Enhanced Query: How does modern Greek language differ from ancient Greek? difference different greekspeaking people\n"
     ]
    },
    {
     "name": "stderr",
     "output_type": "stream",
     "text": [
      "معالجة الاستعلامات:  79%|███████▉  | 794/1000 [48:47<12:20,  3.60s/استعلام]"
     ]
    },
    {
     "name": "stdout",
     "output_type": "stream",
     "text": [
      "Total documents in doc_data: 522931\n",
      "Sample doc_ids: ['1', '2', '3', '4', '5']\n",
      "Top indices: [306510  46627 167473   7212 138674]\n",
      "Additional words from top 5 documents: 17000 range 50006000 smartphone\n",
      "🔍 Enhanced Query: Which is the best phone to buy under Rs. 7000? 17000 range 50006000 smartphone\n"
     ]
    },
    {
     "name": "stderr",
     "output_type": "stream",
     "text": [
      "معالجة الاستعلامات:  80%|███████▉  | 795/1000 [48:51<12:15,  3.59s/استعلام]"
     ]
    },
    {
     "name": "stdout",
     "output_type": "stream",
     "text": [
      "Total documents in doc_data: 522931\n",
      "Sample doc_ids: ['1', '2', '3', '4', '5']\n",
      "Top indices: [ 93499 169100  37211 139609 315145]\n",
      "Additional words from top 5 documents: run foldrcom\n",
      "🔍 Enhanced Query: What is the maximum number of times you can fold a piece of paper? run foldrcom\n"
     ]
    },
    {
     "name": "stderr",
     "output_type": "stream",
     "text": [
      "معالجة الاستعلامات:  80%|███████▉  | 796/1000 [48:55<12:08,  3.57s/استعلام]"
     ]
    },
    {
     "name": "stdout",
     "output_type": "stream",
     "text": [
      "Total documents in doc_data: 522931\n",
      "Sample doc_ids: ['1', '2', '3', '4', '5']\n",
      "Top indices: [ 37250 260098 152833 260099 464491]\n",
      "Additional words from top 5 documents: remove database erase misdemeanors\n",
      "🔍 Enhanced Query: How can I clear criminal records from fbi? remove database erase misdemeanors\n"
     ]
    },
    {
     "name": "stderr",
     "output_type": "stream",
     "text": [
      "معالجة الاستعلامات:  80%|███████▉  | 797/1000 [48:58<12:07,  3.59s/استعلام]"
     ]
    },
    {
     "name": "stdout",
     "output_type": "stream",
     "text": [
      "Total documents in doc_data: 522931\n",
      "Sample doc_ids: ['1', '2', '3', '4', '5']\n",
      "Top indices: [175528  49184  17765  58121  45284]\n",
      "Additional words from top 5 documents: best film thriller\n",
      "🔍 Enhanced Query: What’s your top 10 list of horror movies? best film thriller\n"
     ]
    },
    {
     "name": "stderr",
     "output_type": "stream",
     "text": [
      "معالجة الاستعلامات:  80%|███████▉  | 798/1000 [49:02<12:04,  3.59s/استعلام]"
     ]
    },
    {
     "name": "stdout",
     "output_type": "stream",
     "text": [
      "Total documents in doc_data: 522931\n",
      "Sample doc_ids: ['1', '2', '3', '4', '5']\n",
      "Top indices: [374343  55064  55063 302036  38158]\n",
      "Additional words from top 5 documents: upgrade jailbreaking\n",
      "🔍 Enhanced Query: Is the iPhone really worth its price? upgrade jailbreaking\n"
     ]
    },
    {
     "name": "stderr",
     "output_type": "stream",
     "text": [
      "معالجة الاستعلامات:  80%|███████▉  | 799/1000 [49:05<12:02,  3.59s/استعلام]"
     ]
    },
    {
     "name": "stdout",
     "output_type": "stream",
     "text": [
      "Total documents in doc_data: 522931\n",
      "Sample doc_ids: ['1', '2', '3', '4', '5']\n",
      "Top indices: [ 37486 499378 268739 400879 366285]\n",
      "Additional words from top 5 documents: elasticity atmospheric pressure friction\n",
      "🔍 Enhanced Query: What is air resistance? What are some examples? elasticity atmospheric pressure friction\n"
     ]
    },
    {
     "name": "stderr",
     "output_type": "stream",
     "text": [
      "معالجة الاستعلامات:  80%|████████  | 800/1000 [49:09<12:04,  3.62s/استعلام]"
     ]
    },
    {
     "name": "stdout",
     "output_type": "stream",
     "text": [
      "Total documents in doc_data: 522931\n",
      "Sample doc_ids: ['1', '2', '3', '4', '5']\n",
      "Top indices: [227279  37558  74947 469426 440442]\n",
      "Additional words from top 5 documents: buddhism biblical grammar\n",
      "🔍 Enhanced Query: What principles do you live your life by? buddhism biblical grammar\n"
     ]
    },
    {
     "name": "stderr",
     "output_type": "stream",
     "text": [
      "معالجة الاستعلامات:  80%|████████  | 801/1000 [49:13<11:55,  3.59s/استعلام]"
     ]
    },
    {
     "name": "stdout",
     "output_type": "stream",
     "text": [
      "Total documents in doc_data: 522931\n",
      "Sample doc_ids: ['1', '2', '3', '4', '5']\n",
      "Top indices: [517079 249829 249830 313456  56811]\n",
      "Additional words from top 5 documents: shortcomings dead\n",
      "🔍 Enhanced Query: PHP is good or bad? shortcomings dead\n"
     ]
    },
    {
     "name": "stderr",
     "output_type": "stream",
     "text": [
      "معالجة الاستعلامات:  80%|████████  | 802/1000 [49:16<11:46,  3.57s/استعلام]"
     ]
    },
    {
     "name": "stdout",
     "output_type": "stream",
     "text": [
      "Total documents in doc_data: 522931\n",
      "Sample doc_ids: ['1', '2', '3', '4', '5']\n",
      "Top indices: [185220  37604 225763 181408 181409]\n",
      "Additional words from top 5 documents: possible name difference register\n",
      "🔍 Enhanced Query: How do you trademark a word that you made up? possible name difference register\n"
     ]
    },
    {
     "name": "stderr",
     "output_type": "stream",
     "text": [
      "معالجة الاستعلامات:  80%|████████  | 803/1000 [49:20<12:00,  3.65s/استعلام]"
     ]
    },
    {
     "name": "stdout",
     "output_type": "stream",
     "text": [
      "Total documents in doc_data: 522931\n",
      "Sample doc_ids: ['1', '2', '3', '4', '5']\n",
      "Top indices: [ 37637 141729 141728   1222  41656]\n",
      "Additional words from top 5 documents: arrogant indians cultural similarities\n",
      "🔍 Enhanced Query: What do Malaysians think of Singaporeans and vice versa? arrogant indians cultural similarities\n"
     ]
    },
    {
     "name": "stderr",
     "output_type": "stream",
     "text": [
      "معالجة الاستعلامات:  80%|████████  | 804/1000 [49:24<11:48,  3.61s/استعلام]"
     ]
    },
    {
     "name": "stdout",
     "output_type": "stream",
     "text": [
      "Total documents in doc_data: 522931\n",
      "Sample doc_ids: ['1', '2', '3', '4', '5']\n",
      "Top indices: [ 37676 110225 272965 203967   3290]\n",
      "Additional words from top 5 documents: bypass unlock iphone change\n",
      "🔍 Enhanced Query: Can the iCloud lock be broken? bypass unlock iphone change\n"
     ]
    },
    {
     "name": "stderr",
     "output_type": "stream",
     "text": [
      "معالجة الاستعلامات:  80%|████████  | 805/1000 [49:27<11:42,  3.60s/استعلام]"
     ]
    },
    {
     "name": "stdout",
     "output_type": "stream",
     "text": [
      "Total documents in doc_data: 522931\n",
      "Sample doc_ids: ['1', '2', '3', '4', '5']\n",
      "Top indices: [522230 246712 376943  64307 159854]\n",
      "Additional words from top 5 documents: document ods pdf browser\n",
      "🔍 Enhanced Query: What is the best way to open a .doc file? document ods pdf browser\n"
     ]
    },
    {
     "name": "stderr",
     "output_type": "stream",
     "text": [
      "معالجة الاستعلامات:  81%|████████  | 806/1000 [49:31<11:38,  3.60s/استعلام]"
     ]
    },
    {
     "name": "stdout",
     "output_type": "stream",
     "text": [
      "Total documents in doc_data: 522931\n",
      "Sample doc_ids: ['1', '2', '3', '4', '5']\n",
      "Top indices: [ 37762 308408 282060 410848 266507]\n",
      "Additional words from top 5 documents: excessive sleep much sleepiness\n",
      "🔍 Enhanced Query: What causes oversleeping? excessive sleep much sleepiness\n"
     ]
    },
    {
     "name": "stderr",
     "output_type": "stream",
     "text": [
      "معالجة الاستعلامات:  81%|████████  | 807/1000 [49:34<11:44,  3.65s/استعلام]"
     ]
    },
    {
     "name": "stdout",
     "output_type": "stream",
     "text": [
      "Total documents in doc_data: 522931\n",
      "Sample doc_ids: ['1', '2', '3', '4', '5']\n",
      "Top indices: [396478  63637 177006 139608 226341]\n",
      "Additional words from top 5 documents: scientific proof afterlife describe\n",
      "🔍 Enhanced Query: Have Theological entities, places, and deities (such as Heaven and God) been scientifically tested? scientific proof afterlife describe\n"
     ]
    },
    {
     "name": "stderr",
     "output_type": "stream",
     "text": [
      "معالجة الاستعلامات:  81%|████████  | 808/1000 [49:38<11:33,  3.61s/استعلام]"
     ]
    },
    {
     "name": "stdout",
     "output_type": "stream",
     "text": [
      "Total documents in doc_data: 522931\n",
      "Sample doc_ids: ['1', '2', '3', '4', '5']\n",
      "Top indices: [ 63982 363378  17160 398228 308526]\n",
      "Additional words from top 5 documents: evolution think extraterrestrial disprove\n",
      "🔍 Enhanced Query: Do atheists believe that there is intelligent life on other planets? If so, why? What evidence is there that it exists? evolution think extraterrestrial disprove\n"
     ]
    },
    {
     "name": "stderr",
     "output_type": "stream",
     "text": [
      "معالجة الاستعلامات:  81%|████████  | 809/1000 [49:42<11:36,  3.65s/استعلام]"
     ]
    },
    {
     "name": "stdout",
     "output_type": "stream",
     "text": [
      "Total documents in doc_data: 522931\n",
      "Sample doc_ids: ['1', '2', '3', '4', '5']\n",
      "Top indices: [ 37899 170527   5381   5380 432138]\n",
      "Additional words from top 5 documents: let christine end old\n",
      "🔍 Enhanced Query: In the novel \"The Phantom Of The Opera\" is Christine’s unmasking Erik (the opera ghost) a mistake? Or was it good for her to see his true face? let christine end old\n"
     ]
    },
    {
     "name": "stderr",
     "output_type": "stream",
     "text": [
      "معالجة الاستعلامات:  81%|████████  | 810/1000 [49:45<11:29,  3.63s/استعلام]"
     ]
    },
    {
     "name": "stdout",
     "output_type": "stream",
     "text": [
      "Total documents in doc_data: 522931\n",
      "Sample doc_ids: ['1', '2', '3', '4', '5']\n",
      "Top indices: [110953  37962  77905 488968 280472]\n",
      "Additional words from top 5 documents: conserve tensor\n",
      "🔍 Enhanced Query: What is the meaning of angular momentum? conserve tensor\n"
     ]
    },
    {
     "name": "stderr",
     "output_type": "stream",
     "text": [
      "معالجة الاستعلامات:  81%|████████  | 811/1000 [49:49<11:18,  3.59s/استعلام]"
     ]
    },
    {
     "name": "stdout",
     "output_type": "stream",
     "text": [
      "Total documents in doc_data: 522931\n",
      "Sample doc_ids: ['1', '2', '3', '4', '5']\n",
      "Top indices: [ 37995  99997  76953 180726 152236]\n",
      "Additional words from top 5 documents: electron come quarks\n",
      "🔍 Enhanced Query: What are electrons made up of? Are all electrons made of the same material? electron come quarks\n"
     ]
    },
    {
     "name": "stderr",
     "output_type": "stream",
     "text": [
      "معالجة الاستعلامات:  81%|████████  | 812/1000 [49:52<11:15,  3.60s/استعلام]"
     ]
    },
    {
     "name": "stdout",
     "output_type": "stream",
     "text": [
      "Total documents in doc_data: 522931\n",
      "Sample doc_ids: ['1', '2', '3', '4', '5']\n",
      "Top indices: [330945 297637 163066 387442 248383]\n",
      "No similar documents found for beir with sufficient similarity\n"
     ]
    },
    {
     "name": "stderr",
     "output_type": "stream",
     "text": [
      "معالجة الاستعلامات:  81%|████████▏ | 813/1000 [49:56<11:15,  3.61s/استعلام]"
     ]
    },
    {
     "name": "stdout",
     "output_type": "stream",
     "text": [
      "Total documents in doc_data: 522931\n",
      "Sample doc_ids: ['1', '2', '3', '4', '5']\n",
      "Top indices: [ 38111 310245 366949 366950 229587]\n",
      "Additional words from top 5 documents: plot boor chekhov fyodor\n",
      "🔍 Enhanced Query: What is a summary of Anton Chekhov's \"The Bet\"? plot boor chekhov fyodor\n"
     ]
    },
    {
     "name": "stderr",
     "output_type": "stream",
     "text": [
      "معالجة الاستعلامات:  81%|████████▏ | 814/1000 [50:00<11:03,  3.57s/استعلام]"
     ]
    },
    {
     "name": "stdout",
     "output_type": "stream",
     "text": [
      "Total documents in doc_data: 522931\n",
      "Sample doc_ids: ['1', '2', '3', '4', '5']\n",
      "Top indices: [ 70023  38133 131287 458342  70024]\n",
      "Additional words from top 5 documents: online rummycircle real money\n",
      "🔍 Enhanced Query: Which is the best site to play rummy games? online rummycircle real money\n"
     ]
    },
    {
     "name": "stderr",
     "output_type": "stream",
     "text": [
      "معالجة الاستعلامات:  82%|████████▏ | 815/1000 [50:03<10:56,  3.55s/استعلام]"
     ]
    },
    {
     "name": "stdout",
     "output_type": "stream",
     "text": [
      "Total documents in doc_data: 522931\n",
      "Sample doc_ids: ['1', '2', '3', '4', '5']\n",
      "Top indices: [ 24777  21835  10832 408401 124721]\n",
      "Additional words from top 5 documents: communicate dog animal communication\n",
      "🔍 Enhanced Query: Can animals talk to each other? communicate dog animal communication\n"
     ]
    },
    {
     "name": "stderr",
     "output_type": "stream",
     "text": [
      "معالجة الاستعلامات:  82%|████████▏ | 816/1000 [50:07<10:50,  3.54s/استعلام]"
     ]
    },
    {
     "name": "stdout",
     "output_type": "stream",
     "text": [
      "Total documents in doc_data: 522931\n",
      "Sample doc_ids: ['1', '2', '3', '4', '5']\n",
      "Top indices: [202792 386244  39099 431601 304082]\n",
      "Additional words from top 5 documents: someone tinder girlfriend online\n",
      "🔍 Enhanced Query: When will I know I found the one? someone tinder girlfriend online\n"
     ]
    },
    {
     "name": "stderr",
     "output_type": "stream",
     "text": [
      "معالجة الاستعلامات:  82%|████████▏ | 817/1000 [50:10<10:48,  3.54s/استعلام]"
     ]
    },
    {
     "name": "stdout",
     "output_type": "stream",
     "text": [
      "Total documents in doc_data: 522931\n",
      "Sample doc_ids: ['1', '2', '3', '4', '5']\n",
      "Top indices: [ 38188 133153  96777  96776  59894]\n",
      "Additional words from top 5 documents: sex\n",
      "🔍 Enhanced Query: What's it like being a lesbian? sex\n"
     ]
    },
    {
     "name": "stderr",
     "output_type": "stream",
     "text": [
      "معالجة الاستعلامات:  82%|████████▏ | 818/1000 [50:14<10:43,  3.54s/استعلام]"
     ]
    },
    {
     "name": "stdout",
     "output_type": "stream",
     "text": [
      "Total documents in doc_data: 522931\n",
      "Sample doc_ids: ['1', '2', '3', '4', '5']\n",
      "Top indices: [114336  43652 293668 504349   4280]\n",
      "Additional words from top 5 documents: greatest ever donald trump\n",
      "🔍 Enhanced Query: Who was the all time best President of the United States of America? greatest ever donald trump\n"
     ]
    },
    {
     "name": "stderr",
     "output_type": "stream",
     "text": [
      "معالجة الاستعلامات:  82%|████████▏ | 819/1000 [50:17<10:45,  3.57s/استعلام]"
     ]
    },
    {
     "name": "stdout",
     "output_type": "stream",
     "text": [
      "Total documents in doc_data: 522931\n",
      "Sample doc_ids: ['1', '2', '3', '4', '5']\n",
      "Top indices: [ 38277 359928 359927  42952 260002]\n",
      "Additional words from top 5 documents: difference characteristics positivism empiricism\n",
      "🔍 Enhanced Query: What do you know about similarities and differences between realism and pragmatism? difference characteristics positivism empiricism\n"
     ]
    },
    {
     "name": "stderr",
     "output_type": "stream",
     "text": [
      "معالجة الاستعلامات:  82%|████████▏ | 820/1000 [50:21<10:44,  3.58s/استعلام]"
     ]
    },
    {
     "name": "stdout",
     "output_type": "stream",
     "text": [
      "Total documents in doc_data: 522931\n",
      "Sample doc_ids: ['1', '2', '3', '4', '5']\n",
      "Top indices: [ 38361  73230 366931 448977 522908]\n",
      "Additional words from top 5 documents: symptoms diagnose\n",
      "🔍 Enhanced Query: What is your review of Antisocial Personality Disorder? symptoms diagnose\n"
     ]
    },
    {
     "name": "stderr",
     "output_type": "stream",
     "text": [
      "معالجة الاستعلامات:  82%|████████▏ | 821/1000 [50:24<10:37,  3.56s/استعلام]"
     ]
    },
    {
     "name": "stdout",
     "output_type": "stream",
     "text": [
      "Total documents in doc_data: 522931\n",
      "Sample doc_ids: ['1', '2', '3', '4', '5']\n",
      "Top indices: [503086  38448 277752 277753 509727]\n",
      "Additional words from top 5 documents: blackholes best understand theory\n",
      "🔍 Enhanced Query: What are some good books on black holes? blackholes best understand theory\n"
     ]
    },
    {
     "name": "stderr",
     "output_type": "stream",
     "text": [
      "معالجة الاستعلامات:  82%|████████▏ | 822/1000 [50:28<10:33,  3.56s/استعلام]"
     ]
    },
    {
     "name": "stdout",
     "output_type": "stream",
     "text": [
      "Total documents in doc_data: 522931\n",
      "Sample doc_ids: ['1', '2', '3', '4', '5']\n",
      "Top indices: [206757 221648 221647  38477 132342]\n",
      "Additional words from top 5 documents: good freelance websites\n",
      "🔍 Enhanced Query: what is the way to start career in digital marketing? good freelance websites\n"
     ]
    },
    {
     "name": "stderr",
     "output_type": "stream",
     "text": [
      "معالجة الاستعلامات:  82%|████████▏ | 823/1000 [50:32<10:38,  3.61s/استعلام]"
     ]
    },
    {
     "name": "stdout",
     "output_type": "stream",
     "text": [
      "Total documents in doc_data: 522931\n",
      "Sample doc_ids: ['1', '2', '3', '4', '5']\n",
      "Top indices: [ 38588 103893 258143 321210 284099]\n",
      "Additional words from top 5 documents: viscosity water denser viscous\n",
      "🔍 Enhanced Query: What is the ideal plastic fluid? viscosity water denser viscous\n"
     ]
    },
    {
     "name": "stderr",
     "output_type": "stream",
     "text": [
      "معالجة الاستعلامات:  82%|████████▏ | 824/1000 [50:35<10:45,  3.67s/استعلام]"
     ]
    },
    {
     "name": "stdout",
     "output_type": "stream",
     "text": [
      "Total documents in doc_data: 522931\n",
      "Sample doc_ids: ['1', '2', '3', '4', '5']\n",
      "Top indices: [ 38610  43546    934 231122 197374]\n",
      "Additional words from top 5 documents: mostly black shade light\n",
      "🔍 Enhanced Query: Why are police uniforms traditionally blue? mostly black shade light\n"
     ]
    },
    {
     "name": "stderr",
     "output_type": "stream",
     "text": [
      "معالجة الاستعلامات:  82%|████████▎ | 825/1000 [50:40<11:04,  3.80s/استعلام]"
     ]
    },
    {
     "name": "stdout",
     "output_type": "stream",
     "text": [
      "Total documents in doc_data: 522931\n",
      "Sample doc_ids: ['1', '2', '3', '4', '5']\n",
      "Top indices: [ 38647 403494 162807 522461 452651]\n",
      "Additional words from top 5 documents: good rio janeiro sao\n",
      "🔍 Enhanced Query: What is a decent salary in São Paulo? good rio janeiro sao\n"
     ]
    },
    {
     "name": "stderr",
     "output_type": "stream",
     "text": [
      "معالجة الاستعلامات:  83%|████████▎ | 826/1000 [50:43<10:57,  3.78s/استعلام]"
     ]
    },
    {
     "name": "stdout",
     "output_type": "stream",
     "text": [
      "Total documents in doc_data: 522931\n",
      "Sample doc_ids: ['1', '2', '3', '4', '5']\n",
      "Top indices: [169570 407691  31062 223180  94857]\n",
      "Additional words from top 5 documents: better different windows unixlike\n",
      "🔍 Enhanced Query: What is UNIX? better different windows unixlike\n"
     ]
    },
    {
     "name": "stderr",
     "output_type": "stream",
     "text": [
      "معالجة الاستعلامات:  83%|████████▎ | 827/1000 [50:47<10:49,  3.75s/استعلام]"
     ]
    },
    {
     "name": "stdout",
     "output_type": "stream",
     "text": [
      "Total documents in doc_data: 522931\n",
      "Sample doc_ids: ['1', '2', '3', '4', '5']\n",
      "Top indices: [314394  38757 432386  54289 138278]\n",
      "Additional words from top 5 documents: politics politician know handle\n",
      "🔍 Enhanced Query: How do you overcome a political workplace? politics politician know handle\n"
     ]
    },
    {
     "name": "stderr",
     "output_type": "stream",
     "text": [
      "معالجة الاستعلامات:  83%|████████▎ | 828/1000 [50:51<10:45,  3.75s/استعلام]"
     ]
    },
    {
     "name": "stdout",
     "output_type": "stream",
     "text": [
      "Total documents in doc_data: 522931\n",
      "Sample doc_ids: ['1', '2', '3', '4', '5']\n",
      "Top indices: [177922 520011 209025 498742 158476]\n",
      "Additional words from top 5 documents: korea threaten become people\n",
      "🔍 Enhanced Query: What can be done to end the North Korean regime? korea threaten become people\n"
     ]
    },
    {
     "name": "stderr",
     "output_type": "stream",
     "text": [
      "معالجة الاستعلامات:  83%|████████▎ | 829/1000 [50:55<10:44,  3.77s/استعلام]"
     ]
    },
    {
     "name": "stdout",
     "output_type": "stream",
     "text": [
      "Total documents in doc_data: 522931\n",
      "Sample doc_ids: ['1', '2', '3', '4', '5']\n",
      "Top indices: [ 38816 347808 171536  57930 376469]\n",
      "Additional words from top 5 documents: best cannibus food easiest\n",
      "🔍 Enhanced Query: What are some fast growing indoor plants? best cannibus food easiest\n"
     ]
    },
    {
     "name": "stderr",
     "output_type": "stream",
     "text": [
      "معالجة الاستعلامات:  83%|████████▎ | 830/1000 [50:58<10:42,  3.78s/استعلام]"
     ]
    },
    {
     "name": "stdout",
     "output_type": "stream",
     "text": [
      "Total documents in doc_data: 522931\n",
      "Sample doc_ids: ['1', '2', '3', '4', '5']\n",
      "Top indices: [514362 514363 484208 127246 494480]\n",
      "Additional words from top 5 documents: kashmiris want independence india\n",
      "🔍 Enhanced Query: What do Kashmiri Pandits feel about the freedom movement in Kashmir? kashmiris want independence india\n"
     ]
    },
    {
     "name": "stderr",
     "output_type": "stream",
     "text": [
      "معالجة الاستعلامات:  83%|████████▎ | 831/1000 [51:02<10:38,  3.78s/استعلام]"
     ]
    },
    {
     "name": "stdout",
     "output_type": "stream",
     "text": [
      "Total documents in doc_data: 522931\n",
      "Sample doc_ids: ['1', '2', '3', '4', '5']\n",
      "Top indices: [126786  38829 311212 397054  43798]\n",
      "Additional words from top 5 documents: api android get play\n",
      "🔍 Enhanced Query: An app to download songs from SoundCloud? api android get play\n"
     ]
    },
    {
     "name": "stderr",
     "output_type": "stream",
     "text": [
      "معالجة الاستعلامات:  83%|████████▎ | 832/1000 [51:06<10:28,  3.74s/استعلام]"
     ]
    },
    {
     "name": "stdout",
     "output_type": "stream",
     "text": [
      "Total documents in doc_data: 522931\n",
      "Sample doc_ids: ['1', '2', '3', '4', '5']\n",
      "Top indices: [ 74468 341430  26445 393246 167374]\n",
      "Additional words from top 5 documents: coriolis centripetal zero constant\n",
      "🔍 Enhanced Query: How can there be acceleration in uniform circular motion? coriolis centripetal zero constant\n"
     ]
    },
    {
     "name": "stderr",
     "output_type": "stream",
     "text": [
      "معالجة الاستعلامات:  83%|████████▎ | 833/1000 [51:09<10:18,  3.70s/استعلام]"
     ]
    },
    {
     "name": "stdout",
     "output_type": "stream",
     "text": [
      "Total documents in doc_data: 522931\n",
      "Sample doc_ids: ['1', '2', '3', '4', '5']\n",
      "Top indices: [ 38965 418972 334603 414576 337616]\n",
      "Additional words from top 5 documents: google solution aws cognito\n",
      "🔍 Enhanced Query: How can I get into Cloud computing jobs? google solution aws cognito\n"
     ]
    },
    {
     "name": "stderr",
     "output_type": "stream",
     "text": [
      "معالجة الاستعلامات:  83%|████████▎ | 834/1000 [51:13<10:10,  3.68s/استعلام]"
     ]
    },
    {
     "name": "stdout",
     "output_type": "stream",
     "text": [
      "Total documents in doc_data: 522931\n",
      "Sample doc_ids: ['1', '2', '3', '4', '5']\n",
      "Top indices: [152426 188744  39028 103089 188743]\n",
      "Additional words from top 5 documents: train institute\n",
      "🔍 Enhanced Query: Which one is the best spoken English class in Pune? train institute\n"
     ]
    },
    {
     "name": "stderr",
     "output_type": "stream",
     "text": [
      "معالجة الاستعلامات:  84%|████████▎ | 835/1000 [51:17<10:00,  3.64s/استعلام]"
     ]
    },
    {
     "name": "stdout",
     "output_type": "stream",
     "text": [
      "Total documents in doc_data: 522931\n",
      "Sample doc_ids: ['1', '2', '3', '4', '5']\n",
      "Top indices: [417941 145836 420740 170958 184292]\n",
      "Additional words from top 5 documents: language india jjayalalitha 395\n",
      "🔍 Enhanced Query: Why didn't the people of Tamil Nadu learn Hindi? language india jjayalalitha 395\n"
     ]
    },
    {
     "name": "stderr",
     "output_type": "stream",
     "text": [
      "معالجة الاستعلامات:  84%|████████▎ | 836/1000 [51:20<09:52,  3.61s/استعلام]"
     ]
    },
    {
     "name": "stdout",
     "output_type": "stream",
     "text": [
      "Total documents in doc_data: 522931\n",
      "Sample doc_ids: ['1', '2', '3', '4', '5']\n",
      "Top indices: [ 39093 283488 213690  71735 181179]\n",
      "Additional words from top 5 documents: nikola invest buy think\n",
      "🔍 Enhanced Query: Why did Tesla say that 3,6,9 was the key to the universe? nikola invest buy think\n"
     ]
    },
    {
     "name": "stderr",
     "output_type": "stream",
     "text": [
      "معالجة الاستعلامات:  84%|████████▎ | 837/1000 [51:24<09:47,  3.61s/استعلام]"
     ]
    },
    {
     "name": "stdout",
     "output_type": "stream",
     "text": [
      "Total documents in doc_data: 522931\n",
      "Sample doc_ids: ['1', '2', '3', '4', '5']\n",
      "Top indices: [ 83627   6654  17609 380518 464451]\n",
      "Additional words from top 5 documents: relativity dilation question\n",
      "🔍 Enhanced Query: Why does everything with time slow down as one travels close to the speed of light? relativity dilation question\n"
     ]
    },
    {
     "name": "stderr",
     "output_type": "stream",
     "text": [
      "معالجة الاستعلامات:  84%|████████▍ | 838/1000 [51:27<09:47,  3.62s/استعلام]"
     ]
    },
    {
     "name": "stdout",
     "output_type": "stream",
     "text": [
      "Total documents in doc_data: 522931\n",
      "Sample doc_ids: ['1', '2', '3', '4', '5']\n",
      "Top indices: [ 11363  35427  79425 254519  11362]\n",
      "Additional words from top 5 documents: better bitdefender 2013 norton\n",
      "🔍 Enhanced Query: Which is the best antivirus currently? better bitdefender 2013 norton\n"
     ]
    },
    {
     "name": "stderr",
     "output_type": "stream",
     "text": [
      "معالجة الاستعلامات:  84%|████████▍ | 839/1000 [51:31<09:40,  3.60s/استعلام]"
     ]
    },
    {
     "name": "stdout",
     "output_type": "stream",
     "text": [
      "Total documents in doc_data: 522931\n",
      "Sample doc_ids: ['1', '2', '3', '4', '5']\n",
      "Top indices: [ 39303  23756 157866 195648  79985]\n",
      "Additional words from top 5 documents: universe finite monkey theorem\n",
      "🔍 Enhanced Query: Are all infinite languages uncomputable? Why? Why not? universe finite monkey theorem\n"
     ]
    },
    {
     "name": "stderr",
     "output_type": "stream",
     "text": [
      "معالجة الاستعلامات:  84%|████████▍ | 840/1000 [51:34<09:35,  3.60s/استعلام]"
     ]
    },
    {
     "name": "stdout",
     "output_type": "stream",
     "text": [
      "Total documents in doc_data: 522931\n",
      "Sample doc_ids: ['1', '2', '3', '4', '5']\n",
      "Top indices: [ 12256 160642 162668  12257 195662]\n",
      "Additional words from top 5 documents: ruler consider really actual\n",
      "🔍 Enhanced Query: Is akbar a great emperor? ruler consider really actual\n"
     ]
    },
    {
     "name": "stderr",
     "output_type": "stream",
     "text": [
      "معالجة الاستعلامات:  84%|████████▍ | 841/1000 [51:38<09:31,  3.59s/استعلام]"
     ]
    },
    {
     "name": "stdout",
     "output_type": "stream",
     "text": [
      "Total documents in doc_data: 522931\n",
      "Sample doc_ids: ['1', '2', '3', '4', '5']\n",
      "Top indices: [ 39355 322482 163151 262777 154013]\n",
      "Additional words from top 5 documents: experience spiritualism believe spirit\n",
      "🔍 Enhanced Query: Who am I in the spiritual sense? experience spiritualism believe spirit\n"
     ]
    },
    {
     "name": "stderr",
     "output_type": "stream",
     "text": [
      "معالجة الاستعلامات:  84%|████████▍ | 842/1000 [51:42<09:31,  3.61s/استعلام]"
     ]
    },
    {
     "name": "stdout",
     "output_type": "stream",
     "text": [
      "Total documents in doc_data: 522931\n",
      "Sample doc_ids: ['1', '2', '3', '4', '5']\n",
      "Top indices: [485248 397635   1794 513818  37340]\n",
      "Additional words from top 5 documents: pros con relationships romantic\n",
      "🔍 Enhanced Query: Can somebody tell me a story of a successful long distance relationship that turned into a marriage? pros con relationships romantic\n"
     ]
    },
    {
     "name": "stderr",
     "output_type": "stream",
     "text": [
      "معالجة الاستعلامات:  84%|████████▍ | 843/1000 [51:45<09:25,  3.60s/استعلام]"
     ]
    },
    {
     "name": "stdout",
     "output_type": "stream",
     "text": [
      "Total documents in doc_data: 522931\n",
      "Sample doc_ids: ['1', '2', '3', '4', '5']\n",
      "Top indices: [ 39401 174034 228733 144583 338038]\n",
      "Additional words from top 5 documents: alcoholism help know\n",
      "🔍 Enhanced Query: What's it like to live with an alcoholic? alcoholism help know\n"
     ]
    },
    {
     "name": "stderr",
     "output_type": "stream",
     "text": [
      "معالجة الاستعلامات:  84%|████████▍ | 844/1000 [51:49<09:25,  3.62s/استعلام]"
     ]
    },
    {
     "name": "stdout",
     "output_type": "stream",
     "text": [
      "Total documents in doc_data: 522931\n",
      "Sample doc_ids: ['1', '2', '3', '4', '5']\n",
      "Top indices: [392896 406016 475425 475426 277625]\n",
      "Additional words from top 5 documents: refinance mortgage loan repayment\n",
      "🔍 Enhanced Query: Should one clear credit card debt or shiuld give down payment for a first house? refinance mortgage loan repayment\n"
     ]
    },
    {
     "name": "stderr",
     "output_type": "stream",
     "text": [
      "معالجة الاستعلامات:  84%|████████▍ | 845/1000 [51:53<09:17,  3.60s/استعلام]"
     ]
    },
    {
     "name": "stdout",
     "output_type": "stream",
     "text": [
      "Total documents in doc_data: 522931\n",
      "Sample doc_ids: ['1', '2', '3', '4', '5']\n",
      "Top indices: [326053  39512 358225  96266 475506]\n",
      "Additional words from top 5 documents: ulcerative colitis ayurvedic medicine\n",
      "🔍 Enhanced Query: Is there any cure for Crohn's disease? ulcerative colitis ayurvedic medicine\n"
     ]
    },
    {
     "name": "stderr",
     "output_type": "stream",
     "text": [
      "معالجة الاستعلامات:  85%|████████▍ | 846/1000 [51:56<09:10,  3.57s/استعلام]"
     ]
    },
    {
     "name": "stdout",
     "output_type": "stream",
     "text": [
      "Total documents in doc_data: 522931\n",
      "Sample doc_ids: ['1', '2', '3', '4', '5']\n",
      "Top indices: [  7896 467670 360394 202018 367837]\n",
      "Additional words from top 5 documents: pakistan bangladeshis always support\n",
      "🔍 Enhanced Query: Can Bangladesh and India unite again? pakistan bangladeshis always support\n"
     ]
    },
    {
     "name": "stderr",
     "output_type": "stream",
     "text": [
      "معالجة الاستعلامات:  85%|████████▍ | 847/1000 [52:00<09:05,  3.56s/استعلام]"
     ]
    },
    {
     "name": "stdout",
     "output_type": "stream",
     "text": [
      "Total documents in doc_data: 522931\n",
      "Sample doc_ids: ['1', '2', '3', '4', '5']\n",
      "Top indices: [371448 424327 472575  53550 151917]\n",
      "Additional words from top 5 documents: club loyal fan respect\n",
      "🔍 Enhanced Query: Do you support any football team? club loyal fan respect\n"
     ]
    },
    {
     "name": "stderr",
     "output_type": "stream",
     "text": [
      "معالجة الاستعلامات:  85%|████████▍ | 848/1000 [52:03<09:03,  3.58s/استعلام]"
     ]
    },
    {
     "name": "stdout",
     "output_type": "stream",
     "text": [
      "Total documents in doc_data: 522931\n",
      "Sample doc_ids: ['1', '2', '3', '4', '5']\n",
      "Top indices: [ 25005 227549   9135 288414 414568]\n",
      "Additional words from top 5 documents: vitamin deficiency cause bulimia\n",
      "🔍 Enhanced Query: How does diet affect hair (appearance, color, loss, etc)? vitamin deficiency cause bulimia\n"
     ]
    },
    {
     "name": "stderr",
     "output_type": "stream",
     "text": [
      "معالجة الاستعلامات:  85%|████████▍ | 849/1000 [52:07<08:57,  3.56s/استعلام]"
     ]
    },
    {
     "name": "stdout",
     "output_type": "stream",
     "text": [
      "Total documents in doc_data: 522931\n",
      "Sample doc_ids: ['1', '2', '3', '4', '5']\n",
      "Top indices: [ 39600  83336 460744 501461 483785]\n",
      "Additional words from top 5 documents: nigerians scammers telemarketing buy\n",
      "🔍 Enhanced Query: Make money online from Nigeria? nigerians scammers telemarketing buy\n"
     ]
    },
    {
     "name": "stderr",
     "output_type": "stream",
     "text": [
      "معالجة الاستعلامات:  85%|████████▌ | 850/1000 [52:10<08:51,  3.54s/استعلام]"
     ]
    },
    {
     "name": "stdout",
     "output_type": "stream",
     "text": [
      "Total documents in doc_data: 522931\n",
      "Sample doc_ids: ['1', '2', '3', '4', '5']\n",
      "Top indices: [381767 297612  38609 398192 376344]\n",
      "Additional words from top 5 documents: diet exercise lower cholesterol\n",
      "🔍 Enhanced Query: What are the ways to keep the heart healthy? diet exercise lower cholesterol\n"
     ]
    },
    {
     "name": "stderr",
     "output_type": "stream",
     "text": [
      "معالجة الاستعلامات:  85%|████████▌ | 851/1000 [52:14<08:46,  3.53s/استعلام]"
     ]
    },
    {
     "name": "stdout",
     "output_type": "stream",
     "text": [
      "Total documents in doc_data: 522931\n",
      "Sample doc_ids: ['1', '2', '3', '4', '5']\n",
      "Top indices: [322354  98753 322353 175944 509195]\n",
      "Additional words from top 5 documents: sell work ebay earn\n",
      "🔍 Enhanced Query: What are some ways to make money from home? sell work ebay earn\n"
     ]
    },
    {
     "name": "stderr",
     "output_type": "stream",
     "text": [
      "معالجة الاستعلامات:  85%|████████▌ | 852/1000 [52:17<08:45,  3.55s/استعلام]"
     ]
    },
    {
     "name": "stdout",
     "output_type": "stream",
     "text": [
      "Total documents in doc_data: 522931\n",
      "Sample doc_ids: ['1', '2', '3', '4', '5']\n",
      "Top indices: [274011  30264 170045  39705 114505]\n",
      "Additional words from top 5 documents: top universities medicine\n",
      "🔍 Enhanced Query: What is the best medical university in Ukraine? top universities medicine\n"
     ]
    },
    {
     "name": "stderr",
     "output_type": "stream",
     "text": [
      "معالجة الاستعلامات:  85%|████████▌ | 853/1000 [52:21<08:53,  3.63s/استعلام]"
     ]
    },
    {
     "name": "stdout",
     "output_type": "stream",
     "text": [
      "Total documents in doc_data: 522931\n",
      "Sample doc_ids: ['1', '2', '3', '4', '5']\n",
      "Top indices: [ 74236 311386 487102 261142  92457]\n",
      "Additional words from top 5 documents: chennai placement university sibm\n",
      "🔍 Enhanced Query: What are the placements and packages offered at the Ramapuram campus of SRM like? Are they as good as that of the main campus? chennai placement university sibm\n"
     ]
    },
    {
     "name": "stderr",
     "output_type": "stream",
     "text": [
      "معالجة الاستعلامات:  85%|████████▌ | 854/1000 [52:25<08:52,  3.65s/استعلام]"
     ]
    },
    {
     "name": "stdout",
     "output_type": "stream",
     "text": [
      "Total documents in doc_data: 522931\n",
      "Sample doc_ids: ['1', '2', '3', '4', '5']\n",
      "Top indices: [339927 109053 350976 192646 121677]\n",
      "Additional words from top 5 documents: marijuana not throughout still\n",
      "🔍 Enhanced Query: Why is weed illegal in many countries and alcohol is legal almost everywhere? Just curious. marijuana not throughout still\n"
     ]
    },
    {
     "name": "stderr",
     "output_type": "stream",
     "text": [
      "معالجة الاستعلامات:  86%|████████▌ | 855/1000 [52:29<08:55,  3.69s/استعلام]"
     ]
    },
    {
     "name": "stdout",
     "output_type": "stream",
     "text": [
      "Total documents in doc_data: 522931\n",
      "Sample doc_ids: ['1', '2', '3', '4', '5']\n",
      "Top indices: [ 39754 105514 426383 365750 482418]\n",
      "Additional words from top 5 documents: become positive negative higher\n",
      "🔍 Enhanced Query: What can I do to rise above negativity? become positive negative higher\n"
     ]
    },
    {
     "name": "stderr",
     "output_type": "stream",
     "text": [
      "معالجة الاستعلامات:  86%|████████▌ | 856/1000 [52:32<08:55,  3.72s/استعلام]"
     ]
    },
    {
     "name": "stdout",
     "output_type": "stream",
     "text": [
      "Total documents in doc_data: 522931\n",
      "Sample doc_ids: ['1', '2', '3', '4', '5']\n",
      "Top indices: [221076 100746 471229 100747 221075]\n",
      "Additional words from top 5 documents: events iitbs techfest techcrunch\n",
      "🔍 Enhanced Query: What are the some best fun games that can be conducted in a technical fests? events iitbs techfest techcrunch\n"
     ]
    },
    {
     "name": "stderr",
     "output_type": "stream",
     "text": [
      "معالجة الاستعلامات:  86%|████████▌ | 857/1000 [52:36<08:47,  3.69s/استعلام]"
     ]
    },
    {
     "name": "stdout",
     "output_type": "stream",
     "text": [
      "Total documents in doc_data: 522931\n",
      "Sample doc_ids: ['1', '2', '3', '4', '5']\n",
      "Top indices: [267542 159360   2720   2719  79170]\n",
      "Additional words from top 5 documents: ethics professional bullshit children\n",
      "🔍 Enhanced Query: What are ethical considerations? ethics professional bullshit children\n"
     ]
    },
    {
     "name": "stderr",
     "output_type": "stream",
     "text": [
      "معالجة الاستعلامات:  86%|████████▌ | 858/1000 [52:40<08:48,  3.72s/استعلام]"
     ]
    },
    {
     "name": "stdout",
     "output_type": "stream",
     "text": [
      "Total documents in doc_data: 522931\n",
      "Sample doc_ids: ['1', '2', '3', '4', '5']\n",
      "Top indices: [ 40002 183054 101465 202193 364725]\n",
      "Additional words from top 5 documents: place visit best hotels\n",
      "🔍 Enhanced Query: How do I plan a trip to Goa? place visit best hotels\n"
     ]
    },
    {
     "name": "stderr",
     "output_type": "stream",
     "text": [
      "معالجة الاستعلامات:  86%|████████▌ | 859/1000 [52:43<08:40,  3.69s/استعلام]"
     ]
    },
    {
     "name": "stdout",
     "output_type": "stream",
     "text": [
      "Total documents in doc_data: 522931\n",
      "Sample doc_ids: ['1', '2', '3', '4', '5']\n",
      "Top indices: [134973 421988 265618 397081 451584]\n",
      "Additional words from top 5 documents: free cheap crm startup\n",
      "🔍 Enhanced Query: What is the best applicant management / tracking tool for startups and small firms? free cheap crm startup\n"
     ]
    },
    {
     "name": "stderr",
     "output_type": "stream",
     "text": [
      "معالجة الاستعلامات:  86%|████████▌ | 860/1000 [52:47<08:34,  3.67s/استعلام]"
     ]
    },
    {
     "name": "stdout",
     "output_type": "stream",
     "text": [
      "Total documents in doc_data: 522931\n",
      "Sample doc_ids: ['1', '2', '3', '4', '5']\n",
      "Top indices: [ 39952 393935 240271 240270 266175]\n",
      "Additional words from top 5 documents: quick settings moto laptop\n",
      "🔍 Enhanced Query: How can I disable windows 10 lock screen? quick settings moto laptop\n"
     ]
    },
    {
     "name": "stderr",
     "output_type": "stream",
     "text": [
      "معالجة الاستعلامات:  86%|████████▌ | 861/1000 [52:51<08:24,  3.63s/استعلام]"
     ]
    },
    {
     "name": "stdout",
     "output_type": "stream",
     "text": [
      "Total documents in doc_data: 522931\n",
      "Sample doc_ids: ['1', '2', '3', '4', '5']\n",
      "Top indices: [  7382 231837  46356 313746  40079]\n",
      "Additional words from top 5 documents: possibly depression\n",
      "🔍 Enhanced Query: What could you do when you are depressed? possibly depression\n"
     ]
    },
    {
     "name": "stderr",
     "output_type": "stream",
     "text": [
      "معالجة الاستعلامات:  86%|████████▌ | 862/1000 [52:54<08:13,  3.57s/استعلام]"
     ]
    },
    {
     "name": "stdout",
     "output_type": "stream",
     "text": [
      "Total documents in doc_data: 522931\n",
      "Sample doc_ids: ['1', '2', '3', '4', '5']\n",
      "Top indices: [495661 208553  40082 151795  46299]\n",
      "Additional words from top 5 documents: russia doesnt chance never\n",
      "🔍 Enhanced Query: Will Ukraine ever join Nato? russia doesnt chance never\n"
     ]
    },
    {
     "name": "stderr",
     "output_type": "stream",
     "text": [
      "معالجة الاستعلامات:  86%|████████▋ | 863/1000 [52:58<08:04,  3.54s/استعلام]"
     ]
    },
    {
     "name": "stdout",
     "output_type": "stream",
     "text": [
      "Total documents in doc_data: 522931\n",
      "Sample doc_ids: ['1', '2', '3', '4', '5']\n",
      "Top indices: [ 40098 232695 237751 392250   5824]\n",
      "Additional words from top 5 documents: albums rock pop hip\n",
      "🔍 Enhanced Query: What is the difference between a music album and a music single? albums rock pop hip\n"
     ]
    },
    {
     "name": "stderr",
     "output_type": "stream",
     "text": [
      "معالجة الاستعلامات:  86%|████████▋ | 864/1000 [53:01<08:04,  3.56s/استعلام]"
     ]
    },
    {
     "name": "stdout",
     "output_type": "stream",
     "text": [
      "Total documents in doc_data: 522931\n",
      "Sample doc_ids: ['1', '2', '3', '4', '5']\n",
      "Top indices: [222001 486913 222002  55607  84500]\n",
      "Additional words from top 5 documents: reduce belly fat swim\n",
      "🔍 Enhanced Query: What are the best home exercises to lose weight? reduce belly fat swim\n"
     ]
    },
    {
     "name": "stderr",
     "output_type": "stream",
     "text": [
      "معالجة الاستعلامات:  86%|████████▋ | 865/1000 [53:05<07:55,  3.52s/استعلام]"
     ]
    },
    {
     "name": "stdout",
     "output_type": "stream",
     "text": [
      "Total documents in doc_data: 522931\n",
      "Sample doc_ids: ['1', '2', '3', '4', '5']\n",
      "Top indices: [ 40460 480933  74249 216324  74248]\n",
      "Additional words from top 5 documents: 2016\n",
      "🔍 Enhanced Query: How was the year 2014 for you? 2016\n"
     ]
    },
    {
     "name": "stderr",
     "output_type": "stream",
     "text": [
      "معالجة الاستعلامات:  87%|████████▋ | 866/1000 [53:08<07:52,  3.53s/استعلام]"
     ]
    },
    {
     "name": "stdout",
     "output_type": "stream",
     "text": [
      "Total documents in doc_data: 522931\n",
      "Sample doc_ids: ['1', '2', '3', '4', '5']\n",
      "Top indices: [415833  40493  41809 461405 179959]\n",
      "Additional words from top 5 documents: indiaprotienscom deliver original products\n",
      "🔍 Enhanced Query: Who is the genuine seller of Davisco Whey Protein in INDIA? Any user of Davisco Whey, Please come forward. indiaprotienscom deliver original products\n"
     ]
    },
    {
     "name": "stderr",
     "output_type": "stream",
     "text": [
      "معالجة الاستعلامات:  87%|████████▋ | 867/1000 [53:12<07:47,  3.52s/استعلام]"
     ]
    },
    {
     "name": "stdout",
     "output_type": "stream",
     "text": [
      "Total documents in doc_data: 522931\n",
      "Sample doc_ids: ['1', '2', '3', '4', '5']\n",
      "Top indices: [310392 431700  58191  58192 285495]\n",
      "Additional words from top 5 documents: format philippines zip digit\n",
      "🔍 Enhanced Query: What is an international postal code? format philippines zip digit\n"
     ]
    },
    {
     "name": "stderr",
     "output_type": "stream",
     "text": [
      "معالجة الاستعلامات:  87%|████████▋ | 868/1000 [53:15<07:41,  3.50s/استعلام]"
     ]
    },
    {
     "name": "stdout",
     "output_type": "stream",
     "text": [
      "Total documents in doc_data: 522931\n",
      "Sample doc_ids: ['1', '2', '3', '4', '5']\n",
      "Top indices: [151073 470632 136262 364988 357038]\n",
      "Additional words from top 5 documents: sleepiness lecture study concentrate\n",
      "🔍 Enhanced Query: How do I avoid sleeping during the lectures?(a serious jee aspirant) sleepiness lecture study concentrate\n"
     ]
    },
    {
     "name": "stderr",
     "output_type": "stream",
     "text": [
      "معالجة الاستعلامات:  87%|████████▋ | 869/1000 [53:19<07:39,  3.51s/استعلام]"
     ]
    },
    {
     "name": "stdout",
     "output_type": "stream",
     "text": [
      "Total documents in doc_data: 522931\n",
      "Sample doc_ids: ['1', '2', '3', '4', '5']\n",
      "Top indices: [383312 498645   3834  40809 104319]\n",
      "Additional words from top 5 documents: service drivers earn cab\n",
      "🔍 Enhanced Query: How much does an Uber driver make in India? service drivers earn cab\n"
     ]
    },
    {
     "name": "stderr",
     "output_type": "stream",
     "text": [
      "معالجة الاستعلامات:  87%|████████▋ | 870/1000 [53:22<07:41,  3.55s/استعلام]"
     ]
    },
    {
     "name": "stdout",
     "output_type": "stream",
     "text": [
      "Total documents in doc_data: 522931\n",
      "Sample doc_ids: ['1', '2', '3', '4', '5']\n",
      "Top indices: [ 90538 437431 259117 286921 411084]\n",
      "Additional words from top 5 documents: study opportunities electronics\n",
      "🔍 Enhanced Query: What is best career plan after completing graduation in b.tech (mechanical engineering)? study opportunities electronics\n"
     ]
    },
    {
     "name": "stderr",
     "output_type": "stream",
     "text": [
      "معالجة الاستعلامات:  87%|████████▋ | 871/1000 [53:26<07:48,  3.63s/استعلام]"
     ]
    },
    {
     "name": "stdout",
     "output_type": "stream",
     "text": [
      "Total documents in doc_data: 522931\n",
      "Sample doc_ids: ['1', '2', '3', '4', '5']\n",
      "Top indices: [ 91925 484020 231203  34685  75032]\n",
      "Additional words from top 5 documents: expert learn computer programmingcoding\n",
      "🔍 Enhanced Query: What is the easiest way to become a good coder? expert learn computer programmingcoding\n"
     ]
    },
    {
     "name": "stderr",
     "output_type": "stream",
     "text": [
      "معالجة الاستعلامات:  87%|████████▋ | 872/1000 [53:30<07:51,  3.68s/استعلام]"
     ]
    },
    {
     "name": "stdout",
     "output_type": "stream",
     "text": [
      "Total documents in doc_data: 522931\n",
      "Sample doc_ids: ['1', '2', '3', '4', '5']\n",
      "Top indices: [489890  96783 452530 489889  56531]\n",
      "Additional words from top 5 documents: not\n",
      "🔍 Enhanced Query: Can you love someone who doesn't love you back? not\n"
     ]
    },
    {
     "name": "stderr",
     "output_type": "stream",
     "text": [
      "معالجة الاستعلامات:  87%|████████▋ | 873/1000 [53:34<08:20,  3.94s/استعلام]"
     ]
    },
    {
     "name": "stdout",
     "output_type": "stream",
     "text": [
      "Total documents in doc_data: 522931\n",
      "Sample doc_ids: ['1', '2', '3', '4', '5']\n",
      "Top indices: [ 40987 226860 465019 240131  53081]\n",
      "Additional words from top 5 documents: fugues\n",
      "🔍 Enhanced Query: What is definition of fugacity? fugues\n"
     ]
    },
    {
     "name": "stderr",
     "output_type": "stream",
     "text": [
      "معالجة الاستعلامات:  87%|████████▋ | 874/1000 [53:38<08:20,  3.97s/استعلام]"
     ]
    },
    {
     "name": "stdout",
     "output_type": "stream",
     "text": [
      "Total documents in doc_data: 522931\n",
      "Sample doc_ids: ['1', '2', '3', '4', '5']\n",
      "Top indices: [150103  55843  56882 176633 409324]\n",
      "Additional words from top 5 documents: earn 5000 invest 1000\n",
      "🔍 Enhanced Query: What's the best way to make money with $2,000? earn 5000 invest 1000\n"
     ]
    },
    {
     "name": "stderr",
     "output_type": "stream",
     "text": [
      "معالجة الاستعلامات:  88%|████████▊ | 875/1000 [53:42<08:16,  3.97s/استعلام]"
     ]
    },
    {
     "name": "stdout",
     "output_type": "stream",
     "text": [
      "Total documents in doc_data: 522931\n",
      "Sample doc_ids: ['1', '2', '3', '4', '5']\n",
      "Top indices: [ 41039  80844 107627 412102 412103]\n",
      "Additional words from top 5 documents: best treatment eczema\n",
      "🔍 Enhanced Query: How can lichen planus be cure? best treatment eczema\n"
     ]
    },
    {
     "name": "stderr",
     "output_type": "stream",
     "text": [
      "معالجة الاستعلامات:  88%|████████▊ | 876/1000 [53:46<08:06,  3.92s/استعلام]"
     ]
    },
    {
     "name": "stdout",
     "output_type": "stream",
     "text": [
      "Total documents in doc_data: 522931\n",
      "Sample doc_ids: ['1', '2', '3', '4', '5']\n",
      "Top indices: [514229 187412 187413  34548 243277]\n",
      "Additional words from top 5 documents: update iphone ios7 ios9\n",
      "🔍 Enhanced Query: What is the latest version of iOS? update iphone ios7 ios9\n"
     ]
    },
    {
     "name": "stderr",
     "output_type": "stream",
     "text": [
      "معالجة الاستعلامات:  88%|████████▊ | 877/1000 [53:50<07:59,  3.90s/استعلام]"
     ]
    },
    {
     "name": "stdout",
     "output_type": "stream",
     "text": [
      "Total documents in doc_data: 522931\n",
      "Sample doc_ids: ['1', '2', '3', '4', '5']\n",
      "Top indices: [483471 483472  55540 406359 403854]\n",
      "Additional words from top 5 documents: lovehate relationships relationship true\n",
      "🔍 Enhanced Query: What are some great real life love stories which took a lot of efforts to be successful? lovehate relationships relationship true\n"
     ]
    },
    {
     "name": "stderr",
     "output_type": "stream",
     "text": [
      "معالجة الاستعلامات:  88%|████████▊ | 878/1000 [53:54<07:44,  3.81s/استعلام]"
     ]
    },
    {
     "name": "stdout",
     "output_type": "stream",
     "text": [
      "Total documents in doc_data: 522931\n",
      "Sample doc_ids: ['1', '2', '3', '4', '5']\n",
      "Top indices: [431841  98638  86955 426942 205378]\n",
      "Additional words from top 5 documents: fontface font use turon\n",
      "🔍 Enhanced Query: Why there is so much prejudice against those fonts named as Blackletter? fontface font use turon\n"
     ]
    },
    {
     "name": "stderr",
     "output_type": "stream",
     "text": [
      "معالجة الاستعلامات:  88%|████████▊ | 879/1000 [53:57<07:36,  3.77s/استعلام]"
     ]
    },
    {
     "name": "stdout",
     "output_type": "stream",
     "text": [
      "Total documents in doc_data: 522931\n",
      "Sample doc_ids: ['1', '2', '3', '4', '5']\n",
      "Top indices: [ 10120 277168  23137  96464  41175]\n",
      "Additional words from top 5 documents: like men indian hair\n",
      "🔍 Enhanced Query: Do light skin black girls prefer dark skin guys and why? like men indian hair\n"
     ]
    },
    {
     "name": "stderr",
     "output_type": "stream",
     "text": [
      "معالجة الاستعلامات:  88%|████████▊ | 880/1000 [54:01<07:28,  3.73s/استعلام]"
     ]
    },
    {
     "name": "stdout",
     "output_type": "stream",
     "text": [
      "Total documents in doc_data: 522931\n",
      "Sample doc_ids: ['1', '2', '3', '4', '5']\n",
      "Top indices: [105883 105884 219774 502845  11164]\n",
      "Additional words from top 5 documents: rs100000 months rs50000 5000\n",
      "🔍 Enhanced Query: How can I earn rupees 1 lakh within a month? rs100000 months rs50000 5000\n"
     ]
    },
    {
     "name": "stderr",
     "output_type": "stream",
     "text": [
      "معالجة الاستعلامات:  88%|████████▊ | 881/1000 [54:05<07:31,  3.80s/استعلام]"
     ]
    },
    {
     "name": "stdout",
     "output_type": "stream",
     "text": [
      "Total documents in doc_data: 522931\n",
      "Sample doc_ids: ['1', '2', '3', '4', '5']\n",
      "Top indices: [152977 472396 327167 422272 398250]\n",
      "Additional words from top 5 documents: phd thesis onlinearchives history\n",
      "🔍 Enhanced Query: Where can I find Cognizant online test previous placement papers? phd thesis onlinearchives history\n"
     ]
    },
    {
     "name": "stderr",
     "output_type": "stream",
     "text": [
      "معالجة الاستعلامات:  88%|████████▊ | 882/1000 [54:09<07:25,  3.78s/استعلام]"
     ]
    },
    {
     "name": "stdout",
     "output_type": "stream",
     "text": [
      "Total documents in doc_data: 522931\n",
      "Sample doc_ids: ['1', '2', '3', '4', '5']\n",
      "Top indices: [386278 384354 420282 507292  62707]\n",
      "Additional words from top 5 documents: formulae know explain gravity\n",
      "🔍 Enhanced Query: Do we have to be good at math to understand physics? formulae know explain gravity\n"
     ]
    },
    {
     "name": "stderr",
     "output_type": "stream",
     "text": [
      "معالجة الاستعلامات:  88%|████████▊ | 883/1000 [54:12<07:19,  3.76s/استعلام]"
     ]
    },
    {
     "name": "stdout",
     "output_type": "stream",
     "text": [
      "Total documents in doc_data: 522931\n",
      "Sample doc_ids: ['1', '2', '3', '4', '5']\n",
      "Top indices: [202450 264529 262799 518237 146858]\n",
      "Additional words from top 5 documents: machine determine car bike\n",
      "🔍 Enhanced Query: What is torque? machine determine car bike\n"
     ]
    },
    {
     "name": "stderr",
     "output_type": "stream",
     "text": [
      "معالجة الاستعلامات:  88%|████████▊ | 884/1000 [54:16<07:16,  3.76s/استعلام]"
     ]
    },
    {
     "name": "stdout",
     "output_type": "stream",
     "text": [
      "Total documents in doc_data: 522931\n",
      "Sample doc_ids: ['1', '2', '3', '4', '5']\n",
      "Top indices: [ 41427 239915 393351 461906 182984]\n",
      "Additional words from top 5 documents: seinfeld enduringly\n",
      "🔍 Enhanced Query: Why did the TV show Seinfield become so popular? seinfeld enduringly\n"
     ]
    },
    {
     "name": "stderr",
     "output_type": "stream",
     "text": [
      "معالجة الاستعلامات:  88%|████████▊ | 885/1000 [54:20<07:09,  3.74s/استعلام]"
     ]
    },
    {
     "name": "stdout",
     "output_type": "stream",
     "text": [
      "Total documents in doc_data: 522931\n",
      "Sample doc_ids: ['1', '2', '3', '4', '5']\n",
      "Top indices: [403231 322104 304667 202286  55122]\n",
      "Additional words from top 5 documents: lotions cause acne men\n",
      "🔍 Enhanced Query: Is baby lotion good for your face? lotions cause acne men\n"
     ]
    },
    {
     "name": "stderr",
     "output_type": "stream",
     "text": [
      "معالجة الاستعلامات:  89%|████████▊ | 886/1000 [54:23<07:02,  3.70s/استعلام]"
     ]
    },
    {
     "name": "stdout",
     "output_type": "stream",
     "text": [
      "Total documents in doc_data: 522931\n",
      "Sample doc_ids: ['1', '2', '3', '4', '5']\n",
      "Top indices: [174300 398352 361473 136774 194315]\n",
      "Additional words from top 5 documents: darkweb get find active\n",
      "🔍 Enhanced Query: How to access dark web? darkweb get find active\n"
     ]
    },
    {
     "name": "stderr",
     "output_type": "stream",
     "text": [
      "معالجة الاستعلامات:  89%|████████▊ | 887/1000 [54:27<07:00,  3.72s/استعلام]"
     ]
    },
    {
     "name": "stdout",
     "output_type": "stream",
     "text": [
      "Total documents in doc_data: 522931\n",
      "Sample doc_ids: ['1', '2', '3', '4', '5']\n",
      "Top indices: [198296  41491 468399  95196 259224]\n",
      "Additional words from top 5 documents: help indepth start java\n",
      "🔍 Enhanced Query: How do I learn Spring Framework? help indepth start java\n"
     ]
    },
    {
     "name": "stderr",
     "output_type": "stream",
     "text": [
      "معالجة الاستعلامات:  89%|████████▉ | 888/1000 [54:31<06:53,  3.70s/استعلام]"
     ]
    },
    {
     "name": "stdout",
     "output_type": "stream",
     "text": [
      "Total documents in doc_data: 522931\n",
      "Sample doc_ids: ['1', '2', '3', '4', '5']\n",
      "Top indices: [443407 276037 218921 137642 437413]\n",
      "Additional words from top 5 documents: examples unsaturated solution molality\n",
      "🔍 Enhanced Query: What are the different types of solutions in chemistry? examples unsaturated solution molality\n"
     ]
    },
    {
     "name": "stderr",
     "output_type": "stream",
     "text": [
      "معالجة الاستعلامات:  89%|████████▉ | 889/1000 [54:35<07:00,  3.79s/استعلام]"
     ]
    },
    {
     "name": "stdout",
     "output_type": "stream",
     "text": [
      "Total documents in doc_data: 522931\n",
      "Sample doc_ids: ['1', '2', '3', '4', '5']\n",
      "Top indices: [225890  41533 412809 309471 322035]\n",
      "Additional words from top 5 documents: trademark\n",
      "🔍 Enhanced Query: How do I register a logo in america? trademark\n"
     ]
    },
    {
     "name": "stderr",
     "output_type": "stream",
     "text": [
      "معالجة الاستعلامات:  89%|████████▉ | 890/1000 [54:39<07:00,  3.82s/استعلام]"
     ]
    },
    {
     "name": "stdout",
     "output_type": "stream",
     "text": [
      "Total documents in doc_data: 522931\n",
      "Sample doc_ids: ['1', '2', '3', '4', '5']\n",
      "Top indices: [240184 332777  41560 332776  69596]\n",
      "Additional words from top 5 documents: presidency could obama romney\n",
      "🔍 Enhanced Query: Do you think Joe Biden will run for president in 2020? presidency could obama romney\n"
     ]
    },
    {
     "name": "stderr",
     "output_type": "stream",
     "text": [
      "معالجة الاستعلامات:  89%|████████▉ | 891/1000 [54:42<06:51,  3.77s/استعلام]"
     ]
    },
    {
     "name": "stdout",
     "output_type": "stream",
     "text": [
      "Total documents in doc_data: 522931\n",
      "Sample doc_ids: ['1', '2', '3', '4', '5']\n",
      "Top indices: [147363 177993 177994  27227 294712]\n",
      "Additional words from top 5 documents: change airtel postpaid check\n",
      "🔍 Enhanced Query: How do prepaid mobile phones work? change airtel postpaid check\n"
     ]
    },
    {
     "name": "stderr",
     "output_type": "stream",
     "text": [
      "معالجة الاستعلامات:  89%|████████▉ | 892/1000 [54:46<06:50,  3.80s/استعلام]"
     ]
    },
    {
     "name": "stdout",
     "output_type": "stream",
     "text": [
      "Total documents in doc_data: 522931\n",
      "Sample doc_ids: ['1', '2', '3', '4', '5']\n",
      "Top indices: [516394 222504  83435  36694 122968]\n",
      "Additional words from top 5 documents: self selfactualisation observation selfdetermination\n",
      "🔍 Enhanced Query: How can I define my self-identity? self selfactualisation observation selfdetermination\n"
     ]
    },
    {
     "name": "stderr",
     "output_type": "stream",
     "text": [
      "معالجة الاستعلامات:  89%|████████▉ | 893/1000 [54:50<06:39,  3.74s/استعلام]"
     ]
    },
    {
     "name": "stdout",
     "output_type": "stream",
     "text": [
      "Total documents in doc_data: 522931\n",
      "Sample doc_ids: ['1', '2', '3', '4', '5']\n",
      "Top indices: [513898 100509 100510  37331 161908]\n",
      "Additional words from top 5 documents: proud things indians happiest\n",
      "🔍 Enhanced Query: What makes you happy about India? proud things indians happiest\n"
     ]
    },
    {
     "name": "stderr",
     "output_type": "stream",
     "text": [
      "معالجة الاستعلامات:  89%|████████▉ | 894/1000 [54:53<06:31,  3.70s/استعلام]"
     ]
    },
    {
     "name": "stdout",
     "output_type": "stream",
     "text": [
      "Total documents in doc_data: 522931\n",
      "Sample doc_ids: ['1', '2', '3', '4', '5']\n",
      "Top indices: [372346 330098 247499 278194  89768]\n",
      "Additional words from top 5 documents: proof\n",
      "🔍 Enhanced Query: Can we prove that god exists, by logic? proof\n"
     ]
    },
    {
     "name": "stderr",
     "output_type": "stream",
     "text": [
      "معالجة الاستعلامات:  90%|████████▉ | 895/1000 [54:57<06:33,  3.75s/استعلام]"
     ]
    },
    {
     "name": "stdout",
     "output_type": "stream",
     "text": [
      "Total documents in doc_data: 522931\n",
      "Sample doc_ids: ['1', '2', '3', '4', '5']\n",
      "Top indices: [377656 511380 106043 292306 364288]\n",
      "Additional words from top 5 documents: stragetigic consolidation loan india\n",
      "🔍 Enhanced Query: What is strategic debt restructuring? stragetigic consolidation loan india\n"
     ]
    },
    {
     "name": "stderr",
     "output_type": "stream",
     "text": [
      "معالجة الاستعلامات:  90%|████████▉ | 896/1000 [55:01<06:24,  3.69s/استعلام]"
     ]
    },
    {
     "name": "stdout",
     "output_type": "stream",
     "text": [
      "Total documents in doc_data: 522931\n",
      "Sample doc_ids: ['1', '2', '3', '4', '5']\n",
      "Top indices: [272131 475654 320330 236421 132949]\n",
      "Additional words from top 5 documents: dragons hibernate men eat\n",
      "🔍 Enhanced Query: How can you tell the gender of A bearded dragon? dragons hibernate men eat\n"
     ]
    },
    {
     "name": "stderr",
     "output_type": "stream",
     "text": [
      "معالجة الاستعلامات:  90%|████████▉ | 897/1000 [55:05<06:18,  3.68s/استعلام]"
     ]
    },
    {
     "name": "stdout",
     "output_type": "stream",
     "text": [
      "Total documents in doc_data: 522931\n",
      "Sample doc_ids: ['1', '2', '3', '4', '5']\n",
      "Top indices: [517587 481263  41853 484251 484252]\n",
      "Additional words from top 5 documents: hire learn copywriting\n",
      "🔍 Enhanced Query: How do I become a copywriter? hire learn copywriting\n"
     ]
    },
    {
     "name": "stderr",
     "output_type": "stream",
     "text": [
      "معالجة الاستعلامات:  90%|████████▉ | 898/1000 [55:08<06:16,  3.69s/استعلام]"
     ]
    },
    {
     "name": "stdout",
     "output_type": "stream",
     "text": [
      "Total documents in doc_data: 522931\n",
      "Sample doc_ids: ['1', '2', '3', '4', '5']\n",
      "Top indices: [148786 331752 139353 148785 331751]\n",
      "Additional words from top 5 documents: start laymans explanation exactly\n",
      "🔍 Enhanced Query: What does String Theory say in laymen terms? start laymans explanation exactly\n"
     ]
    },
    {
     "name": "stderr",
     "output_type": "stream",
     "text": [
      "معالجة الاستعلامات:  90%|████████▉ | 899/1000 [55:12<06:03,  3.60s/استعلام]"
     ]
    },
    {
     "name": "stdout",
     "output_type": "stream",
     "text": [
      "Total documents in doc_data: 522931\n",
      "Sample doc_ids: ['1', '2', '3', '4', '5']\n",
      "Top indices: [411966  39408 124330  39407 110494]\n",
      "Additional words from top 5 documents: prerequisites india mbbs airline\n",
      "🔍 Enhanced Query: What do I need to do to become a commercial pilot? prerequisites india mbbs airline\n"
     ]
    },
    {
     "name": "stderr",
     "output_type": "stream",
     "text": [
      "معالجة الاستعلامات:  90%|█████████ | 900/1000 [55:15<05:51,  3.51s/استعلام]"
     ]
    },
    {
     "name": "stdout",
     "output_type": "stream",
     "text": [
      "Total documents in doc_data: 522931\n",
      "Sample doc_ids: ['1', '2', '3', '4', '5']\n",
      "Top indices: [163752  93345  12617  93344 268402]\n",
      "Additional words from top 5 documents: condoms get\n",
      "🔍 Enhanced Query: How does one use a condom? condoms get\n"
     ]
    },
    {
     "name": "stderr",
     "output_type": "stream",
     "text": [
      "معالجة الاستعلامات:  90%|█████████ | 901/1000 [55:18<05:42,  3.46s/استعلام]"
     ]
    },
    {
     "name": "stdout",
     "output_type": "stream",
     "text": [
      "Total documents in doc_data: 522931\n",
      "Sample doc_ids: ['1', '2', '3', '4', '5']\n",
      "Top indices: [ 41977 295881 207061 385701 371415]\n",
      "Additional words from top 5 documents: examples charter price strategy\n",
      "🔍 Enhanced Query: What is a monopoly? examples charter price strategy\n"
     ]
    },
    {
     "name": "stderr",
     "output_type": "stream",
     "text": [
      "معالجة الاستعلامات:  90%|█████████ | 902/1000 [55:22<05:38,  3.45s/استعلام]"
     ]
    },
    {
     "name": "stdout",
     "output_type": "stream",
     "text": [
      "Total documents in doc_data: 522931\n",
      "Sample doc_ids: ['1', '2', '3', '4', '5']\n",
      "Top indices: [219095 239031   1931 244188 408147]\n",
      "Additional words from top 5 documents: career\n",
      "🔍 Enhanced Query: How can one find a Mentor in life? career\n"
     ]
    },
    {
     "name": "stderr",
     "output_type": "stream",
     "text": [
      "معالجة الاستعلامات:  90%|█████████ | 903/1000 [55:25<05:31,  3.42s/استعلام]"
     ]
    },
    {
     "name": "stdout",
     "output_type": "stream",
     "text": [
      "Total documents in doc_data: 522931\n",
      "Sample doc_ids: ['1', '2', '3', '4', '5']\n",
      "Top indices: [ 42203 292961 192694 292962  42819]\n",
      "Additional words from top 5 documents: good alternative aftereffects adobes\n",
      "🔍 Enhanced Query: What are the best free alternatives to Adobe After Effects? good alternative aftereffects adobes\n"
     ]
    },
    {
     "name": "stderr",
     "output_type": "stream",
     "text": [
      "معالجة الاستعلامات:  90%|█████████ | 904/1000 [55:29<05:32,  3.46s/استعلام]"
     ]
    },
    {
     "name": "stdout",
     "output_type": "stream",
     "text": [
      "Total documents in doc_data: 522931\n",
      "Sample doc_ids: ['1', '2', '3', '4', '5']\n",
      "Top indices: [ 42220 278420 384009   8000 465158]\n",
      "Additional words from top 5 documents: best doctor delhi pcos\n",
      "🔍 Enhanced Query: What are some remedies for pcod? best doctor delhi pcos\n"
     ]
    },
    {
     "name": "stderr",
     "output_type": "stream",
     "text": [
      "معالجة الاستعلامات:  90%|█████████ | 905/1000 [55:32<05:29,  3.46s/استعلام]"
     ]
    },
    {
     "name": "stdout",
     "output_type": "stream",
     "text": [
      "Total documents in doc_data: 522931\n",
      "Sample doc_ids: ['1', '2', '3', '4', '5']\n",
      "Top indices: [131468 158420 294105 158421 479602]\n",
      "Additional words from top 5 documents: improve website endowment rankings\n",
      "🔍 Enhanced Query: Which site is most renounded university rankings? improve website endowment rankings\n"
     ]
    },
    {
     "name": "stderr",
     "output_type": "stream",
     "text": [
      "معالجة الاستعلامات:  91%|█████████ | 906/1000 [55:35<05:21,  3.42s/استعلام]"
     ]
    },
    {
     "name": "stdout",
     "output_type": "stream",
     "text": [
      "Total documents in doc_data: 522931\n",
      "Sample doc_ids: ['1', '2', '3', '4', '5']\n",
      "Top indices: [213852 431369  42283 213851 288469]\n",
      "Additional words from top 5 documents: foods quickly prepare best\n",
      "🔍 Enhanced Query: What would be a healthy Indian breakfast? foods quickly prepare best\n"
     ]
    },
    {
     "name": "stderr",
     "output_type": "stream",
     "text": [
      "معالجة الاستعلامات:  91%|█████████ | 907/1000 [55:39<05:20,  3.44s/استعلام]"
     ]
    },
    {
     "name": "stdout",
     "output_type": "stream",
     "text": [
      "Total documents in doc_data: 522931\n",
      "Sample doc_ids: ['1', '2', '3', '4', '5']\n",
      "Top indices: [ 42384  32092 507604 191369 453484]\n",
      "Additional words from top 5 documents: germans stereotype lack humor\n",
      "🔍 Enhanced Query: How do Americans view German people? germans stereotype lack humor\n"
     ]
    },
    {
     "name": "stderr",
     "output_type": "stream",
     "text": [
      "معالجة الاستعلامات:  91%|█████████ | 908/1000 [55:43<05:21,  3.49s/استعلام]"
     ]
    },
    {
     "name": "stdout",
     "output_type": "stream",
     "text": [
      "Total documents in doc_data: 522931\n",
      "Sample doc_ids: ['1', '2', '3', '4', '5']\n",
      "Top indices: [218095 182267 238274 484164 121828]\n",
      "Additional words from top 5 documents: feedback write rule person\n",
      "🔍 Enhanced Query: What question on Quora has the most answers submitted by users? feedback write rule person\n"
     ]
    },
    {
     "name": "stderr",
     "output_type": "stream",
     "text": [
      "معالجة الاستعلامات:  91%|█████████ | 909/1000 [55:46<05:20,  3.52s/استعلام]"
     ]
    },
    {
     "name": "stdout",
     "output_type": "stream",
     "text": [
      "Total documents in doc_data: 522931\n",
      "Sample doc_ids: ['1', '2', '3', '4', '5']\n",
      "Top indices: [ 70134 113417 136279 516715 466818]\n",
      "Additional words from top 5 documents: usa war annex ww2\n",
      "🔍 Enhanced Query: In 1941 why didn't Japan just coerce or take the oil it wanted from the Dutch East Indies then just dare the US to do something about it? usa war annex ww2\n"
     ]
    },
    {
     "name": "stderr",
     "output_type": "stream",
     "text": [
      "معالجة الاستعلامات:  91%|█████████ | 910/1000 [55:50<05:17,  3.53s/استعلام]"
     ]
    },
    {
     "name": "stdout",
     "output_type": "stream",
     "text": [
      "Total documents in doc_data: 522931\n",
      "Sample doc_ids: ['1', '2', '3', '4', '5']\n",
      "Top indices: [228430 165731  61516 322759 228429]\n",
      "Additional words from top 5 documents: person variations around world\n",
      "🔍 Enhanced Query: What is the name of Santa Claus in other countries? person variations around world\n"
     ]
    },
    {
     "name": "stderr",
     "output_type": "stream",
     "text": [
      "معالجة الاستعلامات:  91%|█████████ | 911/1000 [55:53<05:12,  3.51s/استعلام]"
     ]
    },
    {
     "name": "stdout",
     "output_type": "stream",
     "text": [
      "Total documents in doc_data: 522931\n",
      "Sample doc_ids: ['1', '2', '3', '4', '5']\n",
      "Top indices: [ 42720 226582 245145 130132 503103]\n",
      "Additional words from top 5 documents: \n",
      "No new words to add to query for beir\n"
     ]
    },
    {
     "name": "stderr",
     "output_type": "stream",
     "text": [
      "معالجة الاستعلامات:  91%|█████████ | 912/1000 [55:57<05:10,  3.53s/استعلام]"
     ]
    },
    {
     "name": "stdout",
     "output_type": "stream",
     "text": [
      "Total documents in doc_data: 522931\n",
      "Sample doc_ids: ['1', '2', '3', '4', '5']\n",
      "Top indices: [ 42887  66412 412630 412631  55781]\n",
      "Additional words from top 5 documents: student startupcompany business businesses\n",
      "🔍 Enhanced Query: Can you start an online business/store while on the F-1 visa in the US? student startupcompany business businesses\n"
     ]
    },
    {
     "name": "stderr",
     "output_type": "stream",
     "text": [
      "معالجة الاستعلامات:  91%|█████████▏| 913/1000 [56:00<05:09,  3.55s/استعلام]"
     ]
    },
    {
     "name": "stdout",
     "output_type": "stream",
     "text": [
      "Total documents in doc_data: 522931\n",
      "Sample doc_ids: ['1', '2', '3', '4', '5']\n",
      "Top indices: [229215   6663   3726 135628 486601]\n",
      "Additional words from top 5 documents: enlarge\n",
      "🔍 Enhanced Query: How can I increase my penis? enlarge\n"
     ]
    },
    {
     "name": "stderr",
     "output_type": "stream",
     "text": [
      "معالجة الاستعلامات:  91%|█████████▏| 914/1000 [56:04<05:01,  3.51s/استعلام]"
     ]
    },
    {
     "name": "stdout",
     "output_type": "stream",
     "text": [
      "Total documents in doc_data: 522931\n",
      "Sample doc_ids: ['1', '2', '3', '4', '5']\n",
      "Top indices: [132342 147099 468801  13654  86905]\n",
      "Additional words from top 5 documents: freelance websites best website\n",
      "🔍 Enhanced Query: Can you Suggest me some good work from home jobs - online work ? freelance websites best website\n"
     ]
    },
    {
     "name": "stderr",
     "output_type": "stream",
     "text": [
      "معالجة الاستعلامات:  92%|█████████▏| 915/1000 [56:07<04:58,  3.51s/استعلام]"
     ]
    },
    {
     "name": "stdout",
     "output_type": "stream",
     "text": [
      "Total documents in doc_data: 522931\n",
      "Sample doc_ids: ['1', '2', '3', '4', '5']\n",
      "Top indices: [ 16010 219337  84374  70311 220710]\n",
      "Additional words from top 5 documents: best ever enter movies\n",
      "🔍 Enhanced Query: Which is your most favourite Hollywood movie? best ever enter movies\n"
     ]
    },
    {
     "name": "stderr",
     "output_type": "stream",
     "text": [
      "معالجة الاستعلامات:  92%|█████████▏| 916/1000 [56:11<05:01,  3.59s/استعلام]"
     ]
    },
    {
     "name": "stdout",
     "output_type": "stream",
     "text": [
      "Total documents in doc_data: 522931\n",
      "Sample doc_ids: ['1', '2', '3', '4', '5']\n",
      "Top indices: [104286 106429    170 489820 187784]\n",
      "Additional words from top 5 documents: increase surgeries ashwagandha powder\n",
      "🔍 Enhanced Query: I'm a 13 asian girl and my height is 5'2 ft. I hit my period a year ago. Can I still grow taller? increase surgeries ashwagandha powder\n"
     ]
    },
    {
     "name": "stderr",
     "output_type": "stream",
     "text": [
      "معالجة الاستعلامات:  92%|█████████▏| 917/1000 [56:15<04:56,  3.58s/استعلام]"
     ]
    },
    {
     "name": "stdout",
     "output_type": "stream",
     "text": [
      "Total documents in doc_data: 522931\n",
      "Sample doc_ids: ['1', '2', '3', '4', '5']\n",
      "Top indices: [464669 310441  58888 161743  49733]\n",
      "Additional words from top 5 documents: 30k bengaluru best bicycle\n",
      "🔍 Enhanced Query: Which bike should I buy that is around 1 lakh? 30k bengaluru best bicycle\n"
     ]
    },
    {
     "name": "stderr",
     "output_type": "stream",
     "text": [
      "معالجة الاستعلامات:  92%|█████████▏| 918/1000 [56:18<04:52,  3.57s/استعلام]"
     ]
    },
    {
     "name": "stdout",
     "output_type": "stream",
     "text": [
      "Total documents in doc_data: 522931\n",
      "Sample doc_ids: ['1', '2', '3', '4', '5']\n",
      "Top indices: [  7212 167473  46627 138673  46779]\n",
      "Additional words from top 5 documents: smartphone rs4000 range 50006000\n",
      "🔍 Enhanced Query: Which is the best phone within 35000 presently? smartphone rs4000 range 50006000\n"
     ]
    },
    {
     "name": "stderr",
     "output_type": "stream",
     "text": [
      "معالجة الاستعلامات:  92%|█████████▏| 919/1000 [56:22<04:51,  3.60s/استعلام]"
     ]
    },
    {
     "name": "stdout",
     "output_type": "stream",
     "text": [
      "Total documents in doc_data: 522931\n",
      "Sample doc_ids: ['1', '2', '3', '4', '5']\n",
      "Top indices: [200566 483215 208337 108022 438251]\n",
      "No similar documents found for beir with sufficient similarity\n"
     ]
    },
    {
     "name": "stderr",
     "output_type": "stream",
     "text": [
      "معالجة الاستعلامات:  92%|█████████▏| 920/1000 [56:25<04:49,  3.62s/استعلام]"
     ]
    },
    {
     "name": "stdout",
     "output_type": "stream",
     "text": [
      "Total documents in doc_data: 522931\n",
      "Sample doc_ids: ['1', '2', '3', '4', '5']\n",
      "Top indices: [255064 469300 469299 306945 448603]\n",
      "Additional words from top 5 documents: online friends talk strangers\n",
      "🔍 Enhanced Query: What are the best places to meet new people? online friends talk strangers\n"
     ]
    },
    {
     "name": "stderr",
     "output_type": "stream",
     "text": [
      "معالجة الاستعلامات:  92%|█████████▏| 921/1000 [56:29<04:47,  3.64s/استعلام]"
     ]
    },
    {
     "name": "stdout",
     "output_type": "stream",
     "text": [
      "Total documents in doc_data: 522931\n",
      "Sample doc_ids: ['1', '2', '3', '4', '5']\n",
      "Top indices: [ 43475 303930 189944 209229 121857]\n",
      "Additional words from top 5 documents: personal diaryjournal format entry\n",
      "🔍 Enhanced Query: What is the best website for online diary writing? personal diaryjournal format entry\n"
     ]
    },
    {
     "name": "stderr",
     "output_type": "stream",
     "text": [
      "معالجة الاستعلامات:  92%|█████████▏| 922/1000 [56:33<04:42,  3.63s/استعلام]"
     ]
    },
    {
     "name": "stdout",
     "output_type": "stream",
     "text": [
      "Total documents in doc_data: 522931\n",
      "Sample doc_ids: ['1', '2', '3', '4', '5']\n",
      "Top indices: [188931 287583 410928 160559 400460]\n",
      "Additional words from top 5 documents: main performance requirements software\n",
      "🔍 Enhanced Query: What is the concepts of manual testing? main performance requirements software\n"
     ]
    },
    {
     "name": "stderr",
     "output_type": "stream",
     "text": [
      "معالجة الاستعلامات:  92%|█████████▏| 923/1000 [56:37<04:43,  3.68s/استعلام]"
     ]
    },
    {
     "name": "stdout",
     "output_type": "stream",
     "text": [
      "Total documents in doc_data: 522931\n",
      "Sample doc_ids: ['1', '2', '3', '4', '5']\n",
      "Top indices: [260138 391366 171923 167591 167590]\n",
      "Additional words from top 5 documents: create business website\n",
      "🔍 Enhanced Query: How do I build an online directory? create business website\n"
     ]
    },
    {
     "name": "stderr",
     "output_type": "stream",
     "text": [
      "معالجة الاستعلامات:  92%|█████████▏| 924/1000 [56:40<04:37,  3.66s/استعلام]"
     ]
    },
    {
     "name": "stdout",
     "output_type": "stream",
     "text": [
      "Total documents in doc_data: 522931\n",
      "Sample doc_ids: ['1', '2', '3', '4', '5']\n",
      "Top indices: [268291 471903     75   7043 306633]\n",
      "Additional words from top 5 documents: 2018\n",
      "🔍 Enhanced Query: How do I prepare for UPSC 2017? 2018\n"
     ]
    },
    {
     "name": "stderr",
     "output_type": "stream",
     "text": [
      "معالجة الاستعلامات:  92%|█████████▎| 925/1000 [56:44<04:33,  3.64s/استعلام]"
     ]
    },
    {
     "name": "stdout",
     "output_type": "stream",
     "text": [
      "Total documents in doc_data: 522931\n",
      "Sample doc_ids: ['1', '2', '3', '4', '5']\n",
      "Top indices: [ 43558 313026 461185 313027   2925]\n",
      "Additional words from top 5 documents: use linkedin point want\n",
      "🔍 Enhanced Query: How do I get connected to people? use linkedin point want\n"
     ]
    },
    {
     "name": "stderr",
     "output_type": "stream",
     "text": [
      "معالجة الاستعلامات:  93%|█████████▎| 926/1000 [56:48<04:34,  3.71s/استعلام]"
     ]
    },
    {
     "name": "stdout",
     "output_type": "stream",
     "text": [
      "Total documents in doc_data: 522931\n",
      "Sample doc_ids: ['1', '2', '3', '4', '5']\n",
      "Top indices: [258788  43599 430696 503844 453503]\n",
      "Additional words from top 5 documents: good nvidea 940mx graphic\n",
      "🔍 Enhanced Query: Which is the best gaming graphics card under 10K? good nvidea 940mx graphic\n"
     ]
    },
    {
     "name": "stderr",
     "output_type": "stream",
     "text": [
      "معالجة الاستعلامات:  93%|█████████▎| 927/1000 [56:51<04:29,  3.70s/استعلام]"
     ]
    },
    {
     "name": "stdout",
     "output_type": "stream",
     "text": [
      "Total documents in doc_data: 522931\n",
      "Sample doc_ids: ['1', '2', '3', '4', '5']\n",
      "Top indices: [ 43652 293668  70283  86787 188542]\n",
      "Additional words from top 5 documents: usa\n",
      "🔍 Enhanced Query: Who is the President of America now? usa\n"
     ]
    },
    {
     "name": "stderr",
     "output_type": "stream",
     "text": [
      "معالجة الاستعلامات:  93%|█████████▎| 928/1000 [56:55<04:26,  3.71s/استعلام]"
     ]
    },
    {
     "name": "stdout",
     "output_type": "stream",
     "text": [
      "Total documents in doc_data: 522931\n",
      "Sample doc_ids: ['1', '2', '3', '4', '5']\n",
      "Top indices: [43657 62048 87613 70183  3290]\n",
      "Additional words from top 5 documents: restore retrieve reset icloud\n",
      "🔍 Enhanced Query: How do I recover my Apple password? restore retrieve reset icloud\n"
     ]
    },
    {
     "name": "stderr",
     "output_type": "stream",
     "text": [
      "معالجة الاستعلامات:  93%|█████████▎| 929/1000 [56:58<04:18,  3.64s/استعلام]"
     ]
    },
    {
     "name": "stdout",
     "output_type": "stream",
     "text": [
      "Total documents in doc_data: 522931\n",
      "Sample doc_ids: ['1', '2', '3', '4', '5']\n",
      "Top indices: [ 93163  93164 322767 204801  39969]\n",
      "Additional words from top 5 documents: humans religion people hate\n",
      "🔍 Enhanced Query: What is humanity? humans religion people hate\n"
     ]
    },
    {
     "name": "stderr",
     "output_type": "stream",
     "text": [
      "معالجة الاستعلامات:  93%|█████████▎| 930/1000 [57:02<04:19,  3.70s/استعلام]"
     ]
    },
    {
     "name": "stdout",
     "output_type": "stream",
     "text": [
      "Total documents in doc_data: 522931\n",
      "Sample doc_ids: ['1', '2', '3', '4', '5']\n",
      "Top indices: [126212  92501  68550  63034 342954]\n",
      "Additional words from top 5 documents: remove uninstall save message\n",
      "🔍 Enhanced Query: If I delete my snapchat app will it erase my streaks? remove uninstall save message\n"
     ]
    },
    {
     "name": "stderr",
     "output_type": "stream",
     "text": [
      "معالجة الاستعلامات:  93%|█████████▎| 931/1000 [57:06<04:17,  3.73s/استعلام]"
     ]
    },
    {
     "name": "stdout",
     "output_type": "stream",
     "text": [
      "Total documents in doc_data: 522931\n",
      "Sample doc_ids: ['1', '2', '3', '4', '5']\n",
      "Top indices: [ 30075 320150 294624 412155 422962]\n",
      "Additional words from top 5 documents: must graphic design engineer\n",
      "🔍 Enhanced Query: What skills do you need to become a UI designer? must graphic design engineer\n"
     ]
    },
    {
     "name": "stderr",
     "output_type": "stream",
     "text": [
      "معالجة الاستعلامات:  93%|█████████▎| 932/1000 [57:10<04:08,  3.66s/استعلام]"
     ]
    },
    {
     "name": "stdout",
     "output_type": "stream",
     "text": [
      "Total documents in doc_data: 522931\n",
      "Sample doc_ids: ['1', '2', '3', '4', '5']\n",
      "Top indices: [112407 112406 316537  43955 292885]\n",
      "Additional words from top 5 documents: difference opinionview opinions distinguish\n",
      "🔍 Enhanced Query: How do we differentiate fact from opinion on Quora? difference opinionview opinions distinguish\n"
     ]
    },
    {
     "name": "stderr",
     "output_type": "stream",
     "text": [
      "معالجة الاستعلامات:  93%|█████████▎| 933/1000 [57:13<04:05,  3.66s/استعلام]"
     ]
    },
    {
     "name": "stdout",
     "output_type": "stream",
     "text": [
      "Total documents in doc_data: 522931\n",
      "Sample doc_ids: ['1', '2', '3', '4', '5']\n",
      "Top indices: [ 75623 298984 123026 168382 223281]\n",
      "Additional words from top 5 documents: indias response retaliate not\n",
      "🔍 Enhanced Query: Why doesn't India backfire Pakistan after Uri attack? indias response retaliate not\n"
     ]
    },
    {
     "name": "stderr",
     "output_type": "stream",
     "text": [
      "معالجة الاستعلامات:  93%|█████████▎| 934/1000 [57:17<04:01,  3.66s/استعلام]"
     ]
    },
    {
     "name": "stdout",
     "output_type": "stream",
     "text": [
      "Total documents in doc_data: 522931\n",
      "Sample doc_ids: ['1', '2', '3', '4', '5']\n",
      "Top indices: [ 71749 161830 126427 516946 414454]\n",
      "Additional words from top 5 documents: best online cod bootcamp\n",
      "🔍 Enhanced Query: How accurate are War games like Call of Dutycompared to actual warfare? best online cod bootcamp\n"
     ]
    },
    {
     "name": "stderr",
     "output_type": "stream",
     "text": [
      "معالجة الاستعلامات:  94%|█████████▎| 935/1000 [57:20<03:53,  3.59s/استعلام]"
     ]
    },
    {
     "name": "stdout",
     "output_type": "stream",
     "text": [
      "Total documents in doc_data: 522931\n",
      "Sample doc_ids: ['1', '2', '3', '4', '5']\n",
      "Top indices: [ 44210  66180 515496 515495 300815]\n",
      "Additional words from top 5 documents: top universities good technology\n",
      "🔍 Enhanced Query: What is the best university in France? top universities good technology\n"
     ]
    },
    {
     "name": "stderr",
     "output_type": "stream",
     "text": [
      "معالجة الاستعلامات:  94%|█████████▎| 936/1000 [57:24<03:46,  3.54s/استعلام]"
     ]
    },
    {
     "name": "stdout",
     "output_type": "stream",
     "text": [
      "Total documents in doc_data: 522931\n",
      "Sample doc_ids: ['1', '2', '3', '4', '5']\n",
      "Top indices: [473981 473980  71183 483862  37043]\n",
      "Additional words from top 5 documents: deodorants shirt work bleach\n",
      "🔍 Enhanced Query: What is the best way to remove deodorant stains? deodorants shirt work bleach\n"
     ]
    },
    {
     "name": "stderr",
     "output_type": "stream",
     "text": [
      "معالجة الاستعلامات:  94%|█████████▎| 937/1000 [57:27<03:42,  3.52s/استعلام]"
     ]
    },
    {
     "name": "stdout",
     "output_type": "stream",
     "text": [
      "Total documents in doc_data: 522931\n",
      "Sample doc_ids: ['1', '2', '3', '4', '5']\n",
      "Top indices: [ 99916    858 296219 147831 212424]\n",
      "Additional words from top 5 documents: russian israel iran powerful\n",
      "🔍 Enhanced Query: Who would win in a war between China and Russia? russian israel iran powerful\n"
     ]
    },
    {
     "name": "stderr",
     "output_type": "stream",
     "text": [
      "معالجة الاستعلامات:  94%|█████████▍| 938/1000 [57:31<03:46,  3.66s/استعلام]"
     ]
    },
    {
     "name": "stdout",
     "output_type": "stream",
     "text": [
      "Total documents in doc_data: 522931\n",
      "Sample doc_ids: ['1', '2', '3', '4', '5']\n",
      "Top indices: [173933 360519  11153  32981 173934]\n",
      "Additional words from top 5 documents: hide\n",
      "🔍 Enhanced Query: Why does Quora have an option of answering one's own question? hide\n"
     ]
    },
    {
     "name": "stderr",
     "output_type": "stream",
     "text": [
      "معالجة الاستعلامات:  94%|█████████▍| 939/1000 [57:35<03:43,  3.66s/استعلام]"
     ]
    },
    {
     "name": "stdout",
     "output_type": "stream",
     "text": [
      "Total documents in doc_data: 522931\n",
      "Sample doc_ids: ['1', '2', '3', '4', '5']\n",
      "Top indices: [ 44347 512651 189368  62708  62707]\n",
      "Additional words from top 5 documents: topic research book\n",
      "🔍 Enhanced Query: What are the best topics for project in physics? topic research book\n"
     ]
    },
    {
     "name": "stderr",
     "output_type": "stream",
     "text": [
      "معالجة الاستعلامات:  94%|█████████▍| 940/1000 [57:39<03:40,  3.68s/استعلام]"
     ]
    },
    {
     "name": "stdout",
     "output_type": "stream",
     "text": [
      "Total documents in doc_data: 522931\n",
      "Sample doc_ids: ['1', '2', '3', '4', '5']\n",
      "Top indices: [ 44374 449400 449401 449084 500626]\n",
      "Additional words from top 5 documents: jayalalithaamma jayalalithaa famous leadership\n",
      "🔍 Enhanced Query: What are the unknown facts or lesser known things about selvi Jayalalitha? jayalalithaamma jayalalithaa famous leadership\n"
     ]
    },
    {
     "name": "stderr",
     "output_type": "stream",
     "text": [
      "معالجة الاستعلامات:  94%|█████████▍| 941/1000 [57:43<03:41,  3.76s/استعلام]"
     ]
    },
    {
     "name": "stdout",
     "output_type": "stream",
     "text": [
      "Total documents in doc_data: 522931\n",
      "Sample doc_ids: ['1', '2', '3', '4', '5']\n",
      "Top indices: [ 44419 368531 410568  32025  63771]\n",
      "Additional words from top 5 documents: decline disable view notifications\n",
      "🔍 Enhanced Query: Why does Quora block Google Now on Tap? decline disable view notifications\n"
     ]
    },
    {
     "name": "stderr",
     "output_type": "stream",
     "text": [
      "معالجة الاستعلامات:  94%|█████████▍| 942/1000 [57:47<03:40,  3.80s/استعلام]"
     ]
    },
    {
     "name": "stdout",
     "output_type": "stream",
     "text": [
      "Total documents in doc_data: 522931\n",
      "Sample doc_ids: ['1', '2', '3', '4', '5']\n",
      "Top indices: [ 17860  77162 353716 353717 452668]\n",
      "Additional words from top 5 documents: find\n",
      "🔍 Enhanced Query: How did you get into accounting? What interested you about the field? find\n"
     ]
    },
    {
     "name": "stderr",
     "output_type": "stream",
     "text": [
      "معالجة الاستعلامات:  94%|█████████▍| 943/1000 [57:50<03:37,  3.82s/استعلام]"
     ]
    },
    {
     "name": "stdout",
     "output_type": "stream",
     "text": [
      "Total documents in doc_data: 522931\n",
      "Sample doc_ids: ['1', '2', '3', '4', '5']\n",
      "Top indices: [103415 313624 313625 185871 320519]\n",
      "Additional words from top 5 documents: inevitable world countries\n",
      "🔍 Enhanced Query: If a global war, or WW3 broke out, which country would be the safest to live in? inevitable world countries\n"
     ]
    },
    {
     "name": "stderr",
     "output_type": "stream",
     "text": [
      "معالجة الاستعلامات:  94%|█████████▍| 944/1000 [57:54<03:30,  3.76s/استعلام]"
     ]
    },
    {
     "name": "stdout",
     "output_type": "stream",
     "text": [
      "Total documents in doc_data: 522931\n",
      "Sample doc_ids: ['1', '2', '3', '4', '5']\n",
      "Top indices: [ 44737 276742 408860 228030 201601]\n",
      "Additional words from top 5 documents: languages come true finland\n",
      "🔍 Enhanced Query: How different is the Estonian language from the Finnish language? languages come true finland\n"
     ]
    },
    {
     "name": "stderr",
     "output_type": "stream",
     "text": [
      "معالجة الاستعلامات:  94%|█████████▍| 945/1000 [57:58<03:30,  3.83s/استعلام]"
     ]
    },
    {
     "name": "stdout",
     "output_type": "stream",
     "text": [
      "Total documents in doc_data: 522931\n",
      "Sample doc_ids: ['1', '2', '3', '4', '5']\n",
      "Top indices: [ 51429 234120 311917 183860 131562]\n",
      "Additional words from top 5 documents: watts rms force equal\n",
      "🔍 Enhanced Query: What is the difference between AC power and the other one (forgot name)? Is one better than the other? watts rms force equal\n"
     ]
    },
    {
     "name": "stderr",
     "output_type": "stream",
     "text": [
      "معالجة الاستعلامات:  95%|█████████▍| 946/1000 [58:02<03:22,  3.75s/استعلام]"
     ]
    },
    {
     "name": "stdout",
     "output_type": "stream",
     "text": [
      "Total documents in doc_data: 522931\n",
      "Sample doc_ids: ['1', '2', '3', '4', '5']\n",
      "Top indices: [177026  92592 442607  92591 416390]\n",
      "Additional words from top 5 documents: girl\n",
      "🔍 Enhanced Query: Why I am not able to talk to girls? girl\n"
     ]
    },
    {
     "name": "stderr",
     "output_type": "stream",
     "text": [
      "معالجة الاستعلامات:  95%|█████████▍| 947/1000 [58:05<03:18,  3.75s/استعلام]"
     ]
    },
    {
     "name": "stdout",
     "output_type": "stream",
     "text": [
      "Total documents in doc_data: 522931\n",
      "Sample doc_ids: ['1', '2', '3', '4', '5']\n",
      "Top indices: [516989 516990  93394 217686  98636]\n",
      "Additional words from top 5 documents: expectations things choose belong\n",
      "🔍 Enhanced Query: What does a wife expects from his husband? expectations things choose belong\n"
     ]
    },
    {
     "name": "stderr",
     "output_type": "stream",
     "text": [
      "معالجة الاستعلامات:  95%|█████████▍| 948/1000 [58:09<03:20,  3.86s/استعلام]"
     ]
    },
    {
     "name": "stdout",
     "output_type": "stream",
     "text": [
      "Total documents in doc_data: 522931\n",
      "Sample doc_ids: ['1', '2', '3', '4', '5']\n",
      "Top indices: [ 45080 255313  20450  61506 255314]\n",
      "Additional words from top 5 documents: paste\n",
      "🔍 Enhanced Query: What's the difference between tomato sauce, ketchup and tomato puree? paste\n"
     ]
    },
    {
     "name": "stderr",
     "output_type": "stream",
     "text": [
      "معالجة الاستعلامات:  95%|█████████▍| 949/1000 [58:13<03:14,  3.80s/استعلام]"
     ]
    },
    {
     "name": "stdout",
     "output_type": "stream",
     "text": [
      "Total documents in doc_data: 522931\n",
      "Sample doc_ids: ['1', '2', '3', '4', '5']\n",
      "Top indices: [ 45091 256490 478933 124575 397979]\n",
      "Additional words from top 5 documents: attire join country people\n",
      "🔍 Enhanced Query: What do you wear to the club? attire join country people\n"
     ]
    },
    {
     "name": "stderr",
     "output_type": "stream",
     "text": [
      "معالجة الاستعلامات:  95%|█████████▌| 950/1000 [58:17<03:05,  3.71s/استعلام]"
     ]
    },
    {
     "name": "stdout",
     "output_type": "stream",
     "text": [
      "Total documents in doc_data: 522931\n",
      "Sample doc_ids: ['1', '2', '3', '4', '5']\n",
      "Top indices: [ 45096  13298  12801  54846 519727]\n",
      "Additional words from top 5 documents: increase iphone check faster\n",
      "🔍 Enhanced Query: How do you boost your mobile signal strength? increase iphone check faster\n"
     ]
    },
    {
     "name": "stderr",
     "output_type": "stream",
     "text": [
      "معالجة الاستعلامات:  95%|█████████▌| 951/1000 [58:20<02:59,  3.67s/استعلام]"
     ]
    },
    {
     "name": "stdout",
     "output_type": "stream",
     "text": [
      "Total documents in doc_data: 522931\n",
      "Sample doc_ids: ['1', '2', '3', '4', '5']\n",
      "Top indices: [ 45101 102607 110740 217997 237391]\n",
      "Additional words from top 5 documents: best headphone earphone 2000rs\n",
      "🔍 Enhanced Query: Which earphones are better under 2000? best headphone earphone 2000rs\n"
     ]
    },
    {
     "name": "stderr",
     "output_type": "stream",
     "text": [
      "معالجة الاستعلامات:  95%|█████████▌| 952/1000 [58:24<02:57,  3.70s/استعلام]"
     ]
    },
    {
     "name": "stdout",
     "output_type": "stream",
     "text": [
      "Total documents in doc_data: 522931\n",
      "Sample doc_ids: ['1', '2', '3', '4', '5']\n",
      "Top indices: [ 45238 119264 119265 137105 167003]\n",
      "Additional words from top 5 documents: geographic fbi geography police\n",
      "🔍 Enhanced Query: What are the boundaries of the FBI's geographical jurisdiction? geographic fbi geography police\n"
     ]
    },
    {
     "name": "stderr",
     "output_type": "stream",
     "text": [
      "معالجة الاستعلامات:  95%|█████████▌| 953/1000 [58:28<02:52,  3.68s/استعلام]"
     ]
    },
    {
     "name": "stdout",
     "output_type": "stream",
     "text": [
      "Total documents in doc_data: 522931\n",
      "Sample doc_ids: ['1', '2', '3', '4', '5']\n",
      "Top indices: [ 76269  21705 411831 213662 180958]\n",
      "Additional words from top 5 documents: consequences rupee note rupees\n",
      "🔍 Enhanced Query: How will Modi's ban of Rs 500 and Rs 1000 affect those who are having black money? consequences rupee note rupees\n"
     ]
    },
    {
     "name": "stderr",
     "output_type": "stream",
     "text": [
      "معالجة الاستعلامات:  95%|█████████▌| 954/1000 [58:31<02:48,  3.66s/استعلام]"
     ]
    },
    {
     "name": "stdout",
     "output_type": "stream",
     "text": [
      "Total documents in doc_data: 522931\n",
      "Sample doc_ids: ['1', '2', '3', '4', '5']\n",
      "Top indices: [227051 180944 125307 334387 334386]\n",
      "Additional words from top 5 documents: cant data properly hard\n",
      "🔍 Enhanced Query: How can I express myself? cant data properly hard\n"
     ]
    },
    {
     "name": "stderr",
     "output_type": "stream",
     "text": [
      "معالجة الاستعلامات:  96%|█████████▌| 955/1000 [58:35<02:43,  3.64s/استعلام]"
     ]
    },
    {
     "name": "stdout",
     "output_type": "stream",
     "text": [
      "Total documents in doc_data: 522931\n",
      "Sample doc_ids: ['1', '2', '3', '4', '5']\n",
      "Top indices: [430255  66082  66081 239309 122527]\n",
      "Additional words from top 5 documents: \n",
      "No new words to add to query for beir\n"
     ]
    },
    {
     "name": "stderr",
     "output_type": "stream",
     "text": [
      "معالجة الاستعلامات:  96%|█████████▌| 956/1000 [58:38<02:39,  3.63s/استعلام]"
     ]
    },
    {
     "name": "stdout",
     "output_type": "stream",
     "text": [
      "Total documents in doc_data: 522931\n",
      "Sample doc_ids: ['1', '2', '3', '4', '5']\n",
      "Top indices: [390879 390880 110546 392206 118748]\n",
      "Additional words from top 5 documents: wait apply internship google\n",
      "🔍 Enhanced Query: How long did it take you to get a job after graduating? wait apply internship google\n"
     ]
    },
    {
     "name": "stderr",
     "output_type": "stream",
     "text": [
      "معالجة الاستعلامات:  96%|█████████▌| 957/1000 [58:42<02:36,  3.63s/استعلام]"
     ]
    },
    {
     "name": "stdout",
     "output_type": "stream",
     "text": [
      "Total documents in doc_data: 522931\n",
      "Sample doc_ids: ['1', '2', '3', '4', '5']\n",
      "Top indices: [ 73368 148186 456568 373003 192354]\n",
      "Additional words from top 5 documents: best gpu 1920x1080p 6402p\n",
      "🔍 Enhanced Query: Will the GTX 1060 be able to play any game on 1080p at 60fps? best gpu 1920x1080p 6402p\n"
     ]
    },
    {
     "name": "stderr",
     "output_type": "stream",
     "text": [
      "معالجة الاستعلامات:  96%|█████████▌| 958/1000 [58:46<02:36,  3.72s/استعلام]"
     ]
    },
    {
     "name": "stdout",
     "output_type": "stream",
     "text": [
      "Total documents in doc_data: 522931\n",
      "Sample doc_ids: ['1', '2', '3', '4', '5']\n",
      "Top indices: [394886 394885  85217  92766  19710]\n",
      "Additional words from top 5 documents: message one topic email\n",
      "🔍 Enhanced Query: How do I send messeges on Quora? message one topic email\n"
     ]
    },
    {
     "name": "stderr",
     "output_type": "stream",
     "text": [
      "معالجة الاستعلامات:  96%|█████████▌| 959/1000 [58:50<02:32,  3.72s/استعلام]"
     ]
    },
    {
     "name": "stdout",
     "output_type": "stream",
     "text": [
      "Total documents in doc_data: 522931\n",
      "Sample doc_ids: ['1', '2', '3', '4', '5']\n",
      "Top indices: [150767 277533 367548  45464 500128]\n",
      "Additional words from top 5 documents: mormons practice polygamy dont\n",
      "🔍 Enhanced Query: What are some examples of things a Mormon can't do? mormons practice polygamy dont\n"
     ]
    },
    {
     "name": "stderr",
     "output_type": "stream",
     "text": [
      "معالجة الاستعلامات:  96%|█████████▌| 960/1000 [58:53<02:27,  3.68s/استعلام]"
     ]
    },
    {
     "name": "stdout",
     "output_type": "stream",
     "text": [
      "Total documents in doc_data: 522931\n",
      "Sample doc_ids: ['1', '2', '3', '4', '5']\n",
      "Top indices: [448668 429597 127761 258012  45519]\n",
      "Additional words from top 5 documents: grammer nominalization quantifiers\n",
      "🔍 Enhanced Query: What are some of the best (modern*) books on English grammar? grammer nominalization quantifiers\n"
     ]
    },
    {
     "name": "stderr",
     "output_type": "stream",
     "text": [
      "معالجة الاستعلامات:  96%|█████████▌| 961/1000 [58:57<02:24,  3.70s/استعلام]"
     ]
    },
    {
     "name": "stdout",
     "output_type": "stream",
     "text": [
      "Total documents in doc_data: 522931\n",
      "Sample doc_ids: ['1', '2', '3', '4', '5']\n",
      "Top indices: [ 45727 449466 428157 426009 199100]\n",
      "Additional words from top 5 documents: not wife\n",
      "🔍 Enhanced Query: What do I miss out on if I don't get married? not wife\n"
     ]
    },
    {
     "name": "stderr",
     "output_type": "stream",
     "text": [
      "معالجة الاستعلامات:  96%|█████████▌| 962/1000 [59:01<02:19,  3.68s/استعلام]"
     ]
    },
    {
     "name": "stdout",
     "output_type": "stream",
     "text": [
      "Total documents in doc_data: 522931\n",
      "Sample doc_ids: ['1', '2', '3', '4', '5']\n",
      "Top indices: [  8420  74263 143723   8419 143724]\n",
      "Additional words from top 5 documents: solve ever eliminate globally\n",
      "🔍 Enhanced Query: How do we cure racism? solve ever eliminate globally\n"
     ]
    },
    {
     "name": "stderr",
     "output_type": "stream",
     "text": [
      "معالجة الاستعلامات:  96%|█████████▋| 963/1000 [59:04<02:16,  3.69s/استعلام]"
     ]
    },
    {
     "name": "stdout",
     "output_type": "stream",
     "text": [
      "Total documents in doc_data: 522931\n",
      "Sample doc_ids: ['1', '2', '3', '4', '5']\n",
      "Top indices: [ 69836  69835 209554 212935 130623]\n",
      "Additional words from top 5 documents: masturbations masturbate often masturbation\n",
      "🔍 Enhanced Query: Is watching too much porn bad for my health? masturbations masturbate often masturbation\n"
     ]
    },
    {
     "name": "stderr",
     "output_type": "stream",
     "text": [
      "معالجة الاستعلامات:  96%|█████████▋| 964/1000 [59:08<02:12,  3.69s/استعلام]"
     ]
    },
    {
     "name": "stdout",
     "output_type": "stream",
     "text": [
      "Total documents in doc_data: 522931\n",
      "Sample doc_ids: ['1', '2', '3', '4', '5']\n",
      "Top indices: [304082  39099 431601 455749 320314]\n",
      "Additional words from top 5 documents: search girlfriend find online\n",
      "🔍 Enhanced Query: Is it really hard for an average guy to get a gorgeous girl? search girlfriend find online\n"
     ]
    },
    {
     "name": "stderr",
     "output_type": "stream",
     "text": [
      "معالجة الاستعلامات:  96%|█████████▋| 965/1000 [59:12<02:08,  3.67s/استعلام]"
     ]
    },
    {
     "name": "stdout",
     "output_type": "stream",
     "text": [
      "Total documents in doc_data: 522931\n",
      "Sample doc_ids: ['1', '2', '3', '4', '5']\n",
      "Top indices: [404086 386865 194021  94265  17016]\n",
      "Additional words from top 5 documents: impact presidency win victory\n",
      "🔍 Enhanced Query: If Trump becomes president, how will it affect India? impact presidency win victory\n"
     ]
    },
    {
     "name": "stderr",
     "output_type": "stream",
     "text": [
      "معالجة الاستعلامات:  97%|█████████▋| 966/1000 [59:15<02:05,  3.68s/استعلام]"
     ]
    },
    {
     "name": "stdout",
     "output_type": "stream",
     "text": [
      "Total documents in doc_data: 522931\n",
      "Sample doc_ids: ['1', '2', '3', '4', '5']\n",
      "Top indices: [402874  44721 182789 483693 356066]\n",
      "Additional words from top 5 documents: goals achieve\n",
      "🔍 Enhanced Query: How do I set a personal goal in life? goals achieve\n"
     ]
    },
    {
     "name": "stderr",
     "output_type": "stream",
     "text": [
      "معالجة الاستعلامات:  97%|█████████▋| 967/1000 [59:19<02:02,  3.73s/استعلام]"
     ]
    },
    {
     "name": "stdout",
     "output_type": "stream",
     "text": [
      "Total documents in doc_data: 522931\n",
      "Sample doc_ids: ['1', '2', '3', '4', '5']\n",
      "Top indices: [142927 142928 507966 472219 441212]\n",
      "Additional words from top 5 documents: stop relationship\n",
      "🔍 Enhanced Query: How can I become less jealous? stop relationship\n"
     ]
    },
    {
     "name": "stderr",
     "output_type": "stream",
     "text": [
      "معالجة الاستعلامات:  97%|█████████▋| 968/1000 [59:23<01:58,  3.70s/استعلام]"
     ]
    },
    {
     "name": "stdout",
     "output_type": "stream",
     "text": [
      "Total documents in doc_data: 522931\n",
      "Sample doc_ids: ['1', '2', '3', '4', '5']\n",
      "Top indices: [ 46156 249528  95392 104545  22652]\n",
      "Additional words from top 5 documents: humans two skull giraffes\n",
      "🔍 Enhanced Query: How many bones are in a human hand? humans two skull giraffes\n"
     ]
    },
    {
     "name": "stderr",
     "output_type": "stream",
     "text": [
      "معالجة الاستعلامات:  97%|█████████▋| 969/1000 [59:26<01:53,  3.65s/استعلام]"
     ]
    },
    {
     "name": "stdout",
     "output_type": "stream",
     "text": [
      "Total documents in doc_data: 522931\n",
      "Sample doc_ids: ['1', '2', '3', '4', '5']\n",
      "Top indices: [318012 377233 198921 332915  16411]\n",
      "Additional words from top 5 documents: adderall meth detox quickly\n",
      "🔍 Enhanced Query: How long does it take to methamphetamine out of your blood? adderall meth detox quickly\n"
     ]
    },
    {
     "name": "stderr",
     "output_type": "stream",
     "text": [
      "معالجة الاستعلامات:  97%|█████████▋| 970/1000 [59:30<01:48,  3.62s/استعلام]"
     ]
    },
    {
     "name": "stdout",
     "output_type": "stream",
     "text": [
      "Total documents in doc_data: 522931\n",
      "Sample doc_ids: ['1', '2', '3', '4', '5']\n",
      "Top indices: [ 46162 173493 116994 272583 400722]\n",
      "Additional words from top 5 documents: relativism culture difference assumption\n",
      "🔍 Enhanced Query: What is a cultural insight? relativism culture difference assumption\n"
     ]
    },
    {
     "name": "stderr",
     "output_type": "stream",
     "text": [
      "معالجة الاستعلامات:  97%|█████████▋| 971/1000 [59:33<01:44,  3.59s/استعلام]"
     ]
    },
    {
     "name": "stdout",
     "output_type": "stream",
     "text": [
      "Total documents in doc_data: 522931\n",
      "Sample doc_ids: ['1', '2', '3', '4', '5']\n",
      "Top indices: [ 20299 394180 518531 112555 493005]\n",
      "Additional words from top 5 documents: \n",
      "No new words to add to query for beir\n"
     ]
    },
    {
     "name": "stderr",
     "output_type": "stream",
     "text": [
      "معالجة الاستعلامات:  97%|█████████▋| 972/1000 [59:37<01:41,  3.63s/استعلام]"
     ]
    },
    {
     "name": "stdout",
     "output_type": "stream",
     "text": [
      "Total documents in doc_data: 522931\n",
      "Sample doc_ids: ['1', '2', '3', '4', '5']\n",
      "Top indices: [172964 210136 444484 433869 259060]\n",
      "Additional words from top 5 documents: person sunil gavaskar better\n",
      "🔍 Enhanced Query: Who is Sachin Tendulkar? person sunil gavaskar better\n"
     ]
    },
    {
     "name": "stderr",
     "output_type": "stream",
     "text": [
      "معالجة الاستعلامات:  97%|█████████▋| 973/1000 [59:41<01:38,  3.65s/استعلام]"
     ]
    },
    {
     "name": "stdout",
     "output_type": "stream",
     "text": [
      "Total documents in doc_data: 522931\n",
      "Sample doc_ids: ['1', '2', '3', '4', '5']\n",
      "Top indices: [416953 459080 416952 164838  46268]\n",
      "Additional words from top 5 documents: create host websites\n",
      "🔍 Enhanced Query: How do I get free website? create host websites\n"
     ]
    },
    {
     "name": "stderr",
     "output_type": "stream",
     "text": [
      "معالجة الاستعلامات:  97%|█████████▋| 974/1000 [59:44<01:34,  3.65s/استعلام]"
     ]
    },
    {
     "name": "stdout",
     "output_type": "stream",
     "text": [
      "Total documents in doc_data: 522931\n",
      "Sample doc_ids: ['1', '2', '3', '4', '5']\n",
      "Top indices: [459039 158892 419322 208517 208516]\n",
      "Additional words from top 5 documents: compatible redmi phone 800\n",
      "🔍 Enhanced Query: Which are the best earphones with mic (truebass) under Rs. 1000? compatible redmi phone 800\n"
     ]
    },
    {
     "name": "stderr",
     "output_type": "stream",
     "text": [
      "معالجة الاستعلامات:  98%|█████████▊| 975/1000 [59:48<01:29,  3.60s/استعلام]"
     ]
    },
    {
     "name": "stdout",
     "output_type": "stream",
     "text": [
      "Total documents in doc_data: 522931\n",
      "Sample doc_ids: ['1', '2', '3', '4', '5']\n",
      "Top indices: [130957 494322 137046 376440 284264]\n",
      "Additional words from top 5 documents: rapture earth 2100 chance\n",
      "🔍 Enhanced Query: What happened to people who believed in the 2012 apocalypse? rapture earth 2100 chance\n"
     ]
    },
    {
     "name": "stderr",
     "output_type": "stream",
     "text": [
      "معالجة الاستعلامات:  98%|█████████▊| 976/1000 [59:51<01:25,  3.56s/استعلام]"
     ]
    },
    {
     "name": "stdout",
     "output_type": "stream",
     "text": [
      "Total documents in doc_data: 522931\n",
      "Sample doc_ids: ['1', '2', '3', '4', '5']\n",
      "Top indices: [363959  46411 303951  77784  77785]\n",
      "Additional words from top 5 documents: world better australia visit\n",
      "🔍 Enhanced Query: Is New Zealand the best place to live? world better australia visit\n"
     ]
    },
    {
     "name": "stderr",
     "output_type": "stream",
     "text": [
      "معالجة الاستعلامات:  98%|█████████▊| 977/1000 [59:55<01:20,  3.52s/استعلام]"
     ]
    },
    {
     "name": "stdout",
     "output_type": "stream",
     "text": [
      "Total documents in doc_data: 522931\n",
      "Sample doc_ids: ['1', '2', '3', '4', '5']\n",
      "Top indices: [386761   7222  96587 234158  94763]\n",
      "Additional words from top 5 documents: exercise decrease belly fat\n",
      "🔍 Enhanced Query: Which foods are good for reducing body weight? exercise decrease belly fat\n"
     ]
    },
    {
     "name": "stderr",
     "output_type": "stream",
     "text": [
      "معالجة الاستعلامات:  98%|█████████▊| 978/1000 [59:58<01:16,  3.49s/استعلام]"
     ]
    },
    {
     "name": "stdout",
     "output_type": "stream",
     "text": [
      "Total documents in doc_data: 522931\n",
      "Sample doc_ids: ['1', '2', '3', '4', '5']\n",
      "Top indices: [234962 280124 192518  67929 490595]\n",
      "Additional words from top 5 documents: exercise less gain fruit\n",
      "🔍 Enhanced Query: Can you lose weight if you don’t eat? exercise less gain fruit\n"
     ]
    },
    {
     "name": "stderr",
     "output_type": "stream",
     "text": [
      "معالجة الاستعلامات:  98%|█████████▊| 979/1000 [1:00:02<01:13,  3.51s/استعلام]"
     ]
    },
    {
     "name": "stdout",
     "output_type": "stream",
     "text": [
      "Total documents in doc_data: 522931\n",
      "Sample doc_ids: ['1', '2', '3', '4', '5']\n",
      "Top indices: [518192  46593 272787 354789 175363]\n",
      "Additional words from top 5 documents: router tikona cameras among\n",
      "🔍 Enhanced Query: What is the best wifi security camera for home monitoring? router tikona cameras among\n"
     ]
    },
    {
     "name": "stderr",
     "output_type": "stream",
     "text": [
      "معالجة الاستعلامات:  98%|█████████▊| 980/1000 [1:00:06<01:11,  3.56s/استعلام]"
     ]
    },
    {
     "name": "stdout",
     "output_type": "stream",
     "text": [
      "Total documents in doc_data: 522931\n",
      "Sample doc_ids: ['1', '2', '3', '4', '5']\n",
      "Top indices: [454871 395683 182688 409830 270767]\n",
      "Additional words from top 5 documents: bitsat 2017 mun musigma\n",
      "🔍 Enhanced Query: I cleared the muApt 2016 test. How can I prepare for the remaining rounds? bitsat 2017 mun musigma\n"
     ]
    },
    {
     "name": "stderr",
     "output_type": "stream",
     "text": [
      "معالجة الاستعلامات:  98%|█████████▊| 981/1000 [1:00:09<01:08,  3.59s/استعلام]"
     ]
    },
    {
     "name": "stdout",
     "output_type": "stream",
     "text": [
      "Total documents in doc_data: 522931\n",
      "Sample doc_ids: ['1', '2', '3', '4', '5']\n",
      "Top indices: [ 19785  46736 296894 383370 107250]\n",
      "Additional words from top 5 documents: atmospheres five troposphere lowest\n",
      "🔍 Enhanced Query: What are the characteristics of the layers of the atmosphere? atmospheres five troposphere lowest\n"
     ]
    },
    {
     "name": "stderr",
     "output_type": "stream",
     "text": [
      "معالجة الاستعلامات:  98%|█████████▊| 982/1000 [1:00:13<01:05,  3.65s/استعلام]"
     ]
    },
    {
     "name": "stdout",
     "output_type": "stream",
     "text": [
      "Total documents in doc_data: 522931\n",
      "Sample doc_ids: ['1', '2', '3', '4', '5']\n",
      "Top indices: [ 46772  69133  73215 192538  30838]\n",
      "Additional words from top 5 documents: dont\n",
      "🔍 Enhanced Query: Do you believe in UFO's and Aliens? dont\n"
     ]
    },
    {
     "name": "stderr",
     "output_type": "stream",
     "text": [
      "معالجة الاستعلامات:  98%|█████████▊| 983/1000 [1:00:17<01:02,  3.65s/استعلام]"
     ]
    },
    {
     "name": "stdout",
     "output_type": "stream",
     "text": [
      "Total documents in doc_data: 522931\n",
      "Sample doc_ids: ['1', '2', '3', '4', '5']\n",
      "Top indices: [116720  25434 289436 258930 263258]\n",
      "Additional words from top 5 documents: bad yolks yellower others\n",
      "🔍 Enhanced Query: Why is egg yolk not good for you? bad yolks yellower others\n"
     ]
    },
    {
     "name": "stderr",
     "output_type": "stream",
     "text": [
      "معالجة الاستعلامات:  98%|█████████▊| 984/1000 [1:00:20<00:58,  3.64s/استعلام]"
     ]
    },
    {
     "name": "stdout",
     "output_type": "stream",
     "text": [
      "Total documents in doc_data: 522931\n",
      "Sample doc_ids: ['1', '2', '3', '4', '5']\n",
      "Top indices: [197412 303158 261543 142264 369494]\n",
      "Additional words from top 5 documents: word come exterminate niggers\n",
      "🔍 Enhanced Query: Why can't white people say nigger but black men can? word come exterminate niggers\n"
     ]
    },
    {
     "name": "stderr",
     "output_type": "stream",
     "text": [
      "معالجة الاستعلامات:  98%|█████████▊| 985/1000 [1:00:24<00:53,  3.59s/استعلام]"
     ]
    },
    {
     "name": "stdout",
     "output_type": "stream",
     "text": [
      "Total documents in doc_data: 522931\n",
      "Sample doc_ids: ['1', '2', '3', '4', '5']\n",
      "Top indices: [235862 312130  62024  62023 162076]\n",
      "Additional words from top 5 documents: oracle\n",
      "🔍 Enhanced Query: Would it be better to learn C++ or Java? oracle\n"
     ]
    },
    {
     "name": "stderr",
     "output_type": "stream",
     "text": [
      "معالجة الاستعلامات:  99%|█████████▊| 986/1000 [1:00:27<00:49,  3.56s/استعلام]"
     ]
    },
    {
     "name": "stdout",
     "output_type": "stream",
     "text": [
      "Total documents in doc_data: 522931\n",
      "Sample doc_ids: ['1', '2', '3', '4', '5']\n",
      "Top indices: [199052 337110  13654 147099 468801]\n",
      "Additional words from top 5 documents: site onlinejob writers freelance\n",
      "🔍 Enhanced Query: Which is the best website for an online job? site onlinejob writers freelance\n"
     ]
    },
    {
     "name": "stderr",
     "output_type": "stream",
     "text": [
      "معالجة الاستعلامات:  99%|█████████▊| 987/1000 [1:00:31<00:45,  3.53s/استعلام]"
     ]
    },
    {
     "name": "stdout",
     "output_type": "stream",
     "text": [
      "Total documents in doc_data: 522931\n",
      "Sample doc_ids: ['1', '2', '3', '4', '5']\n",
      "Top indices: [425499 320880 307651  17382 213103]\n",
      "Additional words from top 5 documents: allcause mortality mean often\n",
      "🔍 Enhanced Query: What are some of the more interesting deaths that have occurred throughout human history? allcause mortality mean often\n"
     ]
    },
    {
     "name": "stderr",
     "output_type": "stream",
     "text": [
      "معالجة الاستعلامات:  99%|█████████▉| 988/1000 [1:00:34<00:42,  3.52s/استعلام]"
     ]
    },
    {
     "name": "stdout",
     "output_type": "stream",
     "text": [
      "Total documents in doc_data: 522931\n",
      "Sample doc_ids: ['1', '2', '3', '4', '5']\n",
      "Top indices: [ 47217  16191 141895 449763 121928]\n",
      "Additional words from top 5 documents: absolute major societal differences\n",
      "🔍 Enhanced Query: What does Spain have a comparative advantage in? absolute major societal differences\n"
     ]
    },
    {
     "name": "stderr",
     "output_type": "stream",
     "text": [
      "معالجة الاستعلامات:  99%|█████████▉| 989/1000 [1:00:38<00:39,  3.55s/استعلام]"
     ]
    },
    {
     "name": "stdout",
     "output_type": "stream",
     "text": [
      "Total documents in doc_data: 522931\n",
      "Sample doc_ids: ['1', '2', '3', '4', '5']\n",
      "Top indices: [ 47267 474404 134455  39877   2000]\n",
      "Additional words from top 5 documents: falsifiable true theory real\n",
      "🔍 Enhanced Query: What are some tests that could (in principle) disprove evolution? falsifiable true theory real\n"
     ]
    },
    {
     "name": "stderr",
     "output_type": "stream",
     "text": [
      "معالجة الاستعلامات:  99%|█████████▉| 990/1000 [1:00:41<00:35,  3.59s/استعلام]"
     ]
    },
    {
     "name": "stdout",
     "output_type": "stream",
     "text": [
      "Total documents in doc_data: 522931\n",
      "Sample doc_ids: ['1', '2', '3', '4', '5']\n",
      "Top indices: [315685  75340 141817 469454  75341]\n",
      "Additional words from top 5 documents: french spanish german arabic\n",
      "🔍 Enhanced Query: When is the best time to learn a foreign language? french spanish german arabic\n"
     ]
    },
    {
     "name": "stderr",
     "output_type": "stream",
     "text": [
      "معالجة الاستعلامات:  99%|█████████▉| 991/1000 [1:00:45<00:33,  3.71s/استعلام]"
     ]
    },
    {
     "name": "stdout",
     "output_type": "stream",
     "text": [
      "Total documents in doc_data: 522931\n",
      "Sample doc_ids: ['1', '2', '3', '4', '5']\n",
      "Top indices: [389115  47276 156099 125031 521574]\n",
      "Additional words from top 5 documents: macroeconomics recommend economics read\n",
      "🔍 Enhanced Query: Which book is best for microeconomics for beginners? macroeconomics recommend economics read\n"
     ]
    },
    {
     "name": "stderr",
     "output_type": "stream",
     "text": [
      "معالجة الاستعلامات:  99%|█████████▉| 992/1000 [1:00:49<00:29,  3.74s/استعلام]"
     ]
    },
    {
     "name": "stdout",
     "output_type": "stream",
     "text": [
      "Total documents in doc_data: 522931\n",
      "Sample doc_ids: ['1', '2', '3', '4', '5']\n",
      "Top indices: [498431 392397  47398 441742 441741]\n",
      "Additional words from top 5 documents: years worthwhile india\n",
      "🔍 Enhanced Query: Is it worth doing an Mba without job experience? years worthwhile india\n"
     ]
    },
    {
     "name": "stderr",
     "output_type": "stream",
     "text": [
      "معالجة الاستعلامات:  99%|█████████▉| 993/1000 [1:00:53<00:26,  3.76s/استعلام]"
     ]
    },
    {
     "name": "stdout",
     "output_type": "stream",
     "text": [
      "Total documents in doc_data: 522931\n",
      "Sample doc_ids: ['1', '2', '3', '4', '5']\n",
      "Top indices: [ 62567  47444 258434 152738 233676]\n",
      "Additional words from top 5 documents: vote behind decision support\n",
      "🔍 Enhanced Query: Trump voters: what is the reason you chose him? vote behind decision support\n"
     ]
    },
    {
     "name": "stderr",
     "output_type": "stream",
     "text": [
      "معالجة الاستعلامات:  99%|█████████▉| 994/1000 [1:00:57<00:22,  3.69s/استعلام]"
     ]
    },
    {
     "name": "stdout",
     "output_type": "stream",
     "text": [
      "Total documents in doc_data: 522931\n",
      "Sample doc_ids: ['1', '2', '3', '4', '5']\n",
      "Top indices: [ 91139 137269 128653 349218  38130]\n",
      "Additional words from top 5 documents: \n",
      "No new words to add to query for beir\n"
     ]
    },
    {
     "name": "stderr",
     "output_type": "stream",
     "text": [
      "معالجة الاستعلامات: 100%|█████████▉| 995/1000 [1:01:00<00:18,  3.64s/استعلام]"
     ]
    },
    {
     "name": "stdout",
     "output_type": "stream",
     "text": [
      "Total documents in doc_data: 522931\n",
      "Sample doc_ids: ['1', '2', '3', '4', '5']\n",
      "Top indices: [228623 182920  42282 176743 383568]\n",
      "Additional words from top 5 documents: technology colonize colonialism end\n",
      "🔍 Enhanced Query: What's the point of colonising Mars? technology colonize colonialism end\n"
     ]
    },
    {
     "name": "stderr",
     "output_type": "stream",
     "text": [
      "معالجة الاستعلامات: 100%|█████████▉| 996/1000 [1:01:04<00:14,  3.58s/استعلام]"
     ]
    },
    {
     "name": "stdout",
     "output_type": "stream",
     "text": [
      "Total documents in doc_data: 522931\n",
      "Sample doc_ids: ['1', '2', '3', '4', '5']\n",
      "Top indices: [112625 438876  47512 484847 484846]\n",
      "Additional words from top 5 documents: pakistan effect india overpopulate\n",
      "🔍 Enhanced Query: What is the cause for overpopulation? pakistan effect india overpopulate\n"
     ]
    },
    {
     "name": "stderr",
     "output_type": "stream",
     "text": [
      "معالجة الاستعلامات: 100%|█████████▉| 997/1000 [1:01:07<00:10,  3.56s/استعلام]"
     ]
    },
    {
     "name": "stdout",
     "output_type": "stream",
     "text": [
      "Total documents in doc_data: 522931\n",
      "Sample doc_ids: ['1', '2', '3', '4', '5']\n",
      "Top indices: [255544 286730  81623 280477  31316]\n",
      "Additional words from top 5 documents: marines prepare indian\n",
      "🔍 Enhanced Query: How can I join merchant navy? marines prepare indian\n"
     ]
    },
    {
     "name": "stderr",
     "output_type": "stream",
     "text": [
      "معالجة الاستعلامات: 100%|█████████▉| 998/1000 [1:01:11<00:07,  3.52s/استعلام]"
     ]
    },
    {
     "name": "stdout",
     "output_type": "stream",
     "text": [
      "Total documents in doc_data: 522931\n",
      "Sample doc_ids: ['1', '2', '3', '4', '5']\n",
      "Top indices: [335716 335717  47563  50049 493946]\n",
      "Additional words from top 5 documents: girls okay 19yearold 16yearold\n",
      "🔍 Enhanced Query: What should a girl know by age 16? girls okay 19yearold 16yearold\n"
     ]
    },
    {
     "name": "stderr",
     "output_type": "stream",
     "text": [
      "معالجة الاستعلامات: 100%|█████████▉| 999/1000 [1:01:14<00:03,  3.52s/استعلام]"
     ]
    },
    {
     "name": "stdout",
     "output_type": "stream",
     "text": [
      "Total documents in doc_data: 522931\n",
      "Sample doc_ids: ['1', '2', '3', '4', '5']\n",
      "Top indices: [501127 500200  47594  99929 500201]\n",
      "Additional words from top 5 documents: traveller travel tourism resident\n",
      "🔍 Enhanced Query: What is the difference between Traveler and Tourist? traveller travel tourism resident\n"
     ]
    },
    {
     "name": "stderr",
     "output_type": "stream",
     "text": [
      "معالجة الاستعلامات: 100%|██████████| 1000/1000 [1:01:18<00:00,  3.68s/استعلام]"
     ]
    },
    {
     "name": "stdout",
     "output_type": "stream",
     "text": [
      "Total documents in doc_data: 522931\n",
      "Sample doc_ids: ['1', '2', '3', '4', '5']\n",
      "Top indices: [484783 129011 235755 201750 275273]\n",
      "Additional words from top 5 documents: practically limit faster impossible\n",
      "🔍 Enhanced Query: Can you exceed the speed of light? practically limit faster impossible\n"
     ]
    },
    {
     "name": "stderr",
     "output_type": "stream",
     "text": [
      "\n"
     ]
    },
    {
     "name": "stdout",
     "output_type": "stream",
     "text": [
      "Enhanced queries saved to enhanced_queries_beir.csv\n"
     ]
    }
   ],
   "source": [
    "import pandas as pd\n",
    "import os\n",
    "import sqlite3\n",
    "import numpy as np\n",
    "import joblib\n",
    "import ast\n",
    "from datetime import datetime\n",
    "import re\n",
    "from nltk.tokenize import word_tokenize\n",
    "from nltk.corpus import stopwords\n",
    "from nltk.stem import WordNetLemmatizer\n",
    "from sklearn.metrics.pairwise import cosine_similarity\n",
    "from tqdm import tqdm\n",
    "\n",
    "# Provided functions (unchanged)\n",
    "def custom_tokenizer(text):\n",
    "    if not isinstance(text, str) or not text.strip():\n",
    "        return []\n",
    "    text = text.lower()\n",
    "    text = re.sub(r'[^\\w\\s]', '', text)  # Remove punctuation\n",
    "    tokens = word_tokenize(text)\n",
    "    stop_words = set(stopwords.words('english')) - {'not', 'no', 'never'}  # Exclude important words\n",
    "    tokens = [token for token in tokens if token not in stop_words and len(token) > 2 and token not in ['example', 'test']]  # Ignore short and specific words\n",
    "    lemmatizer = WordNetLemmatizer()\n",
    "    tokens = [lemmatizer.lemmatize(token, pos='v') for token in tokens]  # Lemmatization\n",
    "    return tokens\n",
    "\n",
    "def preprocess_text(text):\n",
    "    return custom_tokenizer(text)\n",
    "\n",
    "def load_embeddings(dataset_name):\n",
    "    embedding_file = f\"data/{dataset_name}/embeddings_matrix.joblib\"\n",
    "    if os.path.exists(embedding_file):\n",
    "        return joblib.load(embedding_file)\n",
    "    else:\n",
    "        raise FileNotFoundError(f\"Embedding file {embedding_file} not found. Please generate embeddings first.\")\n",
    "\n",
    "def enhance_query(query, dataset_name, model, enhance=True):\n",
    "    processed_query = preprocess_text(query)\n",
    "    \n",
    "    if enhance:\n",
    "        query_embeddings = load_embeddings(dataset_name)\n",
    "        if len(query_embeddings) == 0:\n",
    "            print(f\"No query embeddings available for {dataset_name}\")\n",
    "            return query, processed_query\n",
    "\n",
    "        query_text = ' '.join(processed_query)\n",
    "        query_vector = model.encode([query_text], convert_to_numpy=True)\n",
    "        similarities = cosine_similarity(query_vector, query_embeddings)[0]\n",
    "        top_indices = np.argsort(similarities)[::-1][:5]\n",
    "\n",
    "        db_file = f\"data/{dataset_name}/index.db\"\n",
    "        if not os.path.exists(db_file):\n",
    "            print(f\"Error: Database file {db_file} not found\")\n",
    "            return query, processed_query\n",
    "\n",
    "        mapping_file = f\"data/{dataset_name}/doc_id_mapping.joblib\"\n",
    "        if not os.path.exists(mapping_file):\n",
    "            print(f\"Error: Mapping file {mapping_file} not found\")\n",
    "            return query, processed_query\n",
    "\n",
    "        try:\n",
    "            index_to_doc_id = joblib.load(mapping_file)\n",
    "        except Exception as e:\n",
    "            print(f\"Error loading doc_id_mapping: {str(e)}\")\n",
    "            return query, processed_query\n",
    "\n",
    "        try:\n",
    "            conn = sqlite3.connect(db_file)\n",
    "            cursor = conn.cursor()\n",
    "            cursor.execute('SELECT doc_id, processed_text FROM documents')\n",
    "            doc_data = {row[0]: row[1] for row in cursor.fetchall()}\n",
    "            conn.close()\n",
    "\n",
    "            if not doc_data:\n",
    "                print(f\"Warning: No processed documents found in database for {dataset_name}\")\n",
    "                return query, processed_query\n",
    "\n",
    "            print(f\"Total documents in doc_data: {len(doc_data)}\")\n",
    "            print(f\"Sample doc_ids: {list(doc_data.keys())[:5]}\")\n",
    "            print(f\"Top indices: {top_indices}\")\n",
    "\n",
    "            similar_queries = []\n",
    "            max_add = 5\n",
    "            added = 0\n",
    "            top_doc_words = []\n",
    "\n",
    "            for idx in top_indices:\n",
    "                doc_id = index_to_doc_id.get(idx)\n",
    "                if doc_id is None:\n",
    "                    print(f\"Warning: No doc_id mapped for index {idx}\")\n",
    "                    continue\n",
    "\n",
    "                if doc_id in doc_data:\n",
    "                    try:\n",
    "                        sim_score = similarities[idx]\n",
    "                        if 0.4 < sim_score < 0.999:\n",
    "                            processed_query_text = ast.literal_eval(doc_data[doc_id]) if doc_data[doc_id] else []\n",
    "                            if not processed_query_text:\n",
    "                                print(f\"Warning: Empty processed_text for doc_id {doc_id}\")\n",
    "                                continue\n",
    "                            similar_queries.append(processed_query_text)\n",
    "                            top_doc_words.extend(processed_query_text)\n",
    "                            added += 1\n",
    "                            if added >= max_add:\n",
    "                                break\n",
    "                    except (ValueError, SyntaxError) as e:\n",
    "                        print(f\"Error parsing processed_text at doc_id {doc_id}: {str(e)}\")\n",
    "                        continue\n",
    "                else:\n",
    "                    print(f\"Warning: doc_id {doc_id} not found in doc_data\")\n",
    "\n",
    "            if not similar_queries:\n",
    "                print(f\"No similar documents found for {dataset_name} with sufficient similarity\")\n",
    "                return query, processed_query\n",
    "\n",
    "            new_words = []\n",
    "            seen = set(processed_query)\n",
    "            for word in top_doc_words:\n",
    "                if word not in seen and word not in new_words:\n",
    "                    new_words.append(word)\n",
    "                    if len(new_words) >= 4:\n",
    "                        break\n",
    "\n",
    "            additional_words = ' '.join(new_words)\n",
    "            print(f\"Additional words from top 5 documents: {additional_words}\")\n",
    "\n",
    "            if additional_words:\n",
    "                enhanced_query = query + ' ' + additional_words\n",
    "                print(f\"🔍 Enhanced Query: {enhanced_query}\")\n",
    "            else:\n",
    "                enhanced_query = query\n",
    "                print(f\"No new words to add to query for {dataset_name}\")\n",
    "\n",
    "        except Exception as e:\n",
    "            print(f\"Error enhancing query for {dataset_name}: {str(e)}\")\n",
    "            if 'conn' in locals():\n",
    "                conn.close()\n",
    "            enhanced_query = query\n",
    "\n",
    "        return enhanced_query, processed_query\n",
    "\n",
    "    return query, processed_query\n",
    "\n",
    "def process_csv(input_csv, output_csv, dataset_name, model):\n",
    "    # Ensure logs directory exists\n",
    "    os.makedirs(\"logs\", exist_ok=True)\n",
    "    \n",
    "    # Read the input CSV (limit to first 1000 queries)\n",
    "    try:\n",
    "        df = pd.read_csv(input_csv).head(1000)  # ✅ فقط أول 1000 استعلام\n",
    "        print(f\"Loaded first 1000 queries from: {input_csv}\")\n",
    "    except Exception as e:\n",
    "        print(f\"Error reading CSV file {input_csv}: {str(e)}\")\n",
    "        return\n",
    "\n",
    "    # Ensure the text column exists\n",
    "    if 'text' not in df.columns:\n",
    "        print(\"Error: 'text' column not found in CSV\")\n",
    "        return\n",
    "\n",
    "    # Process each query with tqdm progress bar\n",
    "    enhanced_queries = []\n",
    "    processed_queries = []\n",
    "    \n",
    "    for query in tqdm(df['text'], desc=\"معالجة الاستعلامات\", unit=\"استعلام\"):\n",
    "        enhanced_query, processed_query = enhance_query(query, dataset_name, model, enhance=True)\n",
    "        enhanced_queries.append(enhanced_query)\n",
    "        processed_queries.append(' '.join(processed_query))\n",
    "\n",
    "    # Create a new DataFrame with the same columns\n",
    "    result_df = df.copy()\n",
    "    result_df['text'] = enhanced_queries\n",
    "    result_df['processed_query'] = processed_queries\n",
    "\n",
    "    # Save to output CSV\n",
    "    try:\n",
    "        result_df.to_csv(output_csv, index=False, encoding='utf-8')\n",
    "        print(f\"Enhanced queries saved to {output_csv}\")\n",
    "    except Exception as e:\n",
    "        print(f\"Error saving CSV file {output_csv}: {str(e)}\")\n",
    "\n",
    "# Example usage\n",
    "if __name__ == \"__main__\":\n",
    "    from sentence_transformers import SentenceTransformer\n",
    "    \n",
    "    # Load the model\n",
    "    model = SentenceTransformer('all-mpnet-base-v2')\n",
    "    dataset_name = \"beir\"\n",
    "    input_csv = r\"data\\beir\\queries_beir.csv\"\n",
    "    output_csv = \"enhanced_queries_beir.csv\"\n",
    "    \n",
    "    process_csv(input_csv, output_csv, dataset_name, model)"
   ]
  },
  {
   "cell_type": "code",
   "execution_count": 3,
   "id": "c542fe04",
   "metadata": {},
   "outputs": [
    {
     "name": "stdout",
     "output_type": "stream",
     "text": [
      "Loaded CSV file: data\\antique\\queries_antique.csv\n"
     ]
    },
    {
     "name": "stderr",
     "output_type": "stream",
     "text": [
      "معالجة الاستعلامات:   0%|          | 0/176 [00:00<?, ?استعلام/s]"
     ]
    },
    {
     "name": "stdout",
     "output_type": "stream",
     "text": [
      "Top similarities: [0.7374319  0.7374319  0.7328346  0.72237104 0.6528705 ]\n",
      "Loaded doc_id_mapping with 403666 entries\n"
     ]
    },
    {
     "name": "stderr",
     "output_type": "stream",
     "text": [
      "معالجة الاستعلامات:   1%|          | 1/176 [00:04<11:49,  4.06s/استعلام]"
     ]
    },
    {
     "name": "stdout",
     "output_type": "stream",
     "text": [
      "Total documents in doc_data: 403666\n",
      "Sample doc_ids: ['2020338_0', '2020338_1', '2020338_2', '2020338_3', '2874684_0']\n",
      "Top indices: [288355 256467 208243 138791 281119]\n",
      "Selected document at doc_id 3265991_12, similarity: 0.7374318838119507, text: ['concentration']\n",
      "Selected document at doc_id 2036065_1, similarity: 0.7374318838119507, text: ['concentration']\n",
      "Selected document at doc_id 1253368_5, similarity: 0.7328345775604248, text: ['concentrate', 'mind']\n",
      "Selected document at doc_id 971642_3, similarity: 0.7223710417747498, text: ['concentrate']\n",
      "Selected document at doc_id 4087614_7, similarity: 0.6528704762458801, text: ['try', 'yoga', 'concentration']\n",
      "Additional words from top 5 documents: concentrate mind try yoga\n",
      "🔍 Enhanced Query: how can we get concentration onsomething? concentrate mind try yoga\n",
      "Top similarities: [0.37147337 0.3650272  0.36356586 0.35125536 0.35112196]\n",
      "Loaded doc_id_mapping with 403666 entries\n"
     ]
    },
    {
     "name": "stderr",
     "output_type": "stream",
     "text": [
      "معالجة الاستعلامات:   1%|          | 2/176 [00:07<10:15,  3.54s/استعلام]"
     ]
    },
    {
     "name": "stdout",
     "output_type": "stream",
     "text": [
      "Total documents in doc_data: 403666\n",
      "Sample doc_ids: ['2020338_0', '2020338_1', '2020338_2', '2020338_3', '2874684_0']\n",
      "Top indices: [ 46292 257037 118039 355076  32708]\n",
      "No similar documents found for antique with sufficient similarity\n",
      "Top similarities: [0.40008172 0.3739777  0.3674724  0.36293802 0.36208713]\n",
      "Loaded doc_id_mapping with 403666 entries\n"
     ]
    },
    {
     "name": "stderr",
     "output_type": "stream",
     "text": [
      "معالجة الاستعلامات:   2%|▏         | 3/176 [00:10<09:31,  3.30s/استعلام]"
     ]
    },
    {
     "name": "stdout",
     "output_type": "stream",
     "text": [
      "Total documents in doc_data: 403666\n",
      "Sample doc_ids: ['2020338_0', '2020338_1', '2020338_2', '2020338_3', '2874684_0']\n",
      "Top indices: [ 39976 138934 289260  36234 279025]\n",
      "Selected document at doc_id 3004570_1, similarity: 0.40008172392845154, text: ['fe2']\n",
      "Additional words from top 5 documents: fe2\n",
      "🔍 Enhanced Query: How do I determine the charge of the iron ion in FeCl3? fe2\n",
      "Top similarities: [0.5799434  0.5675043  0.52321863 0.51453775 0.51453775]\n",
      "Loaded doc_id_mapping with 403666 entries\n"
     ]
    },
    {
     "name": "stderr",
     "output_type": "stream",
     "text": [
      "معالجة الاستعلامات:   2%|▏         | 4/176 [00:13<09:13,  3.22s/استعلام]"
     ]
    },
    {
     "name": "stdout",
     "output_type": "stream",
     "text": [
      "Total documents in doc_data: 403666\n",
      "Sample doc_ids: ['2020338_0', '2020338_1', '2020338_2', '2020338_3', '2874684_0']\n",
      "Top indices: [172143  69014 164137 292778 310857]\n",
      "Selected document at doc_id 1082990_5, similarity: 0.5799434185028076, text: ['get', 'rid', 'mice', 'whatever', 'eat']\n",
      "Selected document at doc_id 3152320_11, similarity: 0.5675042867660522, text: ['mouse', 'trap', 'mouse', 'exterminator']\n",
      "Selected document at doc_id 3907899_8, similarity: 0.5232186317443848, text: ['keep', 'mice']\n",
      "Selected document at doc_id 547250_12, similarity: 0.5145377516746521, text: ['mouse', 'trap']\n",
      "Selected document at doc_id 2226616_10, similarity: 0.5145377516746521, text: ['mouse', 'trap']\n",
      "Additional words from top 5 documents: mice whatever eat mouse\n",
      "🔍 Enhanced Query: I have mice.How do I get rid of them humanely? mice whatever eat mouse\n",
      "Top similarities: [0.5058903  0.5034717  0.50068045 0.49641687 0.48583275]\n",
      "Loaded doc_id_mapping with 403666 entries\n"
     ]
    },
    {
     "name": "stderr",
     "output_type": "stream",
     "text": [
      "معالجة الاستعلامات:   3%|▎         | 5/176 [00:16<08:54,  3.12s/استعلام]"
     ]
    },
    {
     "name": "stdout",
     "output_type": "stream",
     "text": [
      "Total documents in doc_data: 403666\n",
      "Sample doc_ids: ['2020338_0', '2020338_1', '2020338_2', '2020338_3', '2874684_0']\n",
      "Top indices: [235659  15077 358807 375336 321862]\n",
      "Selected document at doc_id 4145479_2, similarity: 0.5058903098106384, text: ['get', 'pregnancy', 'test']\n",
      "Selected document at doc_id 1190721_0, similarity: 0.5034716725349426, text: ['within', 'days', 'miss', 'period', 'pregnancy', 'test', 'detect', 'pregnancy']\n",
      "Selected document at doc_id 2382487_21, similarity: 0.5006804466247559, text: ['doctor', 'pregnancy', 'test', 'might', 'pregnant']\n",
      "Selected document at doc_id 155796_2, similarity: 0.4964168667793274, text: ['pregnancy', 'careful']\n",
      "Selected document at doc_id 4044842_7, similarity: 0.48583275079727173, text: ['wait', 'weeks', 'try', 'pregnancy', 'test', 'doctor']\n",
      "Additional words from top 5 documents: get test within days\n",
      "🔍 Enhanced Query: What does \"see Leaflet\" mean on Ept Pregnancy test? get test within days\n",
      "Top similarities: [0.4691486  0.43777296 0.42751926 0.42096227 0.41533017]\n",
      "Loaded doc_id_mapping with 403666 entries\n"
     ]
    },
    {
     "name": "stderr",
     "output_type": "stream",
     "text": [
      "معالجة الاستعلامات:   3%|▎         | 6/176 [00:19<08:37,  3.04s/استعلام]"
     ]
    },
    {
     "name": "stdout",
     "output_type": "stream",
     "text": [
      "Total documents in doc_data: 403666\n",
      "Sample doc_ids: ['2020338_0', '2020338_1', '2020338_2', '2020338_3', '2874684_0']\n",
      "Top indices: [ 97068  17912 374622   4364 353214]\n",
      "Selected document at doc_id 2917760_4, similarity: 0.4691486060619354, text: ['immunity']\n",
      "Selected document at doc_id 4448097_1, similarity: 0.4377729594707489, text: ['innate', 'immunity', 'immunity', 'occur', 'naturally', 'result', 'persons', 'genetic', 'constitution', 'physiology', 'not', 'arise', 'previous', 'infection', 'vaccination', 'also', 'call', 'genetic', 'immunity', 'inherent', 'immunity', 'native', 'immunity', 'natural', 'immunity', 'nonspecific', 'immunity']\n",
      "Selected document at doc_id 4469837_1, similarity: 0.4275192618370056, text: ['evolution', 'nothing', 'immune', 'system']\n",
      "Selected document at doc_id 2430174_1, similarity: 0.42096227407455444, text: ['suppress', 'immune', 'system']\n",
      "Selected document at doc_id 3547456_1, similarity: 0.415330171585083, text: ['type', 'inflammation']\n",
      "Additional words from top 5 documents: occur naturally result persons\n",
      "🔍 Enhanced Query: what is innate immunity? occur naturally result persons\n",
      "Top similarities: [0.47741085 0.46490556 0.45761153 0.44769692 0.43412566]\n",
      "Loaded doc_id_mapping with 403666 entries\n"
     ]
    },
    {
     "name": "stderr",
     "output_type": "stream",
     "text": [
      "معالجة الاستعلامات:   4%|▍         | 7/176 [00:22<08:27,  3.00s/استعلام]"
     ]
    },
    {
     "name": "stdout",
     "output_type": "stream",
     "text": [
      "Total documents in doc_data: 403666\n",
      "Sample doc_ids: ['2020338_0', '2020338_1', '2020338_2', '2020338_3', '2874684_0']\n",
      "Top indices: [269353 167063 178853  25819  23536]\n",
      "Selected document at doc_id 3498251_2, similarity: 0.47741085290908813, text: ['lose', 'bellyfat', 'httpweightlosstipsguideblogspotcom200609howtolosebellyfathtml']\n",
      "Selected document at doc_id 537405_4, similarity: 0.4649055600166321, text: ['lose', 'first', 'weeks', 'atkins', 'excercising']\n",
      "Selected document at doc_id 1942515_13, similarity: 0.4576115310192108, text: ['lipo', 'maybe', 'exercise', 'alot', 'diet', 'might', 'good']\n",
      "Selected document at doc_id 2608452_1, similarity: 0.4476969242095947, text: ['eat', 'little', 'excercise', 'everday', 'joggingwork', 'week', 'reduce', 'weight']\n",
      "Selected document at doc_id 3667992_0, similarity: 0.4341256618499756, text: ['httpwwwdrnaturacomweight_loss__flatter_stomach']\n",
      "Additional words from top 5 documents: bellyfat httpweightlosstipsguideblogspotcom200609howtolosebellyfathtml first weeks\n",
      "🔍 Enhanced Query: how can i lose 30 pounds by june3? bellyfat httpweightlosstipsguideblogspotcom200609howtolosebellyfathtml first weeks\n",
      "Top similarities: [0.65280205 0.6489083  0.6475154  0.6385277  0.62790483]\n",
      "Loaded doc_id_mapping with 403666 entries\n"
     ]
    },
    {
     "name": "stderr",
     "output_type": "stream",
     "text": [
      "معالجة الاستعلامات:   5%|▍         | 8/176 [00:25<08:19,  2.97s/استعلام]"
     ]
    },
    {
     "name": "stdout",
     "output_type": "stream",
     "text": [
      "Total documents in doc_data: 403666\n",
      "Sample doc_ids: ['2020338_0', '2020338_1', '2020338_2', '2020338_3', '2874684_0']\n",
      "Top indices: [ 70593 124877 226784 343795 169137]\n",
      "Selected document at doc_id 2944022_1, similarity: 0.652802050113678, text: ['scribble', 'mean', 'like', 'doodle', 'write']\n",
      "Selected document at doc_id 1519703_21, similarity: 0.6489083170890808, text: ['act', 'put', 'imagination', 'pencil', 'paper']\n",
      "Selected document at doc_id 4452244_4, similarity: 0.6475154161453247, text: ['put', 'drop', 'ink', 'waterslowly', 'slowly', 'ink', 'diffuse', 'water']\n",
      "Selected document at doc_id 2519825_4, similarity: 0.6385276913642883, text: ['writer', 'someone', 'talk', 'paper', 'pencil']\n",
      "Selected document at doc_id 2541665_1, similarity: 0.6279048323631287, text: ['simply', 'write', 'plane', 'paper']\n",
      "Additional words from top 5 documents: mean like doodle act\n",
      "🔍 Enhanced Query: What are the words to write the sound of raindrops, moving train & scribbling w/ pencil on paper figuratively? mean like doodle act\n",
      "Top similarities: [0.45600784 0.4176994  0.4083894  0.39954478 0.39815336]\n",
      "Loaded doc_id_mapping with 403666 entries\n"
     ]
    },
    {
     "name": "stderr",
     "output_type": "stream",
     "text": [
      "معالجة الاستعلامات:   5%|▌         | 9/176 [00:28<08:22,  3.01s/استعلام]"
     ]
    },
    {
     "name": "stdout",
     "output_type": "stream",
     "text": [
      "Total documents in doc_data: 403666\n",
      "Sample doc_ids: ['2020338_0', '2020338_1', '2020338_2', '2020338_3', '2874684_0']\n",
      "Top indices: [ 65907 225808 403462 107908 293579]\n",
      "Selected document at doc_id 800325_1, similarity: 0.45600783824920654, text: ['illegal', 'disable', 'airbag', 'without', 'approval', 'nhtsa']\n",
      "Selected document at doc_id 3712755_1, similarity: 0.41769939661026, text: ['check', 'keylessridecom']\n",
      "Selected document at doc_id 147332_10, similarity: 0.4083893895149231, text: ['not', 'tire', 'check', 'steer', 'fluid']\n",
      "Additional words from top 5 documents: illegal disable airbag without\n",
      "🔍 Enhanced Query: Why must I have an uncracked winshield in order to for my car to pass a safety inspeciton? illegal disable airbag without\n",
      "Top similarities: [0.45771015 0.45363072 0.4526509  0.44673198 0.43616724]\n",
      "Loaded doc_id_mapping with 403666 entries\n"
     ]
    },
    {
     "name": "stderr",
     "output_type": "stream",
     "text": [
      "معالجة الاستعلامات:   6%|▌         | 10/176 [00:31<08:14,  2.98s/استعلام]"
     ]
    },
    {
     "name": "stdout",
     "output_type": "stream",
     "text": [
      "Total documents in doc_data: 403666\n",
      "Sample doc_ids: ['2020338_0', '2020338_1', '2020338_2', '2020338_3', '2874684_0']\n",
      "Top indices: [ 70149 111293   4940 135218  70153]\n",
      "Selected document at doc_id 2260443_0, similarity: 0.4577101469039917, text: ['others', 'do', 'well', 'describe', 'blasphemy', 'speak', 'god', 'either', 'character', 'work', 'andor', 'act', 'way', 'contradict', 'gods', 'character', 'claim', 'represent', 'god', 'answer', 'half', 'question', 'people', 'often', 'refer', 'belief', 'disagree', 'blasphemy', 'something', 'call', 'blasphemy', 'not', 'make', 'jesus', 'call', 'blasphemer', 'religious', 'authorities', 'time', 'yet', 'not', 'religious', 'beliefs', 'not', 'true', 'heresy', 'better', 'word', 'use', 'blasphemy', 'even', 'though', 'heresies', 'blasphemous', 'not', 'totally', 'inappropriate', 'use', 'term', 'blasphemy', 'not', 'best', 'choice', 'word', 'possible', 'situations', 'people', 'often', 'use', 'word', 'not', 'know', 'precise', 'meanings', 'often', 'misuse', 'especially', 'regard', 'spiritualreligious', 'teminology']\n",
      "Selected document at doc_id 2101797_1, similarity: 0.4536307156085968, text: ['bla']\n",
      "Selected document at doc_id 4219867_3, similarity: 0.45265090465545654, text: ['lolspell', 'stupidity']\n",
      "Selected document at doc_id 2521020_7, similarity: 0.4467319846153259, text: ['world', 'say', 'blasphemous']\n",
      "Selected document at doc_id 2260443_4, similarity: 0.43616724014282227, text: ['blasphemy', 'directly', 'oppose', 'second', 'commandment', 'consist', 'utter', 'god', 'inwardly', 'outwardly', 'word', 'hatred', 'reproach', 'defiance', 'speak', 'ill', 'god', 'fail', 'respect', 'toward', 'ones', 'speech', 'misuse', 'gods', 'name', 'jam', 'condemn', 'blaspheme', 'honorable', 'name', 'jesus', 'call', 'prohibition', 'blasphemy', 'extend', 'language', 'christs', 'church', 'saint', 'virgin', 'mary', 'sacred', 'things', 'also', 'blasphemous', 'make', 'use', 'gods', 'name', 'cover', 'criminal', 'practice', 'reduce', 'people', 'servitude', 'torture', 'persons', 'put', 'death', 'misuse', 'gods', 'name', 'commit', 'crime', 'provoke', 'others', 'repudiate', 'religion', 'blasphemy', 'contrary', 'respect', 'due', 'god', 'holy', 'name', 'grave', 'sin', 'truth', 'say', 'whoever', 'utter', 'blasphemy', 'holy', 'spirit', 'pardon', 'neither', 'age', 'age', 'come']\n",
      "Additional words from top 5 documents: others do well describe\n",
      "🔍 Enhanced Query: What is Blaphsemy? others do well describe\n",
      "Top similarities: [0.6161958  0.6051284  0.5936181  0.59072554 0.58701015]\n",
      "Loaded doc_id_mapping with 403666 entries\n"
     ]
    },
    {
     "name": "stderr",
     "output_type": "stream",
     "text": [
      "معالجة الاستعلامات:   6%|▋         | 11/176 [00:34<08:13,  2.99s/استعلام]"
     ]
    },
    {
     "name": "stdout",
     "output_type": "stream",
     "text": [
      "Total documents in doc_data: 403666\n",
      "Sample doc_ids: ['2020338_0', '2020338_1', '2020338_2', '2020338_3', '2874684_0']\n",
      "Top indices: [ 81625 368614   6451 121199  27853]\n",
      "Selected document at doc_id 4454063_4, similarity: 0.616195797920227, text: ['happy', 'condolence']\n",
      "Selected document at doc_id 1631289_2, similarity: 0.6051284074783325, text: ['cremate', 'still']\n",
      "Selected document at doc_id 2834121_1, similarity: 0.5936180949211121, text: ['elegy', 'usually', 'shorter', 'poem', 'commemorate', 'death', 'beloved', 'individual', 'purpose', 'express', 'sorrow', 'also', 'consolation', 'remind', 'grievers', 'continuation', 'life', 'decease']\n",
      "Selected document at doc_id 2893666_9, similarity: 0.5907255411148071, text: ['expression', 'condolences', 'feel', 'sorry', 'loss']\n",
      "Selected document at doc_id 3501361_2, similarity: 0.5870101451873779, text: ['funeral', 'home']\n",
      "Additional words from top 5 documents: happy condolence cremate still\n",
      "🔍 Enhanced Query: What's the proper way to express sorrow at a funeral? happy condolence cremate still\n",
      "Top similarities: [0.46486217 0.35454634 0.34678724 0.3435737  0.33783874]\n",
      "Loaded doc_id_mapping with 403666 entries\n"
     ]
    },
    {
     "name": "stderr",
     "output_type": "stream",
     "text": [
      "معالجة الاستعلامات:   7%|▋         | 12/176 [00:37<08:13,  3.01s/استعلام]"
     ]
    },
    {
     "name": "stdout",
     "output_type": "stream",
     "text": [
      "Total documents in doc_data: 403666\n",
      "Sample doc_ids: ['2020338_0', '2020338_1', '2020338_2', '2020338_3', '2874684_0']\n",
      "Top indices: [303390 258235 374107 234380 130633]\n",
      "Selected document at doc_id 1466730_10, similarity: 0.4648621678352356, text: ['aruba']\n",
      "Additional words from top 5 documents: \n",
      "No new words to add to query for antique\n",
      "Top similarities: [0.602396   0.6017703  0.58738005 0.57664603 0.5625929 ]\n",
      "Loaded doc_id_mapping with 403666 entries\n"
     ]
    },
    {
     "name": "stderr",
     "output_type": "stream",
     "text": [
      "معالجة الاستعلامات:   7%|▋         | 13/176 [00:40<08:18,  3.06s/استعلام]"
     ]
    },
    {
     "name": "stdout",
     "output_type": "stream",
     "text": [
      "Total documents in doc_data: 403666\n",
      "Sample doc_ids: ['2020338_0', '2020338_1', '2020338_2', '2020338_3', '2874684_0']\n",
      "Top indices: [ 80535 130394 361829 341929  24195]\n",
      "Selected document at doc_id 49713_4, similarity: 0.6023960113525391, text: ['treatment', 'hiccup', 'depend', 'severe', 'common', 'hiccup', 'usually', 'stop', 'home', 'remedy', 'generally', 'recommend', 'severe', 'persistent', 'hiccup', 'doctor', 'may', 'try', 'medications', 'manage', 'hiccup', 'chlorpromazine', 'thorazine', 'usually', 'first', 'prescription', 'medication', 'try', 'hiccup', 'although', 'drug', 'baclofen', 'lioresal', 'medications', 'convulsions', 'phenytoin', 'dilantin', 'also', 'successful', 'surgery', 'disable', 'phrenic', 'nerve', 'nerve', 'control', 'diaphragm', 'often', 'treatment', 'last', 'resort', 'hold', 'breath', 'drink', 'glass', 'water', 'quickly', 'become', 'frighten', 'use', 'smell', 'salt', 'pull', 'hard', 'tongue', 'place', 'onehalf', 'teaspoon', 'dry', 'sugar', 'back', 'tongue', 'repeat', 'process', 'time', '2minute', 'intervals', 'use', 'corn', 'syrup', 'not', 'sugar', 'young', 'children']\n",
      "Selected document at doc_id 2176089_0, similarity: 0.601770281791687, text: ['wait', 'stop', 'cure', 'hiccup']\n",
      "Selected document at doc_id 1257519_1, similarity: 0.587380051612854, text: ['hiccup']\n",
      "Selected document at doc_id 1482824_2, similarity: 0.5766460299491882, text: ['cant', 'hiccdown']\n",
      "Selected document at doc_id 3078974_3, similarity: 0.5625929236412048, text: ['bouts', 'hiccup', 'away', 'within', 'minutes', 'hours', 'not', 'require', 'treatment', 'many', 'home', 'remedy', 'use', 'treat', 'hiccup', 'involve', 'increase', 'level', 'carbon', 'dioxide', 'blood', 'usually', 'stop', 'hiccup', 'remedy', 'include', 'hold', 'breath', 'count', 'slowly', 'ten', 'breathe', 'repeatedly', 'paper', 'bag', 'limit', 'period', 'time', 'quickly', 'drink', 'glass', 'cold', 'water', 'eat', 'teaspoon', 'sugar', 'honey']\n",
      "Additional words from top 5 documents: treatment depend severe common\n",
      "🔍 Enhanced Query: How do people get hiccups, what are they, and what exactly is the best way to cure them? treatment depend severe common\n",
      "Top similarities: [0.46596563 0.46116737 0.45641527 0.42959875 0.4278108 ]\n",
      "Loaded doc_id_mapping with 403666 entries\n"
     ]
    },
    {
     "name": "stderr",
     "output_type": "stream",
     "text": [
      "معالجة الاستعلامات:   8%|▊         | 14/176 [00:43<08:12,  3.04s/استعلام]"
     ]
    },
    {
     "name": "stdout",
     "output_type": "stream",
     "text": [
      "Total documents in doc_data: 403666\n",
      "Sample doc_ids: ['2020338_0', '2020338_1', '2020338_2', '2020338_3', '2874684_0']\n",
      "Top indices: [279002 278998 278999  40980 230084]\n",
      "Selected document at doc_id 1676158_6, similarity: 0.4659656286239624, text: ['senators', 'serve', 'year', 'term', 'congressmen', 'serve', 'two', 'year', 'term']\n",
      "Selected document at doc_id 1676158_2, similarity: 0.4611673653125763, text: ['congressmen', 'serve', 'four', 'years', 'senators', 'six', 'years']\n",
      "Selected document at doc_id 1676158_3, similarity: 0.4564152657985687, text: ['congressmen', 'serve', 'two', 'years', 'senators', 'six']\n",
      "Selected document at doc_id 1962001_1, similarity: 0.42959874868392944, text: ['senate', 'president']\n",
      "Selected document at doc_id 1549295_1, similarity: 0.42781078815460205, text: ['congress', 'vote']\n",
      "Additional words from top 5 documents: serve year term two\n",
      "🔍 Enhanced Query: Why do our elected federal senators and congressmen not have to live on regular S.S. like the rest of us? serve year term two\n",
      "Top similarities: [0.4954139  0.49153098 0.45741546 0.44965065 0.43667656]\n",
      "Loaded doc_id_mapping with 403666 entries\n"
     ]
    },
    {
     "name": "stderr",
     "output_type": "stream",
     "text": [
      "معالجة الاستعلامات:   9%|▊         | 15/176 [00:46<08:08,  3.03s/استعلام]"
     ]
    },
    {
     "name": "stdout",
     "output_type": "stream",
     "text": [
      "Total documents in doc_data: 403666\n",
      "Sample doc_ids: ['2020338_0', '2020338_1', '2020338_2', '2020338_3', '2874684_0']\n",
      "Top indices: [ 62952 192593  82098  97480 366005]\n",
      "Selected document at doc_id 3059561_3, similarity: 0.4954138994216919, text: ['golden', 'retrievers', 'longer', 'hair', 'reddish', 'tint', 'pointier', 'snout', 'lab', 'generally', 'rounder', 'head']\n",
      "Selected document at doc_id 4281301_24, similarity: 0.49153098464012146, text: ['dog', 'ugly']\n",
      "Selected document at doc_id 3904757_9, similarity: 0.45741546154022217, text: ['breed', 'dog']\n",
      "Selected document at doc_id 3633625_5, similarity: 0.4496506452560425, text: ['smaller', 'breed', 'dog']\n",
      "Selected document at doc_id 2939205_5, similarity: 0.436676561832428, text: ['teeth', 'grey', 'hairs', 'around', 'muzzle']\n",
      "Additional words from top 5 documents: golden retrievers longer hair\n",
      "🔍 Enhanced Query: why do people judge a dog by what he looks like? golden retrievers longer hair\n",
      "Top similarities: [0.5980079  0.59181964 0.57952195 0.5627862  0.5512117 ]\n",
      "Loaded doc_id_mapping with 403666 entries\n"
     ]
    },
    {
     "name": "stderr",
     "output_type": "stream",
     "text": [
      "معالجة الاستعلامات:   9%|▉         | 16/176 [00:49<08:02,  3.02s/استعلام]"
     ]
    },
    {
     "name": "stdout",
     "output_type": "stream",
     "text": [
      "Total documents in doc_data: 403666\n",
      "Sample doc_ids: ['2020338_0', '2020338_1', '2020338_2', '2020338_3', '2874684_0']\n",
      "Top indices: [ 23145 143785 224025 145994 230324]\n",
      "Selected document at doc_id 2814599_0, similarity: 0.5980079174041748, text: ['remission', 'disappearance', 'sign', 'symptoms', 'cancer', 'disease', 'happen', 'disease', 'say', 'remission', 'remission', 'temporary', 'permanent']\n",
      "Selected document at doc_id 72950_5, similarity: 0.5918196439743042, text: ['cancer', 'treat', 'surgery', 'chemotherapy', 'radiation', 'therapy', 'immunotherapy', 'one']\n",
      "Selected document at doc_id 1806469_6, similarity: 0.5795219540596008, text: ['stage', 'chemo', 'operable', 'surgery', 'maybe', 'radiation']\n",
      "Selected document at doc_id 2856793_0, similarity: 0.5627862215042114, text: ['possibility', 'treat', 'cancer']\n",
      "Selected document at doc_id 317530_1, similarity: 0.5512117147445679, text: ['diffrence', 'oncology', 'mean', 'treatment', 'cancer']\n",
      "Additional words from top 5 documents: disappearance sign symptoms disease\n",
      "🔍 Enhanced Query: what does the word remission mean when referring to cancer patients? disappearance sign symptoms disease\n",
      "Top similarities: [0.5887587  0.53998303 0.5366425  0.5290184  0.5146163 ]\n",
      "Loaded doc_id_mapping with 403666 entries\n"
     ]
    },
    {
     "name": "stderr",
     "output_type": "stream",
     "text": [
      "معالجة الاستعلامات:  10%|▉         | 17/176 [00:52<07:56,  2.99s/استعلام]"
     ]
    },
    {
     "name": "stdout",
     "output_type": "stream",
     "text": [
      "Total documents in doc_data: 403666\n",
      "Sample doc_ids: ['2020338_0', '2020338_1', '2020338_2', '2020338_3', '2874684_0']\n",
      "Top indices: [ 98817  41514 205672  80316 390623]\n",
      "Selected document at doc_id 3424110_10, similarity: 0.5887587070465088, text: ['patient']\n",
      "Selected document at doc_id 1395064_1, similarity: 0.5399830341339111, text: ['drivers']\n",
      "Selected document at doc_id 4370455_8, similarity: 0.5366424918174744, text: ['designate', 'driver']\n",
      "Selected document at doc_id 592616_1, similarity: 0.5290184020996094, text: ['patients']\n",
      "Selected document at doc_id 181119_387, similarity: 0.5146163105964661, text: ['drive', 'instructor']\n",
      "Additional words from top 5 documents: drivers designate patients drive\n",
      "🔍 Enhanced Query: How patient a driver are you? drivers designate patients drive\n",
      "Top similarities: [0.6024679 0.5563653 0.536306  0.5122714 0.5122714]\n",
      "Loaded doc_id_mapping with 403666 entries\n"
     ]
    },
    {
     "name": "stderr",
     "output_type": "stream",
     "text": [
      "معالجة الاستعلامات:  10%|█         | 18/176 [00:55<07:49,  2.97s/استعلام]"
     ]
    },
    {
     "name": "stdout",
     "output_type": "stream",
     "text": [
      "Total documents in doc_data: 403666\n",
      "Sample doc_ids: ['2020338_0', '2020338_1', '2020338_2', '2020338_3', '2874684_0']\n",
      "Top indices: [ 37133 120815 176564 298316 192803]\n",
      "Selected document at doc_id 780772_4, similarity: 0.6024678945541382, text: ['survival', 'instinct']\n",
      "Selected document at doc_id 2218281_2, similarity: 0.5563653111457825, text: ['selfishness', 'ego']\n",
      "Selected document at doc_id 469596_4, similarity: 0.5363060235977173, text: ['cause', 'ego']\n",
      "Selected document at doc_id 4064766_0, similarity: 0.5122714042663574, text: ['ego']\n",
      "Selected document at doc_id 3811544_10, similarity: 0.5122714042663574, text: ['ego']\n",
      "Additional words from top 5 documents: instinct selfishness cause\n",
      "🔍 Enhanced Query: How is ego a part of our survival instincts? instinct selfishness cause\n",
      "Top similarities: [0.5156647 0.5156647 0.5156647 0.5156647 0.5156647]\n",
      "Loaded doc_id_mapping with 403666 entries\n"
     ]
    },
    {
     "name": "stderr",
     "output_type": "stream",
     "text": [
      "معالجة الاستعلامات:  11%|█         | 19/176 [00:58<07:44,  2.96s/استعلام]"
     ]
    },
    {
     "name": "stdout",
     "output_type": "stream",
     "text": [
      "Total documents in doc_data: 403666\n",
      "Sample doc_ids: ['2020338_0', '2020338_1', '2020338_2', '2020338_3', '2874684_0']\n",
      "Top indices: [197404 205323 217751 303109  21374]\n",
      "Selected document at doc_id 2692384_1, similarity: 0.5156646966934204, text: ['cat']\n",
      "Selected document at doc_id 1740321_5, similarity: 0.5156646966934204, text: ['cat']\n",
      "Selected document at doc_id 3010674_2, similarity: 0.5156646966934204, text: ['cat']\n",
      "Selected document at doc_id 598947_12, similarity: 0.5156646966934204, text: ['cat']\n",
      "Selected document at doc_id 3667461_0, similarity: 0.5156646966934204, text: ['cat']\n",
      "Additional words from top 5 documents: \n",
      "No new words to add to query for antique\n",
      "Top similarities: [0.43307364 0.42728642 0.41213417 0.4104623  0.39807072]\n",
      "Loaded doc_id_mapping with 403666 entries\n"
     ]
    },
    {
     "name": "stderr",
     "output_type": "stream",
     "text": [
      "معالجة الاستعلامات:  11%|█▏        | 20/176 [01:01<07:43,  2.97s/استعلام]"
     ]
    },
    {
     "name": "stdout",
     "output_type": "stream",
     "text": [
      "Total documents in doc_data: 403666\n",
      "Sample doc_ids: ['2020338_0', '2020338_1', '2020338_2', '2020338_3', '2874684_0']\n",
      "Top indices: [202851 306306  14388 245018 160393]\n",
      "Selected document at doc_id 2160193_9, similarity: 0.43307363986968994, text: ['hamburgerespecially', 'bbq']\n",
      "Selected document at doc_id 1844896_2, similarity: 0.42728641629219055, text: ['angus', 'hamburger', 'theres', 'nothing', 'special']\n",
      "Selected document at doc_id 3411484_9, similarity: 0.41213417053222656, text: ['burger', 'fry']\n",
      "Selected document at doc_id 3266254_9, similarity: 0.41046229004859924, text: ['hamburger', 'sandwich', 'unite', 'kingdom', 'south', 'africa', 'saudi', 'arabia', 'patty', 'alone', 'know', 'beefburger', 'burger', 'consist', 'patty', 'grind', 'meat', 'usually', 'beef', 'meat', 'grill', 'fry', 'steam', 'broil', 'generally', 'serve', 'various', 'condiments', 'toppings', 'inside', 'bun', 'bake', 'specially', 'purpose', 'burgers', 'often', 'serve', 'french', 'fry', 'potato', 'chip', 'onion', 'ring', 'hamburger', 'also', 'refer', 'meat', 'type', 'meat', 'use', 'box', 'dinners', 'hamburger', 'helper', 'hamburger', 'actually', 'distinct', 'product', 'grind', 'round', 'type', 'grind', 'meat', 'however', 'grind', 'beef', 'form', 'often', 'commonly', 'refer', 'hamburger', 'recipe', 'call', 'hamburger', 'noncountable', 'noun', 'would', 'require', 'grind', 'beef', 'beef', 'substitute', 'not', 'whole', 'sandwich']\n",
      "Additional words from top 5 documents: hamburgerespecially bbq hamburger theres\n",
      "🔍 Enhanced Query: How to cook Angus burgers? hamburgerespecially bbq hamburger theres\n",
      "Top similarities: [0.56502914 0.49004763 0.4796221  0.46778762 0.46778762]\n",
      "Loaded doc_id_mapping with 403666 entries\n"
     ]
    },
    {
     "name": "stderr",
     "output_type": "stream",
     "text": [
      "معالجة الاستعلامات:  12%|█▏        | 21/176 [01:04<07:45,  3.00s/استعلام]"
     ]
    },
    {
     "name": "stdout",
     "output_type": "stream",
     "text": [
      "Total documents in doc_data: 403666\n",
      "Sample doc_ids: ['2020338_0', '2020338_1', '2020338_2', '2020338_3', '2874684_0']\n",
      "Top indices: [201746 387844 101701 402376 100850]\n",
      "Selected document at doc_id 2816343_3, similarity: 0.5650291442871094, text: ['know', 'question']\n",
      "Selected document at doc_id 2026255_3, similarity: 0.4900476336479187, text: ['everyone', 'know']\n",
      "Selected document at doc_id 3240393_3, similarity: 0.47962209582328796, text: ['anybody', 'know']\n",
      "Selected document at doc_id 2124666_11, similarity: 0.46778762340545654, text: ['know', 'answer']\n",
      "Selected document at doc_id 1674423_9, similarity: 0.46778762340545654, text: ['know', 'answer']\n",
      "Additional words from top 5 documents: everyone anybody answer\n",
      "🔍 Enhanced Query: Why do people ask questions they know? everyone anybody answer\n",
      "Top similarities: [0.5554441  0.5488026  0.5213833  0.48728073 0.4283974 ]\n",
      "Loaded doc_id_mapping with 403666 entries\n"
     ]
    },
    {
     "name": "stderr",
     "output_type": "stream",
     "text": [
      "معالجة الاستعلامات:  12%|█▎        | 22/176 [01:07<07:50,  3.06s/استعلام]"
     ]
    },
    {
     "name": "stdout",
     "output_type": "stream",
     "text": [
      "Total documents in doc_data: 403666\n",
      "Sample doc_ids: ['2020338_0', '2020338_1', '2020338_2', '2020338_3', '2874684_0']\n",
      "Top indices: [235392 133886 341666 362962 348011]\n",
      "Selected document at doc_id 4105530_10, similarity: 0.5554441213607788, text: ['antifreeze']\n",
      "Selected document at doc_id 2973956_7, similarity: 0.5488026142120361, text: ['antifreezing', 'agents']\n",
      "Selected document at doc_id 1335115_6, similarity: 0.5213832855224609, text: ['alcohol', 'antifreezing', 'agent']\n",
      "Selected document at doc_id 3231388_3, similarity: 0.4872807264328003, text: ['leak', 'antifreeze']\n",
      "Selected document at doc_id 2421333_1, similarity: 0.42839738726615906, text: ['check', 'coolant']\n",
      "Additional words from top 5 documents: antifreezing agents alcohol agent\n",
      "🔍 Enhanced Query: What is the difference between coolant and anti-freeze? antifreezing agents alcohol agent\n",
      "Top similarities: [0.69491816 0.56308323 0.5201468  0.5201468  0.5201468 ]\n",
      "Loaded doc_id_mapping with 403666 entries\n"
     ]
    },
    {
     "name": "stderr",
     "output_type": "stream",
     "text": [
      "معالجة الاستعلامات:  13%|█▎        | 23/176 [01:10<07:55,  3.11s/استعلام]"
     ]
    },
    {
     "name": "stdout",
     "output_type": "stream",
     "text": [
      "Total documents in doc_data: 403666\n",
      "Sample doc_ids: ['2020338_0', '2020338_1', '2020338_2', '2020338_3', '2874684_0']\n",
      "Top indices: [196404  62336 215941 251962 215938]\n",
      "Selected document at doc_id 3720632_7, similarity: 0.694918155670166, text: ['yawn', 'contagious']\n",
      "Selected document at doc_id 1742488_2, similarity: 0.5630832314491272, text: ['social', 'yawn', 'contagious']\n",
      "Selected document at doc_id 601072_4, similarity: 0.5201467871665955, text: ['contagious']\n",
      "Selected document at doc_id 208894_5, similarity: 0.5201467871665955, text: ['contagious']\n",
      "Selected document at doc_id 601072_1, similarity: 0.5201467871665955, text: ['contagious']\n",
      "Additional words from top 5 documents: social\n",
      "🔍 Enhanced Query: Why is yawning contagious? social\n",
      "Top similarities: [0.45999593 0.45999593 0.429333   0.42073077 0.3966984 ]\n",
      "Loaded doc_id_mapping with 403666 entries\n"
     ]
    },
    {
     "name": "stderr",
     "output_type": "stream",
     "text": [
      "معالجة الاستعلامات:  14%|█▎        | 24/176 [01:13<07:47,  3.08s/استعلام]"
     ]
    },
    {
     "name": "stdout",
     "output_type": "stream",
     "text": [
      "Total documents in doc_data: 403666\n",
      "Sample doc_ids: ['2020338_0', '2020338_1', '2020338_2', '2020338_3', '2874684_0']\n",
      "Top indices: [384771  56141 216238 102424 352217]\n",
      "Selected document at doc_id 2949566_1, similarity: 0.45999592542648315, text: ['milk']\n",
      "Selected document at doc_id 1679697_3, similarity: 0.45999592542648315, text: ['milk']\n",
      "Selected document at doc_id 2643507_0, similarity: 0.42933300137519836, text: ['doesnt', 'live', 'milk', 'cheaper', 'gallon', 'gas']\n",
      "Selected document at doc_id 1850102_1, similarity: 0.4207307696342468, text: ['cents', 'gallon']\n",
      "Additional words from top 5 documents: doesnt live cheaper cents\n",
      "🔍 Enhanced Query: why does milk cost more than gas per gallon? doesnt live cheaper cents\n",
      "Top similarities: [0.49822044 0.45109177 0.44638792 0.44432494 0.44335467]\n",
      "Loaded doc_id_mapping with 403666 entries\n"
     ]
    },
    {
     "name": "stderr",
     "output_type": "stream",
     "text": [
      "معالجة الاستعلامات:  14%|█▍        | 25/176 [01:16<07:43,  3.07s/استعلام]"
     ]
    },
    {
     "name": "stdout",
     "output_type": "stream",
     "text": [
      "Total documents in doc_data: 403666\n",
      "Sample doc_ids: ['2020338_0', '2020338_1', '2020338_2', '2020338_3', '2874684_0']\n",
      "Top indices: [107133 392714  83966 267604 235417]\n",
      "Selected document at doc_id 773251_4, similarity: 0.49822044372558594, text: ['passport']\n",
      "Selected document at doc_id 2063332_1, similarity: 0.4510917663574219, text: ['show', 'proof', 'citizenship']\n",
      "Selected document at doc_id 3353611_1, similarity: 0.44638791680336, text: ['fraud']\n",
      "Selected document at doc_id 4206702_6, similarity: 0.44432494044303894, text: ['crook', 'liars']\n",
      "Selected document at doc_id 782177_1, similarity: 0.44335466623306274, text: ['current', 'passport']\n",
      "Additional words from top 5 documents: passport show proof citizenship\n",
      "🔍 Enhanced Query: how do crooks  make  fake   passports  ? passport show proof citizenship\n",
      "Top similarities: [0.62969935 0.60519403 0.59485793 0.5812259  0.56396425]\n",
      "Loaded doc_id_mapping with 403666 entries\n"
     ]
    },
    {
     "name": "stderr",
     "output_type": "stream",
     "text": [
      "معالجة الاستعلامات:  15%|█▍        | 26/176 [01:19<07:36,  3.05s/استعلام]"
     ]
    },
    {
     "name": "stdout",
     "output_type": "stream",
     "text": [
      "Total documents in doc_data: 403666\n",
      "Sample doc_ids: ['2020338_0', '2020338_1', '2020338_2', '2020338_3', '2874684_0']\n",
      "Top indices: [358934 358932 206694 219684  92139]\n",
      "Selected document at doc_id 3819566_10, similarity: 0.6296993494033813, text: ['take', 'laxatives']\n",
      "Selected document at doc_id 3819566_8, similarity: 0.6051940321922302, text: ['take', 'laxativelol']\n",
      "Selected document at doc_id 4393055_1, similarity: 0.594857931137085, text: ['eat', 'bunch', 'laxatives']\n",
      "Selected document at doc_id 2780668_1, similarity: 0.5812258720397949, text: ['take', 'laxative', 'change', 'diet', 'furhter', 'advice', 'see', 'doctor']\n",
      "Selected document at doc_id 4173594_15, similarity: 0.5639642477035522, text: ['eat', 'prune', 'laxative']\n",
      "Additional words from top 5 documents: take laxatives laxativelol eat\n",
      "🔍 Enhanced Query: i have had loose stools for a week...how do i make it stop? take laxatives laxativelol eat\n",
      "Top similarities: [0.4362492  0.41507837 0.41442788 0.40478557 0.40269336]\n",
      "Loaded doc_id_mapping with 403666 entries\n"
     ]
    },
    {
     "name": "stderr",
     "output_type": "stream",
     "text": [
      "معالجة الاستعلامات:  15%|█▌        | 27/176 [01:22<07:31,  3.03s/استعلام]"
     ]
    },
    {
     "name": "stdout",
     "output_type": "stream",
     "text": [
      "Total documents in doc_data: 403666\n",
      "Sample doc_ids: ['2020338_0', '2020338_1', '2020338_2', '2020338_3', '2874684_0']\n",
      "Top indices: [357416 159237  98953 332789  63512]\n",
      "Selected document at doc_id 4144269_2, similarity: 0.4362491965293884, text: ['people', 'rude']\n",
      "Selected document at doc_id 3345218_6, similarity: 0.41507837176322937, text: ['cos', 'show', 'respect', 'absolutely', 'rude']\n",
      "Selected document at doc_id 1956064_7, similarity: 0.41442787647247314, text: ['rude', 'not', 'people', 'rude']\n",
      "Selected document at doc_id 3968803_6, similarity: 0.4047855734825134, text: ['rude', 'change']\n",
      "Selected document at doc_id 608805_4, similarity: 0.40269336104393005, text: ['ignorance', 'fear', 'competition', 'lack', 'curiosity']\n",
      "Additional words from top 5 documents: cos show respect absolutely\n",
      "🔍 Enhanced Query: why some people behave so rude without reason,is it due to their own problem? cos show respect absolutely\n",
      "Top similarities: [0.5105202  0.48965055 0.4886461  0.47384912 0.4691214 ]\n",
      "Loaded doc_id_mapping with 403666 entries\n"
     ]
    },
    {
     "name": "stderr",
     "output_type": "stream",
     "text": [
      "معالجة الاستعلامات:  16%|█▌        | 28/176 [01:25<07:24,  3.00s/استعلام]"
     ]
    },
    {
     "name": "stdout",
     "output_type": "stream",
     "text": [
      "Total documents in doc_data: 403666\n",
      "Sample doc_ids: ['2020338_0', '2020338_1', '2020338_2', '2020338_3', '2874684_0']\n",
      "Top indices: [163032 183913 383980 302244 401555]\n",
      "Selected document at doc_id 3115686_6, similarity: 0.5105202198028564, text: ['dance', 'friends', 'relax']\n",
      "Selected document at doc_id 1076915_3, similarity: 0.48965054750442505, text: ['alone']\n",
      "Selected document at doc_id 1907578_3, similarity: 0.48864609003067017, text: ['relax', 'socialize', 'lol']\n",
      "Selected document at doc_id 2584718_3, similarity: 0.4738491177558899, text: ['enjoy', 'company']\n",
      "Selected document at doc_id 2726152_9, similarity: 0.46912139654159546, text: ['swim', 'tan', 'relax', 'bbq', 'party', 'wfriends']\n",
      "Additional words from top 5 documents: dance friends relax socialize\n",
      "🔍 Enhanced Query: how can I enjoy my time alone? dance friends relax socialize\n",
      "Top similarities: [0.54750025 0.5253818  0.51279986 0.48905456 0.48905444]\n",
      "Loaded doc_id_mapping with 403666 entries\n"
     ]
    },
    {
     "name": "stderr",
     "output_type": "stream",
     "text": [
      "معالجة الاستعلامات:  16%|█▋        | 29/176 [01:28<07:18,  2.98s/استعلام]"
     ]
    },
    {
     "name": "stdout",
     "output_type": "stream",
     "text": [
      "Total documents in doc_data: 403666\n",
      "Sample doc_ids: ['2020338_0', '2020338_1', '2020338_2', '2020338_3', '2874684_0']\n",
      "Top indices: [134419 175773 370807  99757 109062]\n",
      "Selected document at doc_id 2874995_1, similarity: 0.5475002527236938, text: ['drive', 'fast']\n",
      "Selected document at doc_id 3493286_2, similarity: 0.5253818035125732, text: ['increase', 'performance', 'engine']\n",
      "Selected document at doc_id 3378840_6, similarity: 0.512799859046936, text: ['fasterfster', 'faster']\n",
      "Selected document at doc_id 2514667_5, similarity: 0.4890545606613159, text: ['faster']\n",
      "Selected document at doc_id 3167037_18, similarity: 0.48905444145202637, text: ['faster']\n",
      "Additional words from top 5 documents: drive fast increase performance\n",
      "🔍 Enhanced Query: how to make my car faster? drive fast increase performance\n",
      "Top similarities: [0.52515    0.52515    0.49053732 0.46588084 0.44320953]\n",
      "Loaded doc_id_mapping with 403666 entries\n"
     ]
    },
    {
     "name": "stderr",
     "output_type": "stream",
     "text": [
      "معالجة الاستعلامات:  17%|█▋        | 30/176 [01:31<07:14,  2.98s/استعلام]"
     ]
    },
    {
     "name": "stdout",
     "output_type": "stream",
     "text": [
      "Total documents in doc_data: 403666\n",
      "Sample doc_ids: ['2020338_0', '2020338_1', '2020338_2', '2020338_3', '2874684_0']\n",
      "Top indices: [340178 340179 340193 340174 340183]\n",
      "Selected document at doc_id 2582920_10, similarity: 0.5251500010490417, text: ['prune', 'dry', 'plum']\n",
      "Selected document at doc_id 2582920_11, similarity: 0.5251500010490417, text: ['prune', 'dry', 'plum']\n",
      "Selected document at doc_id 2582920_25, similarity: 0.4905373156070709, text: ['recently', 'dry', 'plum', 'dry', 'prune', 'call', 'thing', 'prune', 'prune', 'actually', 'cultivar', 'plums', 'general', 'cultivar', 'plant', 'specifically', 'cultivate', 'certain', 'properties', 'actually', 'recieved', 'different', 'name', 'prune', 'plums', 'differ', 'certain', 'desirable', 'areas', 'two', 'term', 'use', 'interchangeable', 'prune', 'could', 'ment', 'either', 'dry', 'plums', 'dry', 'prune', 'even', 'though', 'technically', 'different', 'friuts', 'reason', 'confusion', 'dry', 'plum', 'makers', 'dont', 'like', 'negative', 'feel', 'towards', 'name', 'prune', 'start', 'market', 'thier', 'products', 'dry', 'plums', 'order', 'move', 'away']\n",
      "Selected document at doc_id 2582920_6, similarity: 0.4658808410167694, text: ['dry', 'plum', 'prune', 'dry', 'prune', 'raisin']\n",
      "Selected document at doc_id 2582920_15, similarity: 0.44320952892303467, text: ['basically', 'thing', 'use', 'interchangeable', 'plum', 'stone', 'fruit', 'tree', 'genus', 'prunus', 'subgenus', 'prunus', 'subgenus', 'distinguish', 'subgenera', 'peach', 'cherries', 'bird', 'cherries', 'etc', 'shoot', 'terminal', 'bud', 'side', 'bud', 'solitary', 'not', 'cluster', 'flower', 'group', 'together', 'short', 'stem', 'fruit', 'groove', 'run', 'one', 'side', 'smooth', 'stone', '125', 'varieties', 'fruit', 'grow', 'dry', 'four', 'common', 'varities', 'french', 'imperial', 'italian', 'green', 'gage', 'prune', 'cultivars', 'plum', 'species', 'mostly', 'prunus', 'domestica', 'general', 'prune', 'freestone', 'cultivars', 'stone', 'easy', 'remove', 'whereas', 'plums', 'cling', 'stone', 'difficult', 'remove', 'dry', 'fruit', 'prune', 'tree', 'traditionally', 'call', 'dry', 'prune', 'prune', 'effort', 'currently', 'underway', 'market', 'dry', 'plums', 'fresh', 'prune', 'reach', 'market', 'earlier', 'fresh', 'plums', 'usually', 'smaller', 'size', 'prune', 'juice', 'fiberrich', 'plum', 'juice', 'often', 'market', 'way', 'increase', 'regularity']\n",
      "Additional words from top 5 documents: recently call thing actually\n",
      "🔍 Enhanced Query: What is the difference in a dried plum and a dried prune? recently call thing actually\n",
      "Top similarities: [0.54739356 0.52491486 0.50173795 0.49907017 0.48647663]\n",
      "Loaded doc_id_mapping with 403666 entries\n"
     ]
    },
    {
     "name": "stderr",
     "output_type": "stream",
     "text": [
      "معالجة الاستعلامات:  18%|█▊        | 31/176 [01:34<07:12,  2.98s/استعلام]"
     ]
    },
    {
     "name": "stdout",
     "output_type": "stream",
     "text": [
      "Total documents in doc_data: 403666\n",
      "Sample doc_ids: ['2020338_0', '2020338_1', '2020338_2', '2020338_3', '2874684_0']\n",
      "Top indices: [194585  84787 124464 324622 266336]\n",
      "Selected document at doc_id 2514686_4, similarity: 0.5473935604095459, text: ['goldfish', 'gold']\n",
      "Selected document at doc_id 2043860_1, similarity: 0.5249148607254028, text: ['httpwwwaquariumfishnetinformationraising_baby_fish_2htm']\n",
      "Selected document at doc_id 1852661_5, similarity: 0.5017379522323608, text: ['gold', 'fish']\n",
      "Selected document at doc_id 582850_6, similarity: 0.4990701675415039, text: ['dont', 'anything', 'goldfish', 'dont', 'really', 'get', 'pregnant', 'though', 'females', 'become', 'full', 'egg', 'dont', 'get', 'fertilize', 'release', 'male', 'release', 'milt', 'dont', 'male', 'dont', 'worry', 'baby', 'female', 'still', 'lay', 'without', 'male', 'goldfish', 'breed', 'captivity', 'fair', 'years', 'ago', 'breed', 'twice', 'far', 'far', 'pro', 'even', 'though', 'raise', 'goldfish', 'since', 'little', 'btw']\n",
      "Selected document at doc_id 4274499_5, similarity: 0.4864766299724579, text: ['small', 'fry', 'hard', 'tell', 'difference', 'male', 'female', 'goldfish', 'gender', 'year', 'old', 'female', 'little', 'bigger', 'male', 'age', 'best', 'time', 'look', 'difference', 'mature', 'enough', 'fertile', 'spawn', 'season', 'female', 'rounder', 'lower', 'belly', 'ventral', 'area', 'plump', 'egg', 'arebest', 'see', 'male', 'time', 'not', 'always', 'small', 'white', 'pimples', 'gills', 'front', 'fin', 'male', 'may', 'also', 'slightly', 'intense', 'color', 'female', 'large', 'goldfish', 'actually', 'small', 'difference', 'anal', 'open', 'dont', 'think']\n",
      "Additional words from top 5 documents: goldfish httpwwwaquariumfishnetinformationraising_baby_fish_2htm dont anything\n",
      "🔍 Enhanced Query: How do i know if my gold fish is pregnant? goldfish httpwwwaquariumfishnetinformationraising_baby_fish_2htm dont anything\n",
      "Top similarities: [0.46322733 0.44789705 0.43721384 0.42991742 0.42800397]\n",
      "Loaded doc_id_mapping with 403666 entries\n"
     ]
    },
    {
     "name": "stderr",
     "output_type": "stream",
     "text": [
      "معالجة الاستعلامات:  18%|█▊        | 32/176 [01:37<07:03,  2.94s/استعلام]"
     ]
    },
    {
     "name": "stdout",
     "output_type": "stream",
     "text": [
      "Total documents in doc_data: 403666\n",
      "Sample doc_ids: ['2020338_0', '2020338_1', '2020338_2', '2020338_3', '2874684_0']\n",
      "Top indices: [ 88696  88700 254577 151043 402771]\n",
      "Selected document at doc_id 3406176_6, similarity: 0.4632273316383362, text: ['corona', 'lime', 'baybeeeeeeeeeeeeeeeeeeeee']\n",
      "Selected document at doc_id 3406176_10, similarity: 0.4478970468044281, text: ['corona', 'taste', 'best']\n",
      "Selected document at doc_id 2341356_19, similarity: 0.43721383810043335, text: ['cognac', 'brandy']\n",
      "Selected document at doc_id 2661278_10, similarity: 0.42991742491722107, text: ['pepsi', 'better', 'aftertaste']\n",
      "Selected document at doc_id 209084_15, similarity: 0.4280039668083191, text: ['fish', 'tacos', 'corona']\n",
      "Additional words from top 5 documents: corona lime baybeeeeeeeeeeeeeeeeeeeee best\n",
      "🔍 Enhanced Query: Why do people drink Cuervo when it tastes the same going down as coming up? corona lime baybeeeeeeeeeeeeeeeeeeeee best\n",
      "Top similarities: [0.5318959  0.53189576 0.48745263 0.480419   0.4782611 ]\n",
      "Loaded doc_id_mapping with 403666 entries\n"
     ]
    },
    {
     "name": "stderr",
     "output_type": "stream",
     "text": [
      "معالجة الاستعلامات:  19%|█▉        | 33/176 [01:40<06:55,  2.90s/استعلام]"
     ]
    },
    {
     "name": "stdout",
     "output_type": "stream",
     "text": [
      "Total documents in doc_data: 403666\n",
      "Sample doc_ids: ['2020338_0', '2020338_1', '2020338_2', '2020338_3', '2874684_0']\n",
      "Top indices: [173379 160713 380096 380088 322917]\n",
      "Selected document at doc_id 1573436_0, similarity: 0.5318958759307861, text: ['apple', 'pie']\n",
      "Selected document at doc_id 2198611_11, similarity: 0.5318957567214966, text: ['apple', 'pie']\n",
      "Selected document at doc_id 1060042_28, similarity: 0.4874526262283325, text: ['traditional', 'apple', 'pie']\n",
      "Selected document at doc_id 1060042_20, similarity: 0.48041900992393494, text: ['apple', 'pie', 'cinnamon', 'ice', 'cream']\n",
      "Selected document at doc_id 2981567_2, similarity: 0.4782611131668091, text: ['fruit', 'pie']\n",
      "Additional words from top 5 documents: traditional cinnamon ice cream\n",
      "🔍 Enhanced Query: how good is apple pie when it is cold? traditional cinnamon ice cream\n",
      "Top similarities: [0.50646764 0.50156534 0.4886092  0.48032987 0.44377586]\n",
      "Loaded doc_id_mapping with 403666 entries\n"
     ]
    },
    {
     "name": "stderr",
     "output_type": "stream",
     "text": [
      "معالجة الاستعلامات:  19%|█▉        | 34/176 [01:42<06:53,  2.91s/استعلام]"
     ]
    },
    {
     "name": "stdout",
     "output_type": "stream",
     "text": [
      "Total documents in doc_data: 403666\n",
      "Sample doc_ids: ['2020338_0', '2020338_1', '2020338_2', '2020338_3', '2874684_0']\n",
      "Top indices: [254514 245078 254513  71162 245079]\n",
      "Selected document at doc_id 2652261_7, similarity: 0.5064676403999329, text: ['arabs', 'dark', 'skin']\n",
      "Selected document at doc_id 3363149_4, similarity: 0.5015653371810913, text: ['yes', 'look', 'alike', 'forget', 'spanishfrench', 'italians', 'look', 'like', 'arabssimply', 'coz', 'arabs', 'occupy', 'countries', 'rule', 'centuries', 'ago']\n",
      "Selected document at doc_id 2652261_6, similarity: 0.4886091947555542, text: ['similar', 'colour', 'egyptians']\n",
      "Selected document at doc_id 3766120_6, similarity: 0.48032987117767334, text: ['arab', 'also']\n",
      "Selected document at doc_id 3363149_5, similarity: 0.44377586245536804, text: ['dont', 'mexicans', 'native', 'american', 'arabs', 'middle', 'eastern']\n",
      "Additional words from top 5 documents: dark skin yes forget\n",
      "🔍 Enhanced Query: Why do Arabs and Mexicans look alike? dark skin yes forget\n",
      "Top similarities: [0.50781614 0.4697922  0.44298685 0.43693316 0.42355907]\n",
      "Loaded doc_id_mapping with 403666 entries\n"
     ]
    },
    {
     "name": "stderr",
     "output_type": "stream",
     "text": [
      "معالجة الاستعلامات:  20%|█▉        | 35/176 [01:45<06:53,  2.93s/استعلام]"
     ]
    },
    {
     "name": "stdout",
     "output_type": "stream",
     "text": [
      "Total documents in doc_data: 403666\n",
      "Sample doc_ids: ['2020338_0', '2020338_1', '2020338_2', '2020338_3', '2874684_0']\n",
      "Top indices: [213462 372068 372069 299748 299750]\n",
      "Selected document at doc_id 1607303_13, similarity: 0.5078161358833313, text: ['teenagers']\n",
      "Selected document at doc_id 2841427_5, similarity: 0.4697921872138977, text: ['teenager']\n",
      "Selected document at doc_id 2841427_6, similarity: 0.4429868459701538, text: ['adolescent', 'teenager']\n",
      "Selected document at doc_id 1944018_23, similarity: 0.43693315982818604, text: ['think', 'teens', 'vote', 'come', 'teen']\n",
      "Selected document at doc_id 1944018_25, similarity: 0.4235590696334839, text: ['teens', 'vote', '1819', 'otherwise', 'teenagers', 'dont', 'realize', 'important', 'election', 'see', 'candidate', 'discuss', 'topics', 'young', 'teenagers', 'really', 'dont', 'understand', 'even', 'care', 'instance', 'candidate', 'currently', 'office', 'run', 'typically', 'claim', 'lower', 'tax', 'would', 'teens', 'know', 'go', 'wouldnt', 'dont', 'pay', 'bill', 'age', 'teen', 'typically', 'college', 'pay', 'tax', 'know', 'whether', 'not', 'candidate', 'indeed', 'tax', 'cut']\n",
      "Additional words from top 5 documents: teenager adolescent think teens\n",
      "🔍 Enhanced Query: Why can't teenagers vote? teenager adolescent think teens\n",
      "Top similarities: [0.56988657 0.5216508  0.5216508  0.5216508  0.5208578 ]\n",
      "Loaded doc_id_mapping with 403666 entries\n"
     ]
    },
    {
     "name": "stderr",
     "output_type": "stream",
     "text": [
      "معالجة الاستعلامات:  20%|██        | 36/176 [01:48<06:50,  2.93s/استعلام]"
     ]
    },
    {
     "name": "stdout",
     "output_type": "stream",
     "text": [
      "Total documents in doc_data: 403666\n",
      "Sample doc_ids: ['2020338_0', '2020338_1', '2020338_2', '2020338_3', '2874684_0']\n",
      "Top indices: [145986 260664 282883 209617 115749]\n",
      "Selected document at doc_id 2577358_6, similarity: 0.5698865652084351, text: ['bush', 'plan', '911']\n",
      "Selected document at doc_id 3439245_12, similarity: 0.5216507911682129, text: ['911']\n",
      "Selected document at doc_id 3487974_5, similarity: 0.5216507911682129, text: ['911']\n",
      "Selected document at doc_id 610726_0, similarity: 0.5216507911682129, text: ['911']\n",
      "Selected document at doc_id 2024458_1, similarity: 0.5208578109741211, text: ['blame', 'god', '911']\n",
      "Additional words from top 5 documents: plan blame god\n",
      "🔍 Enhanced Query: Why did the Bush Admin cover up 9/11? plan blame god\n",
      "Top similarities: [0.44369018 0.44369018 0.44369018 0.44369012 0.4197571 ]\n",
      "Loaded doc_id_mapping with 403666 entries\n"
     ]
    },
    {
     "name": "stderr",
     "output_type": "stream",
     "text": [
      "معالجة الاستعلامات:  21%|██        | 37/176 [01:51<06:46,  2.92s/استعلام]"
     ]
    },
    {
     "name": "stdout",
     "output_type": "stream",
     "text": [
      "Total documents in doc_data: 403666\n",
      "Sample doc_ids: ['2020338_0', '2020338_1', '2020338_2', '2020338_3', '2874684_0']\n",
      "Top indices: [138136  47500 282032 245337  75897]\n",
      "Selected document at doc_id 1316226_9, similarity: 0.4436901807785034, text: ['grill']\n",
      "Selected document at doc_id 1118550_5, similarity: 0.4436901807785034, text: ['grill']\n",
      "Selected document at doc_id 4292466_0, similarity: 0.4436901807785034, text: ['grill']\n",
      "Selected document at doc_id 3397628_1, similarity: 0.44369012117385864, text: ['grill']\n",
      "Selected document at doc_id 3440670_11, similarity: 0.41975709795951843, text: ['grill', 'gon', 'barbeque']\n",
      "Additional words from top 5 documents: gon barbeque\n",
      "🔍 Enhanced Query: How do I keep black birds out of my bar-b-que grill? gon barbeque\n",
      "Top similarities: [0.42631382 0.41424033 0.40484238 0.38901895 0.379244  ]\n",
      "Loaded doc_id_mapping with 403666 entries\n"
     ]
    },
    {
     "name": "stderr",
     "output_type": "stream",
     "text": [
      "معالجة الاستعلامات:  22%|██▏       | 38/176 [01:54<06:42,  2.92s/استعلام]"
     ]
    },
    {
     "name": "stdout",
     "output_type": "stream",
     "text": [
      "Total documents in doc_data: 403666\n",
      "Sample doc_ids: ['2020338_0', '2020338_1', '2020338_2', '2020338_3', '2874684_0']\n",
      "Top indices: [203871  10790 233857 225631 387294]\n",
      "Selected document at doc_id 3690120_0, similarity: 0.4263138175010681, text: ['local', 'court', 'probate', 'know']\n",
      "Selected document at doc_id 3064288_1, similarity: 0.4142403304576874, text: ['contact', 'agent', 'insurance', 'company']\n",
      "Selected document at doc_id 3345482_4, similarity: 0.4048423767089844, text: ['find', 'lawyer']\n",
      "Additional words from top 5 documents: local court probate know\n",
      "🔍 Enhanced Query: how do i find out if someone left me a life insurance policy? local court probate know\n",
      "Top similarities: [0.4191696  0.41724584 0.40825015 0.3982569  0.39244515]\n",
      "Loaded doc_id_mapping with 403666 entries\n"
     ]
    },
    {
     "name": "stderr",
     "output_type": "stream",
     "text": [
      "معالجة الاستعلامات:  22%|██▏       | 39/176 [01:57<06:35,  2.89s/استعلام]"
     ]
    },
    {
     "name": "stdout",
     "output_type": "stream",
     "text": [
      "Total documents in doc_data: 403666\n",
      "Sample doc_ids: ['2020338_0', '2020338_1', '2020338_2', '2020338_3', '2874684_0']\n",
      "Top indices: [ 97542  43299 239578 147763 181081]\n",
      "Selected document at doc_id 1276528_3, similarity: 0.4191696047782898, text: ['name', 'chef', 'show', 'gilmore', 'girls']\n",
      "Selected document at doc_id 826194_2, similarity: 0.4172458350658417, text: ['ohh', 'chandler', 'friends']\n",
      "Selected document at doc_id 2584082_5, similarity: 0.4082501530647278, text: ['watch', 'gordon', 'ramsay', 'last', 'night', 'heres', 'one', 'recipe', 'httpwwwbbccoukfoodrecipesdatabaselancashirehotpot_84591shtml']\n",
      "Additional words from top 5 documents: name chef show gilmore\n",
      "🔍 Enhanced Query: Why is Gordon Ramsey so popular? name chef show gilmore\n",
      "Top similarities: [0.57842296 0.5165197  0.51648843 0.4927194  0.4859237 ]\n",
      "Loaded doc_id_mapping with 403666 entries\n"
     ]
    },
    {
     "name": "stderr",
     "output_type": "stream",
     "text": [
      "معالجة الاستعلامات:  23%|██▎       | 40/176 [02:00<06:36,  2.92s/استعلام]"
     ]
    },
    {
     "name": "stdout",
     "output_type": "stream",
     "text": [
      "Total documents in doc_data: 403666\n",
      "Sample doc_ids: ['2020338_0', '2020338_1', '2020338_2', '2020338_3', '2874684_0']\n",
      "Top indices: [311216 246327 246322 284598 393628]\n",
      "Selected document at doc_id 577077_0, similarity: 0.5784229636192322, text: ['heat', 'rise']\n",
      "Selected document at doc_id 451864_21, similarity: 0.5165197253227234, text: ['heat', 'rise', 'top']\n",
      "Selected document at doc_id 451864_16, similarity: 0.5164884328842163, text: ['smoke', 'heat', 'rise']\n",
      "Selected document at doc_id 1196555_0, similarity: 0.4927194118499756, text: ['possibly', 'heat', 'rise']\n",
      "Selected document at doc_id 989850_11, similarity: 0.485923707485199, text: ['hot', 'air', 'rise', 'cold', 'air', 'sink']\n",
      "Additional words from top 5 documents: heat top smoke possibly\n",
      "🔍 Enhanced Query: Why hot air rises up? heat top smoke possibly\n",
      "Top similarities: [0.4945193  0.43647403 0.4243886  0.40420964 0.39806622]\n",
      "Loaded doc_id_mapping with 403666 entries\n"
     ]
    },
    {
     "name": "stderr",
     "output_type": "stream",
     "text": [
      "معالجة الاستعلامات:  23%|██▎       | 41/176 [02:03<06:31,  2.90s/استعلام]"
     ]
    },
    {
     "name": "stdout",
     "output_type": "stream",
     "text": [
      "Total documents in doc_data: 403666\n",
      "Sample doc_ids: ['2020338_0', '2020338_1', '2020338_2', '2020338_3', '2874684_0']\n",
      "Top indices: [302707 401753 302702  24806  69108]\n",
      "Selected document at doc_id 4256593_5, similarity: 0.49451929330825806, text: ['vx8300s', 'dont', 'sim', 'card', 'vzw', 'sim', 'card', 'global', 'phone']\n",
      "Selected document at doc_id 389316_4, similarity: 0.4364740252494812, text: ['unplug', 'phone']\n",
      "Selected document at doc_id 4256593_0, similarity: 0.424388587474823, text: ['vx8300', 'cell', 'phone', 'cdma', 'phone', 'offer', 'verizon', 'cdma', 'phone', 'not', 'use', 'sim', 'card', 'gsm', 'phone', 'use', 'sim', 'card']\n",
      "Selected document at doc_id 1521110_0, similarity: 0.4042096436023712, text: ['sim', 'subscriber', 'identification', 'modlue', 'type', 'smart', 'card', 'store', 'detail', 'service', 'provider', 'well', 'number', 'detail', 'require', 'sim', 'also', 'extra', 'space', 'store', 'user', 'data', 'like', 'phone', 'sms']\n",
      "Additional words from top 5 documents: vx8300s dont sim vzw\n",
      "🔍 Enhanced Query: How do I remove the SIMM card on a LG VX8300 Cell Phone? vx8300s dont sim vzw\n",
      "Top similarities: [0.55883324 0.5499477  0.5362816  0.53433794 0.51727504]\n",
      "Loaded doc_id_mapping with 403666 entries\n"
     ]
    },
    {
     "name": "stderr",
     "output_type": "stream",
     "text": [
      "معالجة الاستعلامات:  24%|██▍       | 42/176 [02:06<06:29,  2.90s/استعلام]"
     ]
    },
    {
     "name": "stdout",
     "output_type": "stream",
     "text": [
      "Total documents in doc_data: 403666\n",
      "Sample doc_ids: ['2020338_0', '2020338_1', '2020338_2', '2020338_3', '2874684_0']\n",
      "Top indices: [ 54157 350658 150147 350660  55900]\n",
      "Selected document at doc_id 675953_8, similarity: 0.5588332414627075, text: ['origin', 'india', 'bharata', 'bha', 'bhava', 'emotion', 'raga', 'melody', 'tala', 'rhythm']\n",
      "Selected document at doc_id 1017690_0, similarity: 0.5499476790428162, text: ['history', 'indian', 'music', 'acient', 'indian', 'histery']\n",
      "Selected document at doc_id 3014981_7, similarity: 0.5362815856933594, text: ['indian', 'origin']\n",
      "Selected document at doc_id 1017690_2, similarity: 0.5343379378318787, text: ['indian', 'music', 'start', 'wid', 'bharat', 'treatisein', '15th', 'century']\n",
      "Selected document at doc_id 1176743_2, similarity: 0.5172750353813171, text: ['indians', 'rain', 'dance']\n",
      "Additional words from top 5 documents: origin india bharata bha\n",
      "🔍 Enhanced Query: what is the history of indian music? origin india bharata bha\n",
      "Top similarities: [0.3921392 0.3879114 0.3671432 0.3671432 0.3604015]\n",
      "Loaded doc_id_mapping with 403666 entries\n"
     ]
    },
    {
     "name": "stderr",
     "output_type": "stream",
     "text": [
      "معالجة الاستعلامات:  24%|██▍       | 43/176 [02:09<06:36,  2.98s/استعلام]"
     ]
    },
    {
     "name": "stdout",
     "output_type": "stream",
     "text": [
      "Total documents in doc_data: 403666\n",
      "Sample doc_ids: ['2020338_0', '2020338_1', '2020338_2', '2020338_3', '2874684_0']\n",
      "Top indices: [270213     62 398263 212581 125657]\n",
      "No similar documents found for antique with sufficient similarity\n",
      "Top similarities: [0.6301261 0.5497413 0.5419917 0.5419917 0.5419917]\n",
      "Loaded doc_id_mapping with 403666 entries\n"
     ]
    },
    {
     "name": "stderr",
     "output_type": "stream",
     "text": [
      "معالجة الاستعلامات:  25%|██▌       | 44/176 [02:12<06:36,  3.00s/استعلام]"
     ]
    },
    {
     "name": "stdout",
     "output_type": "stream",
     "text": [
      "Total documents in doc_data: 403666\n",
      "Sample doc_ids: ['2020338_0', '2020338_1', '2020338_2', '2020338_3', '2874684_0']\n",
      "Top indices: [180310 190821  18190 292133  98658]\n",
      "Selected document at doc_id 1846078_1, similarity: 0.6301261186599731, text: ['freedom', 'religion']\n",
      "Selected document at doc_id 2418572_31, similarity: 0.5497413277626038, text: ['freedom', 'speech', 'expression', 'religion']\n",
      "Selected document at doc_id 4141396_10, similarity: 0.5419917106628418, text: ['freedom', 'speech']\n",
      "Selected document at doc_id 3149170_6, similarity: 0.5419917106628418, text: ['freedom', 'speech']\n",
      "Selected document at doc_id 1782300_4, similarity: 0.5419917106628418, text: ['freedom', 'speech']\n",
      "Additional words from top 5 documents: religion speech expression\n",
      "🔍 Enhanced Query: Why is religious freedom more important today? religion speech expression\n",
      "Top similarities: [0.59291553 0.582073   0.5779599  0.57288426 0.56999683]\n",
      "Loaded doc_id_mapping with 403666 entries\n"
     ]
    },
    {
     "name": "stderr",
     "output_type": "stream",
     "text": [
      "معالجة الاستعلامات:  26%|██▌       | 45/176 [02:15<06:39,  3.05s/استعلام]"
     ]
    },
    {
     "name": "stdout",
     "output_type": "stream",
     "text": [
      "Total documents in doc_data: 403666\n",
      "Sample doc_ids: ['2020338_0', '2020338_1', '2020338_2', '2020338_3', '2874684_0']\n",
      "Top indices: [ 69258  77119 315293  98494 385481]\n",
      "Selected document at doc_id 2255094_4, similarity: 0.5929155349731445, text: ['loan', 'give', 'present', 'take', 'away', 'future']\n",
      "Selected document at doc_id 68860_1, similarity: 0.5820729732513428, text: ['borrow', 'money', 'persons', 'computer', 'borrow']\n",
      "Selected document at doc_id 4300721_2, similarity: 0.5779598951339722, text: ['semivowels', 'act', 'vowel', 'consonent', 'depend', 'usage']\n",
      "Selected document at doc_id 1252765_1, similarity: 0.5728842616081238, text: ['base', 'phonetic', 'sound']\n",
      "Selected document at doc_id 1086547_7, similarity: 0.5699968338012695, text: ['word', 'read', 'forward', 'reverse', 'pronounce']\n",
      "Additional words from top 5 documents: loan give present take\n",
      "🔍 Enhanced Query: what is direct borrowing, phonological borrowing, linguistic borrowing, cultural borrowing,intimate borrowing? loan give present take\n",
      "Top similarities: [0.45305145 0.43451738 0.4345173  0.4266941  0.42326683]\n",
      "Loaded doc_id_mapping with 403666 entries\n"
     ]
    },
    {
     "name": "stderr",
     "output_type": "stream",
     "text": [
      "معالجة الاستعلامات:  26%|██▌       | 46/176 [02:18<06:35,  3.04s/استعلام]"
     ]
    },
    {
     "name": "stdout",
     "output_type": "stream",
     "text": [
      "Total documents in doc_data: 403666\n",
      "Sample doc_ids: ['2020338_0', '2020338_1', '2020338_2', '2020338_3', '2874684_0']\n",
      "Top indices: [138903 376184 204055 203961  64909]\n",
      "Selected document at doc_id 2899477_0, similarity: 0.45305144786834717, text: ['aircraft']\n",
      "Selected document at doc_id 1535955_4, similarity: 0.43451738357543945, text: ['higher', 'altitude']\n",
      "Selected document at doc_id 4223464_3, similarity: 0.4345172941684723, text: ['higher', 'altitude']\n",
      "Selected document at doc_id 2155903_4, similarity: 0.4266940951347351, text: ['airplanes', 'expensive']\n",
      "Selected document at doc_id 2010711_11, similarity: 0.42326682806015015, text: ['fly', 'plane']\n",
      "Additional words from top 5 documents: aircraft higher altitude expensive\n",
      "🔍 Enhanced Query: Why do airplanes fly so high? aircraft higher altitude expensive\n",
      "Top similarities: [0.47160298 0.38924313 0.379376   0.37746722 0.37131077]\n",
      "Loaded doc_id_mapping with 403666 entries\n"
     ]
    },
    {
     "name": "stderr",
     "output_type": "stream",
     "text": [
      "معالجة الاستعلامات:  27%|██▋       | 47/176 [02:21<06:29,  3.02s/استعلام]"
     ]
    },
    {
     "name": "stdout",
     "output_type": "stream",
     "text": [
      "Total documents in doc_data: 403666\n",
      "Sample doc_ids: ['2020338_0', '2020338_1', '2020338_2', '2020338_3', '2874684_0']\n",
      "Top indices: [174065 250229  76474  47843 273636]\n",
      "Selected document at doc_id 1664423_2, similarity: 0.4716029763221741, text: ['heat', 'earth']\n",
      "Additional words from top 5 documents: \n",
      "No new words to add to query for antique\n",
      "Top similarities: [0.60031545 0.5933209  0.57980984 0.5768137  0.57310826]\n",
      "Loaded doc_id_mapping with 403666 entries\n"
     ]
    },
    {
     "name": "stderr",
     "output_type": "stream",
     "text": [
      "معالجة الاستعلامات:  27%|██▋       | 48/176 [02:24<06:23,  3.00s/استعلام]"
     ]
    },
    {
     "name": "stdout",
     "output_type": "stream",
     "text": [
      "Total documents in doc_data: 403666\n",
      "Sample doc_ids: ['2020338_0', '2020338_1', '2020338_2', '2020338_3', '2874684_0']\n",
      "Top indices: [138410 270029 125358 274516 259845]\n",
      "Selected document at doc_id 3501978_10, similarity: 0.6003154516220093, text: ['salad', 'chop', 'veg']\n",
      "Selected document at doc_id 398865_11, similarity: 0.593320906162262, text: ['pork', 'sausage', 'chop', 'oniontaste', 'great']\n",
      "Selected document at doc_id 1663828_0, similarity: 0.579809844493866, text: ['slowroasted', 'leg', 'pork', 'spicy', 'scratchings', 'ingredients', 'leg', 'shoulder', 'pork', 'tbl', 'fennel', 'seed', 'tbl', 'coriander', 'seed', 'pch', 'dry', 'chili', 'maldon', 'sea', 'salt', 'freshly', 'grind', 'black', 'pepper', 'extra', 'virgin', 'olive', 'oil', 'bulb', 'garlic', 'skin', 'leave', 'cloves', 'good', 'handful', 'fresh', 'sage', 'good', 'handful', 'fresh', 'rosemary', 'method', 'ask', 'butcher', 'remove', 'skin', 'bone', 'leg', 'pork', 'make', 'scratchings', 'cut', 'skin', 'two', 'piece', 'score', 'incisions', 'piece', 'pestle', 'mortar', 'crush', 'half', 'fennel', 'seed', 'half', 'coriander', 'seed', 'chilli', 'pinch', 'salt', 'sprinkle', 'spice', 'mix', 'top', 'finish', 'another', 'good', 'pinch', 'salt', 'pour', 'little', 'olive', 'oil', 'pork', 'skin', 'bake', 'oven', 'rack', 'tray', 'catch', 'fat', '220', 'degrees', '425', 'degrees', 'gas', 'crispy', 'make', 'criss', 'cross', 'incisions', 'pork', 'side', 'crush', 'remain', 'fennel', 'coriander', 'seed', 'another', 'good', 'pinch', 'salt', 'sprinkle', 'side', 'pork', 'finish', 'grind', 'black', 'pepper', 'place', 'pork', 'garlic', 'cloves', 'roast', 'tray', 'cover', 'good', 'lug', 'olive', 'oil', 'place', 'sage', 'rosemary', 'pestle', 'mortar', 'gently', 'crush', 'together', 'lightly', 'bruise', 'release', 'flavour', 'add', 'tablespoons', 'olive', 'oil', 'squeeze', 'flavour', 'oil', 'pork', 'rub', 'herbs', 'cook', 'oven', '200', 'degrees', '400', 'degrees', 'gas', 'hours', 'leftovers', 'great', 'use', 'sandwich', 'next', 'day']\n",
      "Selected document at doc_id 709137_1, similarity: 0.5768136978149414, text: ['pork', 'vindaloo', 'recipe', 'ingredients', 'pork', 'fillet', 'cup', 'cook', 'oil', 'teaspoons', 'brown', 'mustard', 'seed', 'cup', 'water', 'vindaloo', 'paste', 'tablespoons', 'grate', 'fresh', 'ginger', 'cloves', 'garlic', 'chop', 'red', 'chilies', 'chop', 'teaspoons', 'grind', 'turmeric', 'teaspoons', 'grind', 'cardamom', 'whole', 'cloves', 'peppercorns', 'teaspoon', 'grind', 'cinnamon', 'tablespoon', 'grind', 'coriander', 'tablespoon', 'cumin', 'seed', 'cup', 'lemon', 'juice', 'method', 'make', 'vindaloo', 'paste', 'place', 'ginger', 'garlic', 'chili', 'turmeric', 'cardamom', 'cloves', 'peppercorns', 'cinnamon', 'coriander', 'cumin', 'seed', 'lemon', 'juice', 'food', 'processor', 'process', 'second', 'ingredients', 'combine', 'mixture', 'quite', 'smooth', 'trim', 'pork', 'excess', 'fat', 'sinew', 'cut', 'cub', 'heat', 'oil', 'heavybased', 'pan', 'add', 'meat', 'small', 'batch', 'cook', 'quickly', 'medium', 'heat', 'brown', 'return', 'meat', 'pan', 'add', 'vindaloo', 'paste', 'mustard', 'seed', 'cook', 'stir', 'minutes', 'add', 'water', 'bring', 'boil', 'reduce', 'heat', 'simmer', 'cover', 'hours', 'meat', 'tender', 'serve', 'rice', 'pappadums', 'note', 'vindaloo', 'paste', 'make', 'ahead', 'time', 'store', 'airtight', 'container', 'refrigerator', 'readmade', 'vindaloo', 'paste', 'available', 'supermarkets']\n",
      "Selected document at doc_id 1479785_1, similarity: 0.5731082558631897, text: ['ham', 'turkey', 'cheese', 'julienne', 'strip', 'lettuce', 'varieties', 'slice', 'boil', 'egg', 'julienne', 'carrots', 'chop', 'onion', 'radish']\n",
      "Additional words from top 5 documents: salad veg sausage oniontaste\n",
      "🔍 Enhanced Query: we have pork chops, veal chops, lamb chops, why is there not any beef chops ? salad veg sausage oniontaste\n",
      "Top similarities: [0.5167399  0.45811027 0.4494241  0.44593504 0.4223988 ]\n",
      "Loaded doc_id_mapping with 403666 entries\n"
     ]
    },
    {
     "name": "stderr",
     "output_type": "stream",
     "text": [
      "معالجة الاستعلامات:  28%|██▊       | 49/176 [02:27<06:17,  2.98s/استعلام]"
     ]
    },
    {
     "name": "stdout",
     "output_type": "stream",
     "text": [
      "Total documents in doc_data: 403666\n",
      "Sample doc_ids: ['2020338_0', '2020338_1', '2020338_2', '2020338_3', '2874684_0']\n",
      "Top indices: [399978  92494 352955 321728 133767]\n",
      "Selected document at doc_id 1388368_2, similarity: 0.5167399048805237, text: ['library', 'research']\n",
      "Selected document at doc_id 2308266_1, similarity: 0.4581102728843689, text: ['library', 'campus']\n",
      "Selected document at doc_id 3180051_5, similarity: 0.4494240880012512, text: ['contact', 'local', 'college', 'help']\n",
      "Selected document at doc_id 1092058_2, similarity: 0.44593504071235657, text: ['online', 'bookstore']\n",
      "Selected document at doc_id 2673119_4, similarity: 0.42239880561828613, text: ['librarian', 'college']\n",
      "Additional words from top 5 documents: research campus contact local\n",
      "🔍 Enhanced Query: how is the library consider as a heart of university? research campus contact local\n",
      "Top similarities: [0.5589129  0.5589129  0.5589129  0.5023713  0.45316398]\n",
      "Loaded doc_id_mapping with 403666 entries\n"
     ]
    },
    {
     "name": "stderr",
     "output_type": "stream",
     "text": [
      "معالجة الاستعلامات:  28%|██▊       | 50/176 [02:30<06:10,  2.94s/استعلام]"
     ]
    },
    {
     "name": "stdout",
     "output_type": "stream",
     "text": [
      "Total documents in doc_data: 403666\n",
      "Sample doc_ids: ['2020338_0', '2020338_1', '2020338_2', '2020338_3', '2874684_0']\n",
      "Top indices: [403138 179397  96034  59460 325937]\n",
      "Selected document at doc_id 152846_3, similarity: 0.5589128732681274, text: ['clone']\n",
      "Selected document at doc_id 2609953_22, similarity: 0.5589128732681274, text: ['clone']\n",
      "Selected document at doc_id 2030149_1, similarity: 0.5589128732681274, text: ['clone']\n",
      "Selected document at doc_id 3260467_6, similarity: 0.5023713111877441, text: ['agree', 'clone']\n",
      "Selected document at doc_id 393159_1, similarity: 0.4531639814376831, text: ['copycats']\n",
      "Additional words from top 5 documents: agree copycats\n",
      "🔍 Enhanced Query: how cloning will affects our community? agree copycats\n",
      "Top similarities: [0.49036315 0.46570307 0.45915252 0.45379215 0.45264983]\n",
      "Loaded doc_id_mapping with 403666 entries\n"
     ]
    },
    {
     "name": "stderr",
     "output_type": "stream",
     "text": [
      "معالجة الاستعلامات:  29%|██▉       | 51/176 [02:33<06:06,  2.94s/استعلام]"
     ]
    },
    {
     "name": "stdout",
     "output_type": "stream",
     "text": [
      "Total documents in doc_data: 403666\n",
      "Sample doc_ids: ['2020338_0', '2020338_1', '2020338_2', '2020338_3', '2874684_0']\n",
      "Top indices: [286283 211091  30114  60384 107153]\n",
      "Selected document at doc_id 782453_29, similarity: 0.49036315083503723, text: ['easter', 'basket']\n",
      "Selected document at doc_id 2942077_1, similarity: 0.4657030701637268, text: ['easter']\n",
      "Selected document at doc_id 1994147_2, similarity: 0.4591525197029114, text: ['sugar', 'sugar', 'sugar']\n",
      "Selected document at doc_id 1731892_6, similarity: 0.45379215478897095, text: ['chocolate', 'frostingheaven']\n",
      "Selected document at doc_id 1324615_5, similarity: 0.4526498317718506, text: ['ketchup', 'sugar']\n",
      "Additional words from top 5 documents: basket frostingheaven ketchup\n",
      "🔍 Enhanced Query: Why do people feed poison (sugar) to their kids on Easter, and why are there no chocolate Jesuses? basket frostingheaven ketchup\n",
      "Top similarities: [0.61067075 0.61067075 0.61067075 0.61067075 0.61067075]\n",
      "Loaded doc_id_mapping with 403666 entries\n"
     ]
    },
    {
     "name": "stderr",
     "output_type": "stream",
     "text": [
      "معالجة الاستعلامات:  30%|██▉       | 52/176 [02:36<06:00,  2.91s/استعلام]"
     ]
    },
    {
     "name": "stdout",
     "output_type": "stream",
     "text": [
      "Total documents in doc_data: 403666\n",
      "Sample doc_ids: ['2020338_0', '2020338_1', '2020338_2', '2020338_3', '2874684_0']\n",
      "Top indices: [ 74230  63949 188815 342644  74229]\n",
      "Selected document at doc_id 1234678_3, similarity: 0.6106707453727722, text: ['sun']\n",
      "Selected document at doc_id 2907630_9, similarity: 0.6106707453727722, text: ['sun']\n",
      "Selected document at doc_id 1429684_6, similarity: 0.6106707453727722, text: ['sun']\n",
      "Selected document at doc_id 3295055_3, similarity: 0.6106707453727722, text: ['sun']\n",
      "Selected document at doc_id 1234678_2, similarity: 0.6106707453727722, text: ['sun']\n",
      "Additional words from top 5 documents: \n",
      "No new words to add to query for antique\n",
      "Top similarities: [0.37667924 0.37667924 0.37667915 0.3704861  0.37048605]\n",
      "Loaded doc_id_mapping with 403666 entries\n"
     ]
    },
    {
     "name": "stderr",
     "output_type": "stream",
     "text": [
      "معالجة الاستعلامات:  30%|███       | 53/176 [02:39<05:57,  2.90s/استعلام]"
     ]
    },
    {
     "name": "stdout",
     "output_type": "stream",
     "text": [
      "Total documents in doc_data: 403666\n",
      "Sample doc_ids: ['2020338_0', '2020338_1', '2020338_2', '2020338_3', '2874684_0']\n",
      "Top indices: [  2279  58315 320862 254382 170863]\n",
      "No similar documents found for antique with sufficient similarity\n",
      "Top similarities: [0.5045284  0.47960165 0.47960165 0.47960165 0.4691865 ]\n",
      "Loaded doc_id_mapping with 403666 entries\n"
     ]
    },
    {
     "name": "stderr",
     "output_type": "stream",
     "text": [
      "معالجة الاستعلامات:  31%|███       | 54/176 [02:41<05:53,  2.90s/استعلام]"
     ]
    },
    {
     "name": "stdout",
     "output_type": "stream",
     "text": [
      "Total documents in doc_data: 403666\n",
      "Sample doc_ids: ['2020338_0', '2020338_1', '2020338_2', '2020338_3', '2874684_0']\n",
      "Top indices: [279831 354996 211767  51519 214353]\n",
      "Selected document at doc_id 2383241_10, similarity: 0.5045284032821655, text: ['manic', 'depression', 'university']\n",
      "Selected document at doc_id 1572371_0, similarity: 0.47960165143013, text: ['depress']\n",
      "Selected document at doc_id 1811623_16, similarity: 0.47960165143013, text: ['depress']\n",
      "Selected document at doc_id 785804_2, similarity: 0.47960165143013, text: ['depress']\n",
      "Selected document at doc_id 975932_14, similarity: 0.4691865146160126, text: ['depress', 'unemployed']\n",
      "Additional words from top 5 documents: manic depression university unemployed\n",
      "🔍 Enhanced Query: Why is switching schools so depressing? manic depression university unemployed\n",
      "Top similarities: [0.6508744  0.55918837 0.548966   0.54617184 0.5408079 ]\n",
      "Loaded doc_id_mapping with 403666 entries\n"
     ]
    },
    {
     "name": "stderr",
     "output_type": "stream",
     "text": [
      "معالجة الاستعلامات:  31%|███▏      | 55/176 [02:44<05:48,  2.88s/استعلام]"
     ]
    },
    {
     "name": "stdout",
     "output_type": "stream",
     "text": [
      "Total documents in doc_data: 403666\n",
      "Sample doc_ids: ['2020338_0', '2020338_1', '2020338_2', '2020338_3', '2874684_0']\n",
      "Top indices: [191408 203327 270875 153352 232370]\n",
      "Selected document at doc_id 3251870_3, similarity: 0.6508743762969971, text: ['277', 'regular']\n",
      "Selected document at doc_id 375444_40, similarity: 0.5591883659362793, text: ['2096', '296']\n",
      "Selected document at doc_id 2538279_0, similarity: 0.5489659905433655, text: ['254']\n",
      "Selected document at doc_id 1940317_1, similarity: 0.5461718440055847, text: ['227', '314']\n",
      "Selected document at doc_id 364275_5, similarity: 0.5408079028129578, text: ['332', '253']\n",
      "Additional words from top 5 documents: regular 2096 296 254\n",
      "🔍 Enhanced Query: how to get 277 V AC ? regular 2096 296 254\n",
      "Top similarities: [0.5573359  0.5145608  0.48909947 0.4845791  0.479416  ]\n",
      "Loaded doc_id_mapping with 403666 entries\n"
     ]
    },
    {
     "name": "stderr",
     "output_type": "stream",
     "text": [
      "معالجة الاستعلامات:  32%|███▏      | 56/176 [02:47<05:44,  2.87s/استعلام]"
     ]
    },
    {
     "name": "stdout",
     "output_type": "stream",
     "text": [
      "Total documents in doc_data: 403666\n",
      "Sample doc_ids: ['2020338_0', '2020338_1', '2020338_2', '2020338_3', '2874684_0']\n",
      "Top indices: [177124  42816 151346 229584 107067]\n",
      "Selected document at doc_id 1724458_10, similarity: 0.5573359131813049, text: ['heat', 'hand']\n",
      "Selected document at doc_id 4377861_0, similarity: 0.5145608186721802, text: ['hand', 'sew', 'sequins', 'youll', 'need', 'tiny', 'bead', 'come', 'center', 'sequin', 'bead', 'back', 'center', 'sequin', 'bead', 'must', 'large', 'enough', 'hold', 'sequin', 'not', 'large', 'detract', 'look', 'sequin']\n",
      "Selected document at doc_id 1317820_6, similarity: 0.4890994727611542, text: ['hand', 'easter', 'mint']\n",
      "Selected document at doc_id 4110037_1, similarity: 0.48457908630371094, text: ['eyelids', 'stitch', 'eyebrows']\n",
      "Selected document at doc_id 2777055_6, similarity: 0.47941601276397705, text: ['hand', 'feet']\n",
      "Additional words from top 5 documents: heat hand sew youll\n",
      "🔍 Enhanced Query: how to handsew sequins? heat hand sew youll\n",
      "Top similarities: [0.44132566 0.42745936 0.42325062 0.4188602  0.41659558]\n",
      "Loaded doc_id_mapping with 403666 entries\n"
     ]
    },
    {
     "name": "stderr",
     "output_type": "stream",
     "text": [
      "معالجة الاستعلامات:  32%|███▏      | 57/176 [02:50<05:42,  2.88s/استعلام]"
     ]
    },
    {
     "name": "stdout",
     "output_type": "stream",
     "text": [
      "Total documents in doc_data: 403666\n",
      "Sample doc_ids: ['2020338_0', '2020338_1', '2020338_2', '2020338_3', '2874684_0']\n",
      "Top indices: [156507  59914 250788  87198 395224]\n",
      "Selected document at doc_id 542123_2, similarity: 0.44132566452026367, text: ['coke', 'good', 'pepsi', 'not']\n",
      "Selected document at doc_id 264820_21, similarity: 0.42745935916900635, text: ['coke', 'pepsi']\n",
      "Selected document at doc_id 4008613_5, similarity: 0.42325061559677124, text: ['coke', 'red', 'pepsi', 'blue']\n",
      "Selected document at doc_id 3385681_3, similarity: 0.41886019706726074, text: ['cigarettes', 'beers', 'popular']\n",
      "Selected document at doc_id 2649965_6, similarity: 0.41659557819366455, text: ['drink', 'beer', 'stereotype']\n",
      "Additional words from top 5 documents: coke good pepsi not\n",
      "🔍 Enhanced Query: if red bull is soo bad for people ,then why is it soo popular? coke good pepsi not\n",
      "Top similarities: [0.53911144 0.4917785  0.46223944 0.4590354  0.446545  ]\n",
      "Loaded doc_id_mapping with 403666 entries\n"
     ]
    },
    {
     "name": "stderr",
     "output_type": "stream",
     "text": [
      "معالجة الاستعلامات:  33%|███▎      | 58/176 [02:53<05:41,  2.89s/استعلام]"
     ]
    },
    {
     "name": "stdout",
     "output_type": "stream",
     "text": [
      "Total documents in doc_data: 403666\n",
      "Sample doc_ids: ['2020338_0', '2020338_1', '2020338_2', '2020338_3', '2874684_0']\n",
      "Top indices: [229571 113215 304567  20270 186170]\n",
      "Selected document at doc_id 3740539_1, similarity: 0.5391114354133606, text: ['acne', 'scar', 'treatment', 'httpacnescartipsblogspotcom']\n",
      "Selected document at doc_id 1084481_1, similarity: 0.49177849292755127, text: ['strechmarks_look_alot_lighter_than_your_skin_it_looks_as_if', 'your_skin_is_spreading_apart_but_to_keep_from_getting_strechmarks_use_coc_butter_or_shea_butter_daily']\n",
      "Selected document at doc_id 1794677_2, similarity: 0.46223944425582886, text: ['two', 'type', 'acne', 'scar', 'first', 'one', 'cause', 'increase', 'tissue', 'formation', 'second', 'type', 'acne', 'scar', 'cause', 'loss', 'tissue', 'acne', 'scar', 'cause', 'increase', 'tissue', 'formation', 'hypertrophic', 'scar', 'associate', 'excessive', 'amount', 'collagen', 'overproduction', 'collagen', 'associate', 'injury', 'skin', 'direct', 'response', 'skin', 'injury', 'excessive', 'collagen', 'form', 'fibrous', 'mass', 'result', 'typical', 'acne', 'scar', 'drug', 'recommend', 'many', 'dermatologists', 'worst', 'case', 'acne', 'scar', 'accutane', 'wonder', 'drug', '21st', 'century', 'prevent', 'acne', 'scar', 'acne', 'sufferers', 'accutane', 'controversial', 'drug', 'use', 'cause', 'birth', 'defect', 'doctor', 'caution', 'always', 'check', 'whether', 'youre', 'pregnant', 'liable', 'pregnant', 'commence', 'course']\n",
      "Selected document at doc_id 4115967_0, similarity: 0.45903539657592773, text: ['try', 'hydrocortisone', 'cream']\n",
      "Selected document at doc_id 2077504_5, similarity: 0.4465450048446655, text: ['scar', 'fix']\n",
      "Additional words from top 5 documents: treatment httpacnescartipsblogspotcom strechmarks_look_alot_lighter_than_your_skin_it_looks_as_if your_skin_is_spreading_apart_but_to_keep_from_getting_strechmarks_use_coc_butter_or_shea_butter_daily\n",
      "🔍 Enhanced Query: How can I treat my Acne Scars? treatment httpacnescartipsblogspotcom strechmarks_look_alot_lighter_than_your_skin_it_looks_as_if your_skin_is_spreading_apart_but_to_keep_from_getting_strechmarks_use_coc_butter_or_shea_butter_daily\n",
      "Top similarities: [0.44761717 0.40230715 0.39121342 0.38960326 0.38667926]\n",
      "Loaded doc_id_mapping with 403666 entries\n"
     ]
    },
    {
     "name": "stderr",
     "output_type": "stream",
     "text": [
      "معالجة الاستعلامات:  34%|███▎      | 59/176 [02:56<05:39,  2.90s/استعلام]"
     ]
    },
    {
     "name": "stdout",
     "output_type": "stream",
     "text": [
      "Total documents in doc_data: 403666\n",
      "Sample doc_ids: ['2020338_0', '2020338_1', '2020338_2', '2020338_3', '2874684_0']\n",
      "Top indices: [380709 109641 392851 223683 389337]\n",
      "Selected document at doc_id 3301173_0, similarity: 0.44761717319488525, text: ['province', 'regulations', 'lot', 'base', 'american', 'standards', 'ashpahlts', 'rigid', 'pavements', 'crust', 'surface', 'course', 'actually', 'one', 'several', 'layer', 'asphalt', 'aggregate', 'make', 'roadway', 'thichness', 'layer', 'depedent', 'upon', 'underlie', 'soil', 'condition', 'highway', 'face', 'use', 'high', 'way', 'include', 'amount', 'traffic', 'especially', 'truck', 'traffic', 'damage', 'road', 'surface', 'data', 'convert', 'esal', 'equivalent', 'single', 'axle', 'load', 'thicknesses', 'various', 'layer', 'look', 'series', 'table']\n",
      "Selected document at doc_id 2263048_0, similarity: 0.4023071527481079, text: ['due', 'extremes', 'temperatures', 'asphalt', 'go', 'daily', 'basis', 'sun', 'heat', 'road', 'asphalt', 'expand', 'create', 'stretchmarks', 'temperature', 'drop', 'asphalt', 'contract', 'close', 'gap', 'roads', 'design', 'certain', 'point', 'construction', 'not', 'whole', 'road', 'break', 'huge', 'section', 'youll', 'need', '4x4', 'get', 'youre', 'go']\n",
      "Additional words from top 5 documents: province regulations lot base\n",
      "🔍 Enhanced Query: how to design road crust for national highways? province regulations lot base\n",
      "Top similarities: [0.37207806 0.36875916 0.36748242 0.3651036  0.36382943]\n",
      "Loaded doc_id_mapping with 403666 entries\n"
     ]
    },
    {
     "name": "stderr",
     "output_type": "stream",
     "text": [
      "معالجة الاستعلامات:  34%|███▍      | 60/176 [02:59<05:40,  2.94s/استعلام]"
     ]
    },
    {
     "name": "stdout",
     "output_type": "stream",
     "text": [
      "Total documents in doc_data: 403666\n",
      "Sample doc_ids: ['2020338_0', '2020338_1', '2020338_2', '2020338_3', '2874684_0']\n",
      "Top indices: [ 49622  78712 401687 196468 332215]\n",
      "No similar documents found for antique with sufficient similarity\n",
      "Top similarities: [0.5139455  0.5014233  0.46594134 0.44980437 0.4450754 ]\n",
      "Loaded doc_id_mapping with 403666 entries\n"
     ]
    },
    {
     "name": "stderr",
     "output_type": "stream",
     "text": [
      "معالجة الاستعلامات:  35%|███▍      | 61/176 [03:02<05:39,  2.96s/استعلام]"
     ]
    },
    {
     "name": "stdout",
     "output_type": "stream",
     "text": [
      "Total documents in doc_data: 403666\n",
      "Sample doc_ids: ['2020338_0', '2020338_1', '2020338_2', '2020338_3', '2874684_0']\n",
      "Top indices: [146324   7318  28074 303272 204978]\n",
      "Selected document at doc_id 812036_4, similarity: 0.5139455199241638, text: ['acnewell', 'seabreeze', 'work', 'proactive']\n",
      "Selected document at doc_id 167593_1, similarity: 0.5014232993125916, text: ['help', 'clear', 'prevent', 'acne']\n",
      "Selected document at doc_id 999482_3, similarity: 0.46594133973121643, text: ['wash', 'face', 'try', 'clearisil']\n",
      "Selected document at doc_id 2432405_0, similarity: 0.4498043656349182, text: ['get', 'pill', 'dermatologist']\n",
      "Selected document at doc_id 3516858_6, similarity: 0.4450753927230835, text: ['try', 'oil', 'primrose', 'e45', 'cream']\n",
      "Additional words from top 5 documents: acnewell seabreeze work proactive\n",
      "🔍 Enhanced Query: How can I get rid of pimples on my back? acnewell seabreeze work proactive\n",
      "Top similarities: [0.39850307 0.36670375 0.36517453 0.36190206 0.3484722 ]\n",
      "Loaded doc_id_mapping with 403666 entries\n"
     ]
    },
    {
     "name": "stderr",
     "output_type": "stream",
     "text": [
      "معالجة الاستعلامات:  35%|███▌      | 62/176 [03:05<05:39,  2.98s/استعلام]"
     ]
    },
    {
     "name": "stdout",
     "output_type": "stream",
     "text": [
      "Total documents in doc_data: 403666\n",
      "Sample doc_ids: ['2020338_0', '2020338_1', '2020338_2', '2020338_3', '2874684_0']\n",
      "Top indices: [ 54245 372922 378903 361026 277212]\n",
      "No similar documents found for antique with sufficient similarity\n",
      "Top similarities: [0.52577966 0.52577966 0.52577966 0.52577966 0.5257796 ]\n",
      "Loaded doc_id_mapping with 403666 entries\n"
     ]
    },
    {
     "name": "stderr",
     "output_type": "stream",
     "text": [
      "معالجة الاستعلامات:  36%|███▌      | 63/176 [03:08<05:36,  2.98s/استعلام]"
     ]
    },
    {
     "name": "stdout",
     "output_type": "stream",
     "text": [
      "Total documents in doc_data: 403666\n",
      "Sample doc_ids: ['2020338_0', '2020338_1', '2020338_2', '2020338_3', '2874684_0']\n",
      "Top indices: [ 68928  37440 146596  89619 192539]\n",
      "Selected document at doc_id 1113777_1, similarity: 0.525779664516449, text: ['sin']\n",
      "Selected document at doc_id 3387790_8, similarity: 0.525779664516449, text: ['sin']\n",
      "Selected document at doc_id 52030_6, similarity: 0.525779664516449, text: ['sin']\n",
      "Selected document at doc_id 3118508_5, similarity: 0.525779664516449, text: ['sin']\n",
      "Selected document at doc_id 3567166_3, similarity: 0.5257796049118042, text: ['sin']\n",
      "Additional words from top 5 documents: \n",
      "No new words to add to query for antique\n",
      "Top similarities: [0.48905808 0.46735945 0.46564233 0.42860642 0.4218043 ]\n",
      "Loaded doc_id_mapping with 403666 entries\n"
     ]
    },
    {
     "name": "stderr",
     "output_type": "stream",
     "text": [
      "معالجة الاستعلامات:  36%|███▋      | 64/176 [03:11<05:36,  3.00s/استعلام]"
     ]
    },
    {
     "name": "stdout",
     "output_type": "stream",
     "text": [
      "Total documents in doc_data: 403666\n",
      "Sample doc_ids: ['2020338_0', '2020338_1', '2020338_2', '2020338_3', '2874684_0']\n",
      "Top indices: [253866  13068 400063 182100 333692]\n",
      "Selected document at doc_id 3446635_1, similarity: 0.48905807733535767, text: ['rash', 'discolor']\n",
      "Selected document at doc_id 3766794_1, similarity: 0.4673594534397125, text: ['suburn', 'skin', 'discoloration', 'cancer']\n",
      "Selected document at doc_id 3008679_2, similarity: 0.4656423330307007, text: ['rednesssoreness', 'peel', 'skin']\n",
      "Selected document at doc_id 3546405_2, similarity: 0.42860642075538635, text: ['pigmentation', 'skin']\n",
      "Selected document at doc_id 343346_6, similarity: 0.4218043088912964, text: ['white', 'use', 'peroxide', 'wash']\n",
      "Additional words from top 5 documents: rash discolor suburn cancer\n",
      "🔍 Enhanced Query: What causes skin discoloration, specifically, whitening of the skin between fingers? rash discolor suburn cancer\n",
      "Top similarities: [0.43514732 0.42309606 0.41105253 0.40698004 0.40324903]\n",
      "Loaded doc_id_mapping with 403666 entries\n"
     ]
    },
    {
     "name": "stderr",
     "output_type": "stream",
     "text": [
      "معالجة الاستعلامات:  37%|███▋      | 65/176 [03:14<05:35,  3.03s/استعلام]"
     ]
    },
    {
     "name": "stdout",
     "output_type": "stream",
     "text": [
      "Total documents in doc_data: 403666\n",
      "Sample doc_ids: ['2020338_0', '2020338_1', '2020338_2', '2020338_3', '2874684_0']\n",
      "Top indices: [270111 346865 308888 214864 140170]\n",
      "Selected document at doc_id 3014246_2, similarity: 0.43514731526374817, text: ['local', 'sheriffs', 'office', 'request', 'copy']\n",
      "Selected document at doc_id 3675152_7, similarity: 0.42309606075286865, text: ['dmv', 'title', 'bureau']\n",
      "Selected document at doc_id 1029661_4, similarity: 0.41105252504348755, text: ['dmv', 'ask', 'duplicate']\n",
      "Selected document at doc_id 1689877_0, similarity: 0.406980037689209, text: ['suggest', 'dmv', 'tampafl']\n",
      "Selected document at doc_id 683032_1, similarity: 0.40324902534484863, text: ['contact', 'local', 'authorites', 'sheriff', 'dept']\n",
      "Additional words from top 5 documents: local sheriffs office request\n",
      "🔍 Enhanced Query: how do I go about getting copies of letters of commendation prsented to me from city of san diego? local sheriffs office request\n",
      "Top similarities: [0.5258902  0.48795062 0.48299053 0.47456256 0.47452578]\n",
      "Loaded doc_id_mapping with 403666 entries\n"
     ]
    },
    {
     "name": "stderr",
     "output_type": "stream",
     "text": [
      "معالجة الاستعلامات:  38%|███▊      | 66/176 [03:17<05:28,  2.98s/استعلام]"
     ]
    },
    {
     "name": "stdout",
     "output_type": "stream",
     "text": [
      "Total documents in doc_data: 403666\n",
      "Sample doc_ids: ['2020338_0', '2020338_1', '2020338_2', '2020338_3', '2874684_0']\n",
      "Top indices: [  3969  57962 211648  64288 137739]\n",
      "Selected document at doc_id 3560203_2, similarity: 0.5258901715278625, text: ['jesus', 'bear']\n",
      "Selected document at doc_id 138535_12, similarity: 0.4879506230354309, text: ['jesus', 'forgive']\n",
      "Selected document at doc_id 636226_34, similarity: 0.4829905331134796, text: ['repent', 'ask', 'forgiveness', 'god', 'forgive', 'love']\n",
      "Selected document at doc_id 587919_7, similarity: 0.47456255555152893, text: ['bear', 'christian']\n",
      "Selected document at doc_id 2835161_9, similarity: 0.4745257794857025, text: ['repent', 'sin', 'accept', 'jusus', 'christ', 'saviour']\n",
      "Additional words from top 5 documents: forgive ask forgiveness god\n",
      "🔍 Enhanced Query: How were you saved from sin-and born again as Jesus says \"Except you repent, and be born again...\" How didYou? forgive ask forgiveness god\n",
      "Top similarities: [0.32471418 0.31126764 0.3048487  0.28416047 0.2761165 ]\n",
      "Loaded doc_id_mapping with 403666 entries\n"
     ]
    },
    {
     "name": "stderr",
     "output_type": "stream",
     "text": [
      "معالجة الاستعلامات:  38%|███▊      | 67/176 [03:20<05:31,  3.04s/استعلام]"
     ]
    },
    {
     "name": "stdout",
     "output_type": "stream",
     "text": [
      "Total documents in doc_data: 403666\n",
      "Sample doc_ids: ['2020338_0', '2020338_1', '2020338_2', '2020338_3', '2874684_0']\n",
      "Top indices: [ 46099  70270  99830 290951 366835]\n",
      "No similar documents found for antique with sufficient similarity\n",
      "Top similarities: [0.49403435 0.49403435 0.4940343  0.44628024 0.4356882 ]\n",
      "Loaded doc_id_mapping with 403666 entries\n"
     ]
    },
    {
     "name": "stderr",
     "output_type": "stream",
     "text": [
      "معالجة الاستعلامات:  39%|███▊      | 68/176 [03:23<05:27,  3.03s/استعلام]"
     ]
    },
    {
     "name": "stdout",
     "output_type": "stream",
     "text": [
      "Total documents in doc_data: 403666\n",
      "Sample doc_ids: ['2020338_0', '2020338_1', '2020338_2', '2020338_3', '2874684_0']\n",
      "Top indices: [360874 390333  90351  64419 388907]\n",
      "Selected document at doc_id 144229_4, similarity: 0.4940343499183655, text: ['lemonade', 'stand']\n",
      "Selected document at doc_id 181119_97, similarity: 0.4940343499183655, text: ['lemonade', 'stand']\n",
      "Selected document at doc_id 1847448_5, similarity: 0.4940342903137207, text: ['lemonade', 'stand']\n",
      "Selected document at doc_id 1793190_1, similarity: 0.44628024101257324, text: ['regular', 'lemonade', 'lemon', 'juice', 'sugar', 'water', 'pink', 'lemonade', 'different', 'juice', 'add', 'like', 'cranberry', 'strawberry']\n",
      "Selected document at doc_id 1717888_9, similarity: 0.43568819761276245, text: ['restaurants']\n",
      "Additional words from top 5 documents: stand regular lemon juice\n",
      "🔍 Enhanced Query: why is lemonade at restaurants sometimes different? stand regular lemon juice\n",
      "Top similarities: [0.45283234 0.40940857 0.38449153 0.37779588 0.36722857]\n",
      "Loaded doc_id_mapping with 403666 entries\n"
     ]
    },
    {
     "name": "stderr",
     "output_type": "stream",
     "text": [
      "معالجة الاستعلامات:  39%|███▉      | 69/176 [03:26<05:22,  3.01s/استعلام]"
     ]
    },
    {
     "name": "stdout",
     "output_type": "stream",
     "text": [
      "Total documents in doc_data: 403666\n",
      "Sample doc_ids: ['2020338_0', '2020338_1', '2020338_2', '2020338_3', '2874684_0']\n",
      "Top indices: [175773 372300 240929  31074 330306]\n",
      "Selected document at doc_id 3493286_2, similarity: 0.45283234119415283, text: ['increase', 'performance', 'engine']\n",
      "Selected document at doc_id 3451964_21, similarity: 0.4094085693359375, text: ['better', 'performance', 'better', 'gas', 'mileage']\n",
      "Additional words from top 5 documents: increase performance engine better\n",
      "🔍 Enhanced Query: How do you improve fuel efficiency of a 2004, Ford Ikon? increase performance engine better\n",
      "Top similarities: [0.43436056 0.43216679 0.43216679 0.4019381  0.40013742]\n",
      "Loaded doc_id_mapping with 403666 entries\n"
     ]
    },
    {
     "name": "stderr",
     "output_type": "stream",
     "text": [
      "معالجة الاستعلامات:  40%|███▉      | 70/176 [03:29<05:23,  3.05s/استعلام]"
     ]
    },
    {
     "name": "stdout",
     "output_type": "stream",
     "text": [
      "Total documents in doc_data: 403666\n",
      "Sample doc_ids: ['2020338_0', '2020338_1', '2020338_2', '2020338_3', '2874684_0']\n",
      "Top indices: [224288  47689  47688 372340 169674]\n",
      "Selected document at doc_id 1209792_7, similarity: 0.4343605637550354, text: ['heat', 'pan', 'high', 'grease', 'melt', 'make', 'sure', 'chicken', 'throughly', 'wash', 'fat', 'go', 'well', 'fat', 'side', 'chicken', 'cook', 'fry', 'make', 'batter', 'flour', 'season', 'salt', 'chicken', 'season', 'desire', 'people', 'use', 'egg', 'wash', 'buttermilk', 'coat', 'chicken', 'batter', 'dont', 'oil', 'grease', 'heat', 'ready', 'slowly', 'put', 'batter', 'chicken', 'fry', 'pan', 'firat', 'side', 'cook', 'turn', 'temperature', 'medium', 'mediumhigh', 'finish', 'cook', 'rest', 'chicken', 'make', 'sure', 'periodically', 'check', 'chicken', 'make', 'sure', 'fully', 'cook', 'mean', 'not', 'bleed', 'red', 'areas', 'chicken', 'could', 'also', 'use', 'fish', 'fry', 'batter', 'instead', 'add', 'ingredients', 'spicy', 'chicken', 'add', 'curry', 'red', 'pepper', 'chilli', 'powder', 'crush', 'jalapenos', 'batter', 'tabasco', 'sauce', 'cook', 'also', 'hot', 'sauce', 'call', 'spontaneous', 'combustion', 'stuff', 'make', 'food', 'hot', 'may', 'not', 'able', 'finish', 'mouth', 'fire']\n",
      "Selected document at doc_id 2327141_2, similarity: 0.43216678500175476, text: ['dont', 'eat', 'chicken']\n",
      "Selected document at doc_id 2327141_1, similarity: 0.43216678500175476, text: ['dont', 'eat', 'chicken']\n",
      "Selected document at doc_id 4464639_28, similarity: 0.4019381105899811, text: ['chicken', 'breast', 'halve', 'bone', 'tablespoons', 'finely', 'mince', 'fresh', 'parsley', 'cup', 'olive', 'oil', 'tablespoons', 'balsamic', 'vinegar', 'pound', 'fresh', 'mushroom', 'chop', 'teaspoon', 'salt', 'teaspoon', 'pepper', 'cup', 'chop', 'onion', 'tablespoons', 'finely', 'mince', 'tarragon', 'leave', 'package', 'ounces', 'fontina', 'cheese', 'thinly', 'slice', 'teaspoon', 'lemon', 'pepper', 'large', 'frypan', 'place', 'oil', 'vinegar', 'heat', 'medium', 'temperature', 'add', 'chicken', 'cook', 'minutes', 'brown', 'fork', 'insert', 'ease', 'remove', 'chicken', 'ungreased', 'ovenproof', 'dish', 'sprinkle', 'salt', 'pepper', 'frypan', 'add', 'tarragon', 'lemon', 'pepper', 'parsley', 'mushroom', 'onion', 'cook', 'stir', 'frequently', 'loosen', 'brown', 'bits', 'bottom', 'frypan', 'minutes', 'vegetables', 'tender', 'spoon', 'mushroom', 'mixture', 'chicken', 'place', 'cheese', 'top', 'cover', 'completely', 'place', '350', 'oven', 'minutes', 'cheese', 'melt', 'make', 'servings', 'really', 'good', 'chicken', 'recipe', 'use', 'impress', 'people', 'really', 'easy', 'incredibly', 'flavorful', 'doesnt', 'require', 'marinate']\n",
      "Selected document at doc_id 3372305_4, similarity: 0.40013742446899414, text: ['chicken', 'breast', 'take', 'minutes', 'poach', 'simmer', 'water', 'overdo', 'chicken', 'dry', 'tasteless']\n",
      "Additional words from top 5 documents: heat pan high grease\n",
      "🔍 Enhanced Query: How do you prevent chicken from drying out when you cook it? heat pan high grease\n",
      "Top similarities: [0.5589689 0.5472187 0.5372585 0.5359797 0.5359796]\n",
      "Loaded doc_id_mapping with 403666 entries\n"
     ]
    },
    {
     "name": "stderr",
     "output_type": "stream",
     "text": [
      "معالجة الاستعلامات:  40%|████      | 71/176 [03:32<05:20,  3.06s/استعلام]"
     ]
    },
    {
     "name": "stdout",
     "output_type": "stream",
     "text": [
      "Total documents in doc_data: 403666\n",
      "Sample doc_ids: ['2020338_0', '2020338_1', '2020338_2', '2020338_3', '2874684_0']\n",
      "Top indices: [ 92243 222432 336971 334277 249600]\n",
      "Selected document at doc_id 3882624_6, similarity: 0.5589689016342163, text: ['followers', 'islam', 'religion']\n",
      "Selected document at doc_id 2427314_7, similarity: 0.5472186803817749, text: ['islam', 'truth']\n",
      "Selected document at doc_id 3371380_14, similarity: 0.537258505821228, text: ['muslims', 'power', 'adopt', 'true', 'teachings', 'islam']\n",
      "Selected document at doc_id 2807965_6, similarity: 0.535979688167572, text: ['islam']\n",
      "Selected document at doc_id 1544621_1, similarity: 0.5359796285629272, text: ['islam']\n",
      "Additional words from top 5 documents: followers religion truth power\n",
      "🔍 Enhanced Query: How can we understand Islam and Muslims better? followers religion truth power\n",
      "Top similarities: [0.6411511  0.5491501  0.53865266 0.5386526  0.5285696 ]\n",
      "Loaded doc_id_mapping with 403666 entries\n"
     ]
    },
    {
     "name": "stderr",
     "output_type": "stream",
     "text": [
      "معالجة الاستعلامات:  41%|████      | 72/176 [03:36<05:25,  3.13s/استعلام]"
     ]
    },
    {
     "name": "stdout",
     "output_type": "stream",
     "text": [
      "Total documents in doc_data: 403666\n",
      "Sample doc_ids: ['2020338_0', '2020338_1', '2020338_2', '2020338_3', '2874684_0']\n",
      "Top indices: [270816 289212  92019 252398 116262]\n",
      "Selected document at doc_id 3271422_0, similarity: 0.6411510705947876, text: ['black', 'light']\n",
      "Selected document at doc_id 3664930_9, similarity: 0.5491501092910767, text: ['glow', 'dark']\n",
      "Selected document at doc_id 1522399_5, similarity: 0.5386526584625244, text: ['light']\n",
      "Selected document at doc_id 2374434_10, similarity: 0.5386525988578796, text: ['light']\n",
      "Selected document at doc_id 1667760_13, similarity: 0.5285695791244507, text: ['electrolights']\n",
      "Additional words from top 5 documents: glow dark electrolights\n",
      "🔍 Enhanced Query: Well the black light is UV light.So if it is \"black\" how can it be \"light\" ? glow dark electrolights\n",
      "Top similarities: [0.52838385 0.52442557 0.5123192  0.48001325 0.47158536]\n",
      "Loaded doc_id_mapping with 403666 entries\n"
     ]
    },
    {
     "name": "stderr",
     "output_type": "stream",
     "text": [
      "معالجة الاستعلامات:  41%|████▏     | 73/176 [03:39<05:26,  3.17s/استعلام]"
     ]
    },
    {
     "name": "stdout",
     "output_type": "stream",
     "text": [
      "Total documents in doc_data: 403666\n",
      "Sample doc_ids: ['2020338_0', '2020338_1', '2020338_2', '2020338_3', '2874684_0']\n",
      "Top indices: [151686  65281 284587 287634 189882]\n",
      "Selected document at doc_id 3631586_0, similarity: 0.5283838510513306, text: ['stress', 'depression']\n",
      "Selected document at doc_id 2482017_4, similarity: 0.5244255661964417, text: ['stress', 'anxiety']\n",
      "Selected document at doc_id 1569258_0, similarity: 0.5123192071914673, text: ['probably', 'anxiety']\n",
      "Selected document at doc_id 446060_10, similarity: 0.48001325130462646, text: ['illness', 'depression']\n",
      "Selected document at doc_id 3005735_12, similarity: 0.47158536314964294, text: ['depression']\n",
      "Additional words from top 5 documents: stress probably illness\n",
      "🔍 Enhanced Query: why do anxiety and depression seem to coexist? stress probably illness\n",
      "Top similarities: [0.72289807 0.72289807 0.72289807 0.72289807 0.72289807]\n",
      "Loaded doc_id_mapping with 403666 entries\n"
     ]
    },
    {
     "name": "stderr",
     "output_type": "stream",
     "text": [
      "معالجة الاستعلامات:  42%|████▏     | 74/176 [03:43<05:40,  3.34s/استعلام]"
     ]
    },
    {
     "name": "stdout",
     "output_type": "stream",
     "text": [
      "Total documents in doc_data: 403666\n",
      "Sample doc_ids: ['2020338_0', '2020338_1', '2020338_2', '2020338_3', '2874684_0']\n",
      "Top indices: [144015 217188 301190 218274 274910]\n",
      "Selected document at doc_id 3301682_7, similarity: 0.7228980660438538, text: ['mean']\n",
      "Selected document at doc_id 4087735_4, similarity: 0.7228980660438538, text: ['mean']\n",
      "Selected document at doc_id 3693457_5, similarity: 0.7228980660438538, text: ['mean']\n",
      "Selected document at doc_id 2750127_3, similarity: 0.7228980660438538, text: ['mean']\n",
      "Selected document at doc_id 2237803_13, similarity: 0.7228980660438538, text: ['mean']\n",
      "Additional words from top 5 documents: \n",
      "No new words to add to query for antique\n",
      "Top similarities: [0.5045492  0.44345236 0.4409331  0.4297027  0.4297027 ]\n",
      "Loaded doc_id_mapping with 403666 entries\n"
     ]
    },
    {
     "name": "stderr",
     "output_type": "stream",
     "text": [
      "معالجة الاستعلامات:  43%|████▎     | 75/176 [03:46<05:53,  3.50s/استعلام]"
     ]
    },
    {
     "name": "stdout",
     "output_type": "stream",
     "text": [
      "Total documents in doc_data: 403666\n",
      "Sample doc_ids: ['2020338_0', '2020338_1', '2020338_2', '2020338_3', '2874684_0']\n",
      "Top indices: [273445 180044 273450 273446 273448]\n",
      "Selected document at doc_id 3225840_2, similarity: 0.5045492053031921, text: ['april', '8th']\n",
      "Selected document at doc_id 4239397_0, similarity: 0.4434523582458496, text: ['april', 'not', 'may']\n",
      "Selected document at doc_id 3225840_7, similarity: 0.44093310832977295, text: ['april', '2007', 'sunday']\n",
      "Selected document at doc_id 3225840_3, similarity: 0.4297026991844177, text: ['april', '2007']\n",
      "Selected document at doc_id 3225840_5, similarity: 0.4297026991844177, text: ['april', '2007']\n",
      "Additional words from top 5 documents: 8th not may 2007\n",
      "🔍 Enhanced Query: Why is April 19th important? 8th not may 2007\n",
      "Top similarities: [0.48983485 0.46964315 0.46541476 0.45981845 0.45967028]\n",
      "Loaded doc_id_mapping with 403666 entries\n"
     ]
    },
    {
     "name": "stderr",
     "output_type": "stream",
     "text": [
      "معالجة الاستعلامات:  43%|████▎     | 76/176 [03:50<06:01,  3.61s/استعلام]"
     ]
    },
    {
     "name": "stdout",
     "output_type": "stream",
     "text": [
      "Total documents in doc_data: 403666\n",
      "Sample doc_ids: ['2020338_0', '2020338_1', '2020338_2', '2020338_3', '2874684_0']\n",
      "Top indices: [159037 319257 345529 340412 253447]\n",
      "Selected document at doc_id 3929946_2, similarity: 0.48983484506607056, text: ['substance', 'cigarettes']\n",
      "Selected document at doc_id 3639660_1, similarity: 0.46964314579963684, text: ['hide', 'yellow', 'nicotine', 'stain']\n",
      "Selected document at doc_id 2273650_4, similarity: 0.46541476249694824, text: ['light', 'cigarette']\n",
      "Selected document at doc_id 1599184_2, similarity: 0.45981845259666443, text: ['cigarette', 'smoke', 'not', 'ban']\n",
      "Selected document at doc_id 3319679_0, similarity: 0.4596702754497528, text: ['addition', 'nicotine', 'cigarette', 'smoke', 'primarily', 'compose', 'dozen', 'gas', 'mainly', 'carbon', 'monoxide', 'tar', 'tar', 'cigarette', 'vary', 'regular', 'cigarette', 'lowtar', 'cigarette', 'expose', 'user', 'increase', 'risk', 'lung', 'cancer', 'emphysema', 'bronchial', 'disorder', 'environmental', 'protection', 'agency', 'conclude', 'secondhand', 'smoke', 'cause', 'lung', 'cancer', 'adults', 'greatly', 'increase', 'risk', 'respiratory', 'illnesses', 'children', 'sudden', 'infant', 'death', 'probably', 'two', 'serious', 'elements', 'tobacco', 'smoke', 'nicotine', 'tar', 'latter', 'generally', 'stain', 'finger', 'lips', 'teeth', 'tongue', 'trachea', 'frequently', 'erroneously', 'call', 'nicotine', 'nicotine', 'alkaloid', 'present', 'tobacco', 'tar', 'one', 'many', 'compound', 'form', 'tobacco', 'ignite', 'form', 'smoke', 'obvious', 'products', 'combustion', 'smoke', 'cause', 'local', 'irritation', 'mucous', 'membranes', 'respiratory', 'tract', 'cancer', 'mouth', 'lips', 'tongue', 'larynx', 'pharynx', 'prevelent', 'smokers', 'nonsmokers']\n",
      "Additional words from top 5 documents: substance hide nicotine stain\n",
      "🔍 Enhanced Query: Why do most cigarettes have the yellow filter? substance hide nicotine stain\n",
      "Top similarities: [0.5940633  0.47503614 0.47468185 0.46429747 0.45880592]\n",
      "Loaded doc_id_mapping with 403666 entries\n"
     ]
    },
    {
     "name": "stderr",
     "output_type": "stream",
     "text": [
      "معالجة الاستعلامات:  44%|████▍     | 77/176 [03:54<05:57,  3.61s/استعلام]"
     ]
    },
    {
     "name": "stdout",
     "output_type": "stream",
     "text": [
      "Total documents in doc_data: 403666\n",
      "Sample doc_ids: ['2020338_0', '2020338_1', '2020338_2', '2020338_3', '2874684_0']\n",
      "Top indices: [179101 267852 272373 267853 399191]\n",
      "Selected document at doc_id 1808671_4, similarity: 0.5940632820129395, text: ['bloody', 'mary']\n",
      "Selected document at doc_id 2553965_0, similarity: 0.4750361442565918, text: ['bloody', 'mary', 'cocktail', 'contain', 'vodka', 'tomato', 'juice', 'usually', 'spice', 'flavorings', 'worcestershire', 'sauce', 'tabasco', 'sauce', 'beef', 'consomme', 'bouillon', 'horseradish', 'celery', 'celery', 'salt', 'salt', 'black', 'pepper', 'cayenne', 'pepper', 'lemon', 'juice', 'epithet', 'bloody', 'mary', 'associate', 'number', 'historical', 'fictional', 'women', 'notably', 'queen', 'mary', 'england', 'see', 'bloody', 'mary', 'person', 'others', 'however', 'know', 'connection', 'name', 'cocktail', 'people', 'name', 'clearly', 'use', 'refer', 'bloodlike', 'colour', 'cocktail']\n",
      "Selected document at doc_id 3668484_1, similarity: 0.4746818542480469, text: ['mary']\n",
      "Selected document at doc_id 2553965_1, similarity: 0.46429747343063354, text: ['bloody', 'mary', 'cocktail', 'contain', 'vodka', 'tomato', 'juice', 'usually', 'spice', 'flavorings', 'worcestershire', 'sauce', 'tabasco', 'sauce', 'beef', 'consomme', 'bouillon', 'horseradish', 'celery', 'celery', 'salt', 'salt', 'black', 'pepper', 'cayenne', 'pepper', 'lemon', 'juice', 'epithet', 'bloody', 'mary', 'associate', 'number', 'historical', 'fictional', 'women', 'notably', 'queen', 'mary', 'england', 'see', 'bloody', 'mary', 'person', 'others', 'however', 'know', 'connection', 'name', 'cocktail', 'people', 'name', 'clearly', 'use', 'refer', 'bloodlike', 'colour', 'cocktail', 'order', 'preparation', 'crucial', 'many', 'bartenders', 'guard', 'secret', 'recipes', 'drinkcitation', 'need', 'sometimes', 'garnish', 'celery', 'stick', 'serve', 'tall', 'glass', 'often', 'ice', 'one', 'cocktails', 'traditionally', 'serve', 'morning', 'along', 'screwdriver', 'mimosa', 'bartender', 'fernand', 'petiot', 'harry', 'new', 'york', 'bar', 'paris', 'claim', 'invent', 'drink', '1920', 'first', 'citation', 'bloody', 'mary', 'oxford', 'english', 'dictionary', 'punch', 'august', '1956', 'two', 'eat', 'raw', 'steaks', 'drink', 'bloody', 'marys']\n",
      "Selected document at doc_id 2115670_6, similarity: 0.4588059186935425, text: ['drink', 'ceasers', 'bloody', 'marys']\n",
      "Additional words from top 5 documents: cocktail contain vodka tomato\n",
      "🔍 Enhanced Query: What's the Definition of a bloody mary? cocktail contain vodka tomato\n",
      "Top similarities: [0.6410904  0.55499077 0.5137142  0.5098746  0.5059506 ]\n",
      "Loaded doc_id_mapping with 403666 entries\n"
     ]
    },
    {
     "name": "stderr",
     "output_type": "stream",
     "text": [
      "معالجة الاستعلامات:  44%|████▍     | 78/176 [03:58<05:54,  3.62s/استعلام]"
     ]
    },
    {
     "name": "stdout",
     "output_type": "stream",
     "text": [
      "Total documents in doc_data: 403666\n",
      "Sample doc_ids: ['2020338_0', '2020338_1', '2020338_2', '2020338_3', '2874684_0']\n",
      "Top indices: [260018 297460  24004  15931 354103]\n",
      "Selected document at doc_id 1082595_1, similarity: 0.6410903930664062, text: ['technology', 'mobile']\n",
      "Selected document at doc_id 2785567_3, similarity: 0.5549907684326172, text: ['wireless', 'technology', 'basically']\n",
      "Selected document at doc_id 3845806_1, similarity: 0.5137141942977905, text: ['basically', 'cellphone', 'web', 'access']\n",
      "Selected document at doc_id 3990682_1, similarity: 0.5098745822906494, text: ['cellphone']\n",
      "Selected document at doc_id 3813322_3, similarity: 0.5059506297111511, text: ['technology']\n",
      "Additional words from top 5 documents: wireless basically cellphone web\n",
      "🔍 Enhanced Query: what is meant by mobile technology? wireless basically cellphone web\n",
      "Top similarities: [0.49038863 0.47033352 0.44270393 0.43506673 0.43416768]\n",
      "Loaded doc_id_mapping with 403666 entries\n"
     ]
    },
    {
     "name": "stderr",
     "output_type": "stream",
     "text": [
      "معالجة الاستعلامات:  45%|████▍     | 79/176 [04:01<05:49,  3.60s/استعلام]"
     ]
    },
    {
     "name": "stdout",
     "output_type": "stream",
     "text": [
      "Total documents in doc_data: 403666\n",
      "Sample doc_ids: ['2020338_0', '2020338_1', '2020338_2', '2020338_3', '2874684_0']\n",
      "Top indices: [   616 197285 397650 399040  56025]\n",
      "Selected document at doc_id 2103879_0, similarity: 0.4903886318206787, text: ['cold', 'windy', 'rainy']\n",
      "Selected document at doc_id 3625091_0, similarity: 0.4703335165977478, text: ['cold', 'rainy']\n",
      "Selected document at doc_id 1617049_5, similarity: 0.4427039325237274, text: ['high', 'humidity']\n",
      "Selected document at doc_id 2361539_7, similarity: 0.43506672978401184, text: ['warm', 'humid']\n",
      "Selected document at doc_id 4350515_1, similarity: 0.43416768312454224, text: ['cloudy', 'chilly']\n",
      "Additional words from top 5 documents: windy rainy high humidity\n",
      "🔍 Enhanced Query: Why do we wee a lot in the cold weather especially at night? windy rainy high humidity\n",
      "Top similarities: [0.5378278  0.5020857  0.47500843 0.42592958 0.41582704]\n",
      "Loaded doc_id_mapping with 403666 entries\n"
     ]
    },
    {
     "name": "stderr",
     "output_type": "stream",
     "text": [
      "معالجة الاستعلامات:  45%|████▌     | 80/176 [04:04<05:38,  3.53s/استعلام]"
     ]
    },
    {
     "name": "stdout",
     "output_type": "stream",
     "text": [
      "Total documents in doc_data: 403666\n",
      "Sample doc_ids: ['2020338_0', '2020338_1', '2020338_2', '2020338_3', '2874684_0']\n",
      "Top indices: [148927 196009  25121 270332 380219]\n",
      "Selected document at doc_id 3874326_9, similarity: 0.5378277897834778, text: ['compton', 'california', 'los', 'angeles', 'county', 'miles', 'los', 'angeles', 'california', 'city', 'include', 'los', 'angeleslong', 'beach', 'metropolitan', 'area', 'year', '2000', 'census', '93493', 'people', 'live', 'compton', 'compton', 'adults', 'marry', 'large', 'families', 'residences', 'common', 'watch', 'stroller', 'hard', 'swing', 'rattle', 'city', 'without', 'hit', 'preschooler', 'approximately', 'compton', 'nonwhite', 'diverse', 'population', 'one', 'feature', 'compton', '2000', 'compton', 'median', 'family', 'income', '33021', 'live', 'standards', 'many', 'people', 'compton', 'continue', 'lag', 'behind', 'cities', 'state', 'city', 'way', 'catch', 'rest', 'california', 'amount', 'college', 'education', 'achieve', 'residents', 'category', 'count', 'percent', 'total', 'population', '93493', '100', 'male', '45857', 'female', '47636', '35993', '385', '57500', '615', '6437', 'median', 'age', 'average', 'family', 'size', '445', 'white', '15625', '167', 'africanamerican', '37690', '403', 'asian', '237', 'american', 'indian', 'alaskan', '656', '34911', '373', 'mix', 'race', '3389', 'hispanic', 'include', 'categories', '53143', '568', 'median', 'family', 'income', '1999', '33021', 'population', 'poverty', '25771']\n",
      "Selected document at doc_id 648841_2, similarity: 0.5020856857299805, text: ['compton', 'south', 'los', 'angeles', 'cuz', 'many', 'cholos']\n",
      "Selected document at doc_id 2913204_2, similarity: 0.47500842809677124, text: ['rappers', 'black']\n",
      "Selected document at doc_id 3434503_18, similarity: 0.42592957615852356, text: ['black', 'far', 'racists']\n",
      "Selected document at doc_id 3287239_27, similarity: 0.41582703590393066, text: ['reason', 'black', 'people']\n",
      "Additional words from top 5 documents: california los angeles county\n",
      "🔍 Enhanced Query: How come Compton is only designated for black people? california los angeles county\n",
      "Top similarities: [0.5810633  0.5810633  0.49062982 0.48829862 0.48568454]\n",
      "Loaded doc_id_mapping with 403666 entries\n"
     ]
    },
    {
     "name": "stderr",
     "output_type": "stream",
     "text": [
      "معالجة الاستعلامات:  46%|████▌     | 81/176 [04:08<05:31,  3.49s/استعلام]"
     ]
    },
    {
     "name": "stdout",
     "output_type": "stream",
     "text": [
      "Total documents in doc_data: 403666\n",
      "Sample doc_ids: ['2020338_0', '2020338_1', '2020338_2', '2020338_3', '2874684_0']\n",
      "Top indices: [160709 358739 372340 164238  52961]\n",
      "Selected document at doc_id 2198611_7, similarity: 0.5810632705688477, text: ['fry', 'chicken']\n",
      "Selected document at doc_id 2649139_13, similarity: 0.5810632705688477, text: ['fry', 'chicken']\n",
      "Selected document at doc_id 4464639_28, similarity: 0.49062982201576233, text: ['chicken', 'breast', 'halve', 'bone', 'tablespoons', 'finely', 'mince', 'fresh', 'parsley', 'cup', 'olive', 'oil', 'tablespoons', 'balsamic', 'vinegar', 'pound', 'fresh', 'mushroom', 'chop', 'teaspoon', 'salt', 'teaspoon', 'pepper', 'cup', 'chop', 'onion', 'tablespoons', 'finely', 'mince', 'tarragon', 'leave', 'package', 'ounces', 'fontina', 'cheese', 'thinly', 'slice', 'teaspoon', 'lemon', 'pepper', 'large', 'frypan', 'place', 'oil', 'vinegar', 'heat', 'medium', 'temperature', 'add', 'chicken', 'cook', 'minutes', 'brown', 'fork', 'insert', 'ease', 'remove', 'chicken', 'ungreased', 'ovenproof', 'dish', 'sprinkle', 'salt', 'pepper', 'frypan', 'add', 'tarragon', 'lemon', 'pepper', 'parsley', 'mushroom', 'onion', 'cook', 'stir', 'frequently', 'loosen', 'brown', 'bits', 'bottom', 'frypan', 'minutes', 'vegetables', 'tender', 'spoon', 'mushroom', 'mixture', 'chicken', 'place', 'cheese', 'top', 'cover', 'completely', 'place', '350', 'oven', 'minutes', 'cheese', 'melt', 'make', 'servings', 'really', 'good', 'chicken', 'recipe', 'use', 'impress', 'people', 'really', 'easy', 'incredibly', 'flavorful', 'doesnt', 'require', 'marinate']\n",
      "Selected document at doc_id 4015240_3, similarity: 0.488298624753952, text: ['fry', 'would', 'chickenchicken', 'fry', 'steak']\n",
      "Selected document at doc_id 827653_0, similarity: 0.4856845438480377, text: ['fry', 'chicken', 'waffle']\n",
      "Additional words from top 5 documents: breast halve bone tablespoons\n",
      "🔍 Enhanced Query: how do i deap fry chicken? breast halve bone tablespoons\n",
      "Top similarities: [0.60154605 0.5705105  0.56810623 0.5489092  0.5408216 ]\n",
      "Loaded doc_id_mapping with 403666 entries\n"
     ]
    },
    {
     "name": "stderr",
     "output_type": "stream",
     "text": [
      "معالجة الاستعلامات:  47%|████▋     | 82/176 [04:11<05:21,  3.42s/استعلام]"
     ]
    },
    {
     "name": "stdout",
     "output_type": "stream",
     "text": [
      "Total documents in doc_data: 403666\n",
      "Sample doc_ids: ['2020338_0', '2020338_1', '2020338_2', '2020338_3', '2874684_0']\n",
      "Top indices: [114940 209860 368296 209896  27894]\n",
      "Selected document at doc_id 1842932_2, similarity: 0.601546049118042, text: ['copyrightpatented', 'invention']\n",
      "Selected document at doc_id 4018891_26, similarity: 0.5705105066299438, text: ['copyright', 'not', 'eeverything', 'protect', 'go', 'limit', 'word', 'term', 'use']\n",
      "Selected document at doc_id 4007876_1, similarity: 0.5681062340736389, text: ['copyrightgov', 'application', 'process', 'book', 'etc', 'cost', 'around', 'good', 'luck']\n",
      "Selected document at doc_id 4018891_62, similarity: 0.5489091873168945, text: ['say', 'copyright', 'care', 'use']\n",
      "Selected document at doc_id 2716137_1, similarity: 0.5408216118812561, text: ['call', 'copyright']\n",
      "Additional words from top 5 documents: copyrightpatented invention not eeverything\n",
      "🔍 Enhanced Query: How do I know if a particular term or phrase is copyrighted? copyrightpatented invention not eeverything\n",
      "Top similarities: [0.47092974 0.46817312 0.4681731  0.4681731  0.4681731 ]\n",
      "Loaded doc_id_mapping with 403666 entries\n"
     ]
    },
    {
     "name": "stderr",
     "output_type": "stream",
     "text": [
      "معالجة الاستعلامات:  47%|████▋     | 83/176 [04:14<05:14,  3.38s/استعلام]"
     ]
    },
    {
     "name": "stdout",
     "output_type": "stream",
     "text": [
      "Total documents in doc_data: 403666\n",
      "Sample doc_ids: ['2020338_0', '2020338_1', '2020338_2', '2020338_3', '2874684_0']\n",
      "Top indices: [274482 159850 308116 141307 141311]\n",
      "Selected document at doc_id 249670_8, similarity: 0.47092974185943604, text: ['parent', 'age']\n",
      "Selected document at doc_id 1663853_1, similarity: 0.4681731164455414, text: ['ask', 'parent']\n",
      "Selected document at doc_id 3905501_0, similarity: 0.468173086643219, text: ['ask', 'parent']\n",
      "Selected document at doc_id 535650_0, similarity: 0.468173086643219, text: ['ask', 'parent']\n",
      "Selected document at doc_id 535650_4, similarity: 0.468173086643219, text: ['ask', 'parent']\n",
      "Additional words from top 5 documents: age ask\n",
      "🔍 Enhanced Query: Why do parent put kids on restriction? age ask\n",
      "Top similarities: [0.56974745 0.48864347 0.46608037 0.43512633 0.4233032 ]\n",
      "Loaded doc_id_mapping with 403666 entries\n"
     ]
    },
    {
     "name": "stderr",
     "output_type": "stream",
     "text": [
      "معالجة الاستعلامات:  48%|████▊     | 84/176 [04:18<05:07,  3.34s/استعلام]"
     ]
    },
    {
     "name": "stdout",
     "output_type": "stream",
     "text": [
      "Total documents in doc_data: 403666\n",
      "Sample doc_ids: ['2020338_0', '2020338_1', '2020338_2', '2020338_3', '2874684_0']\n",
      "Top indices: [ 77219  37849 207627 223078 192975]\n",
      "Selected document at doc_id 804624_1, similarity: 0.5697474479675293, text: ['insurance']\n",
      "Selected document at doc_id 3928885_1, similarity: 0.48864346742630005, text: ['apply', 'insurance']\n",
      "Selected document at doc_id 950250_1, similarity: 0.46608036756515503, text: ['insurance', 'company', 'get', 'accident']\n",
      "Selected document at doc_id 1728246_2, similarity: 0.43512633442878723, text: ['insurance', 'pay', 'rental', 'car']\n",
      "Selected document at doc_id 65974_1, similarity: 0.42330318689346313, text: ['wwwzanderinsurancecom', 'get', 'identity', 'theft', 'insurance']\n",
      "Additional words from top 5 documents: apply company get accident\n",
      "🔍 Enhanced Query: Which auto insurance do you use and why? apply company get accident\n",
      "Top similarities: [0.5251235  0.47003525 0.4331511  0.4324355  0.42857665]\n",
      "Loaded doc_id_mapping with 403666 entries\n"
     ]
    },
    {
     "name": "stderr",
     "output_type": "stream",
     "text": [
      "معالجة الاستعلامات:  48%|████▊     | 85/176 [04:21<05:08,  3.39s/استعلام]"
     ]
    },
    {
     "name": "stdout",
     "output_type": "stream",
     "text": [
      "Total documents in doc_data: 403666\n",
      "Sample doc_ids: ['2020338_0', '2020338_1', '2020338_2', '2020338_3', '2874684_0']\n",
      "Top indices: [280194 172476 366817 366816 268250]\n",
      "Selected document at doc_id 443848_1, similarity: 0.5251234769821167, text: ['siberian', 'huskies', 'tough', 'dog', 'smart', 'learn', 'quickly', 'basic', 'obedience', 'recommend', 'look', 'local', 'library', 'siberian', 'huskies', 'dummy', 'dog', 'whisperer', 'helpful', 'book', 'local', 'library', 'not', 'ask', 'usually', 'available', 'website', 'interlibrary', 'loan', 'good', 'website', 'huskyspecific', 'train', 'tip', 'mention', 'httpwwwhuskypetlovecomhusky_alpha_traininghtml', 'try', 'ideas', 'dog', 'great', 'result', 'tip', 'huskies', 'not', 'train', 'leash', 'period', 'never', 'fee', 'dog', 'table', 'never', 'beg', 'limit', 'food', 'huskies', 'need', 'cup', 'dry', 'food', 'twice', 'per', 'day', 'accord', 'vet', 'use', 'food', 'great', 'motivator', 'even', 'small', 'morsel', 'bread', 'kibble', 'train', 'dog', 'kiss', 'nose', 'say', 'kiss', 'physically', 'move', 'nose', 'contact', 'cheek', 'say', 'good', 'boy', 'give', 'food', 'reward', 'train', 'basic', 'obedience', 'problem', 'make', 'sure', 'give', 'husky', 'enough', 'exercise', 'make', 'huge', 'difference', 'good', 'luck']\n",
      "Selected document at doc_id 288015_1, similarity: 0.47003525495529175, text: ['access', 'free', 'puppy', 'train', 'ebook', 'httpwwwdogtrainingsitescompuppies']\n",
      "Selected document at doc_id 1623802_7, similarity: 0.43315109610557556, text: ['huskies', 'smaller', 'size', 'blue', 'eye', 'sled', 'dog', 'able', 'run', 'long', 'distance', 'mals', 'heavier', 'dog', 'brown', 'eye', 'draft', 'dog', 'pull', 'heavy', 'sled', 'not', 'fast', 'dont', 'endurace', 'husky']\n",
      "Selected document at doc_id 1623802_6, similarity: 0.4324355125427246, text: ['httpwwwdogbreedinfocomsiberianhuskyhtm', 'httpwwwdogbreedinfocomalaskanmalamutehtm', 'sit', 'list', 'definition', 'animal', 'husky', 'usually', 'shorter', 'slimmer', 'build', 'coat', 'also', 'blue', 'eye', 'malamute', 'taller', 'stocky', 'thick', 'coat', 'brown', 'eye']\n",
      "Selected document at doc_id 1310911_6, similarity: 0.42857664823532104, text: ['get', 'trainer']\n",
      "Additional words from top 5 documents: huskies tough dog smart\n",
      "🔍 Enhanced Query: Does anybody know where i could get a free guide on how to train a siberian husky? huskies tough dog smart\n",
      "Top similarities: [0.547167   0.5318284  0.5088624  0.5002996  0.49198747]\n",
      "Loaded doc_id_mapping with 403666 entries\n"
     ]
    },
    {
     "name": "stderr",
     "output_type": "stream",
     "text": [
      "معالجة الاستعلامات:  49%|████▉     | 86/176 [04:25<05:17,  3.53s/استعلام]"
     ]
    },
    {
     "name": "stdout",
     "output_type": "stream",
     "text": [
      "Total documents in doc_data: 403666\n",
      "Sample doc_ids: ['2020338_0', '2020338_1', '2020338_2', '2020338_3', '2874684_0']\n",
      "Top indices: [215405 264247 137296 135719  97611]\n",
      "Selected document at doc_id 3638873_12, similarity: 0.5471670031547546, text: ['run', 'pilates', 'belly', 'drink']\n",
      "Selected document at doc_id 9153_4, similarity: 0.5318284034729004, text: ['situps', 'stomach', 'exercise']\n",
      "Selected document at doc_id 245498_3, similarity: 0.5088623762130737, text: ['yoga', 'pilates']\n",
      "Selected document at doc_id 2956945_3, similarity: 0.5002995729446411, text: ['sit', 'up', 'pilates']\n",
      "Selected document at doc_id 1533701_4, similarity: 0.4919874668121338, text: ['squat', 'buttocks', 'exercise']\n",
      "Additional words from top 5 documents: run pilates belly drink\n",
      "🔍 Enhanced Query: what are some good exercises to get rid of those love handles? run pilates belly drink\n",
      "Top similarities: [0.4935914  0.4914115  0.48577052 0.47799024 0.47552502]\n",
      "Loaded doc_id_mapping with 403666 entries\n"
     ]
    },
    {
     "name": "stderr",
     "output_type": "stream",
     "text": [
      "معالجة الاستعلامات:  49%|████▉     | 87/176 [04:29<05:16,  3.56s/استعلام]"
     ]
    },
    {
     "name": "stdout",
     "output_type": "stream",
     "text": [
      "Total documents in doc_data: 403666\n",
      "Sample doc_ids: ['2020338_0', '2020338_1', '2020338_2', '2020338_3', '2874684_0']\n",
      "Top indices: [202028 290931  21865 117165  53230]\n",
      "Selected document at doc_id 2180086_3, similarity: 0.49359139800071716, text: ['religion', 'start', 'probably', 'moremen', 'women', 'hence', 'name', 'mormen']\n",
      "Selected document at doc_id 719043_23, similarity: 0.4914115071296692, text: ['mormon']\n",
      "Selected document at doc_id 2773512_1, similarity: 0.4857705235481262, text: ['church', 'cavemen']\n",
      "Selected document at doc_id 1735232_13, similarity: 0.4779902398586273, text: ['problem', 'mormons']\n",
      "Selected document at doc_id 727771_8, similarity: 0.47552502155303955, text: ['mormonism']\n",
      "Additional words from top 5 documents: religion start probably moremen\n",
      "🔍 Enhanced Query: what are mormens? religion start probably moremen\n",
      "Top similarities: [0.65543735 0.5784132  0.5681509  0.56239164 0.5493363 ]\n",
      "Loaded doc_id_mapping with 403666 entries\n"
     ]
    },
    {
     "name": "stderr",
     "output_type": "stream",
     "text": [
      "معالجة الاستعلامات:  50%|█████     | 88/176 [04:32<05:08,  3.50s/استعلام]"
     ]
    },
    {
     "name": "stdout",
     "output_type": "stream",
     "text": [
      "Total documents in doc_data: 403666\n",
      "Sample doc_ids: ['2020338_0', '2020338_1', '2020338_2', '2020338_3', '2874684_0']\n",
      "Top indices: [297399 220287 297397 350987 378545]\n",
      "Selected document at doc_id 3753240_2, similarity: 0.6554373502731323, text: ['common', 'symptoms', 'strep', 'throat', 'sudden', 'severe', 'sore', 'throat', 'pain', 'difficulty', 'swallow', 'fever', '101', '383', 'swell', 'tonsils', 'lymph', 'nod', 'white', 'yellow', 'spot', 'back', 'bright', 'red', 'throat', 'strep', 'infection', 'may', 'also', 'cause', 'headache', 'abdominal', 'pain', 'less', 'commonly', 'strep', 'throat', 'cause', 'red', 'skin', 'rash', 'vomit', 'loss', 'appetite', 'general', 'feel', 'discomfort', 'illness']\n",
      "Selected document at doc_id 34041_5, similarity: 0.578413188457489, text: ['common', 'symptoms', 'strep', 'throat', 'children', 'adults', 'include', 'severe', 'sudden', 'sore', 'throat', 'without', 'cough', 'sneeze', 'coldlike', 'symptoms', 'pain', 'difficulty', 'swallow', 'fever', '101', 'f383', 'lower', 'fevers', 'may', 'indicate', 'viral', 'infection', 'not', 'strep', 'swell', 'lymph', 'nod', 'neck', 'white', 'yellow', 'spot', 'coat', 'throat', 'tonsils', 'bright', 'red', 'throat', 'dark', 'red', 'spot', 'roof', 'mouth', 'back', 'near', 'throat', 'swell', 'tonsils', 'although', 'symptom', 'may', 'also', 'cause', 'viral', 'infection']\n",
      "Selected document at doc_id 3753240_0, similarity: 0.5681508779525757, text: ['web', 'page', 'symptoms', 'strep', 'throat', 'httpwwwwebmdcomhwstrep_throathw54784asp', 'not', 'include', 'one', 'symptom', 'feel', 'really', 'really', 'yucky', 'ill', 'like', 'want', 'home', 'sleep', 'think', 'worst', 'day', 'life', 'yucky', 'feel', 'pass', 'day', 'sore', 'throat', 'remain', 'also', 'swallow', 'definately', 'feel', 'discomfort', 'minor', 'pain', 'feel', 'infection']\n",
      "Selected document at doc_id 2617887_6, similarity: 0.5623916387557983, text: ['strep', 'throat', 'infection', 'cause', 'group', 'streptococcus', 'bacteria', 'common', 'among', 'kid', 'teens', 'symptoms', 'strep', 'throat', 'include', 'fever', 'stomach', 'pain', 'red', 'swell', 'tonsils', 'strep', 'throat', 'usually', 'require', 'treatment', 'antibiotics', 'proper', 'medical', 'care', 'along', 'plenty', 'rest', 'fluids', 'back', 'schoolwork', 'play', 'within', 'days']\n",
      "Selected document at doc_id 2668911_2, similarity: 0.549336314201355, text: ['strep', 'throat', 'cause', 'bacteria', 'streptococcus', 'pyogenes', 'sore', 'throats', 'cause', 'virus', 'associate', 'colds', 'flu', 'common', 'symptoms', 'strep', 'throat', 'sudden', 'sore', 'throat', 'high', 'fever', 'fatigue', 'swell', 'tonsilslymph', 'nod', 'symptoms', 'coldsflu', 'usually', 'not', 'present', 'strep', 'throat', 'cough', 'runny', 'nose', 'rapid', 'diagnosis', 'important', 'reason', 'first', 'unlike', 'coldsflu', 'strep', 'throat', 'readily', 'treatable', 'antibiotics', 'second', 'several', 'serious', 'complications', 'occur', 'prolong', 'untreated', 'strep', 'infection']\n",
      "Additional words from top 5 documents: common sudden severe sore\n",
      "🔍 Enhanced Query: what are the symptoms of strep throat? common sudden severe sore\n",
      "Top similarities: [0.50085104 0.49751723 0.4957042  0.49475396 0.49362126]\n",
      "Loaded doc_id_mapping with 403666 entries\n"
     ]
    },
    {
     "name": "stderr",
     "output_type": "stream",
     "text": [
      "معالجة الاستعلامات:  51%|█████     | 89/176 [04:36<05:15,  3.63s/استعلام]"
     ]
    },
    {
     "name": "stdout",
     "output_type": "stream",
     "text": [
      "Total documents in doc_data: 403666\n",
      "Sample doc_ids: ['2020338_0', '2020338_1', '2020338_2', '2020338_3', '2874684_0']\n",
      "Top indices: [376276  50609 213026  36727  95858]\n",
      "Selected document at doc_id 327219_3, similarity: 0.500851035118103, text: ['bush', 'use', 'billions', 'afghanistan']\n",
      "Selected document at doc_id 229303_7, similarity: 0.4975172281265259, text: ['becouse', 'invader', 'still', 'invade', 'afghanistan']\n",
      "Selected document at doc_id 1736899_10, similarity: 0.49570420384407043, text: ['afghanistan', 'suppose', 'light', 'touch', 'war', 'assist', 'afghans', 'overthrow', 'taleban', 'west', 'sensitive', 'fact', 'afghans', 'kill', 'cheerfully', '500', 'years', 'thing', 'ever', 'unite', 'foreign', 'invader', 'persians', 'indians', 'british', 'russians', 'etc', 'stop', 'fight', 'beat', 'invader', 'back', 'kill', 'way', 'always', 'therefore', 'idea', 'brit', 'force', 'transitional', 'nato', 'force', 'eventually', 'force', 'assist', 'new', 'government', 'security', 'not', 'prosecute', 'war', 'iraq', 'similar', 'add', 'subtelty', 'act', 'magnet', 'anti', 'western', 'lunatics', 'everywhere', 'come', 'crack', 'ally', 'believe', 'strategy', 'ally', 'allow', 'happen', 'current', 'rate', 'attrition', '100', 'insurgents', 'kill', 'every', 'ally', 'soldier', 'kill', 'wound', 'war', 'acceptable', 'battlefield', 'ratio', 'one', 'west', 'win', 'also', 'every', 'nutter', 'go', 'iraq', 'run', 'tank', 'ak47', 'one', 'less', 'suicide', 'bomber', 'subway', 'new', 'york']\n",
      "Selected document at doc_id 1515562_3, similarity: 0.49475395679473877, text: ['stop', 'war']\n",
      "Selected document at doc_id 1755346_1, similarity: 0.49362125992774963, text: ['war', 'iraq']\n",
      "Additional words from top 5 documents: bush use billions becouse\n",
      "🔍 Enhanced Query: Why  is  the   war continuing  in  Afghanistan? bush use billions becouse\n",
      "Top similarities: [0.44987398 0.43596953 0.4120913  0.39314318 0.38508016]\n",
      "Loaded doc_id_mapping with 403666 entries\n"
     ]
    },
    {
     "name": "stderr",
     "output_type": "stream",
     "text": [
      "معالجة الاستعلامات:  51%|█████     | 90/176 [04:40<05:20,  3.73s/استعلام]"
     ]
    },
    {
     "name": "stdout",
     "output_type": "stream",
     "text": [
      "Total documents in doc_data: 403666\n",
      "Sample doc_ids: ['2020338_0', '2020338_1', '2020338_2', '2020338_3', '2874684_0']\n",
      "Top indices: [ 84577 380469 378487 218284 119293]\n",
      "Selected document at doc_id 2199848_8, similarity: 0.44987398386001587, text: ['probably', 'successful']\n",
      "Selected document at doc_id 1394986_5, similarity: 0.4359695315361023, text: ['successful']\n",
      "Selected document at doc_id 1455855_17, similarity: 0.41209131479263306, text: ['could', 'work']\n",
      "Additional words from top 5 documents: probably successful work\n",
      "🔍 Enhanced Query: how could u get success? probably successful work\n",
      "Top similarities: [0.5814522  0.5699585  0.56306887 0.54337    0.5331124 ]\n",
      "Loaded doc_id_mapping with 403666 entries\n"
     ]
    },
    {
     "name": "stderr",
     "output_type": "stream",
     "text": [
      "معالجة الاستعلامات:  52%|█████▏    | 91/176 [04:44<05:33,  3.93s/استعلام]"
     ]
    },
    {
     "name": "stdout",
     "output_type": "stream",
     "text": [
      "Total documents in doc_data: 403666\n",
      "Sample doc_ids: ['2020338_0', '2020338_1', '2020338_2', '2020338_3', '2874684_0']\n",
      "Top indices: [208243 247401 138791 185344 205609]\n",
      "Selected document at doc_id 1253368_5, similarity: 0.5814521908760071, text: ['concentrate', 'mind']\n",
      "Selected document at doc_id 1408062_3, similarity: 0.569958508014679, text: ['lack', 'concentrationcommitment']\n",
      "Selected document at doc_id 971642_3, similarity: 0.5630688667297363, text: ['concentrate']\n",
      "Selected document at doc_id 329228_8, similarity: 0.5433700084686279, text: ['concentrate', 'not', 'anymore']\n",
      "Selected document at doc_id 1645561_3, similarity: 0.5331124067306519, text: ['try', 'concentrate', 'class']\n",
      "Additional words from top 5 documents: mind lack concentrationcommitment anymore\n",
      "🔍 Enhanced Query: Why am I not able to concentrate on my studies? mind lack concentrationcommitment anymore\n",
      "Top similarities: [0.5495707 0.5300876 0.5264406 0.5197938 0.5000521]\n",
      "Loaded doc_id_mapping with 403666 entries\n"
     ]
    },
    {
     "name": "stderr",
     "output_type": "stream",
     "text": [
      "معالجة الاستعلامات:  52%|█████▏    | 92/176 [04:49<05:40,  4.05s/استعلام]"
     ]
    },
    {
     "name": "stdout",
     "output_type": "stream",
     "text": [
      "Total documents in doc_data: 403666\n",
      "Sample doc_ids: ['2020338_0', '2020338_1', '2020338_2', '2020338_3', '2874684_0']\n",
      "Top indices: [193890  46154 350211 261025 335605]\n",
      "Selected document at doc_id 940641_12, similarity: 0.5495706796646118, text: ['usually', 'puberty']\n",
      "Selected document at doc_id 3085721_6, similarity: 0.5300875902175903, text: ['puberty', 'read']\n",
      "Selected document at doc_id 823705_1, similarity: 0.5264406204223633, text: ['plus', 'puberty']\n",
      "Selected document at doc_id 2939305_0, similarity: 0.5197938084602356, text: ['puberty', 'probably']\n",
      "Selected document at doc_id 892380_12, similarity: 0.5000520944595337, text: ['sign', 'maturity']\n",
      "Additional words from top 5 documents: usually read plus probably\n",
      "🔍 Enhanced Query: what are some signs that puberty is beginning? usually read plus probably\n",
      "Top similarities: [0.5697534  0.56724286 0.5636815  0.54675055 0.53068   ]\n",
      "Loaded doc_id_mapping with 403666 entries\n"
     ]
    },
    {
     "name": "stderr",
     "output_type": "stream",
     "text": [
      "معالجة الاستعلامات:  53%|█████▎    | 93/176 [04:53<05:40,  4.11s/استعلام]"
     ]
    },
    {
     "name": "stdout",
     "output_type": "stream",
     "text": [
      "Total documents in doc_data: 403666\n",
      "Sample doc_ids: ['2020338_0', '2020338_1', '2020338_2', '2020338_3', '2874684_0']\n",
      "Top indices: [256450  38108 325859 225934 177501]\n",
      "Selected document at doc_id 1033025_0, similarity: 0.5697534084320068, text: ['well', 'know', 'milky', 'way', 'galaxy']\n",
      "Selected document at doc_id 3978312_0, similarity: 0.5672428607940674, text: ['galaxies', 'rotate', 'eachother', 'giant', 'bundle', 'superclusters', 'galaxy', 'milky', 'way', 'part', 'virgo', 'supercluster']\n",
      "Selected document at doc_id 178242_1, similarity: 0.5636814832687378, text: ['universe', 'expand', 'milky', 'way', 'andromeda', 'galaxy', 'distance', 'two', 'galaxies', 'decrease']\n",
      "Selected document at doc_id 1820834_8, similarity: 0.546750545501709, text: ['nebula', 'gas']\n",
      "Selected document at doc_id 2493620_3, similarity: 0.5306800007820129, text: ['nebula', 'cloud', 'gas', 'dust', 'space']\n",
      "Additional words from top 5 documents: well know galaxy galaxies\n",
      "🔍 Enhanced Query: what is the term milky way? well know galaxy galaxies\n",
      "Top similarities: [0.34926713 0.33661366 0.3270151  0.32187447 0.3170734 ]\n",
      "Loaded doc_id_mapping with 403666 entries\n"
     ]
    },
    {
     "name": "stderr",
     "output_type": "stream",
     "text": [
      "معالجة الاستعلامات:  53%|█████▎    | 94/176 [04:57<05:33,  4.07s/استعلام]"
     ]
    },
    {
     "name": "stdout",
     "output_type": "stream",
     "text": [
      "Total documents in doc_data: 403666\n",
      "Sample doc_ids: ['2020338_0', '2020338_1', '2020338_2', '2020338_3', '2874684_0']\n",
      "Top indices: [190046  45773  84868 213906  81177]\n",
      "No similar documents found for antique with sufficient similarity\n",
      "Top similarities: [0.49048918 0.46584517 0.40390623 0.3825258  0.37960407]\n",
      "Loaded doc_id_mapping with 403666 entries\n"
     ]
    },
    {
     "name": "stderr",
     "output_type": "stream",
     "text": [
      "معالجة الاستعلامات:  54%|█████▍    | 95/176 [05:01<05:28,  4.05s/استعلام]"
     ]
    },
    {
     "name": "stdout",
     "output_type": "stream",
     "text": [
      "Total documents in doc_data: 403666\n",
      "Sample doc_ids: ['2020338_0', '2020338_1', '2020338_2', '2020338_3', '2874684_0']\n",
      "Top indices: [138936  68878   1130 138941  81808]\n",
      "Selected document at doc_id 2976644_0, similarity: 0.4904891848564148, text: ['amoeba', 'head', 'toward', 'unsuspecting', 'paramecium', 'begin', 'spread', 'body', 'catch', 'prey', 'late', 'parameciumits', 'catch', 'amoeba', 'spread', 'even', 'surround', 'lunch', 'microbe', 'start', 'look', 'like', 'big', 'mitten', 'amoeba', 'keep', 'change', 'shape', 'enclose', 'prey', 'paramecium', 'soon', 'completely', 'inside', 'amoeba', 'amoeba', 'absorb', 'lunch', 'directly', 'inside', 'cell', 'wall']\n",
      "Selected document at doc_id 3612515_2, similarity: 0.46584516763687134, text: ['protists', 'include', 'amoebas', 'paramecia', 'euglenas']\n",
      "Selected document at doc_id 307607_1, similarity: 0.4039062261581421, text: ['cephalopod', 'nautilus', 'squid', 'cuttlefish', 'octopus']\n",
      "Additional words from top 5 documents: head toward unsuspecting paramecium\n",
      "🔍 Enhanced Query: How amoeba catches its prey? head toward unsuspecting paramecium\n",
      "Top similarities: [0.41929042 0.40940288 0.39440346 0.37186515 0.36307532]\n",
      "Loaded doc_id_mapping with 403666 entries\n"
     ]
    },
    {
     "name": "stderr",
     "output_type": "stream",
     "text": [
      "معالجة الاستعلامات:  55%|█████▍    | 96/176 [05:05<05:15,  3.95s/استعلام]"
     ]
    },
    {
     "name": "stdout",
     "output_type": "stream",
     "text": [
      "Total documents in doc_data: 403666\n",
      "Sample doc_ids: ['2020338_0', '2020338_1', '2020338_2', '2020338_3', '2874684_0']\n",
      "Top indices: [182363  89044  35371 171590 103707]\n",
      "Selected document at doc_id 1906617_3, similarity: 0.4192904233932495, text: ['shoshidad', 'correct']\n",
      "Selected document at doc_id 2225912_0, similarity: 0.40940287709236145, text: ['word', 'sholom', 'pronounce', 'sholem', 'traditional', 'hebrew', 'yiddish', 'greet', 'mean', 'peace']\n",
      "Additional words from top 5 documents: shoshidad correct word sholom\n",
      "🔍 Enhanced Query: What does sholomister mean? shoshidad correct word sholom\n",
      "Top similarities: [0.42496586 0.42373204 0.3856222  0.3811124  0.3807991 ]\n",
      "Loaded doc_id_mapping with 403666 entries\n"
     ]
    },
    {
     "name": "stderr",
     "output_type": "stream",
     "text": [
      "معالجة الاستعلامات:  55%|█████▌    | 97/176 [05:08<04:57,  3.76s/استعلام]"
     ]
    },
    {
     "name": "stdout",
     "output_type": "stream",
     "text": [
      "Total documents in doc_data: 403666\n",
      "Sample doc_ids: ['2020338_0', '2020338_1', '2020338_2', '2020338_3', '2874684_0']\n",
      "Top indices: [376172 317494  56264 138530 287151]\n",
      "Selected document at doc_id 3515884_12, similarity: 0.42496585845947266, text: ['muslims', 'dog']\n",
      "Selected document at doc_id 1108840_9, similarity: 0.42373204231262207, text: ['muslim', 'dog', 'conditional', 'like', 'watch', 'dog', 'home', 'security', 'protection', 'live', 'stock', 'cattle', 'security', 'hunt', 'etc', 'muslim', 'alhamdullillah', 'per', 'prophets', 'say', 'dog', 'saliva', 'unclean', 'therfore', 'may', 'cause', 'serious', 'kind', 'deseases', 'well', 'follow', 'find', 'sayings', 'regard', 'treat', 'dog', 'allahs', 'apostle', 'say', 'dog', 'drink', 'utensil', 'anyone', 'essential', 'wash', 'seven', 'time', 'narrate', 'adi', 'bin', 'hatim', 'ask', 'prophet', 'hunt', 'dog', 'reply', 'let', 'loose', 'allahs', 'name', 'tame', 'dog', 'game', 'hunt', 'may', 'eat', 'dog', 'eat', 'game', 'not', 'eat', 'dog', 'hunt', 'say', 'sometimes', 'send', 'dog', 'hunt', 'find', 'another', 'dog', 'say', 'not', 'eat', 'game', 'mention', 'allahs', 'name', 'send', 'dog', 'not', 'dog', 'allahs', 'apostle', 'say', 'man', 'walk', 'felt', 'thirsty', 'go', 'well', 'drink', 'water', 'come', 'saw', 'dog', 'pant', 'eat', 'mud', 'excessive', 'thirst', 'man', 'say', 'dog', 'suffer', 'problem', 'mine', 'go', 'well', 'fill', 'shoe', 'water', 'catch', 'hold', 'teeth', 'climb', 'water', 'dog', 'allah', 'thank', 'good', 'deed', 'forgive', 'people', 'ask', 'allahs', 'apostle', 'reward', 'serve', 'animals', 'reply', 'yes', 'reward', 'serve', 'animate', 'command', 'kill', 'dog', 'abrogation', 'prohibition', 'keep', 'hunt', 'protection', 'land', 'cattle', 'like', 'abu', 'huraira', 'allah', 'please', 'report', 'allahs', 'messenger', 'may', 'peace', 'upon', 'say', 'keep', 'dog', 'would', 'lose', 'deeds', 'equal', 'one', 'qirat', 'every', 'day', 'except', 'one', 'keep', 'watch', 'field', 'herd', 'god', 'know', 'best']\n",
      "Additional words from top 5 documents: muslims muslim conditional like\n",
      "🔍 Enhanced Query: Why is GW dogged for not getting OBL yet killing Zarkawi is a non-event? muslims muslim conditional like\n",
      "Top similarities: [0.42897725 0.42880148 0.41892987 0.41455668 0.39176056]\n",
      "Loaded doc_id_mapping with 403666 entries\n"
     ]
    },
    {
     "name": "stderr",
     "output_type": "stream",
     "text": [
      "معالجة الاستعلامات:  56%|█████▌    | 98/176 [05:11<04:41,  3.61s/استعلام]"
     ]
    },
    {
     "name": "stdout",
     "output_type": "stream",
     "text": [
      "Total documents in doc_data: 403666\n",
      "Sample doc_ids: ['2020338_0', '2020338_1', '2020338_2', '2020338_3', '2874684_0']\n",
      "Top indices: [214709 395985 386995 195157 299636]\n",
      "Selected document at doc_id 3365843_0, similarity: 0.42897725105285645, text: ['title', 'registration', 'show', 'ownership', 'vehicle']\n",
      "Selected document at doc_id 474325_5, similarity: 0.4288014769554138, text: ['need', 'dealer', 'proof', 'ownership']\n",
      "Selected document at doc_id 1411195_7, similarity: 0.4189298748970032, text: ['sell', 'junk', 'ebay']\n",
      "Selected document at doc_id 2078446_6, similarity: 0.41455668210983276, text: ['dmv', 'apply', 'lose', 'title']\n",
      "Additional words from top 5 documents: registration show ownership vehicle\n",
      "🔍 Enhanced Query: How do you sell a junk car without a title? registration show ownership vehicle\n",
      "Top similarities: [0.4961265  0.4272557  0.41433024 0.3911783  0.36619687]\n",
      "Loaded doc_id_mapping with 403666 entries\n"
     ]
    },
    {
     "name": "stderr",
     "output_type": "stream",
     "text": [
      "معالجة الاستعلامات:  56%|█████▋    | 99/176 [05:14<04:25,  3.44s/استعلام]"
     ]
    },
    {
     "name": "stdout",
     "output_type": "stream",
     "text": [
      "Total documents in doc_data: 403666\n",
      "Sample doc_ids: ['2020338_0', '2020338_1', '2020338_2', '2020338_3', '2874684_0']\n",
      "Top indices: [131323 280850  67744 138059 249463]\n",
      "Selected document at doc_id 2976091_3, similarity: 0.4961265027523041, text: ['military', 'service', 'program', 'discharge']\n",
      "Selected document at doc_id 1594981_1, similarity: 0.42725569009780884, text: ['unfit', 'military', 'service']\n",
      "Selected document at doc_id 549393_2, similarity: 0.41433024406433105, text: ['military', 'back', 'ssn']\n",
      "Additional words from top 5 documents: military service program discharge\n",
      "🔍 Enhanced Query: why did the army have personal cuts in the mid 1990's? military service program discharge\n",
      "Top similarities: [0.42055425 0.4177877  0.409553   0.39346755 0.39236736]\n",
      "Loaded doc_id_mapping with 403666 entries\n"
     ]
    },
    {
     "name": "stderr",
     "output_type": "stream",
     "text": [
      "معالجة الاستعلامات:  57%|█████▋    | 100/176 [05:17<04:13,  3.34s/استعلام]"
     ]
    },
    {
     "name": "stdout",
     "output_type": "stream",
     "text": [
      "Total documents in doc_data: 403666\n",
      "Sample doc_ids: ['2020338_0', '2020338_1', '2020338_2', '2020338_3', '2874684_0']\n",
      "Top indices: [288063 265538 384690 380305 226480]\n",
      "Selected document at doc_id 1222002_6, similarity: 0.4205542504787445, text: ['cuz', 'history']\n",
      "Selected document at doc_id 253103_9, similarity: 0.41778770089149475, text: ['islams', 'bible']\n",
      "Selected document at doc_id 1248486_14, similarity: 0.40955299139022827, text: ['start', 'back', 'holy', 'crusade', 'roman', 'catholic', 'church', 'height', 'power', 'send', 'armies', 'muslim', 'countries', 'slaughter', 'people', 'thousands', 'try', 'extinguish', 'every', 'religion', 'christianity', 'hold', 'centuries', 'issue', 'make', 'hate', 'dont', 'like', 'lifestyle', 'culture', 'especially', 'womens', 'right', 'way', 'women', 'allow', 'dress', 'express', 'freely', 'not', 'like', 'fact', 'america', 'take', 'oil', 'send', 'army', 'take', 'control', 'countries', 'west', 'believe', 'muslims', 'terrorists', 'compare', 'number', 'last', 'years', 'show', 'american', 'kill', 'muslims', 'far', 'compare', 'vice', 'versa', 'not', 'muslims', 'hate', 'west', 'blame']\n",
      "Additional words from top 5 documents: cuz islams bible start\n",
      "🔍 Enhanced Query: when it comes to religion why dont people realize history repeats itself? cuz islams bible start\n",
      "Top similarities: [0.49558225 0.48679817 0.4780411  0.45800298 0.45469522]\n",
      "Loaded doc_id_mapping with 403666 entries\n"
     ]
    },
    {
     "name": "stderr",
     "output_type": "stream",
     "text": [
      "معالجة الاستعلامات:  57%|█████▋    | 101/176 [05:21<04:07,  3.31s/استعلام]"
     ]
    },
    {
     "name": "stdout",
     "output_type": "stream",
     "text": [
      "Total documents in doc_data: 403666\n",
      "Sample doc_ids: ['2020338_0', '2020338_1', '2020338_2', '2020338_3', '2874684_0']\n",
      "Top indices: [ 80535 192197 237186 291944  24195]\n",
      "Selected document at doc_id 49713_4, similarity: 0.49558225274086, text: ['treatment', 'hiccup', 'depend', 'severe', 'common', 'hiccup', 'usually', 'stop', 'home', 'remedy', 'generally', 'recommend', 'severe', 'persistent', 'hiccup', 'doctor', 'may', 'try', 'medications', 'manage', 'hiccup', 'chlorpromazine', 'thorazine', 'usually', 'first', 'prescription', 'medication', 'try', 'hiccup', 'although', 'drug', 'baclofen', 'lioresal', 'medications', 'convulsions', 'phenytoin', 'dilantin', 'also', 'successful', 'surgery', 'disable', 'phrenic', 'nerve', 'nerve', 'control', 'diaphragm', 'often', 'treatment', 'last', 'resort', 'hold', 'breath', 'drink', 'glass', 'water', 'quickly', 'become', 'frighten', 'use', 'smell', 'salt', 'pull', 'hard', 'tongue', 'place', 'onehalf', 'teaspoon', 'dry', 'sugar', 'back', 'tongue', 'repeat', 'process', 'time', '2minute', 'intervals', 'use', 'corn', 'syrup', 'not', 'sugar', 'young', 'children']\n",
      "Selected document at doc_id 4104910_5, similarity: 0.48679816722869873, text: ['mean', 'hicups', 'spasms', 'lower', 'diaphragm', 'sudden', 'rush', 'air', 'lungs', 'cause', 'glottis', 'close', 'create', 'hic', 'noise', 'bout', 'hiccup', 'generally', 'resolve', 'although', 'many', 'home', 'remedy', 'circulation', 'shorten', 'duration', 'medication', 'occasionally', 'necessary', 'extension', 'term', 'hiccup', 'also', 'use', 'describe', 'small', 'unrepeated', 'aberration', 'otherwise', 'consistent', 'pattern', 'medical', 'term', 'singultus', 'many', 'case', 'develop', 'spontaneously', 'hiccup', 'know', 'develop', 'often', 'specific', 'situations', 'eat', 'quickly', 'take', 'cold', 'drink', 'eat', 'hot', 'meal', 'eat', 'hot', 'spicy', 'food', 'laugh', 'vigorously', 'cough', 'drink', 'excess', 'alcoholic', 'beverage', 'hiccup', 'may', 'cause', 'pressure', 'phrenic', 'nerve', 'anatomical', 'structure', 'rarely', 'tumors']\n",
      "Selected document at doc_id 3278257_2, similarity: 0.4780411124229431, text: ['hiccup', 'hiccough', 'generally', 'pronounce', 'hickcup', 'ipa', 'ˈhɪkəp', 'independent', 'spell', 'involuntary', 'spasm', 'diaphragm', 'typically', 'repeat', 'several', 'time', 'minute', 'sudden', 'rush', 'air', 'lungs', 'cause', 'glottis', 'close', 'create', 'hic', 'noise', 'bout', 'hiccup', 'generally', 'resolve', 'although', 'many', 'home', 'remedy', 'circulation', 'shorten', 'duration', 'medication', 'occasionally', 'necessary', 'extension', 'term', 'hiccup', 'also', 'use', 'describe', 'small', 'unrepeated', 'aberration', 'otherwise', 'consistent', 'pattern', 'medical', 'term', 'singultus', 'many', 'case', 'develop', 'spontaneously', 'hiccup', 'know', 'develop', 'often', 'specific', 'situations', 'eat', 'quickly', 'take', 'cold', 'drink', 'eat', 'hot', 'meal', 'eat', 'hot', 'spicy', 'food', 'laugh', 'vigorously', 'cough', 'drink', 'excess', 'alcoholic', 'beverage', 'electrolyte', 'imbalance', 'hiccup', 'may', 'cause', 'pressure', 'phrenic', 'nerve', 'anatomical', 'structure', 'rarely', 'tumors', 'certain', 'kidney', 'disease', 'report', 'chemotherapy', 'patients', 'suffer', 'singultus', 'side', 'effect', 'treatment', 'american', 'cancer', 'society', 'still', 'unclear', 'scientists', 'exactly', 'hiccup', 'occur', 'particularly', 'doesnt', 'seem', 'give', 'specific', 'benefit', 'speculation', 'exist', 'hiccup', 'remnant', 'bodily', 'function', 'phase', 'evolution', 'move', 'aquatic', 'gilled', 'creatures', 'land', 'animals', 'ultrasounds', 'also', 'show', 'unborn', 'fetuses', 'experience', 'hiccup', 'suggest', 'hypotheses', 'include', 'hiccup', 'possible', 'muscle', 'exercise', 'childs', 'respiratory', 'system', 'prior', 'birth', 'preventive', 'measure', 'keep', 'amniotic', 'fluid', 'enter', 'lungs', 'research', 'require', 'ascertain', 'true', 'nature', 'origins', 'purpose']\n",
      "Selected document at doc_id 1458129_1, similarity: 0.4580029845237732, text: ['actually', 'cause', 'hiccup', 'way', 'get', 'hiccup', 'think', 'free', 'leisure', 'lack', 'water', 'body', 'hiccup', 'often', 'occur', 'like', 'sign', 'tell', 'drink', 'water', 'gulp', 'water', 'hiccup', 'go', 'probable', 'bcoz', 'lack', 'water', 'mind', 'free']\n",
      "Selected document at doc_id 3078974_3, similarity: 0.4546952247619629, text: ['bouts', 'hiccup', 'away', 'within', 'minutes', 'hours', 'not', 'require', 'treatment', 'many', 'home', 'remedy', 'use', 'treat', 'hiccup', 'involve', 'increase', 'level', 'carbon', 'dioxide', 'blood', 'usually', 'stop', 'hiccup', 'remedy', 'include', 'hold', 'breath', 'count', 'slowly', 'ten', 'breathe', 'repeatedly', 'paper', 'bag', 'limit', 'period', 'time', 'quickly', 'drink', 'glass', 'cold', 'water', 'eat', 'teaspoon', 'sugar', 'honey']\n",
      "Additional words from top 5 documents: treatment hiccup depend severe\n",
      "🔍 Enhanced Query: How can I get rid of the hicups? treatment hiccup depend severe\n",
      "Top similarities: [0.3607434  0.34326485 0.33739254 0.33739254 0.33739254]\n",
      "Loaded doc_id_mapping with 403666 entries\n"
     ]
    },
    {
     "name": "stderr",
     "output_type": "stream",
     "text": [
      "معالجة الاستعلامات:  58%|█████▊    | 102/176 [05:24<04:02,  3.27s/استعلام]"
     ]
    },
    {
     "name": "stdout",
     "output_type": "stream",
     "text": [
      "Total documents in doc_data: 403666\n",
      "Sample doc_ids: ['2020338_0', '2020338_1', '2020338_2', '2020338_3', '2874684_0']\n",
      "Top indices: [120457 355970  27054 392215  43464]\n",
      "No similar documents found for antique with sufficient similarity\n",
      "Top similarities: [0.41484988 0.40925163 0.39854056 0.39084992 0.3902785 ]\n",
      "Loaded doc_id_mapping with 403666 entries\n"
     ]
    },
    {
     "name": "stderr",
     "output_type": "stream",
     "text": [
      "معالجة الاستعلامات:  59%|█████▊    | 103/176 [05:27<03:59,  3.28s/استعلام]"
     ]
    },
    {
     "name": "stdout",
     "output_type": "stream",
     "text": [
      "Total documents in doc_data: 403666\n",
      "Sample doc_ids: ['2020338_0', '2020338_1', '2020338_2', '2020338_3', '2874684_0']\n",
      "Top indices: [285605 383333 131312  21492 330295]\n",
      "Selected document at doc_id 4290187_2, similarity: 0.4148498773574829, text: ['saddam', 'kill', 'millions']\n",
      "Selected document at doc_id 3911272_3, similarity: 0.4092516303062439, text: ['well', 'let', 'think', 'liberals', 'constantly', 'criticize', 'war', 'good', 'things', 'happen', 'iraqbut', 'media', 'doesnt', 'report', 'huh', 'liberalcontrolled', 'media', 'doesnt', 'want', 'report', 'anything', 'positive', 'iraq', 'would', 'find', 'better', 'strike', 'fear', 'hatred', 'hearts', 'americans', 'rather', 'pride', 'security']\n",
      "Additional words from top 5 documents: kill millions well let\n",
      "🔍 Enhanced Query: Why are liberals so quick to defend Saddam? kill millions well let\n",
      "Top similarities: [0.47685158 0.47685158 0.4325634  0.42366132 0.41789728]\n",
      "Loaded doc_id_mapping with 403666 entries\n"
     ]
    },
    {
     "name": "stderr",
     "output_type": "stream",
     "text": [
      "معالجة الاستعلامات:  59%|█████▉    | 104/176 [05:30<03:57,  3.30s/استعلام]"
     ]
    },
    {
     "name": "stdout",
     "output_type": "stream",
     "text": [
      "Total documents in doc_data: 403666\n",
      "Sample doc_ids: ['2020338_0', '2020338_1', '2020338_2', '2020338_3', '2874684_0']\n",
      "Top indices: [160709 358739  52961 208692  25121]\n",
      "Selected document at doc_id 2198611_7, similarity: 0.47685158252716064, text: ['fry', 'chicken']\n",
      "Selected document at doc_id 2649139_13, similarity: 0.47685158252716064, text: ['fry', 'chicken']\n",
      "Selected document at doc_id 827653_0, similarity: 0.4325633943080902, text: ['fry', 'chicken', 'waffle']\n",
      "Selected document at doc_id 1983610_15, similarity: 0.42366132140159607, text: ['reason', 'black', 'like', 'fry', 'chicken']\n",
      "Selected document at doc_id 2913204_2, similarity: 0.4178972840309143, text: ['rappers', 'black']\n",
      "Additional words from top 5 documents: waffle reason rappers\n",
      "🔍 Enhanced Query: why do black people like fried chicken somuch? waffle reason rappers\n",
      "Top similarities: [0.41005394 0.38180906 0.3736344  0.37067991 0.3610126 ]\n",
      "Loaded doc_id_mapping with 403666 entries\n"
     ]
    },
    {
     "name": "stderr",
     "output_type": "stream",
     "text": [
      "معالجة الاستعلامات:  60%|█████▉    | 105/176 [05:34<04:04,  3.44s/استعلام]"
     ]
    },
    {
     "name": "stdout",
     "output_type": "stream",
     "text": [
      "Total documents in doc_data: 403666\n",
      "Sample doc_ids: ['2020338_0', '2020338_1', '2020338_2', '2020338_3', '2874684_0']\n",
      "Top indices: [211263 247800 232436 349169 155232]\n",
      "Selected document at doc_id 3034124_1, similarity: 0.41005393862724304, text: ['zerogravity', 'environment', 'astronauts', 'return', 'earth', 'taller', 'leave', 'lay', 'spine', 'release', 'pressure', 'taller', 'wake', 'go', 'sleep']\n",
      "Additional words from top 5 documents: zerogravity environment return earth\n",
      "🔍 Enhanced Query: How does spending prolonged time in microgravity affect the bodies of astronauts? zerogravity environment return earth\n",
      "Top similarities: [0.55184263 0.50583595 0.50583595 0.47626746 0.46010578]\n",
      "Loaded doc_id_mapping with 403666 entries\n"
     ]
    },
    {
     "name": "stderr",
     "output_type": "stream",
     "text": [
      "معالجة الاستعلامات:  60%|██████    | 106/176 [05:38<04:01,  3.44s/استعلام]"
     ]
    },
    {
     "name": "stdout",
     "output_type": "stream",
     "text": [
      "Total documents in doc_data: 403666\n",
      "Sample doc_ids: ['2020338_0', '2020338_1', '2020338_2', '2020338_3', '2874684_0']\n",
      "Top indices: [ 26328 229706 292600 177238 365661]\n",
      "Selected document at doc_id 1028133_3, similarity: 0.5518426299095154, text: ['goodluck', 'try', 'skunk', 'spray', 'use', 'methods', 'remove', 'stink', 'month', 'animal', 'control', 'tell', 'set', 'trap', 'away', 'house', 'slowly', 'put', 'tarp', 'cage', 'take', 'pond', 'drown', 'skunk', 'could', 'finally', 'leave']\n",
      "Selected document at doc_id 131695_9, similarity: 0.5058359503746033, text: ['another', 'name', 'skunk']\n",
      "Selected document at doc_id 1744720_1, similarity: 0.5058359503746033, text: ['another', 'name', 'skunk']\n",
      "Selected document at doc_id 175902_5, similarity: 0.4762674570083618, text: ['try', 'put', 'moth', 'ball', 'around', 'porch', 'might', 'want', 'leave', 'one', 'part', 'without', 'leave', 'smaller', 'animals', 'rodents', 'work', 'well', 'skunk', 'hate', 'smell', 'moth', 'ball', 'might', 'annoy', 'bite', 'hey', 'never', 'bother', 'porch', 'anymore', 'lol', 'go', 'use', 'live', 'trap', 'like', 'previous', 'person', 'suggest', 'careful', 'hire', 'professional', 'friend', 'arrest', 'transport', 'skunk', 'neighbor', 'wooded', 'area', 'town', 'doesnt', 'permit', 'transport', 'wild', 'animals', 'pretty', 'strict']\n",
      "Selected document at doc_id 421753_7, similarity: 0.4601057767868042, text: ['google', 'national', 'trappers', 'association', 'state', 'trappers', 'association', 'find', 'nuisance', 'trapper', 'near', 'able', 'get', 'rid', 'skunk', 'without', 'spray', 'reliable', 'nuisance', 'trapper', 'sprayno', 'pay', 'policy', 'best', 'product', 'get', 'rid', 'smell', 'call', 'skunk', 'remember', 'call', 'trapper', 'doesnt', 'mean', 'animal', 'destroy', 'hurt', 'trapper', 'use', 'livetrap', 'may', 'release', 'skunk', 'far', 'enough', 'away', 'not', 'become', 'problem', 'forget', 'lemon', 'tomato', 'juice', 'good', 'luck']\n",
      "Additional words from top 5 documents: goodluck try spray use\n",
      "🔍 Enhanced Query: how to get rid of a skunk? goodluck try spray use\n",
      "Top similarities: [0.57099926 0.512667   0.49032488 0.48963785 0.48384607]\n",
      "Loaded doc_id_mapping with 403666 entries\n"
     ]
    },
    {
     "name": "stderr",
     "output_type": "stream",
     "text": [
      "معالجة الاستعلامات:  61%|██████    | 107/176 [05:41<03:57,  3.45s/استعلام]"
     ]
    },
    {
     "name": "stdout",
     "output_type": "stream",
     "text": [
      "Total documents in doc_data: 403666\n",
      "Sample doc_ids: ['2020338_0', '2020338_1', '2020338_2', '2020338_3', '2874684_0']\n",
      "Top indices: [151393 306343 147063 113564 286614]\n",
      "Selected document at doc_id 864996_1, similarity: 0.570999264717102, text: ['germans']\n",
      "Selected document at doc_id 3942811_14, similarity: 0.5126670002937317, text: ['germans', 'invent', 'alot', 'stuffalbert', 'einstein', 'also', 'germany', 'adolf', 'hitler', 'hate', 'bastard', 'germans', 'think', 'america', 'bush', 'germanamerican', 'think', 'america', 'suck', 'becouse', 'bush']\n",
      "Selected document at doc_id 2227338_2, similarity: 0.49032488465309143, text: ['reason', 'germans', 'dont', 'like', 'turks']\n",
      "Selected document at doc_id 691790_3, similarity: 0.4896378517150879, text: ['germans', 'dark', 'age']\n",
      "Selected document at doc_id 1671791_17, similarity: 0.4838460683822632, text: ['many', 'people', 'prefert', 'suck', 'bunch', 'inbred', 'germans']\n",
      "Additional words from top 5 documents: invent alot stuffalbert einstein\n",
      "🔍 Enhanced Query: Why do people say Germans are racists? invent alot stuffalbert einstein\n",
      "Top similarities: [0.48266307 0.46387345 0.45353872 0.4221406  0.39799318]\n",
      "Loaded doc_id_mapping with 403666 entries\n"
     ]
    },
    {
     "name": "stderr",
     "output_type": "stream",
     "text": [
      "معالجة الاستعلامات:  61%|██████▏   | 108/176 [05:45<03:58,  3.51s/استعلام]"
     ]
    },
    {
     "name": "stdout",
     "output_type": "stream",
     "text": [
      "Total documents in doc_data: 403666\n",
      "Sample doc_ids: ['2020338_0', '2020338_1', '2020338_2', '2020338_3', '2874684_0']\n",
      "Top indices: [297749 173218  75921 172211   1829]\n",
      "Selected document at doc_id 3806355_1, similarity: 0.4826630651950836, text: ['genetics', 'heredity', 'menopause']\n",
      "Selected document at doc_id 3422923_0, similarity: 0.4638734459877014, text: ['hormones', 'shave', 'everyday']\n",
      "Selected document at doc_id 3743203_1, similarity: 0.453538715839386, text: ['mean', 'baldness', 'genetic', 'mother', 'father']\n",
      "Selected document at doc_id 1655513_9, similarity: 0.42214059829711914, text: ['cuz', 'dont', 'shave']\n",
      "Additional words from top 5 documents: genetics heredity menopause hormones\n",
      "🔍 Enhanced Query: what causes gray facial hair in men? genetics heredity menopause hormones\n",
      "Top similarities: [0.5906316  0.5784804  0.56848717 0.5681908  0.5560152 ]\n",
      "Loaded doc_id_mapping with 403666 entries\n"
     ]
    },
    {
     "name": "stderr",
     "output_type": "stream",
     "text": [
      "معالجة الاستعلامات:  62%|██████▏   | 109/176 [05:48<03:55,  3.51s/استعلام]"
     ]
    },
    {
     "name": "stdout",
     "output_type": "stream",
     "text": [
      "Total documents in doc_data: 403666\n",
      "Sample doc_ids: ['2020338_0', '2020338_1', '2020338_2', '2020338_3', '2874684_0']\n",
      "Top indices: [ 82375  54245 244573 378903 277212]\n",
      "Selected document at doc_id 2667973_0, similarity: 0.5906316041946411, text: ['pitbull', 'whine', 'exhibit', 'whine', 'make', 'react', 'certain', 'way', 'give', 'attentionas', 'pitbull', 'owner', 'pitbulls', 'love', 'attention', 'activity', 'even', 'get', 'walk', 'around', 'house', 'follow', 'theyll', 'enjoy', 'best', 'advice', 'get', 'pitbull', 'normal', 'schedule', 'eat', 'go', 'outside', 'play', 'whine', 'decrease', 'eventually', 'cease']\n",
      "Selected document at doc_id 3523258_1, similarity: 0.5784804224967957, text: ['pitbull', 'not']\n",
      "Selected document at doc_id 3818383_3, similarity: 0.5684871673583984, text: ['ask', 'pitbull']\n",
      "Selected document at doc_id 3703662_4, similarity: 0.5681908130645752, text: ['pitbull', 'love', 'pit', 'bull']\n",
      "Selected document at doc_id 1391529_5, similarity: 0.5560151934623718, text: ['well', 'think', 'mislead', 'pitbulls', 'sweet', 'gentle', 'animals', 'usually', 'get', 'violent', 'owners', 'mistreat', 'not', 'theyre', 'violent', 'personality', 'people', 'think', 'pitbulls', 'go', 'violent', 'dont', 'love', 'care', 'two', 'things', 'make', 'great', 'love', 'pet']\n",
      "Additional words from top 5 documents: whine exhibit make react\n",
      "🔍 Enhanced Query: How do i get my pitbull more agressive? whine exhibit make react\n",
      "Top similarities: [0.49346334 0.44442832 0.44017792 0.43866372 0.43191725]\n",
      "Loaded doc_id_mapping with 403666 entries\n"
     ]
    },
    {
     "name": "stderr",
     "output_type": "stream",
     "text": [
      "معالجة الاستعلامات:  62%|██████▎   | 110/176 [05:52<03:54,  3.55s/استعلام]"
     ]
    },
    {
     "name": "stdout",
     "output_type": "stream",
     "text": [
      "Total documents in doc_data: 403666\n",
      "Sample doc_ids: ['2020338_0', '2020338_1', '2020338_2', '2020338_3', '2874684_0']\n",
      "Top indices: [108906 136287 342805 396970  30203]\n",
      "Selected document at doc_id 3739403_1, similarity: 0.49346333742141724, text: ['smell', 'ears']\n",
      "Selected document at doc_id 3345832_10, similarity: 0.44442832469940186, text: ['smell', 'stinkslol']\n",
      "Selected document at doc_id 2238074_14, similarity: 0.44017791748046875, text: ['rub', 'nose', 'spray']\n",
      "Selected document at doc_id 3504952_2, similarity: 0.4386637210845947, text: ['smell', 'behind', 'ears', 'soap', 'water']\n",
      "Selected document at doc_id 1350863_0, similarity: 0.4319172501564026, text: ['breath', 'stink']\n",
      "Additional words from top 5 documents: smell stinkslol rub nose\n",
      "🔍 Enhanced Query: what can make someones ear's stink? smell stinkslol rub nose\n",
      "Top similarities: [0.68876433 0.6181948  0.5968586  0.59392035 0.59265363]\n",
      "Loaded doc_id_mapping with 403666 entries\n"
     ]
    },
    {
     "name": "stderr",
     "output_type": "stream",
     "text": [
      "معالجة الاستعلامات:  63%|██████▎   | 111/176 [05:55<03:44,  3.46s/استعلام]"
     ]
    },
    {
     "name": "stdout",
     "output_type": "stream",
     "text": [
      "Total documents in doc_data: 403666\n",
      "Sample doc_ids: ['2020338_0', '2020338_1', '2020338_2', '2020338_3', '2874684_0']\n",
      "Top indices: [ 96506 247449 222894 368640 139829]\n",
      "Selected document at doc_id 3823488_2, similarity: 0.6887643337249756, text: ['alive']\n",
      "Selected document at doc_id 64350_2, similarity: 0.6181948184967041, text: ['yep', 'alive']\n",
      "Selected document at doc_id 3858303_10, similarity: 0.5968586206436157, text: ['hes', 'alive']\n",
      "Selected document at doc_id 1631289_28, similarity: 0.5939203500747681, text: ['still', 'live']\n",
      "Selected document at doc_id 3763316_3, similarity: 0.5926536321640015, text: ['yes', 'still', 'alive']\n",
      "Additional words from top 5 documents: yep hes still live\n",
      "🔍 Enhanced Query: Why am I alive? yep hes still live\n",
      "Top similarities: [0.50534606 0.50534606 0.50534606 0.50534606 0.50534606]\n",
      "Loaded doc_id_mapping with 403666 entries\n"
     ]
    },
    {
     "name": "stderr",
     "output_type": "stream",
     "text": [
      "معالجة الاستعلامات:  64%|██████▎   | 112/176 [05:58<03:39,  3.43s/استعلام]"
     ]
    },
    {
     "name": "stdout",
     "output_type": "stream",
     "text": [
      "Total documents in doc_data: 403666\n",
      "Sample doc_ids: ['2020338_0', '2020338_1', '2020338_2', '2020338_3', '2874684_0']\n",
      "Top indices: [247829 247839  78646 247828 263445]\n",
      "Selected document at doc_id 3917891_17, similarity: 0.5053460597991943, text: ['float']\n",
      "Selected document at doc_id 3917891_27, similarity: 0.5053460597991943, text: ['float']\n",
      "Selected document at doc_id 1247575_3, similarity: 0.5053460597991943, text: ['float']\n",
      "Selected document at doc_id 3917891_16, similarity: 0.5053460597991943, text: ['float']\n",
      "Selected document at doc_id 2875090_3, similarity: 0.5053460597991943, text: ['float']\n",
      "Additional words from top 5 documents: \n",
      "No new words to add to query for antique\n",
      "Top similarities: [0.6435472  0.5733346  0.57333434 0.57333434 0.52167124]\n",
      "Loaded doc_id_mapping with 403666 entries\n"
     ]
    },
    {
     "name": "stderr",
     "output_type": "stream",
     "text": [
      "معالجة الاستعلامات:  64%|██████▍   | 113/176 [06:02<03:30,  3.34s/استعلام]"
     ]
    },
    {
     "name": "stdout",
     "output_type": "stream",
     "text": [
      "Total documents in doc_data: 403666\n",
      "Sample doc_ids: ['2020338_0', '2020338_1', '2020338_2', '2020338_3', '2874684_0']\n",
      "Top indices: [ 10260 116681  75967  89262 111560]\n",
      "Selected document at doc_id 1582806_2, similarity: 0.6435471773147583, text: ['chlamydia', 'std']\n",
      "Selected document at doc_id 3037728_9, similarity: 0.5733345746994019, text: ['std']\n",
      "Selected document at doc_id 3348954_0, similarity: 0.5733343362808228, text: ['std']\n",
      "Selected document at doc_id 848055_4, similarity: 0.5733343362808228, text: ['std']\n",
      "Selected document at doc_id 3411126_0, similarity: 0.5216712355613708, text: ['std', 'sexually', 'transmit', 'diseases']\n",
      "Additional words from top 5 documents: chlamydia diseases\n",
      "🔍 Enhanced Query: how can i cure the std or the sexually transmitted disease? chlamydia diseases\n",
      "Top similarities: [0.59681004 0.5918186  0.5862802  0.58117235 0.57988656]\n",
      "Loaded doc_id_mapping with 403666 entries\n"
     ]
    },
    {
     "name": "stderr",
     "output_type": "stream",
     "text": [
      "معالجة الاستعلامات:  65%|██████▍   | 114/176 [06:05<03:27,  3.35s/استعلام]"
     ]
    },
    {
     "name": "stdout",
     "output_type": "stream",
     "text": [
      "Total documents in doc_data: 403666\n",
      "Sample doc_ids: ['2020338_0', '2020338_1', '2020338_2', '2020338_3', '2874684_0']\n",
      "Top indices: [321181 359370 208921 148850 363341]\n",
      "Selected document at doc_id 3986602_2, similarity: 0.5968100428581238, text: ['like', 'brown', 'green', 'eye']\n",
      "Selected document at doc_id 2330184_4, similarity: 0.5918185710906982, text: ['bright', 'pink', 'almost', 'magenta']\n",
      "Selected document at doc_id 3931804_4, similarity: 0.5862802267074585, text: ['violet', 'blue', 'tint']\n",
      "Selected document at doc_id 248942_4, similarity: 0.5811723470687866, text: ['like', 'blue']\n",
      "Selected document at doc_id 4087314_2, similarity: 0.5798865556716919, text: ['color', 'white']\n",
      "Additional words from top 5 documents: brown green eye bright\n",
      "🔍 Enhanced Query: what color you like the most and why? brown green eye bright\n",
      "Top similarities: [0.51272386 0.49713936 0.49408937 0.47687012 0.46671206]\n",
      "Loaded doc_id_mapping with 403666 entries\n"
     ]
    },
    {
     "name": "stderr",
     "output_type": "stream",
     "text": [
      "معالجة الاستعلامات:  65%|██████▌   | 115/176 [06:08<03:22,  3.32s/استعلام]"
     ]
    },
    {
     "name": "stdout",
     "output_type": "stream",
     "text": [
      "Total documents in doc_data: 403666\n",
      "Sample doc_ids: ['2020338_0', '2020338_1', '2020338_2', '2020338_3', '2874684_0']\n",
      "Top indices: [222432 244562 116157 183690 180364]\n",
      "Selected document at doc_id 2427314_7, similarity: 0.5127238631248474, text: ['islam', 'truth']\n",
      "Selected document at doc_id 3614937_3, similarity: 0.4971393644809723, text: ['muslims', 'take', 'europe']\n",
      "Selected document at doc_id 4120781_13, similarity: 0.49408936500549316, text: ['ignore', 'islam', 'listen', 'bias', 'media']\n",
      "Selected document at doc_id 2072335_13, similarity: 0.4768701195716858, text: ['media', 'portray', 'terrorists']\n",
      "Selected document at doc_id 3826465_6, similarity: 0.4667120575904846, text: ['media', 'destroy', 'image', 'islam']\n",
      "Additional words from top 5 documents: muslims take ignore listen\n",
      "🔍 Enhanced Query: why the media in US and Europe is always attacking the Arabs and Islam without finding the truth about them? muslims take ignore listen\n",
      "Top similarities: [0.66967213 0.5598029  0.5595462  0.5488988  0.5335132 ]\n",
      "Loaded doc_id_mapping with 403666 entries\n"
     ]
    },
    {
     "name": "stderr",
     "output_type": "stream",
     "text": [
      "معالجة الاستعلامات:  66%|██████▌   | 116/176 [06:11<03:17,  3.29s/استعلام]"
     ]
    },
    {
     "name": "stdout",
     "output_type": "stream",
     "text": [
      "Total documents in doc_data: 403666\n",
      "Sample doc_ids: ['2020338_0', '2020338_1', '2020338_2', '2020338_3', '2874684_0']\n",
      "Top indices: [136764 225409 245111 259551 377736]\n",
      "Selected document at doc_id 474417_4, similarity: 0.6696721315383911, text: ['cyclo', 'come', 'cyclops', 'greek', 'mythology']\n",
      "Selected document at doc_id 1458593_0, similarity: 0.5598028898239136, text: ['husband', 'clytemnestra', 'clytemnestra', 'also', 'wife', 'king', 'agamemnon', 'mycenae', 'house', 'atreus', 'leader', 'greek', 'force', 'trojan', 'war', 'clytemnestras', 'revenge', 'clytemnestra', 'rule', 'husband', 'away', 'agamemnon', 'return', 'murder', 'iphigenia', 'cassandra', 'concubine', 'tow', 'clytemnestra', 'lover', 'aegisthus', 'kill', 'agamemnon']\n",
      "Selected document at doc_id 2432710_0, similarity: 0.559546172618866, text: ['greek', 'origin', 'mean', 'unconquered', 'aniketos']\n",
      "Selected document at doc_id 137518_2, similarity: 0.5488988161087036, text: ['hellenic', 'influence', 'become', 'greek', 'empire', 'continuation', 'hellenic', 'world']\n",
      "Selected document at doc_id 3662519_14, similarity: 0.5335131883621216, text: ['greek', 'symbol']\n",
      "Additional words from top 5 documents: come cyclops husband clytemnestra\n",
      "🔍 Enhanced Query: what does the prefix \"cyclo\" mean in greek mythology? come cyclops husband clytemnestra\n",
      "Top similarities: [0.5476764  0.5074282  0.492849   0.42448157 0.41512   ]\n",
      "Loaded doc_id_mapping with 403666 entries\n"
     ]
    },
    {
     "name": "stderr",
     "output_type": "stream",
     "text": [
      "معالجة الاستعلامات:  66%|██████▋   | 117/176 [06:15<03:13,  3.27s/استعلام]"
     ]
    },
    {
     "name": "stdout",
     "output_type": "stream",
     "text": [
      "Total documents in doc_data: 403666\n",
      "Sample doc_ids: ['2020338_0', '2020338_1', '2020338_2', '2020338_3', '2874684_0']\n",
      "Top indices: [144870 140651 128251 143811 194397]\n",
      "Selected document at doc_id 3546843_1, similarity: 0.5476763844490051, text: ['well', 'kamikaze', 'pilot', 'wear', 'helmets']\n",
      "Selected document at doc_id 532786_2, similarity: 0.5074282288551331, text: ['wear', 'helmet']\n",
      "Selected document at doc_id 1155514_6, similarity: 0.4928489923477173, text: ['maybe', 'question', 'helmets', 'wear', 'kamikaze', 'pilot']\n",
      "Selected document at doc_id 1105578_7, similarity: 0.4244815707206726, text: ['japanese', 'pilot', 'not', 'wear', 'helmets', 'wear', 'thick', 'cap', 'keep', 'head', 'warm']\n",
      "Selected document at doc_id 2784717_5, similarity: 0.415120005607605, text: ['pilot', 'helmets', 'part', 'uniform', 'duh']\n",
      "Additional words from top 5 documents: well helmet maybe question\n",
      "🔍 Enhanced Query: Why do Kamikaze pilots wear helmets? well helmet maybe question\n",
      "Top similarities: [0.40991563 0.40186775 0.3928022  0.39154458 0.3831406 ]\n",
      "Loaded doc_id_mapping with 403666 entries\n"
     ]
    },
    {
     "name": "stderr",
     "output_type": "stream",
     "text": [
      "معالجة الاستعلامات:  67%|██████▋   | 118/176 [06:18<03:10,  3.29s/استعلام]"
     ]
    },
    {
     "name": "stdout",
     "output_type": "stream",
     "text": [
      "Total documents in doc_data: 403666\n",
      "Sample doc_ids: ['2020338_0', '2020338_1', '2020338_2', '2020338_3', '2874684_0']\n",
      "Top indices: [153911 242853 153910 180628  76915]\n",
      "Selected document at doc_id 2305498_2, similarity: 0.40991562604904175, text: ['units', 'pressure']\n",
      "Selected document at doc_id 1284394_0, similarity: 0.40186774730682373, text: ['pressure', 'difference', 'occur', 'water', 'vapour', 'go', 'stomata', 'pressure', 'leave', 'decrease', 'hence', 'water', 'suck', 'towards', 'lower', 'pressure', 'capillarity', 'root', 'pressure', 'also', 'help']\n",
      "Additional words from top 5 documents: units difference occur vapour\n",
      "🔍 Enhanced Query: How Does Water Pressure Change? units difference occur vapour\n",
      "Top similarities: [0.39501378 0.37923992 0.37449545 0.36926025 0.36156896]\n",
      "Loaded doc_id_mapping with 403666 entries\n"
     ]
    },
    {
     "name": "stderr",
     "output_type": "stream",
     "text": [
      "معالجة الاستعلامات:  68%|██████▊   | 119/176 [06:21<03:08,  3.31s/استعلام]"
     ]
    },
    {
     "name": "stdout",
     "output_type": "stream",
     "text": [
      "Total documents in doc_data: 403666\n",
      "Sample doc_ids: ['2020338_0', '2020338_1', '2020338_2', '2020338_3', '2874684_0']\n",
      "Top indices: [369469 171391  85725 242041 272134]\n",
      "No similar documents found for antique with sufficient similarity\n",
      "Top similarities: [0.5850096  0.5218007  0.5173096  0.51003706 0.49278575]\n",
      "Loaded doc_id_mapping with 403666 entries\n"
     ]
    },
    {
     "name": "stderr",
     "output_type": "stream",
     "text": [
      "معالجة الاستعلامات:  68%|██████▊   | 120/176 [06:25<03:06,  3.32s/استعلام]"
     ]
    },
    {
     "name": "stdout",
     "output_type": "stream",
     "text": [
      "Total documents in doc_data: 403666\n",
      "Sample doc_ids: ['2020338_0', '2020338_1', '2020338_2', '2020338_3', '2874684_0']\n",
      "Top indices: [272347 240587  70329  72058  56837]\n",
      "Selected document at doc_id 819547_7, similarity: 0.5850095748901367, text: ['cipralex']\n",
      "Selected document at doc_id 4064071_0, similarity: 0.521800696849823, text: ['cetyl', 'myrestoleate', 'antiinflammatory']\n",
      "Selected document at doc_id 878438_0, similarity: 0.5173096060752869, text: ['capsule', 'omeprazole', 'weeks']\n",
      "Selected document at doc_id 3852064_1, similarity: 0.5100370645523071, text: ['pain', 'pill']\n",
      "Selected document at doc_id 1939201_2, similarity: 0.4927857518196106, text: ['contraceptive']\n",
      "Additional words from top 5 documents: cipralex cetyl myrestoleate antiinflammatory\n",
      "🔍 Enhanced Query: what is citriscidal? cipralex cetyl myrestoleate antiinflammatory\n",
      "Top similarities: [0.44412473 0.4320082  0.42870796 0.4287079  0.42444462]\n",
      "Loaded doc_id_mapping with 403666 entries\n"
     ]
    },
    {
     "name": "stderr",
     "output_type": "stream",
     "text": [
      "معالجة الاستعلامات:  69%|██████▉   | 121/176 [06:28<03:01,  3.31s/استعلام]"
     ]
    },
    {
     "name": "stdout",
     "output_type": "stream",
     "text": [
      "Total documents in doc_data: 403666\n",
      "Sample doc_ids: ['2020338_0', '2020338_1', '2020338_2', '2020338_3', '2874684_0']\n",
      "Top indices: [  3675 186197  79272  95124  27883]\n",
      "Selected document at doc_id 3593632_3, similarity: 0.4441247284412384, text: ['hunt']\n",
      "Selected document at doc_id 3278803_7, similarity: 0.43200820684432983, text: ['hit', 'report', 'asap']\n",
      "Selected document at doc_id 3455905_2, similarity: 0.42870795726776123, text: ['spam']\n",
      "Selected document at doc_id 304210_4, similarity: 0.42870789766311646, text: ['spam']\n",
      "Selected document at doc_id 902660_1, similarity: 0.42444461584091187, text: ['spam', 'spam']\n",
      "Additional words from top 5 documents: hit report asap spam\n",
      "🔍 Enhanced Query: How can I hunt down and punch the people that keep spamming me? hit report asap spam\n",
      "Top similarities: [0.4845169  0.46443158 0.46261027 0.46017078 0.45499027]\n",
      "Loaded doc_id_mapping with 403666 entries\n"
     ]
    },
    {
     "name": "stderr",
     "output_type": "stream",
     "text": [
      "معالجة الاستعلامات:  69%|██████▉   | 122/176 [06:31<02:59,  3.33s/استعلام]"
     ]
    },
    {
     "name": "stdout",
     "output_type": "stream",
     "text": [
      "Total documents in doc_data: 403666\n",
      "Sample doc_ids: ['2020338_0', '2020338_1', '2020338_2', '2020338_3', '2874684_0']\n",
      "Top indices: [ 89270  26213  60739 227649 207849]\n",
      "Selected document at doc_id 848055_12, similarity: 0.4845168888568878, text: ['probaly', 'cystisis']\n",
      "Selected document at doc_id 3192411_1, similarity: 0.4644315838813782, text: ['paramecium', 'genus']\n",
      "Selected document at doc_id 4103865_1, similarity: 0.46261027455329895, text: ['protista']\n",
      "Selected document at doc_id 2202444_1, similarity: 0.46017077565193176, text: ['chicken', 'pox']\n",
      "Selected document at doc_id 3226351_1, similarity: 0.4549902677536011, text: ['philippines', 'mean', 'termites']\n",
      "Additional words from top 5 documents: probaly cystisis paramecium genus\n",
      "🔍 Enhanced Query: why do i have pterofobia? probaly cystisis paramecium genus\n",
      "Top similarities: [0.53500265 0.51007235 0.5076021  0.504491   0.49846542]\n",
      "Loaded doc_id_mapping with 403666 entries\n"
     ]
    },
    {
     "name": "stderr",
     "output_type": "stream",
     "text": [
      "معالجة الاستعلامات:  70%|██████▉   | 123/176 [06:35<02:55,  3.32s/استعلام]"
     ]
    },
    {
     "name": "stdout",
     "output_type": "stream",
     "text": [
      "Total documents in doc_data: 403666\n",
      "Sample doc_ids: ['2020338_0', '2020338_1', '2020338_2', '2020338_3', '2874684_0']\n",
      "Top indices: [328389 127094 159679 337821 337822]\n",
      "Selected document at doc_id 4204788_2, similarity: 0.5350026488304138, text: ['contact', 'sheriff', 'jail', 'warden', 'jail']\n",
      "Selected document at doc_id 169587_0, similarity: 0.5100723505020142, text: ['would', 'check', 'dept', 'corrections', 'online']\n",
      "Selected document at doc_id 81870_1, similarity: 0.5076020956039429, text: ['county', 'jail', 'inmate', 'search', 'directory', 'free', 'county', 'jail', 'inmate', 'search', 'engines', 'categorize', 'state', 'help', 'locate', 'jail', 'inmates', 'search', 'prisoners', 'unite', 'state', 'locate', 'jail', 'inmates', 'prisoner', 'record', 'criminal', 'record', 'online', 'quickly', 'jail', 'inmate', 'list', 'tuscaloosa', 'county', 'jail', 'inmate', 'search', 'alabama', 'arrest', 'warrant', 'union', 'county', 'jail', 'inmates', 'list', 'arkansas', 'arrest', 'warrant', 'wwwancestorhuntcomcountyjailinmatessearch']\n",
      "Selected document at doc_id 4028967_3, similarity: 0.5044909715652466, text: ['accord', 'louisiana', 'department', 'corrections', 'web', 'site', 'need', 'call', 'follow', 'number', 'adult', 'service', 'phone', '2253429711', 'good', 'luck']\n",
      "Selected document at doc_id 4028967_4, similarity: 0.4984654188156128, text: ['web', 'california', 'inmate', 'locater', 'see', 'list', 'kinds', 'prisons']\n",
      "Additional words from top 5 documents: contact sheriff jail warden\n",
      "🔍 Enhanced Query: How do I find an Inmate at Southwest Detention Center 30755 Auld Rd., Murrieta, CA 92563? contact sheriff jail warden\n",
      "Top similarities: [0.4669923  0.4043629  0.39827782 0.35862553 0.34706154]\n",
      "Loaded doc_id_mapping with 403666 entries\n"
     ]
    },
    {
     "name": "stderr",
     "output_type": "stream",
     "text": [
      "معالجة الاستعلامات:  70%|███████   | 124/176 [06:38<02:50,  3.28s/استعلام]"
     ]
    },
    {
     "name": "stdout",
     "output_type": "stream",
     "text": [
      "Total documents in doc_data: 403666\n",
      "Sample doc_ids: ['2020338_0', '2020338_1', '2020338_2', '2020338_3', '2874684_0']\n",
      "Top indices: [251589 212266 340412 264686 399456]\n",
      "Selected document at doc_id 1680485_2, similarity: 0.4669922888278961, text: ['ban', 'tobacco']\n",
      "Selected document at doc_id 2814722_11, similarity: 0.40436288714408875, text: ['not', 'unconstitutional']\n",
      "Additional words from top 5 documents: tobacco\n",
      "🔍 Enhanced Query: why is the new jersey smoking ban not considered unconstitutional? tobacco\n",
      "Top similarities: [0.35823634 0.33542877 0.3280219  0.32363793 0.32363793]\n",
      "Loaded doc_id_mapping with 403666 entries\n"
     ]
    },
    {
     "name": "stderr",
     "output_type": "stream",
     "text": [
      "معالجة الاستعلامات:  71%|███████   | 125/176 [06:41<02:47,  3.29s/استعلام]"
     ]
    },
    {
     "name": "stdout",
     "output_type": "stream",
     "text": [
      "Total documents in doc_data: 403666\n",
      "Sample doc_ids: ['2020338_0', '2020338_1', '2020338_2', '2020338_3', '2874684_0']\n",
      "Top indices: [262300 159392 360625  11499 341156]\n",
      "No similar documents found for antique with sufficient similarity\n",
      "Top similarities: [0.4514529  0.44326165 0.43475658 0.43095928 0.43085492]\n",
      "Loaded doc_id_mapping with 403666 entries\n"
     ]
    },
    {
     "name": "stderr",
     "output_type": "stream",
     "text": [
      "معالجة الاستعلامات:  72%|███████▏  | 126/176 [06:45<02:46,  3.33s/استعلام]"
     ]
    },
    {
     "name": "stdout",
     "output_type": "stream",
     "text": [
      "Total documents in doc_data: 403666\n",
      "Sample doc_ids: ['2020338_0', '2020338_1', '2020338_2', '2020338_3', '2874684_0']\n",
      "Top indices: [276718 301427 337254  48001 211032]\n",
      "Selected document at doc_id 2309774_10, similarity: 0.45145291090011597, text: ['havent', 'see', 'anyone', 'talk', 'badly', 'soldier', 'iraq', 'think', 'people', 'sympathy', 'soldier', 'policies', 'middle', 'east', 'upset', 'think', 'problem', 'arise', 'supporters', 'war', 'think', 'people', 'war', 'shouldnt', 'speak', 'dont', 'believe', 'war', 'not', 'go', 'feel', 'guilty', 'support', 'war', 'way', 'coddle', 'service', 'people']\n",
      "Selected document at doc_id 208495_4, similarity: 0.44326165318489075, text: ['dont', 'support', 'war', 'iraq']\n",
      "Selected document at doc_id 23859_4, similarity: 0.4347565770149231, text: ['many', 'people', 'think', 'military', 'action', 'iraq', 'oil', 'persecution', 'people', 'cruel', 'people', 'far', 'marine', 'blood', 'spill', 'boys', 'streets', 'home', 'towns', 'would', 'drink', 'booze', 'get', 'kill', 'far', 'greater', 'number', 'iraq', 'mean', '2000', 'live', 'years', 'safer', 'backyard']\n",
      "Selected document at doc_id 145138_1, similarity: 0.4309592843055725, text: ['media', 'doesnt', 'even', 'tell', 'half', 'real', 'story', 'make', 'war', 'iraq', 'way', 'sugarcoat', 'american', 'news', 'channel', 'eager', 'report', 'happy', 'iraqis', 'finally', 'free', 'huge', 'lie', 'war', 'make', 'civilians', 'suffer', 'terribly', 'news', 'media', 'always', 'report', 'many', 'soldier', 'die', 'happen', 'number', 'fail', 'report', 'huge', 'amount', 'iraqis', 'die', 'war', 'abu', 'ghraib', 'prison', 'photos', 'truthful', 'events', 'expose', 'american', 'public', 'lot', 'americans', 'dont', 'know', 'thank', 'news', 'media', 'iraqi', 'civilians', 'abuse', 'molest', 'rap', 'ever', 'since', 'war', 'begin', 'horrible', 'things', 'still', 'go', 'today', 'believe', 'media', 'isnt', 'even', 'close', 'report', 'real', 'negative', 'events', 'go', 'iraq', 'suggest', 'get', 'translations', 'international', 'news', 'station', 'aljazeera', 'alarabiya', 'popular', 'arabic', 'news', 'channel', 'give', 'much', 'honest', 'view', 'iraq', 'events']\n",
      "Selected document at doc_id 1159341_5, similarity: 0.4308549165725708, text: ['innocent', 'muslims', 'saddam', 'hussein', 'brutally', 'murder', 'torture', 'rap', 'thousands', 'upon', 'thousands', 'innocent', 'iraqi', 'muslims', 'steal', 'money', 'supposedly', 'food', 'medicine', 'condemnation', 'terrorist', 'insurgents', 'today', 'murder', 'thousands', 'upon', 'thousands', 'innocent', 'iraqi', 'muslims', 'blow', 'mosques', 'condemnation', 'president', 'bush', 'lead', 'international', 'coalition', 'depose', 'saddam', 'free', 'iraqis', 'baathist', 'oppression', 'tyranny', 'consider', 'bad', 'yes', 'war', 'innocents', 'always', 'get', 'kill', 'terrorists', 'kill', 'far', 'iraqis', 'coalition', 'force', 'delusional', 'one', 'want', 'oil', 'wed', 'take', 'wed', 'want', 'delete', 'muslims', 'world', 'theyd', 'already', 'go', 'really', 'think', 'wed', 'give', 'damn', 'iraq', 'muslims', 'asshats', 'hadnt', 'attack', 'wed', 'content', 'let', 'suffer', 'die', 'pathetic', 'brutal', 'cameldung', 'leaders']\n",
      "Additional words from top 5 documents: havent anyone talk badly\n",
      "🔍 Enhanced Query: Why do I keep seeing people on here 'dissing' on the soldiers in Iraq? havent anyone talk badly\n",
      "Top similarities: [0.4027263  0.39260662 0.37790635 0.36891758 0.35606158]\n",
      "Loaded doc_id_mapping with 403666 entries\n"
     ]
    },
    {
     "name": "stderr",
     "output_type": "stream",
     "text": [
      "معالجة الاستعلامات:  72%|███████▏  | 127/176 [06:48<02:43,  3.33s/استعلام]"
     ]
    },
    {
     "name": "stdout",
     "output_type": "stream",
     "text": [
      "Total documents in doc_data: 403666\n",
      "Sample doc_ids: ['2020338_0', '2020338_1', '2020338_2', '2020338_3', '2874684_0']\n",
      "Top indices: [ 59984 261619 203961 110555 215909]\n",
      "Selected document at doc_id 2778402_3, similarity: 0.40272629261016846, text: ['americans', 'fatties']\n",
      "Additional words from top 5 documents: americans fatties\n",
      "🔍 Enhanced Query: Why don't fat people have to pay more for air travel? americans fatties\n",
      "Top similarities: [0.6267806  0.528544   0.47371078 0.44955146 0.43023568]\n",
      "Loaded doc_id_mapping with 403666 entries\n"
     ]
    },
    {
     "name": "stderr",
     "output_type": "stream",
     "text": [
      "معالجة الاستعلامات:  73%|███████▎  | 128/176 [06:51<02:41,  3.36s/استعلام]"
     ]
    },
    {
     "name": "stdout",
     "output_type": "stream",
     "text": [
      "Total documents in doc_data: 403666\n",
      "Sample doc_ids: ['2020338_0', '2020338_1', '2020338_2', '2020338_3', '2874684_0']\n",
      "Top indices: [140418 400284 220303  71323  64802]\n",
      "Selected document at doc_id 395483_6, similarity: 0.62678062915802, text: ['asparugus', 'stink']\n",
      "Selected document at doc_id 3831346_1, similarity: 0.528544008731842, text: ['boyfriends', 'urine', 'smell', 'awful', 'eat', 'asparagus', 'eat', 'meal', 'urine', 'fine', 'boyfriend', 'say', 'everyones', 'urine', 'smell', 'eat', 'asparagus', 'since', 'mine', 'doesnt', 'strange', 'one', 'not', 'one', 'family', 'ever', 'urine', 'odor', 'eat', 'anything', 'right', 'might', 'problem', 'sign', 'worry', 'dear', 'worry', 'nothing', 'wrong', 'boyfriend', 'not', 'everyone', 'smelly', 'urine', 'shortly', 'eat', 'asparagus', 'many', 'half', 'population', 'notice', 'odor', 'eat', 'asparagus', 'sulfurcontaining', 'amino', 'acids', 'break', 'ingestion', 'see', 'detail', 'michigan', 'asparagus', 'advisory', 'board', 'wwwasparagusorg', 'consider', 'asparagus', 'one', 'nutritionally', 'wellbalanced', 'vegetables', 'supply', 'significant', 'nutrients', 'fiber', 'healthy', 'diet', 'asparagus', 'nutrition', 'information', 'see', 'wwwasparagusorg', 'detail', 'eat', 'asparagus', 'cause', 'ones', 'urine', 'strong', 'unique', 'odor', 'archive', 'boston', 'globe', 'wwwbostoncom', 'detail', 'asparagus', 'cause', 'urine', 'unique', 'odor', 'asparagus', 'fill', 'sulfurcontaining', 'amino', 'acids', 'break', 'digestion', 'six', 'sulfurcontaining', 'compound', 'impart', 'unique', 'smell', 'urine', 'excrete', 'sulfur', 'group', 'make', 'skunk', 'smell', 'say', 'barbara', 'hodges', 'dietician', 'boston', 'universitys', 'nutrition', 'clinic', 'evans', 'nutrition', 'group', 'scientists', 'remain', 'divide', 'people', 'different', 'urinary', 'responses', 'eat', 'asparagus', 'one', 'camp', 'think', 'half', 'population', 'gene', 'enable', 'break', 'sulfurous', 'amino', 'acids', 'asparagus', 'smellier', 'components', 'others', 'think', 'everyone', 'digest', 'asparagus', 'way', 'half', 'gene', 'enable', 'smell', 'specific', 'compound', 'form', 'digestion', 'asparagus', 'theres', 'something', 'dispute', 'say', 'david', 'stollar', 'chairman', 'biochemistry', 'tufts', 'university', 'medical', 'school', 'unusual', 'smell', 'nothing', 'worry', 'though', 'accord', 'dictionary', 'medical', 'syndromes', 'include', 'entry', 'urinary', 'excretion', 'odoriferous', 'components', 'asparagus', 'syndrome', 'not', 'pathological', 'significance']\n",
      "Selected document at doc_id 3583402_6, similarity: 0.4737107753753662, text: ['asparagus', 'smell', 'funny']\n",
      "Selected document at doc_id 3959080_10, similarity: 0.44955146312713623, text: ['asparagus', 'maybe', 'even', 'infection']\n",
      "Selected document at doc_id 1628488_3, similarity: 0.43023568391799927, text: ['urine', 'usaully', 'odor']\n",
      "Additional words from top 5 documents: boyfriends urine smell awful\n",
      "🔍 Enhanced Query: Why does asparugus make your pee stink? boyfriends urine smell awful\n",
      "Top similarities: [0.67769337 0.6769464  0.6740695  0.6724379  0.6541412 ]\n",
      "Loaded doc_id_mapping with 403666 entries\n"
     ]
    },
    {
     "name": "stderr",
     "output_type": "stream",
     "text": [
      "معالجة الاستعلامات:  73%|███████▎  | 129/176 [06:55<02:38,  3.38s/استعلام]"
     ]
    },
    {
     "name": "stdout",
     "output_type": "stream",
     "text": [
      "Total documents in doc_data: 403666\n",
      "Sample doc_ids: ['2020338_0', '2020338_1', '2020338_2', '2020338_3', '2874684_0']\n",
      "Top indices: [ 99928 234051 235581 224563  12388]\n",
      "Selected document at doc_id 2997320_13, similarity: 0.6776933670043945, text: ['christianity']\n",
      "Selected document at doc_id 2564537_11, similarity: 0.6769464015960693, text: ['catholic', 'christian']\n",
      "Selected document at doc_id 4011933_10, similarity: 0.6740695238113403, text: ['catholics', 'know', 'christian']\n",
      "Selected document at doc_id 1871651_20, similarity: 0.6724379062652588, text: ['catholics', 'christians']\n",
      "Selected document at doc_id 1744498_2, similarity: 0.6541411876678467, text: ['catholic', 'faith']\n",
      "Additional words from top 5 documents: catholic christian catholics know\n",
      "🔍 Enhanced Query: How is Catholicism not Christianity? catholic christian catholics know\n",
      "Top similarities: [0.37046885 0.344584   0.33434218 0.3155672  0.30794168]\n",
      "Loaded doc_id_mapping with 403666 entries\n"
     ]
    },
    {
     "name": "stderr",
     "output_type": "stream",
     "text": [
      "معالجة الاستعلامات:  74%|███████▍  | 130/176 [06:58<02:32,  3.31s/استعلام]"
     ]
    },
    {
     "name": "stdout",
     "output_type": "stream",
     "text": [
      "Total documents in doc_data: 403666\n",
      "Sample doc_ids: ['2020338_0', '2020338_1', '2020338_2', '2020338_3', '2874684_0']\n",
      "Top indices: [ 91676 392714  13857 346952 173556]\n",
      "No similar documents found for antique with sufficient similarity\n",
      "Top similarities: [0.3504014  0.3487478  0.3329505  0.3259481  0.32005244]\n",
      "Loaded doc_id_mapping with 403666 entries\n"
     ]
    },
    {
     "name": "stderr",
     "output_type": "stream",
     "text": [
      "معالجة الاستعلامات:  74%|███████▍  | 131/176 [07:01<02:26,  3.26s/استعلام]"
     ]
    },
    {
     "name": "stdout",
     "output_type": "stream",
     "text": [
      "Total documents in doc_data: 403666\n",
      "Sample doc_ids: ['2020338_0', '2020338_1', '2020338_2', '2020338_3', '2874684_0']\n",
      "Top indices: [162570 162568 245842  21487 140886]\n",
      "No similar documents found for antique with sufficient similarity\n",
      "Top similarities: [0.5815147  0.5742245  0.5742244  0.57422435 0.5672565 ]\n",
      "Loaded doc_id_mapping with 403666 entries\n"
     ]
    },
    {
     "name": "stderr",
     "output_type": "stream",
     "text": [
      "معالجة الاستعلامات:  75%|███████▌  | 132/176 [07:04<02:22,  3.24s/استعلام]"
     ]
    },
    {
     "name": "stdout",
     "output_type": "stream",
     "text": [
      "Total documents in doc_data: 403666\n",
      "Sample doc_ids: ['2020338_0', '2020338_1', '2020338_2', '2020338_3', '2874684_0']\n",
      "Top indices: [152937 315684 369425 268371 369418]\n",
      "Selected document at doc_id 839327_16, similarity: 0.5815147161483765, text: ['wisdom', 'god']\n",
      "Selected document at doc_id 1760724_2, similarity: 0.5742244720458984, text: ['wisdom']\n",
      "Selected document at doc_id 366826_13, similarity: 0.5742244124412537, text: ['wisdom']\n",
      "Selected document at doc_id 3413940_14, similarity: 0.5742243528366089, text: ['wisdom']\n",
      "Selected document at doc_id 366826_6, similarity: 0.567256510257721, text: ['wisdom', 'understand']\n",
      "Additional words from top 5 documents: god understand\n",
      "🔍 Enhanced Query: why do wisdom varies from person to person? god understand\n",
      "Top similarities: [0.6081969  0.5849668  0.5561936  0.5156696  0.51555437]\n",
      "Loaded doc_id_mapping with 403666 entries\n"
     ]
    },
    {
     "name": "stderr",
     "output_type": "stream",
     "text": [
      "معالجة الاستعلامات:  76%|███████▌  | 133/176 [07:08<02:23,  3.33s/استعلام]"
     ]
    },
    {
     "name": "stdout",
     "output_type": "stream",
     "text": [
      "Total documents in doc_data: 403666\n",
      "Sample doc_ids: ['2020338_0', '2020338_1', '2020338_2', '2020338_3', '2874684_0']\n",
      "Top indices: [  6687 248390 203152 381051 208289]\n",
      "Selected document at doc_id 2212679_14, similarity: 0.6081969141960144, text: ['christ', 'persecute']\n",
      "Selected document at doc_id 272965_13, similarity: 0.584966778755188, text: ['punish']\n",
      "Selected document at doc_id 463288_13, similarity: 0.5561935901641846, text: ['crucify']\n",
      "Selected document at doc_id 212480_0, similarity: 0.515669584274292, text: ['christ', 'die', 'sin']\n",
      "Selected document at doc_id 3529069_7, similarity: 0.5155543684959412, text: ['sinful']\n",
      "Additional words from top 5 documents: christ persecute crucify die\n",
      "🔍 Enhanced Query: Why was I punished for being christlike? christ persecute crucify die\n",
      "Top similarities: [0.3243012  0.32273173 0.3153648  0.31465417 0.31035888]\n",
      "Loaded doc_id_mapping with 403666 entries\n"
     ]
    },
    {
     "name": "stderr",
     "output_type": "stream",
     "text": [
      "معالجة الاستعلامات:  76%|███████▌  | 134/176 [07:11<02:18,  3.31s/استعلام]"
     ]
    },
    {
     "name": "stdout",
     "output_type": "stream",
     "text": [
      "Total documents in doc_data: 403666\n",
      "Sample doc_ids: ['2020338_0', '2020338_1', '2020338_2', '2020338_3', '2874684_0']\n",
      "Top indices: [215920 151357 326763 348011   5511]\n",
      "No similar documents found for antique with sufficient similarity\n",
      "Top similarities: [0.45585176 0.4558516  0.4558516  0.4558516  0.422731  ]\n",
      "Loaded doc_id_mapping with 403666 entries\n"
     ]
    },
    {
     "name": "stderr",
     "output_type": "stream",
     "text": [
      "معالجة الاستعلامات:  77%|███████▋  | 135/176 [07:14<02:11,  3.21s/استعلام]"
     ]
    },
    {
     "name": "stdout",
     "output_type": "stream",
     "text": [
      "Total documents in doc_data: 403666\n",
      "Sample doc_ids: ['2020338_0', '2020338_1', '2020338_2', '2020338_3', '2874684_0']\n",
      "Top indices: [ 31061 206021 273887 213521 189186]\n",
      "Selected document at doc_id 4428257_1, similarity: 0.4558517634868622, text: ['wet']\n",
      "Selected document at doc_id 4106567_5, similarity: 0.45585161447525024, text: ['wet']\n",
      "Selected document at doc_id 360770_7, similarity: 0.45585161447525024, text: ['wet']\n",
      "Selected document at doc_id 3930867_0, similarity: 0.45585161447525024, text: ['wet']\n",
      "Selected document at doc_id 1801063_0, similarity: 0.4227310121059418, text: ['ears', 'check', 'could', 'infection', 'wax', 'ears']\n",
      "Additional words from top 5 documents: check could infection wax\n",
      "🔍 Enhanced Query: what does 'wet behind the ears' mean? check could infection wax\n",
      "Top similarities: [0.54209036 0.52144456 0.50648487 0.47454876 0.46933135]\n",
      "Loaded doc_id_mapping with 403666 entries\n"
     ]
    },
    {
     "name": "stderr",
     "output_type": "stream",
     "text": [
      "معالجة الاستعلامات:  77%|███████▋  | 136/176 [07:17<02:07,  3.20s/استعلام]"
     ]
    },
    {
     "name": "stdout",
     "output_type": "stream",
     "text": [
      "Total documents in doc_data: 403666\n",
      "Sample doc_ids: ['2020338_0', '2020338_1', '2020338_2', '2020338_3', '2874684_0']\n",
      "Top indices: [151275 241806  41499 150166  94504]\n",
      "Selected document at doc_id 860258_0, similarity: 0.5420903563499451, text: ['twist', 'corkscrew', 'cork', 'pull', 'handle', 'side']\n",
      "Selected document at doc_id 4001394_6, similarity: 0.52144455909729, text: ['cork']\n",
      "Selected document at doc_id 3180289_5, similarity: 0.506484866142273, text: ['buy', 'cork']\n",
      "Selected document at doc_id 4440324_3, similarity: 0.4745487570762634, text: ['corkscrew', 'course']\n",
      "Selected document at doc_id 2982796_1, similarity: 0.4693313539028168, text: ['stick', 'cork']\n",
      "Additional words from top 5 documents: twist pull handle side\n",
      "🔍 Enhanced Query: How can I get a cork out of, not into, a wine bottle without a corkscrew? twist pull handle side\n",
      "Top similarities: [0.38316795 0.35303015 0.35303015 0.3530301  0.3530301 ]\n",
      "Loaded doc_id_mapping with 403666 entries\n"
     ]
    },
    {
     "name": "stderr",
     "output_type": "stream",
     "text": [
      "معالجة الاستعلامات:  78%|███████▊  | 137/176 [07:21<02:07,  3.27s/استعلام]"
     ]
    },
    {
     "name": "stdout",
     "output_type": "stream",
     "text": [
      "Total documents in doc_data: 403666\n",
      "Sample doc_ids: ['2020338_0', '2020338_1', '2020338_2', '2020338_3', '2874684_0']\n",
      "Top indices: [332216 192660 111354  43956 114750]\n",
      "No similar documents found for antique with sufficient similarity\n",
      "Top similarities: [0.54969525 0.5393522  0.5348593  0.5298444  0.52044374]\n",
      "Loaded doc_id_mapping with 403666 entries\n"
     ]
    },
    {
     "name": "stderr",
     "output_type": "stream",
     "text": [
      "معالجة الاستعلامات:  78%|███████▊  | 138/176 [07:24<02:07,  3.36s/استعلام]"
     ]
    },
    {
     "name": "stdout",
     "output_type": "stream",
     "text": [
      "Total documents in doc_data: 403666\n",
      "Sample doc_ids: ['2020338_0', '2020338_1', '2020338_2', '2020338_3', '2874684_0']\n",
      "Top indices: [ 29671 325485 369988 400750 399381]\n",
      "Selected document at doc_id 284681_4, similarity: 0.5496952533721924, text: ['build', 'muscle']\n",
      "Selected document at doc_id 2604_3, similarity: 0.5393521785736084, text: ['aerobics', 'lift', 'weight']\n",
      "Selected document at doc_id 2528783_0, similarity: 0.534859299659729, text: ['muscle', 'create', 'muscle', 'exercise']\n",
      "Selected document at doc_id 4127574_5, similarity: 0.5298444032669067, text: ['try', 'website', 'httpwwwbodybuildingcomfunexerciseshtm']\n",
      "Selected document at doc_id 774370_11, similarity: 0.5204437375068665, text: ['muscle', 'weigh']\n",
      "Additional words from top 5 documents: build aerobics lift weight\n",
      "🔍 Enhanced Query: How can I develop leanbody and muscles? build aerobics lift weight\n",
      "Top similarities: [0.49387768 0.49387768 0.38863933 0.3869636  0.35401586]\n",
      "Loaded doc_id_mapping with 403666 entries\n"
     ]
    },
    {
     "name": "stderr",
     "output_type": "stream",
     "text": [
      "معالجة الاستعلامات:  79%|███████▉  | 139/176 [07:28<02:04,  3.37s/استعلام]"
     ]
    },
    {
     "name": "stdout",
     "output_type": "stream",
     "text": [
      "Total documents in doc_data: 403666\n",
      "Sample doc_ids: ['2020338_0', '2020338_1', '2020338_2', '2020338_3', '2874684_0']\n",
      "Top indices: [214151  88333 369605 317997  73747]\n",
      "Selected document at doc_id 788265_8, similarity: 0.49387767910957336, text: ['bro']\n",
      "Selected document at doc_id 2905727_0, similarity: 0.49387767910957336, text: ['bro']\n",
      "Additional words from top 5 documents: \n",
      "No new words to add to query for antique\n",
      "Top similarities: [0.6228042  0.6173497  0.5911279  0.5738224  0.56173027]\n",
      "Loaded doc_id_mapping with 403666 entries\n"
     ]
    },
    {
     "name": "stderr",
     "output_type": "stream",
     "text": [
      "معالجة الاستعلامات:  80%|███████▉  | 140/176 [07:31<02:01,  3.36s/استعلام]"
     ]
    },
    {
     "name": "stdout",
     "output_type": "stream",
     "text": [
      "Total documents in doc_data: 403666\n",
      "Sample doc_ids: ['2020338_0', '2020338_1', '2020338_2', '2020338_3', '2874684_0']\n",
      "Top indices: [ 85630 363218 342317 342318 210786]\n",
      "Selected document at doc_id 1070025_11, similarity: 0.6228042244911194, text: ['mercuryvenusearth', 'mar', 'jupiter', 'saturn', 'uranusneptune', 'pluto']\n",
      "Selected document at doc_id 172731_6, similarity: 0.6173496842384338, text: ['distance', 'sun', 'saturn']\n",
      "Selected document at doc_id 4132763_0, similarity: 0.591127872467041, text: ['mercuryvenusearthmarsjupitersaturnuranuspluto', 'neptune']\n",
      "Selected document at doc_id 4132763_1, similarity: 0.5738223791122437, text: ['mercury', 'venus', 'earth', 'mar', 'jupitor', 'saturn', 'uranus', 'neptune', 'pluto']\n",
      "Selected document at doc_id 1841898_7, similarity: 0.5617302656173706, text: ['mercury', 'venus', 'earth', 'mar', 'jupitersaturnuranus', 'neptune', 'pluto']\n",
      "Additional words from top 5 documents: mercuryvenusearth mar jupiter uranusneptune\n",
      "🔍 Enhanced Query: how for is saturn from the sun? mercuryvenusearth mar jupiter uranusneptune\n",
      "Top similarities: [0.81711215 0.6442875  0.5868387  0.5512117  0.5355161 ]\n",
      "Loaded doc_id_mapping with 403666 entries\n"
     ]
    },
    {
     "name": "stderr",
     "output_type": "stream",
     "text": [
      "معالجة الاستعلامات:  80%|████████  | 141/176 [07:34<01:58,  3.39s/استعلام]"
     ]
    },
    {
     "name": "stdout",
     "output_type": "stream",
     "text": [
      "Total documents in doc_data: 403666\n",
      "Sample doc_ids: ['2020338_0', '2020338_1', '2020338_2', '2020338_3', '2874684_0']\n",
      "Top indices: [115706 115708 371562 371571 371561]\n",
      "Selected document at doc_id 2402461_0, similarity: 0.817112147808075, text: ['nucleus']\n",
      "Selected document at doc_id 2402461_2, similarity: 0.6442875266075134, text: ['nucleus', 'cytoplasm']\n",
      "Selected document at doc_id 2783398_2, similarity: 0.5868387222290039, text: ['nucleus', 'usually', 'refer', 'center', 'something', 'mean', 'science', 'atomic', 'nucleus', 'collection', 'protons', 'neutrons', 'center', 'atom', 'carry', 'bulk', 'atoms', 'mass', 'positive', 'charge', 'cell', 'nucleus', 'membranebound', 'subcellular', 'organelle', 'find', 'eukaryotes', 'visible', 'via', 'microscopy', 'contain', 'primarily', 'cells', 'chromosomes', 'nucleus', 'neuroanatomy', 'central', 'nervous', 'system', 'structure', 'compose', 'mainly', 'gray', 'matter', 'mediate', 'electrical', 'signal', 'within', 'particular', 'subsystem', 'comet', 'nucleus', 'solid', 'core', 'comet', 'galaxy', 'nucleus', 'central', 'region', 'galaxy', 'ice', 'nucleus', 'center', 'ice', 'crystal', 'cloud', 'condensation', 'nuclei', 'basis', 'development', 'cloud', 'droplet', 'linguistics', 'syllable', 'nucleus', 'central', 'part', 'syllable', 'sentence', 'nucleus', 'syllable', 'receive', 'greatest', 'stress', 'word', 'computer', 'science', 'nucleus', 'cms', 'opensource', 'weblog', 'system', 'nucleus', 'rtos', 'brand', 'operate', 'system', 'music', 'nucleus', 'band', 'british', 'jazzrock', 'band', 'lead', 'ian', 'carr']\n",
      "Selected document at doc_id 2783398_11, similarity: 0.5512117147445679, text: ['nucleus', 'usually', 'refer', 'center', 'something', 'mean', 'science', 'atomic', 'nucleus', 'collection', 'protons', 'neutrons', 'center', 'atom', 'carry', 'bulk', 'atoms', 'mass', 'positive', 'charge', 'cell', 'nucleus', 'membranebound', 'subcellular', 'organelle', 'find', 'eukaryotes', 'visible', 'via', 'microscopy', 'contain', 'primarily', 'cells', 'chromosomes', 'nucleus', 'neuroanatomy', 'central', 'nervous', 'system', 'structure', 'compose', 'mainly', 'gray', 'matter', 'mediate', 'electrical', 'signal', 'within', 'particular', 'subsystem', 'comet', 'nucleus', 'solid', 'core', 'comet', 'galaxy', 'nucleus', 'central', 'region', 'galaxy', 'ice', 'nucleus', 'center', 'ice', 'crystal', 'cloud', 'condensation', 'nuclei', 'basis', 'development', 'cloud', 'droplet']\n",
      "Selected document at doc_id 2783398_1, similarity: 0.535516083240509, text: ['nucleus', 'serve', 'cells', 'command', 'center', 'send', 'directions', 'cell', 'grow', 'mature', 'divide', 'die', 'also', 'house', 'dna', 'deoxyribonucleic', 'acid', 'cells', 'hereditary', 'material', 'nucleus', 'surround', 'membrane', 'call', 'nuclear', 'envelope', 'protect', 'dna', 'separate', 'nucleus', 'rest', 'cell', 'nucleus', 'contain', 'cells', 'genetic', 'material', 'nucleus', 'dark', 'structure', 'locate', 'middle', 'cell', 'control', 'cells', 'activities', 'act', 'like', 'cells', 'brain', 'inside', 'nucleus', 'dna', 'contain', 'genetic', 'information', 'cytoplasm', 'jellylike', 'substance', 'inside', 'cell', 'cells', 'activities', 'take', 'place', 'make', 'water', 'chemicals', 'cell', 'part', 'except', 'nucleus', 'locate', 'cytoplasm', 'kinds', 'nucleus', 'boseeinstein', 'nucleus', 'kinds', 'facts', 'nucleus', 'even', 'anumber', 'integral', 'spin', 'fermidirac', 'nuclei', 'boseeinstein', 'nuclei', 'not', 'obey', 'exclusion', 'principle', 'grind', 'state', 'zero', 'angular', 'momentum', 'deuteron', 'facts', 'nucleus', 'deuterium', 'isotope', 'hydrogen', 'consist', 'one', 'proton', 'one', 'neutron', 'bind', 'together', 'nucleus', 'deuterium', 'atom', '201355', 'amu', 'evenodd', 'nucleus', 'facts', 'nucleus', 'contain', 'even', 'number', 'protons', 'odd', 'number', 'neutrons', 'fermidirac', 'nuclei', 'facts', 'nuclei', 'odd', 'anumber', 'nuclei', 'not', 'integral', 'spin', 'boseeinstein', 'nuclei', 'fermidirac', 'nuclei', 'therefore', 'obey', 'exclusion', 'principle', 'isomer', 'facts', 'nucleus', 'number', 'different', 'energy', 'state', 'isotone', 'facts', 'nucleus', 'number', 'neutrons', 'different', 'number', 'isotope', 'facts', 'atomic', 'nucleus', 'number', 'protons', 'commonly', 'find', 'atomic', 'nucleus', 'different', 'number', 'neutrons', 'example', 'hydrogen', 'nucleus', 'single', 'proton', 'deuterium', 'one', 'proton', 'one', 'neutron', 'would', 'call', 'isotope', 'hydrogen', 'see', 'neutron', 'proton', 'two', 'nuclei', 'number', 'protons', 'different', 'number', 'neutrons', 'say', 'represent', 'element', 'different', 'isotopes', 'example', 'helium3', 'two', 'protons', 'one', 'neutron', 'nucleus', 'helium4', 'two', 'protons', 'two', 'neutrons', 'two', 'different', 'isotopes', 'helium', 'nuclide', 'facts', 'species', 'atomic', 'nucleus', 'analogous', 'word', 'isotope', 'species', 'atom', 'word', 'also', 'use', 'distinguish', 'atomic', 'nuclei', 'different', 'energy', 'state', 'proton', 'facts', 'subatomic', 'particle', 'positive', 'electric', 'charge', 'every', 'atom', 'least', 'one', 'proton', 'nucleus', 'number', 'protons', 'determine', 'element', 'example', 'atoms', 'one', 'proton', 'hydrogen', 'atoms', 'two', 'protons', 'helium', 'one', 'constituents', 'atomic', 'nucleus', 'spin12', 'particle', 'carry', 'positive', 'electric', 'charge', 'proton', 'lightest', 'baryon', 'result', 'particle', 'baryons', 'eventually', 'decay', 'believe', 'absolutely', 'stable', 'certain', 'theories', 'gut', 'predict', 'decay', 'slowly', 'baryon', 'make', 'two', 'quarks', 'quark', 'possess', 'positive', 'electromagnetic', 'charge', 'find', 'atomic', 'nuclei', 'single', 'proton', 'hydrogen', 'nucleus', 'massive', 'particle', 'positive', 'electrical', 'charge', 'find', 'nuclei', 'atoms', 'compose', 'two', 'quarks', 'one', 'quark', 'protons', 'mass', '9383', 'mev', 'slightly', 'less', 'neutron', 'positively', 'charge', 'elementary', 'particle', 'nucleus', 'hydrogen', 'atom', 'mass', 'proton', '100728', 'amu', '16726', '1024', '183612', 'triton', 'facts', 'nucleus', 'tritium', 'atom', 'neucleus', 'find', 'live', 'cells']\n",
      "Additional words from top 5 documents: cytoplasm usually refer center\n",
      "🔍 Enhanced Query: What is a nucleus? cytoplasm usually refer center\n",
      "Top similarities: [0.5525924  0.5458629  0.5365436  0.52393186 0.5236081 ]\n",
      "Loaded doc_id_mapping with 403666 entries\n"
     ]
    },
    {
     "name": "stderr",
     "output_type": "stream",
     "text": [
      "معالجة الاستعلامات:  81%|████████  | 142/176 [07:38<01:54,  3.37s/استعلام]"
     ]
    },
    {
     "name": "stdout",
     "output_type": "stream",
     "text": [
      "Total documents in doc_data: 403666\n",
      "Sample doc_ids: ['2020338_0', '2020338_1', '2020338_2', '2020338_3', '2874684_0']\n",
      "Top indices: [185705 168455 237448 350229 208771]\n",
      "Selected document at doc_id 1467397_12, similarity: 0.552592396736145, text: ['add', 'raw', 'peel', 'potatocook', 'til', 'potato', 'soft', 'potato', 'absorb', 'spice']\n",
      "Selected document at doc_id 1651933_0, similarity: 0.5458629131317139, text: ['best', 'way', 'get', 'crispy', 'french', 'fry', 'slice', 'bake', 'low', 'oven', 'turn', 'bake', 'turn', 'lite', 'brown', 'feel', 'dry', 'side', 'remove', 'oven', 'minutes', 'deep', 'fry', 'crispy', 'reason', 'potatoes', 'become', 'limp', 'fry', 'grease', 'explode', 'water', 'inside', 'potatoe', 'become', 'trap', 'inside', 'water', 'dry', 'outside', 'evaporate', 'water', 'prevent', 'goodluck', 'enjoy']\n",
      "Selected document at doc_id 3089958_12, similarity: 0.536543607711792, text: ['buy', 'baby', 'new', 'potatoes', 'red', 'white', 'combo', 'scrub', 'clean', 'dont', 'peel', 'preheat', 'oven', '425', 'degrees', 'combine', 'potatoes', 'bowl', 'drizzle', 'olive', 'oil', 'coat', 'salt', 'prefer', 'kosher', 'regular', 'fresh', 'grind', 'pepper', 'sprinkle', 'mrs', 'dash', 'parsley', 'garlic', 'rosemary', 'thyme', 'pop', 'onto', 'bake', 'sheet', '2030', 'minutes', 'turn', 'way', 'yummy']\n",
      "Selected document at doc_id 74427_2, similarity: 0.5239318609237671, text: ['cup', 'long', 'grain', 'rice', 'wash', 'teaspoon', 'salt', 'cup', 'cold', 'water', 'potatoes', 'peel', 'thinly', 'slice', 'cup', 'melt', 'butter', 'servings', 'hour', 'minutes', 'mins', 'prep', 'bring', 'water', 'boil', 'large', 'pot', 'add', 'salt', 'boil', 'wash', 'rice', 'ten', 'minutes', 'drain', 'reserve', 'dip', 'potato', 'slice', 'melt', 'butter', 'use', 'line', 'bottom', 'side', 'pot', 'boil', 'rice', 'pour', 'leftover', 'butter', 'bottom', 'pot', 'carefully', 'dont', 'move', 'potatoes', 'place', 'partially', 'cook', 'rice', 'potatolined', 'pot', 'cover', 'pot', 'teatowel', 'lid', 'place', 'mediumlow', 'heat', 'steam', 'rice', 'cook', 'brown', 'potatoes', 'take', 'hour', 'carefully', 'check', 'rice', 'doneness', 'potatoes', 'brown', 'minutes', 'rice', 'potatoes', 'do', 'potatoes', 'brown', 'crispy', 'remove', 'heat', 'remove', 'lid', 'teatowel', 'place', 'large', 'platter', 'top', 'pot', 'carefully', 'invert', 'pot', 'whole', 'thing', 'slide', 'potatoes', 'come', 'away', 'put', 'back', 'belong', 'tell', 'crust', 'call', 'thetadiq', 'part', 'family', 'members', 'fight', 'admit', 'try', 'make', 'dish', 'fell', 'apart', 'tasty', 'though', 'try', 'might', 'work', 'since', 'hurry', 'make', 'good', 'luck', 'fun', 'unpredicktaboh']\n",
      "Selected document at doc_id 414206_2, similarity: 0.5236080884933472, text: ['cut', 'potatoes', 'french', 'fry', 'shape', 'toss', 'plastic', 'bag', 'tablespoon', 'oil', 'tsp', 'salt', 'also', 'add', 'paprika', 'sometimes', 'put', 'potatoes', 'cookie', 'sheet', '400f', 'oven', '3035', 'min', 'depend', 'narrow', 'piece', 'yum', 'not', 'bad', 'deep', 'fry']\n",
      "Additional words from top 5 documents: add raw peel potatocook\n",
      "🔍 Enhanced Query: why do my baked potatos never taste near as good as when I get them in a nice restaurant? add raw peel potatocook\n",
      "Top similarities: [0.45465547 0.40480524 0.39621717 0.39515328 0.37529683]\n",
      "Loaded doc_id_mapping with 403666 entries\n"
     ]
    },
    {
     "name": "stderr",
     "output_type": "stream",
     "text": [
      "معالجة الاستعلامات:  81%|████████▏ | 143/176 [07:41<01:52,  3.40s/استعلام]"
     ]
    },
    {
     "name": "stdout",
     "output_type": "stream",
     "text": [
      "Total documents in doc_data: 403666\n",
      "Sample doc_ids: ['2020338_0', '2020338_1', '2020338_2', '2020338_3', '2874684_0']\n",
      "Top indices: [165223  74227 165221 125052 165222]\n",
      "Selected document at doc_id 4278201_3, similarity: 0.4546554684638977, text: ['wrong', 'infrared', 'affect', 'germination', 'wavelengths', 'use', 'growth']\n",
      "Selected document at doc_id 1234678_0, similarity: 0.4048052430152893, text: ['ultraviolet', 'ray', 'sun', 'cause', 'skin', 'cancer', 'sunburn']\n",
      "Additional words from top 5 documents: wrong infrared wavelengths use\n",
      "🔍 Enhanced Query: how does Ultraviolet Light Affects Seed Germination and plant growth? wrong infrared wavelengths use\n",
      "Top similarities: [0.5533517  0.51880825 0.47538537 0.4692017  0.4648733 ]\n",
      "Loaded doc_id_mapping with 403666 entries\n"
     ]
    },
    {
     "name": "stderr",
     "output_type": "stream",
     "text": [
      "معالجة الاستعلامات:  82%|████████▏ | 144/176 [07:44<01:45,  3.31s/استعلام]"
     ]
    },
    {
     "name": "stdout",
     "output_type": "stream",
     "text": [
      "Total documents in doc_data: 403666\n",
      "Sample doc_ids: ['2020338_0', '2020338_1', '2020338_2', '2020338_3', '2874684_0']\n",
      "Top indices: [222573 113335 311030 107883 243672]\n",
      "Selected document at doc_id 649322_2, similarity: 0.5533517003059387, text: ['check', 'muffler', 'bearings']\n",
      "Selected document at doc_id 3783805_0, similarity: 0.5188082456588745, text: ['cant', 'make', 'muffler', 'louder']\n",
      "Selected document at doc_id 4096934_2, similarity: 0.4753853678703308, text: ['sound', 'like', 'alternator']\n",
      "Selected document at doc_id 3694941_2, similarity: 0.4692017138004303, text: ['probably', 'normal', 'question', '1995', 'bmw', '525i', 'bmw', 'always', 'give', 'white', 'smoke', 'notice', 'not', 'overheat', 'anything', 'like', 'outside', 'temperature', 'deg', 'cars', 'run', 'fine', 'sometimes', 'smell', 'coolant', 'inside', 'car', 'unable', 'find', 'wet', 'spot', 'car', 'help', 'answer', 'white', 'smoke', 'first', 'start', 'normal', 'white', 'smoke', 'continue', 'internal', 'coolant', 'leak', 'crack', 'headblown', 'head', 'gasket', 'black', 'smoke', 'cause', 'rich', 'fuel', 'condition', 'blue', 'smoke', 'cause', 'oil', 'consumption', 'smell', 'coolant', 'inside', 'car', 'cause', 'leak', 'heater', 'core']\n",
      "Selected document at doc_id 1111509_0, similarity: 0.4648733139038086, text: ['coolant', 'smell', 'like', 'exhaust', 'exhaust', 'smell', 'like', 'coolant']\n",
      "Additional words from top 5 documents: check bearings cant louder\n",
      "🔍 Enhanced Query: what cause the car to have white smoke coming from the muffler and making a kicking or knocking sounds? check bearings cant louder\n",
      "Top similarities: [0.5439212  0.53658366 0.53658366 0.53658366 0.52966064]\n",
      "Loaded doc_id_mapping with 403666 entries\n"
     ]
    },
    {
     "name": "stderr",
     "output_type": "stream",
     "text": [
      "معالجة الاستعلامات:  82%|████████▏ | 145/176 [07:48<01:41,  3.28s/استعلام]"
     ]
    },
    {
     "name": "stdout",
     "output_type": "stream",
     "text": [
      "Total documents in doc_data: 403666\n",
      "Sample doc_ids: ['2020338_0', '2020338_1', '2020338_2', '2020338_3', '2874684_0']\n",
      "Top indices: [159956 208553  54066  28107 220909]\n",
      "Selected document at doc_id 1939168_1, similarity: 0.543921172618866, text: ['witchcraft']\n",
      "Selected document at doc_id 732900_9, similarity: 0.536583662033081, text: ['witch']\n",
      "Selected document at doc_id 2198271_2, similarity: 0.536583662033081, text: ['witch']\n",
      "Selected document at doc_id 3594906_4, similarity: 0.536583662033081, text: ['witch']\n",
      "Selected document at doc_id 3341098_4, similarity: 0.5296606421470642, text: ['events', 'lead', 'witch', 'trials', 'actually', 'occur', 'town', 'danvers', 'parish', 'salem', 'town', 'know', 'salem', 'village', 'launch', 'hysteria', 'bizarre', 'seemingly', 'inexplicable', 'behavior', 'two', 'young', 'girls', 'daughter', 'betty', 'niece', 'abigail', 'williams', 'salem', 'village', 'minister', 'reverend', 'samuel', 'parris', 'witch', 'house', 'february', '1692', 'three', 'accuse', 'women', 'examine', 'magistrates', 'jonathan', 'corwin', 'john', 'hathorne', 'corwins', 'home', 'know', 'witch', 'house', 'still', 'stand', 'corner', 'north', 'essex', 'streets', 'salem', 'provide', 'guide', 'tour', 'tales', 'first', 'witchcraft', 'trials', 'john', 'hathorne', 'ancestor', 'author', 'nathaniel', 'hawthorne', 'bury', 'charter', 'street', 'old', 'bury', 'point', 'time', 'hysteria', 'spend', 'people', 'die', 'nineteen', 'hang', 'gallows', 'hill', 'salem', 'town', 'die', 'prison', 'giles', 'corey', 'first', 'plead', 'not', 'guilty', 'charge', 'witchcraft', 'subsequently', 'refuse', 'stand', 'trial', 'refusal', 'mean', 'could', 'not', 'convict', 'legally', 'however', 'examiners', 'choose', 'subject', 'interrogation', 'place', 'stone', 'weight', 'body', 'survive', 'brutal', 'torture', 'two', 'days', 'die', 'remarkable', '552', 'original', 'document', 'pertain', 'witchcraft', 'trials', 'preserve', 'still', 'store', 'peabody', 'essex', 'museum', 'eerie', 'memorabilia', 'associate', 'trials', 'witch', 'pin', 'use', 'examination', 'witch', 'small', 'bottle', 'suppose', 'contain', 'finger', 'bone', 'victim', 'george', 'jacobs', 'find', 'well', 'short', 'paragraph', 'intend', 'introduction', 'complex', 'subject', 'much', 'write', 'provoke', 'commemoration', 'salem', 'witch', 'trials', 'tercentenary', 'memorial', 'dedicate', '1992', 'find', 'adjacent', 'charter', 'street', 'old', 'bury', 'point', 'witch', 'today', 'course', 'salem', 'become', 'know', 'witch', 'city', 'salem', 'witch', 'museum', 'witch', 'dungeon', 'museum', 'witch', 'history', 'museum', 'take', 'back', 'history', '1692', 'yet', 'presentday', 'popularization', 'witchcraft', 'hysteria', 'doesnt', 'reveal', 'anything', 'large', 'number', 'modern', 'witch', 'live', 'salem', 'today', 'salem', 'witch', 'village', 'people', 'learn', 'facts', 'witchcraft', 'highly', 'recommend', 'many', 'members', 'salem', 'craft', 'community', 'goal', 'promote', 'religious', 'tolerance', 'participation', 'positive', 'society', 'encourage', 'growth', 'acceptance', 'people', 'witchcraft', 'trials', 'salem', 'commentary', 'douglas', 'linder', 'christian', 'martyr', 'truth', 'could', 'die', 'thee', 'own', 'hideous', 'lie', 'world', 'redeem', 'superstitions', 'sway', 'breathe', 'freer', 'thy', 'sake', 'today', 'word', 'write', 'john', 'greenleaf', 'whittier', 'inscribe', 'monument', 'mark', 'grave', 'rebecca', 'nurse', 'one', 'condemn', 'witch', 'salem', 'june', 'september', '1692', 'nineteen', 'men', 'women', 'convict', 'witchcraft', 'cart', 'gallows', 'hill', 'barren', 'slope', 'near', 'salem', 'village', 'hang', 'another', 'man', 'eighty', 'years', 'press', 'death', 'heavy', 'stone', 'refuse', 'submit', 'trial', 'witchcraft', 'charge', 'hundreds', 'others', 'face', 'accusations', 'witchcraft', 'dozens', 'languish', 'jail', 'months', 'without', 'trials', 'almost', 'soon', 'begin', 'hysteria', 'sweep', 'puritan', 'massachusetts', 'end', 'travesty', 'justice', 'occur', 'occur', 'salem', 'nothing', 'tragedy', 'inevitable', 'unfortunate', 'combination', 'ongoing', 'frontier', 'war', 'economic', 'condition', 'congregational', 'strife', 'teenage', 'boredom', 'personal', 'jealousies', 'account', 'spiral', 'accusations', 'trials', 'executions', 'occur', 'spring', 'summer', '1692', '1688', 'john', 'putnam', 'one', 'influential', 'elders']\n",
      "Additional words from top 5 documents: witchcraft events lead actually\n",
      "🔍 Enhanced Query: how were the witches tested in the salem witch trials? witchcraft events lead actually\n",
      "Top similarities: [0.562499   0.50061744 0.47996086 0.46703935 0.4551854 ]\n",
      "Loaded doc_id_mapping with 403666 entries\n"
     ]
    },
    {
     "name": "stderr",
     "output_type": "stream",
     "text": [
      "معالجة الاستعلامات:  83%|████████▎ | 146/176 [07:51<01:37,  3.25s/استعلام]"
     ]
    },
    {
     "name": "stdout",
     "output_type": "stream",
     "text": [
      "Total documents in doc_data: 403666\n",
      "Sample doc_ids: ['2020338_0', '2020338_1', '2020338_2', '2020338_3', '2874684_0']\n",
      "Top indices: [341749 341742  23640  23644 131011]\n",
      "Selected document at doc_id 1077370_9, similarity: 0.5624989867210388, text: ['monkey', 'fingerprint']\n",
      "Selected document at doc_id 1077370_2, similarity: 0.5006174445152283, text: ['primates', 'finger', 'print']\n",
      "Selected document at doc_id 48470_1, similarity: 0.4799608588218689, text: ['fingerprint', 'procedure', 'take', 'ink', 'impressions', 'persons', 'fingerprint', 'purpose', 'identification']\n",
      "Selected document at doc_id 48470_5, similarity: 0.4670393466949463, text: ['fingerprint', 'make', 'copy', 'fingerprint', 'another', 'surface', 'example', 'put', 'finger', 'ink', 'pad', 'place', 'upon', 'piece', 'flat', 'paper', 'lift', 'finger', 'notice', 'mark', 'look', 'closely', 'see', 'bunch', 'swirl', 'cuves', 'fingerprint', 'fingerprint', 'different', 'human', 'hope', 'help']\n",
      "Selected document at doc_id 3324906_0, similarity: 0.4551854133605957, text: ['identical', 'twin', 'similar', 'fingerprint', 'otherwise', 'different', 'fingerprint']\n",
      "Additional words from top 5 documents: monkey fingerprint primates procedure\n",
      "🔍 Enhanced Query: Why do only Humans have Finger prints? monkey fingerprint primates procedure\n",
      "Top similarities: [0.64883244 0.64883244 0.64883244 0.56385636 0.5325862 ]\n",
      "Loaded doc_id_mapping with 403666 entries\n"
     ]
    },
    {
     "name": "stderr",
     "output_type": "stream",
     "text": [
      "معالجة الاستعلامات:  84%|████████▎ | 147/176 [07:54<01:33,  3.22s/استعلام]"
     ]
    },
    {
     "name": "stdout",
     "output_type": "stream",
     "text": [
      "Total documents in doc_data: 403666\n",
      "Sample doc_ids: ['2020338_0', '2020338_1', '2020338_2', '2020338_3', '2874684_0']\n",
      "Top indices: [ 98658 292133  18190 308550 299492]\n",
      "Selected document at doc_id 1782300_4, similarity: 0.6488324403762817, text: ['freedom', 'speech']\n",
      "Selected document at doc_id 3149170_6, similarity: 0.6488324403762817, text: ['freedom', 'speech']\n",
      "Selected document at doc_id 4141396_10, similarity: 0.6488324403762817, text: ['freedom', 'speech']\n",
      "Selected document at doc_id 1689674_8, similarity: 0.5638563632965088, text: ['right', 'freedom', 'speech']\n",
      "Selected document at doc_id 3969612_9, similarity: 0.5325862169265747, text: ['freedom', 'speech', 'dont', 'hate']\n",
      "Additional words from top 5 documents: right hate\n",
      "🔍 Enhanced Query: Freedom of Speech - why don't people understand how to use it? right hate\n",
      "Top similarities: [0.59139115 0.57730615 0.577306   0.577306   0.577306  ]\n",
      "Loaded doc_id_mapping with 403666 entries\n"
     ]
    },
    {
     "name": "stderr",
     "output_type": "stream",
     "text": [
      "معالجة الاستعلامات:  84%|████████▍ | 148/176 [07:57<01:28,  3.17s/استعلام]"
     ]
    },
    {
     "name": "stdout",
     "output_type": "stream",
     "text": [
      "Total documents in doc_data: 403666\n",
      "Sample doc_ids: ['2020338_0', '2020338_1', '2020338_2', '2020338_3', '2874684_0']\n",
      "Top indices: [155252 289653 132116 375112 327672]\n",
      "Selected document at doc_id 1523045_3, similarity: 0.5913911461830139, text: ['grow', 'older']\n",
      "Selected document at doc_id 2850558_18, similarity: 0.5773061513900757, text: ['grow']\n",
      "Selected document at doc_id 1272836_1, similarity: 0.5773059725761414, text: ['grow']\n",
      "Selected document at doc_id 1751532_16, similarity: 0.5773059725761414, text: ['grow']\n",
      "Selected document at doc_id 306396_3, similarity: 0.5773059725761414, text: ['grow']\n",
      "Additional words from top 5 documents: older\n",
      "🔍 Enhanced Query: How do I grow taller? older\n",
      "Top similarities: [0.54023093 0.5240765  0.47112307 0.46421623 0.4460636 ]\n",
      "Loaded doc_id_mapping with 403666 entries\n"
     ]
    },
    {
     "name": "stderr",
     "output_type": "stream",
     "text": [
      "معالجة الاستعلامات:  85%|████████▍ | 149/176 [08:00<01:24,  3.11s/استعلام]"
     ]
    },
    {
     "name": "stdout",
     "output_type": "stream",
     "text": [
      "Total documents in doc_data: 403666\n",
      "Sample doc_ids: ['2020338_0', '2020338_1', '2020338_2', '2020338_3', '2874684_0']\n",
      "Top indices: [365286 347283 185430  13637 340922]\n",
      "Selected document at doc_id 3107835_23, similarity: 0.540230929851532, text: ['nocturnal', 'animals']\n",
      "Selected document at doc_id 659602_13, similarity: 0.524076521396637, text: ['animals', 'die', 'place']\n",
      "Selected document at doc_id 3802870_3, similarity: 0.471123069524765, text: ['hunt', 'loss', 'habitat']\n",
      "Selected document at doc_id 3294734_8, similarity: 0.4642162322998047, text: ['monsters', 'murderers', 'hide', 'dark']\n",
      "Selected document at doc_id 2691737_3, similarity: 0.4460636079311371, text: ['wild', 'animals']\n",
      "Additional words from top 5 documents: nocturnal hunt loss habitat\n",
      "🔍 Enhanced Query: why do some animals hide in a dark place b4 they die? nocturnal hunt loss habitat\n",
      "Top similarities: [0.4864692  0.48419115 0.4535959  0.4532577  0.45179772]\n",
      "Loaded doc_id_mapping with 403666 entries\n"
     ]
    },
    {
     "name": "stderr",
     "output_type": "stream",
     "text": [
      "معالجة الاستعلامات:  85%|████████▌ | 150/176 [08:03<01:20,  3.11s/استعلام]"
     ]
    },
    {
     "name": "stdout",
     "output_type": "stream",
     "text": [
      "Total documents in doc_data: 403666\n",
      "Sample doc_ids: ['2020338_0', '2020338_1', '2020338_2', '2020338_3', '2874684_0']\n",
      "Top indices: [152946  50801 120749  62171  89838]\n",
      "Selected document at doc_id 4041204_2, similarity: 0.48646920919418335, text: ['try', 'abriva', 'neosporin', 'counter', 'medications']\n",
      "Selected document at doc_id 1170308_8, similarity: 0.4841911494731903, text: ['wash', 'daily', 'epsom', 'salt', 'water']\n",
      "Selected document at doc_id 746920_6, similarity: 0.453595906496048, text: ['scholls', 'wart', 'remover']\n",
      "Selected document at doc_id 3648888_4, similarity: 0.4532577097415924, text: ['soap', 'water', 'bandaid', 'neosporin']\n",
      "Selected document at doc_id 4112430_7, similarity: 0.4517977237701416, text: ['soak', 'vinegar']\n",
      "Additional words from top 5 documents: try abriva neosporin counter\n",
      "🔍 Enhanced Query: How do you get rid of wart on your hand a using home method? try abriva neosporin counter\n",
      "Top similarities: [0.6395376  0.52891564 0.48528805 0.423835   0.36068147]\n",
      "Loaded doc_id_mapping with 403666 entries\n"
     ]
    },
    {
     "name": "stderr",
     "output_type": "stream",
     "text": [
      "معالجة الاستعلامات:  86%|████████▌ | 151/176 [08:06<01:17,  3.11s/استعلام]"
     ]
    },
    {
     "name": "stdout",
     "output_type": "stream",
     "text": [
      "Total documents in doc_data: 403666\n",
      "Sample doc_ids: ['2020338_0', '2020338_1', '2020338_2', '2020338_3', '2874684_0']\n",
      "Top indices: [197348 287817 197345 287816 197344]\n",
      "Selected document at doc_id 1346898_17, similarity: 0.6395375728607178, text: ['couscous']\n",
      "Selected document at doc_id 1977054_7, similarity: 0.5289156436920166, text: ['couscous', 'ipa', 'kʊskʊs', 'berber', 'seksu', 'arabic', 'كسكس', 'food', 'maghreb', 'berber', 'origin', 'consist', 'grain', 'make', 'semolina', '116th', 'inch', 'diameter', 'cook', 'dish', 'primary', 'staple', 'food', 'throughout', 'maghreb', 'much', 'algeria', 'eastern', 'morocco', 'tunisia', 'libya', 'simply', 'know', 'taaam', 'طعام', 'food', 'popular', 'maghreb', 'west', 'african', 'sahel', 'france', 'western', 'sicilys', 'trapani', 'province', 'part', 'middle', 'east', 'also', 'popular', 'among', 'jews', 'north', 'african', 'descent', 'couscous', 'traditionally', 'make', 'hard', 'part', 'hard', 'wheat', 'triticum', 'durum', 'part', 'grain', 'resist', 'grind', 'relatively', 'primitive', 'millstone', 'name', 'also', 'use', 'prepare', 'dish', 'make', 'grain', 'barley', 'millet', 'sorghum', 'rice', 'maize', 'couscous', 'traditionally', 'serve', 'meat', 'vegetable', 'stew', 'unite', 'state', 'couscous', 'know', 'type', 'pasta', 'probably', 'reflect', 'influence', 'sicilian', 'immigrants', 'however', 'countries', 'treat', 'like', 'grain', 'right', 'particularly', 'value', 'rapid', 'preparation', 'time', 'frenchspeaking', 'countries', 'subsaharan', 'africa', 'fufu', 'often', 'call', 'couscous']\n",
      "Selected document at doc_id 1346898_14, similarity: 0.4852880537509918, text: ['couscousvery', 'healthy', 'besides', 'whole', 'grain', 'foods']\n",
      "Selected document at doc_id 1977054_6, similarity: 0.42383500933647156, text: ['couscous', 'popular', 'dish', 'morocco', 'north', 'africa', 'appreciate', 'worldwide', 'historians', 'different', 'opinions', 'origin', 'couscous', 'claim', 'couscous', 'like', 'pasta', 'originate', 'china', 'others', 'trace', 'origin', 'east', 'africa', 'however', 'plausible', 'evidence', 'point', 'north', 'african', 'origin', 'indeed', 'archaeological', 'evidence', 'date', 'back', '9th', 'century', 'consist', 'kitchen', 'utensil', 'need', 'prepare', 'dish', 'find', 'part', 'world']\n",
      "Additional words from top 5 documents: ipa kʊskʊs berber seksu\n",
      "🔍 Enhanced Query: Couscous is a food from what origin? ipa kʊskʊs berber seksu\n",
      "Top similarities: [0.5447217  0.54090667 0.53788626 0.53788626 0.5378861 ]\n",
      "Loaded doc_id_mapping with 403666 entries\n"
     ]
    },
    {
     "name": "stderr",
     "output_type": "stream",
     "text": [
      "معالجة الاستعلامات:  86%|████████▋ | 152/176 [08:09<01:13,  3.06s/استعلام]"
     ]
    },
    {
     "name": "stdout",
     "output_type": "stream",
     "text": [
      "Total documents in doc_data: 403666\n",
      "Sample doc_ids: ['2020338_0', '2020338_1', '2020338_2', '2020338_3', '2874684_0']\n",
      "Top indices: [317970 269353 202486  83562  98558]\n",
      "Selected document at doc_id 3533770_2, similarity: 0.5447217226028442, text: ['liposuction', 'excercies', 'diet']\n",
      "Selected document at doc_id 3498251_2, similarity: 0.5409066677093506, text: ['lose', 'bellyfat', 'httpweightlosstipsguideblogspotcom200609howtolosebellyfathtml']\n",
      "Selected document at doc_id 429514_3, similarity: 0.5378862619400024, text: ['liposuction']\n",
      "Selected document at doc_id 1940056_10, similarity: 0.5378862619400024, text: ['liposuction']\n",
      "Selected document at doc_id 3335949_1, similarity: 0.5378860831260681, text: ['liposuction']\n",
      "Additional words from top 5 documents: liposuction excercies diet lose\n",
      "🔍 Enhanced Query: How to \"LOSE\"all body fat ? liposuction excercies diet lose\n",
      "Top similarities: [0.49770916 0.4915482  0.49154818 0.49097052 0.4834144 ]\n",
      "Loaded doc_id_mapping with 403666 entries\n"
     ]
    },
    {
     "name": "stderr",
     "output_type": "stream",
     "text": [
      "معالجة الاستعلامات:  87%|████████▋ | 153/176 [08:12<01:09,  3.02s/استعلام]"
     ]
    },
    {
     "name": "stdout",
     "output_type": "stream",
     "text": [
      "Total documents in doc_data: 403666\n",
      "Sample doc_ids: ['2020338_0', '2020338_1', '2020338_2', '2020338_3', '2874684_0']\n",
      "Top indices: [ 37851 150403 237983  50202   3797]\n",
      "Selected document at doc_id 134882_1, similarity: 0.49770915508270264, text: ['sun', 'wind', 'rain']\n",
      "Selected document at doc_id 1491623_2, similarity: 0.49154821038246155, text: ['weather']\n",
      "Selected document at doc_id 3186954_2, similarity: 0.49154818058013916, text: ['weather']\n",
      "Selected document at doc_id 1895903_5, similarity: 0.49097052216529846, text: ['probably', 'sensitive', 'barometric', 'pressure', 'change']\n",
      "Selected document at doc_id 1067083_1, similarity: 0.4834144115447998, text: ['weather', 'occur']\n",
      "Additional words from top 5 documents: sun wind rain probably\n",
      "🔍 Enhanced Query: If you could be an element of weather, which would you choose, and why? sun wind rain probably\n",
      "Top similarities: [0.5949497  0.5949497  0.5796666  0.54421043 0.54421043]\n",
      "Loaded doc_id_mapping with 403666 entries\n"
     ]
    },
    {
     "name": "stderr",
     "output_type": "stream",
     "text": [
      "معالجة الاستعلامات:  88%|████████▊ | 154/176 [08:15<01:06,  3.01s/استعلام]"
     ]
    },
    {
     "name": "stdout",
     "output_type": "stream",
     "text": [
      "Total documents in doc_data: 403666\n",
      "Sample doc_ids: ['2020338_0', '2020338_1', '2020338_2', '2020338_3', '2874684_0']\n",
      "Top indices: [143352 274756 223711 191338  95934]\n",
      "Selected document at doc_id 1218838_13, similarity: 0.5949497222900391, text: ['weed']\n",
      "Selected document at doc_id 3059341_5, similarity: 0.5949497222900391, text: ['weed']\n",
      "Selected document at doc_id 184789_16, similarity: 0.5796666145324707, text: ['marijuana']\n",
      "Selected document at doc_id 3435824_3, similarity: 0.5442104339599609, text: ['smoke', 'weed']\n",
      "Selected document at doc_id 2434719_9, similarity: 0.5442104339599609, text: ['smoke', 'weed']\n",
      "Additional words from top 5 documents: marijuana smoke\n",
      "🔍 Enhanced Query: What do you mean by \"weed\"? marijuana smoke\n",
      "Top similarities: [0.5173968  0.49655658 0.47976553 0.46057925 0.45855463]\n",
      "Loaded doc_id_mapping with 403666 entries\n"
     ]
    },
    {
     "name": "stderr",
     "output_type": "stream",
     "text": [
      "معالجة الاستعلامات:  88%|████████▊ | 155/176 [08:18<01:03,  3.00s/استعلام]"
     ]
    },
    {
     "name": "stdout",
     "output_type": "stream",
     "text": [
      "Total documents in doc_data: 403666\n",
      "Sample doc_ids: ['2020338_0', '2020338_1', '2020338_2', '2020338_3', '2874684_0']\n",
      "Top indices: [ 70040 145230 183775 358287 366889]\n",
      "Selected document at doc_id 3167183_11, similarity: 0.5173968076705933, text: ['snow']\n",
      "Selected document at doc_id 1750852_3, similarity: 0.4965565800666809, text: ['get', 'disneyland']\n",
      "Selected document at doc_id 551908_4, similarity: 0.47976553440093994, text: ['visit', 'disneyland']\n",
      "Selected document at doc_id 2436679_1, similarity: 0.4605792462825775, text: ['alaska', 'snow']\n",
      "Selected document at doc_id 2865888_18, similarity: 0.45855462551116943, text: ['icecream']\n",
      "Additional words from top 5 documents: get visit alaska icecream\n",
      "🔍 Enhanced Query: how does disneyland make it snow? get visit alaska icecream\n",
      "Top similarities: [0.531794   0.5162046  0.51219684 0.50760007 0.48691076]\n",
      "Loaded doc_id_mapping with 403666 entries\n"
     ]
    },
    {
     "name": "stderr",
     "output_type": "stream",
     "text": [
      "معالجة الاستعلامات:  89%|████████▊ | 156/176 [08:21<00:59,  2.98s/استعلام]"
     ]
    },
    {
     "name": "stdout",
     "output_type": "stream",
     "text": [
      "Total documents in doc_data: 403666\n",
      "Sample doc_ids: ['2020338_0', '2020338_1', '2020338_2', '2020338_3', '2874684_0']\n",
      "Top indices: [ 56458 234555 126446  56452  15927]\n",
      "Selected document at doc_id 3084462_7, similarity: 0.531794011592865, text: ['satisfy', 'customer']\n",
      "Selected document at doc_id 4322618_1, similarity: 0.5162045955657959, text: ['customer', 'always', 'right']\n",
      "Selected document at doc_id 2401449_1, similarity: 0.5121968388557434, text: ['quality', 'simply', 'meet', 'customers', 'expectations', 'deliver', 'promise']\n",
      "Selected document at doc_id 3084462_1, similarity: 0.5076000690460205, text: ['good', 'customer', 'service', 'ability', 'resolve', 'customer', 'issue', 'friendly', 'manner', 'efficiently', 'lowest', 'amount', 'time', 'possible', 'phone', 'call', 'possible']\n",
      "Selected document at doc_id 2970455_1, similarity: 0.48691076040267944, text: ['customery', 'phrase']\n",
      "Additional words from top 5 documents: satisfy always right quality\n",
      "🔍 Enhanced Query: what exemplifies effective customer service? satisfy always right quality\n",
      "Top similarities: [0.4692424  0.46455967 0.4508826  0.44825828 0.44467282]\n",
      "Loaded doc_id_mapping with 403666 entries\n"
     ]
    },
    {
     "name": "stderr",
     "output_type": "stream",
     "text": [
      "معالجة الاستعلامات:  89%|████████▉ | 157/176 [08:24<00:56,  2.97s/استعلام]"
     ]
    },
    {
     "name": "stdout",
     "output_type": "stream",
     "text": [
      "Total documents in doc_data: 403666\n",
      "Sample doc_ids: ['2020338_0', '2020338_1', '2020338_2', '2020338_3', '2874684_0']\n",
      "Top indices: [107141 107140 347495  40096 202731]\n",
      "Selected document at doc_id 3382736_3, similarity: 0.4692423939704895, text: ['cubism', 'movement', 'early', '20th', 'century', 'artist', 'simplify', 'complex', 'object', 'geometric', 'shape', 'try', 'image', 'search', 'cubism', 'google']\n",
      "Selected document at doc_id 3382736_2, similarity: 0.4645596742630005, text: ['cubism', 'minimalist', 'artistic', 'movement', 'seek', 'express', 'world', 'simply', 'possible', 'less', 'basically', 'art', 'would', 'basic', 'shape', 'form', 'depict', 'subject', 'music', 'simple', 'sound', 'produce', 'usually', 'orchestra', 'without', 'huge', 'fanfare', 'harmony', 'cubism', 'think', 'pablo', 'picasso', 'paul', 'klee', 'rather', 'curve', 'line', 'mind', 'see', 'look', 'things', 'people', 'image', 'compose', 'simple', 'shape', 'like', 'triangles', 'cub']\n",
      "Selected document at doc_id 1677609_4, similarity: 0.45088261365890503, text: ['side', 'cube']\n",
      "Selected document at doc_id 3293497_2, similarity: 0.44825828075408936, text: ['two', 'rectanglesconnected', 'form', 'prism']\n",
      "Selected document at doc_id 2480615_3, similarity: 0.4446728229522705, text: ['length', 'height', 'area', 'one', 'side', 'area', 'one', 'side', 'surface', 'area', 'cube']\n",
      "Additional words from top 5 documents: cubism movement early 20th\n",
      "🔍 Enhanced Query: what is minimalist cubisium? cubism movement early 20th\n",
      "Top similarities: [0.38645995 0.32469684 0.29561925 0.2916813  0.29032543]\n",
      "Loaded doc_id_mapping with 403666 entries\n"
     ]
    },
    {
     "name": "stderr",
     "output_type": "stream",
     "text": [
      "معالجة الاستعلامات:  90%|████████▉ | 158/176 [08:27<00:53,  2.97s/استعلام]"
     ]
    },
    {
     "name": "stdout",
     "output_type": "stream",
     "text": [
      "Total documents in doc_data: 403666\n",
      "Sample doc_ids: ['2020338_0', '2020338_1', '2020338_2', '2020338_3', '2874684_0']\n",
      "Top indices: [362887 391724 182028  85357  93799]\n",
      "No similar documents found for antique with sufficient similarity\n",
      "Top similarities: [0.5927052  0.5230851  0.5227983  0.5221687  0.51188946]\n",
      "Loaded doc_id_mapping with 403666 entries\n"
     ]
    },
    {
     "name": "stderr",
     "output_type": "stream",
     "text": [
      "معالجة الاستعلامات:  90%|█████████ | 159/176 [08:30<00:50,  2.96s/استعلام]"
     ]
    },
    {
     "name": "stdout",
     "output_type": "stream",
     "text": [
      "Total documents in doc_data: 403666\n",
      "Sample doc_ids: ['2020338_0', '2020338_1', '2020338_2', '2020338_3', '2874684_0']\n",
      "Top indices: [354279 283039 330753  97456 375337]\n",
      "Selected document at doc_id 3474803_3, similarity: 0.5927051901817322, text: ['call', 'tricare', '877triwest']\n",
      "Selected document at doc_id 3930874_0, similarity: 0.5230851173400879, text: ['call', 'doctor']\n",
      "Selected document at doc_id 3784744_6, similarity: 0.5227982997894287, text: ['call', 'doctor', 'immediately']\n",
      "Selected document at doc_id 1634584_1, similarity: 0.5221686959266663, text: ['call', 'drs']\n",
      "Selected document at doc_id 155796_3, similarity: 0.5118894577026367, text: ['call', 'pharmacist']\n",
      "Additional words from top 5 documents: call tricare 877triwest immediately\n",
      "🔍 Enhanced Query: Why do we need to tell customer service/operator about our sickness in order to make appointment w/ a doctor? call tricare 877triwest immediately\n",
      "Top similarities: [0.5428224  0.53099525 0.53099525 0.530995   0.52458966]\n",
      "Loaded doc_id_mapping with 403666 entries\n"
     ]
    },
    {
     "name": "stderr",
     "output_type": "stream",
     "text": [
      "معالجة الاستعلامات:  91%|█████████ | 160/176 [08:33<00:47,  2.95s/استعلام]"
     ]
    },
    {
     "name": "stdout",
     "output_type": "stream",
     "text": [
      "Total documents in doc_data: 403666\n",
      "Sample doc_ids: ['2020338_0', '2020338_1', '2020338_2', '2020338_3', '2874684_0']\n",
      "Top indices: [162161 100069  97308 215984 101193]\n",
      "Selected document at doc_id 2022468_18, similarity: 0.5428224205970764, text: ['love', 'muslim']\n",
      "Selected document at doc_id 1269142_7, similarity: 0.53099524974823, text: ['muslim']\n",
      "Selected document at doc_id 4354210_6, similarity: 0.53099524974823, text: ['muslim']\n",
      "Selected document at doc_id 1283351_12, similarity: 0.5309950113296509, text: ['muslim']\n",
      "Selected document at doc_id 112672_4, similarity: 0.5245896577835083, text: ['not', 'muslims']\n",
      "Additional words from top 5 documents: love muslim not\n",
      "🔍 Enhanced Query: Muslims Are The Happiest People Ever, Why? love muslim not\n",
      "Top similarities: [0.4781857  0.47818565 0.47818565 0.47818565 0.44864738]\n",
      "Loaded doc_id_mapping with 403666 entries\n"
     ]
    },
    {
     "name": "stderr",
     "output_type": "stream",
     "text": [
      "معالجة الاستعلامات:  91%|█████████▏| 161/176 [08:36<00:44,  2.97s/استعلام]"
     ]
    },
    {
     "name": "stdout",
     "output_type": "stream",
     "text": [
      "Total documents in doc_data: 403666\n",
      "Sample doc_ids: ['2020338_0', '2020338_1', '2020338_2', '2020338_3', '2874684_0']\n",
      "Top indices: [ 90052 208577  27130  32444  78227]\n",
      "Selected document at doc_id 3622016_12, similarity: 0.4781857132911682, text: ['truth', 'hurt']\n",
      "Selected document at doc_id 2349532_10, similarity: 0.47818565368652344, text: ['truth', 'hurt']\n",
      "Selected document at doc_id 941565_2, similarity: 0.47818565368652344, text: ['truth', 'hurt']\n",
      "Selected document at doc_id 1600828_4, similarity: 0.47818565368652344, text: ['truth', 'hurt']\n",
      "Selected document at doc_id 2735473_6, similarity: 0.4486473798751831, text: ['tough', 'love']\n",
      "Additional words from top 5 documents: truth tough\n",
      "🔍 Enhanced Query: Why does loving someone hurts like hell? truth tough\n",
      "Top similarities: [0.49694702 0.4784521  0.4738888  0.4570037  0.45279685]\n",
      "Loaded doc_id_mapping with 403666 entries\n"
     ]
    },
    {
     "name": "stderr",
     "output_type": "stream",
     "text": [
      "معالجة الاستعلامات:  92%|█████████▏| 162/176 [08:39<00:42,  3.01s/استعلام]"
     ]
    },
    {
     "name": "stdout",
     "output_type": "stream",
     "text": [
      "Total documents in doc_data: 403666\n",
      "Sample doc_ids: ['2020338_0', '2020338_1', '2020338_2', '2020338_3', '2874684_0']\n",
      "Top indices: [386262 352004 225808  60516 235874]\n",
      "Selected document at doc_id 3930278_6, similarity: 0.4969470202922821, text: ['atm', 'inside']\n",
      "Selected document at doc_id 1453334_11, similarity: 0.47845208644866943, text: ['maybe', 'cheaper', 'make', 'keypads']\n",
      "Selected document at doc_id 3712755_1, similarity: 0.4738888144493103, text: ['check', 'keylessridecom']\n",
      "Selected document at doc_id 2085158_5, similarity: 0.45700371265411377, text: ['put', 'bank', 'card', 'atm', 'put', 'pin', 'find', 'transfer', 'screen', 'follow', 'instructions']\n",
      "Selected document at doc_id 2078133_2, similarity: 0.4527968466281891, text: ['cover', 'keypad']\n",
      "Additional words from top 5 documents: atm inside maybe cheaper\n",
      "🔍 Enhanced Query: Why is there brail on the keypads at drive up ATM's? atm inside maybe cheaper\n",
      "Top similarities: [0.39663404 0.39663404 0.39663404 0.39663404 0.39663404]\n",
      "Loaded doc_id_mapping with 403666 entries\n"
     ]
    },
    {
     "name": "stderr",
     "output_type": "stream",
     "text": [
      "معالجة الاستعلامات:  93%|█████████▎| 163/176 [08:42<00:40,  3.08s/استعلام]"
     ]
    },
    {
     "name": "stdout",
     "output_type": "stream",
     "text": [
      "Total documents in doc_data: 403666\n",
      "Sample doc_ids: ['2020338_0', '2020338_1', '2020338_2', '2020338_3', '2874684_0']\n",
      "Top indices: [154237 154247 116884 310580 152371]\n",
      "No similar documents found for antique with sufficient similarity\n",
      "Top similarities: [0.4762984  0.47009128 0.46915594 0.46855018 0.46192187]\n",
      "Loaded doc_id_mapping with 403666 entries\n"
     ]
    },
    {
     "name": "stderr",
     "output_type": "stream",
     "text": [
      "معالجة الاستعلامات:  93%|█████████▎| 164/176 [08:45<00:37,  3.09s/استعلام]"
     ]
    },
    {
     "name": "stdout",
     "output_type": "stream",
     "text": [
      "Total documents in doc_data: 403666\n",
      "Sample doc_ids: ['2020338_0', '2020338_1', '2020338_2', '2020338_3', '2874684_0']\n",
      "Top indices: [209623 336416 271886  70676 163136]\n",
      "Selected document at doc_id 610726_6, similarity: 0.47629839181900024, text: ['call', 'hospital', 'asap']\n",
      "Selected document at doc_id 117536_3, similarity: 0.4700912833213806, text: ['see', 'doctor', 'emergency', 'room', 'asap']\n",
      "Selected document at doc_id 2026422_2, similarity: 0.4691559374332428, text: ['call', 'medical', 'assistance', 'wait', 'medics']\n",
      "Selected document at doc_id 2203037_4, similarity: 0.4685501754283905, text: ['take', 'hospitalplease']\n",
      "Selected document at doc_id 4412164_1, similarity: 0.4619218707084656, text: ['nearest', 'hospital', 'immediate', 'assistance']\n",
      "Additional words from top 5 documents: call hospital asap see\n",
      "🔍 Enhanced Query: What do doctors do when a patient has a Do Nor Resuscitate Order? call hospital asap see\n",
      "Top similarities: [0.491362   0.4679432  0.46368283 0.44640714 0.44377398]\n",
      "Loaded doc_id_mapping with 403666 entries\n"
     ]
    },
    {
     "name": "stderr",
     "output_type": "stream",
     "text": [
      "معالجة الاستعلامات:  94%|█████████▍| 165/176 [08:48<00:34,  3.10s/استعلام]"
     ]
    },
    {
     "name": "stdout",
     "output_type": "stream",
     "text": [
      "Total documents in doc_data: 403666\n",
      "Sample doc_ids: ['2020338_0', '2020338_1', '2020338_2', '2020338_3', '2874684_0']\n",
      "Top indices: [345709 345695 146794 339005 393239]\n",
      "Selected document at doc_id 1837782_14, similarity: 0.4913620054721832, text: ['exercise', 'melatonin', 'supplement', 'chamomile', 'tea', 'massage']\n",
      "Selected document at doc_id 1837782_0, similarity: 0.4679431915283203, text: ['try', 'melatonin', 'natural', 'supplement', 'valerian', 'herb', 'induce', 'sleep']\n",
      "Selected document at doc_id 4220683_12, similarity: 0.4636828303337097, text: ['kid', 'sleep']\n",
      "Selected document at doc_id 966622_1, similarity: 0.44640713930130005, text: ['sleeptalking', 'also', 'know', 'somniloquy', 'range', 'loud', 'talk', 'low', 'murmur', 'listeners', 'may', 'may', 'not', 'able', 'understand', 'person', 'say', 'sleep', 'talk', 'occur', 'feature', 'another', 'sleep', 'disorder', 'rem', 'sleep', 'behavior', 'disorder', 'rbd', 'loud', 'emotional', 'profane', 'sleep', 'talk', 'sleepwalk', 'night', 'terrors', 'intense', 'fear', 'scream', 'shout', 'sleep', 'relate', 'eat', 'disorder', 'sred', 'sleeptalking', 'common', 'occur', 'almost', 'young', 'children', 'usually', 'not', 'dangerous', 'not', 'cause', 'alarm', 'hope', 'help']\n",
      "Selected document at doc_id 912035_2, similarity: 0.4437739849090576, text: ['exercisesplenty', 'sleepeat', 'right', 'foods']\n",
      "Additional words from top 5 documents: exercise melatonin supplement chamomile\n",
      "🔍 Enhanced Query: what are some easy ways to get a toddler to go to sleep without being mean? exercise melatonin supplement chamomile\n",
      "Top similarities: [0.49251744 0.4909203  0.49092028 0.4897894  0.48026145]\n",
      "Loaded doc_id_mapping with 403666 entries\n"
     ]
    },
    {
     "name": "stderr",
     "output_type": "stream",
     "text": [
      "معالجة الاستعلامات:  94%|█████████▍| 166/176 [08:51<00:30,  3.09s/استعلام]"
     ]
    },
    {
     "name": "stdout",
     "output_type": "stream",
     "text": [
      "Total documents in doc_data: 403666\n",
      "Sample doc_ids: ['2020338_0', '2020338_1', '2020338_2', '2020338_3', '2874684_0']\n",
      "Top indices: [209247 167597 188328   5664  63045]\n",
      "Selected document at doc_id 426768_8, similarity: 0.4925174415111542, text: ['christianity', 'rise', 'legalism']\n",
      "Selected document at doc_id 4202360_1, similarity: 0.4909203052520752, text: ['cause', 'effect']\n",
      "Selected document at doc_id 4242099_12, similarity: 0.4909202754497528, text: ['cause', 'effect']\n",
      "Selected document at doc_id 4324485_4, similarity: 0.4897893965244293, text: ['cause', 'inflation']\n",
      "Selected document at doc_id 3056001_0, similarity: 0.4802614450454712, text: ['jesus', 'die', 'rise']\n",
      "Additional words from top 5 documents: christianity legalism inflation jesus\n",
      "🔍 Enhanced Query: Causes and effects of the rise of Christanity? christianity legalism inflation jesus\n",
      "Top similarities: [0.66691816 0.5943068  0.576326   0.5750544  0.573075  ]\n",
      "Loaded doc_id_mapping with 403666 entries\n"
     ]
    },
    {
     "name": "stderr",
     "output_type": "stream",
     "text": [
      "معالجة الاستعلامات:  95%|█████████▍| 167/176 [08:55<00:28,  3.15s/استعلام]"
     ]
    },
    {
     "name": "stdout",
     "output_type": "stream",
     "text": [
      "Total documents in doc_data: 403666\n",
      "Sample doc_ids: ['2020338_0', '2020338_1', '2020338_2', '2020338_3', '2874684_0']\n",
      "Top indices: [277316  34663 366469 191077 377732]\n",
      "Selected document at doc_id 188331_7, similarity: 0.666918158531189, text: ['chemistry', 'understand']\n",
      "Selected document at doc_id 194978_0, similarity: 0.5943068265914917, text: ['ask', 'chemistry', 'teacher']\n",
      "Selected document at doc_id 3141299_5, similarity: 0.5763260126113892, text: ['study', 'physical', 'reactions']\n",
      "Selected document at doc_id 1244207_8, similarity: 0.575054407119751, text: ['chemistry', 'say']\n",
      "Selected document at doc_id 3662519_10, similarity: 0.573074996471405, text: ['chemistry', 'change']\n",
      "Additional words from top 5 documents: understand ask teacher study\n",
      "🔍 Enhanced Query: How is th Chemistry is a basic of Science? understand ask teacher study\n",
      "Top similarities: [0.49863854 0.47868222 0.47259647 0.45663494 0.45651197]\n",
      "Loaded doc_id_mapping with 403666 entries\n"
     ]
    },
    {
     "name": "stderr",
     "output_type": "stream",
     "text": [
      "معالجة الاستعلامات:  95%|█████████▌| 168/176 [08:58<00:25,  3.23s/استعلام]"
     ]
    },
    {
     "name": "stdout",
     "output_type": "stream",
     "text": [
      "Total documents in doc_data: 403666\n",
      "Sample doc_ids: ['2020338_0', '2020338_1', '2020338_2', '2020338_3', '2874684_0']\n",
      "Top indices: [ 48468  16662 333669  77850 126191]\n",
      "Selected document at doc_id 3269759_1, similarity: 0.4986385405063629, text: ['artificial', 'intelligence', 'computers', 'level', 'human', 'think']\n",
      "Selected document at doc_id 2461947_1, similarity: 0.4786822199821472, text: ['machine', 'not', 'human']\n",
      "Selected document at doc_id 1508849_3, similarity: 0.4725964665412903, text: ['artificial', 'plannet', 'think']\n",
      "Selected document at doc_id 1601847_7, similarity: 0.4566349387168884, text: ['make', 'smarter']\n",
      "Selected document at doc_id 2610629_15, similarity: 0.4565119743347168, text: ['smarter', 'humans']\n",
      "Additional words from top 5 documents: computers level human think\n",
      "🔍 Enhanced Query: what is artificial intelligence? computers level human think\n",
      "Top similarities: [0.48592135 0.45772433 0.45772433 0.45772433 0.45772433]\n",
      "Loaded doc_id_mapping with 403666 entries\n"
     ]
    },
    {
     "name": "stderr",
     "output_type": "stream",
     "text": [
      "معالجة الاستعلامات:  96%|█████████▌| 169/176 [09:01<00:22,  3.22s/استعلام]"
     ]
    },
    {
     "name": "stdout",
     "output_type": "stream",
     "text": [
      "Total documents in doc_data: 403666\n",
      "Sample doc_ids: ['2020338_0', '2020338_1', '2020338_2', '2020338_3', '2874684_0']\n",
      "Top indices: [199747 280950 188642 186110 282440]\n",
      "Selected document at doc_id 1597449_15, similarity: 0.48592135310173035, text: ['difference', 'difference']\n",
      "Selected document at doc_id 3852803_1, similarity: 0.45772433280944824, text: ['difference']\n",
      "Selected document at doc_id 3905937_4, similarity: 0.45772433280944824, text: ['difference']\n",
      "Selected document at doc_id 4054655_5, similarity: 0.45772433280944824, text: ['difference']\n",
      "Selected document at doc_id 2839763_3, similarity: 0.45772433280944824, text: ['difference']\n",
      "Additional words from top 5 documents: \n",
      "No new words to add to query for antique\n",
      "Top similarities: [0.5199073  0.47629672 0.4762966  0.4762966  0.47452486]\n",
      "Loaded doc_id_mapping with 403666 entries\n"
     ]
    },
    {
     "name": "stderr",
     "output_type": "stream",
     "text": [
      "معالجة الاستعلامات:  97%|█████████▋| 170/176 [09:04<00:19,  3.21s/استعلام]"
     ]
    },
    {
     "name": "stdout",
     "output_type": "stream",
     "text": [
      "Total documents in doc_data: 403666\n",
      "Sample doc_ids: ['2020338_0', '2020338_1', '2020338_2', '2020338_3', '2874684_0']\n",
      "Top indices: [280467 206695 371544 122985 403286]\n",
      "Selected document at doc_id 2631387_1, similarity: 0.5199072957038879, text: ['problem', 'wrists']\n",
      "Selected document at doc_id 4393055_2, similarity: 0.47629672288894653, text: ['cut', 'arm']\n",
      "Selected document at doc_id 806776_5, similarity: 0.476296603679657, text: ['cut', 'arm']\n",
      "Selected document at doc_id 3751490_0, similarity: 0.476296603679657, text: ['cut', 'arm']\n",
      "Selected document at doc_id 716946_6, similarity: 0.4745248556137085, text: ['wrist']\n",
      "Additional words from top 5 documents: problem arm wrist\n",
      "🔍 Enhanced Query: how can I hide the cuts on my wrists? problem arm wrist\n",
      "Top similarities: [0.50722516 0.40778205 0.4030378  0.36911523 0.36911517]\n",
      "Loaded doc_id_mapping with 403666 entries\n"
     ]
    },
    {
     "name": "stderr",
     "output_type": "stream",
     "text": [
      "معالجة الاستعلامات:  97%|█████████▋| 171/176 [09:08<00:15,  3.19s/استعلام]"
     ]
    },
    {
     "name": "stdout",
     "output_type": "stream",
     "text": [
      "Total documents in doc_data: 403666\n",
      "Sample doc_ids: ['2020338_0', '2020338_1', '2020338_2', '2020338_3', '2874684_0']\n",
      "Top indices: [157711  90748  64601 270333  35837]\n",
      "Selected document at doc_id 3322405_11, similarity: 0.5072251558303833, text: ['brilliant']\n",
      "Selected document at doc_id 1273180_2, similarity: 0.40778204798698425, text: ['clever']\n",
      "Selected document at doc_id 3502691_2, similarity: 0.40303778648376465, text: ['genius']\n",
      "Additional words from top 5 documents: clever genius\n",
      "🔍 Enhanced Query: how can you be more brilliant? clever genius\n",
      "Top similarities: [0.5347538 0.5213213 0.5190427 0.5139472 0.5087771]\n",
      "Loaded doc_id_mapping with 403666 entries\n"
     ]
    },
    {
     "name": "stderr",
     "output_type": "stream",
     "text": [
      "معالجة الاستعلامات:  98%|█████████▊| 172/176 [09:11<00:12,  3.20s/استعلام]"
     ]
    },
    {
     "name": "stdout",
     "output_type": "stream",
     "text": [
      "Total documents in doc_data: 403666\n",
      "Sample doc_ids: ['2020338_0', '2020338_1', '2020338_2', '2020338_3', '2874684_0']\n",
      "Top indices: [ 32130 264632 340527 303610  11684]\n",
      "Selected document at doc_id 2969756_2, similarity: 0.5347537994384766, text: ['becuz', 'dont', 'wash', 'hand']\n",
      "Selected document at doc_id 120285_6, similarity: 0.5213212966918945, text: ['drink', 'water', 'use', 'vaseline']\n",
      "Selected document at doc_id 208790_13, similarity: 0.5190426707267761, text: ['rinse', 'water']\n",
      "Selected document at doc_id 3953772_3, similarity: 0.5139471888542175, text: ['wash', 'privates', 'soap', 'water']\n",
      "Selected document at doc_id 4223146_0, similarity: 0.5087770819664001, text: ['change', 'underwear', 'daily', 'try', 'wash', 'pipe', 'urinate', 'wash', 'instead', 'wipe', 'reduce', 'bacteria', 'buildup', 'reduce', 'irritationitching']\n",
      "Additional words from top 5 documents: becuz dont drink water\n",
      "🔍 Enhanced Query: Why some men never wash their hands after using the Urinal/Toilet? becuz dont drink water\n",
      "Top similarities: [0.4745832  0.45405102 0.42731464 0.4269483  0.40276754]\n",
      "Loaded doc_id_mapping with 403666 entries\n"
     ]
    },
    {
     "name": "stderr",
     "output_type": "stream",
     "text": [
      "معالجة الاستعلامات:  98%|█████████▊| 173/176 [09:14<00:09,  3.22s/استعلام]"
     ]
    },
    {
     "name": "stdout",
     "output_type": "stream",
     "text": [
      "Total documents in doc_data: 403666\n",
      "Sample doc_ids: ['2020338_0', '2020338_1', '2020338_2', '2020338_3', '2874684_0']\n",
      "Top indices: [211489 259196  94559 132396 207021]\n",
      "Selected document at doc_id 3715113_8, similarity: 0.4745832085609436, text: ['brace']\n",
      "Selected document at doc_id 2192891_6, similarity: 0.45405101776123047, text: ['brace', 'three', 'years', 'didnt', 'hurt', 'teeth', 'shift', 'sometimes', 'cause', 'headaches', 'hurt', 'strong', 'word', 'feel', 'minor', 'discomfort', 'get', 'tighten', 'nothing', 'serious', 'fact', 'swolling', 'aspirn', 'take', 'tylenol', 'help', 'uncomfortable', 'way', 'get', 'brace', 'feel', 'good', 'entire', 'process', 'smile', 'worth']\n",
      "Selected document at doc_id 1447837_0, similarity: 0.4273146390914917, text: ['take', 'easy', 'ibuprofen', 'ice', 'pack', 'chiropractor']\n",
      "Selected document at doc_id 2082443_1, similarity: 0.42694830894470215, text: ['okay', 'afraidgetting', 'brace', 'big', 'change', 'might', 'hurt', 'sometimes', 'annoy', 'youll', 'happy', 'youre', 'beautiful', 'smile', 'also', 'teeth', 'badly', 'enough', 'misalign', 'could', 'give', 'trouble', 'speak', 'eat', 'get', 'older', 'dentist', 'say', 'need', 'bracesits', 'probably', 'good', 'idea', 'dont', 'think', 'excuse', 'use', 'parent', 'get', 'sorry']\n",
      "Selected document at doc_id 2797462_0, similarity: 0.402767539024353, text: ['leg', 'brace', 'set', 'place', 'tighten', 'screw']\n",
      "Additional words from top 5 documents: three years didnt teeth\n",
      "🔍 Enhanced Query: how are braces put on and do they hurt a lot? three years didnt teeth\n",
      "Top similarities: [0.59476805 0.5947679  0.5777415  0.5732378  0.56126   ]\n",
      "Loaded doc_id_mapping with 403666 entries\n"
     ]
    },
    {
     "name": "stderr",
     "output_type": "stream",
     "text": [
      "معالجة الاستعلامات:  99%|█████████▉| 174/176 [09:17<00:06,  3.17s/استعلام]"
     ]
    },
    {
     "name": "stdout",
     "output_type": "stream",
     "text": [
      "Total documents in doc_data: 403666\n",
      "Sample doc_ids: ['2020338_0', '2020338_1', '2020338_2', '2020338_3', '2874684_0']\n",
      "Top indices: [258555 149312 353393 357371 353363]\n",
      "Selected document at doc_id 298001_7, similarity: 0.5947680473327637, text: ['taco', 'bell']\n",
      "Selected document at doc_id 3164414_13, similarity: 0.5947679281234741, text: ['taco', 'bell']\n",
      "Selected document at doc_id 4406669_41, similarity: 0.5777415037155151, text: ['taco']\n",
      "Selected document at doc_id 9560_3, similarity: 0.5732377767562866, text: ['taco', 'bell', 'mcdonalds']\n",
      "Selected document at doc_id 4406669_11, similarity: 0.5612599849700928, text: ['burritoes', 'tacos']\n",
      "Additional words from top 5 documents: mcdonalds burritoes tacos\n",
      "🔍 Enhanced Query: What do you order at Taco Bell? mcdonalds burritoes tacos\n",
      "Top similarities: [0.59091467 0.5347402  0.52927303 0.52641034 0.5242784 ]\n",
      "Loaded doc_id_mapping with 403666 entries\n"
     ]
    },
    {
     "name": "stderr",
     "output_type": "stream",
     "text": [
      "معالجة الاستعلامات:  99%|█████████▉| 175/176 [09:20<00:03,  3.18s/استعلام]"
     ]
    },
    {
     "name": "stdout",
     "output_type": "stream",
     "text": [
      "Total documents in doc_data: 403666\n",
      "Sample doc_ids: ['2020338_0', '2020338_1', '2020338_2', '2020338_3', '2874684_0']\n",
      "Top indices: [265804  93157  41937 368202 129576]\n",
      "Selected document at doc_id 3108202_2, similarity: 0.5909146666526794, text: ['school', 'use']\n",
      "Selected document at doc_id 4334121_1, similarity: 0.5347402095794678, text: ['real', 'world']\n",
      "Selected document at doc_id 658351_9, similarity: 0.5292730331420898, text: ['school', 'systems']\n",
      "Selected document at doc_id 1835434_13, similarity: 0.5264103412628174, text: ['seriousdid', 'school']\n",
      "Selected document at doc_id 1582877_7, similarity: 0.5242784023284912, text: ['real', 'world', 'live']\n",
      "Additional words from top 5 documents: systems seriousdid live\n",
      "🔍 Enhanced Query: why do we go to school if in the real world we dont use most of it? systems seriousdid live\n",
      "Top similarities: [0.49015477 0.47434306 0.47397465 0.46743023 0.4659585 ]\n",
      "Loaded doc_id_mapping with 403666 entries\n"
     ]
    },
    {
     "name": "stderr",
     "output_type": "stream",
     "text": [
      "معالجة الاستعلامات: 100%|██████████| 176/176 [09:23<00:00,  3.20s/استعلام]"
     ]
    },
    {
     "name": "stdout",
     "output_type": "stream",
     "text": [
      "Total documents in doc_data: 403666\n",
      "Sample doc_ids: ['2020338_0', '2020338_1', '2020338_2', '2020338_3', '2874684_0']\n",
      "Top indices: [  5425 268205 264961 321528 255213]\n",
      "Selected document at doc_id 4250745_1, similarity: 0.49015477299690247, text: ['christmas', 'become', 'cultural', 'holiday', 'associate', 'spend', 'time', 'family', 'christian', 'holiday', 'also', 'government', 'holiday', 'way', 'tradition', 'american', 'culture', 'spend', 'time', 'families', 'church', 'give', 'idea', 'christmas', 'encourage', 'close', 'christmas', 'sunday', 'church', 'leader', 'tradition', 'always', 'worship', 'sunday', 'always', 'worship', 'christmas', 'church', 'open', 'doesnt', 'make', 'better', 'anyone', 'else', 'see', 'christmas', 'holiday', 'church', 'rather', 'family', 'holiday', 'like', 'mother', 'day', 'something']\n",
      "Selected document at doc_id 1122680_2, similarity: 0.47434306144714355, text: ['hear', 'lady', 'radio', 'day', 'say', 'love', 'christmas', 'love', 'tree', 'gift', 'season', 'santa', 'wish', 'theyd', 'take', 'whole', 'religion', 'thing', 'hmmm', 'let', 'see', 'etymology', 'christmas', 'christ', 'messiah', 'mass', 'celebration', 'christmas', 'directly', 'mean', 'celebration', 'messiah', 'secular', 'society', 'want', 'celebrate', 'christmas', 'problem', 'dont', 'try', 'force', 'christians', 'remove', 'basis', 'celebration', 'yes', 'know', 'christians', 'start', 'holiday', 'days', 'celebration', 'winter', 'solstice', 'order', 'help', 'new', 'convert', 'europe', 'adjust', 'yes', 'know', 'jesus', 'probably', 'bear', 'sometime', 'spring', 'however', 'day', 'christians', 'choose', 'acknowledge', 'saviors', 'birth', 'want', 'celebrate', 'winter', 'solstice', '21st22nd']\n",
      "Selected document at doc_id 3829664_10, similarity: 0.47397464513778687, text: ['not', 'best', 'person', 'answer', 'practice', 'catholic', 'guess', 'parent', 'raise', 'christian', 'family', 'december', 'either', 'live', 'christian', 'country', 'decide', 'didnt', 'want', 'leave', 'either', 'way', 'entirely', 'beauty', 'free', 'society', 'free', 'believe', 'celebrate', 'whatever', 'like', 'long', 'doesnt', 'cause', 'offence', 'hurt', 'others', 'thats', 'christian', 'talk', 'whatever', 'reason', 'feel', 'free', 'enjoy', 'part', 'long', 'midnight', 'mass', 'christmas', 'eve', 'ill', 'enjoy', 'christmas', 'know', 'work', 'last', 'christmas', 'day', 'didnt', 'feel', 'like', 'miss', 'still', 'important', 'part', 'happy', 'christmas']\n",
      "Selected document at doc_id 4274147_2, similarity: 0.4674302339553833, text: ['key', 'christmas', 'remember', 'suppose', 'celebrate', 'birth', 'jesus', 'christ', 'werent', 'christ', 'would', 'christmas', 'key', 'keep', 'christ', 'center', 'christmas', 'keep', 'eye', 'not', 'let', 'distract', 'everything', 'else', 'go', 'know', 'thats', 'easier', 'say', 'do', 'christmas', 'grow', 'increasingly', 'busy', 'secular', 'christ', 'easily', 'get', 'crowd', 'activities', 'stress', 'material', 'things', 'family', 'celebrate', 'christmas', 'take', 'time', 'turn', 'attention', 'christ', 'church', 'family', 'take', 'time', 'also', 'read', 'one', 'bibles', 'account', 'christs', 'birth', 'perhaps', 'around', 'dinner', 'table', 'find', 'first', 'two', 'chapters', 'matthew', 'second', 'chapter', 'luke', 'stop', 'reflect', 'jesus', 'birth', 'important', 'simply', 'great', 'manor', 'bible', 'say', 'god', 'human', 'flesh', 'think', 'two', 'thousand', 'years', 'ago', 'god', 'come', 'heaven', 'become', 'little', 'baby', 'word', 'become', 'flesh', 'make', 'dwell', 'among', 'see', 'glory', 'glory', 'one', 'come', 'father', 'full', 'grace', 'truth', 'john', '114', 'didnt', 'stay', 'infant', 'go', 'cross', 'could', 'become', 'part', 'family', 'forever', 'put', 'faith']\n",
      "Selected document at doc_id 733161_5, similarity: 0.46595850586891174, text: ['christmas', 'not', 'day', 'jesuss', 'birth']\n",
      "Additional words from top 5 documents: become cultural holiday associate\n",
      "🔍 Enhanced Query: Why do some people only go to church on Easter Sunday and never go again until Christmas ? become cultural holiday associate\n",
      "Enhanced queries saved to enhanced_queries.csv\n"
     ]
    },
    {
     "name": "stderr",
     "output_type": "stream",
     "text": [
      "\n"
     ]
    }
   ],
   "source": [
    "import pandas as pd\n",
    "import os\n",
    "import sqlite3\n",
    "import numpy as np\n",
    "import joblib\n",
    "import ast\n",
    "from datetime import datetime\n",
    "import re\n",
    "from nltk.tokenize import word_tokenize\n",
    "from nltk.corpus import stopwords\n",
    "from nltk.stem import WordNetLemmatizer\n",
    "from sklearn.metrics.pairwise import cosine_similarity\n",
    "from tqdm import tqdm\n",
    "\n",
    "# Provided functions (unchanged)\n",
    "def custom_tokenizer(text):\n",
    "    if not isinstance(text, str) or not text.strip():\n",
    "        return []\n",
    "    text = text.lower()\n",
    "    text = re.sub(r'[^\\w\\s]', '', text)  # Remove punctuation\n",
    "    tokens = word_tokenize(text)\n",
    "    stop_words = set(stopwords.words('english')) - {'not', 'no', 'never'}  # Exclude important words\n",
    "    tokens = [token for token in tokens if token not in stop_words and len(token) > 2 and token not in ['example', 'test']]  # Ignore short and specific words\n",
    "    lemmatizer = WordNetLemmatizer()\n",
    "    tokens = [lemmatizer.lemmatize(token, pos='v') for token in tokens]  # Lemmatization\n",
    "    return tokens\n",
    "\n",
    "def preprocess_text(text):\n",
    "    return custom_tokenizer(text)\n",
    "\n",
    "def load_embeddings(dataset_name):\n",
    "    embedding_file = f\"data/{dataset_name}/embeddings_matrix.joblib\"\n",
    "    if os.path.exists(embedding_file):\n",
    "        return joblib.load(embedding_file)\n",
    "    else:\n",
    "        raise FileNotFoundError(f\"Embedding file {embedding_file} not found. Please generate embeddings first.\")\n",
    "\n",
    "def enhance_query(query, dataset_name, model, enhance=True):\n",
    "    processed_query = preprocess_text(query)\n",
    "    log_file = f\"logs/preproc_log_{datetime.now().strftime('%Y%m%d_%H%M%S')}.txt\"\n",
    "    \n",
    "    if enhance:\n",
    "        query_embeddings = load_embeddings(dataset_name)\n",
    "        if len(query_embeddings) == 0:\n",
    "            print(f\"No query embeddings available for {dataset_name}\")\n",
    "            with open(log_file, \"a\", encoding=\"utf-8\") as log:\n",
    "                log.write(f\"No query embeddings available for {dataset_name} at {datetime.now()}\\n\")\n",
    "            return query, processed_query\n",
    "\n",
    "        query_text = ' '.join(processed_query)\n",
    "        query_vector = model.encode([query_text], convert_to_numpy=True)\n",
    "        similarities = cosine_similarity(query_vector, query_embeddings)[0]\n",
    "        top_indices = np.argsort(similarities)[::-1][:5]\n",
    "        print(f\"Top similarities: {similarities[top_indices]}\")\n",
    "        with open(log_file, \"a\", encoding=\"utf-8\") as log:\n",
    "            log.write(f\"Top similarities for {dataset_name}: {similarities[top_indices]} at {datetime.now()}\\n\")\n",
    "\n",
    "        db_file = f\"data/{dataset_name}/index.db\"\n",
    "        if not os.path.exists(db_file):\n",
    "            print(f\"Error: Database file {db_file} not found\")\n",
    "            with open(log_file, \"a\", encoding=\"utf-8\") as log:\n",
    "                log.write(f\"Error: Database file {db_file} not found at {datetime.now()}\\n\")\n",
    "            return query, processed_query\n",
    "\n",
    "        mapping_file = f\"data/{dataset_name}/doc_id_mapping.joblib\"\n",
    "        if not os.path.exists(mapping_file):\n",
    "            print(f\"Error: Mapping file {mapping_file} not found\")\n",
    "            with open(log_file, \"a\", encoding=\"utf-8\") as log:\n",
    "                log.write(f\"Error: Mapping file {mapping_file} not found at {datetime.now()}\\n\")\n",
    "            return query, processed_query\n",
    "\n",
    "        try:\n",
    "            index_to_doc_id = joblib.load(mapping_file)\n",
    "            print(f\"Loaded doc_id_mapping with {len(index_to_doc_id)} entries\")\n",
    "            with open(log_file, \"a\", encoding=\"utf-8\") as log:\n",
    "                log.write(f\"Loaded doc_id_mapping with {len(index_to_doc_id)} entries at {datetime.now()}\\n\")\n",
    "        except Exception as e:\n",
    "            print(f\"Error-Error loading doc_id: {str(e)}\")\n",
    "            with open(log_file, \"a\", encoding=\"utf-8\") as log:\n",
    "                log.write(f\"Error loading doc_id_mapping: {str(e)} at {datetime.now()}\\n\")\n",
    "            return query, processed_query\n",
    "\n",
    "        try:\n",
    "            conn = sqlite3.connect(db_file)\n",
    "            cursor = conn.cursor()\n",
    "            cursor.execute('SELECT doc_id, processed_text FROM documents')\n",
    "            doc_data = {row[0]: row[1] for row in cursor.fetchall()}\n",
    "            conn.close()\n",
    "\n",
    "            if not doc_data:\n",
    "                print(f\"Warning: No processed documents found in database for {dataset_name}\")\n",
    "                with open(log_file, \"a\", encoding=\"utf-8\") as log:\n",
    "                    log.write(f\"No processed documents found in database for {dataset_name} at {datetime.now()}\\n\")\n",
    "                return query, processed_query\n",
    "\n",
    "            print(f\"Total documents in doc_data: {len(doc_data)}\")\n",
    "            print(f\"Sample doc_ids: {list(doc_data.keys())[:5]}\")\n",
    "            print(f\"Top indices: {top_indices}\")\n",
    "\n",
    "            similar_queries = []\n",
    "            max_add = 5\n",
    "            added = 0\n",
    "            top_doc_words = []\n",
    "\n",
    "            for idx in top_indices:\n",
    "                doc_id = index_to_doc_id.get(idx)\n",
    "                if doc_id is None:\n",
    "                    print(f\"Warning: No doc_id mapped for index {idx}\")\n",
    "                    with open(log_file, \"a\", encoding=\"utf-8\") as log:\n",
    "                        log.write(f\"No doc_id mapped for index {idx} at {datetime.now()}\\n\")\n",
    "                    continue\n",
    "\n",
    "                if doc_id in doc_data:\n",
    "                    try:\n",
    "                        sim_score = similarities[idx]\n",
    "                        if 0.4 < sim_score < 0.999:\n",
    "                            processed_query_text = ast.literal_eval(doc_data[doc_id]) if doc_data[doc_id] else []\n",
    "                            if not processed_query_text:\n",
    "                                print(f\"Warning: Empty processed_text for doc_id {doc_id}\")\n",
    "                                with open(log_file, \"a\", encoding=\"utf-8\") as log:\n",
    "                                    log.write(f\"Empty processed_text for doc_id {doc_id} at {datetime.now()}\\n\")\n",
    "                                continue\n",
    "                            print(f\"Selected document at doc_id {doc_id}, similarity: {sim_score}, text: {processed_query_text}\")\n",
    "                            with open(log_file, \"a\", encoding=\"utf-8\") as log:\n",
    "                                log.write(f\"Selected document at doc_id {doc_id}, similarity: {sim_score}, text: {processed_query_text} at {datetime.now()}\\n\")\n",
    "                            similar_queries.append(processed_query_text)\n",
    "                            top_doc_words.extend(processed_query_text)\n",
    "                            added += 1\n",
    "                            if added >= max_add:\n",
    "                                break\n",
    "                    except (ValueError, SyntaxError) as e:\n",
    "                        print(f\"Error parsing processed_text at doc_id {doc_id}: {str(e)}\")\n",
    "                        with open(log_file, \"a\", encoding=\"utf-8\") as log:\n",
    "                            log.write(f\"Error parsing processed_text at doc_id {doc_id}: {str(e)} at {datetime.now()}\\n\")\n",
    "                        continue\n",
    "                else:\n",
    "                    print(f\"Warning: doc_id {doc_id} not found in doc_data\")\n",
    "\n",
    "            if not similar_queries:\n",
    "                print(f\"No similar documents found for {dataset_name} with sufficient similarity\")\n",
    "                with open(log_file, \"a\", encoding=\"utf-8\") as log:\n",
    "                    log.write(f\"No similar documents found for {dataset_name} with sufficient similarity at {datetime.now()}\\n\")\n",
    "                return query, processed_query\n",
    "\n",
    "            new_words = []\n",
    "            seen = set(processed_query)\n",
    "            for word in top_doc_words:\n",
    "                if word not in seen and word not in new_words:\n",
    "                    new_words.append(word)\n",
    "                    if len(new_words) >= 4:\n",
    "                        break \n",
    "\n",
    "            additional_words = ' '.join(new_words)\n",
    "            print(f\"Additional words from top 5 documents: {additional_words}\")\n",
    "            with open(log_file, \"a\", encoding=\"utf-8\") as log:\n",
    "                log.write(f\"Additional words for {dataset_name}: {additional_words} at {datetime.now()}\\n\")\n",
    "\n",
    "            if additional_words:\n",
    "                enhanced_query = query + ' ' + additional_words\n",
    "                print(f\"🔍 Enhanced Query: {enhanced_query}\")\n",
    "                with open(log_file, \"a\", encoding=\"utf-8\") as log:\n",
    "                    log.write(f\"Enhanced Query for {dataset_name}: {enhanced_query} at {datetime.now()}\\n\")\n",
    "            else:\n",
    "                enhanced_query = query\n",
    "                print(f\"No new words to add to query for {dataset_name}\")\n",
    "                with open(log_file, \"a\", encoding=\"utf-8\") as log:\n",
    "                    log.write(f\"No new words to add to query for {dataset_name} at {datetime.now()}\\n\")\n",
    "\n",
    "        except Exception as e:\n",
    "            print(f\"Error enhancing query for {dataset_name}: {str(e)}\")\n",
    "            with open(log_file, \"a\", encoding=\"utf-8\") as log:\n",
    "                log.write(f\"Error enhancing query for {dataset_name}: {str(e)} at {datetime.now()}\\n\")\n",
    "            if 'conn' in locals():\n",
    "                conn.close()\n",
    "            enhanced_query = query\n",
    "\n",
    "        return enhanced_query, processed_query\n",
    "\n",
    "    return query, processed_query\n",
    "\n",
    "def process_csv(input_csv, output_csv, dataset_name, model):\n",
    "    # Ensure logs directory exists\n",
    "    os.makedirs(\"logs\", exist_ok=True)\n",
    "    \n",
    "    # Read the input CSV\n",
    "    try:\n",
    "        df = pd.read_csv(input_csv)\n",
    "        print(f\"Loaded CSV file: {input_csv}\")\n",
    "    except Exception as e:\n",
    "        print(f\"Error reading CSV file {input_csv}: {str(e)}\")\n",
    "        return\n",
    "\n",
    "    # Ensure the text column exists\n",
    "    if 'text' not in df.columns:\n",
    "        print(\"Error: 'text' column not found in CSV\")\n",
    "        return\n",
    "\n",
    "    # Process each query with tqdm progress bar\n",
    "    enhanced_queries = []\n",
    "    processed_queries = []\n",
    "    \n",
    "    for query in tqdm(df['text'], desc=\"معالجة الاستعلامات\", unit=\"استعلام\"):\n",
    "        enhanced_query, processed_query = enhance_query(query, dataset_name, model, enhance=True)\n",
    "        enhanced_queries.append(enhanced_query)\n",
    "        processed_queries.append(' '.join(processed_query))\n",
    "\n",
    "    # Create a new DataFrame with the same columns\n",
    "    result_df = df.copy()\n",
    "    result_df['text'] = enhanced_queries\n",
    "    result_df['processed_query'] = processed_queries\n",
    "\n",
    "    # Save to output CSV\n",
    "    try:\n",
    "        result_df.to_csv(output_csv, index=False, encoding='utf-8')\n",
    "        print(f\"Enhanced queries saved to {output_csv}\")\n",
    "    except Exception as e:\n",
    "        print(f\"Error saving CSV file {output_csv}: {str(e)}\")\n",
    "\n",
    "# Example usage\n",
    "if __name__ == \"__main__\":\n",
    "    from sentence_transformers import SentenceTransformer\n",
    "    \n",
    "    # Load the model\n",
    "    model = SentenceTransformer('all-mpnet-base-v2')\n",
    "    dataset_name = \"antique\"\n",
    "    input_csv = r\"data\\antique\\queries_antique.csv\"\n",
    "    output_csv = \"enhanced_queries.csv\"\n",
    "    \n",
    "    process_csv(input_csv, output_csv, dataset_name, model)"
   ]
  }
 ],
 "metadata": {
  "kernelspec": {
   "display_name": "venv",
   "language": "python",
   "name": "python3"
  },
  "language_info": {
   "codemirror_mode": {
    "name": "ipython",
    "version": 3
   },
   "file_extension": ".py",
   "mimetype": "text/x-python",
   "name": "python",
   "nbconvert_exporter": "python",
   "pygments_lexer": "ipython3",
   "version": "3.12.1"
  }
 },
 "nbformat": 4,
 "nbformat_minor": 5
}
